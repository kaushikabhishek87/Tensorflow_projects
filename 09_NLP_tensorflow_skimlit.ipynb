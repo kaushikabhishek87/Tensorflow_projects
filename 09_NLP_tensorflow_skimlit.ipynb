{
  "nbformat": 4,
  "nbformat_minor": 0,
  "metadata": {
    "colab": {
      "name": "09_NLP_tensorflow_skimlit.ipynb",
      "provenance": [],
      "collapsed_sections": [],
      "authorship_tag": "ABX9TyOWRwf3azvigBu/ae7jHx+a",
      "include_colab_link": true
    },
    "kernelspec": {
      "name": "python3",
      "display_name": "Python 3"
    },
    "language_info": {
      "name": "python"
    }
  },
  "cells": [
    {
      "cell_type": "markdown",
      "metadata": {
        "id": "view-in-github",
        "colab_type": "text"
      },
      "source": [
        "<a href=\"https://colab.research.google.com/github/kaushikabhishek87/Tensorflow_projects/blob/main/09_NLP_tensorflow_skimlit.ipynb\" target=\"_parent\"><img src=\"https://colab.research.google.com/assets/colab-badge.svg\" alt=\"Open In Colab\"/></a>"
      ]
    },
    {
      "cell_type": "code",
      "metadata": {
        "colab": {
          "base_uri": "https://localhost:8080/"
        },
        "id": "qcHsD-eefNCV",
        "outputId": "bfc6ac9f-8788-40eb-963c-bb2091244916"
      },
      "source": [
        "!nvidia-smi -L"
      ],
      "execution_count": 1,
      "outputs": [
        {
          "output_type": "stream",
          "text": [
            "NVIDIA-SMI has failed because it couldn't communicate with the NVIDIA driver. Make sure that the latest NVIDIA driver is installed and running.\n",
            "\n"
          ],
          "name": "stdout"
        }
      ]
    },
    {
      "cell_type": "code",
      "metadata": {
        "colab": {
          "base_uri": "https://localhost:8080/"
        },
        "id": "yCBlcOc9nY-x",
        "outputId": "e7597839-a9c2-4857-cf0e-89b4eaf7682a"
      },
      "source": [
        "!git clone  https://github.com/Franck-Dernoncourt/pubmed-rct\n",
        "!ls pubmed-rct\n"
      ],
      "execution_count": 2,
      "outputs": [
        {
          "output_type": "stream",
          "text": [
            "Cloning into 'pubmed-rct'...\n",
            "remote: Enumerating objects: 33, done.\u001b[K\n",
            "remote: Counting objects: 100% (3/3), done.\u001b[K\n",
            "remote: Compressing objects: 100% (3/3), done.\u001b[K\n",
            "remote: Total 33 (delta 0), reused 0 (delta 0), pack-reused 30\u001b[K\n",
            "Unpacking objects: 100% (33/33), done.\n",
            "PubMed_200k_RCT\n",
            "PubMed_200k_RCT_numbers_replaced_with_at_sign\n",
            "PubMed_20k_RCT\n",
            "PubMed_20k_RCT_numbers_replaced_with_at_sign\n",
            "README.md\n"
          ],
          "name": "stdout"
        }
      ]
    },
    {
      "cell_type": "code",
      "metadata": {
        "colab": {
          "base_uri": "https://localhost:8080/"
        },
        "id": "9L9sXLB2oAR3",
        "outputId": "0dc4b753-f076-43e3-8131-8f75997dfc75"
      },
      "source": [
        "!ls /content/pubmed-rct/PubMed_20k_RCT_numbers_replaced_with_at_sign"
      ],
      "execution_count": 3,
      "outputs": [
        {
          "output_type": "stream",
          "text": [
            "dev.txt  test.txt  train.txt\n"
          ],
          "name": "stdout"
        }
      ]
    },
    {
      "cell_type": "code",
      "metadata": {
        "id": "xB07ee6Jouv7"
      },
      "source": [
        "import pandas as pd"
      ],
      "execution_count": 4,
      "outputs": []
    },
    {
      "cell_type": "code",
      "metadata": {
        "id": "WFvVAHNSqS-i"
      },
      "source": [
        "data_dir = \"/content/pubmed-rct/PubMed_20k_RCT_numbers_replaced_with_at_sign/\""
      ],
      "execution_count": 5,
      "outputs": []
    },
    {
      "cell_type": "code",
      "metadata": {
        "id": "4pts_Rg0qai9"
      },
      "source": [
        "import os\n",
        "filenames = [data_dir + filename for filename in os.listdir(data_dir)]"
      ],
      "execution_count": 6,
      "outputs": []
    },
    {
      "cell_type": "code",
      "metadata": {
        "colab": {
          "base_uri": "https://localhost:8080/"
        },
        "id": "0jYllVNeqg1O",
        "outputId": "154a3608-8370-48d9-f9e0-36b5a8a0dda3"
      },
      "source": [
        "filenames"
      ],
      "execution_count": 7,
      "outputs": [
        {
          "output_type": "execute_result",
          "data": {
            "text/plain": [
              "['/content/pubmed-rct/PubMed_20k_RCT_numbers_replaced_with_at_sign/dev.txt',\n",
              " '/content/pubmed-rct/PubMed_20k_RCT_numbers_replaced_with_at_sign/test.txt',\n",
              " '/content/pubmed-rct/PubMed_20k_RCT_numbers_replaced_with_at_sign/train.txt']"
            ]
          },
          "metadata": {
            "tags": []
          },
          "execution_count": 7
        }
      ]
    },
    {
      "cell_type": "code",
      "metadata": {
        "id": "uLKa70XmqiAT"
      },
      "source": [
        "### reading data\n",
        "def get_lines(filename):\n",
        "  \"\"\"\n",
        "  Reads filename & returns line as a list\n",
        "  \n",
        "  Args:\n",
        "    filename\n",
        "\n",
        "  Returns:\n",
        "    A list of strings\n",
        "  \"\"\"\n",
        "  with open(filename, \"r\") as f:\n",
        "    return f.readlines()\n"
      ],
      "execution_count": 8,
      "outputs": []
    },
    {
      "cell_type": "code",
      "metadata": {
        "colab": {
          "base_uri": "https://localhost:8080/"
        },
        "id": "WhHYcOq-s3W9",
        "outputId": "40cca013-8df8-405c-dd76-f770f6fbbb30"
      },
      "source": [
        "train_lines = get_lines(data_dir+\"train.txt\")\n",
        "train_lines[:20]"
      ],
      "execution_count": 9,
      "outputs": [
        {
          "output_type": "execute_result",
          "data": {
            "text/plain": [
              "['###24293578\\n',\n",
              " 'OBJECTIVE\\tTo investigate the efficacy of @ weeks of daily low-dose oral prednisolone in improving pain , mobility , and systemic low-grade inflammation in the short term and whether the effect would be sustained at @ weeks in older adults with moderate to severe knee osteoarthritis ( OA ) .\\n',\n",
              " 'METHODS\\tA total of @ patients with primary knee OA were randomized @:@ ; @ received @ mg/day of prednisolone and @ received placebo for @ weeks .\\n',\n",
              " 'METHODS\\tOutcome measures included pain reduction and improvement in function scores and systemic inflammation markers .\\n',\n",
              " 'METHODS\\tPain was assessed using the visual analog pain scale ( @-@ mm ) .\\n',\n",
              " 'METHODS\\tSecondary outcome measures included the Western Ontario and McMaster Universities Osteoarthritis Index scores , patient global assessment ( PGA ) of the severity of knee OA , and @-min walk distance ( @MWD ) .\\n',\n",
              " 'METHODS\\tSerum levels of interleukin @ ( IL-@ ) , IL-@ , tumor necrosis factor ( TNF ) - , and high-sensitivity C-reactive protein ( hsCRP ) were measured .\\n',\n",
              " 'RESULTS\\tThere was a clinically relevant reduction in the intervention group compared to the placebo group for knee pain , physical function , PGA , and @MWD at @ weeks .\\n',\n",
              " 'RESULTS\\tThe mean difference between treatment arms ( @ % CI ) was @ ( @-@ @ ) , p < @ ; @ ( @-@ @ ) , p < @ ; @ ( @-@ @ ) , p < @ ; and @ ( @-@ @ ) , p < @ , respectively .\\n',\n",
              " 'RESULTS\\tFurther , there was a clinically relevant reduction in the serum levels of IL-@ , IL-@ , TNF - , and hsCRP at @ weeks in the intervention group when compared to the placebo group .\\n',\n",
              " 'RESULTS\\tThese differences remained significant at @ weeks .\\n',\n",
              " 'RESULTS\\tThe Outcome Measures in Rheumatology Clinical Trials-Osteoarthritis Research Society International responder rate was @ % in the intervention group and @ % in the placebo group ( p < @ ) .\\n',\n",
              " 'CONCLUSIONS\\tLow-dose oral prednisolone had both a short-term and a longer sustained effect resulting in less knee pain , better physical function , and attenuation of systemic inflammation in older patients with knee OA ( ClinicalTrials.gov identifier NCT@ ) .\\n',\n",
              " '\\n',\n",
              " '###24854809\\n',\n",
              " 'BACKGROUND\\tEmotional eating is associated with overeating and the development of obesity .\\n',\n",
              " 'BACKGROUND\\tYet , empirical evidence for individual ( trait ) differences in emotional eating and cognitive mechanisms that contribute to eating during sad mood remain equivocal .\\n',\n",
              " 'OBJECTIVE\\tThe aim of this study was to test if attention bias for food moderates the effect of self-reported emotional eating during sad mood ( vs neutral mood ) on actual food intake .\\n',\n",
              " 'OBJECTIVE\\tIt was expected that emotional eating is predictive of elevated attention for food and higher food intake after an experimentally induced sad mood and that attentional maintenance on food predicts food intake during a sad versus a neutral mood .\\n',\n",
              " 'METHODS\\tParticipants ( N = @ ) were randomly assigned to one of the two experimental mood induction conditions ( sad/neutral ) .\\n']"
            ]
          },
          "metadata": {
            "tags": []
          },
          "execution_count": 9
        }
      ]
    },
    {
      "cell_type": "code",
      "metadata": {
        "colab": {
          "base_uri": "https://localhost:8080/"
        },
        "id": "Dalb9dNQtCZi",
        "outputId": "0ea5d96b-1924-45c7-9809-02803f63e331"
      },
      "source": [
        "len(train_lines)"
      ],
      "execution_count": 10,
      "outputs": [
        {
          "output_type": "execute_result",
          "data": {
            "text/plain": [
              "210040"
            ]
          },
          "metadata": {
            "tags": []
          },
          "execution_count": 10
        }
      ]
    },
    {
      "cell_type": "markdown",
      "metadata": {
        "id": "RniB658Ntn6g"
      },
      "source": [
        " Possible Structure\n",
        "\n",
        "[{\"line\":0,\n",
        "\"target\":\"Background\",\n",
        "\"text\":\"Emotional eating is associated with overeating and the development of obesity\",\n",
        "\"total_lines\":\"11\"},\n",
        "......]\n"
      ]
    },
    {
      "cell_type": "code",
      "metadata": {
        "id": "y1_sCQsJ0BCK"
      },
      "source": [
        "def preprocess_text_with_line_numbers(filename):\n",
        "  \"\"\" \n",
        "  Returns a dictionary of line data.\n",
        "\n",
        "  Arg:\n",
        "    Filenames\n",
        "\n",
        "  Returns:\n",
        "    List of Dictionaries\n",
        "  \"\"\"\n",
        "\n",
        "  input_lines = get_lines(filename)\n",
        "\n",
        "  abstract_lines = \"\" \n",
        "  abstract_samples = [] \n",
        "  \n",
        "  # Loop through each line in target lines\n",
        "  for line in input_lines:\n",
        "    if line.startswith(\"###\"):\n",
        "      abstract_id = line \n",
        "      abstract_lines = \"\"\n",
        "    elif line.isspace():\n",
        "      abstract_line_split = abstract_lines.splitlines()\n",
        "\n",
        "      for abstract_line_number, abstract_line in enumerate(abstract_line_split):\n",
        "        line_data = {}\n",
        "        target_text_split = abstract_line.split(\"\\t\")\n",
        "        line_data[\"target\"] = target_text_split[0]\n",
        "        line_data[\"text\"] = target_text_split[1].lower()\n",
        "        line_data[\"line_number\"] = abstract_line_number\n",
        "        line_data[\"total_lines\"] = len(abstract_line_split) - 1 \n",
        "        abstract_samples.append(line_data)\n",
        "    \n",
        "    else:\n",
        "      abstract_lines+=line \n",
        "\n",
        "  return abstract_samples"
      ],
      "execution_count": 11,
      "outputs": []
    },
    {
      "cell_type": "code",
      "metadata": {
        "colab": {
          "base_uri": "https://localhost:8080/"
        },
        "id": "MuTOPIyd3zlG",
        "outputId": "6c885086-63c6-49b0-d1fd-36dcdda1035b"
      },
      "source": [
        "%%time\n",
        "train_samples = preprocess_text_with_line_numbers(data_dir+\"train.txt\")\n",
        "val_samples = preprocess_text_with_line_numbers(data_dir+\"dev.txt\")\n",
        "test_samples = preprocess_text_with_line_numbers(data_dir+\"test.txt\")\n",
        "\n",
        "print(len(train_samples), len(val_samples), len(test_samples))"
      ],
      "execution_count": 12,
      "outputs": [
        {
          "output_type": "stream",
          "text": [
            "180040 30212 30135\n",
            "CPU times: user 538 ms, sys: 125 ms, total: 663 ms\n",
            "Wall time: 664 ms\n"
          ],
          "name": "stdout"
        }
      ]
    },
    {
      "cell_type": "code",
      "metadata": {
        "colab": {
          "base_uri": "https://localhost:8080/"
        },
        "id": "H1tHS1YW4J-k",
        "outputId": "f493f04e-9e89-4e68-adc6-31d7f5858a9e"
      },
      "source": [
        "train_samples[:14]"
      ],
      "execution_count": 13,
      "outputs": [
        {
          "output_type": "execute_result",
          "data": {
            "text/plain": [
              "[{'line_number': 0,\n",
              "  'target': 'OBJECTIVE',\n",
              "  'text': 'to investigate the efficacy of @ weeks of daily low-dose oral prednisolone in improving pain , mobility , and systemic low-grade inflammation in the short term and whether the effect would be sustained at @ weeks in older adults with moderate to severe knee osteoarthritis ( oa ) .',\n",
              "  'total_lines': 11},\n",
              " {'line_number': 1,\n",
              "  'target': 'METHODS',\n",
              "  'text': 'a total of @ patients with primary knee oa were randomized @:@ ; @ received @ mg/day of prednisolone and @ received placebo for @ weeks .',\n",
              "  'total_lines': 11},\n",
              " {'line_number': 2,\n",
              "  'target': 'METHODS',\n",
              "  'text': 'outcome measures included pain reduction and improvement in function scores and systemic inflammation markers .',\n",
              "  'total_lines': 11},\n",
              " {'line_number': 3,\n",
              "  'target': 'METHODS',\n",
              "  'text': 'pain was assessed using the visual analog pain scale ( @-@ mm ) .',\n",
              "  'total_lines': 11},\n",
              " {'line_number': 4,\n",
              "  'target': 'METHODS',\n",
              "  'text': 'secondary outcome measures included the western ontario and mcmaster universities osteoarthritis index scores , patient global assessment ( pga ) of the severity of knee oa , and @-min walk distance ( @mwd ) .',\n",
              "  'total_lines': 11},\n",
              " {'line_number': 5,\n",
              "  'target': 'METHODS',\n",
              "  'text': 'serum levels of interleukin @ ( il-@ ) , il-@ , tumor necrosis factor ( tnf ) - , and high-sensitivity c-reactive protein ( hscrp ) were measured .',\n",
              "  'total_lines': 11},\n",
              " {'line_number': 6,\n",
              "  'target': 'RESULTS',\n",
              "  'text': 'there was a clinically relevant reduction in the intervention group compared to the placebo group for knee pain , physical function , pga , and @mwd at @ weeks .',\n",
              "  'total_lines': 11},\n",
              " {'line_number': 7,\n",
              "  'target': 'RESULTS',\n",
              "  'text': 'the mean difference between treatment arms ( @ % ci ) was @ ( @-@ @ ) , p < @ ; @ ( @-@ @ ) , p < @ ; @ ( @-@ @ ) , p < @ ; and @ ( @-@ @ ) , p < @ , respectively .',\n",
              "  'total_lines': 11},\n",
              " {'line_number': 8,\n",
              "  'target': 'RESULTS',\n",
              "  'text': 'further , there was a clinically relevant reduction in the serum levels of il-@ , il-@ , tnf - , and hscrp at @ weeks in the intervention group when compared to the placebo group .',\n",
              "  'total_lines': 11},\n",
              " {'line_number': 9,\n",
              "  'target': 'RESULTS',\n",
              "  'text': 'these differences remained significant at @ weeks .',\n",
              "  'total_lines': 11},\n",
              " {'line_number': 10,\n",
              "  'target': 'RESULTS',\n",
              "  'text': 'the outcome measures in rheumatology clinical trials-osteoarthritis research society international responder rate was @ % in the intervention group and @ % in the placebo group ( p < @ ) .',\n",
              "  'total_lines': 11},\n",
              " {'line_number': 11,\n",
              "  'target': 'CONCLUSIONS',\n",
              "  'text': 'low-dose oral prednisolone had both a short-term and a longer sustained effect resulting in less knee pain , better physical function , and attenuation of systemic inflammation in older patients with knee oa ( clinicaltrials.gov identifier nct@ ) .',\n",
              "  'total_lines': 11},\n",
              " {'line_number': 0,\n",
              "  'target': 'BACKGROUND',\n",
              "  'text': 'emotional eating is associated with overeating and the development of obesity .',\n",
              "  'total_lines': 10},\n",
              " {'line_number': 1,\n",
              "  'target': 'BACKGROUND',\n",
              "  'text': 'yet , empirical evidence for individual ( trait ) differences in emotional eating and cognitive mechanisms that contribute to eating during sad mood remain equivocal .',\n",
              "  'total_lines': 10}]"
            ]
          },
          "metadata": {
            "tags": []
          },
          "execution_count": 13
        }
      ]
    },
    {
      "cell_type": "code",
      "metadata": {
        "colab": {
          "base_uri": "https://localhost:8080/",
          "height": 483
        },
        "id": "CLlIW8Nd4mAH",
        "outputId": "0677dd21-4e2b-4191-e246-e750c5b804d1"
      },
      "source": [
        "import pandas as pd\n",
        "train_df = pd.DataFrame(train_samples)\n",
        "val_df = pd.DataFrame(val_samples)\n",
        "test_df = pd.DataFrame(test_samples)\n",
        "\n",
        "train_df.head(14)"
      ],
      "execution_count": 14,
      "outputs": [
        {
          "output_type": "execute_result",
          "data": {
            "text/html": [
              "<div>\n",
              "<style scoped>\n",
              "    .dataframe tbody tr th:only-of-type {\n",
              "        vertical-align: middle;\n",
              "    }\n",
              "\n",
              "    .dataframe tbody tr th {\n",
              "        vertical-align: top;\n",
              "    }\n",
              "\n",
              "    .dataframe thead th {\n",
              "        text-align: right;\n",
              "    }\n",
              "</style>\n",
              "<table border=\"1\" class=\"dataframe\">\n",
              "  <thead>\n",
              "    <tr style=\"text-align: right;\">\n",
              "      <th></th>\n",
              "      <th>target</th>\n",
              "      <th>text</th>\n",
              "      <th>line_number</th>\n",
              "      <th>total_lines</th>\n",
              "    </tr>\n",
              "  </thead>\n",
              "  <tbody>\n",
              "    <tr>\n",
              "      <th>0</th>\n",
              "      <td>OBJECTIVE</td>\n",
              "      <td>to investigate the efficacy of @ weeks of dail...</td>\n",
              "      <td>0</td>\n",
              "      <td>11</td>\n",
              "    </tr>\n",
              "    <tr>\n",
              "      <th>1</th>\n",
              "      <td>METHODS</td>\n",
              "      <td>a total of @ patients with primary knee oa wer...</td>\n",
              "      <td>1</td>\n",
              "      <td>11</td>\n",
              "    </tr>\n",
              "    <tr>\n",
              "      <th>2</th>\n",
              "      <td>METHODS</td>\n",
              "      <td>outcome measures included pain reduction and i...</td>\n",
              "      <td>2</td>\n",
              "      <td>11</td>\n",
              "    </tr>\n",
              "    <tr>\n",
              "      <th>3</th>\n",
              "      <td>METHODS</td>\n",
              "      <td>pain was assessed using the visual analog pain...</td>\n",
              "      <td>3</td>\n",
              "      <td>11</td>\n",
              "    </tr>\n",
              "    <tr>\n",
              "      <th>4</th>\n",
              "      <td>METHODS</td>\n",
              "      <td>secondary outcome measures included the wester...</td>\n",
              "      <td>4</td>\n",
              "      <td>11</td>\n",
              "    </tr>\n",
              "    <tr>\n",
              "      <th>5</th>\n",
              "      <td>METHODS</td>\n",
              "      <td>serum levels of interleukin @ ( il-@ ) , il-@ ...</td>\n",
              "      <td>5</td>\n",
              "      <td>11</td>\n",
              "    </tr>\n",
              "    <tr>\n",
              "      <th>6</th>\n",
              "      <td>RESULTS</td>\n",
              "      <td>there was a clinically relevant reduction in t...</td>\n",
              "      <td>6</td>\n",
              "      <td>11</td>\n",
              "    </tr>\n",
              "    <tr>\n",
              "      <th>7</th>\n",
              "      <td>RESULTS</td>\n",
              "      <td>the mean difference between treatment arms ( @...</td>\n",
              "      <td>7</td>\n",
              "      <td>11</td>\n",
              "    </tr>\n",
              "    <tr>\n",
              "      <th>8</th>\n",
              "      <td>RESULTS</td>\n",
              "      <td>further , there was a clinically relevant redu...</td>\n",
              "      <td>8</td>\n",
              "      <td>11</td>\n",
              "    </tr>\n",
              "    <tr>\n",
              "      <th>9</th>\n",
              "      <td>RESULTS</td>\n",
              "      <td>these differences remained significant at @ we...</td>\n",
              "      <td>9</td>\n",
              "      <td>11</td>\n",
              "    </tr>\n",
              "    <tr>\n",
              "      <th>10</th>\n",
              "      <td>RESULTS</td>\n",
              "      <td>the outcome measures in rheumatology clinical ...</td>\n",
              "      <td>10</td>\n",
              "      <td>11</td>\n",
              "    </tr>\n",
              "    <tr>\n",
              "      <th>11</th>\n",
              "      <td>CONCLUSIONS</td>\n",
              "      <td>low-dose oral prednisolone had both a short-te...</td>\n",
              "      <td>11</td>\n",
              "      <td>11</td>\n",
              "    </tr>\n",
              "    <tr>\n",
              "      <th>12</th>\n",
              "      <td>BACKGROUND</td>\n",
              "      <td>emotional eating is associated with overeating...</td>\n",
              "      <td>0</td>\n",
              "      <td>10</td>\n",
              "    </tr>\n",
              "    <tr>\n",
              "      <th>13</th>\n",
              "      <td>BACKGROUND</td>\n",
              "      <td>yet , empirical evidence for individual ( trai...</td>\n",
              "      <td>1</td>\n",
              "      <td>10</td>\n",
              "    </tr>\n",
              "  </tbody>\n",
              "</table>\n",
              "</div>"
            ],
            "text/plain": [
              "         target  ... total_lines\n",
              "0     OBJECTIVE  ...          11\n",
              "1       METHODS  ...          11\n",
              "2       METHODS  ...          11\n",
              "3       METHODS  ...          11\n",
              "4       METHODS  ...          11\n",
              "5       METHODS  ...          11\n",
              "6       RESULTS  ...          11\n",
              "7       RESULTS  ...          11\n",
              "8       RESULTS  ...          11\n",
              "9       RESULTS  ...          11\n",
              "10      RESULTS  ...          11\n",
              "11  CONCLUSIONS  ...          11\n",
              "12   BACKGROUND  ...          10\n",
              "13   BACKGROUND  ...          10\n",
              "\n",
              "[14 rows x 4 columns]"
            ]
          },
          "metadata": {
            "tags": []
          },
          "execution_count": 14
        }
      ]
    },
    {
      "cell_type": "code",
      "metadata": {
        "colab": {
          "base_uri": "https://localhost:8080/"
        },
        "id": "kIM8XNXh5oKi",
        "outputId": "f93d9cb1-83f5-46ed-ceaa-4d3c87e6e4e7"
      },
      "source": [
        "train_df.target.value_counts()"
      ],
      "execution_count": 15,
      "outputs": [
        {
          "output_type": "execute_result",
          "data": {
            "text/plain": [
              "METHODS        59353\n",
              "RESULTS        57953\n",
              "CONCLUSIONS    27168\n",
              "BACKGROUND     21727\n",
              "OBJECTIVE      13839\n",
              "Name: target, dtype: int64"
            ]
          },
          "metadata": {
            "tags": []
          },
          "execution_count": 15
        }
      ]
    },
    {
      "cell_type": "code",
      "metadata": {
        "colab": {
          "base_uri": "https://localhost:8080/",
          "height": 284
        },
        "id": "bM8DbzWR5uKO",
        "outputId": "a418d82d-e84a-41b3-80f5-96fac61c4bb0"
      },
      "source": [
        "# Length of different lines\n",
        "train_df.total_lines.plot(kind=\"hist\")"
      ],
      "execution_count": 16,
      "outputs": [
        {
          "output_type": "execute_result",
          "data": {
            "text/plain": [
              "<matplotlib.axes._subplots.AxesSubplot at 0x7f6224e2c410>"
            ]
          },
          "metadata": {
            "tags": []
          },
          "execution_count": 16
        },
        {
          "output_type": "display_data",
          "data": {
            "image/png": "[encoded data removed]",
            "text/plain": [
              "<Figure size 432x288 with 1 Axes>"
            ]
          },
          "metadata": {
            "tags": [],
            "needs_background": "light"
          }
        }
      ]
    },
    {
      "cell_type": "markdown",
      "metadata": {
        "id": "fplJcArn583E"
      },
      "source": [
        "## List of Sentences"
      ]
    },
    {
      "cell_type": "code",
      "metadata": {
        "colab": {
          "base_uri": "https://localhost:8080/"
        },
        "id": "03EycL026KZl",
        "outputId": "4ed38886-e2f6-4c49-dadd-ad70e84b3543"
      },
      "source": [
        "train_sentences = train_df[\"text\"].tolist()\n",
        "val_sentences = val_df[\"text\"].tolist()\n",
        "test_sentences = test_df[\"text\"].tolist()\n",
        "\n",
        "print(len(train_sentences), len(val_sentences), len(test_sentences))"
      ],
      "execution_count": 17,
      "outputs": [
        {
          "output_type": "stream",
          "text": [
            "180040 30212 30135\n"
          ],
          "name": "stdout"
        }
      ]
    },
    {
      "cell_type": "code",
      "metadata": {
        "colab": {
          "base_uri": "https://localhost:8080/"
        },
        "id": "ZW3DOh7d6XaK",
        "outputId": "95c35bba-5c61-4626-d239-31fc34f6bde2"
      },
      "source": [
        "train_sentences[:5]"
      ],
      "execution_count": 18,
      "outputs": [
        {
          "output_type": "execute_result",
          "data": {
            "text/plain": [
              "['to investigate the efficacy of @ weeks of daily low-dose oral prednisolone in improving pain , mobility , and systemic low-grade inflammation in the short term and whether the effect would be sustained at @ weeks in older adults with moderate to severe knee osteoarthritis ( oa ) .',\n",
              " 'a total of @ patients with primary knee oa were randomized @:@ ; @ received @ mg/day of prednisolone and @ received placebo for @ weeks .',\n",
              " 'outcome measures included pain reduction and improvement in function scores and systemic inflammation markers .',\n",
              " 'pain was assessed using the visual analog pain scale ( @-@ mm ) .',\n",
              " 'secondary outcome measures included the western ontario and mcmaster universities osteoarthritis index scores , patient global assessment ( pga ) of the severity of knee oa , and @-min walk distance ( @mwd ) .']"
            ]
          },
          "metadata": {
            "tags": []
          },
          "execution_count": 18
        }
      ]
    },
    {
      "cell_type": "markdown",
      "metadata": {
        "id": "_9Qeth5P6a8q"
      },
      "source": [
        "## Make numeric labels"
      ]
    },
    {
      "cell_type": "code",
      "metadata": {
        "id": "185lIu2Nxjxp"
      },
      "source": [
        "from sklearn.preprocessing import OneHotEncoder\n",
        "one_hot_encoder = OneHotEncoder(sparse=False)\n",
        "train_labels_one_hot = one_hot_encoder.fit_transform(train_df[\"target\"].to_numpy().reshape(-1,1))\n",
        "\n",
        "val_labels_one_hot = one_hot_encoder.transform(val_df[\"target\"].to_numpy().reshape(-1,1))\n",
        "test_labels_one_hot = one_hot_encoder.transform(test_df[\"target\"].to_numpy().reshape(-1,1))\n"
      ],
      "execution_count": 19,
      "outputs": []
    },
    {
      "cell_type": "markdown",
      "metadata": {
        "id": "fUdFfsROx0AG"
      },
      "source": [
        "## Lable encode labels"
      ]
    },
    {
      "cell_type": "code",
      "metadata": {
        "id": "vCp9hITmyZ84"
      },
      "source": [
        "from sklearn.preprocessing import LabelEncoder\n",
        "label_encoder = LabelEncoder()\n",
        "train_labels_encoded = label_encoder.fit_transform(train_df[\"target\"].to_numpy())\n",
        "val_labels_encoded = label_encoder.transform(val_df[\"target\"].to_numpy())\n",
        "test_labels_encoded = label_encoder.transform(test_df[\"target\"].to_numpy())\n"
      ],
      "execution_count": 20,
      "outputs": []
    },
    {
      "cell_type": "code",
      "metadata": {
        "id": "zQnpBXHtzK5u",
        "colab": {
          "base_uri": "https://localhost:8080/"
        },
        "outputId": "16b2975d-4823-453c-c4e2-7a4f449e15fa"
      },
      "source": [
        "train_labels_encoded[:8]"
      ],
      "execution_count": 21,
      "outputs": [
        {
          "output_type": "execute_result",
          "data": {
            "text/plain": [
              "array([3, 2, 2, 2, 2, 2, 4, 4])"
            ]
          },
          "metadata": {
            "tags": []
          },
          "execution_count": 21
        }
      ]
    },
    {
      "cell_type": "code",
      "metadata": {
        "colab": {
          "base_uri": "https://localhost:8080/"
        },
        "id": "LR39qyQstHxD",
        "outputId": "92bf107f-f473-4a1f-a642-967f027e56d0"
      },
      "source": [
        "train_labels_one_hot[:8]"
      ],
      "execution_count": 22,
      "outputs": [
        {
          "output_type": "execute_result",
          "data": {
            "text/plain": [
              "array([[0., 0., 0., 1., 0.],\n",
              "       [0., 0., 1., 0., 0.],\n",
              "       [0., 0., 1., 0., 0.],\n",
              "       [0., 0., 1., 0., 0.],\n",
              "       [0., 0., 1., 0., 0.],\n",
              "       [0., 0., 1., 0., 0.],\n",
              "       [0., 0., 0., 0., 1.],\n",
              "       [0., 0., 0., 0., 1.]])"
            ]
          },
          "metadata": {
            "tags": []
          },
          "execution_count": 22
        }
      ]
    },
    {
      "cell_type": "code",
      "metadata": {
        "colab": {
          "base_uri": "https://localhost:8080/"
        },
        "id": "7A1GpoYDtPAf",
        "outputId": "5ea8e045-cfc6-458e-8622-dc66384b2a3e"
      },
      "source": [
        "# Get class name & number of classes\n",
        "num_classes = len(label_encoder.classes_)\n",
        "class_names = label_encoder.classes_\n",
        "num_classes, class_names"
      ],
      "execution_count": 23,
      "outputs": [
        {
          "output_type": "execute_result",
          "data": {
            "text/plain": [
              "(5, array(['BACKGROUND', 'CONCLUSIONS', 'METHODS', 'OBJECTIVE', 'RESULTS'],\n",
              "       dtype=object))"
            ]
          },
          "metadata": {
            "tags": []
          },
          "execution_count": 23
        }
      ]
    },
    {
      "cell_type": "markdown",
      "metadata": {
        "id": "waPfah8b0C6r"
      },
      "source": [
        "## Model 0 - Navie Bayes"
      ]
    },
    {
      "cell_type": "code",
      "metadata": {
        "colab": {
          "base_uri": "https://localhost:8080/"
        },
        "id": "1WtHju2P0oCR",
        "outputId": "a0af7fe4-bf62-46ff-eb68-27aab2d81b68"
      },
      "source": [
        "from sklearn.feature_extraction.text import TfidfVectorizer\n",
        "from sklearn.naive_bayes import MultinomialNB\n",
        "from sklearn.pipeline import Pipeline\n",
        "\n",
        "model_0 = Pipeline([\n",
        "    (\"text_vectorizer\", TfidfVectorizer()),\n",
        "    (\"navie_bayes\",MultinomialNB())\n",
        "])\n",
        "\n",
        "model_0.fit(train_sentences, train_labels_encoded)"
      ],
      "execution_count": 24,
      "outputs": [
        {
          "output_type": "execute_result",
          "data": {
            "text/plain": [
              "Pipeline(memory=None,\n",
              "         steps=[('text_vectorizer',\n",
              "                 TfidfVectorizer(analyzer='word', binary=False,\n",
              "                                 decode_error='strict',\n",
              "                                 dtype=<class 'numpy.float64'>,\n",
              "                                 encoding='utf-8', input='content',\n",
              "                                 lowercase=True, max_df=1.0, max_features=None,\n",
              "                                 min_df=1, ngram_range=(1, 1), norm='l2',\n",
              "                                 preprocessor=None, smooth_idf=True,\n",
              "                                 stop_words=None, strip_accents=None,\n",
              "                                 sublinear_tf=False,\n",
              "                                 token_pattern='(?u)\\\\b\\\\w\\\\w+\\\\b',\n",
              "                                 tokenizer=None, use_idf=True,\n",
              "                                 vocabulary=None)),\n",
              "                ('navie_bayes',\n",
              "                 MultinomialNB(alpha=1.0, class_prior=None, fit_prior=True))],\n",
              "         verbose=False)"
            ]
          },
          "metadata": {
            "tags": []
          },
          "execution_count": 24
        }
      ]
    },
    {
      "cell_type": "code",
      "metadata": {
        "colab": {
          "base_uri": "https://localhost:8080/"
        },
        "id": "bzjn3FMz13ub",
        "outputId": "fffa65af-a7e2-4fa8-f0e0-58a51ba65174"
      },
      "source": [
        "model_0.score(val_sentences, val_labels_encoded)"
      ],
      "execution_count": 25,
      "outputs": [
        {
          "output_type": "execute_result",
          "data": {
            "text/plain": [
              "0.7218323844829869"
            ]
          },
          "metadata": {
            "tags": []
          },
          "execution_count": 25
        }
      ]
    },
    {
      "cell_type": "code",
      "metadata": {
        "colab": {
          "base_uri": "https://localhost:8080/"
        },
        "id": "E9oeilMo2Ypx",
        "outputId": "c45dfb2c-7ee7-4a8b-ffdb-325eb71a641a"
      },
      "source": [
        "# make predictions\n",
        "baseline_preds = model_0.predict(val_sentences)\n",
        "baseline_preds"
      ],
      "execution_count": 26,
      "outputs": [
        {
          "output_type": "execute_result",
          "data": {
            "text/plain": [
              "array([4, 1, 3, ..., 4, 4, 1])"
            ]
          },
          "metadata": {
            "tags": []
          },
          "execution_count": 26
        }
      ]
    },
    {
      "cell_type": "code",
      "metadata": {
        "id": "sRrqoIjY2sUR"
      },
      "source": [
        "from sklearn.metrics import accuracy_score, precision_score, f1_score, precision_recall_fscore_support\n",
        "\n",
        "def calculate_results(y_true, y_pred):\n",
        "\n",
        "  \"\"\"\n",
        "  Calculates Models accuracy, precision, recall & return a dictionary\n",
        "  \"\"\"\n",
        "\n",
        "  # accuracy  = round(accuracy_score(y_true, y_pred),2)\n",
        "  # precision = round(precision_score(y_true, y_pred),2)\n",
        "  # f1_score_val = round(f1_score(y_true, y_pred),2)\n",
        "\n",
        "  model_accuracy = accuracy_score(y_true, y_pred)\n",
        "\n",
        "  model_precision, model_recall, model_fscore , _ = precision_recall_fscore_support(y_true, y_pred, average=\"weighted\")\n",
        "\n",
        "  model_results = {\"accuracy\": round(model_accuracy,2),\n",
        "                   \"precision\":round(model_precision,2),\n",
        "                   \"recall\":round(model_recall,2),\n",
        "                   \"f1\":round(model_fscore,2)}\n",
        "\n",
        "  return model_results"
      ],
      "execution_count": 27,
      "outputs": []
    },
    {
      "cell_type": "code",
      "metadata": {
        "colab": {
          "base_uri": "https://localhost:8080/"
        },
        "id": "oPypg7dc20Q1",
        "outputId": "039a70fa-ab47-4fa0-bcb6-227fc3f73071"
      },
      "source": [
        "baseline_results = calculate_results(val_labels_encoded, baseline_preds)\n",
        "baseline_results"
      ],
      "execution_count": 28,
      "outputs": [
        {
          "output_type": "execute_result",
          "data": {
            "text/plain": [
              "{'accuracy': 0.72, 'f1': 0.7, 'precision': 0.72, 'recall': 0.72}"
            ]
          },
          "metadata": {
            "tags": []
          },
          "execution_count": 28
        }
      ]
    },
    {
      "cell_type": "markdown",
      "metadata": {
        "id": "BgJWKUam3BVh"
      },
      "source": [
        "## Creating TextVectorizer"
      ]
    },
    {
      "cell_type": "code",
      "metadata": {
        "id": "k1fYIpRo3WU2"
      },
      "source": [
        "import tensorflow as tf\n",
        "from tensorflow.keras.layers.experimental.preprocessing import TextVectorization\n",
        "import numpy as np"
      ],
      "execution_count": 29,
      "outputs": []
    },
    {
      "cell_type": "markdown",
      "metadata": {
        "id": "1OjquFsT4whv"
      },
      "source": [
        ""
      ]
    },
    {
      "cell_type": "code",
      "metadata": {
        "colab": {
          "base_uri": "https://localhost:8080/"
        },
        "id": "8_-4qgYp36hM",
        "outputId": "d30f1358-4e98-49a9-fae7-67f84ac1eb77"
      },
      "source": [
        "max_length = int(sum([len(i.split()) for i in train_sentences])/len(train_sentences))\n",
        "max_length"
      ],
      "execution_count": 30,
      "outputs": [
        {
          "output_type": "execute_result",
          "data": {
            "text/plain": [
              "26"
            ]
          },
          "metadata": {
            "tags": []
          },
          "execution_count": 30
        }
      ]
    },
    {
      "cell_type": "code",
      "metadata": {
        "colab": {
          "base_uri": "https://localhost:8080/"
        },
        "id": "D85Q0FQ44qi9",
        "outputId": "3f13fc52-de9a-4260-8c51-12b163131ba8"
      },
      "source": [
        "sent_length = [len(i.split()) for i in train_sentences]\n",
        "int(np.mean(sent_length))"
      ],
      "execution_count": 31,
      "outputs": [
        {
          "output_type": "execute_result",
          "data": {
            "text/plain": [
              "26"
            ]
          },
          "metadata": {
            "tags": []
          },
          "execution_count": 31
        }
      ]
    },
    {
      "cell_type": "code",
      "metadata": {
        "colab": {
          "base_uri": "https://localhost:8080/",
          "height": 401
        },
        "id": "nfgh4fzC4qc0",
        "outputId": "e699afe8-6f03-4992-c626-de53362a8edc"
      },
      "source": [
        "import matplotlib.pyplot as plt\n",
        "plt.hist(sent_length, bins=20)"
      ],
      "execution_count": 32,
      "outputs": [
        {
          "output_type": "execute_result",
          "data": {
            "text/plain": [
              "(array([4.2075e+04, 8.3771e+04, 3.6877e+04, 1.0945e+04, 3.9310e+03,\n",
              "        1.4450e+03, 5.6000e+02, 2.2600e+02, 1.0100e+02, 4.5000e+01,\n",
              "        2.0000e+01, 1.2000e+01, 9.0000e+00, 1.0000e+01, 6.0000e+00,\n",
              "        2.0000e+00, 3.0000e+00, 0.0000e+00, 1.0000e+00, 1.0000e+00]),\n",
              " array([  1.  ,  15.75,  30.5 ,  45.25,  60.  ,  74.75,  89.5 , 104.25,\n",
              "        119.  , 133.75, 148.5 , 163.25, 178.  , 192.75, 207.5 , 222.25,\n",
              "        237.  , 251.75, 266.5 , 281.25, 296.  ]),\n",
              " <a list of 20 Patch objects>)"
            ]
          },
          "metadata": {
            "tags": []
          },
          "execution_count": 32
        },
        {
          "output_type": "display_data",
          "data": {
            "image/png": "[encoded data removed]",
            "text/plain": [
              "<Figure size 432x288 with 1 Axes>"
            ]
          },
          "metadata": {
            "tags": [],
            "needs_background": "light"
          }
        }
      ]
    },
    {
      "cell_type": "code",
      "metadata": {
        "colab": {
          "base_uri": "https://localhost:8080/"
        },
        "id": "o-Omz9sy4qTu",
        "outputId": "c448f548-4983-44d3-85f1-b964762f5529"
      },
      "source": [
        "output_seq_len = int(np.percentile(sent_length,95))\n",
        "output_seq_len "
      ],
      "execution_count": 33,
      "outputs": [
        {
          "output_type": "execute_result",
          "data": {
            "text/plain": [
              "55"
            ]
          },
          "metadata": {
            "tags": []
          },
          "execution_count": 33
        }
      ]
    },
    {
      "cell_type": "code",
      "metadata": {
        "id": "wuM3RgB33g9f"
      },
      "source": [
        "max_tokens = 68000 # From paper\n",
        "text_vectorizer = TextVectorization(max_tokens=max_tokens, output_sequence_length=output_seq_len )"
      ],
      "execution_count": 34,
      "outputs": []
    },
    {
      "cell_type": "code",
      "metadata": {
        "id": "ZPZFwt4K4k4Y"
      },
      "source": [
        "text_vectorizer.adapt(train_sentences)"
      ],
      "execution_count": 35,
      "outputs": []
    },
    {
      "cell_type": "code",
      "metadata": {
        "colab": {
          "base_uri": "https://localhost:8080/"
        },
        "id": "r8Oqhb8g6DJ-",
        "outputId": "25f7e8ff-2743-471a-c9ee-6c4938562014"
      },
      "source": [
        "text_vectorizer([train_sentences[0]])"
      ],
      "execution_count": 36,
      "outputs": [
        {
          "output_type": "execute_result",
          "data": {
            "text/plain": [
              "<tf.Tensor: shape=(1, 55), dtype=int64, numpy=\n",
              "array([[   6,  331,    2,   79,    4,   53,    4,  161, 1127,  217, 2535,\n",
              "           5,  557,   65, 1584,    3,  670, 5559,  636,    5,    2,  654,\n",
              "        1137,    3,  180,    2,   70,  495,   36,  781,   15,   53,    5,\n",
              "         350,  266,    7,  362,    6,  289,  517, 1430, 1743,    0,    0,\n",
              "           0,    0,    0,    0,    0,    0,    0,    0,    0,    0,    0]])>"
            ]
          },
          "metadata": {
            "tags": []
          },
          "execution_count": 36
        }
      ]
    },
    {
      "cell_type": "code",
      "metadata": {
        "colab": {
          "base_uri": "https://localhost:8080/"
        },
        "id": "cjo1vpYS6RZ6",
        "outputId": "9fc1b980-fbf8-4eee-ea72-5ceac9a752b6"
      },
      "source": [
        "rct_20k_text_vocab = len(text_vectorizer.get_vocabulary())\n",
        "rct_20k_text_vocab"
      ],
      "execution_count": 37,
      "outputs": [
        {
          "output_type": "execute_result",
          "data": {
            "text/plain": [
              "64841"
            ]
          },
          "metadata": {
            "tags": []
          },
          "execution_count": 37
        }
      ]
    },
    {
      "cell_type": "code",
      "metadata": {
        "colab": {
          "base_uri": "https://localhost:8080/"
        },
        "id": "p4axJ-sA6hns",
        "outputId": "87276436-dced-41ee-faa2-9735ac7a2141"
      },
      "source": [
        "text_vectorizer.get_vocabulary()[:10]"
      ],
      "execution_count": 38,
      "outputs": [
        {
          "output_type": "execute_result",
          "data": {
            "text/plain": [
              "['', '[UNK]', 'the', 'and', 'of', 'in', 'to', 'with', 'a', 'were']"
            ]
          },
          "metadata": {
            "tags": []
          },
          "execution_count": 38
        }
      ]
    },
    {
      "cell_type": "code",
      "metadata": {
        "colab": {
          "base_uri": "https://localhost:8080/"
        },
        "id": "eqxg-rn160M4",
        "outputId": "44341f7f-e268-409e-ca2e-676629d481d2"
      },
      "source": [
        "text_vectorizer.get_vocabulary()[-5:]"
      ],
      "execution_count": 39,
      "outputs": [
        {
          "output_type": "execute_result",
          "data": {
            "text/plain": [
              "['aainduced', 'aaigroup', 'aachener', 'aachen', 'aaacp']"
            ]
          },
          "metadata": {
            "tags": []
          },
          "execution_count": 39
        }
      ]
    },
    {
      "cell_type": "code",
      "metadata": {
        "colab": {
          "base_uri": "https://localhost:8080/"
        },
        "id": "jzkcLuDv6136",
        "outputId": "e1c9f84d-3023-470f-d4d2-261006889699"
      },
      "source": [
        "text_vectorizer.get_config()"
      ],
      "execution_count": 40,
      "outputs": [
        {
          "output_type": "execute_result",
          "data": {
            "text/plain": [
              "{'dtype': 'string',\n",
              " 'max_tokens': 68000,\n",
              " 'name': 'text_vectorization',\n",
              " 'ngrams': None,\n",
              " 'output_mode': 'int',\n",
              " 'output_sequence_length': 55,\n",
              " 'pad_to_max_tokens': False,\n",
              " 'split': 'whitespace',\n",
              " 'standardize': 'lower_and_strip_punctuation',\n",
              " 'trainable': True,\n",
              " 'vocabulary_size': 64841}"
            ]
          },
          "metadata": {
            "tags": []
          },
          "execution_count": 40
        }
      ]
    },
    {
      "cell_type": "markdown",
      "metadata": {
        "id": "rUPx6OFW67Ui"
      },
      "source": [
        "## Creating Embedding layer"
      ]
    },
    {
      "cell_type": "code",
      "metadata": {
        "id": "uRjxIF8v7CIs"
      },
      "source": [
        "embedding = tf.keras.layers.Embedding(input_dim=rct_20k_text_vocab, output_dim=32, mask_zero=True )"
      ],
      "execution_count": 41,
      "outputs": []
    },
    {
      "cell_type": "code",
      "metadata": {
        "colab": {
          "base_uri": "https://localhost:8080/"
        },
        "id": "K1clIVxs7M1O",
        "outputId": "8f04c9c5-bc47-456d-934b-6fd899f611dd"
      },
      "source": [
        "embedding(text_vectorizer([train_sentences[0]]))"
      ],
      "execution_count": 42,
      "outputs": [
        {
          "output_type": "execute_result",
          "data": {
            "text/plain": [
              "<tf.Tensor: shape=(1, 55, 32), dtype=float32, numpy=\n",
              "array([[[-0.02537941,  0.04470649, -0.03606287, ..., -0.03532254,\n",
              "         -0.02188559, -0.04388276],\n",
              "        [ 0.00263621, -0.02293161,  0.04027576, ..., -0.02854567,\n",
              "          0.01665301,  0.0379962 ],\n",
              "        [-0.03283113,  0.0481581 ,  0.02228836, ..., -0.02496262,\n",
              "         -0.00472502, -0.0326358 ],\n",
              "        ...,\n",
              "        [ 0.02832606, -0.005858  , -0.00910975, ..., -0.04077644,\n",
              "         -0.04670512,  0.0357129 ],\n",
              "        [ 0.02832606, -0.005858  , -0.00910975, ..., -0.04077644,\n",
              "         -0.04670512,  0.0357129 ],\n",
              "        [ 0.02832606, -0.005858  , -0.00910975, ..., -0.04077644,\n",
              "         -0.04670512,  0.0357129 ]]], dtype=float32)>"
            ]
          },
          "metadata": {
            "tags": []
          },
          "execution_count": 42
        }
      ]
    },
    {
      "cell_type": "markdown",
      "metadata": {
        "id": "mKKmCzng7Sfn"
      },
      "source": [
        "## Creating TF datasets to load data fast "
      ]
    },
    {
      "cell_type": "code",
      "metadata": {
        "id": "QGaXQapw8E0k"
      },
      "source": [
        "train_dataset =tf.data.Dataset.from_tensor_slices((train_sentences, train_labels_one_hot))\n",
        "val_dataset =tf.data.Dataset.from_tensor_slices((val_sentences, val_labels_one_hot))\n",
        "test_dataset =tf.data.Dataset.from_tensor_slices((test_sentences, test_labels_one_hot))"
      ],
      "execution_count": 43,
      "outputs": []
    },
    {
      "cell_type": "code",
      "metadata": {
        "colab": {
          "base_uri": "https://localhost:8080/"
        },
        "id": "UtGbkQ-28nro",
        "outputId": "1bb044b2-a3d0-4e0c-bbe4-0e85a82f23cd"
      },
      "source": [
        "train_dataset"
      ],
      "execution_count": 44,
      "outputs": [
        {
          "output_type": "execute_result",
          "data": {
            "text/plain": [
              "<TensorSliceDataset shapes: ((), (5,)), types: (tf.string, tf.float64)>"
            ]
          },
          "metadata": {
            "tags": []
          },
          "execution_count": 44
        }
      ]
    },
    {
      "cell_type": "code",
      "metadata": {
        "colab": {
          "base_uri": "https://localhost:8080/"
        },
        "id": "IFMvo8_u8prY",
        "outputId": "b69d74a6-e373-47ae-ae98-f843f2f8de07"
      },
      "source": [
        "train_labels_one_hot.shape"
      ],
      "execution_count": 45,
      "outputs": [
        {
          "output_type": "execute_result",
          "data": {
            "text/plain": [
              "(180040, 5)"
            ]
          },
          "metadata": {
            "tags": []
          },
          "execution_count": 45
        }
      ]
    },
    {
      "cell_type": "code",
      "metadata": {
        "id": "slLom7pU8s1K"
      },
      "source": [
        "train_dataset = train_dataset.batch(32).prefetch(tf.data.AUTOTUNE)\n",
        "val_dataset =val_dataset.batch(32).prefetch(tf.data.AUTOTUNE)\n",
        "test_dataset = test_dataset.batch(32).prefetch(tf.data.AUTOTUNE)"
      ],
      "execution_count": 46,
      "outputs": []
    },
    {
      "cell_type": "code",
      "metadata": {
        "colab": {
          "base_uri": "https://localhost:8080/"
        },
        "id": "qR80WxUD9uih",
        "outputId": "d83ba9b3-979c-4c83-f71f-897831428ee1"
      },
      "source": [
        "test_dataset"
      ],
      "execution_count": 47,
      "outputs": [
        {
          "output_type": "execute_result",
          "data": {
            "text/plain": [
              "<PrefetchDataset shapes: ((None,), (None, 5)), types: (tf.string, tf.float64)>"
            ]
          },
          "metadata": {
            "tags": []
          },
          "execution_count": 47
        }
      ]
    },
    {
      "cell_type": "markdown",
      "metadata": {
        "id": "3bB5Cmcg96L0"
      },
      "source": [
        "## Model 1 - Conv1D"
      ]
    },
    {
      "cell_type": "code",
      "metadata": {
        "id": "hUps93Uo-B0L"
      },
      "source": [
        "inputs = tf.keras.layers.Input(shape=(1,), dtype=tf.string)\n",
        "X = text_vectorizer(inputs)\n",
        "X = embedding(X)\n",
        "X = tf.keras.layers.Conv1D(filters=64, kernel_size = 5, activation=\"relu\", padding=\"same\")(X)\n",
        "X = tf.keras.layers.GlobalAveragePooling1D()(X)\n",
        "outputs = tf.keras.layers.Dense(num_classes, activation=\"softmax\")(X)\n",
        "\n",
        "model_1 = tf.keras.models.Model(inputs, outputs, name=\"model_1\")"
      ],
      "execution_count": 48,
      "outputs": []
    },
    {
      "cell_type": "code",
      "metadata": {
        "colab": {
          "base_uri": "https://localhost:8080/"
        },
        "id": "IqCoD0At-sj1",
        "outputId": "30cf0787-ac1a-4ad1-dbed-42e28557f9f1"
      },
      "source": [
        "  model_1.summary()"
      ],
      "execution_count": 49,
      "outputs": [
        {
          "output_type": "stream",
          "text": [
            "Model: \"model_1\"\n",
            "_________________________________________________________________\n",
            "Layer (type)                 Output Shape              Param #   \n",
            "=================================================================\n",
            "input_1 (InputLayer)         [(None, 1)]               0         \n",
            "_________________________________________________________________\n",
            "text_vectorization (TextVect (None, 55)                0         \n",
            "_________________________________________________________________\n",
            "embedding (Embedding)        (None, 55, 32)            2074912   \n",
            "_________________________________________________________________\n",
            "conv1d (Conv1D)              (None, 55, 64)            10304     \n",
            "_________________________________________________________________\n",
            "global_average_pooling1d (Gl (None, 64)                0         \n",
            "_________________________________________________________________\n",
            "dense (Dense)                (None, 5)                 325       \n",
            "=================================================================\n",
            "Total params: 2,085,541\n",
            "Trainable params: 2,085,541\n",
            "Non-trainable params: 0\n",
            "_________________________________________________________________\n"
          ],
          "name": "stdout"
        }
      ]
    },
    {
      "cell_type": "code",
      "metadata": {
        "id": "t3DeEQf-_Rw-"
      },
      "source": [
        "model_1.compile(loss=\"categorical_crossentropy\",\n",
        "                optimizer=\"Adam\",\n",
        "                metrics=[\"accuracy\"])"
      ],
      "execution_count": 50,
      "outputs": []
    },
    {
      "cell_type": "code",
      "metadata": {
        "colab": {
          "base_uri": "https://localhost:8080/"
        },
        "id": "RJa84IPY_eaP",
        "outputId": "225cb3ef-a0fd-46ad-da67-cfd68dbb11a1"
      },
      "source": [
        "history_model_1 = model_1.fit(train_dataset, \n",
        "                              epochs=3, \n",
        "                              steps_per_epoch = int(0.1 * len(train_dataset)),\n",
        "                              validation_data = val_dataset,\n",
        "                              validation_steps = int(0.1 * len(val_dataset)))"
      ],
      "execution_count": 51,
      "outputs": [
        {
          "output_type": "stream",
          "text": [
            "Epoch 1/3\n",
            "562/562 [==============================] - 18s 30ms/step - loss: 1.0445 - accuracy: 0.5746 - val_loss: 0.7468 - val_accuracy: 0.7038\n",
            "Epoch 2/3\n",
            "562/562 [==============================] - 17s 30ms/step - loss: 0.7001 - accuracy: 0.7318 - val_loss: 0.6642 - val_accuracy: 0.7510\n",
            "Epoch 3/3\n",
            "562/562 [==============================] - 17s 30ms/step - loss: 0.6513 - accuracy: 0.7541 - val_loss: 0.6370 - val_accuracy: 0.7636\n"
          ],
          "name": "stdout"
        }
      ]
    },
    {
      "cell_type": "code",
      "metadata": {
        "colab": {
          "base_uri": "https://localhost:8080/"
        },
        "id": "idO09nMgAnoR",
        "outputId": "8685a94b-1d8a-40e2-881b-af3bbfd0722a"
      },
      "source": [
        "model_1.evaluate(val_dataset, verbose=1)"
      ],
      "execution_count": 52,
      "outputs": [
        {
          "output_type": "stream",
          "text": [
            "945/945 [==============================] - 3s 3ms/step - loss: 0.6380 - accuracy: 0.7668\n"
          ],
          "name": "stdout"
        },
        {
          "output_type": "execute_result",
          "data": {
            "text/plain": [
              "[0.6380469799041748, 0.7668145298957825]"
            ]
          },
          "metadata": {
            "tags": []
          },
          "execution_count": 52
        }
      ]
    },
    {
      "cell_type": "code",
      "metadata": {
        "colab": {
          "base_uri": "https://localhost:8080/"
        },
        "id": "6JzP2u41A7_Z",
        "outputId": "6409d4ac-03b0-4815-d4f8-7047c45e4994"
      },
      "source": [
        "model_1_pred_probs = model_1.predict(val_dataset)\n",
        "model_1_pred_probs[:5], model_1_pred_probs.shape"
      ],
      "execution_count": 53,
      "outputs": [
        {
          "output_type": "execute_result",
          "data": {
            "text/plain": [
              "(array([[3.8025752e-01, 2.5245348e-01, 5.4216947e-02, 2.9031274e-01,\n",
              "         2.2759350e-02],\n",
              "        [4.1497287e-01, 3.7229630e-01, 5.4785302e-03, 2.0181903e-01,\n",
              "         5.4332367e-03],\n",
              "        [2.5217265e-01, 3.4443602e-02, 3.8224224e-03, 7.0946419e-01,\n",
              "         9.7168224e-05],\n",
              "        [9.1656430e-06, 5.2432137e-05, 9.8063159e-01, 3.6624482e-05,\n",
              "         1.9270204e-02],\n",
              "        [7.2711607e-04, 1.7955581e-02, 2.4542019e-01, 1.6149862e-03,\n",
              "         7.3428214e-01]], dtype=float32), (30212, 5))"
            ]
          },
          "metadata": {
            "tags": []
          },
          "execution_count": 53
        }
      ]
    },
    {
      "cell_type": "code",
      "metadata": {
        "colab": {
          "base_uri": "https://localhost:8080/"
        },
        "id": "VFKElL37BnFR",
        "outputId": "bb5ace3c-7fb4-4ce0-8ee3-9094ab5a72bf"
      },
      "source": [
        "model_1_preds = tf.argmax(model_1_pred_probs, axis=1)\n",
        "model_1_preds[:10]"
      ],
      "execution_count": 54,
      "outputs": [
        {
          "output_type": "execute_result",
          "data": {
            "text/plain": [
              "<tf.Tensor: shape=(10,), dtype=int64, numpy=array([0, 0, 3, 2, 4, 2, 4, 2, 4, 4])>"
            ]
          },
          "metadata": {
            "tags": []
          },
          "execution_count": 54
        }
      ]
    },
    {
      "cell_type": "code",
      "metadata": {
        "colab": {
          "base_uri": "https://localhost:8080/"
        },
        "id": "DLaHeJAOBywl",
        "outputId": "aaaf8684-059a-4d58-9649-2113682d554d"
      },
      "source": [
        "model_1_results = calculate_results(val_labels_encoded, model_1_preds)\n",
        "model_1_results"
      ],
      "execution_count": 55,
      "outputs": [
        {
          "output_type": "execute_result",
          "data": {
            "text/plain": [
              "{'accuracy': 0.77, 'f1': 0.76, 'precision': 0.76, 'recall': 0.77}"
            ]
          },
          "metadata": {
            "tags": []
          },
          "execution_count": 55
        }
      ]
    },
    {
      "cell_type": "code",
      "metadata": {
        "colab": {
          "base_uri": "https://localhost:8080/"
        },
        "id": "se_Gi6RgB_5-",
        "outputId": "0302faef-5b71-4d41-dfb8-b10c5ce5f6ca"
      },
      "source": [
        "baseline_results"
      ],
      "execution_count": 56,
      "outputs": [
        {
          "output_type": "execute_result",
          "data": {
            "text/plain": [
              "{'accuracy': 0.72, 'f1': 0.7, 'precision': 0.72, 'recall': 0.72}"
            ]
          },
          "metadata": {
            "tags": []
          },
          "execution_count": 56
        }
      ]
    },
    {
      "cell_type": "markdown",
      "metadata": {
        "id": "SptWzI-CCOZy"
      },
      "source": [
        "## Model 2 - Tensorflow HUB - Universal Sentence Encoder"
      ]
    },
    {
      "cell_type": "code",
      "metadata": {
        "id": "yC__qxYsI64b"
      },
      "source": [
        "import tensorflow_hub as hub"
      ],
      "execution_count": 57,
      "outputs": []
    },
    {
      "cell_type": "code",
      "metadata": {
        "id": "zo8lYMBtI-sj"
      },
      "source": [
        "tf_hub_embeddings = hub.KerasLayer(\"https://tfhub.dev/google/universal-sentence-encoder/4\", \n",
        "                                   trainable=False,\n",
        "                                   name = \"universal_sentence_encoder\")"
      ],
      "execution_count": 58,
      "outputs": []
    },
    {
      "cell_type": "code",
      "metadata": {
        "colab": {
          "base_uri": "https://localhost:8080/"
        },
        "id": "bpUXcDHAJRbN",
        "outputId": "81eab6ba-2aad-4d05-f1bf-164dab9f32a4"
      },
      "source": [
        "tf_hub_embeddings([train_sentences[0]]), tf_hub_embeddings([train_sentences[0]]).shape"
      ],
      "execution_count": 59,
      "outputs": [
        {
          "output_type": "execute_result",
          "data": {
            "text/plain": [
              "(<tf.Tensor: shape=(1, 512), dtype=float32, numpy=\n",
              " array([[-4.90379930e-02,  5.24623767e-02,  3.95998992e-02,\n",
              "         -6.31776452e-02, -7.30676949e-02,  6.28731549e-02,\n",
              "          3.52798738e-02, -6.18204065e-02,  5.71083315e-02,\n",
              "          4.63245027e-02,  7.16570467e-02,  2.51989812e-03,\n",
              "         -9.52067878e-03,  6.51001837e-03,  3.80008891e-02,\n",
              "          3.74653749e-02, -7.96469301e-02,  6.41185641e-02,\n",
              "          3.50537673e-02, -3.88272963e-02,  1.50759500e-02,\n",
              "         -1.20223323e-02,  1.47859799e-02, -2.70261560e-02,\n",
              "          1.51410224e-02,  5.35054170e-02, -6.14337856e-03,\n",
              "         -3.47358249e-02, -7.48624578e-02,  2.86212773e-03,\n",
              "         -5.25581762e-02,  7.89910331e-02,  7.17563331e-02,\n",
              "          1.59457475e-02, -6.31276295e-02,  1.22191105e-02,\n",
              "         -1.35266446e-02, -3.82611342e-02, -1.69011746e-02,\n",
              "         -6.66884333e-02, -4.18503992e-02,  7.29317293e-02,\n",
              "         -1.60359144e-02, -5.26477396e-02,  6.90131262e-02,\n",
              "          6.53062165e-02, -3.43542658e-02, -3.79559547e-02,\n",
              "         -4.99638766e-02,  2.09791455e-02, -5.60803115e-02,\n",
              "          1.14749521e-02, -2.61531882e-02,  2.75024846e-02,\n",
              "          7.41543919e-02,  2.24771239e-02, -6.07249737e-02,\n",
              "          2.60245465e-02,  1.01692518e-02, -2.40916256e-02,\n",
              "         -6.76476955e-02,  4.49485518e-02,  5.26538454e-02,\n",
              "         -6.59608319e-02,  1.65007878e-02, -5.85078783e-02,\n",
              "          2.67462861e-02, -4.51612063e-02, -3.83274592e-02,\n",
              "         -7.09554628e-02,  2.57302038e-02, -7.27252215e-02,\n",
              "         -3.51591315e-03, -2.62073204e-02, -1.86315309e-02,\n",
              "          4.52314019e-02, -3.36861983e-02,  4.77226302e-02,\n",
              "          5.89824133e-02,  5.79145551e-02, -1.30984876e-02,\n",
              "          4.54536527e-02,  5.29087409e-02,  1.69353671e-02,\n",
              "         -9.72578209e-03,  3.31968740e-02, -2.30787322e-02,\n",
              "         -3.00790742e-02,  1.16272569e-02, -6.60024509e-02,\n",
              "          6.51322901e-02, -2.96568647e-02, -6.22926168e-02,\n",
              "         -3.71919386e-02,  2.27919649e-02,  7.00270236e-02,\n",
              "         -2.22060550e-02,  1.70932040e-02,  5.46715893e-02,\n",
              "         -6.98415935e-02, -4.32225578e-02, -3.02880593e-02,\n",
              "          5.72669879e-02,  4.96918336e-02,  2.34933943e-02,\n",
              "         -1.60411149e-02, -5.01775816e-02,  6.77752420e-02,\n",
              "         -3.03536449e-02, -6.01739250e-02,  6.04394823e-02,\n",
              "          2.13990565e-02,  2.66470741e-02,  1.46713722e-02,\n",
              "         -8.47994629e-03,  4.41513732e-02, -5.19510023e-02,\n",
              "         -6.97782785e-02,  4.03376892e-02,  5.21049984e-02,\n",
              "          4.23581265e-02,  5.04958667e-02,  5.25323302e-02,\n",
              "         -1.78967323e-02,  6.48838431e-02, -5.91431148e-02,\n",
              "          1.04223145e-02,  3.64233330e-02,  5.13913222e-02,\n",
              "         -2.02528536e-02, -7.78024048e-02,  7.96720386e-02,\n",
              "          3.17689627e-02, -1.06671769e-02,  6.31239191e-02,\n",
              "         -6.09619915e-02,  3.92964929e-02,  4.43578418e-03,\n",
              "          5.79439402e-02, -2.32335739e-02,  6.24934062e-02,\n",
              "          7.70077780e-02, -4.68878336e-02,  1.16870468e-02,\n",
              "          2.45531965e-02,  1.32480366e-02, -1.94048248e-02,\n",
              "         -7.34525025e-02,  4.55129966e-02,  5.41086718e-02,\n",
              "          6.32696003e-02, -3.19017693e-02, -4.59518917e-02,\n",
              "          4.00612354e-02,  7.78582916e-02,  2.53134947e-02,\n",
              "         -7.90920388e-03,  4.84363325e-02, -8.19068681e-03,\n",
              "         -6.49810061e-02, -1.63520221e-02, -5.69477088e-05,\n",
              "         -6.02004630e-03, -4.02665362e-02,  3.66501771e-02,\n",
              "         -3.84475552e-02, -1.16252834e-02, -6.83087506e-04,\n",
              "         -6.31387010e-02, -3.70360427e-02,  3.90037335e-02,\n",
              "         -7.94209689e-02, -4.28284854e-02, -4.82697859e-02,\n",
              "         -2.57505141e-02, -3.55972946e-02, -3.74687929e-03,\n",
              "         -5.99379241e-02, -1.87973399e-02,  4.48826924e-02,\n",
              "         -5.62619716e-02,  2.22687311e-02, -7.03855604e-03,\n",
              "         -1.09461956e-02,  6.35608286e-02,  1.91913750e-02,\n",
              "         -3.69656645e-02, -4.87591587e-02, -6.97314441e-02,\n",
              "         -1.45361032e-02,  2.06426345e-02, -2.43079178e-02,\n",
              "          1.59115978e-02,  6.64902255e-02, -5.98800704e-02,\n",
              "         -5.63429371e-02, -3.05538215e-02, -3.36361118e-02,\n",
              "         -3.15162204e-02, -1.97050106e-02, -3.35521773e-02,\n",
              "         -7.37242550e-02,  1.06115276e-02,  4.36986946e-02,\n",
              "         -3.44690792e-02,  2.43550055e-02,  5.03323041e-02,\n",
              "         -9.91861057e-03, -2.06421111e-02, -1.36474066e-03,\n",
              "         -4.59160171e-02,  2.22237073e-02, -5.77474311e-02,\n",
              "          3.46699432e-02, -6.82628229e-02, -3.48748602e-02,\n",
              "          1.72995590e-02,  3.44611406e-02, -6.10900447e-02,\n",
              "          7.71237612e-02, -1.49362953e-02,  4.11391258e-02,\n",
              "         -3.67890634e-02, -6.43601567e-02,  1.28683923e-02,\n",
              "          3.80464122e-02,  2.26643458e-02, -5.96124567e-02,\n",
              "          3.67996134e-02,  1.90533437e-02, -3.77879292e-02,\n",
              "          5.44542000e-02,  6.81360764e-03, -6.52048662e-02,\n",
              "          4.53018546e-02, -1.47610065e-03, -4.16113734e-02,\n",
              "         -4.54198867e-02, -1.58887263e-02,  1.54380305e-02,\n",
              "         -4.38981038e-03,  5.24935536e-02, -1.80315562e-02,\n",
              "         -5.19809388e-02, -8.86563398e-03, -3.07489727e-02,\n",
              "          6.35088086e-02, -7.19723701e-02,  3.02403197e-02,\n",
              "         -7.95044601e-02,  7.80131295e-02, -5.60835078e-02,\n",
              "         -2.92970948e-02,  2.51753442e-02, -5.80823701e-03,\n",
              "         -4.78075333e-02,  7.33473822e-02,  7.21418113e-02,\n",
              "          5.10579832e-02,  3.90382297e-02,  5.86030111e-02,\n",
              "          2.16288138e-02,  7.14938156e-03,  6.19183891e-02,\n",
              "         -5.04270419e-02, -4.33898084e-02, -5.32921925e-02,\n",
              "         -5.93181048e-03, -3.39601152e-02, -6.47263508e-03,\n",
              "         -7.27052940e-03, -1.79338437e-02, -2.76532602e-02,\n",
              "         -3.46069895e-02,  1.16039217e-02, -2.02017333e-02,\n",
              "         -4.99462821e-02,  2.27346160e-02,  3.05464817e-03,\n",
              "         -2.69275960e-02,  7.77753489e-03,  1.87100153e-02,\n",
              "         -1.06586446e-03,  2.33725458e-02,  3.15418392e-02,\n",
              "         -3.57295796e-02,  6.72835037e-02, -4.92953546e-02,\n",
              "         -6.67052716e-02,  7.14054927e-02, -5.91818504e-02,\n",
              "         -4.08173464e-02,  6.81190938e-02,  4.81593534e-02,\n",
              "          6.40363768e-02, -6.23369589e-02, -2.56957226e-02,\n",
              "         -6.69518346e-03, -4.38656509e-02,  2.40857806e-03,\n",
              "         -4.95576262e-02,  6.77650645e-02, -5.14706783e-03,\n",
              "         -5.75929247e-02,  1.15079163e-02,  2.29568239e-02,\n",
              "          1.87691692e-02,  4.19128360e-03,  3.51172052e-02,\n",
              "         -5.78861833e-02, -2.77768783e-02, -1.38933240e-02,\n",
              "          2.67663859e-02,  1.15436094e-03,  7.15107918e-02,\n",
              "          5.55578445e-04, -5.09234853e-02,  4.35655899e-02,\n",
              "         -1.16262073e-02, -7.54830614e-03, -7.62183145e-02,\n",
              "          6.07193040e-04,  2.40630414e-02,  3.07278056e-02,\n",
              "         -4.29104492e-02,  6.80322722e-02,  3.90085801e-02,\n",
              "         -3.71284075e-02, -5.32299355e-02,  7.40470961e-02,\n",
              "         -6.19232617e-02, -4.93596308e-02,  2.60026027e-02,\n",
              "          7.26528764e-02,  2.80304551e-02, -4.09751683e-02,\n",
              "         -3.60469962e-03,  2.97033936e-02,  1.79831441e-02,\n",
              "         -7.43661672e-02, -1.96373537e-02,  7.31411949e-02,\n",
              "          6.12261780e-02,  6.24652281e-02,  3.90878730e-02,\n",
              "         -7.13783428e-02,  5.48866279e-02,  2.07769163e-02,\n",
              "         -3.76147628e-02, -6.17279783e-02, -5.87410294e-02,\n",
              "         -2.56755780e-02,  1.31572140e-02,  2.39189826e-02,\n",
              "          6.46950379e-02, -6.52446300e-02, -6.79353848e-02,\n",
              "          1.54569987e-02, -7.07251579e-02, -6.38403445e-02,\n",
              "         -1.42287733e-02,  7.34564709e-03, -3.21208499e-02,\n",
              "         -4.79509011e-02,  5.46562113e-03, -6.65539354e-02,\n",
              "          4.17262539e-02,  2.37859525e-02, -6.45488128e-02,\n",
              "          6.36518002e-02, -6.00713305e-03,  1.38050085e-02,\n",
              "         -6.10724539e-02, -1.00690154e-02,  2.11462937e-02,\n",
              "         -3.21777612e-02, -5.27931750e-02, -7.10161254e-02,\n",
              "         -6.20212890e-02, -3.43654007e-02,  7.93721974e-02,\n",
              "          6.80036917e-02,  6.65595084e-02,  1.94047000e-02,\n",
              "         -5.93737175e-04,  7.73629360e-03,  4.11527464e-03,\n",
              "         -4.28840099e-03,  7.11994767e-02,  2.33034659e-02,\n",
              "         -6.53106496e-02,  2.11200472e-02, -2.94964910e-02,\n",
              "          1.09790433e-02,  7.45835900e-02, -6.68237433e-02,\n",
              "          4.89723757e-02, -4.14846316e-02, -4.55615334e-02,\n",
              "         -2.24915817e-02, -6.56284811e-03, -1.59862172e-02,\n",
              "         -1.39626684e-02,  3.01554427e-02, -3.18641700e-02,\n",
              "          1.92762204e-02, -4.16154712e-02, -7.38353329e-03,\n",
              "          2.91973297e-02,  6.85412660e-02, -4.70253192e-02,\n",
              "          4.09467034e-02,  3.67741063e-02, -7.03205690e-02,\n",
              "          3.75152449e-03, -6.03496991e-02,  3.18998098e-02,\n",
              "         -2.59715952e-02, -5.74324466e-02, -4.10795100e-02,\n",
              "         -1.48341414e-02, -1.02940621e-02, -1.88559741e-02,\n",
              "         -4.62254770e-02, -6.97520822e-02, -5.09233102e-02,\n",
              "          2.04404108e-02,  6.67430833e-02,  3.50883603e-02,\n",
              "          1.31413806e-04, -4.59215641e-02,  3.48680429e-02,\n",
              "         -9.43880528e-03,  7.94755965e-02, -6.33749589e-02,\n",
              "         -2.89584994e-02,  3.10576428e-03,  1.59217678e-02,\n",
              "          7.34038725e-02,  6.09045550e-02, -4.16850075e-02,\n",
              "          2.00679265e-02, -5.43253347e-02,  5.01744077e-02,\n",
              "          3.17349024e-02, -5.91052435e-02, -5.37214577e-02,\n",
              "         -6.06702380e-02,  3.89317088e-02,  1.06549375e-02,\n",
              "          3.36382538e-02, -2.17186147e-03, -1.10795787e-02,\n",
              "         -6.26524836e-02,  1.23497490e-02,  4.28541675e-02,\n",
              "         -7.04381838e-02,  7.31728449e-02, -4.00668606e-02,\n",
              "          4.37846109e-02, -2.97713429e-02,  4.19520661e-02,\n",
              "         -6.04039952e-02, -1.52346697e-02,  1.94449835e-02,\n",
              "          8.90798587e-03, -4.86237183e-02,  4.74670120e-02,\n",
              "          1.50964186e-02, -4.64663235e-03,  5.38112298e-02,\n",
              "          3.43762226e-02, -4.30070944e-02,  3.39996889e-02,\n",
              "          6.85448339e-03, -3.42712901e-03,  6.08312599e-02,\n",
              "          4.45394951e-04,  7.20117241e-02, -4.18657623e-02,\n",
              "          1.45589316e-03,  6.72580972e-02, -4.86514308e-02,\n",
              "         -4.28869165e-02, -7.80798569e-02,  7.24619702e-02,\n",
              "          6.63296785e-04,  1.29524861e-02, -3.11067998e-02,\n",
              "         -1.90789299e-03,  2.28518783e-03, -1.85545553e-02,\n",
              "          3.34370066e-04, -4.74817865e-02,  7.88315665e-04,\n",
              "         -3.31600904e-02,  7.18179271e-02, -4.22516465e-02,\n",
              "          3.10745556e-02,  2.55300803e-03, -2.57669184e-02,\n",
              "         -5.39806150e-02,  4.38181171e-03, -7.61198550e-02,\n",
              "          4.24926318e-02, -7.96541870e-02,  1.65461414e-02,\n",
              "         -3.71138193e-02,  2.46069860e-02,  3.03509329e-02,\n",
              "         -4.03094888e-02,  4.24525887e-02]], dtype=float32)>,\n",
              " TensorShape([1, 512]))"
            ]
          },
          "metadata": {
            "tags": []
          },
          "execution_count": 59
        }
      ]
    },
    {
      "cell_type": "code",
      "metadata": {
        "id": "6Q13BuFfJtfP"
      },
      "source": [
        "# Model\n",
        "inputs = tf.keras.layers.Input(shape=[], dtype= tf.string)\n",
        "X = tf_hub_embeddings(inputs)\n",
        "X = tf.keras.layers.Dense(128, activation=\"relu\")(X)\n",
        "outputs = tf.keras.layers.Dense(num_classes, activation=\"softmax\")(X)\n",
        "\n",
        "model_2 = tf.keras.models.Model(inputs, outputs, name=\"model_2\")"
      ],
      "execution_count": 80,
      "outputs": []
    },
    {
      "cell_type": "code",
      "metadata": {
        "id": "jogRHM-RKrLU",
        "colab": {
          "base_uri": "https://localhost:8080/"
        },
        "outputId": "9145c5de-d957-4e84-c842-0ef0742b593a"
      },
      "source": [
        "model_2.summary()"
      ],
      "execution_count": 81,
      "outputs": [
        {
          "output_type": "stream",
          "text": [
            "Model: \"model_2\"\n",
            "_________________________________________________________________\n",
            "Layer (type)                 Output Shape              Param #   \n",
            "=================================================================\n",
            "input_12 (InputLayer)        [(None,)]                 0         \n",
            "_________________________________________________________________\n",
            "universal_sentence_encoder ( (None, 512)               256797824 \n",
            "_________________________________________________________________\n",
            "dense_12 (Dense)             (None, 128)               65664     \n",
            "_________________________________________________________________\n",
            "dense_13 (Dense)             (None, 5)                 645       \n",
            "=================================================================\n",
            "Total params: 256,864,133\n",
            "Trainable params: 66,309\n",
            "Non-trainable params: 256,797,824\n",
            "_________________________________________________________________\n"
          ],
          "name": "stdout"
        }
      ]
    },
    {
      "cell_type": "code",
      "metadata": {
        "id": "NvsfLMTHQCVU"
      },
      "source": [
        "model_2.compile(loss=\"categorical_crossentropy\",\n",
        "              optimizer=\"Adam\",\n",
        "              metrics=[\"accuracy\"])"
      ],
      "execution_count": 82,
      "outputs": []
    },
    {
      "cell_type": "code",
      "metadata": {
        "colab": {
          "base_uri": "https://localhost:8080/"
        },
        "id": "0KyqwfLhQeob",
        "outputId": "cfc13284-7ff3-47be-87cf-ebc006e5a089"
      },
      "source": [
        "history_model_2 = model_2.fit(train_dataset, \n",
        "                              epochs=3, \n",
        "                              steps_per_epoch=int(0.1 * len(train_dataset)),\n",
        "                              validation_data = val_dataset,\n",
        "                              validation_steps =int(0.1 * len(val_dataset))\n",
        "                              )"
      ],
      "execution_count": 83,
      "outputs": [
        {
          "output_type": "stream",
          "text": [
            "Epoch 1/3\n",
            "562/562 [==============================] - 9s 14ms/step - loss: 0.9193 - accuracy: 0.6494 - val_loss: 0.7970 - val_accuracy: 0.6898\n",
            "Epoch 2/3\n",
            "562/562 [==============================] - 7s 13ms/step - loss: 0.7688 - accuracy: 0.7017 - val_loss: 0.7566 - val_accuracy: 0.7028\n",
            "Epoch 3/3\n",
            "562/562 [==============================] - 7s 13ms/step - loss: 0.7533 - accuracy: 0.7115 - val_loss: 0.7415 - val_accuracy: 0.7134\n"
          ],
          "name": "stdout"
        }
      ]
    },
    {
      "cell_type": "code",
      "metadata": {
        "id": "BgyU1kTHRGHi"
      },
      "source": [
        "model_2_pred_probs = model_2.predict(val_dataset)\n",
        "model_2_preds = tf.argmax(model_2_pred_probs, axis=1)"
      ],
      "execution_count": 85,
      "outputs": []
    },
    {
      "cell_type": "code",
      "metadata": {
        "colab": {
          "base_uri": "https://localhost:8080/"
        },
        "id": "rsXJ3rSkR-Qg",
        "outputId": "07189b4f-cb15-4258-b44e-b5555376554c"
      },
      "source": [
        "model_2_results = calculate_results(val_labels_encoded, model_2_preds)\n",
        "model_2_results"
      ],
      "execution_count": 86,
      "outputs": [
        {
          "output_type": "execute_result",
          "data": {
            "text/plain": [
              "{'accuracy': 0.71, 'f1': 0.71, 'precision': 0.71, 'recall': 0.71}"
            ]
          },
          "metadata": {
            "tags": []
          },
          "execution_count": 86
        }
      ]
    },
    {
      "cell_type": "markdown",
      "metadata": {
        "id": "Oq-PGDjUSN5P"
      },
      "source": [
        "## Model 3 - Conv1D with Character embbedings"
      ]
    },
    {
      "cell_type": "markdown",
      "metadata": {
        "id": "kFW1mPpVS0BU"
      },
      "source": [
        "### Charater Level Tokenizer"
      ]
    },
    {
      "cell_type": "code",
      "metadata": {
        "id": "dLSKVpvBTeOf"
      },
      "source": [
        "# split senetnces in char\n",
        "def split_char(text):\n",
        "  return \" \".join(list(text))"
      ],
      "execution_count": 93,
      "outputs": []
    },
    {
      "cell_type": "code",
      "metadata": {
        "colab": {
          "base_uri": "https://localhost:8080/",
          "height": 86
        },
        "id": "nRt64XviTguK",
        "outputId": "6df0c07f-649f-4e2d-e634-79b5da01dd0f"
      },
      "source": [
        "split_char(train_sentences[0])"
      ],
      "execution_count": 94,
      "outputs": [
        {
          "output_type": "execute_result",
          "data": {
            "application/vnd.google.colaboratory.intrinsic+json": {
              "type": "string"
            },
            "text/plain": [
              "'t o   i n v e s t i g a t e   t h e   e f f i c a c y   o f   @   w e e k s   o f   d a i l y   l o w - d o s e   o r a l   p r e d n i s o l o n e   i n   i m p r o v i n g   p a i n   ,   m o b i l i t y   ,   a n d   s y s t e m i c   l o w - g r a d e   i n f l a m m a t i o n   i n   t h e   s h o r t   t e r m   a n d   w h e t h e r   t h e   e f f e c t   w o u l d   b e   s u s t a i n e d   a t   @   w e e k s   i n   o l d e r   a d u l t s   w i t h   m o d e r a t e   t o   s e v e r e   k n e e   o s t e o a r t h r i t i s   (   o a   )   .'"
            ]
          },
          "metadata": {
            "tags": []
          },
          "execution_count": 94
        }
      ]
    },
    {
      "cell_type": "code",
      "metadata": {
        "id": "NRlc6yoeT0Aq"
      },
      "source": [
        "train_chars = [split_char(sentence) for sentence in train_sentences]\n",
        "val_chars = [split_char(sentence) for sentence in val_sentences]\n",
        "test_chars = [split_char(sentence) for sentence in test_sentences]"
      ],
      "execution_count": 97,
      "outputs": []
    },
    {
      "cell_type": "code",
      "metadata": {
        "colab": {
          "base_uri": "https://localhost:8080/",
          "height": 86
        },
        "id": "nK1yxZAxUa1U",
        "outputId": "4264f89a-5464-47f2-966a-09913fc98da1"
      },
      "source": [
        "train_chars[0]"
      ],
      "execution_count": 98,
      "outputs": [
        {
          "output_type": "execute_result",
          "data": {
            "application/vnd.google.colaboratory.intrinsic+json": {
              "type": "string"
            },
            "text/plain": [
              "'t o   i n v e s t i g a t e   t h e   e f f i c a c y   o f   @   w e e k s   o f   d a i l y   l o w - d o s e   o r a l   p r e d n i s o l o n e   i n   i m p r o v i n g   p a i n   ,   m o b i l i t y   ,   a n d   s y s t e m i c   l o w - g r a d e   i n f l a m m a t i o n   i n   t h e   s h o r t   t e r m   a n d   w h e t h e r   t h e   e f f e c t   w o u l d   b e   s u s t a i n e d   a t   @   w e e k s   i n   o l d e r   a d u l t s   w i t h   m o d e r a t e   t o   s e v e r e   k n e e   o s t e o a r t h r i t i s   (   o a   )   .'"
            ]
          },
          "metadata": {
            "tags": []
          },
          "execution_count": 98
        }
      ]
    },
    {
      "cell_type": "code",
      "metadata": {
        "colab": {
          "base_uri": "https://localhost:8080/"
        },
        "id": "uSATPE62Ucs3",
        "outputId": "6e8045be-6bbb-4e81-f1cb-d98738ec5066"
      },
      "source": [
        "# Average Char length\n",
        "char_lens = [len(sentence) for sentence in train_sentences]\n",
        "mean_char_lens = np.mean(char_lens)\n",
        "mean_char_lens"
      ],
      "execution_count": 102,
      "outputs": [
        {
          "output_type": "execute_result",
          "data": {
            "text/plain": [
              "149.3662574983337"
            ]
          },
          "metadata": {
            "tags": []
          },
          "execution_count": 102
        }
      ]
    },
    {
      "cell_type": "code",
      "metadata": {
        "colab": {
          "base_uri": "https://localhost:8080/",
          "height": 435
        },
        "id": "tQ8K8WBTVArJ",
        "outputId": "520e3e6d-170e-4fa7-9583-bc0113c4f49e"
      },
      "source": [
        "plt.hist(char_lens, bins=20)"
      ],
      "execution_count": 103,
      "outputs": [
        {
          "output_type": "execute_result",
          "data": {
            "text/plain": [
              "(array([2.2108e+04, 7.0583e+04, 5.3952e+04, 2.2391e+04, 7.4540e+03,\n",
              "        2.2350e+03, 8.0200e+02, 2.8700e+02, 1.1800e+02, 4.9000e+01,\n",
              "        2.9000e+01, 1.3000e+01, 8.0000e+00, 5.0000e+00, 1.0000e+00,\n",
              "        2.0000e+00, 1.0000e+00, 1.0000e+00, 0.0000e+00, 1.0000e+00]),\n",
              " array([1.00000e+00, 7.02500e+01, 1.39500e+02, 2.08750e+02, 2.78000e+02,\n",
              "        3.47250e+02, 4.16500e+02, 4.85750e+02, 5.55000e+02, 6.24250e+02,\n",
              "        6.93500e+02, 7.62750e+02, 8.32000e+02, 9.01250e+02, 9.70500e+02,\n",
              "        1.03975e+03, 1.10900e+03, 1.17825e+03, 1.24750e+03, 1.31675e+03,\n",
              "        1.38600e+03]),\n",
              " <a list of 20 Patch objects>)"
            ]
          },
          "metadata": {
            "tags": []
          },
          "execution_count": 103
        },
        {
          "output_type": "display_data",
          "data": {
            "image/png": "[encoded data removed]",
            "text/plain": [
              "<Figure size 432x288 with 1 Axes>"
            ]
          },
          "metadata": {
            "tags": [],
            "needs_background": "light"
          }
        }
      ]
    },
    {
      "cell_type": "code",
      "metadata": {
        "colab": {
          "base_uri": "https://localhost:8080/"
        },
        "id": "3aB15ha1VQUB",
        "outputId": "275b4f93-b38b-48db-ae6d-28bb983cd5be"
      },
      "source": [
        "output_seq_char_len = int(np.percentile(char_lens,95))\n",
        "output_seq_char_len"
      ],
      "execution_count": 105,
      "outputs": [
        {
          "output_type": "execute_result",
          "data": {
            "text/plain": [
              "290"
            ]
          },
          "metadata": {
            "tags": []
          },
          "execution_count": 105
        }
      ]
    },
    {
      "cell_type": "code",
      "metadata": {
        "colab": {
          "base_uri": "https://localhost:8080/",
          "height": 35
        },
        "id": "acJ4fB4VVbcF",
        "outputId": "5eac5d01-1ee6-41a8-f756-3b2cd9d638bd"
      },
      "source": [
        "# Get all keyboard charcters\n",
        "import string\n",
        "alphabet = string.ascii_lowercase + string.digits + string.punctuation\n",
        "alphabet "
      ],
      "execution_count": 106,
      "outputs": [
        {
          "output_type": "execute_result",
          "data": {
            "application/vnd.google.colaboratory.intrinsic+json": {
              "type": "string"
            },
            "text/plain": [
              "'abcdefghijklmnopqrstuvwxyz0123456789!\"#$%&\\'()*+,-./:;<=>?@[\\\\]^_`{|}~'"
            ]
          },
          "metadata": {
            "tags": []
          },
          "execution_count": 106
        }
      ]
    },
    {
      "cell_type": "code",
      "metadata": {
        "id": "H89L0gQuXrwL"
      },
      "source": [
        "# Char level token vectorizer\n",
        "NUM_CHAR_TOKENS = len(alphabet)+2 # for spcae and OOV token\n",
        "char_vectorizer = TextVectorization(max_tokens=NUM_CHAR_TOKENS, \n",
        "                                    output_sequence_length=output_seq_char_len, name=\"char_vectorizer\")"
      ],
      "execution_count": 108,
      "outputs": []
    },
    {
      "cell_type": "code",
      "metadata": {
        "id": "pvDHacmCYNFn"
      },
      "source": [
        "# Adapt to training characters\n",
        "char_vectorizer.adapt(train_chars)"
      ],
      "execution_count": 109,
      "outputs": []
    },
    {
      "cell_type": "code",
      "metadata": {
        "colab": {
          "base_uri": "https://localhost:8080/"
        },
        "id": "zqeNBwf7YbPw",
        "outputId": "8795fa20-e07e-452c-bfca-8ecf86172311"
      },
      "source": [
        "char_vocab = char_vectorizer.get_vocabulary()\n",
        "len(char_vocab), char_vocab[:5],char_vocab[-5:]"
      ],
      "execution_count": 112,
      "outputs": [
        {
          "output_type": "execute_result",
          "data": {
            "text/plain": [
              "(28, ['', '[UNK]', 'e', 't', 'i'], ['k', 'x', 'z', 'q', 'j'])"
            ]
          },
          "metadata": {
            "tags": []
          },
          "execution_count": 112
        }
      ]
    },
    {
      "cell_type": "code",
      "metadata": {
        "colab": {
          "base_uri": "https://localhost:8080/"
        },
        "id": "_wJbLs5OYijr",
        "outputId": "df1df813-bd72-49ea-84d8-ac740aa9de4e"
      },
      "source": [
        "char_vectorizer([train_chars[0]])"
      ],
      "execution_count": 115,
      "outputs": [
        {
          "output_type": "execute_result",
          "data": {
            "text/plain": [
              "<tf.Tensor: shape=(1, 290), dtype=int64, numpy=\n",
              "array([[ 3,  7,  4,  6, 21,  2,  9,  3,  4, 18,  5,  3,  2,  3, 13,  2,\n",
              "         2, 17, 17,  4, 11,  5, 11, 19,  7, 17, 20,  2,  2, 23,  9,  7,\n",
              "        17, 10,  5,  4, 12, 19, 12,  7, 20, 10,  7,  9,  2,  7,  8,  5,\n",
              "        12, 14,  8,  2, 10,  6,  4,  9,  7, 12,  7,  6,  2,  4,  6,  4,\n",
              "        15, 14,  8,  7, 21,  4,  6, 18, 14,  5,  4,  6, 15,  7, 22,  4,\n",
              "        12,  4,  3, 19,  5,  6, 10,  9, 19,  9,  3,  2, 15,  4, 11, 12,\n",
              "         7, 20, 18,  8,  5, 10,  2,  4,  6, 17, 12,  5, 15, 15,  5,  3,\n",
              "         4,  7,  6,  4,  6,  3, 13,  2,  9, 13,  7,  8,  3,  3,  2,  8,\n",
              "        15,  5,  6, 10, 20, 13,  2,  3, 13,  2,  8,  3, 13,  2,  2, 17,\n",
              "        17,  2, 11,  3, 20,  7, 16, 12, 10, 22,  2,  9, 16,  9,  3,  5,\n",
              "         4,  6,  2, 10,  5,  3, 20,  2,  2, 23,  9,  4,  6,  7, 12, 10,\n",
              "         2,  8,  5, 10, 16, 12,  3,  9, 20,  4,  3, 13, 15,  7, 10,  2,\n",
              "         8,  5,  3,  2,  3,  7,  9,  2, 21,  2,  8,  2, 23,  6,  2,  2,\n",
              "         7,  9,  3,  2,  7,  5,  8,  3, 13,  8,  4,  3,  4,  9,  7,  5,\n",
              "         0,  0,  0,  0,  0,  0,  0,  0,  0,  0,  0,  0,  0,  0,  0,  0,\n",
              "         0,  0,  0,  0,  0,  0,  0,  0,  0,  0,  0,  0,  0,  0,  0,  0,\n",
              "         0,  0,  0,  0,  0,  0,  0,  0,  0,  0,  0,  0,  0,  0,  0,  0,\n",
              "         0,  0,  0,  0,  0,  0,  0,  0,  0,  0,  0,  0,  0,  0,  0,  0,\n",
              "         0,  0]])>"
            ]
          },
          "metadata": {
            "tags": []
          },
          "execution_count": 115
        }
      ]
    },
    {
      "cell_type": "code",
      "metadata": {
        "id": "hUBFgV-jZn3Y"
      },
      "source": [
        "# Embeddings\n",
        "\n",
        "char_embedding = tf.keras.layers.Embedding(input_dim= len(char_vocab), \n",
        "                                           output_dim =  25, \n",
        "                                           mask_zero= True, \n",
        "                                           name = \"char_embedding\") # Output dim is from the paper"
      ],
      "execution_count": 117,
      "outputs": []
    },
    {
      "cell_type": "code",
      "metadata": {
        "colab": {
          "base_uri": "https://localhost:8080/"
        },
        "id": "7eWMkXMqayg6",
        "outputId": "cba0c57a-817a-4f11-95cd-dd38a3ac27ca"
      },
      "source": [
        "char_embedding(char_vectorizer([train_chars[0]]))"
      ],
      "execution_count": 118,
      "outputs": [
        {
          "output_type": "execute_result",
          "data": {
            "text/plain": [
              "<tf.Tensor: shape=(1, 290, 25), dtype=float32, numpy=\n",
              "array([[[ 0.01514206,  0.01090575,  0.02603916, ..., -0.0165004 ,\n",
              "          0.03261106,  0.04612171],\n",
              "        [ 0.03184574, -0.03785008,  0.02061161, ...,  0.03611055,\n",
              "         -0.01785687,  0.03929216],\n",
              "        [-0.04324387,  0.0271329 ,  0.01130755, ...,  0.03726646,\n",
              "          0.0403757 ,  0.00056528],\n",
              "        ...,\n",
              "        [ 0.03445521,  0.0389675 ,  0.0239454 , ...,  0.02247803,\n",
              "         -0.03774238,  0.02480311],\n",
              "        [ 0.03445521,  0.0389675 ,  0.0239454 , ...,  0.02247803,\n",
              "         -0.03774238,  0.02480311],\n",
              "        [ 0.03445521,  0.0389675 ,  0.0239454 , ...,  0.02247803,\n",
              "         -0.03774238,  0.02480311]]], dtype=float32)>"
            ]
          },
          "metadata": {
            "tags": []
          },
          "execution_count": 118
        }
      ]
    },
    {
      "cell_type": "code",
      "metadata": {
        "id": "iKAbYDZwa5f1"
      },
      "source": [
        "# Model 3\n",
        "inputs = tf.keras.layers.Input(shape=(1,), dtype=tf.string)\n",
        "X = char_vectorizer(inputs)\n",
        "X = char_embedding(X)\n",
        "X = tf.keras.layers.Conv1D(filters=64, kernel_size=5, padding=\"same\", activation=\"relu\" )(X)\n",
        "X = tf.keras.layers.GlobalMaxPooling1D()(X)\n",
        "outputs = tf.keras.layers.Dense(num_classes, activation=\"softmax\")(X)\n",
        "\n",
        "model_3 = tf.keras.models.Model(inputs,outputs)"
      ],
      "execution_count": 142,
      "outputs": []
    },
    {
      "cell_type": "code",
      "metadata": {
        "colab": {
          "base_uri": "https://localhost:8080/"
        },
        "id": "bCiv7jH7c5QD",
        "outputId": "4df0e1c5-7872-43b4-882b-740b1eb9b8d8"
      },
      "source": [
        "model_3.summary()"
      ],
      "execution_count": 143,
      "outputs": [
        {
          "output_type": "stream",
          "text": [
            "Model: \"model_3\"\n",
            "_________________________________________________________________\n",
            "Layer (type)                 Output Shape              Param #   \n",
            "=================================================================\n",
            "input_17 (InputLayer)        [(None, 1)]               0         \n",
            "_________________________________________________________________\n",
            "char_vectorizer (TextVectori (None, 290)               0         \n",
            "_________________________________________________________________\n",
            "char_embedding (Embedding)   (None, 290, 25)           700       \n",
            "_________________________________________________________________\n",
            "conv1d_5 (Conv1D)            (None, 290, 64)           8064      \n",
            "_________________________________________________________________\n",
            "global_max_pooling1d (Global (None, 64)                0         \n",
            "_________________________________________________________________\n",
            "dense_17 (Dense)             (None, 5)                 325       \n",
            "=================================================================\n",
            "Total params: 9,089\n",
            "Trainable params: 9,089\n",
            "Non-trainable params: 0\n",
            "_________________________________________________________________\n"
          ],
          "name": "stdout"
        }
      ]
    },
    {
      "cell_type": "code",
      "metadata": {
        "id": "PbZ8BFaXcH6x"
      },
      "source": [
        "model_3.compile(loss=\"categorical_crossentropy\",\n",
        "                optimizer=\"Adam\",\n",
        "                metrics=[\"accuracy\"])"
      ],
      "execution_count": 144,
      "outputs": []
    },
    {
      "cell_type": "code",
      "metadata": {
        "colab": {
          "base_uri": "https://localhost:8080/"
        },
        "id": "JrtBgLwWeqyJ",
        "outputId": "d5f21735-1c1c-42c3-9a09-9a3e0672e402"
      },
      "source": [
        "## Create Char level Datasets\n",
        "train_char_dataset = tf.data.Dataset.from_tensor_slices((train_chars, train_labels_one_hot)).batch(32).prefetch(tf.data.AUTOTUNE)\n",
        "val_char_dataset   = tf.data.Dataset.from_tensor_slices((val_chars, val_labels_one_hot)).batch(32).prefetch(tf.data.AUTOTUNE)\n",
        "test_char_dataset = tf.data.Dataset.from_tensor_slices((test_chars, test_labels_one_hot)).batch(32).prefetch(tf.data.AUTOTUNE)\n",
        "\n",
        "train_char_dataset"
      ],
      "execution_count": 145,
      "outputs": [
        {
          "output_type": "execute_result",
          "data": {
            "text/plain": [
              "<PrefetchDataset shapes: ((None,), (None, 5)), types: (tf.string, tf.float64)>"
            ]
          },
          "metadata": {
            "tags": []
          },
          "execution_count": 145
        }
      ]
    },
    {
      "cell_type": "code",
      "metadata": {
        "colab": {
          "base_uri": "https://localhost:8080/"
        },
        "id": "M798ERrPcdyD",
        "outputId": "2c68b499-0cf3-40e6-9ec5-359278fd4b40"
      },
      "source": [
        "history_model_3 = model_3.fit(train_char_dataset, \n",
        "                              epochs=3, \n",
        "                              steps_per_epoch=int(0.1 * len(train_char_dataset)),\n",
        "                              validation_data=val_char_dataset,\n",
        "                              validation_steps=int(0.1 * len(val_char_dataset)))"
      ],
      "execution_count": 146,
      "outputs": [
        {
          "output_type": "stream",
          "text": [
            "Epoch 1/3\n",
            "562/562 [==============================] - 14s 24ms/step - loss: 1.2809 - accuracy: 0.4763 - val_loss: 1.1299 - val_accuracy: 0.5399\n",
            "Epoch 2/3\n",
            "562/562 [==============================] - 13s 23ms/step - loss: 1.0946 - accuracy: 0.5495 - val_loss: 1.0415 - val_accuracy: 0.5685\n",
            "Epoch 3/3\n",
            "562/562 [==============================] - 13s 23ms/step - loss: 1.0232 - accuracy: 0.5837 - val_loss: 0.9829 - val_accuracy: 0.5981\n"
          ],
          "name": "stdout"
        }
      ]
    },
    {
      "cell_type": "code",
      "metadata": {
        "id": "J5-uFAkRc8Mn"
      },
      "source": [
        "model_3_pred_probs = model_3.predict(val_chars)\n",
        "model_3_preds = tf.argmax(model_3_pred_probs, axis=1)\n"
      ],
      "execution_count": 147,
      "outputs": []
    },
    {
      "cell_type": "code",
      "metadata": {
        "colab": {
          "base_uri": "https://localhost:8080/"
        },
        "id": "FYK4l2y7guwc",
        "outputId": "49f3af99-39b5-431e-e3b7-7cfe25c8baf7"
      },
      "source": [
        "model_3_results = calculate_results(val_labels_encoded, model_3_preds)\n",
        "model_3_results"
      ],
      "execution_count": 148,
      "outputs": [
        {
          "output_type": "execute_result",
          "data": {
            "text/plain": [
              "{'accuracy': 0.6, 'f1': 0.59, 'precision': 0.63, 'recall': 0.6}"
            ]
          },
          "metadata": {
            "tags": []
          },
          "execution_count": 148
        }
      ]
    },
    {
      "cell_type": "markdown",
      "metadata": {
        "id": "u-HyQNJQg3WH"
      },
      "source": [
        "## Model 4 : Combining Token & Character Level embeddings"
      ]
    },
    {
      "cell_type": "code",
      "metadata": {
        "id": "E70EaJtKljUS"
      },
      "source": [
        "token_embedding"
      ],
      "execution_count": null,
      "outputs": []
    },
    {
      "cell_type": "code",
      "metadata": {
        "id": "0XCVdZ3jj0By"
      },
      "source": [
        "# 1. Setup token input/model\n",
        "token_inputs = tf.keras.layers.Input(shape=[], dtype=tf.string, name=\"token_input\") # TF HUb layer expect empty input\n",
        "token_embeddings = tf_hub_embeddings(token_inputs)\n",
        "token_outputs = tf.keras.layers.Dense(128, activation=\"relu\")(token_embeddings)\n",
        "token_model = tf.keras.models.Model(inputs = token_inputs, outputs = token_outputs)\n",
        "\n",
        "# 2. Setup char inputs/model\n",
        "char_inputs = tf.keras.layers.Input(shape=(1,), dtype=tf.string, name=\"char_input\")\n",
        "char_vectors = char_vectorizer(char_inputs)\n",
        "char_embeddings = char_embedding(char_vectors)\n",
        "char_bi_lstm = tf.keras.layers.Bidirectional(tf.keras.layers.LSTM(24))(char_embeddings)\n",
        "char_model = tf.keras.models.Model(inputs=char_inputs, outputs = char_bi_lstm)\n",
        "\n",
        "# 3. Concatenate Models\n",
        "token_char_concat = tf.keras.layers.Concatenate(name=\"token_char_hybrid\")([token_model.output,  char_model.output])\n",
        "\n",
        "# 4. Create output layers - adding in drop out (discussed in paper)\n",
        "combined_dropout = tf.keras.layers.Dropout(0.5)(token_char_concat)\n",
        "combined_dense = tf.keras.layers.Dense(128, activation=\"relu\")(combined_dropout)\n",
        "final_dropout = tf.keras.layers.Dropout(0.5)(combined_dense)\n",
        "output_layer = tf.keras.layers.Dense(num_classes, activation=\"softmax\")(final_dropout)\n",
        "\n",
        "# 5. Construct model with char & inputs\n",
        "model_4 = tf.keras.models.Model(inputs=[token_model.input, char_model.input],\n",
        "                               outputs=output_layer,\n",
        "                               name=\"model_4_token_and_char_embeddings\")\n"
      ],
      "execution_count": 155,
      "outputs": []
    },
    {
      "cell_type": "code",
      "metadata": {
        "colab": {
          "base_uri": "https://localhost:8080/"
        },
        "id": "uLn7FcmvpTe7",
        "outputId": "cef71f55-5c0a-4d94-9fb6-382c25cfe300"
      },
      "source": [
        "model_4.summary()"
      ],
      "execution_count": 156,
      "outputs": [
        {
          "output_type": "stream",
          "text": [
            "Model: \"model_4_token_and_char_embeddings\"\n",
            "__________________________________________________________________________________________________\n",
            "Layer (type)                    Output Shape         Param #     Connected to                     \n",
            "==================================================================================================\n",
            "char_input (InputLayer)         [(None, 1)]          0                                            \n",
            "__________________________________________________________________________________________________\n",
            "token_input (InputLayer)        [(None,)]            0                                            \n",
            "__________________________________________________________________________________________________\n",
            "char_vectorizer (TextVectorizat (None, 290)          0           char_input[0][0]                 \n",
            "__________________________________________________________________________________________________\n",
            "universal_sentence_encoder (Ker (None, 512)          256797824   token_input[0][0]                \n",
            "__________________________________________________________________________________________________\n",
            "char_embedding (Embedding)      (None, 290, 25)      700         char_vectorizer[10][0]           \n",
            "__________________________________________________________________________________________________\n",
            "dense_29 (Dense)                (None, 128)          65664       universal_sentence_encoder[16][0]\n",
            "__________________________________________________________________________________________________\n",
            "bidirectional_4 (Bidirectional) (None, 48)           9600        char_embedding[9][0]             \n",
            "__________________________________________________________________________________________________\n",
            "token_char_hybrid (Concatenate) (None, 176)          0           dense_29[0][0]                   \n",
            "                                                                 bidirectional_4[0][0]            \n",
            "__________________________________________________________________________________________________\n",
            "dropout_8 (Dropout)             (None, 176)          0           token_char_hybrid[0][0]          \n",
            "__________________________________________________________________________________________________\n",
            "dense_30 (Dense)                (None, 128)          22656       dropout_8[0][0]                  \n",
            "__________________________________________________________________________________________________\n",
            "dropout_9 (Dropout)             (None, 128)          0           dense_30[0][0]                   \n",
            "__________________________________________________________________________________________________\n",
            "dense_31 (Dense)                (None, 5)            645         dropout_9[0][0]                  \n",
            "==================================================================================================\n",
            "Total params: 256,897,089\n",
            "Trainable params: 99,265\n",
            "Non-trainable params: 256,797,824\n",
            "__________________________________________________________________________________________________\n"
          ],
          "name": "stdout"
        }
      ]
    },
    {
      "cell_type": "code",
      "metadata": {
        "colab": {
          "base_uri": "https://localhost:8080/",
          "height": 976
        },
        "id": "i99_J_4hp5lO",
        "outputId": "980fa9da-5231-4f7e-b8e3-7c4577395278"
      },
      "source": [
        "from tensorflow.keras.utils import plot_model\n",
        "plot_model(model_4, show_shapes=True)"
      ],
      "execution_count": 163,
      "outputs": [
        {
          "output_type": "execute_result",
          "data": {
            "image/png": "[encoded data removed]",
            "text/plain": [
              "<IPython.core.display.Image object>"
            ]
          },
          "metadata": {
            "tags": []
          },
          "execution_count": 163
        }
      ]
    },
    {
      "cell_type": "code",
      "metadata": {
        "id": "2Mb54ZFNqvQW"
      },
      "source": [
        "model_4.compile(loss=\"categorical_crossentropy\",\n",
        "                optimizer=\"Adam\",\n",
        "                metrics=[\"accuracy\"])"
      ],
      "execution_count": 164,
      "outputs": []
    },
    {
      "cell_type": "code",
      "metadata": {
        "id": "WQCgCC2fr3PU"
      },
      "source": [
        "### Combining Token & Char inputs\n",
        "train_char_token_data = tf.data.Dataset.from_tensor_slices((train_sentences, train_chars))\n",
        "train_char_token_labels = tf.data.Dataset.from_tensor_slices(train_labels_one_hot)\n",
        "train_char_token_dataset = tf.data.Dataset.zip((train_char_token_data, train_char_token_labels)) # Combine data & labels\n",
        "\n",
        "### Prefetch & Batch data\n",
        "train_char_token_dataset = train_char_token_dataset.batch(32).prefetch(tf.data.AUTOTUNE)\n",
        "\n",
        "\n",
        "\n",
        "### Combining Token & Char inputs\n",
        "val_char_token_data = tf.data.Dataset.from_tensor_slices((val_sentences, val_chars))\n",
        "val_char_token_labels = tf.data.Dataset.from_tensor_slices(val_labels_one_hot)\n",
        "val_char_token_dataset = tf.data.Dataset.zip((val_char_token_data, val_char_token_labels)) # Combine data & labels\n",
        "\n",
        "### Prefetch & Batch data\n",
        "val_char_token_dataset = val_char_token_dataset.batch(32).prefetch(tf.data.AUTOTUNE)\n",
        "\n"
      ],
      "execution_count": 165,
      "outputs": []
    },
    {
      "cell_type": "code",
      "metadata": {
        "colab": {
          "base_uri": "https://localhost:8080/"
        },
        "id": "yzx1WRvVujgK",
        "outputId": "519e0527-52fc-4f26-8930-02cfc8d7f47d"
      },
      "source": [
        "train_char_token_dataset, val_char_token_dataset"
      ],
      "execution_count": 166,
      "outputs": [
        {
          "output_type": "execute_result",
          "data": {
            "text/plain": [
              "(<PrefetchDataset shapes: (((None,), (None,)), (None, 5)), types: ((tf.string, tf.string), tf.float64)>,\n",
              " <PrefetchDataset shapes: (((None,), (None,)), (None, 5)), types: ((tf.string, tf.string), tf.float64)>)"
            ]
          },
          "metadata": {
            "tags": []
          },
          "execution_count": 166
        }
      ]
    },
    {
      "cell_type": "code",
      "metadata": {
        "colab": {
          "base_uri": "https://localhost:8080/"
        },
        "id": "6Ur87Cwss2Qi",
        "outputId": "71b5cd35-b120-467a-edf2-049df2c9754f"
      },
      "source": [
        "history_mode_4 = model_4.fit(train_char_token_dataset, \n",
        "                             epochs=3, \n",
        "                             steps_per_epoch=int( 0.1 * len(train_char_token_dataset)),\n",
        "                             validation_data=val_char_token_dataset,\n",
        "                             validation_steps=int(0.1 * len(val_char_token_dataset)))"
      ],
      "execution_count": 167,
      "outputs": [
        {
          "output_type": "stream",
          "text": [
            "Epoch 1/3\n",
            "562/562 [==============================] - 174s 294ms/step - loss: 0.9856 - accuracy: 0.6017 - val_loss: 0.7802 - val_accuracy: 0.7025\n",
            "Epoch 2/3\n",
            "562/562 [==============================] - 162s 288ms/step - loss: 0.8043 - accuracy: 0.6893 - val_loss: 0.7206 - val_accuracy: 0.7254\n",
            "Epoch 3/3\n",
            "562/562 [==============================] - 162s 289ms/step - loss: 0.7820 - accuracy: 0.7031 - val_loss: 0.6857 - val_accuracy: 0.7400\n"
          ],
          "name": "stdout"
        }
      ]
    },
    {
      "cell_type": "code",
      "metadata": {
        "id": "gbnlBxYEs2Y5"
      },
      "source": [
        "history_model_4 = history_mode_4"
      ],
      "execution_count": 168,
      "outputs": []
    },
    {
      "cell_type": "code",
      "metadata": {
        "id": "TiCTZxYgs2gN"
      },
      "source": [
        "model_4_pred_probs = model_4.predict(val_char_token_dataset)"
      ],
      "execution_count": 169,
      "outputs": []
    },
    {
      "cell_type": "code",
      "metadata": {
        "colab": {
          "base_uri": "https://localhost:8080/"
        },
        "id": "QeP-qn5YxiQ7",
        "outputId": "9053d225-0557-4ea6-e238-d1b96f602dfd"
      },
      "source": [
        "model_4_preds = tf.argmax(model_4_pred_probs, axis=1)\n",
        "\n",
        "model_4_results = calculate_results(val_labels_encoded, model_4_preds)\n",
        "model_4_results"
      ],
      "execution_count": 170,
      "outputs": [
        {
          "output_type": "execute_result",
          "data": {
            "text/plain": [
              "{'accuracy': 0.74, 'f1': 0.74, 'precision': 0.74, 'recall': 0.74}"
            ]
          },
          "metadata": {
            "tags": []
          },
          "execution_count": 170
        }
      ]
    },
    {
      "cell_type": "code",
      "metadata": {
        "colab": {
          "base_uri": "https://localhost:8080/"
        },
        "id": "vnj_9dKOyats",
        "outputId": "2e229560-9d68-4033-a49f-63794e9553fb"
      },
      "source": [
        "model_1_results"
      ],
      "execution_count": 172,
      "outputs": [
        {
          "output_type": "execute_result",
          "data": {
            "text/plain": [
              "{'accuracy': 0.77, 'f1': 0.76, 'precision': 0.76, 'recall': 0.77}"
            ]
          },
          "metadata": {
            "tags": []
          },
          "execution_count": 172
        }
      ]
    },
    {
      "cell_type": "code",
      "metadata": {
        "id": "Flt8B4aeydnf"
      },
      "source": [
        ""
      ],
      "execution_count": null,
      "outputs": []
    }
  ]
}