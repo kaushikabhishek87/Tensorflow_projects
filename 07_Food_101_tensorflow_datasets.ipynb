{
  "nbformat": 4,
  "nbformat_minor": 0,
  "metadata": {
    "colab": {
      "name": "07_Food_101_tensorflow_datasets.ipynb",
      "provenance": [],
      "collapsed_sections": [],
      "authorship_tag": "ABX9TyPDQxrgqxDQNNvtGvSDjaS5",
      "include_colab_link": true
    },
    "kernelspec": {
      "display_name": "Python 3",
      "name": "python3"
    },
    "language_info": {
      "name": "python"
    },
    "accelerator": "GPU"
  },
  "cells": [
    {
      "cell_type": "markdown",
      "metadata": {
        "id": "view-in-github",
        "colab_type": "text"
      },
      "source": [
        "<a href=\"https://colab.research.google.com/github/kaushikabhishek87/Tensorflow_projects/blob/main/07_Food_101_tensorflow_datasets.ipynb\" target=\"_parent\"><img src=\"https://colab.research.google.com/assets/colab-badge.svg\" alt=\"Open In Colab\"/></a>"
      ]
    },
    {
      "cell_type": "code",
      "metadata": {
        "colab": {
          "base_uri": "https://localhost:8080/"
        },
        "id": "ZpeejOvHN7qQ",
        "outputId": "514726db-be7b-4a6d-be7b-d0edba905e89"
      },
      "source": [
        "! nvidia-smi -L"
      ],
      "execution_count": 7,
      "outputs": [
        {
          "output_type": "stream",
          "text": [
            "GPU 0: Tesla T4 (UUID: GPU-2ec74a63-f79d-b3ef-8632-5c57ec9e7641)\n"
          ],
          "name": "stdout"
        }
      ]
    },
    {
      "cell_type": "code",
      "metadata": {
        "colab": {
          "base_uri": "https://localhost:8080/",
          "height": 1000
        },
        "id": "bLlrZoySgzA5",
        "outputId": "7d04f682-0485-4896-db22-ba8c785d1850"
      },
      "source": [
        "# Due to bug in tf 2.5 regarding mixed precision training\n",
        "!pip install tensorflow==2.4.1"
      ],
      "execution_count": 66,
      "outputs": [
        {
          "output_type": "stream",
          "text": [
            "Collecting tensorflow==2.4.1\n",
            "\u001b[?25l  Downloading https://files.pythonhosted.org/packages/70/dc/e8c5e7983866fa4ef3fd619faa35f660b95b01a2ab62b3884f038ccab542/tensorflow-2.4.1-cp37-cp37m-manylinux2010_x86_64.whl (394.3MB)\n",
            "\u001b[K     |████████████████████████████████| 394.3MB 43kB/s \n",
            "\u001b[?25hRequirement already satisfied: astunparse~=1.6.3 in /usr/local/lib/python3.7/dist-packages (from tensorflow==2.4.1) (1.6.3)\n",
            "Collecting h5py~=2.10.0\n",
            "\u001b[?25l  Downloading https://files.pythonhosted.org/packages/3f/c0/abde58b837e066bca19a3f7332d9d0493521d7dd6b48248451a9e3fe2214/h5py-2.10.0-cp37-cp37m-manylinux1_x86_64.whl (2.9MB)\n",
            "\u001b[K     |████████████████████████████████| 2.9MB 47.5MB/s \n",
            "\u001b[?25hRequirement already satisfied: keras-preprocessing~=1.1.2 in /usr/local/lib/python3.7/dist-packages (from tensorflow==2.4.1) (1.1.2)\n",
            "Requirement already satisfied: protobuf>=3.9.2 in /usr/local/lib/python3.7/dist-packages (from tensorflow==2.4.1) (3.12.4)\n",
            "Requirement already satisfied: numpy~=1.19.2 in /usr/local/lib/python3.7/dist-packages (from tensorflow==2.4.1) (1.19.5)\n",
            "Requirement already satisfied: typing-extensions~=3.7.4 in /usr/local/lib/python3.7/dist-packages (from tensorflow==2.4.1) (3.7.4.3)\n",
            "Requirement already satisfied: absl-py~=0.10 in /usr/local/lib/python3.7/dist-packages (from tensorflow==2.4.1) (0.12.0)\n",
            "Requirement already satisfied: opt-einsum~=3.3.0 in /usr/local/lib/python3.7/dist-packages (from tensorflow==2.4.1) (3.3.0)\n",
            "Collecting gast==0.3.3\n",
            "  Downloading https://files.pythonhosted.org/packages/d6/84/759f5dd23fec8ba71952d97bcc7e2c9d7d63bdc582421f3cd4be845f0c98/gast-0.3.3-py2.py3-none-any.whl\n",
            "Requirement already satisfied: wheel~=0.35 in /usr/local/lib/python3.7/dist-packages (from tensorflow==2.4.1) (0.36.2)\n",
            "Requirement already satisfied: wrapt~=1.12.1 in /usr/local/lib/python3.7/dist-packages (from tensorflow==2.4.1) (1.12.1)\n",
            "Requirement already satisfied: flatbuffers~=1.12.0 in /usr/local/lib/python3.7/dist-packages (from tensorflow==2.4.1) (1.12)\n",
            "Requirement already satisfied: termcolor~=1.1.0 in /usr/local/lib/python3.7/dist-packages (from tensorflow==2.4.1) (1.1.0)\n",
            "Collecting grpcio~=1.32.0\n",
            "\u001b[?25l  Downloading https://files.pythonhosted.org/packages/06/54/1c8be62beafe7fb1548d2968e518ca040556b46b0275399d4f3186c56d79/grpcio-1.32.0-cp37-cp37m-manylinux2014_x86_64.whl (3.8MB)\n",
            "\u001b[K     |████████████████████████████████| 3.8MB 40.9MB/s \n",
            "\u001b[?25hRequirement already satisfied: tensorboard~=2.4 in /usr/local/lib/python3.7/dist-packages (from tensorflow==2.4.1) (2.5.0)\n",
            "Requirement already satisfied: six~=1.15.0 in /usr/local/lib/python3.7/dist-packages (from tensorflow==2.4.1) (1.15.0)\n",
            "Requirement already satisfied: google-pasta~=0.2 in /usr/local/lib/python3.7/dist-packages (from tensorflow==2.4.1) (0.2.0)\n",
            "Collecting tensorflow-estimator<2.5.0,>=2.4.0\n",
            "\u001b[?25l  Downloading https://files.pythonhosted.org/packages/74/7e/622d9849abf3afb81e482ffc170758742e392ee129ce1540611199a59237/tensorflow_estimator-2.4.0-py2.py3-none-any.whl (462kB)\n",
            "\u001b[K     |████████████████████████████████| 471kB 49.2MB/s \n",
            "\u001b[?25hRequirement already satisfied: setuptools in /usr/local/lib/python3.7/dist-packages (from protobuf>=3.9.2->tensorflow==2.4.1) (57.0.0)\n",
            "Requirement already satisfied: google-auth<2,>=1.6.3 in /usr/local/lib/python3.7/dist-packages (from tensorboard~=2.4->tensorflow==2.4.1) (1.31.0)\n",
            "Requirement already satisfied: tensorboard-plugin-wit>=1.6.0 in /usr/local/lib/python3.7/dist-packages (from tensorboard~=2.4->tensorflow==2.4.1) (1.8.0)\n",
            "Requirement already satisfied: werkzeug>=0.11.15 in /usr/local/lib/python3.7/dist-packages (from tensorboard~=2.4->tensorflow==2.4.1) (1.0.1)\n",
            "Requirement already satisfied: markdown>=2.6.8 in /usr/local/lib/python3.7/dist-packages (from tensorboard~=2.4->tensorflow==2.4.1) (3.3.4)\n",
            "Requirement already satisfied: tensorboard-data-server<0.7.0,>=0.6.0 in /usr/local/lib/python3.7/dist-packages (from tensorboard~=2.4->tensorflow==2.4.1) (0.6.1)\n",
            "Requirement already satisfied: google-auth-oauthlib<0.5,>=0.4.1 in /usr/local/lib/python3.7/dist-packages (from tensorboard~=2.4->tensorflow==2.4.1) (0.4.4)\n",
            "Requirement already satisfied: requests<3,>=2.21.0 in /usr/local/lib/python3.7/dist-packages (from tensorboard~=2.4->tensorflow==2.4.1) (2.23.0)\n",
            "Requirement already satisfied: rsa<5,>=3.1.4; python_version >= \"3.6\" in /usr/local/lib/python3.7/dist-packages (from google-auth<2,>=1.6.3->tensorboard~=2.4->tensorflow==2.4.1) (4.7.2)\n",
            "Requirement already satisfied: pyasn1-modules>=0.2.1 in /usr/local/lib/python3.7/dist-packages (from google-auth<2,>=1.6.3->tensorboard~=2.4->tensorflow==2.4.1) (0.2.8)\n",
            "Requirement already satisfied: cachetools<5.0,>=2.0.0 in /usr/local/lib/python3.7/dist-packages (from google-auth<2,>=1.6.3->tensorboard~=2.4->tensorflow==2.4.1) (4.2.2)\n",
            "Requirement already satisfied: importlib-metadata; python_version < \"3.8\" in /usr/local/lib/python3.7/dist-packages (from markdown>=2.6.8->tensorboard~=2.4->tensorflow==2.4.1) (4.5.0)\n",
            "Requirement already satisfied: requests-oauthlib>=0.7.0 in /usr/local/lib/python3.7/dist-packages (from google-auth-oauthlib<0.5,>=0.4.1->tensorboard~=2.4->tensorflow==2.4.1) (1.3.0)\n",
            "Requirement already satisfied: urllib3!=1.25.0,!=1.25.1,<1.26,>=1.21.1 in /usr/local/lib/python3.7/dist-packages (from requests<3,>=2.21.0->tensorboard~=2.4->tensorflow==2.4.1) (1.24.3)\n",
            "Requirement already satisfied: idna<3,>=2.5 in /usr/local/lib/python3.7/dist-packages (from requests<3,>=2.21.0->tensorboard~=2.4->tensorflow==2.4.1) (2.10)\n",
            "Requirement already satisfied: chardet<4,>=3.0.2 in /usr/local/lib/python3.7/dist-packages (from requests<3,>=2.21.0->tensorboard~=2.4->tensorflow==2.4.1) (3.0.4)\n",
            "Requirement already satisfied: certifi>=2017.4.17 in /usr/local/lib/python3.7/dist-packages (from requests<3,>=2.21.0->tensorboard~=2.4->tensorflow==2.4.1) (2021.5.30)\n",
            "Requirement already satisfied: pyasn1>=0.1.3 in /usr/local/lib/python3.7/dist-packages (from rsa<5,>=3.1.4; python_version >= \"3.6\"->google-auth<2,>=1.6.3->tensorboard~=2.4->tensorflow==2.4.1) (0.4.8)\n",
            "Requirement already satisfied: zipp>=0.5 in /usr/local/lib/python3.7/dist-packages (from importlib-metadata; python_version < \"3.8\"->markdown>=2.6.8->tensorboard~=2.4->tensorflow==2.4.1) (3.4.1)\n",
            "Requirement already satisfied: oauthlib>=3.0.0 in /usr/local/lib/python3.7/dist-packages (from requests-oauthlib>=0.7.0->google-auth-oauthlib<0.5,>=0.4.1->tensorboard~=2.4->tensorflow==2.4.1) (3.1.1)\n",
            "Installing collected packages: h5py, gast, grpcio, tensorflow-estimator, tensorflow\n",
            "  Found existing installation: h5py 3.1.0\n",
            "    Uninstalling h5py-3.1.0:\n",
            "      Successfully uninstalled h5py-3.1.0\n",
            "  Found existing installation: gast 0.4.0\n",
            "    Uninstalling gast-0.4.0:\n",
            "      Successfully uninstalled gast-0.4.0\n",
            "  Found existing installation: grpcio 1.34.1\n",
            "    Uninstalling grpcio-1.34.1:\n",
            "      Successfully uninstalled grpcio-1.34.1\n",
            "  Found existing installation: tensorflow-estimator 2.5.0\n",
            "    Uninstalling tensorflow-estimator-2.5.0:\n",
            "      Successfully uninstalled tensorflow-estimator-2.5.0\n",
            "  Found existing installation: tensorflow 2.5.0\n",
            "    Uninstalling tensorflow-2.5.0:\n",
            "      Successfully uninstalled tensorflow-2.5.0\n",
            "Successfully installed gast-0.3.3 grpcio-1.32.0 h5py-2.10.0 tensorflow-2.4.1 tensorflow-estimator-2.4.0\n"
          ],
          "name": "stdout"
        },
        {
          "output_type": "display_data",
          "data": {
            "application/vnd.colab-display-data+json": {
              "pip_warning": {
                "packages": [
                  "gast",
                  "grpc",
                  "h5py",
                  "tensorflow",
                  "tensorflow_estimator"
                ]
              }
            }
          },
          "metadata": {
            "tags": []
          }
        }
      ]
    },
    {
      "cell_type": "code",
      "metadata": {
        "id": "08VlWKjbuzAQ"
      },
      "source": [
        "import tensorflow as tf\n",
        "import tensorflow_datasets as tfds"
      ],
      "execution_count": 1,
      "outputs": []
    },
    {
      "cell_type": "code",
      "metadata": {
        "colab": {
          "base_uri": "https://localhost:8080/"
        },
        "id": "Z8yzx92AN7FB",
        "outputId": "3e917a72-2870-444e-e0b7-771eb97acbea"
      },
      "source": [
        "!wget https://raw.githubusercontent.com/mrdbourke/tensorflow-deep-learning/main/extras/helper_functions.py\n",
        "from helper_functions import plot_loss_curves, compare_historys"
      ],
      "execution_count": 2,
      "outputs": [
        {
          "output_type": "stream",
          "text": [
            "--2021-06-27 08:11:53--  https://raw.githubusercontent.com/mrdbourke/tensorflow-deep-learning/main/extras/helper_functions.py\n",
            "Resolving raw.githubusercontent.com (raw.githubusercontent.com)... 185.199.108.133, 185.199.109.133, 185.199.110.133, ...\n",
            "Connecting to raw.githubusercontent.com (raw.githubusercontent.com)|185.199.108.133|:443... connected.\n",
            "HTTP request sent, awaiting response... 200 OK\n",
            "Length: 10246 (10K) [text/plain]\n",
            "Saving to: ‘helper_functions.py.2’\n",
            "\n",
            "\rhelper_functions.py   0%[                    ]       0  --.-KB/s               \rhelper_functions.py 100%[===================>]  10.01K  --.-KB/s    in 0s      \n",
            "\n",
            "2021-06-27 08:11:53 (93.9 MB/s) - ‘helper_functions.py.2’ saved [10246/10246]\n",
            "\n"
          ],
          "name": "stdout"
        }
      ]
    },
    {
      "cell_type": "code",
      "metadata": {
        "id": "Uat4VQynu-E8"
      },
      "source": [
        "(train, test), ds_info  = tfds.load(name=\"food101\",\n",
        "                                  split=[\"train\", 'validation'],\n",
        "                                  shuffle_files=True,\n",
        "                                  as_supervised=True,\n",
        "                                  with_info=True)"
      ],
      "execution_count": 3,
      "outputs": []
    },
    {
      "cell_type": "code",
      "metadata": {
        "colab": {
          "base_uri": "https://localhost:8080/"
        },
        "id": "ZD0NOTbkPM8I",
        "outputId": "9a0099b8-19e7-4fd5-d756-f9448595f1cb"
      },
      "source": [
        "# Get the class names\n",
        "class_names = ds_info.features[\"label\"].names\n",
        "class_names[0:10], len(class_names)"
      ],
      "execution_count": 4,
      "outputs": [
        {
          "output_type": "execute_result",
          "data": {
            "text/plain": [
              "(['apple_pie',\n",
              "  'baby_back_ribs',\n",
              "  'baklava',\n",
              "  'beef_carpaccio',\n",
              "  'beef_tartare',\n",
              "  'beet_salad',\n",
              "  'beignets',\n",
              "  'bibimbap',\n",
              "  'bread_pudding',\n",
              "  'breakfast_burrito'],\n",
              " 101)"
            ]
          },
          "metadata": {
            "tags": []
          },
          "execution_count": 4
        }
      ]
    },
    {
      "cell_type": "code",
      "metadata": {
        "colab": {
          "base_uri": "https://localhost:8080/"
        },
        "id": "UqBhuXIHPMtF",
        "outputId": "045a612b-da08-44cd-f53a-34d0f3e9f44c"
      },
      "source": [
        "train_one_sample = train.take(2)\n",
        "train_one_sample"
      ],
      "execution_count": 5,
      "outputs": [
        {
          "output_type": "execute_result",
          "data": {
            "text/plain": [
              "<TakeDataset shapes: ((None, None, 3), ()), types: (tf.uint8, tf.int64)>"
            ]
          },
          "metadata": {
            "tags": []
          },
          "execution_count": 5
        }
      ]
    },
    {
      "cell_type": "code",
      "metadata": {
        "colab": {
          "base_uri": "https://localhost:8080/"
        },
        "id": "HOs4F4YyPMDv",
        "outputId": "a451f560-1ae8-48ce-ea42-9cd424d54dea"
      },
      "source": [
        "# Output info about training set \n",
        "for image, label in train_one_sample:\n",
        "  print(image.shape,\"\\n\" , image.dtype,\"\\n\",  label,\"\\n\",  class_names[label] )"
      ],
      "execution_count": 6,
      "outputs": [
        {
          "output_type": "stream",
          "text": [
            "(382, 512, 3) \n",
            " <dtype: 'uint8'> \n",
            " tf.Tensor(52, shape=(), dtype=int64) \n",
            " gyoza\n",
            "(512, 512, 3) \n",
            " <dtype: 'uint8'> \n",
            " tf.Tensor(72, shape=(), dtype=int64) \n",
            " pancakes\n"
          ],
          "name": "stdout"
        }
      ]
    },
    {
      "cell_type": "code",
      "metadata": {
        "id": "uv9T7rllvdfu",
        "colab": {
          "base_uri": "https://localhost:8080/"
        },
        "outputId": "030c29e6-4c0b-4d73-bb65-3e0f5e8b2e96"
      },
      "source": [
        "import tensorflow as tf\n",
        "image, tf.reduce_max(image), tf.reduce_min(image)"
      ],
      "execution_count": 7,
      "outputs": [
        {
          "output_type": "execute_result",
          "data": {
            "text/plain": [
              "(<tf.Tensor: shape=(512, 512, 3), dtype=uint8, numpy=\n",
              " array([[[ 42,  40,  51],\n",
              "         [ 41,  39,  50],\n",
              "         [ 40,  38,  49],\n",
              "         ...,\n",
              "         [ 50,  23,   6],\n",
              "         [ 51,  24,   7],\n",
              "         [ 51,  24,   7]],\n",
              " \n",
              "        [[ 41,  39,  50],\n",
              "         [ 41,  39,  50],\n",
              "         [ 41,  39,  50],\n",
              "         ...,\n",
              "         [ 47,  20,   3],\n",
              "         [ 48,  21,   4],\n",
              "         [ 49,  22,   5]],\n",
              " \n",
              "        [[ 40,  38,  49],\n",
              "         [ 41,  39,  50],\n",
              "         [ 42,  40,  51],\n",
              "         ...,\n",
              "         [ 47,  20,   3],\n",
              "         [ 48,  21,   4],\n",
              "         [ 48,  21,   4]],\n",
              " \n",
              "        ...,\n",
              " \n",
              "        [[188, 180, 191],\n",
              "         [188, 180, 191],\n",
              "         [189, 181, 192],\n",
              "         ...,\n",
              "         [179, 178, 186],\n",
              "         [177, 176, 184],\n",
              "         [175, 174, 182]],\n",
              " \n",
              "        [[185, 177, 188],\n",
              "         [186, 178, 189],\n",
              "         [187, 179, 190],\n",
              "         ...,\n",
              "         [178, 177, 185],\n",
              "         [176, 175, 183],\n",
              "         [175, 174, 182]],\n",
              " \n",
              "        [[179, 171, 182],\n",
              "         [181, 173, 184],\n",
              "         [183, 175, 186],\n",
              "         ...,\n",
              "         [177, 176, 184],\n",
              "         [176, 175, 183],\n",
              "         [174, 173, 181]]], dtype=uint8)>,\n",
              " <tf.Tensor: shape=(), dtype=uint8, numpy=255>,\n",
              " <tf.Tensor: shape=(), dtype=uint8, numpy=0>)"
            ]
          },
          "metadata": {
            "tags": []
          },
          "execution_count": 7
        }
      ]
    },
    {
      "cell_type": "code",
      "metadata": {
        "colab": {
          "base_uri": "https://localhost:8080/",
          "height": 286
        },
        "id": "QDJ2nRA1VMvH",
        "outputId": "54f8489c-5ea9-410e-a8e0-2281bdb932d6"
      },
      "source": [
        "import matplotlib.pyplot as plt\n",
        "plt.imshow(image)"
      ],
      "execution_count": 8,
      "outputs": [
        {
          "output_type": "execute_result",
          "data": {
            "text/plain": [
              "<matplotlib.image.AxesImage at 0x7f62300803d0>"
            ]
          },
          "metadata": {
            "tags": []
          },
          "execution_count": 8
        },
        {
          "output_type": "display_data",
          "data": {
            "image/png": "[encoded data removed]",
            "text/plain": [
              "<Figure size 432x288 with 1 Axes>"
            ]
          },
          "metadata": {
            "tags": [],
            "needs_background": "light"
          }
        }
      ]
    },
    {
      "cell_type": "code",
      "metadata": {
        "id": "jLvxfs7HVR0f"
      },
      "source": [
        "# Pre Proceesing Fucntion\n",
        "\n",
        "def preprocess_image(image, label, img_shape=224):\n",
        "  image = tf.image.resize(image, [img_shape,img_shape])\n",
        "  # image = image/255 # Scale image , Not required with EfficientBX.. as it already have a Nomralisation layer\n",
        "  return tf.cast(image, tf.float32), label # Return a tuple of image & label"
      ],
      "execution_count": 9,
      "outputs": []
    },
    {
      "cell_type": "code",
      "metadata": {
        "colab": {
          "base_uri": "https://localhost:8080/"
        },
        "id": "owE0DDjwWG6d",
        "outputId": "d18a1d52-c257-448d-c3fe-bbeb41e49c44"
      },
      "source": [
        "preprocess_image(image=image, label=label)"
      ],
      "execution_count": 10,
      "outputs": [
        {
          "output_type": "execute_result",
          "data": {
            "text/plain": [
              "(<tf.Tensor: shape=(224, 224, 3), dtype=float32, numpy=\n",
              " array([[[ 41.127552 ,  39.127552 ,  50.127552 ],\n",
              "         [ 40.642857 ,  38.642857 ,  49.642857 ],\n",
              "         [ 40.285713 ,  38.285713 ,  49.285713 ],\n",
              "         ...,\n",
              "         [ 48.92855  ,  21.928549 ,   4.500022 ],\n",
              "         [ 47.7398   ,  20.7398   ,   3.7398005],\n",
              "         [ 49.301044 ,  22.301043 ,   5.3010426]],\n",
              " \n",
              "        [[ 40.642857 ,  38.642857 ,  49.642857 ],\n",
              "         [ 42.9949   ,  40.9949   ,  51.9949   ],\n",
              "         [ 41.85714  ,  39.85714  ,  50.85714  ],\n",
              "         ...,\n",
              "         [ 49.127533 ,  22.127531 ,   4.699003 ],\n",
              "         [ 47.862247 ,  20.862246 ,   3.8622465],\n",
              "         [ 48.928574 ,  21.928572 ,   4.9285717]],\n",
              " \n",
              "        [[ 42.07653  ,  39.862244 ,  50.862244 ],\n",
              "         [ 41.071426 ,  38.85714  ,  49.85714  ],\n",
              "         [ 38.663265 ,  36.44898  ,  47.44898  ],\n",
              "         ...,\n",
              "         [ 48.785713 ,  21.785713 ,   4.785714 ],\n",
              "         [ 47.98469  ,  20.770405 ,   4.413263 ],\n",
              "         [ 47.785713 ,  20.571428 ,   4.214286 ]],\n",
              " \n",
              "        ...,\n",
              " \n",
              "        [[192.92348  , 184.92348  , 196.352    ],\n",
              "         [194.19896  , 186.19896  , 199.19896  ],\n",
              "         [194.7398   , 187.16837  , 199.95409  ],\n",
              "         ...,\n",
              "         [177.83165  , 177.83165  , 187.83165  ],\n",
              "         [178.7296   , 177.15813  , 187.94386  ],\n",
              "         [175.64282  , 174.85709  , 183.28561  ]],\n",
              " \n",
              "        [[187.66837  , 179.66837  , 190.66837  ],\n",
              "         [189.00002  , 181.00002  , 192.00002  ],\n",
              "         [193.05609  , 185.48466  , 198.27039  ],\n",
              "         ...,\n",
              "         [179.92856  , 178.35709  , 189.14282  ],\n",
              "         [179.86221  , 178.86221  , 186.86221  ],\n",
              "         [176.28564  , 175.28564  , 183.28564  ]],\n",
              " \n",
              "        [[183.7294   , 175.7294   , 186.7294   ],\n",
              "         [187.7601   , 179.7601   , 190.7601   ],\n",
              "         [189.42854  , 181.8571   , 193.0714   ],\n",
              "         ...,\n",
              "         [176.5663   , 175.78056  , 184.20909  ],\n",
              "         [177.64282  , 176.64282  , 184.64282  ],\n",
              "         [175.51524  , 174.51524  , 182.51524  ]]], dtype=float32)>,\n",
              " <tf.Tensor: shape=(), dtype=int64, numpy=72>)"
            ]
          },
          "metadata": {
            "tags": []
          },
          "execution_count": 10
        }
      ]
    },
    {
      "cell_type": "code",
      "metadata": {
        "id": "leZqK9mTWL0y"
      },
      "source": [
        "## Referring to best practices from tensorflow docuemntation - data performamce\n",
        "\n",
        "## Batch & Prepare datasets usinga, Data Input PIPE LINE\n",
        "#### Map Preprocesing function to train data (and parrlalise it)\n",
        "train_data = train.map(map_func=preprocess_image, num_parallel_calls=tf.data.AUTOTUNE)\n",
        "\n",
        "# Shuffle Train data & turn into batches for loading faster\n",
        "train_data = train_data.shuffle(buffer_size=10000).batch(batch_size=32).prefetch(buffer_size=tf.data.AUTOTUNE) # 10000 Sample at a time , depends upon memory\n",
        "\n",
        "# Map Preprocessing test data\n",
        "test_data = test.map(preprocess_image, num_parallel_calls=tf.data.AUTOTUNE).batch(32).prefetch(buffer_size=tf.data.AUTOTUNE)"
      ],
      "execution_count": 11,
      "outputs": []
    },
    {
      "cell_type": "code",
      "metadata": {
        "colab": {
          "base_uri": "https://localhost:8080/"
        },
        "id": "akhQHMG5aJ35",
        "outputId": "c6c8a94d-b314-4d43-b8a9-a5921988534e"
      },
      "source": [
        "train_data,test_data"
      ],
      "execution_count": 12,
      "outputs": [
        {
          "output_type": "execute_result",
          "data": {
            "text/plain": [
              "(<PrefetchDataset shapes: ((None, 224, 224, 3), (None,)), types: (tf.float32, tf.int64)>,\n",
              " <PrefetchDataset shapes: ((None, 224, 224, 3), (None,)), types: (tf.float32, tf.int64)>)"
            ]
          },
          "metadata": {
            "tags": []
          },
          "execution_count": 12
        }
      ]
    },
    {
      "cell_type": "code",
      "metadata": {
        "id": "EfJYRQ-PaRKQ"
      },
      "source": [
        "## Modelling callbacks\n",
        "\n",
        "# Model Checkpoint\n",
        "checkpoint_path = \"model_checkpoints/cp.ckpt\"\n",
        "\n",
        "model_checkpoint = tf.keras.callbacks.ModelCheckpoint(filepath=checkpoint_path, monitor =\"val_loss\",\n",
        "                                                      save_best_only=True,\n",
        "                                                      save_weights_only=True,\n",
        "                                                      verbose=0)"
      ],
      "execution_count": 13,
      "outputs": []
    },
    {
      "cell_type": "code",
      "metadata": {
        "colab": {
          "base_uri": "https://localhost:8080/"
        },
        "id": "UtvxNfydc-Po",
        "outputId": "e8a2a16a-1668-4b34-f439-0e1e6ec5026e"
      },
      "source": [
        "## Setup Mixed Precision Training\n",
        "from tensorflow.keras import mixed_precision\n",
        "mixed_precision.set_global_policy(\"mixed_float16\")"
      ],
      "execution_count": 14,
      "outputs": [
        {
          "output_type": "stream",
          "text": [
            "INFO:tensorflow:Mixed precision compatibility check (mixed_float16): OK\n",
            "Your GPU will likely run quickly with dtype policy mixed_float16 as it has compute capability of at least 7.0. Your GPU: Tesla T4, compute capability 7.5\n"
          ],
          "name": "stdout"
        },
        {
          "output_type": "stream",
          "text": [
            "INFO:tensorflow:Mixed precision compatibility check (mixed_float16): OK\n",
            "Your GPU will likely run quickly with dtype policy mixed_float16 as it has compute capability of at least 7.0. Your GPU: Tesla T4, compute capability 7.5\n"
          ],
          "name": "stderr"
        }
      ]
    },
    {
      "cell_type": "code",
      "metadata": {
        "colab": {
          "base_uri": "https://localhost:8080/"
        },
        "id": "GgbzqXxmd2Ln",
        "outputId": "cdb613f7-3c77-49a6-b00c-033977061bcf"
      },
      "source": [
        "!nvidia-smi"
      ],
      "execution_count": 15,
      "outputs": [
        {
          "output_type": "stream",
          "text": [
            "Sun Jun 27 08:11:59 2021       \n",
            "+-----------------------------------------------------------------------------+\n",
            "| NVIDIA-SMI 465.27       Driver Version: 460.32.03    CUDA Version: 11.2     |\n",
            "|-------------------------------+----------------------+----------------------+\n",
            "| GPU  Name        Persistence-M| Bus-Id        Disp.A | Volatile Uncorr. ECC |\n",
            "| Fan  Temp  Perf  Pwr:Usage/Cap|         Memory-Usage | GPU-Util  Compute M. |\n",
            "|                               |                      |               MIG M. |\n",
            "|===============================+======================+======================|\n",
            "|   0  Tesla T4            Off  | 00000000:00:04.0 Off |                    0 |\n",
            "| N/A   75C    P0    32W /  70W |    254MiB / 15109MiB |      0%      Default |\n",
            "|                               |                      |                  N/A |\n",
            "+-------------------------------+----------------------+----------------------+\n",
            "                                                                               \n",
            "+-----------------------------------------------------------------------------+\n",
            "| Processes:                                                                  |\n",
            "|  GPU   GI   CI        PID   Type   Process name                  GPU Memory |\n",
            "|        ID   ID                                                   Usage      |\n",
            "|=============================================================================|\n",
            "+-----------------------------------------------------------------------------+\n"
          ],
          "name": "stdout"
        }
      ]
    },
    {
      "cell_type": "code",
      "metadata": {
        "colab": {
          "base_uri": "https://localhost:8080/"
        },
        "id": "OneK-zKHeap8",
        "outputId": "1f31c1ae-9c1a-4075-98de-8c77fa66ce71"
      },
      "source": [
        "mixed_precision.global_policy()"
      ],
      "execution_count": 16,
      "outputs": [
        {
          "output_type": "execute_result",
          "data": {
            "text/plain": [
              "<Policy \"mixed_float16\">"
            ]
          },
          "metadata": {
            "tags": []
          },
          "execution_count": 16
        }
      ]
    },
    {
      "cell_type": "code",
      "metadata": {
        "id": "MM53uLHHexuO"
      },
      "source": [
        "from tensorflow.keras import layers\n",
        "from tensorflow.keras.layers.experimental  import preprocessing\n",
        "\n",
        "input_shape = (224,224,3)\n",
        "\n",
        "base_model = tf.keras.applications.EfficientNetB0(include_top = False )\n",
        "\n",
        "base_model.trainable = False\n",
        "\n",
        "# Create Model\n",
        "inputs = layers.Input(shape=input_shape, name=\"input_layer\")\n",
        "\n",
        "## IF you are uing other than Efficient using preprocessing layer to normalise data\n",
        "# X = preprocessing.Rescaling(1./255)(X)\n",
        "\n",
        "X = base_model(inputs, training=False)\n",
        "X = layers.GlobalAveragePooling2D()(X)\n",
        "X = layers.Dense(len(class_names))(X)\n",
        "outputs = layers.Activation(\"softmax\", dtype=tf.float32, name = \"softmax_float32\")(X) ## Doing it for mixed precision training\n",
        "model = tf.keras.Model(inputs, outputs)\n",
        "\n",
        "\n",
        "# Compile\n",
        "\n",
        "model.compile(loss=\"sparse_categorical_crossentropy\",\n",
        "             optimizer=\"Adam\",\n",
        "             metrics=[\"accuracy\"])"
      ],
      "execution_count": 21,
      "outputs": []
    },
    {
      "cell_type": "code",
      "metadata": {
        "colab": {
          "base_uri": "https://localhost:8080/"
        },
        "id": "kD5LhfMkgHdl",
        "outputId": "7f6b668e-29fc-4953-de62-8b173e3f520d"
      },
      "source": [
        "model.summary()"
      ],
      "execution_count": 22,
      "outputs": [
        {
          "output_type": "stream",
          "text": [
            "Model: \"model\"\n",
            "_________________________________________________________________\n",
            "Layer (type)                 Output Shape              Param #   \n",
            "=================================================================\n",
            "input_layer (InputLayer)     [(None, 224, 224, 3)]     0         \n",
            "_________________________________________________________________\n",
            "efficientnetb0 (Functional)  (None, None, None, 1280)  4049571   \n",
            "_________________________________________________________________\n",
            "global_average_pooling2d (Gl (None, 1280)              0         \n",
            "_________________________________________________________________\n",
            "dense (Dense)                (None, 101)               129381    \n",
            "_________________________________________________________________\n",
            "softmax_float32 (Activation) (None, 101)               0         \n",
            "=================================================================\n",
            "Total params: 4,178,952\n",
            "Trainable params: 129,381\n",
            "Non-trainable params: 4,049,571\n",
            "_________________________________________________________________\n"
          ],
          "name": "stdout"
        }
      ]
    },
    {
      "cell_type": "code",
      "metadata": {
        "colab": {
          "base_uri": "https://localhost:8080/"
        },
        "id": "dFRTn5Jqi_4-",
        "outputId": "f77bfcc2-5527-49b0-cb64-0bcd12d549bc"
      },
      "source": [
        "# check the dtype_policy - are we using mixed precision ?\n",
        "\n",
        "for layer in model.layers:\n",
        "  print(layer.name, layer.trainable, layer.dtype_policy)\n",
        "\n"
      ],
      "execution_count": 23,
      "outputs": [
        {
          "output_type": "stream",
          "text": [
            "input_layer True <Policy \"float32\">\n",
            "efficientnetb0 False <Policy \"mixed_float16\">\n",
            "global_average_pooling2d True <Policy \"mixed_float16\">\n",
            "dense True <Policy \"mixed_float16\">\n",
            "softmax_float32 True <Policy \"float32\">\n"
          ],
          "name": "stdout"
        }
      ]
    },
    {
      "cell_type": "code",
      "metadata": {
        "colab": {
          "base_uri": "https://localhost:8080/"
        },
        "id": "nzxVAqczkexl",
        "outputId": "57bccd6e-351f-4aa9-b148-37eb98d77e73"
      },
      "source": [
        "for layer in model.layers[1].layers[:20]:\n",
        "  print(layer.name, layer.trainable, layer.dtype_policy)\n"
      ],
      "execution_count": 27,
      "outputs": [
        {
          "output_type": "stream",
          "text": [
            "input_4 False <Policy \"float32\">\n",
            "rescaling_3 False <Policy \"mixed_float16\">\n",
            "normalization_3 False <Policy \"float32\">\n",
            "stem_conv_pad False <Policy \"mixed_float16\">\n",
            "stem_conv False <Policy \"mixed_float16\">\n",
            "stem_bn False <Policy \"mixed_float16\">\n",
            "stem_activation False <Policy \"mixed_float16\">\n",
            "block1a_dwconv False <Policy \"mixed_float16\">\n",
            "block1a_bn False <Policy \"mixed_float16\">\n",
            "block1a_activation False <Policy \"mixed_float16\">\n",
            "block1a_se_squeeze False <Policy \"mixed_float16\">\n",
            "block1a_se_reshape False <Policy \"mixed_float16\">\n",
            "block1a_se_reduce False <Policy \"mixed_float16\">\n",
            "block1a_se_expand False <Policy \"mixed_float16\">\n",
            "block1a_se_excite False <Policy \"mixed_float16\">\n",
            "block1a_project_conv False <Policy \"mixed_float16\">\n",
            "block1a_project_bn False <Policy \"mixed_float16\">\n",
            "block2a_expand_conv False <Policy \"mixed_float16\">\n",
            "block2a_expand_bn False <Policy \"mixed_float16\">\n",
            "block2a_expand_activation False <Policy \"mixed_float16\">\n"
          ],
          "name": "stdout"
        }
      ]
    },
    {
      "cell_type": "code",
      "metadata": {
        "id": "mnhFvKS_jx3B"
      },
      "source": [
        "history_model = model.fit(train_data, \n",
        "                          epochs=5,\n",
        "                          steps_per_epoch = len(train_data),\n",
        "                          validation_data = test_data,\n",
        "                          validation_steps = int(0.25 * len(test_data)),\n",
        "                          callbacks=[model_checkpoint])"
      ],
      "execution_count": null,
      "outputs": []
    }
  ]
}