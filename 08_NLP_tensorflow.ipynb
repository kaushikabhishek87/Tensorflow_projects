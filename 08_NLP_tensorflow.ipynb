{
  "nbformat": 4,
  "nbformat_minor": 0,
  "metadata": {
    "colab": {
      "name": "08_NLP_tensorflow.ipynb",
      "provenance": [],
      "collapsed_sections": [],
      "toc_visible": true,
      "authorship_tag": "ABX9TyOB4PRClwIbsaEgDawKdM8P",
      "include_colab_link": true
    },
    "kernelspec": {
      "name": "python3",
      "display_name": "Python 3"
    },
    "language_info": {
      "name": "python"
    }
  },
  "cells": [
    {
      "cell_type": "markdown",
      "metadata": {
        "id": "view-in-github",
        "colab_type": "text"
      },
      "source": [
        "<a href=\"https://colab.research.google.com/github/kaushikabhishek87/Tensorflow_projects/blob/main/08_NLP_tensorflow.ipynb\" target=\"_parent\"><img src=\"https://colab.research.google.com/assets/colab-badge.svg\" alt=\"Open In Colab\"/></a>"
      ]
    },
    {
      "cell_type": "code",
      "metadata": {
        "colab": {
          "base_uri": "https://localhost:8080/"
        },
        "id": "sSIrk0W7Owvi",
        "outputId": "9f440367-a051-4e74-cc2a-b09bb48e32fa"
      },
      "source": [
        "!wget https://raw.githubusercontent.com/mrdbourke/tensorflow-deep-learning/main/extras/helper_functions.py"
      ],
      "execution_count": 2,
      "outputs": [
        {
          "output_type": "stream",
          "text": [
            "--2021-06-28 07:09:16--  https://raw.githubusercontent.com/mrdbourke/tensorflow-deep-learning/main/extras/helper_functions.py\n",
            "Resolving raw.githubusercontent.com (raw.githubusercontent.com)... 185.199.111.133, 185.199.109.133, 185.199.108.133, ...\n",
            "Connecting to raw.githubusercontent.com (raw.githubusercontent.com)|185.199.111.133|:443... connected.\n",
            "HTTP request sent, awaiting response... 200 OK\n",
            "Length: 10246 (10K) [text/plain]\n",
            "Saving to: ‘helper_functions.py’\n",
            "\n",
            "\rhelper_functions.py   0%[                    ]       0  --.-KB/s               \rhelper_functions.py 100%[===================>]  10.01K  --.-KB/s    in 0s      \n",
            "\n",
            "2021-06-28 07:09:16 (101 MB/s) - ‘helper_functions.py’ saved [10246/10246]\n",
            "\n"
          ],
          "name": "stdout"
        }
      ]
    },
    {
      "cell_type": "code",
      "metadata": {
        "id": "PCeGGumqO72e"
      },
      "source": [
        "from helper_functions import unzip_data, compare_historys, plot_loss_curves"
      ],
      "execution_count": 3,
      "outputs": []
    },
    {
      "cell_type": "code",
      "metadata": {
        "colab": {
          "base_uri": "https://localhost:8080/"
        },
        "id": "eJDYIDr_PKXR",
        "outputId": "28b09350-a610-42d0-ee1e-251385500457"
      },
      "source": [
        "#getting data\n",
        "!wget https://storage.googleapis.com/ztm_tf_course/nlp_getting_started.zip"
      ],
      "execution_count": 4,
      "outputs": [
        {
          "output_type": "stream",
          "text": [
            "--2021-06-28 07:09:20--  https://storage.googleapis.com/ztm_tf_course/nlp_getting_started.zip\n",
            "Resolving storage.googleapis.com (storage.googleapis.com)... 74.125.139.128, 74.125.141.128, 173.194.210.128, ...\n",
            "Connecting to storage.googleapis.com (storage.googleapis.com)|74.125.139.128|:443... connected.\n",
            "HTTP request sent, awaiting response... 200 OK\n",
            "Length: 607343 (593K) [application/zip]\n",
            "Saving to: ‘nlp_getting_started.zip’\n",
            "\n",
            "\rnlp_getting_started   0%[                    ]       0  --.-KB/s               \rnlp_getting_started 100%[===================>] 593.11K  --.-KB/s    in 0.005s  \n",
            "\n",
            "2021-06-28 07:09:20 (120 MB/s) - ‘nlp_getting_started.zip’ saved [607343/607343]\n",
            "\n"
          ],
          "name": "stdout"
        }
      ]
    },
    {
      "cell_type": "code",
      "metadata": {
        "id": "fH7rRLauPPB0"
      },
      "source": [
        "unzip_data(\"nlp_getting_started.zip\")"
      ],
      "execution_count": 5,
      "outputs": []
    },
    {
      "cell_type": "code",
      "metadata": {
        "colab": {
          "base_uri": "https://localhost:8080/",
          "height": 204
        },
        "id": "EeR1e_xEPgsw",
        "outputId": "61393e4c-d7e5-4bc7-82d1-58045dd54a67"
      },
      "source": [
        "# Becoming one with data\n",
        "import pandas as pd\n",
        "train_df = pd.read_csv(\"train.csv\")\n",
        "test_df = pd.read_csv(\"test.csv\")\n",
        "train_df.head()"
      ],
      "execution_count": 6,
      "outputs": [
        {
          "output_type": "execute_result",
          "data": {
            "text/html": [
              "<div>\n",
              "<style scoped>\n",
              "    .dataframe tbody tr th:only-of-type {\n",
              "        vertical-align: middle;\n",
              "    }\n",
              "\n",
              "    .dataframe tbody tr th {\n",
              "        vertical-align: top;\n",
              "    }\n",
              "\n",
              "    .dataframe thead th {\n",
              "        text-align: right;\n",
              "    }\n",
              "</style>\n",
              "<table border=\"1\" class=\"dataframe\">\n",
              "  <thead>\n",
              "    <tr style=\"text-align: right;\">\n",
              "      <th></th>\n",
              "      <th>id</th>\n",
              "      <th>keyword</th>\n",
              "      <th>location</th>\n",
              "      <th>text</th>\n",
              "      <th>target</th>\n",
              "    </tr>\n",
              "  </thead>\n",
              "  <tbody>\n",
              "    <tr>\n",
              "      <th>0</th>\n",
              "      <td>1</td>\n",
              "      <td>NaN</td>\n",
              "      <td>NaN</td>\n",
              "      <td>Our Deeds are the Reason of this #earthquake M...</td>\n",
              "      <td>1</td>\n",
              "    </tr>\n",
              "    <tr>\n",
              "      <th>1</th>\n",
              "      <td>4</td>\n",
              "      <td>NaN</td>\n",
              "      <td>NaN</td>\n",
              "      <td>Forest fire near La Ronge Sask. Canada</td>\n",
              "      <td>1</td>\n",
              "    </tr>\n",
              "    <tr>\n",
              "      <th>2</th>\n",
              "      <td>5</td>\n",
              "      <td>NaN</td>\n",
              "      <td>NaN</td>\n",
              "      <td>All residents asked to 'shelter in place' are ...</td>\n",
              "      <td>1</td>\n",
              "    </tr>\n",
              "    <tr>\n",
              "      <th>3</th>\n",
              "      <td>6</td>\n",
              "      <td>NaN</td>\n",
              "      <td>NaN</td>\n",
              "      <td>13,000 people receive #wildfires evacuation or...</td>\n",
              "      <td>1</td>\n",
              "    </tr>\n",
              "    <tr>\n",
              "      <th>4</th>\n",
              "      <td>7</td>\n",
              "      <td>NaN</td>\n",
              "      <td>NaN</td>\n",
              "      <td>Just got sent this photo from Ruby #Alaska as ...</td>\n",
              "      <td>1</td>\n",
              "    </tr>\n",
              "  </tbody>\n",
              "</table>\n",
              "</div>"
            ],
            "text/plain": [
              "   id keyword  ...                                               text target\n",
              "0   1     NaN  ...  Our Deeds are the Reason of this #earthquake M...      1\n",
              "1   4     NaN  ...             Forest fire near La Ronge Sask. Canada      1\n",
              "2   5     NaN  ...  All residents asked to 'shelter in place' are ...      1\n",
              "3   6     NaN  ...  13,000 people receive #wildfires evacuation or...      1\n",
              "4   7     NaN  ...  Just got sent this photo from Ruby #Alaska as ...      1\n",
              "\n",
              "[5 rows x 5 columns]"
            ]
          },
          "metadata": {
            "tags": []
          },
          "execution_count": 6
        }
      ]
    },
    {
      "cell_type": "code",
      "metadata": {
        "colab": {
          "base_uri": "https://localhost:8080/",
          "height": 35
        },
        "id": "p3JsXLmsPxDI",
        "outputId": "30be0a9f-a17c-4456-d45f-d795976015cd"
      },
      "source": [
        "train_df[\"text\"][0]"
      ],
      "execution_count": 7,
      "outputs": [
        {
          "output_type": "execute_result",
          "data": {
            "application/vnd.google.colaboratory.intrinsic+json": {
              "type": "string"
            },
            "text/plain": [
              "'Our Deeds are the Reason of this #earthquake May ALLAH Forgive us all'"
            ]
          },
          "metadata": {
            "tags": []
          },
          "execution_count": 7
        }
      ]
    },
    {
      "cell_type": "code",
      "metadata": {
        "colab": {
          "base_uri": "https://localhost:8080/",
          "height": 204
        },
        "id": "9_3G6isVPw-v",
        "outputId": "a0fa4401-862e-4275-baac-5206984af5f9"
      },
      "source": [
        "# Shuffle training dataframe\n",
        "train_df_shuffled = train_df.sample(frac=1, random_state=42)\n",
        "train_df_shuffled.head()"
      ],
      "execution_count": 8,
      "outputs": [
        {
          "output_type": "execute_result",
          "data": {
            "text/html": [
              "<div>\n",
              "<style scoped>\n",
              "    .dataframe tbody tr th:only-of-type {\n",
              "        vertical-align: middle;\n",
              "    }\n",
              "\n",
              "    .dataframe tbody tr th {\n",
              "        vertical-align: top;\n",
              "    }\n",
              "\n",
              "    .dataframe thead th {\n",
              "        text-align: right;\n",
              "    }\n",
              "</style>\n",
              "<table border=\"1\" class=\"dataframe\">\n",
              "  <thead>\n",
              "    <tr style=\"text-align: right;\">\n",
              "      <th></th>\n",
              "      <th>id</th>\n",
              "      <th>keyword</th>\n",
              "      <th>location</th>\n",
              "      <th>text</th>\n",
              "      <th>target</th>\n",
              "    </tr>\n",
              "  </thead>\n",
              "  <tbody>\n",
              "    <tr>\n",
              "      <th>2644</th>\n",
              "      <td>3796</td>\n",
              "      <td>destruction</td>\n",
              "      <td>NaN</td>\n",
              "      <td>So you have a new weapon that can cause un-ima...</td>\n",
              "      <td>1</td>\n",
              "    </tr>\n",
              "    <tr>\n",
              "      <th>2227</th>\n",
              "      <td>3185</td>\n",
              "      <td>deluge</td>\n",
              "      <td>NaN</td>\n",
              "      <td>The f$&amp;amp;@ing things I do for #GISHWHES Just...</td>\n",
              "      <td>0</td>\n",
              "    </tr>\n",
              "    <tr>\n",
              "      <th>5448</th>\n",
              "      <td>7769</td>\n",
              "      <td>police</td>\n",
              "      <td>UK</td>\n",
              "      <td>DT @georgegalloway: RT @Galloway4Mayor: ÛÏThe...</td>\n",
              "      <td>1</td>\n",
              "    </tr>\n",
              "    <tr>\n",
              "      <th>132</th>\n",
              "      <td>191</td>\n",
              "      <td>aftershock</td>\n",
              "      <td>NaN</td>\n",
              "      <td>Aftershock back to school kick off was great. ...</td>\n",
              "      <td>0</td>\n",
              "    </tr>\n",
              "    <tr>\n",
              "      <th>6845</th>\n",
              "      <td>9810</td>\n",
              "      <td>trauma</td>\n",
              "      <td>Montgomery County, MD</td>\n",
              "      <td>in response to trauma Children of Addicts deve...</td>\n",
              "      <td>0</td>\n",
              "    </tr>\n",
              "  </tbody>\n",
              "</table>\n",
              "</div>"
            ],
            "text/plain": [
              "        id  ... target\n",
              "2644  3796  ...      1\n",
              "2227  3185  ...      0\n",
              "5448  7769  ...      1\n",
              "132    191  ...      0\n",
              "6845  9810  ...      0\n",
              "\n",
              "[5 rows x 5 columns]"
            ]
          },
          "metadata": {
            "tags": []
          },
          "execution_count": 8
        }
      ]
    },
    {
      "cell_type": "code",
      "metadata": {
        "colab": {
          "base_uri": "https://localhost:8080/",
          "height": 204
        },
        "id": "Ay89WCPhPw6T",
        "outputId": "981d14b5-84c8-4562-85f9-1e1b43b751bb"
      },
      "source": [
        "test_df.head()"
      ],
      "execution_count": 9,
      "outputs": [
        {
          "output_type": "execute_result",
          "data": {
            "text/html": [
              "<div>\n",
              "<style scoped>\n",
              "    .dataframe tbody tr th:only-of-type {\n",
              "        vertical-align: middle;\n",
              "    }\n",
              "\n",
              "    .dataframe tbody tr th {\n",
              "        vertical-align: top;\n",
              "    }\n",
              "\n",
              "    .dataframe thead th {\n",
              "        text-align: right;\n",
              "    }\n",
              "</style>\n",
              "<table border=\"1\" class=\"dataframe\">\n",
              "  <thead>\n",
              "    <tr style=\"text-align: right;\">\n",
              "      <th></th>\n",
              "      <th>id</th>\n",
              "      <th>keyword</th>\n",
              "      <th>location</th>\n",
              "      <th>text</th>\n",
              "    </tr>\n",
              "  </thead>\n",
              "  <tbody>\n",
              "    <tr>\n",
              "      <th>0</th>\n",
              "      <td>0</td>\n",
              "      <td>NaN</td>\n",
              "      <td>NaN</td>\n",
              "      <td>Just happened a terrible car crash</td>\n",
              "    </tr>\n",
              "    <tr>\n",
              "      <th>1</th>\n",
              "      <td>2</td>\n",
              "      <td>NaN</td>\n",
              "      <td>NaN</td>\n",
              "      <td>Heard about #earthquake is different cities, s...</td>\n",
              "    </tr>\n",
              "    <tr>\n",
              "      <th>2</th>\n",
              "      <td>3</td>\n",
              "      <td>NaN</td>\n",
              "      <td>NaN</td>\n",
              "      <td>there is a forest fire at spot pond, geese are...</td>\n",
              "    </tr>\n",
              "    <tr>\n",
              "      <th>3</th>\n",
              "      <td>9</td>\n",
              "      <td>NaN</td>\n",
              "      <td>NaN</td>\n",
              "      <td>Apocalypse lighting. #Spokane #wildfires</td>\n",
              "    </tr>\n",
              "    <tr>\n",
              "      <th>4</th>\n",
              "      <td>11</td>\n",
              "      <td>NaN</td>\n",
              "      <td>NaN</td>\n",
              "      <td>Typhoon Soudelor kills 28 in China and Taiwan</td>\n",
              "    </tr>\n",
              "  </tbody>\n",
              "</table>\n",
              "</div>"
            ],
            "text/plain": [
              "   id keyword location                                               text\n",
              "0   0     NaN      NaN                 Just happened a terrible car crash\n",
              "1   2     NaN      NaN  Heard about #earthquake is different cities, s...\n",
              "2   3     NaN      NaN  there is a forest fire at spot pond, geese are...\n",
              "3   9     NaN      NaN           Apocalypse lighting. #Spokane #wildfires\n",
              "4  11     NaN      NaN      Typhoon Soudelor kills 28 in China and Taiwan"
            ]
          },
          "metadata": {
            "tags": []
          },
          "execution_count": 9
        }
      ]
    },
    {
      "cell_type": "code",
      "metadata": {
        "colab": {
          "base_uri": "https://localhost:8080/"
        },
        "id": "rupaQInZPw0w",
        "outputId": "7c0e05ca-3325-4141-8dcb-363621802ea0"
      },
      "source": [
        "# Class distribution\n",
        "train_df.target.value_counts()"
      ],
      "execution_count": 10,
      "outputs": [
        {
          "output_type": "execute_result",
          "data": {
            "text/plain": [
              "0    4342\n",
              "1    3271\n",
              "Name: target, dtype: int64"
            ]
          },
          "metadata": {
            "tags": []
          },
          "execution_count": 10
        }
      ]
    },
    {
      "cell_type": "code",
      "metadata": {
        "colab": {
          "base_uri": "https://localhost:8080/"
        },
        "id": "eerYEEA0PwvR",
        "outputId": "d590bfeb-3a58-4697-fb89-983035c54a21"
      },
      "source": [
        "# Total Sample\n",
        "len(train_df), len(test_df)"
      ],
      "execution_count": 11,
      "outputs": [
        {
          "output_type": "execute_result",
          "data": {
            "text/plain": [
              "(7613, 3263)"
            ]
          },
          "metadata": {
            "tags": []
          },
          "execution_count": 11
        }
      ]
    },
    {
      "cell_type": "code",
      "metadata": {
        "colab": {
          "base_uri": "https://localhost:8080/"
        },
        "id": "nc1A03tePwov",
        "outputId": "343680d1-7681-4e55-87e9-6d3693a93f36"
      },
      "source": [
        "# Visualise some random samples\n",
        "import random\n",
        "random_index = random.randint(0, len(train_df)-5)\n",
        "for row in train_df_shuffled[[\"text\",\"target\"]][random_index:(random_index+5)].itertuples():\n",
        "  _,text, target = row\n",
        "  print(f\"Target:{target}\",\"(real disaster)\" if target >0 else \"(not real disaster)\")\n",
        "  print(f\"Text:\\n {text}\\n\")\n",
        "  print(\"---\\n\")\n"
      ],
      "execution_count": 12,
      "outputs": [
        {
          "output_type": "stream",
          "text": [
            "Target:1 (real disaster)\n",
            "Text:\n",
            " Drought fuels bush fires in Jamaica - http://t.co/0YMF6TXFcH http://t.co/3i3d2NGeNt - @JamaicaObserver @cnewslive RE https://t.co/jyIEkEo2he\n",
            "\n",
            "---\n",
            "\n",
            "Target:1 (real disaster)\n",
            "Text:\n",
            " @TradCatKnight (1) Russia may have played into reason but that link is BS.  Okanowa was bloody and mainline invasion looked like a bloody\n",
            "\n",
            "---\n",
            "\n",
            "Target:0 (not real disaster)\n",
            "Text:\n",
            " Anyone else think that Stephen sounds like Andy Dick when he gets excited? The difference being... I actually like Stephen. #MasterChef\n",
            "\n",
            "---\n",
            "\n",
            "Target:1 (real disaster)\n",
            "Text:\n",
            " Ûª93 blasts accused Yeda Yakub dies in Karachi of heart attack http://t.co/mfKqyxd8XG #Mumbai\n",
            "\n",
            "---\n",
            "\n",
            "Target:1 (real disaster)\n",
            "Text:\n",
            " Really cannot condemn an entire group based on the actions of a few.. A heart-warming unity against terrorism.. http://t.co/HHPvPaEL4n\n",
            "\n",
            "---\n",
            "\n"
          ],
          "name": "stdout"
        }
      ]
    },
    {
      "cell_type": "code",
      "metadata": {
        "id": "HvqJQV_DPwkk"
      },
      "source": [
        "# Split data in traiing & validation dataset\n",
        "from sklearn.model_selection import train_test_split\n",
        "\n",
        "train_sentences, val_sentences, train_labels,  val_labels = train_test_split(train_df_shuffled[\"text\"].to_numpy(), \n",
        "                                                                             train_df_shuffled[\"target\"].to_numpy(),\n",
        "                                                                             test_size=0.1,\n",
        "                                                                             random_state=42\n",
        "                                                                             )"
      ],
      "execution_count": 13,
      "outputs": []
    },
    {
      "cell_type": "code",
      "metadata": {
        "colab": {
          "base_uri": "https://localhost:8080/"
        },
        "id": "W0odafqZPwgh",
        "outputId": "ef1060cd-7657-4ee6-fc60-cea41e76e9eb"
      },
      "source": [
        "train_sentences.shape, train_labels.shape, val_sentences.shape, val_labels.shape"
      ],
      "execution_count": 14,
      "outputs": [
        {
          "output_type": "execute_result",
          "data": {
            "text/plain": [
              "((6851,), (6851,), (762,), (762,))"
            ]
          },
          "metadata": {
            "tags": []
          },
          "execution_count": 14
        }
      ]
    },
    {
      "cell_type": "code",
      "metadata": {
        "colab": {
          "base_uri": "https://localhost:8080/"
        },
        "id": "6uUKRjA5Pwc3",
        "outputId": "fc3b3e4a-9596-4428-ff65-b881656a81ad"
      },
      "source": [
        "train_sentences[:10], train_labels[:10]"
      ],
      "execution_count": 15,
      "outputs": [
        {
          "output_type": "execute_result",
          "data": {
            "text/plain": [
              "(array(['@mogacola @zamtriossu i screamed after hitting tweet',\n",
              "        'Imagine getting flattened by Kurt Zouma',\n",
              "        '@Gurmeetramrahim #MSGDoing111WelfareWorks Green S welfare force ke appx 65000 members har time disaster victim ki help ke liye tyar hai....',\n",
              "        \"@shakjn @C7 @Magnums im shaking in fear he's gonna hack the planet\",\n",
              "        'Somehow find you and I collide http://t.co/Ee8RpOahPk',\n",
              "        '@EvaHanderek @MarleyKnysh great times until the bus driver held us hostage in the mall parking lot lmfao',\n",
              "        'destroy the free fandom honestly',\n",
              "        'Weapons stolen from National Guard Armory in New Albany still missing #Gunsense http://t.co/lKNU8902JE',\n",
              "        '@wfaaweather Pete when will the heat wave pass? Is it really going to be mid month? Frisco Boy Scouts have a canoe trip in Okla.',\n",
              "        'Patient-reported outcomes in long-term survivors of metastatic colorectal cancer - British Journal of Surgery http://t.co/5Yl4DC1Tqt'],\n",
              "       dtype=object), array([0, 0, 1, 0, 0, 1, 1, 0, 1, 1]))"
            ]
          },
          "metadata": {
            "tags": []
          },
          "execution_count": 15
        }
      ]
    },
    {
      "cell_type": "code",
      "metadata": {
        "id": "ucnsvgkzPwZD"
      },
      "source": [
        "# Text Vectorization\n",
        "import tensorflow as tf \n",
        "from tensorflow.keras.layers.experimental.preprocessing import TextVectorization\n",
        "\n",
        "# use default text vectorization\n",
        "\n",
        "text_vectorization = TextVectorization(max_tokens=None,\n",
        "                                standardize=\"lower_and_strip_punctuation\",\n",
        "                                split=\"whitespace\",\n",
        "                                ngrams=None,\n",
        "                                output_mode=\"int\",\n",
        "                                output_sequence_length=None, #pad each seqeunce to longest sequence,\n",
        "                                pad_to_max_tokens = True)\n"
      ],
      "execution_count": 16,
      "outputs": []
    },
    {
      "cell_type": "code",
      "metadata": {
        "colab": {
          "base_uri": "https://localhost:8080/"
        },
        "id": "evyU96m5PwU6",
        "outputId": "a08b8a9a-febe-4dcd-f3bb-e57a91656ff5"
      },
      "source": [
        "# Find the average number of tokens (words) in the training tweets\n",
        "\n",
        "print(train_sentences[0].split())\n",
        "round(sum([len(i.split()) for i in train_sentences ])/len(train_sentences) )"
      ],
      "execution_count": 17,
      "outputs": [
        {
          "output_type": "stream",
          "text": [
            "['@mogacola', '@zamtriossu', 'i', 'screamed', 'after', 'hitting', 'tweet']\n"
          ],
          "name": "stdout"
        },
        {
          "output_type": "execute_result",
          "data": {
            "text/plain": [
              "15"
            ]
          },
          "metadata": {
            "tags": []
          },
          "execution_count": 17
        }
      ]
    },
    {
      "cell_type": "code",
      "metadata": {
        "id": "sTfH48skPwQn"
      },
      "source": [
        "## Set up tex vectorization variables\n",
        "max_vocab_length = 10000 # max number of words in vocabulary\n",
        "max_length = 15 # How many words from a tweet should model see\n",
        "\n",
        "text_vectorizer = TextVectorization(max_tokens=max_vocab_length,\n",
        "                                   output_mode=\"int\",\n",
        "                                   output_sequence_length = max_length)\n"
      ],
      "execution_count": 18,
      "outputs": []
    },
    {
      "cell_type": "code",
      "metadata": {
        "id": "hlHDBxQOPwNE"
      },
      "source": [
        "# Fit the text vectorizer\n",
        "text_vectorizer.adapt(train_sentences)"
      ],
      "execution_count": 19,
      "outputs": []
    },
    {
      "cell_type": "code",
      "metadata": {
        "colab": {
          "base_uri": "https://localhost:8080/"
        },
        "id": "Y5yUkAAbPwJF",
        "outputId": "3c2dbd46-e867-4156-e4c8-0098bf3b37ce"
      },
      "source": [
        "# Create a sample sentence & tokenize it\n",
        "sample_sentence = \"There's a flood in desert\"\n",
        "text_vectorizer([sample_sentence])"
      ],
      "execution_count": 20,
      "outputs": [
        {
          "output_type": "execute_result",
          "data": {
            "text/plain": [
              "<tf.Tensor: shape=(1, 15), dtype=int64, numpy=\n",
              "array([[264,   3, 232,   4,   1,   0,   0,   0,   0,   0,   0,   0,   0,\n",
              "          0,   0]])>"
            ]
          },
          "metadata": {
            "tags": []
          },
          "execution_count": 20
        }
      ]
    },
    {
      "cell_type": "code",
      "metadata": {
        "colab": {
          "base_uri": "https://localhost:8080/"
        },
        "id": "AOma5UI_PwFQ",
        "outputId": "c327c0a5-9225-49f2-ed62-d2d021718557"
      },
      "source": [
        "# Unique words in vocab\n",
        "words_in_vocab = text_vectorizer.get_vocabulary()\n",
        "len(words_in_vocab), words_in_vocab[:5], words_in_vocab[-5:]"
      ],
      "execution_count": 21,
      "outputs": [
        {
          "output_type": "execute_result",
          "data": {
            "text/plain": [
              "(10000,\n",
              " ['', '[UNK]', 'the', 'a', 'in'],\n",
              " ['pages', 'paeds', 'pads', 'padres', 'paddytomlinson1'])"
            ]
          },
          "metadata": {
            "tags": []
          },
          "execution_count": 21
        }
      ]
    },
    {
      "cell_type": "code",
      "metadata": {
        "colab": {
          "base_uri": "https://localhost:8080/"
        },
        "id": "eq3oI-9SPwBV",
        "outputId": "df6bd701-244b-46c0-94b1-76c126065d2f"
      },
      "source": [
        "# Embeddings using embedding layer\n",
        "from tensorflow.keras import layers\n",
        "\n",
        "embedding = layers.Embedding(input_dim=max_vocab_length,\n",
        "                              output_dim=128,\n",
        "                              input_length=max_length)\n",
        "embedding"
      ],
      "execution_count": 22,
      "outputs": [
        {
          "output_type": "execute_result",
          "data": {
            "text/plain": [
              "<tensorflow.python.keras.layers.embeddings.Embedding at 0x7fab3d7114d0>"
            ]
          },
          "metadata": {
            "tags": []
          },
          "execution_count": 22
        }
      ]
    },
    {
      "cell_type": "code",
      "metadata": {
        "id": "d2HK-rnTPv82"
      },
      "source": [
        "samp_embed = embedding(text_vectorizer( [sample_sentence]))"
      ],
      "execution_count": 23,
      "outputs": []
    },
    {
      "cell_type": "code",
      "metadata": {
        "colab": {
          "base_uri": "https://localhost:8080/"
        },
        "id": "mrNcswtHPv2i",
        "outputId": "a3b030ba-ebb8-46b9-cf28-7c92ed78091a"
      },
      "source": [
        "sample_sentence, samp_embed[0][0]"
      ],
      "execution_count": 24,
      "outputs": [
        {
          "output_type": "execute_result",
          "data": {
            "text/plain": [
              "(\"There's a flood in desert\", <tf.Tensor: shape=(128,), dtype=float32, numpy=\n",
              " array([-3.0857468e-02, -3.7301563e-02, -2.7732540e-02, -1.4273725e-02,\n",
              "         4.6905402e-02, -2.2306815e-03,  4.1510571e-02, -1.9172741e-02,\n",
              "         4.9075294e-02,  2.0870138e-02, -4.1261423e-02, -4.7240354e-02,\n",
              "         2.2529874e-02, -1.7713085e-03, -1.3295580e-02, -2.5927676e-02,\n",
              "         1.0762811e-03, -2.8139209e-02,  4.4643767e-03, -3.5763182e-02,\n",
              "        -3.6764979e-02,  2.7274217e-02, -2.9410470e-02,  1.7182771e-02,\n",
              "        -4.8623443e-02, -1.6771629e-04,  4.1839454e-02, -2.3786187e-02,\n",
              "         4.2490210e-02,  1.6464744e-02,  4.6128776e-02,  3.1698551e-02,\n",
              "        -4.5289230e-02, -8.0396645e-03,  1.5124988e-02,  3.3647146e-02,\n",
              "         3.3599827e-02, -3.2950927e-02,  2.6390363e-02,  1.7039325e-02,\n",
              "        -2.9718531e-02,  2.3319934e-02, -4.6303153e-02, -4.7263183e-02,\n",
              "         1.9017007e-02, -3.3853851e-02,  1.7324757e-02, -9.7344518e-03,\n",
              "         2.2102144e-02,  3.6716890e-02,  1.9884262e-02,  3.8447473e-02,\n",
              "        -4.6676397e-04,  2.1466497e-02, -4.5864582e-02, -3.8730919e-02,\n",
              "        -1.3492286e-02,  1.8359307e-02, -1.1099696e-02, -6.6496246e-03,\n",
              "         1.9863058e-02,  7.5734481e-03,  3.0068755e-03,  1.0416351e-02,\n",
              "         4.5682874e-02,  6.1893463e-03, -2.8801763e-02, -2.3449112e-02,\n",
              "        -5.8207884e-03,  2.3206819e-02,  4.4580627e-02, -4.3126799e-02,\n",
              "        -1.7846964e-02, -1.0974456e-02,  1.1336852e-02,  4.8789550e-02,\n",
              "        -6.7339092e-04,  1.4769446e-02, -4.0899526e-02,  2.0050518e-03,\n",
              "         8.8160038e-03,  4.3970261e-02, -4.6374392e-02,  2.0494584e-02,\n",
              "        -1.0133337e-02, -3.5589255e-02,  3.5396386e-02, -6.3955784e-05,\n",
              "        -2.1742141e-02, -2.4452060e-04, -3.5357513e-02,  4.1181866e-02,\n",
              "        -3.0008567e-02, -1.6465284e-02, -4.4045933e-03,  4.7438290e-02,\n",
              "        -3.1483009e-02,  1.5991401e-02, -4.0111102e-02,  7.6183900e-03,\n",
              "         3.7550975e-02,  1.0409243e-03,  1.8936619e-03, -2.7112221e-02,\n",
              "         4.8996281e-02, -1.0925449e-02, -1.5065134e-02, -1.9995093e-02,\n",
              "        -4.7499847e-02,  3.3610351e-03,  4.5473125e-02,  1.1511289e-02,\n",
              "         2.4719391e-02, -2.9647423e-02,  4.4069771e-02,  3.9461020e-02,\n",
              "        -7.9847872e-05,  3.4112778e-02, -8.7508447e-03,  1.5953410e-02,\n",
              "        -8.2868338e-04, -3.0569434e-03, -1.7174102e-02,  4.3489803e-02,\n",
              "        -1.8943572e-02, -3.3998847e-02,  1.5371334e-02,  3.9655194e-03],\n",
              "       dtype=float32)>)"
            ]
          },
          "metadata": {
            "tags": []
          },
          "execution_count": 24
        }
      ]
    },
    {
      "cell_type": "code",
      "metadata": {
        "id": "1atGPoPhPvpa"
      },
      "source": [
        "### Baseline Model\n",
        "from sklearn.feature_extraction.text import TfidfVectorizer\n",
        "from sklearn.naive_bayes import MultinomialNB \n",
        "from sklearn.pipeline import Pipeline "
      ],
      "execution_count": 25,
      "outputs": []
    },
    {
      "cell_type": "code",
      "metadata": {
        "colab": {
          "base_uri": "https://localhost:8080/"
        },
        "id": "ADkn5QliPvia",
        "outputId": "d3c61a6f-5fc7-4d06-a046-7f10ff5c6aad"
      },
      "source": [
        "model_0 = Pipeline([\n",
        "                    (\"tfidf\",TfidfVectorizer()),\n",
        "                    (\"clf\",MultinomialNB())\n",
        "])\n",
        "\n",
        "# Fot Pipeline to training_data\n",
        "model_0.fit(train_sentences, train_labels)"
      ],
      "execution_count": 26,
      "outputs": [
        {
          "output_type": "execute_result",
          "data": {
            "text/plain": [
              "Pipeline(memory=None,\n",
              "         steps=[('tfidf',\n",
              "                 TfidfVectorizer(analyzer='word', binary=False,\n",
              "                                 decode_error='strict',\n",
              "                                 dtype=<class 'numpy.float64'>,\n",
              "                                 encoding='utf-8', input='content',\n",
              "                                 lowercase=True, max_df=1.0, max_features=None,\n",
              "                                 min_df=1, ngram_range=(1, 1), norm='l2',\n",
              "                                 preprocessor=None, smooth_idf=True,\n",
              "                                 stop_words=None, strip_accents=None,\n",
              "                                 sublinear_tf=False,\n",
              "                                 token_pattern='(?u)\\\\b\\\\w\\\\w+\\\\b',\n",
              "                                 tokenizer=None, use_idf=True,\n",
              "                                 vocabulary=None)),\n",
              "                ('clf',\n",
              "                 MultinomialNB(alpha=1.0, class_prior=None, fit_prior=True))],\n",
              "         verbose=False)"
            ]
          },
          "metadata": {
            "tags": []
          },
          "execution_count": 26
        }
      ]
    },
    {
      "cell_type": "code",
      "metadata": {
        "colab": {
          "base_uri": "https://localhost:8080/"
        },
        "id": "v8DpxBTSPvcp",
        "outputId": "46b157e4-d5d6-41eb-e150-bc0ac0d5d46f"
      },
      "source": [
        "# Evaluate base line Model\n",
        "baseline_score = model_0.score(val_sentences, val_labels)\n",
        "print(f\"Baseline accuracy = {baseline_score:.2f}\")"
      ],
      "execution_count": 27,
      "outputs": [
        {
          "output_type": "stream",
          "text": [
            "Baseline accuracy = 0.79\n"
          ],
          "name": "stdout"
        }
      ]
    },
    {
      "cell_type": "code",
      "metadata": {
        "colab": {
          "base_uri": "https://localhost:8080/"
        },
        "id": "Wj7hmX-imm7Y",
        "outputId": "f3a236a9-655b-4b19-c009-8c0243ea1e46"
      },
      "source": [
        "baseline_pred = model_0.predict(val_sentences)\n",
        "baseline_pred[:10]"
      ],
      "execution_count": 28,
      "outputs": [
        {
          "output_type": "execute_result",
          "data": {
            "text/plain": [
              "array([1, 1, 1, 0, 0, 1, 1, 1, 1, 0])"
            ]
          },
          "metadata": {
            "tags": []
          },
          "execution_count": 28
        }
      ]
    },
    {
      "cell_type": "code",
      "metadata": {
        "id": "7fizohFTnA1y"
      },
      "source": [
        "from sklearn.metrics import accuracy_score, precision_score, f1_score, precision_recall_fscore_support\n",
        "\n",
        "def calculate_results(y_true, y_pred):\n",
        "\n",
        "  \"\"\"\n",
        "  Calculates Models accuracy, precision, recall & return a dictionary\n",
        "  \"\"\"\n",
        "\n",
        "  # accuracy  = round(accuracy_score(y_true, y_pred),2)\n",
        "  # precision = round(precision_score(y_true, y_pred),2)\n",
        "  # f1_score_val = round(f1_score(y_true, y_pred),2)\n",
        "\n",
        "  model_accuracy = accuracy_score(y_true, y_pred)\n",
        "\n",
        "  model_precision, model_recall, model_fscore , _ = precision_recall_fscore_support(y_true, y_pred, average=\"weighted\")\n",
        "\n",
        "  model_results = {\"accuracy\": round(model_accuracy,2),\n",
        "                   \"precision\":round(model_precision,2),\n",
        "                   \"recall\":round(model_recall,2),\n",
        "                   \"f1\":round(model_fscore,2)}\n",
        "\n",
        "  return model_results"
      ],
      "execution_count": 29,
      "outputs": []
    },
    {
      "cell_type": "code",
      "metadata": {
        "colab": {
          "base_uri": "https://localhost:8080/"
        },
        "id": "B3oyKsgtnzA_",
        "outputId": "bc5c3cd6-33b0-4799-ffe1-5ce3f3c8373e"
      },
      "source": [
        "baseline_results = calculate_results(val_labels, baseline_pred)\n",
        "baseline_results"
      ],
      "execution_count": 30,
      "outputs": [
        {
          "output_type": "execute_result",
          "data": {
            "text/plain": [
              "{'accuracy': 0.79, 'f1': 0.79, 'precision': 0.81, 'recall': 0.79}"
            ]
          },
          "metadata": {
            "tags": []
          },
          "execution_count": 30
        }
      ]
    },
    {
      "cell_type": "markdown",
      "metadata": {
        "id": "fI5uI3zjn6EE"
      },
      "source": [
        "# Model 1: Feed forward neural network"
      ]
    },
    {
      "cell_type": "code",
      "metadata": {
        "colab": {
          "base_uri": "https://localhost:8080/"
        },
        "id": "_StuQ3ULqbVP",
        "outputId": "9d417903-a662-4c63-a0f8-164d6726d1d1"
      },
      "source": [
        "from tensorflow.keras import layers\n",
        "\n",
        "inputs = layers.Input(shape=(1,), dtype=tf.string)\n",
        "X = text_vectorizer(inputs)\n",
        "X = embedding(X)\n",
        "# X = layers.Flatten()(X)\n",
        "X = layers.GlobalAveragePooling1D()(X)\n",
        "outputs = layers.Dense(1,activation=\"sigmoid\")(X)\n",
        "\n",
        "model_1 = tf.keras.Model(inputs, outputs, name=\"model_1_desnse\")\n",
        "\n",
        "model_1.summary()\n"
      ],
      "execution_count": 31,
      "outputs": [
        {
          "output_type": "stream",
          "text": [
            "Model: \"model_1_desnse\"\n",
            "_________________________________________________________________\n",
            "Layer (type)                 Output Shape              Param #   \n",
            "=================================================================\n",
            "input_1 (InputLayer)         [(None, 1)]               0         \n",
            "_________________________________________________________________\n",
            "text_vectorization_1 (TextVe (None, 15)                0         \n",
            "_________________________________________________________________\n",
            "embedding (Embedding)        (None, 15, 128)           1280000   \n",
            "_________________________________________________________________\n",
            "global_average_pooling1d (Gl (None, 128)               0         \n",
            "_________________________________________________________________\n",
            "dense (Dense)                (None, 1)                 129       \n",
            "=================================================================\n",
            "Total params: 1,280,129\n",
            "Trainable params: 1,280,129\n",
            "Non-trainable params: 0\n",
            "_________________________________________________________________\n"
          ],
          "name": "stdout"
        }
      ]
    },
    {
      "cell_type": "code",
      "metadata": {
        "colab": {
          "base_uri": "https://localhost:8080/"
        },
        "id": "1-G41vG2rbKq",
        "outputId": "527198b5-9216-498a-eabb-d07de560502a"
      },
      "source": [
        "model_1.compile(loss=\"binary_crossentropy\",\n",
        "                optimizer=\"Adam\",\n",
        "                metrics=[\"accuracy\"])\n",
        "\n",
        "model_1_history = model_1.fit(x=train_sentences,\n",
        "                              y=train_labels,\n",
        "                              epochs=5,\n",
        "                              validation_data=(val_sentences, val_labels))"
      ],
      "execution_count": 32,
      "outputs": [
        {
          "output_type": "stream",
          "text": [
            "Epoch 1/5\n",
            "215/215 [==============================] - 5s 18ms/step - loss: 0.6124 - accuracy: 0.6908 - val_loss: 0.5370 - val_accuracy: 0.7598\n",
            "Epoch 2/5\n",
            "215/215 [==============================] - 4s 17ms/step - loss: 0.4415 - accuracy: 0.8206 - val_loss: 0.4711 - val_accuracy: 0.7835\n",
            "Epoch 3/5\n",
            "215/215 [==============================] - 4s 17ms/step - loss: 0.3475 - accuracy: 0.8591 - val_loss: 0.4609 - val_accuracy: 0.7979\n",
            "Epoch 4/5\n",
            "215/215 [==============================] - 3s 16ms/step - loss: 0.2850 - accuracy: 0.8885 - val_loss: 0.4644 - val_accuracy: 0.7913\n",
            "Epoch 5/5\n",
            "215/215 [==============================] - 3s 16ms/step - loss: 0.2380 - accuracy: 0.9104 - val_loss: 0.4860 - val_accuracy: 0.7913\n"
          ],
          "name": "stdout"
        }
      ]
    },
    {
      "cell_type": "code",
      "metadata": {
        "id": "e4Mae-YEsDy7"
      },
      "source": [
        "model_1_pred_probs = model_1.predict(val_sentences)"
      ],
      "execution_count": 33,
      "outputs": []
    },
    {
      "cell_type": "code",
      "metadata": {
        "colab": {
          "base_uri": "https://localhost:8080/"
        },
        "id": "TS75MklNse4d",
        "outputId": "b85b2f87-850b-4a78-a12f-6326707cff5c"
      },
      "source": [
        "model_1_pred_probs[0]"
      ],
      "execution_count": 34,
      "outputs": [
        {
          "output_type": "execute_result",
          "data": {
            "text/plain": [
              "array([0.27251524], dtype=float32)"
            ]
          },
          "metadata": {
            "tags": []
          },
          "execution_count": 34
        }
      ]
    },
    {
      "cell_type": "code",
      "metadata": {
        "colab": {
          "base_uri": "https://localhost:8080/"
        },
        "id": "dC6tgdQlsh2e",
        "outputId": "ae67ec11-b038-4440-a9c4-4917576fb6b3"
      },
      "source": [
        "model_1_pred = tf.squeeze(tf.round(model_1_pred_probs))\n",
        "model_1_pred[0:10]"
      ],
      "execution_count": 35,
      "outputs": [
        {
          "output_type": "execute_result",
          "data": {
            "text/plain": [
              "<tf.Tensor: shape=(10,), dtype=float32, numpy=array([0., 1., 1., 0., 0., 1., 1., 1., 1., 0.], dtype=float32)>"
            ]
          },
          "metadata": {
            "tags": []
          },
          "execution_count": 35
        }
      ]
    },
    {
      "cell_type": "code",
      "metadata": {
        "colab": {
          "base_uri": "https://localhost:8080/"
        },
        "id": "LV8m6288uB5w",
        "outputId": "e1e3ffd9-4d3c-4e5e-a8f8-278afbd55fcf"
      },
      "source": [
        "model_1_results = calculate_results(val_labels, model_1_pred)\n",
        "model_1_results"
      ],
      "execution_count": 36,
      "outputs": [
        {
          "output_type": "execute_result",
          "data": {
            "text/plain": [
              "{'accuracy': 0.79, 'f1': 0.79, 'precision': 0.8, 'recall': 0.79}"
            ]
          },
          "metadata": {
            "tags": []
          },
          "execution_count": 36
        }
      ]
    },
    {
      "cell_type": "code",
      "metadata": {
        "colab": {
          "base_uri": "https://localhost:8080/"
        },
        "id": "XucGI303uTok",
        "outputId": "532155f2-9243-4e8c-904c-e897d2959c82"
      },
      "source": [
        "import numpy as np\n",
        "np.array(list(model_1_results)) > np.array(list(baseline_results))"
      ],
      "execution_count": 37,
      "outputs": [
        {
          "output_type": "execute_result",
          "data": {
            "text/plain": [
              "array([False, False, False, False])"
            ]
          },
          "metadata": {
            "tags": []
          },
          "execution_count": 37
        }
      ]
    },
    {
      "cell_type": "code",
      "metadata": {
        "id": "2yfXid6VuoU1"
      },
      "source": [
        "### Get the weight matric of embedding layer , vector of each word/token from vocabulary\n",
        "embed_weights = model_1.get_layer(\"embedding\").get_weights()[0]"
      ],
      "execution_count": 38,
      "outputs": []
    },
    {
      "cell_type": "code",
      "metadata": {
        "colab": {
          "base_uri": "https://localhost:8080/"
        },
        "id": "-db_iYupwNj9",
        "outputId": "933a80ad-94ae-4a42-ce9d-046b95e5f5aa"
      },
      "source": [
        "embed_weights.shape # length same as total vocabulary"
      ],
      "execution_count": 39,
      "outputs": [
        {
          "output_type": "execute_result",
          "data": {
            "text/plain": [
              "(10000, 128)"
            ]
          },
          "metadata": {
            "tags": []
          },
          "execution_count": 39
        }
      ]
    },
    {
      "cell_type": "code",
      "metadata": {
        "id": "wkIafyWGwUx8"
      },
      "source": [
        "# Visualizing vectors in Tensorflow projector\n",
        "\n",
        "\n",
        "#####Skipped - public view"
      ],
      "execution_count": 40,
      "outputs": []
    },
    {
      "cell_type": "markdown",
      "metadata": {
        "id": "hIuGBUxYw0Xn"
      },
      "source": [
        "### LSTM"
      ]
    },
    {
      "cell_type": "code",
      "metadata": {
        "id": "0r5cbsUy2v6O"
      },
      "source": [
        "import tensorflow as tf\n",
        "from tensorflow.keras import layers\n",
        "\n",
        "inputs = layers.Input(shape=(1,), dtype=tf.string)\n",
        "X = text_vectorizer(inputs)\n",
        "X = embedding(X)\n",
        "# print(X.shape)\n",
        "# X = layers.LSTM(64, return_sequences=True)(X)\n",
        "# print(X.shape)\n",
        "X = layers.LSTM(64)(X)\n",
        "# print(X.shape)\n",
        "# X = layers.Dense(64, activation=\"relu\")(X)\n",
        "outputs = layers.Dense(1, activation=\"sigmoid\")(X)\n",
        "\n",
        "model_2 = tf.keras.Model(inputs, outputs, name=\"model_2_LSTM\")"
      ],
      "execution_count": 41,
      "outputs": []
    },
    {
      "cell_type": "code",
      "metadata": {
        "colab": {
          "base_uri": "https://localhost:8080/"
        },
        "id": "srQSSfAK4XHZ",
        "outputId": "143af19e-7785-448c-e557-dab62eed1d11"
      },
      "source": [
        "model_2.summary()"
      ],
      "execution_count": 42,
      "outputs": [
        {
          "output_type": "stream",
          "text": [
            "Model: \"model_2_LSTM\"\n",
            "_________________________________________________________________\n",
            "Layer (type)                 Output Shape              Param #   \n",
            "=================================================================\n",
            "input_2 (InputLayer)         [(None, 1)]               0         \n",
            "_________________________________________________________________\n",
            "text_vectorization_1 (TextVe (None, 15)                0         \n",
            "_________________________________________________________________\n",
            "embedding (Embedding)        (None, 15, 128)           1280000   \n",
            "_________________________________________________________________\n",
            "lstm (LSTM)                  (None, 64)                49408     \n",
            "_________________________________________________________________\n",
            "dense_1 (Dense)              (None, 1)                 65        \n",
            "=================================================================\n",
            "Total params: 1,329,473\n",
            "Trainable params: 1,329,473\n",
            "Non-trainable params: 0\n",
            "_________________________________________________________________\n"
          ],
          "name": "stdout"
        }
      ]
    },
    {
      "cell_type": "code",
      "metadata": {
        "colab": {
          "base_uri": "https://localhost:8080/"
        },
        "id": "J9L_jjJK5jy0",
        "outputId": "dab4017f-5465-4295-8a33-a4b65a7f8c18"
      },
      "source": [
        "model_2.compile(loss=\"binary_crossentropy\",\n",
        "                optimizer=\"Adam\",\n",
        "                metrics=[\"accuracy\"])\n",
        "\n",
        "history_model_2 = model_2.fit(x = train_sentences, y = train_labels, epochs=5, validation_data = (val_sentences, val_labels))"
      ],
      "execution_count": 43,
      "outputs": [
        {
          "output_type": "stream",
          "text": [
            "Epoch 1/5\n",
            "215/215 [==============================] - 9s 30ms/step - loss: 0.2266 - accuracy: 0.9143 - val_loss: 0.5568 - val_accuracy: 0.7822\n",
            "Epoch 2/5\n",
            "215/215 [==============================] - 6s 28ms/step - loss: 0.1566 - accuracy: 0.9406 - val_loss: 0.5784 - val_accuracy: 0.7808\n",
            "Epoch 3/5\n",
            "215/215 [==============================] - 6s 28ms/step - loss: 0.1276 - accuracy: 0.9518 - val_loss: 0.7495 - val_accuracy: 0.7861\n",
            "Epoch 4/5\n",
            "215/215 [==============================] - 6s 28ms/step - loss: 0.1072 - accuracy: 0.9593 - val_loss: 0.8943 - val_accuracy: 0.7703\n",
            "Epoch 5/5\n",
            "215/215 [==============================] - 6s 29ms/step - loss: 0.0841 - accuracy: 0.9645 - val_loss: 0.9316 - val_accuracy: 0.7717\n"
          ],
          "name": "stdout"
        }
      ]
    },
    {
      "cell_type": "code",
      "metadata": {
        "colab": {
          "base_uri": "https://localhost:8080/"
        },
        "id": "a2IpD1_26PC3",
        "outputId": "8da861fe-6996-4cd4-cd96-f117088983ad"
      },
      "source": [
        "# Prediction\n",
        "model_2_pred_probs = model_2.predict(val_sentences)\n",
        "model_2_pred_probs[:10]"
      ],
      "execution_count": 44,
      "outputs": [
        {
          "output_type": "execute_result",
          "data": {
            "text/plain": [
              "array([[6.5853000e-03],\n",
              "       [8.4542918e-01],\n",
              "       [9.9982727e-01],\n",
              "       [1.7587364e-02],\n",
              "       [3.7896633e-04],\n",
              "       [9.9950361e-01],\n",
              "       [4.2169130e-01],\n",
              "       [9.9990082e-01],\n",
              "       [9.9979758e-01],\n",
              "       [6.1776996e-01]], dtype=float32)"
            ]
          },
          "metadata": {
            "tags": []
          },
          "execution_count": 44
        }
      ]
    },
    {
      "cell_type": "code",
      "metadata": {
        "colab": {
          "base_uri": "https://localhost:8080/"
        },
        "id": "CewBwoX16l-L",
        "outputId": "6505908e-f5c4-4e70-e446-3ff994c307b1"
      },
      "source": [
        "model_2_preds = tf.squeeze(tf.round(model_2_pred_probs))\n",
        "model_2_preds[:10]"
      ],
      "execution_count": 45,
      "outputs": [
        {
          "output_type": "execute_result",
          "data": {
            "text/plain": [
              "<tf.Tensor: shape=(10,), dtype=float32, numpy=array([0., 1., 1., 0., 0., 1., 0., 1., 1., 1.], dtype=float32)>"
            ]
          },
          "metadata": {
            "tags": []
          },
          "execution_count": 45
        }
      ]
    },
    {
      "cell_type": "code",
      "metadata": {
        "colab": {
          "base_uri": "https://localhost:8080/"
        },
        "id": "k944uL6Q6udN",
        "outputId": "46f2409f-7bbd-42ba-e724-940c360558e7"
      },
      "source": [
        "model_2_results = calculate_results(y_true=val_labels, y_pred=model_2_preds)\n",
        "model_2_results"
      ],
      "execution_count": 46,
      "outputs": [
        {
          "output_type": "execute_result",
          "data": {
            "text/plain": [
              "{'accuracy': 0.77, 'f1': 0.77, 'precision': 0.78, 'recall': 0.77}"
            ]
          },
          "metadata": {
            "tags": []
          },
          "execution_count": 46
        }
      ]
    },
    {
      "cell_type": "code",
      "metadata": {
        "colab": {
          "base_uri": "https://localhost:8080/"
        },
        "id": "5gkUdlVR65VQ",
        "outputId": "84b07c03-87c5-40f9-8c72-694eb7454ccd"
      },
      "source": [
        "(np.array(list(model_2_results.values()))) > np.array(list(baseline_results.values()))"
      ],
      "execution_count": 114,
      "outputs": [
        {
          "output_type": "execute_result",
          "data": {
            "text/plain": [
              "array([False, False, False, False])"
            ]
          },
          "metadata": {
            "tags": []
          },
          "execution_count": 114
        }
      ]
    },
    {
      "cell_type": "markdown",
      "metadata": {
        "id": "xGVUK0vM7C1d"
      },
      "source": [
        "## GRU - Gated Reccurent Unit"
      ]
    },
    {
      "cell_type": "code",
      "metadata": {
        "colab": {
          "base_uri": "https://localhost:8080/"
        },
        "id": "gWV5qf1S7cNe",
        "outputId": "91242ce5-e17d-472d-f4f8-e2b946dadcf0"
      },
      "source": [
        "inputs = layers.Input(shape=(1,), dtype=tf.string)\n",
        "X = text_vectorizer(inputs)\n",
        "X = embedding(X)\n",
        "# X = layers.GRU(64, activation=\"tanh\", return_sequences=True)(X)\n",
        "# X = layers.LSTM(64, return_sequences=True)(X)\n",
        "X = layers.GRU(64)(X)\n",
        "# X = layers.Dense(64, activation=\"relu\")(X)\n",
        "# X = layers.GlobalAveragePooling1D()(X)\n",
        "outputs = layers.Dense(1, activation=\"sigmoid\")(X)\n",
        "model_3 = tf.keras.Model(inputs, outputs, name=\"model_3_gru\") \n",
        "model_3.summary()"
      ],
      "execution_count": 48,
      "outputs": [
        {
          "output_type": "stream",
          "text": [
            "Model: \"model_3_gru\"\n",
            "_________________________________________________________________\n",
            "Layer (type)                 Output Shape              Param #   \n",
            "=================================================================\n",
            "input_3 (InputLayer)         [(None, 1)]               0         \n",
            "_________________________________________________________________\n",
            "text_vectorization_1 (TextVe (None, 15)                0         \n",
            "_________________________________________________________________\n",
            "embedding (Embedding)        (None, 15, 128)           1280000   \n",
            "_________________________________________________________________\n",
            "gru (GRU)                    (None, 64)                37248     \n",
            "_________________________________________________________________\n",
            "dense_2 (Dense)              (None, 1)                 65        \n",
            "=================================================================\n",
            "Total params: 1,317,313\n",
            "Trainable params: 1,317,313\n",
            "Non-trainable params: 0\n",
            "_________________________________________________________________\n"
          ],
          "name": "stdout"
        }
      ]
    },
    {
      "cell_type": "code",
      "metadata": {
        "colab": {
          "base_uri": "https://localhost:8080/"
        },
        "id": "TjSE_H_X9IYu",
        "outputId": "f9bb5549-4f5f-4083-8158-f672b2a0e4ab"
      },
      "source": [
        "model_3.compile(loss=\"binary_crossentropy\",\n",
        "                optimizer=\"Adam\",\n",
        "                metrics=[\"accuracy\"])\n",
        "\n",
        "history_model_3 = model_3.fit(train_sentences, train_labels, epochs=5, validation_data = (val_sentences, val_labels))"
      ],
      "execution_count": 49,
      "outputs": [
        {
          "output_type": "stream",
          "text": [
            "Epoch 1/5\n",
            "215/215 [==============================] - 9s 30ms/step - loss: 0.1544 - accuracy: 0.9399 - val_loss: 0.6640 - val_accuracy: 0.7677\n",
            "Epoch 2/5\n",
            "215/215 [==============================] - 6s 27ms/step - loss: 0.0817 - accuracy: 0.9701 - val_loss: 0.8909 - val_accuracy: 0.7782\n",
            "Epoch 3/5\n",
            "215/215 [==============================] - 6s 28ms/step - loss: 0.0701 - accuracy: 0.9715 - val_loss: 1.0606 - val_accuracy: 0.7756\n",
            "Epoch 4/5\n",
            "215/215 [==============================] - 6s 27ms/step - loss: 0.0566 - accuracy: 0.9755 - val_loss: 0.9426 - val_accuracy: 0.7730\n",
            "Epoch 5/5\n",
            "215/215 [==============================] - 6s 28ms/step - loss: 0.0510 - accuracy: 0.9774 - val_loss: 1.4812 - val_accuracy: 0.7677\n"
          ],
          "name": "stdout"
        }
      ]
    },
    {
      "cell_type": "code",
      "metadata": {
        "colab": {
          "base_uri": "https://localhost:8080/"
        },
        "id": "7vDduhrK-xVL",
        "outputId": "d97f8fbf-c69a-43be-9548-7b137235770a"
      },
      "source": [
        "model_3_pred_probs = model_3.predict(val_sentences)\n",
        "model_3_pred_probs[:10]"
      ],
      "execution_count": 50,
      "outputs": [
        {
          "output_type": "execute_result",
          "data": {
            "text/plain": [
              "array([[2.6654571e-02],\n",
              "       [8.6993867e-01],\n",
              "       [9.9996400e-01],\n",
              "       [6.9242775e-02],\n",
              "       [2.8882181e-05],\n",
              "       [9.9992764e-01],\n",
              "       [9.7883058e-01],\n",
              "       [9.9997818e-01],\n",
              "       [9.9995971e-01],\n",
              "       [9.9805939e-01]], dtype=float32)"
            ]
          },
          "metadata": {
            "tags": []
          },
          "execution_count": 50
        }
      ]
    },
    {
      "cell_type": "code",
      "metadata": {
        "colab": {
          "base_uri": "https://localhost:8080/"
        },
        "id": "l-WwS3Y5-5HM",
        "outputId": "b491443f-2e24-42c9-a5e9-1c0d17fae919"
      },
      "source": [
        "model_3_preds = tf.squeeze(tf.round(model_3_pred_probs))\n",
        "model_3_preds[:5]"
      ],
      "execution_count": 51,
      "outputs": [
        {
          "output_type": "execute_result",
          "data": {
            "text/plain": [
              "<tf.Tensor: shape=(5,), dtype=float32, numpy=array([0., 1., 1., 0., 0.], dtype=float32)>"
            ]
          },
          "metadata": {
            "tags": []
          },
          "execution_count": 51
        }
      ]
    },
    {
      "cell_type": "code",
      "metadata": {
        "colab": {
          "base_uri": "https://localhost:8080/"
        },
        "id": "aZj4Bfqf_HPP",
        "outputId": "c53570f5-8cb6-4976-b2f3-37360ef9f325"
      },
      "source": [
        "model_3_results = calculate_results(val_labels, model_3_preds)\n",
        "model_3_results"
      ],
      "execution_count": 52,
      "outputs": [
        {
          "output_type": "execute_result",
          "data": {
            "text/plain": [
              "{'accuracy': 0.77, 'f1': 0.77, 'precision': 0.77, 'recall': 0.77}"
            ]
          },
          "metadata": {
            "tags": []
          },
          "execution_count": 52
        }
      ]
    },
    {
      "cell_type": "markdown",
      "metadata": {
        "id": "zRrgLUVA_RqQ"
      },
      "source": [
        "## Bi-Directional RNN"
      ]
    },
    {
      "cell_type": "code",
      "metadata": {
        "id": "XOdlkXi5I7OG"
      },
      "source": [
        "from tensorflow.keras import layers\n",
        "\n",
        "inputs = layers.Input(shape=(1,), dtype = tf.string)\n",
        "X = text_vectorizer(inputs)\n",
        "X = embedding(X)\n",
        "# X = layers.Bidirectional(layers.LSTM(64, return_sequences=True))(X)\n",
        "X = layers.Bidirectional(layers.GRU(64))(X)\n",
        "outputs = layers.Dense(1, activation=\"sigmoid\")(X)\n",
        "model_4 = tf.keras.Model(inputs, outputs, name=\"model_4\")"
      ],
      "execution_count": 59,
      "outputs": []
    },
    {
      "cell_type": "code",
      "metadata": {
        "colab": {
          "base_uri": "https://localhost:8080/"
        },
        "id": "B6AUhGdJfINK",
        "outputId": "c321f9a7-06cc-4b71-a088-0d85e3390945"
      },
      "source": [
        "model_4.summary()"
      ],
      "execution_count": 60,
      "outputs": [
        {
          "output_type": "stream",
          "text": [
            "Model: \"model_4\"\n",
            "_________________________________________________________________\n",
            "Layer (type)                 Output Shape              Param #   \n",
            "=================================================================\n",
            "input_6 (InputLayer)         [(None, 1)]               0         \n",
            "_________________________________________________________________\n",
            "text_vectorization_1 (TextVe (None, 15)                0         \n",
            "_________________________________________________________________\n",
            "embedding (Embedding)        (None, 15, 128)           1280000   \n",
            "_________________________________________________________________\n",
            "bidirectional_2 (Bidirection (None, 128)               74496     \n",
            "_________________________________________________________________\n",
            "dense_4 (Dense)              (None, 1)                 129       \n",
            "=================================================================\n",
            "Total params: 1,354,625\n",
            "Trainable params: 1,354,625\n",
            "Non-trainable params: 0\n",
            "_________________________________________________________________\n"
          ],
          "name": "stdout"
        }
      ]
    },
    {
      "cell_type": "code",
      "metadata": {
        "colab": {
          "base_uri": "https://localhost:8080/"
        },
        "id": "1l9j-NYXfS5j",
        "outputId": "91fcdd81-51aa-4ec1-e238-2c5202c80cd7"
      },
      "source": [
        "model_4.compile(loss=\"binary_crossentropy\",\n",
        "                optimizer=\"Adam\",\n",
        "                metrics=[\"accuracy\"])\n",
        "\n",
        "history_model_4 = model_4.fit(train_sentences, train_labels, epochs=5, validation_data = (val_sentences, val_labels))"
      ],
      "execution_count": 61,
      "outputs": [
        {
          "output_type": "stream",
          "text": [
            "Epoch 1/5\n",
            "215/215 [==============================] - 12s 40ms/step - loss: 0.1225 - accuracy: 0.9600 - val_loss: 0.8068 - val_accuracy: 0.7730\n",
            "Epoch 2/5\n",
            "215/215 [==============================] - 8s 36ms/step - loss: 0.0610 - accuracy: 0.9761 - val_loss: 1.0757 - val_accuracy: 0.7677\n",
            "Epoch 3/5\n",
            "215/215 [==============================] - 8s 37ms/step - loss: 0.0505 - accuracy: 0.9774 - val_loss: 1.1611 - val_accuracy: 0.7730\n",
            "Epoch 4/5\n",
            "215/215 [==============================] - 8s 35ms/step - loss: 0.0420 - accuracy: 0.9803 - val_loss: 1.0943 - val_accuracy: 0.7730\n",
            "Epoch 5/5\n",
            "215/215 [==============================] - 8s 36ms/step - loss: 0.0443 - accuracy: 0.9777 - val_loss: 1.2201 - val_accuracy: 0.7703\n"
          ],
          "name": "stdout"
        }
      ]
    },
    {
      "cell_type": "code",
      "metadata": {
        "colab": {
          "base_uri": "https://localhost:8080/"
        },
        "id": "oo6tdqtEgEz6",
        "outputId": "354a24ed-7670-4eff-a7e6-53b7b457abfd"
      },
      "source": [
        "model_4_pred_probs = model_4.predict(val_sentences)\n",
        "model_4_pred_probs[:10]"
      ],
      "execution_count": 62,
      "outputs": [
        {
          "output_type": "execute_result",
          "data": {
            "text/plain": [
              "array([[1.5474528e-02],\n",
              "       [7.3474324e-01],\n",
              "       [9.9982035e-01],\n",
              "       [1.3102213e-01],\n",
              "       [2.4066947e-05],\n",
              "       [9.9920738e-01],\n",
              "       [8.0813903e-01],\n",
              "       [9.9998897e-01],\n",
              "       [9.9994290e-01],\n",
              "       [9.5688224e-01]], dtype=float32)"
            ]
          },
          "metadata": {
            "tags": []
          },
          "execution_count": 62
        }
      ]
    },
    {
      "cell_type": "code",
      "metadata": {
        "colab": {
          "base_uri": "https://localhost:8080/"
        },
        "id": "i5jjH7_dgNcc",
        "outputId": "793bc1f5-ca14-4301-e6bd-a6bf8c4ce12a"
      },
      "source": [
        "model_4_preds = tf.squeeze(tf.round(model_4_pred_probs))\n",
        "model_4_preds[:10]"
      ],
      "execution_count": 64,
      "outputs": [
        {
          "output_type": "execute_result",
          "data": {
            "text/plain": [
              "<tf.Tensor: shape=(10,), dtype=float32, numpy=array([0., 1., 1., 0., 0., 1., 1., 1., 1., 1.], dtype=float32)>"
            ]
          },
          "metadata": {
            "tags": []
          },
          "execution_count": 64
        }
      ]
    },
    {
      "cell_type": "code",
      "metadata": {
        "colab": {
          "base_uri": "https://localhost:8080/"
        },
        "id": "UfxCYt2OgY6e",
        "outputId": "e3f13248-e8f1-4600-ec54-008d3be0bf6e"
      },
      "source": [
        "model_4_results = calculate_results(val_labels, model_4_preds)\n",
        "model_4_results"
      ],
      "execution_count": 65,
      "outputs": [
        {
          "output_type": "execute_result",
          "data": {
            "text/plain": [
              "{'accuracy': 0.77, 'f1': 0.77, 'precision': 0.77, 'recall': 0.77}"
            ]
          },
          "metadata": {
            "tags": []
          },
          "execution_count": 65
        }
      ]
    },
    {
      "cell_type": "markdown",
      "metadata": {
        "id": "MbulAi1Kgluz"
      },
      "source": [
        "## 1D Convolutional Neural Network"
      ]
    },
    {
      "cell_type": "code",
      "metadata": {
        "colab": {
          "base_uri": "https://localhost:8080/"
        },
        "id": "6XjapudWhCR5",
        "outputId": "5b77b4b2-3465-4a58-c271-adfd9939e9e3"
      },
      "source": [
        "from tensorflow.keras import layers\n",
        "\n",
        "inputs = layers.Input(shape=(1,), dtype=tf.string)\n",
        "X = text_vectorizer(inputs)\n",
        "X = embedding(X)\n",
        "X = layers.Conv1D(filters=64, kernel_size=5, strides=1, activation=\"relu\", padding=\"valid\")(X)\n",
        "X = layers.GlobalMaxPool1D()(X)\n",
        "outputs = layers.Dense(1, activation=\"sigmoid\")(X)\n",
        "\n",
        "model_5 = tf.keras.Model(inputs, outputs, name = \"model_5\")\n",
        "\n",
        "model_5.summary()"
      ],
      "execution_count": 77,
      "outputs": [
        {
          "output_type": "stream",
          "text": [
            "Model: \"model_5\"\n",
            "_________________________________________________________________\n",
            "Layer (type)                 Output Shape              Param #   \n",
            "=================================================================\n",
            "input_12 (InputLayer)        [(None, 1)]               0         \n",
            "_________________________________________________________________\n",
            "text_vectorization_1 (TextVe (None, 15)                0         \n",
            "_________________________________________________________________\n",
            "embedding (Embedding)        (None, 15, 128)           1280000   \n",
            "_________________________________________________________________\n",
            "conv1d_4 (Conv1D)            (None, 11, 64)            41024     \n",
            "_________________________________________________________________\n",
            "global_max_pooling1d_1 (Glob (None, 64)                0         \n",
            "_________________________________________________________________\n",
            "dense_9 (Dense)              (None, 1)                 65        \n",
            "=================================================================\n",
            "Total params: 1,321,089\n",
            "Trainable params: 1,321,089\n",
            "Non-trainable params: 0\n",
            "_________________________________________________________________\n"
          ],
          "name": "stdout"
        }
      ]
    },
    {
      "cell_type": "code",
      "metadata": {
        "colab": {
          "base_uri": "https://localhost:8080/"
        },
        "id": "c5LzQFw-hzYi",
        "outputId": "582980b6-6a98-440f-e65c-c443faca3dde"
      },
      "source": [
        "model_5.compile(loss=\"binary_crossentropy\",\n",
        "                optimizer=\"Adam\",\n",
        "                metrics=[\"accuracy\"])\n",
        "\n",
        "history_model_5 = model_5.fit(train_sentences, train_labels, epochs=5, validation_data=(val_sentences, val_labels))"
      ],
      "execution_count": 78,
      "outputs": [
        {
          "output_type": "stream",
          "text": [
            "Epoch 1/5\n",
            "215/215 [==============================] - 5s 21ms/step - loss: 0.0774 - accuracy: 0.9783 - val_loss: 1.1154 - val_accuracy: 0.7480\n",
            "Epoch 2/5\n",
            "215/215 [==============================] - 4s 20ms/step - loss: 0.0481 - accuracy: 0.9804 - val_loss: 1.2284 - val_accuracy: 0.7480\n",
            "Epoch 3/5\n",
            "215/215 [==============================] - 4s 20ms/step - loss: 0.0445 - accuracy: 0.9809 - val_loss: 1.1962 - val_accuracy: 0.7507\n",
            "Epoch 4/5\n",
            "215/215 [==============================] - 5s 21ms/step - loss: 0.0430 - accuracy: 0.9807 - val_loss: 1.2931 - val_accuracy: 0.7480\n",
            "Epoch 5/5\n",
            "215/215 [==============================] - 4s 21ms/step - loss: 0.0425 - accuracy: 0.9799 - val_loss: 1.3158 - val_accuracy: 0.7546\n"
          ],
          "name": "stdout"
        }
      ]
    },
    {
      "cell_type": "code",
      "metadata": {
        "colab": {
          "base_uri": "https://localhost:8080/"
        },
        "id": "Ow7KmROnidA8",
        "outputId": "e14393bd-40df-4ed4-833a-5ff82ac263a4"
      },
      "source": [
        "model_5_pred_probs = model_5.predict(val_sentences)\n",
        "model_5_pred_probs[:10]"
      ],
      "execution_count": 86,
      "outputs": [
        {
          "output_type": "execute_result",
          "data": {
            "text/plain": [
              "array([[7.5367033e-01],\n",
              "       [9.4796312e-01],\n",
              "       [9.9996901e-01],\n",
              "       [3.9752573e-02],\n",
              "       [5.0249231e-08],\n",
              "       [9.9543464e-01],\n",
              "       [9.7459328e-01],\n",
              "       [9.9998999e-01],\n",
              "       [1.0000000e+00],\n",
              "       [9.9013764e-01]], dtype=float32)"
            ]
          },
          "metadata": {
            "tags": []
          },
          "execution_count": 86
        }
      ]
    },
    {
      "cell_type": "code",
      "metadata": {
        "colab": {
          "base_uri": "https://localhost:8080/"
        },
        "id": "frBz8ufHmT7N",
        "outputId": "4a5c3c22-27ae-4c4a-d1b0-51edc1041b8c"
      },
      "source": [
        "model_5_preds = tf.squeeze(tf.round(model_5_pred_probs))\n",
        "model_5_preds[:5]"
      ],
      "execution_count": 87,
      "outputs": [
        {
          "output_type": "execute_result",
          "data": {
            "text/plain": [
              "<tf.Tensor: shape=(5,), dtype=float32, numpy=array([1., 1., 1., 0., 0.], dtype=float32)>"
            ]
          },
          "metadata": {
            "tags": []
          },
          "execution_count": 87
        }
      ]
    },
    {
      "cell_type": "code",
      "metadata": {
        "colab": {
          "base_uri": "https://localhost:8080/"
        },
        "id": "2RZhsm-JmbAx",
        "outputId": "b7888b01-50e5-4bc5-975a-556915068a3e"
      },
      "source": [
        "model_5_results = calculate_results(val_labels, model_5_preds)\n",
        "model_5_results "
      ],
      "execution_count": 88,
      "outputs": [
        {
          "output_type": "execute_result",
          "data": {
            "text/plain": [
              "{'accuracy': 0.75, 'f1': 0.75, 'precision': 0.75, 'recall': 0.75}"
            ]
          },
          "metadata": {
            "tags": []
          },
          "execution_count": 88
        }
      ]
    },
    {
      "cell_type": "markdown",
      "metadata": {
        "id": "49hqAU8dmkMK"
      },
      "source": [
        "## Model 6 : Tensorflow Hub Pretrained Sentence Encoder"
      ]
    },
    {
      "cell_type": "code",
      "metadata": {
        "id": "iAwskSLjp0-w"
      },
      "source": [
        "import tensorflow_hub as hub \n",
        "embed = hub.load(\"https://tfhub.dev/google/universal-sentence-encoder/4\")"
      ],
      "execution_count": 90,
      "outputs": []
    },
    {
      "cell_type": "code",
      "metadata": {
        "colab": {
          "base_uri": "https://localhost:8080/"
        },
        "id": "i6BhqpD6qNQL",
        "outputId": "b9903830-39b5-45f0-fe33-40efcedd6dee"
      },
      "source": [
        "embed_samples[0].shape"
      ],
      "execution_count": 93,
      "outputs": [
        {
          "output_type": "execute_result",
          "data": {
            "text/plain": [
              "TensorShape([512])"
            ]
          },
          "metadata": {
            "tags": []
          },
          "execution_count": 93
        }
      ]
    },
    {
      "cell_type": "code",
      "metadata": {
        "colab": {
          "base_uri": "https://localhost:8080/"
        },
        "id": "aovEr7G2qRwN",
        "outputId": "b8bee04f-b4a9-4b09-e8a9-c5add2c5876f"
      },
      "source": [
        "embed_samples = embed([sample_sentence])\n",
        "print(embed_samples[0][0:50])"
      ],
      "execution_count": 91,
      "outputs": [
        {
          "output_type": "stream",
          "text": [
            "tf.Tensor(\n",
            "[-0.03918234  0.00964771  0.04330787 -0.03425474  0.04044541  0.022034\n",
            "  0.06457665  0.05395906 -0.00645233 -0.0040193   0.00374234  0.03399842\n",
            " -0.0001142   0.03466038  0.07106083 -0.04737619  0.01955563  0.04163401\n",
            " -0.01249781 -0.04233589 -0.03306966  0.03382533  0.04126192  0.05407469\n",
            "  0.06432928 -0.06034325  0.02075243 -0.02950704 -0.01111731 -0.05624956\n",
            " -0.03747579 -0.00436223 -0.05266851 -0.01103335 -0.03791904 -0.02382589\n",
            "  0.01105018  0.0494301   0.03233043 -0.06248476  0.00571993 -0.02107519\n",
            " -0.07163376  0.05579812 -0.08994923 -0.01900215  0.03486373  0.00160859\n",
            " -0.03825596  0.06149543], shape=(50,), dtype=float32)\n"
          ],
          "name": "stdout"
        }
      ]
    },
    {
      "cell_type": "code",
      "metadata": {
        "id": "kjBE0Casqk5n"
      },
      "source": [
        "# Model\n",
        "senetnce_encoder_layer = hub.KerasLayer(\"https://tfhub.dev/google/universal-sentence-encoder/4\", \n",
        "                                        input_shape=[],\n",
        "                                        dtype=tf.string,\n",
        "                                        trainable=False,\n",
        "                                        name=\"USE\") # Input can be variable length as given in the documentation of this particular model on tensorflow\n"
      ],
      "execution_count": 94,
      "outputs": []
    },
    {
      "cell_type": "code",
      "metadata": {
        "colab": {
          "base_uri": "https://localhost:8080/"
        },
        "id": "FjqP-YPCrtf1",
        "outputId": "8feec488-1a43-422f-eefa-d602bdca2489"
      },
      "source": [
        "model_6 = tf.keras.Sequential([\n",
        "   senetnce_encoder_layer,\n",
        "   layers.Dense(128, activation=\"relu\"),\n",
        "   layers.Dense(1, activation=\"sigmoid\",name=\"output_layer\")                                \n",
        "],  name = \"model_6\")\n",
        "\n",
        "model_6.compile(loss=\"binary_crossentropy\",\n",
        "                optimizer=\"Adam\",\n",
        "                metrics=[\"accuracy\"])\n",
        "model_6.summary()"
      ],
      "execution_count": 115,
      "outputs": [
        {
          "output_type": "stream",
          "text": [
            "Model: \"model_6\"\n",
            "_________________________________________________________________\n",
            "Layer (type)                 Output Shape              Param #   \n",
            "=================================================================\n",
            "keras_layer (KerasLayer)     (None, 512)               256797824 \n",
            "_________________________________________________________________\n",
            "dense_14 (Dense)             (None, 128)               65664     \n",
            "_________________________________________________________________\n",
            "output_layer (Dense)         (None, 1)                 129       \n",
            "=================================================================\n",
            "Total params: 256,863,617\n",
            "Trainable params: 65,793\n",
            "Non-trainable params: 256,797,824\n",
            "_________________________________________________________________\n"
          ],
          "name": "stdout"
        }
      ]
    },
    {
      "cell_type": "code",
      "metadata": {
        "colab": {
          "base_uri": "https://localhost:8080/"
        },
        "id": "1hhMZ-oIsI0R",
        "outputId": "5c98df64-ff59-4f39-bcbb-40f2417c6c13"
      },
      "source": [
        "history_model_6 = model_6.fit(train_sentences, train_labels, epochs=5, validation_data = (val_sentences, val_labels))"
      ],
      "execution_count": 116,
      "outputs": [
        {
          "output_type": "stream",
          "text": [
            "Epoch 1/5\n",
            "215/215 [==============================] - 4s 14ms/step - loss: 0.4878 - accuracy: 0.7881 - val_loss: 0.4543 - val_accuracy: 0.8018\n",
            "Epoch 2/5\n",
            "215/215 [==============================] - 3s 12ms/step - loss: 0.4105 - accuracy: 0.8190 - val_loss: 0.4392 - val_accuracy: 0.8123\n",
            "Epoch 3/5\n",
            "215/215 [==============================] - 2s 12ms/step - loss: 0.3960 - accuracy: 0.8251 - val_loss: 0.4317 - val_accuracy: 0.8097\n",
            "Epoch 4/5\n",
            "215/215 [==============================] - 3s 12ms/step - loss: 0.3871 - accuracy: 0.8294 - val_loss: 0.4318 - val_accuracy: 0.8163\n",
            "Epoch 5/5\n",
            "215/215 [==============================] - 3s 12ms/step - loss: 0.3773 - accuracy: 0.8330 - val_loss: 0.4260 - val_accuracy: 0.8202\n"
          ],
          "name": "stdout"
        }
      ]
    },
    {
      "cell_type": "code",
      "metadata": {
        "id": "an1zKc91sedC"
      },
      "source": [
        "model_6_pred_probs = model_6.predict(val_sentences)"
      ],
      "execution_count": 117,
      "outputs": []
    },
    {
      "cell_type": "code",
      "metadata": {
        "id": "8T-VZX2CsopD"
      },
      "source": [
        "model_6_preds = tf.squeeze(tf.round(model_6_pred_probs))"
      ],
      "execution_count": 118,
      "outputs": []
    },
    {
      "cell_type": "code",
      "metadata": {
        "colab": {
          "base_uri": "https://localhost:8080/"
        },
        "id": "MjlVWgtHsvhK",
        "outputId": "d21dabcc-2902-4d4c-85bf-d61a6d330c4d"
      },
      "source": [
        "model_6_results = calculate_results(val_labels, model_6_preds)\n",
        "model_6_results"
      ],
      "execution_count": 119,
      "outputs": [
        {
          "output_type": "execute_result",
          "data": {
            "text/plain": [
              "{'accuracy': 0.82, 'f1': 0.82, 'precision': 0.82, 'recall': 0.82}"
            ]
          },
          "metadata": {
            "tags": []
          },
          "execution_count": 119
        }
      ]
    },
    {
      "cell_type": "code",
      "metadata": {
        "colab": {
          "base_uri": "https://localhost:8080/"
        },
        "id": "1dGypvB2s4eq",
        "outputId": "d8f92895-e159-4a8e-b5d1-8b87dcf8f2cc"
      },
      "source": [
        "np.array(list(model_6_results.values())) > np.array(list(baseline_results.values()))"
      ],
      "execution_count": 120,
      "outputs": [
        {
          "output_type": "execute_result",
          "data": {
            "text/plain": [
              "array([ True,  True,  True,  True])"
            ]
          },
          "metadata": {
            "tags": []
          },
          "execution_count": 120
        }
      ]
    },
    {
      "cell_type": "code",
      "metadata": {
        "id": "uGreh72Fs_9y"
      },
      "source": [
        ""
      ],
      "execution_count": 114,
      "outputs": []
    },
    {
      "cell_type": "code",
      "metadata": {
        "id": "vt8WaPSCtB_X"
      },
      "source": [
        ""
      ],
      "execution_count": 114,
      "outputs": []
    }
  ]
}