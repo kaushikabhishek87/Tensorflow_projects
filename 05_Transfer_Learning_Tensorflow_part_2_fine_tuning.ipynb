ng{
  "nbformat": 4,
  "nbformat_minor": 0,
  "metadata": {
    "colab": {
      "name": "05_Transfer_Learning_Tensorflow_part_2_fine_tuning.ipynb",
      "provenance": [],
      "collapsed_sections": [],
      "authorship_tag": "ABX9TyM7UB0GYZL1eb7dEaFS9Q+2",
      "include_colab_link": true
    },
    "kernelspec": {
      "display_name": "Python 3",
      "name": "python3"
    },
    "language_info": {
      "name": "python"
    }
  },
  "cells": [
    {
      "cell_type": "markdown",
      "metadata": {
        "id": "view-in-github",
        "colab_type": "text"
      },
      "source": [
        "<a href=\"https://colab.research.google.com/github/kaushikabhishek87/Tensorflow_projects/blob/main/05_Transfer_Learning_Tensorflow_part_2_fine_tuning.ipynb\" target=\"_parent\"><img src=\"https://colab.research.google.com/assets/colab-badge.svg\" alt=\"Open In Colab\"/></a>"
      ]
    },
    {
      "cell_type": "code",
      "metadata": {
        "colab": {
          "base_uri": "https://localhost:8080/"
        },
        "id": "TTIyaXi5O8hs",
        "outputId": "31aea588-9e40-46f0-de7c-d20c776708b2"
      },
      "source": [
        "# Importing helper functions\n",
        "!wget https://raw.githubusercontent.com/mrdbourke/tensorflow-deep-learning/main/extras/helper_functions.py"
      ],
      "execution_count": 2,
      "outputs": [
        {
          "output_type": "stream",
          "text": [
            "--2021-06-25 05:30:09--  https://raw.githubusercontent.com/mrdbourke/tensorflow-deep-learning/main/extras/helper_functions.py\n",
            "Resolving raw.githubusercontent.com (raw.githubusercontent.com)... 185.199.108.133, 185.199.109.133, 185.199.111.133, ...\n",
            "Connecting to raw.githubusercontent.com (raw.githubusercontent.com)|185.199.108.133|:443... connected.\n",
            "HTTP request sent, awaiting response... 200 OK\n",
            "Length: 10246 (10K) [text/plain]\n",
            "Saving to: ‘helper_functions.py’\n",
            "\n",
            "helper_functions.py 100%[===================>]  10.01K  --.-KB/s    in 0s      \n",
            "\n",
            "2021-06-25 05:30:09 (82.8 MB/s) - ‘helper_functions.py’ saved [10246/10246]\n",
            "\n"
          ],
          "name": "stdout"
        }
      ]
    },
    {
      "cell_type": "code",
      "metadata": {
        "id": "L5xdnV-GnP0_"
      },
      "source": [
        "from helper_functions import create_tensorboard_callback, plot_loss_curves, unzip_data, walk_through_dir"
      ],
      "execution_count": 3,
      "outputs": []
    },
    {
      "cell_type": "code",
      "metadata": {
        "colab": {
          "base_uri": "https://localhost:8080/"
        },
        "id": "TIySIfvKnhAA",
        "outputId": "5fb77cbf-808c-4bda-84bb-1a5ee5300851"
      },
      "source": [
        "# Fetching Data\n",
        "!wget https://storage.googleapis.com/ztm_tf_course/food_vision/10_food_classes_10_percent.zip\n",
        "\n",
        "unzip_data(\"10_food_classes_10_percent.zip\")"
      ],
      "execution_count": 4,
      "outputs": [
        {
          "output_type": "stream",
          "text": [
            "--2021-06-25 05:30:14--  https://storage.googleapis.com/ztm_tf_course/food_vision/10_food_classes_10_percent.zip\n",
            "Resolving storage.googleapis.com (storage.googleapis.com)... 173.194.79.128, 108.177.119.128, 108.177.126.128, ...\n",
            "Connecting to storage.googleapis.com (storage.googleapis.com)|173.194.79.128|:443... connected.\n",
            "HTTP request sent, awaiting response... 200 OK\n",
            "Length: 168546183 (161M) [application/zip]\n",
            "Saving to: ‘10_food_classes_10_percent.zip’\n",
            "\n",
            "10_food_classes_10_ 100%[===================>] 160.74M  49.4MB/s    in 3.3s    \n",
            "\n",
            "2021-06-25 05:30:18 (49.4 MB/s) - ‘10_food_classes_10_percent.zip’ saved [168546183/168546183]\n",
            "\n"
          ],
          "name": "stdout"
        }
      ]
    },
    {
      "cell_type": "code",
      "metadata": {
        "colab": {
          "base_uri": "https://localhost:8080/"
        },
        "id": "0bCO085eoXFW",
        "outputId": "194be661-2999-45ed-bee1-25c7b9149d8e"
      },
      "source": [
        "# Check out images & subdir\n",
        "\n",
        "walk_through_dir(\"10_food_classes_10_percent\")"
      ],
      "execution_count": 16,
      "outputs": [
        {
          "output_type": "stream",
          "text": [
            "There are 2 directories and 0 images in '10_food_classes_10_percent'.\n",
            "There are 10 directories and 0 images in '10_food_classes_10_percent/test'.\n",
            "There are 0 directories and 250 images in '10_food_classes_10_percent/test/grilled_salmon'.\n",
            "There are 0 directories and 250 images in '10_food_classes_10_percent/test/hamburger'.\n",
            "There are 0 directories and 250 images in '10_food_classes_10_percent/test/ramen'.\n",
            "There are 0 directories and 250 images in '10_food_classes_10_percent/test/ice_cream'.\n",
            "There are 0 directories and 250 images in '10_food_classes_10_percent/test/chicken_curry'.\n",
            "There are 0 directories and 250 images in '10_food_classes_10_percent/test/pizza'.\n",
            "There are 0 directories and 250 images in '10_food_classes_10_percent/test/steak'.\n",
            "There are 0 directories and 250 images in '10_food_classes_10_percent/test/chicken_wings'.\n",
            "There are 0 directories and 250 images in '10_food_classes_10_percent/test/fried_rice'.\n",
            "There are 0 directories and 250 images in '10_food_classes_10_percent/test/sushi'.\n",
            "There are 10 directories and 0 images in '10_food_classes_10_percent/train'.\n",
            "There are 0 directories and 75 images in '10_food_classes_10_percent/train/grilled_salmon'.\n",
            "There are 0 directories and 75 images in '10_food_classes_10_percent/train/hamburger'.\n",
            "There are 0 directories and 75 images in '10_food_classes_10_percent/train/ramen'.\n",
            "There are 0 directories and 75 images in '10_food_classes_10_percent/train/ice_cream'.\n",
            "There are 0 directories and 75 images in '10_food_classes_10_percent/train/chicken_curry'.\n",
            "There are 0 directories and 75 images in '10_food_classes_10_percent/train/pizza'.\n",
            "There are 0 directories and 75 images in '10_food_classes_10_percent/train/steak'.\n",
            "There are 0 directories and 75 images in '10_food_classes_10_percent/train/chicken_wings'.\n",
            "There are 0 directories and 75 images in '10_food_classes_10_percent/train/fried_rice'.\n",
            "There are 0 directories and 75 images in '10_food_classes_10_percent/train/sushi'.\n"
          ],
          "name": "stdout"
        }
      ]
    },
    {
      "cell_type": "code",
      "metadata": {
        "id": "KX2Dab7folZX"
      },
      "source": [
        "train_dir = \"10_food_classes_10_percent/train\"\n",
        "test_dir =  \"10_food_classes_10_percent/test\""
      ],
      "execution_count": 17,
      "outputs": []
    },
    {
      "cell_type": "code",
      "metadata": {
        "id": "gdWkAbXPo1Pb"
      },
      "source": [
        "import tensorflow as tf\n",
        "IMG_SIZE = (224,224)\n",
        "BATCH_SIZE= 32"
      ],
      "execution_count": 18,
      "outputs": []
    },
    {
      "cell_type": "code",
      "metadata": {
        "colab": {
          "base_uri": "https://localhost:8080/"
        },
        "id": "T-mU21Kbo4_Z",
        "outputId": "67e980f2-76fe-4617-c2e4-bdbb39829c8e"
      },
      "source": [
        "# Using image_dataset_from_directory insted of ImageDataGenerator as it is better and new version\n",
        "train_data = tf.keras.preprocessing.image_dataset_from_directory(directory= train_dir,\n",
        "                                                                    image_size=IMG_SIZE, \n",
        "                                                                    label_mode=\"categorical\",\n",
        "                                                                    batch_size=BATCH_SIZE,)\n",
        "\n",
        "test_data = tf.keras.preprocessing.image_dataset_from_directory(directory = test_dir,\n",
        "                                                                  label_mode=\"categorical\",\n",
        "                                                                  image_size=IMG_SIZE,\n",
        "                                                                  batch_size=BATCH_SIZE)"
      ],
      "execution_count": 19,
      "outputs": [
        {
          "output_type": "stream",
          "text": [
            "Found 750 files belonging to 10 classes.\n",
            "Found 2500 files belonging to 10 classes.\n"
          ],
          "name": "stdout"
        }
      ]
    },
    {
      "cell_type": "code",
      "metadata": {
        "colab": {
          "base_uri": "https://localhost:8080/"
        },
        "id": "KWHVqWp7qMQT",
        "outputId": "263bb29d-a32a-4067-fe94-7aa09d85777d"
      },
      "source": [
        "train_data"
      ],
      "execution_count": null,
      "outputs": [
        {
          "output_type": "execute_result",
          "data": {
            "text/plain": [
              "<BatchDataset shapes: ((None, 224, 224, 3), (None, 10)), types: (tf.float32, tf.float32)>"
            ]
          },
          "metadata": {
            "tags": []
          },
          "execution_count": 8
        }
      ]
    },
    {
      "cell_type": "code",
      "metadata": {
        "colab": {
          "base_uri": "https://localhost:8080/"
        },
        "id": "O7t1zbFdqc_P",
        "outputId": "eb7d3f84-2621-4b06-ec61-52349eeb19ad"
      },
      "source": [
        "# Class Names\n",
        "train_data.class_names"
      ],
      "execution_count": null,
      "outputs": [
        {
          "output_type": "execute_result",
          "data": {
            "text/plain": [
              "['chicken_curry',\n",
              " 'chicken_wings',\n",
              " 'fried_rice',\n",
              " 'grilled_salmon',\n",
              " 'hamburger',\n",
              " 'ice_cream',\n",
              " 'pizza',\n",
              " 'ramen',\n",
              " 'steak',\n",
              " 'sushi']"
            ]
          },
          "metadata": {
            "tags": []
          },
          "execution_count": 9
        }
      ]
    },
    {
      "cell_type": "code",
      "metadata": {
        "colab": {
          "base_uri": "https://localhost:8080/"
        },
        "id": "U5Pd22mlq_Bq",
        "outputId": "1d573e3e-0db1-4fe3-bfed-223b45d664b5"
      },
      "source": [
        "for images, labels in train_data.take(1):\n",
        "  print(images, labels)\n"
      ],
      "execution_count": null,
      "outputs": [
        {
          "output_type": "stream",
          "text": [
            "tf.Tensor(\n",
            "[[[[ 72.71429    118.71429    107.71429   ]\n",
            "   [ 69.571434   115.571434   104.571434  ]\n",
            "   [ 73.35204    119.35204    108.35204   ]\n",
            "   ...\n",
            "   [ 59.78567    114.64286    101.362236  ]\n",
            "   [ 57.68877    112.97449     99.61734   ]\n",
            "   [ 56.357143   111.64286     98.28571   ]]\n",
            "\n",
            "  [[ 73.38265    119.38265    108.38265   ]\n",
            "   [ 71.86224    117.86224    106.86224   ]\n",
            "   [ 75.19898    121.19898    110.19898   ]\n",
            "   ...\n",
            "   [ 56.173466   116.92857    102.015305  ]\n",
            "   [ 55.071415   115.85713    100.92856   ]\n",
            "   [ 54.142857   114.92857    100.        ]]\n",
            "\n",
            "  [[ 72.57143    118.57143    108.57143   ]\n",
            "   [ 71.28571    117.28571    107.28571   ]\n",
            "   [ 73.         119.         109.        ]\n",
            "   ...\n",
            "   [ 54.979557   114.21429    102.21429   ]\n",
            "   [ 54.428574   114.         102.        ]\n",
            "   [ 54.147934   113.71936    101.71936   ]]\n",
            "\n",
            "  ...\n",
            "\n",
            "  [[ 50.27546     96.27546     83.27546   ]\n",
            "   [ 45.704098    91.7041      78.7041    ]\n",
            "   [ 54.734924   100.092064    89.30635   ]\n",
            "   ...\n",
            "   [ 33.04591     71.83164     54.474438  ]\n",
            "   [ 33.127575    72.12758     54.127575  ]\n",
            "   [ 36.142914    75.142914    57.142914  ]]\n",
            "\n",
            "  [[ 51.994896    97.994896    84.994896  ]\n",
            "   [ 54.071457   100.07146     87.07146   ]\n",
            "   [ 53.72958     99.132645    88.33163   ]\n",
            "   ...\n",
            "   [ 35.270397    72.05614     55.698925  ]\n",
            "   [ 35.066338    72.06634     55.066338  ]\n",
            "   [ 35.92856     72.92856     55.92856   ]]\n",
            "\n",
            "  [[ 50.596836    94.59684     81.59684   ]\n",
            "   [ 48.765       94.765       81.765     ]\n",
            "   [ 53.433437    99.43344     88.43344   ]\n",
            "   ...\n",
            "   [ 36.357178    72.14791     56.07135   ]\n",
            "   [ 37.071533    73.          56.357178  ]\n",
            "   [ 37.071533    73.          56.357178  ]]]\n",
            "\n",
            "\n",
            " [[[ 20.83163     27.903059    13.290815  ]\n",
            "   [ 18.076529    24.030611    13.551021  ]\n",
            "   [  0.9030607    3.117346     0.4591834 ]\n",
            "   ...\n",
            "   [ 10.530596     6.959185    20.959185  ]\n",
            "   [  7.346906     6.275495    20.275496  ]\n",
            "   [  7.3367267    8.336726    26.336727  ]]\n",
            "\n",
            "  [[  8.459186     8.627553     6.500002  ]\n",
            "   [  9.765307     9.908164     7.8265324 ]\n",
            "   [  8.07143      8.102042     8.025512  ]\n",
            "   ...\n",
            "   [  4.581647     0.6122604   13.35208   ]\n",
            "   [  9.178635     7.1123414   21.178652  ]\n",
            "   [  8.0306225    8.367349    25.704075  ]]\n",
            "\n",
            "  [[ 17.168367    10.52551     14.158163  ]\n",
            "   [ 13.724491     7.2551026   10.382653  ]\n",
            "   [ 15.709185    11.494899    10.234694  ]\n",
            "   ...\n",
            "   [ 10.877538     4.6632433   19.091831  ]\n",
            "   [  9.377545     5.1633124   20.234724  ]\n",
            "   [  9.617347     6.403061    23.40306   ]]\n",
            "\n",
            "  ...\n",
            "\n",
            "  [[ 63.505157    42.571514    20.301128  ]\n",
            "   [ 61.84693     39.84693     16.775503  ]\n",
            "   [ 74.93353     53.71925     27.362106  ]\n",
            "   ...\n",
            "   [  0.           0.           2.        ]\n",
            "   [  0.           0.           2.        ]\n",
            "   [  0.           0.           2.        ]]\n",
            "\n",
            "  [[ 59.933662    38.933662    17.93366   ]\n",
            "   [ 63.494804    43.494804    19.423378  ]\n",
            "   [ 65.25519     43.68376     19.469473  ]\n",
            "   ...\n",
            "   [  0.           0.           2.        ]\n",
            "   [  0.           0.           2.        ]\n",
            "   [  0.           0.           2.        ]]\n",
            "\n",
            "  [[ 68.1226      47.122593    26.122593  ]\n",
            "   [ 58.959297    38.959297    14.887869  ]\n",
            "   [ 70.34679     48.775356    24.56107   ]\n",
            "   ...\n",
            "   [  0.           0.           2.        ]\n",
            "   [  0.           0.           2.        ]\n",
            "   [  0.           0.           2.        ]]]\n",
            "\n",
            "\n",
            " [[[118.          81.          55.        ]\n",
            "   [130.80612     90.80612     65.80612   ]\n",
            "   [142.21939     99.79082     75.57653   ]\n",
            "   ...\n",
            "   [ 18.63772     16.209192    17.056147  ]\n",
            "   [ 15.168346    15.31123     15.239788  ]\n",
            "   [ 16.127598    17.127598    19.127598  ]]\n",
            "\n",
            "  [[112.168365    76.168365    52.168365  ]\n",
            "   [123.92347     85.724495    62.790817  ]\n",
            "   [137.2143      94.58674     70.77042   ]\n",
            "   ...\n",
            "   [ 21.95918     17.127552    21.071428  ]\n",
            "   [ 17.85713     16.132664    18.994898  ]\n",
            "   [ 16.954084    16.096941    21.025513  ]]\n",
            "\n",
            "  [[105.79082     69.29591     48.857143  ]\n",
            "   [116.5         78.5         57.530613  ]\n",
            "   [128.64287     86.          64.21429   ]\n",
            "   ...\n",
            "   [ 32.83163     19.545916    22.352072  ]\n",
            "   [ 32.49999     20.571442    23.642857  ]\n",
            "   [ 29.132534    20.132639    21.918318  ]]\n",
            "\n",
            "  ...\n",
            "\n",
            "  [[ 13.214264    13.214264    13.214264  ]\n",
            "   [ 12.015305    12.015305    12.015305  ]\n",
            "   [ 12.83165     12.83165     12.83165   ]\n",
            "   ...\n",
            "   [131.65837    105.58706     50.444115  ]\n",
            "   [144.10703    123.82139     64.85194   ]\n",
            "   [131.94312    115.66764     53.66764   ]]\n",
            "\n",
            "  [[ 13.          13.          13.        ]\n",
            "   [ 14.000013    14.000013    14.000013  ]\n",
            "   [ 15.270418    15.270418    15.270418  ]\n",
            "   ...\n",
            "   [100.34689     89.02036     30.87754   ]\n",
            "   [113.4897      98.75505     39.688713  ]\n",
            "   [112.09179     97.423454    37.85198   ]]\n",
            "\n",
            "  [[ 12.872437    12.872437    12.872437  ]\n",
            "   [ 14.928572    14.928572    14.928572  ]\n",
            "   [ 14.923462    14.923462    14.923462  ]\n",
            "   ...\n",
            "   [ 85.887955    82.74001     26.245102  ]\n",
            "   [104.41874     94.03613     37.612625  ]\n",
            "   [139.04251    124.0425      68.583305  ]]]\n",
            "\n",
            "\n",
            " ...\n",
            "\n",
            "\n",
            " [[[ 22.540817    12.540816     0.7704082 ]\n",
            "   [ 27.54592     15.545918     3.5459187 ]\n",
            "   [ 34.066326    20.066328    11.066327  ]\n",
            "   ...\n",
            "   [  0.           3.           0.        ]\n",
            "   [  0.           3.           0.        ]\n",
            "   [  0.           3.           0.        ]]\n",
            "\n",
            "  [[ 25.90306     15.903061     3.9030612 ]\n",
            "   [ 27.010204    15.010204     3.0102046 ]\n",
            "   [ 36.07143     23.07143     14.071428  ]\n",
            "   ...\n",
            "   [  0.           3.           0.        ]\n",
            "   [  0.           3.           0.        ]\n",
            "   [  0.           3.           0.        ]]\n",
            "\n",
            "  [[ 27.010204    17.010204     5.010204  ]\n",
            "   [ 30.571428    17.785715     8.142858  ]\n",
            "   [ 33.260204    20.765306    11.765306  ]\n",
            "   ...\n",
            "   [  0.           3.           0.        ]\n",
            "   [  0.           3.           0.        ]\n",
            "   [  0.           3.           0.        ]]\n",
            "\n",
            "  ...\n",
            "\n",
            "  [[  7.1377344    9.137734     4.1377344 ]\n",
            "   [  8.785706    10.785706     5.7857056 ]\n",
            "   [  7.0663056    9.571403     4.403037  ]\n",
            "   ...\n",
            "   [ 73.16324     43.234623    23.096937  ]\n",
            "   [ 74.959145    43.53062     31.071472  ]\n",
            "   [ 74.076294    42.63763     33.57129   ]]\n",
            "\n",
            "  [[  4.3571253    6.3571253    1.3571255 ]\n",
            "   [  7.9336724    9.933673     4.9336724 ]\n",
            "   [  5.214286     7.214286     2.2142859 ]\n",
            "   ...\n",
            "   [ 67.6683      40.57138     21.168362  ]\n",
            "   [ 67.42853     39.29591     27.43366   ]\n",
            "   [ 65.04566     35.999756    28.6631    ]]\n",
            "\n",
            "  [[  4.285719     5.285719     0.87245184]\n",
            "   [  8.357147    10.357147     5.357147  ]\n",
            "   [  5.571433     7.571433     2.571433  ]\n",
            "   ...\n",
            "   [ 56.214203    31.351944    10.647935  ]\n",
            "   [ 58.18881     32.117367    18.066399  ]\n",
            "   [ 58.300842    31.30084     23.015196  ]]]\n",
            "\n",
            "\n",
            " [[[254.         254.         254.        ]\n",
            "   [254.         254.         254.        ]\n",
            "   [254.         254.         254.        ]\n",
            "   ...\n",
            "   [175.28575    177.07149    192.71428   ]\n",
            "   [178.42859    180.42859    195.42859   ]\n",
            "   [181.07146    183.07146    198.07146   ]]\n",
            "\n",
            "  [[254.         254.         254.        ]\n",
            "   [254.         254.         254.        ]\n",
            "   [254.         254.         254.        ]\n",
            "   ...\n",
            "   [172.42863    174.21437    189.85716   ]\n",
            "   [176.07144    178.07144    193.07144   ]\n",
            "   [179.35718    181.35718    196.35718   ]]\n",
            "\n",
            "  [[254.         254.         254.        ]\n",
            "   [254.         254.         254.        ]\n",
            "   [254.         254.         254.        ]\n",
            "   ...\n",
            "   [173.57149    175.35722    191.00002   ]\n",
            "   [178.08675    180.08675    195.08675   ]\n",
            "   [181.8521     183.8521     198.8521    ]]\n",
            "\n",
            "  ...\n",
            "\n",
            "  [[233.8572     236.28572    224.64293   ]\n",
            "   [239.22966    241.65819    230.0154    ]\n",
            "   [240.2602     241.92346    231.09183   ]\n",
            "   ...\n",
            "   [240.78574    245.78574    239.78574   ]\n",
            "   [241.07144    246.07144    240.07144   ]\n",
            "   [242.86226    247.86226    241.86226   ]]\n",
            "\n",
            "  [[229.66327    228.45406    218.85713   ]\n",
            "   [237.71938    237.70407    227.70918   ]\n",
            "   [241.42857    241.42857    231.42857   ]\n",
            "   ...\n",
            "   [240.2704     245.2704     239.2704    ]\n",
            "   [241.13779    246.13779    240.13779   ]\n",
            "   [242.4031     247.4031     241.4031    ]]\n",
            "\n",
            "  [[235.07156    231.48482    222.48482   ]\n",
            "   [238.90817    235.90817    226.90817   ]\n",
            "   [240.56628    238.20914    228.56628   ]\n",
            "   ...\n",
            "   [243.35718    248.35718    242.35718   ]\n",
            "   [243.42862    248.42862    242.42862   ]\n",
            "   [244.94395    249.94395    243.94395   ]]]\n",
            "\n",
            "\n",
            " [[[137.89795     57.69898     42.59694   ]\n",
            "   [139.58163     67.53572     50.010204  ]\n",
            "   [154.98979     88.84694     70.994896  ]\n",
            "   ...\n",
            "   [ 33.6377      31.280554    20.351984  ]\n",
            "   [ 33.617393    33.617393    23.617395  ]\n",
            "   [ 38.87247     38.87247     29.33163   ]]\n",
            "\n",
            "  [[139.89795     56.90306     39.234695  ]\n",
            "   [129.64796     54.285713    35.15306   ]\n",
            "   [141.25511     69.73979     50.209187  ]\n",
            "   ...\n",
            "   [ 37.413223    34.341793    27.627508  ]\n",
            "   [ 35.066338    34.99491     27.280624  ]\n",
            "   [ 35.92857     35.260235    29.33667   ]]\n",
            "\n",
            "  [[143.63266     56.34694     37.137756  ]\n",
            "   [136.45918     58.586735    35.760204  ]\n",
            "   [136.63266     61.35204     38.612244  ]\n",
            "   ...\n",
            "   [ 38.448994    34.448994    33.02042   ]\n",
            "   [ 36.57143     35.57143     33.142857  ]\n",
            "   [ 35.785713    34.785713    32.357143  ]]\n",
            "\n",
            "  ...\n",
            "\n",
            "  [[174.2143     180.         176.        ]\n",
            "   [174.2143     180.         176.        ]\n",
            "   [173.16838    178.95409    174.95409   ]\n",
            "   ...\n",
            "   [141.95409     90.09183     51.045914  ]\n",
            "   [141.51527     89.48466     49.714264  ]\n",
            "   [139.7857      87.35712     47.785706  ]]\n",
            "\n",
            "  [[174.07141    179.07141    175.07141   ]\n",
            "   [174.07141    179.07141    175.07141   ]\n",
            "   [172.85713    177.85713    173.85713   ]\n",
            "   ...\n",
            "   [141.58678     90.22957     51.0153    ]\n",
            "   [140.          85.99994     48.13265   ]\n",
            "   [139.59692     80.95397     47.331673  ]]\n",
            "\n",
            "  [[172.07144    174.07144    169.07144   ]\n",
            "   [171.7398     173.7398     168.7398    ]\n",
            "   [169.85716    171.85716    166.85716   ]\n",
            "   ...\n",
            "   [139.59198     88.510254    50.030735  ]\n",
            "   [145.43362     87.285645    54.36219   ]\n",
            "   [141.05603     75.770325    49.05603   ]]]], shape=(32, 224, 224, 3), dtype=float32) tf.Tensor(\n",
            "[[0. 0. 0. 0. 0. 0. 0. 1. 0. 0.]\n",
            " [0. 0. 0. 0. 0. 0. 0. 1. 0. 0.]\n",
            " [0. 0. 1. 0. 0. 0. 0. 0. 0. 0.]\n",
            " [0. 0. 0. 0. 0. 0. 1. 0. 0. 0.]\n",
            " [0. 0. 0. 0. 0. 0. 0. 1. 0. 0.]\n",
            " [0. 0. 0. 1. 0. 0. 0. 0. 0. 0.]\n",
            " [0. 0. 0. 0. 0. 0. 0. 1. 0. 0.]\n",
            " [0. 0. 0. 0. 1. 0. 0. 0. 0. 0.]\n",
            " [0. 0. 0. 0. 0. 0. 1. 0. 0. 0.]\n",
            " [0. 0. 1. 0. 0. 0. 0. 0. 0. 0.]\n",
            " [1. 0. 0. 0. 0. 0. 0. 0. 0. 0.]\n",
            " [0. 0. 0. 0. 0. 0. 0. 0. 1. 0.]\n",
            " [0. 0. 1. 0. 0. 0. 0. 0. 0. 0.]\n",
            " [0. 0. 0. 0. 1. 0. 0. 0. 0. 0.]\n",
            " [0. 0. 0. 1. 0. 0. 0. 0. 0. 0.]\n",
            " [0. 0. 1. 0. 0. 0. 0. 0. 0. 0.]\n",
            " [0. 1. 0. 0. 0. 0. 0. 0. 0. 0.]\n",
            " [0. 0. 0. 0. 0. 0. 0. 0. 0. 1.]\n",
            " [0. 1. 0. 0. 0. 0. 0. 0. 0. 0.]\n",
            " [0. 1. 0. 0. 0. 0. 0. 0. 0. 0.]\n",
            " [0. 0. 0. 0. 0. 0. 1. 0. 0. 0.]\n",
            " [0. 1. 0. 0. 0. 0. 0. 0. 0. 0.]\n",
            " [0. 0. 1. 0. 0. 0. 0. 0. 0. 0.]\n",
            " [0. 0. 0. 0. 0. 0. 0. 0. 0. 1.]\n",
            " [1. 0. 0. 0. 0. 0. 0. 0. 0. 0.]\n",
            " [0. 0. 0. 0. 0. 0. 0. 1. 0. 0.]\n",
            " [0. 0. 0. 1. 0. 0. 0. 0. 0. 0.]\n",
            " [0. 0. 0. 0. 0. 0. 0. 1. 0. 0.]\n",
            " [0. 0. 0. 0. 0. 1. 0. 0. 0. 0.]\n",
            " [0. 0. 1. 0. 0. 0. 0. 0. 0. 0.]\n",
            " [0. 0. 0. 0. 0. 0. 0. 0. 1. 0.]\n",
            " [0. 1. 0. 0. 0. 0. 0. 0. 0. 0.]], shape=(32, 10), dtype=float32)\n"
          ],
          "name": "stdout"
        }
      ]
    },
    {
      "cell_type": "code",
      "metadata": {
        "id": "v743pUV2rTV_"
      },
      "source": [
        "## Model 0 0 Transer Learning/ using Keras Fucntional API"
      ],
      "execution_count": null,
      "outputs": []
    },
    {
      "cell_type": "code",
      "metadata": {
        "colab": {
          "base_uri": "https://localhost:8080/"
        },
        "id": "KaughGU-tRXn",
        "outputId": "8ea2a94e-a3ea-4fbe-d866-ef28d289f0c3"
      },
      "source": [
        "# 1. Create base model using keras application mode\n",
        "base_model = tf.keras.applications.EfficientNetB0(include_top=False)\n",
        "\n",
        "# 2. Freeze the base model\n",
        "base_model.trainable = False\n",
        "\n",
        "#3. Create imputs \n",
        "inputs = tf.keras.layers.Input(shape=(224,224,3), name=\"input_layer\")\n",
        "\n",
        "# 4. Might need to mormalise input for ResNet50V2 (Dont need to Efficient Net as they have scaling built in if you are using from keras.application)\n",
        "# X = tf.keras.layers.experimental.preprocessing.Rescaling(1./255)(inputs)\n",
        "\n",
        "# 5. Pass the inputs to the base_model\n",
        "X = base_model(inputs)\n",
        "print(f\"Shape after passing input through base model: {X.shape}\")\n",
        "\n",
        "# 6. Average Pool teh output\n",
        "X = tf.keras.layers.GlobalAveragePooling2D(name=\"global_average_pooling_2D\")(X)\n",
        "print(f\"Shape after GlobalAverage2D: {X.shape}\")\n",
        "\n",
        "# 7. Create the O/P activation layer\n",
        "outputs = tf.keras.layers.Dense(10, activation=\"softmax\", name=\"output_layer\")(X)\n",
        "\n",
        "# 8. Combine I/O and O/P\n",
        "model_0 = tf.keras.Model(inputs, outputs)"
      ],
      "execution_count": null,
      "outputs": [
        {
          "output_type": "stream",
          "text": [
            "Downloading data from https://storage.googleapis.com/keras-applications/efficientnetb0_notop.h5\n",
            "16711680/16705208 [==============================] - 0s 0us/step\n",
            "Shape after passing input through base model: (None, 7, 7, 1280)\n",
            "Shape after GlobalAverage2D: (None, 1280)\n"
          ],
          "name": "stdout"
        }
      ]
    },
    {
      "cell_type": "code",
      "metadata": {
        "colab": {
          "background_save": true,
          "base_uri": "https://localhost:8080/"
        },
        "id": "vjiMSOhLunB-",
        "outputId": "9084427b-2256-47f9-c199-d777a89aae99"
      },
      "source": [
        "model_0.compile(loss=\"categorical_crossentropy\",\n",
        "                optimizer=tf.keras.optimizers.Adam(),\n",
        "                metrics=[\"accuracy\"])\n",
        "\n",
        "history_model_0 = model_0.fit(train_data, \n",
        "                              epochs=5, \n",
        "                              steps_per_epoch=len(train_data), \n",
        "                              validation_data = test_data, \n",
        "                              validation_steps=(0.25 * len(test_data)),\n",
        "                              callbacks=[create_tensorboard_callback(dir_name=\"transer_learning\", experiment_name=\"model_0\")])"
      ],
      "execution_count": null,
      "outputs": [
        {
          "output_type": "stream",
          "text": [
            "Epoch 1/5\n",
            "24/24 [==============================] - 158s 7s/step - loss: 1.8887 - accuracy: 0.3973 - val_loss: 1.3233 - val_accuracy: 0.7196\n"
          ],
          "name": "stdout"
        },
        {
          "output_type": "stream",
          "text": [
            "Exception ignored in: <function IteratorResourceDeleter.__del__ at 0x7f4e459aa3b0>\n",
            "Traceback (most recent call last):\n",
            "  File \"/usr/local/lib/python3.7/dist-packages/tensorflow/python/data/ops/iterator_ops.py\", line 546, in __del__\n",
            "    handle=self._handle, deleter=self._deleter)\n",
            "  File \"/usr/local/lib/python3.7/dist-packages/tensorflow/python/ops/gen_dataset_ops.py\", line 1264, in delete_iterator\n",
            "    _ctx, \"DeleteIterator\", name, handle, deleter)\n",
            "KeyboardInterrupt: \n"
          ],
          "name": "stderr"
        },
        {
          "output_type": "stream",
          "text": [
            "Epoch 2/5\n",
            "24/24 [==============================] - 150s 6s/step - loss: 1.1413 - accuracy: 0.7533 - val_loss: 0.9147 - val_accuracy: 0.7972\n",
            "Epoch 3/5\n",
            "24/24 [==============================] - 151s 6s/step - loss: 0.8394 - accuracy: 0.8053 - val_loss: 0.7440 - val_accuracy: 0.8264\n",
            "Epoch 4/5\n",
            "24/24 [==============================] - 151s 6s/step - loss: 0.6887 - accuracy: 0.8400 - val_loss: 0.6554 - val_accuracy: 0.8392\n",
            "Epoch 5/5\n",
            "24/24 [==============================] - 149s 6s/step - loss: 0.5921 - accuracy: 0.8587 - val_loss: 0.6010 - val_accuracy: 0.8420\n"
          ],
          "name": "stdout"
        }
      ]
    },
    {
      "cell_type": "code",
      "metadata": {
        "colab": {
          "base_uri": "https://localhost:8080/"
        },
        "id": "x585WsD8yjYs",
        "outputId": "a4d34fd8-ab19-4daf-a595-21f8b9638998"
      },
      "source": [
        "model_0.evaluate(test_data)"
      ],
      "execution_count": null,
      "outputs": [
        {
          "output_type": "stream",
          "text": [
            "79/79 [==============================] - 15s 178ms/step - loss: 0.6085 - accuracy: 0.8384\n"
          ],
          "name": "stdout"
        },
        {
          "output_type": "execute_result",
          "data": {
            "text/plain": [
              "[0.608518660068512, 0.8384000062942505]"
            ]
          },
          "metadata": {
            "tags": []
          },
          "execution_count": 16
        }
      ]
    },
    {
      "cell_type": "code",
      "metadata": {
        "colab": {
          "base_uri": "https://localhost:8080/",
          "height": 573
        },
        "id": "IMwcFbEWwpJ7",
        "outputId": "287b2402-2b2d-48fd-daea-618e53a49f9b"
      },
      "source": [
        "plot_loss_curves(history_model_0)"
      ],
      "execution_count": null,
      "outputs": [
        {
          "output_type": "display_data",
          "data": {
            "image/png": "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
