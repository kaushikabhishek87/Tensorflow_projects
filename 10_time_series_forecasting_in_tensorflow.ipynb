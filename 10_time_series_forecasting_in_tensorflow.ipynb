{
  "nbformat": 4,
  "nbformat_minor": 0,
  "metadata": {
    "colab": {
      "name": "10_time_series_forecasting_in_tensorflow.ipynb",
      "provenance": [],
      "collapsed_sections": [],
      "toc_visible": true,
      "authorship_tag": "ABX9TyNaAduonZnUojd0AxryLjR6",
      "include_colab_link": true
    },
    "kernelspec": {
      "name": "python3",
      "display_name": "Python 3"
    },
    "language_info": {
      "name": "python"
    }
  },
  "cells": [
    {
      "cell_type": "markdown",
      "metadata": {
        "id": "view-in-github",
        "colab_type": "text"
      },
      "source": [
        "<a href=\"https://colab.research.google.com/github/kaushikabhishek87/Tensorflow_projects/blob/main/10_time_series_forecasting_in_tensorflow.ipynb\" target=\"_parent\"><img src=\"https://colab.research.google.com/assets/colab-badge.svg\" alt=\"Open In Colab\"/></a>"
      ]
    },
    {
      "cell_type": "markdown",
      "metadata": {
        "id": "1vxw9ZR7tCrl"
      },
      "source": [
        "## Get data"
      ]
    },
    {
      "cell_type": "code",
      "metadata": {
        "colab": {
          "base_uri": "https://localhost:8080/"
        },
        "id": "f9R65oOSEUnZ",
        "outputId": "2f0a668b-7431-4dbb-9bf7-c8e3b482db48"
      },
      "source": [
        "!wget https://raw.githubusercontent.com/mrdbourke/tensorflow-deep-learning/main/extras/BTC_USD_2013-10-01_2021-05-18-CoinDesk.csv"
      ],
      "execution_count": 1,
      "outputs": [
        {
          "output_type": "stream",
          "text": [
            "--2021-07-25 08:22:49--  https://raw.githubusercontent.com/mrdbourke/tensorflow-deep-learning/main/extras/BTC_USD_2013-10-01_2021-05-18-CoinDesk.csv\n",
            "Resolving raw.githubusercontent.com (raw.githubusercontent.com)... 185.199.110.133, 185.199.109.133, 185.199.111.133, ...\n",
            "Connecting to raw.githubusercontent.com (raw.githubusercontent.com)|185.199.110.133|:443... connected.\n",
            "HTTP request sent, awaiting response... 200 OK\n",
            "Length: 178509 (174K) [text/plain]\n",
            "Saving to: ‘BTC_USD_2013-10-01_2021-05-18-CoinDesk.csv’\n",
            "\n",
            "BTC_USD_2013-10-01_ 100%[===================>] 174.33K  --.-KB/s    in 0.02s   \n",
            "\n",
            "2021-07-25 08:22:50 (10.9 MB/s) - ‘BTC_USD_2013-10-01_2021-05-18-CoinDesk.csv’ saved [178509/178509]\n",
            "\n"
          ],
          "name": "stdout"
        }
      ]
    },
    {
      "cell_type": "code",
      "metadata": {
        "colab": {
          "base_uri": "https://localhost:8080/",
          "height": 235
        },
        "id": "NchojBRJtv1b",
        "outputId": "d9dd87c8-b5e1-4c0a-d3ba-87cbd41b6b52"
      },
      "source": [
        "import pandas as pd\n",
        "\n",
        "df = pd.read_csv(\"BTC_USD_2013-10-01_2021-05-18-CoinDesk.csv\", parse_dates=[\"Date\"], index_col=[\"Date\"])\n",
        "df.head()"
      ],
      "execution_count": 2,
      "outputs": [
        {
          "output_type": "execute_result",
          "data": {
            "text/html": [
              "<div>\n",
              "<style scoped>\n",
              "    .dataframe tbody tr th:only-of-type {\n",
              "        vertical-align: middle;\n",
              "    }\n",
              "\n",
              "    .dataframe tbody tr th {\n",
              "        vertical-align: top;\n",
              "    }\n",
              "\n",
              "    .dataframe thead th {\n",
              "        text-align: right;\n",
              "    }\n",
              "</style>\n",
              "<table border=\"1\" class=\"dataframe\">\n",
              "  <thead>\n",
              "    <tr style=\"text-align: right;\">\n",
              "      <th></th>\n",
              "      <th>Currency</th>\n",
              "      <th>Closing Price (USD)</th>\n",
              "      <th>24h Open (USD)</th>\n",
              "      <th>24h High (USD)</th>\n",
              "      <th>24h Low (USD)</th>\n",
              "    </tr>\n",
              "    <tr>\n",
              "      <th>Date</th>\n",
              "      <th></th>\n",
              "      <th></th>\n",
              "      <th></th>\n",
              "      <th></th>\n",
              "      <th></th>\n",
              "    </tr>\n",
              "  </thead>\n",
              "  <tbody>\n",
              "    <tr>\n",
              "      <th>2013-10-01</th>\n",
              "      <td>BTC</td>\n",
              "      <td>123.65499</td>\n",
              "      <td>124.30466</td>\n",
              "      <td>124.75166</td>\n",
              "      <td>122.56349</td>\n",
              "    </tr>\n",
              "    <tr>\n",
              "      <th>2013-10-02</th>\n",
              "      <td>BTC</td>\n",
              "      <td>125.45500</td>\n",
              "      <td>123.65499</td>\n",
              "      <td>125.75850</td>\n",
              "      <td>123.63383</td>\n",
              "    </tr>\n",
              "    <tr>\n",
              "      <th>2013-10-03</th>\n",
              "      <td>BTC</td>\n",
              "      <td>108.58483</td>\n",
              "      <td>125.45500</td>\n",
              "      <td>125.66566</td>\n",
              "      <td>83.32833</td>\n",
              "    </tr>\n",
              "    <tr>\n",
              "      <th>2013-10-04</th>\n",
              "      <td>BTC</td>\n",
              "      <td>118.67466</td>\n",
              "      <td>108.58483</td>\n",
              "      <td>118.67500</td>\n",
              "      <td>107.05816</td>\n",
              "    </tr>\n",
              "    <tr>\n",
              "      <th>2013-10-05</th>\n",
              "      <td>BTC</td>\n",
              "      <td>121.33866</td>\n",
              "      <td>118.67466</td>\n",
              "      <td>121.93633</td>\n",
              "      <td>118.00566</td>\n",
              "    </tr>\n",
              "  </tbody>\n",
              "</table>\n",
              "</div>"
            ],
            "text/plain": [
              "           Currency  Closing Price (USD)  ...  24h High (USD)  24h Low (USD)\n",
              "Date                                      ...                               \n",
              "2013-10-01      BTC            123.65499  ...       124.75166      122.56349\n",
              "2013-10-02      BTC            125.45500  ...       125.75850      123.63383\n",
              "2013-10-03      BTC            108.58483  ...       125.66566       83.32833\n",
              "2013-10-04      BTC            118.67466  ...       118.67500      107.05816\n",
              "2013-10-05      BTC            121.33866  ...       121.93633      118.00566\n",
              "\n",
              "[5 rows x 5 columns]"
            ]
          },
          "metadata": {
            "tags": []
          },
          "execution_count": 2
        }
      ]
    },
    {
      "cell_type": "code",
      "metadata": {
        "colab": {
          "base_uri": "https://localhost:8080/"
        },
        "id": "6B3wqXgmuKvR",
        "outputId": "a9d330cb-d7c8-41d0-a1a9-a5132930ba09"
      },
      "source": [
        "df.info()"
      ],
      "execution_count": 3,
      "outputs": [
        {
          "output_type": "stream",
          "text": [
            "<class 'pandas.core.frame.DataFrame'>\n",
            "DatetimeIndex: 2787 entries, 2013-10-01 to 2021-05-18\n",
            "Data columns (total 5 columns):\n",
            " #   Column               Non-Null Count  Dtype  \n",
            "---  ------               --------------  -----  \n",
            " 0   Currency             2787 non-null   object \n",
            " 1   Closing Price (USD)  2787 non-null   float64\n",
            " 2   24h Open (USD)       2787 non-null   float64\n",
            " 3   24h High (USD)       2787 non-null   float64\n",
            " 4   24h Low (USD)        2787 non-null   float64\n",
            "dtypes: float64(4), object(1)\n",
            "memory usage: 130.6+ KB\n"
          ],
          "name": "stdout"
        }
      ]
    },
    {
      "cell_type": "code",
      "metadata": {
        "colab": {
          "base_uri": "https://localhost:8080/",
          "height": 235
        },
        "id": "zifkPwa2zx07",
        "outputId": "f777487a-165f-4d91-df47-8098dea7e499"
      },
      "source": [
        "bitcoin_prices = pd.DataFrame(df[\"Closing Price (USD)\"]).rename(columns={\"Closing Price (USD)\":\"Price\"})\n",
        "bitcoin_prices.head()"
      ],
      "execution_count": 4,
      "outputs": [
        {
          "output_type": "execute_result",
          "data": {
            "text/html": [
              "<div>\n",
              "<style scoped>\n",
              "    .dataframe tbody tr th:only-of-type {\n",
              "        vertical-align: middle;\n",
              "    }\n",
              "\n",
              "    .dataframe tbody tr th {\n",
              "        vertical-align: top;\n",
              "    }\n",
              "\n",
              "    .dataframe thead th {\n",
              "        text-align: right;\n",
              "    }\n",
              "</style>\n",
              "<table border=\"1\" class=\"dataframe\">\n",
              "  <thead>\n",
              "    <tr style=\"text-align: right;\">\n",
              "      <th></th>\n",
              "      <th>Price</th>\n",
              "    </tr>\n",
              "    <tr>\n",
              "      <th>Date</th>\n",
              "      <th></th>\n",
              "    </tr>\n",
              "  </thead>\n",
              "  <tbody>\n",
              "    <tr>\n",
              "      <th>2013-10-01</th>\n",
              "      <td>123.65499</td>\n",
              "    </tr>\n",
              "    <tr>\n",
              "      <th>2013-10-02</th>\n",
              "      <td>125.45500</td>\n",
              "    </tr>\n",
              "    <tr>\n",
              "      <th>2013-10-03</th>\n",
              "      <td>108.58483</td>\n",
              "    </tr>\n",
              "    <tr>\n",
              "      <th>2013-10-04</th>\n",
              "      <td>118.67466</td>\n",
              "    </tr>\n",
              "    <tr>\n",
              "      <th>2013-10-05</th>\n",
              "      <td>121.33866</td>\n",
              "    </tr>\n",
              "  </tbody>\n",
              "</table>\n",
              "</div>"
            ],
            "text/plain": [
              "                Price\n",
              "Date                 \n",
              "2013-10-01  123.65499\n",
              "2013-10-02  125.45500\n",
              "2013-10-03  108.58483\n",
              "2013-10-04  118.67466\n",
              "2013-10-05  121.33866"
            ]
          },
          "metadata": {
            "tags": []
          },
          "execution_count": 4
        }
      ]
    },
    {
      "cell_type": "code",
      "metadata": {
        "id": "4rn9nQFauwnp"
      },
      "source": [
        "import seaborn as sns\n",
        "import matplotlib.pyplot as plt"
      ],
      "execution_count": 5,
      "outputs": []
    },
    {
      "cell_type": "code",
      "metadata": {
        "colab": {
          "base_uri": "https://localhost:8080/",
          "height": 492
        },
        "id": "ndOwcbXWzMjx",
        "outputId": "598e82f5-a6de-4041-c7f5-19b0b5ef93e9"
      },
      "source": [
        "plt.figure(figsize=(10,7))\n",
        "sns.lineplot(x=bitcoin_prices.index, y=bitcoin_prices[\"Price\"], legend=True)\n",
        "plt.title(\"Price of Bitcoin\")\n",
        "plt.legend(fontsize=14)"
      ],
      "execution_count": 6,
      "outputs": [
        {
          "output_type": "stream",
          "text": [
            "No handles with labels found to put in legend.\n"
          ],
          "name": "stderr"
        },
        {
          "output_type": "execute_result",
          "data": {
            "text/plain": [
              "<matplotlib.legend.Legend at 0x7f07885f72d0>"
            ]
          },
          "metadata": {
            "tags": []
          },
          "execution_count": 6
        },
        {
          "output_type": "display_data",
          "data": {
            "image/png": "[encoded data removed]",
            "text/plain": [
              "<Figure size 720x504 with 1 Axes>"
            ]
          },
          "metadata": {
            "tags": [],
            "needs_background": "light"
          }
        }
      ]
    },
    {
      "cell_type": "markdown",
      "metadata": {
        "id": "lgww4rVhzZjA"
      },
      "source": [
        "## Reading data with CSV modules"
      ]
    },
    {
      "cell_type": "code",
      "metadata": {
        "id": "urEhUM4D0_5q"
      },
      "source": [
        "import csv\n",
        "from datetime import datetime\n",
        "\n",
        "timesteps = []\n",
        "btc_price = []\n",
        "\n",
        "with open(\"/content/BTC_USD_2013-10-01_2021-05-18-CoinDesk.csv\",\"r\") as f:\n",
        "  csv_reader = csv.reader( f, delimiter = \",\")\n",
        "  next(csv_reader) #skip first line\n",
        "  for line in csv_reader:\n",
        "    timesteps.append(datetime.strptime(line[1], \"%Y-%m-%d\")) \n",
        "    btc_price.append(float(line[2]))"
      ],
      "execution_count": 7,
      "outputs": []
    },
    {
      "cell_type": "code",
      "metadata": {
        "colab": {
          "base_uri": "https://localhost:8080/"
        },
        "id": "FWgq89mn2hzJ",
        "outputId": "5ad89df4-ccf1-4a09-858e-39955acaa34c"
      },
      "source": [
        "timesteps[:10], btc_price[:10]"
      ],
      "execution_count": 8,
      "outputs": [
        {
          "output_type": "execute_result",
          "data": {
            "text/plain": [
              "([datetime.datetime(2013, 10, 1, 0, 0),\n",
              "  datetime.datetime(2013, 10, 2, 0, 0),\n",
              "  datetime.datetime(2013, 10, 3, 0, 0),\n",
              "  datetime.datetime(2013, 10, 4, 0, 0),\n",
              "  datetime.datetime(2013, 10, 5, 0, 0),\n",
              "  datetime.datetime(2013, 10, 6, 0, 0),\n",
              "  datetime.datetime(2013, 10, 7, 0, 0),\n",
              "  datetime.datetime(2013, 10, 8, 0, 0),\n",
              "  datetime.datetime(2013, 10, 9, 0, 0),\n",
              "  datetime.datetime(2013, 10, 10, 0, 0)],\n",
              " [123.65499,\n",
              "  125.455,\n",
              "  108.58483,\n",
              "  118.67466,\n",
              "  121.33866,\n",
              "  120.65533,\n",
              "  121.795,\n",
              "  123.033,\n",
              "  124.049,\n",
              "  125.96116])"
            ]
          },
          "metadata": {
            "tags": []
          },
          "execution_count": 8
        }
      ]
    },
    {
      "cell_type": "code",
      "metadata": {
        "colab": {
          "base_uri": "https://localhost:8080/",
          "height": 445
        },
        "id": "bZGlrPqv2_tf",
        "outputId": "e3feadb6-7393-41d6-ac1f-688884654528"
      },
      "source": [
        "plt.figure(figsize=(10,7))\n",
        "sns.lineplot(x=timesteps, y=btc_price)"
      ],
      "execution_count": 9,
      "outputs": [
        {
          "output_type": "execute_result",
          "data": {
            "text/plain": [
              "<matplotlib.axes._subplots.AxesSubplot at 0x7f0787af04d0>"
            ]
          },
          "metadata": {
            "tags": []
          },
          "execution_count": 9
        },
        {
          "output_type": "display_data",
          "data": {
            "image/png": "[encoded data removed]",
            "text/plain": [
              "<Figure size 720x504 with 1 Axes>"
            ]
          },
          "metadata": {
            "tags": [],
            "needs_background": "light"
          }
        }
      ]
    },
    {
      "cell_type": "markdown",
      "metadata": {
        "id": "AIBaVk2t3Z_Q"
      },
      "source": [
        "## Create train & test set"
      ]
    },
    {
      "cell_type": "code",
      "metadata": {
        "id": "_u4W_UQd4Bfr",
        "colab": {
          "base_uri": "https://localhost:8080/"
        },
        "outputId": "c17cd2f7-0e90-4838-9b0e-5cdfcb32cbe1"
      },
      "source": [
        "split_size = int(0.8*len(btc_price)) # 80% train / 20% test\n",
        "split_size"
      ],
      "execution_count": 10,
      "outputs": [
        {
          "output_type": "execute_result",
          "data": {
            "text/plain": [
              "2229"
            ]
          },
          "metadata": {
            "tags": []
          },
          "execution_count": 10
        }
      ]
    },
    {
      "cell_type": "code",
      "metadata": {
        "colab": {
          "base_uri": "https://localhost:8080/"
        },
        "id": "NF7p_fbAYgJj",
        "outputId": "39f98008-2648-4516-d2de-17d76d23c794"
      },
      "source": [
        "X_train, y_train = timesteps[:split_size], btc_price[:split_size]\n",
        "X_test, y_test = timesteps[split_size:], btc_price[split_size:]\n",
        "\n",
        "len(X_train), len(X_test)"
      ],
      "execution_count": 11,
      "outputs": [
        {
          "output_type": "execute_result",
          "data": {
            "text/plain": [
              "(2229, 558)"
            ]
          },
          "metadata": {
            "tags": []
          },
          "execution_count": 11
        }
      ]
    },
    {
      "cell_type": "code",
      "metadata": {
        "colab": {
          "base_uri": "https://localhost:8080/",
          "height": 459
        },
        "id": "_pLEfHZ-ZAeZ",
        "outputId": "174c7ad4-063e-47aa-8958-200aa572c729"
      },
      "source": [
        "plt.figure(figsize=(10,7))\n",
        "sns.scatterplot(x=X_train,y=y_train, label=\"Train\")\n",
        "sns.scatterplot(x=X_test,y=y_test, label=\"Test\")\n",
        "plt.xlabel(\"Time\")\n",
        "plt.ylabel(\"BTC Prices\")"
      ],
      "execution_count": 12,
      "outputs": [
        {
          "output_type": "execute_result",
          "data": {
            "text/plain": [
              "Text(0, 0.5, 'BTC Prices')"
            ]
          },
          "metadata": {
            "tags": []
          },
          "execution_count": 12
        },
        {
          "output_type": "display_data",
          "data": {
            "image/png": "[encoded data removed]",
            "text/plain": [
              "<Figure size 720x504 with 1 Axes>"
            ]
          },
          "metadata": {
            "tags": [],
            "needs_background": "light"
          }
        }
      ]
    },
    {
      "cell_type": "markdown",
      "metadata": {
        "id": "dSatk6Lfu8BP"
      },
      "source": [
        "## Naive Model"
      ]
    },
    {
      "cell_type": "code",
      "metadata": {
        "colab": {
          "base_uri": "https://localhost:8080/"
        },
        "id": "sxTyc6Guv66l",
        "outputId": "dfa5cf54-a1fa-4c5f-865a-03ddd517f80b"
      },
      "source": [
        "naive_forecast =y_test[:-1]\n",
        "\n",
        "naive_forecast[:10], naive_forecast[-10:]"
      ],
      "execution_count": 13,
      "outputs": [
        {
          "output_type": "execute_result",
          "data": {
            "text/plain": [
              "([9226.4858208826,\n",
              "  8794.3586445233,\n",
              "  8798.0420546256,\n",
              "  9081.1868784913,\n",
              "  8711.5343391679,\n",
              "  8760.8927181435,\n",
              "  8749.520591019,\n",
              "  8656.970922354,\n",
              "  8500.6435581622,\n",
              "  8469.2608988992],\n",
              " [57107.1206718864,\n",
              "  58788.2096789273,\n",
              "  58102.1914262342,\n",
              "  55715.5466512869,\n",
              "  56573.5554719043,\n",
              "  52147.8211869823,\n",
              "  49764.1320815975,\n",
              "  50032.6931367648,\n",
              "  47885.6252547166,\n",
              "  45604.6157536131])"
            ]
          },
          "metadata": {
            "tags": []
          },
          "execution_count": 13
        }
      ]
    },
    {
      "cell_type": "code",
      "metadata": {
        "colab": {
          "base_uri": "https://localhost:8080/",
          "height": 459
        },
        "id": "xWN38tWSxAyd",
        "outputId": "13f68c97-63b9-497e-ba4a-b81925dd2ab5"
      },
      "source": [
        "plt.figure(figsize=(10,7))\n",
        "# sns.scatterplot(x=X_train,y=y_train, label=\"Train\")\n",
        "sns.scatterplot(x=X_test,y=y_test, label=\"Test\")\n",
        "sns.lineplot(x=X_test[1:], y=naive_forecast , label=\"Naive forecast\")\n",
        "plt.xlabel(\"Time\")\n",
        "plt.ylabel(\"BTC Prices\")"
      ],
      "execution_count": 14,
      "outputs": [
        {
          "output_type": "execute_result",
          "data": {
            "text/plain": [
              "Text(0, 0.5, 'BTC Prices')"
            ]
          },
          "metadata": {
            "tags": []
          },
          "execution_count": 14
        },
        {
          "output_type": "display_data",
          "data": {
            "image/png": "[encoded data removed]",
            "text/plain": [
              "<Figure size 720x504 with 1 Axes>"
            ]
          },
          "metadata": {
            "tags": [],
            "needs_background": "light"
          }
        }
      ]
    },
    {
      "cell_type": "code",
      "metadata": {
        "id": "5jJGTISoxkn1"
      },
      "source": [
        "## Evaluating a time series"
      ],
      "execution_count": 15,
      "outputs": []
    },
    {
      "cell_type": "code",
      "metadata": {
        "id": "Birk0Ffgy_Ov"
      },
      "source": [
        "import tensorflow as tf"
      ],
      "execution_count": 16,
      "outputs": []
    },
    {
      "cell_type": "code",
      "metadata": {
        "id": "92-_Z17Z39Dj"
      },
      "source": [
        "import numpy as np\n",
        "# MASE implementation\n",
        "def mean_absolute_scaled_error(y_true, y_pred):\n",
        "\n",
        "  y_true = np.array(y_true)\n",
        "  y_pred = np.array(y_pred)\n",
        "\n",
        "  mae = tf.reduce_mean(tf.abs(y_true - y_pred))\n",
        "\n",
        "  # Find the MAE of naive forecast\n",
        "  mae_naive_no_season = tf.reduce_mean(tf.abs(y_true[1:] - y_true[:-1])) # Our seasonlaity is 1 day (hence the shift of 1)\n",
        "\n",
        "  return mae / mae_naive_no_season"
      ],
      "execution_count": 17,
      "outputs": []
    },
    {
      "cell_type": "code",
      "metadata": {
        "colab": {
          "base_uri": "https://localhost:8080/"
        },
        "id": "Z25X0_o65Bda",
        "outputId": "193c9873-7703-408c-b18a-b5f4fc81048e"
      },
      "source": [
        "mean_absolute_scaled_error(y_true=y_test[1:], y_pred=naive_forecast).numpy()"
      ],
      "execution_count": 18,
      "outputs": [
        {
          "output_type": "execute_result",
          "data": {
            "text/plain": [
              "0.9995699939182626"
            ]
          },
          "metadata": {
            "tags": []
          },
          "execution_count": 18
        }
      ]
    },
    {
      "cell_type": "code",
      "metadata": {
        "id": "SFxS_Xd_5KAc"
      },
      "source": [
        "def evaluate_preds(y_true, y_pred):\n",
        "  y_true = tf.cast(y_true, dtype=tf.float32)\n",
        "  y_pred = tf.cast(y_pred, dtype=tf.float32)\n",
        "\n",
        "  mae = tf.keras.metrics.mean_absolute_error(y_true, y_pred)\n",
        "\n",
        "  mse = tf.keras.metrics.mean_squared_error(y_true, y_pred)\n",
        "\n",
        "  rmse = tf.sqrt(mse)\n",
        "\n",
        "  mape = tf.keras.metrics.mean_absolute_percentage_error(y_true, y_pred)\n",
        "\n",
        "  mase = mean_absolute_scaled_error(y_true, y_pred)\n",
        "\n",
        "  return {\"mae\": mae.numpy(),\n",
        "          \"mse\":mse.numpy(),\n",
        "          \"rmse\":rmse.numpy(),\n",
        "          \"mape\":mape.numpy(),\n",
        "          \"mase\":mase.numpy()}\n",
        "\n",
        "\n",
        "\n"
      ],
      "execution_count": 19,
      "outputs": []
    },
    {
      "cell_type": "code",
      "metadata": {
        "colab": {
          "base_uri": "https://localhost:8080/"
        },
        "id": "lD4ls6CkxeUr",
        "outputId": "c50e2669-0081-498e-bf57-800d6966e4af"
      },
      "source": [
        "naive_results = evaluate_preds(y_true=y_test[1:], y_pred=naive_forecast)\n",
        "naive_results"
      ],
      "execution_count": 64,
      "outputs": [
        {
          "output_type": "execute_result",
          "data": {
            "text/plain": [
              "{'mae': 567.9802,\n",
              " 'mape': 2.516525,\n",
              " 'mase': 0.99957,\n",
              " 'mse': 1147547.0,\n",
              " 'rmse': 1071.2362}"
            ]
          },
          "metadata": {
            "tags": []
          },
          "execution_count": 64
        }
      ]
    },
    {
      "cell_type": "code",
      "metadata": {
        "colab": {
          "base_uri": "https://localhost:8080/"
        },
        "id": "BYHGSe9wxkdX",
        "outputId": "2facd53d-7d07-4b23-961c-aa9939db3940"
      },
      "source": [
        "tf.reduce_mean(y_test).numpy(), tf.reduce_max(y_test).numpy()"
      ],
      "execution_count": 21,
      "outputs": [
        {
          "output_type": "execute_result",
          "data": {
            "text/plain": [
              "(20056.633, 63346.79)"
            ]
          },
          "metadata": {
            "tags": []
          },
          "execution_count": 21
        }
      ]
    },
    {
      "cell_type": "markdown",
      "metadata": {
        "id": "l1QAbmUeyP13"
      },
      "source": [
        "## Format data - Windowing data"
      ]
    },
    {
      "cell_type": "code",
      "metadata": {
        "colab": {
          "base_uri": "https://localhost:8080/"
        },
        "id": "5u6bFKRS1Zkn",
        "outputId": "f1dc3790-6995-4e3b-9e79-3317327808e5"
      },
      "source": [
        "# Window size = 7, Horizon = 1\n",
        "btc_price[:7], btc_price[7]"
      ],
      "execution_count": 22,
      "outputs": [
        {
          "output_type": "execute_result",
          "data": {
            "text/plain": [
              "([123.65499, 125.455, 108.58483, 118.67466, 121.33866, 120.65533, 121.795],\n",
              " 123.033)"
            ]
          },
          "metadata": {
            "tags": []
          },
          "execution_count": 22
        }
      ]
    },
    {
      "cell_type": "code",
      "metadata": {
        "colab": {
          "base_uri": "https://localhost:8080/"
        },
        "id": "dbjbclxm2L1G",
        "outputId": "e4fac03e-b1f4-4b60-929b-c529b1681513"
      },
      "source": [
        "btc_price[:8]"
      ],
      "execution_count": 23,
      "outputs": [
        {
          "output_type": "execute_result",
          "data": {
            "text/plain": [
              "[123.65499,\n",
              " 125.455,\n",
              " 108.58483,\n",
              " 118.67466,\n",
              " 121.33866,\n",
              " 120.65533,\n",
              " 121.795,\n",
              " 123.033]"
            ]
          },
          "metadata": {
            "tags": []
          },
          "execution_count": 23
        }
      ]
    },
    {
      "cell_type": "code",
      "metadata": {
        "id": "hmzLPzFd1fyl"
      },
      "source": [
        "HORIZON = 1\n",
        "WINDOW_SIZE = 7"
      ],
      "execution_count": 108,
      "outputs": []
    },
    {
      "cell_type": "code",
      "metadata": {
        "id": "JoYL3o_S1-CX"
      },
      "source": [
        "def get_labelled_window(x, horizon=HORIZON):\n",
        "\n",
        "  return x[: , :-horizon], x[:, -horizon:]\n"
      ],
      "execution_count": 109,
      "outputs": []
    },
    {
      "cell_type": "code",
      "metadata": {
        "colab": {
          "base_uri": "https://localhost:8080/"
        },
        "id": "-mL49pH02p2h",
        "outputId": "df017f67-5848-401e-c4f8-205f129b4ebc"
      },
      "source": [
        "test_window, test_label = get_labelled_window(tf.expand_dims(tf.range(8), axis=0))\n",
        "\n",
        "test_window, test_label"
      ],
      "execution_count": 110,
      "outputs": [
        {
          "output_type": "execute_result",
          "data": {
            "text/plain": [
              "(<tf.Tensor: shape=(1, 7), dtype=int32, numpy=array([[0, 1, 2, 3, 4, 5, 6]], dtype=int32)>,\n",
              " <tf.Tensor: shape=(1, 1), dtype=int32, numpy=array([[7]], dtype=int32)>)"
            ]
          },
          "metadata": {
            "tags": []
          },
          "execution_count": 110
        }
      ]
    },
    {
      "cell_type": "code",
      "metadata": {
        "colab": {
          "base_uri": "https://localhost:8080/"
        },
        "id": "MEagbUmW2ubx",
        "outputId": "73eebb5d-7bb3-4dd0-c9e5-f8c291db20e4"
      },
      "source": [
        "tf.expand_dims(tf.range(8), axis=0)"
      ],
      "execution_count": 111,
      "outputs": [
        {
          "output_type": "execute_result",
          "data": {
            "text/plain": [
              "<tf.Tensor: shape=(1, 8), dtype=int32, numpy=array([[0, 1, 2, 3, 4, 5, 6, 7]], dtype=int32)>"
            ]
          },
          "metadata": {
            "tags": []
          },
          "execution_count": 111
        }
      ]
    },
    {
      "cell_type": "code",
      "metadata": {
        "colab": {
          "base_uri": "https://localhost:8080/"
        },
        "id": "R-h7lSDD3ALQ",
        "outputId": "e1cda55e-6846-4998-9095-dbe7ec11b4c4"
      },
      "source": [
        "type(btc_price)"
      ],
      "execution_count": 112,
      "outputs": [
        {
          "output_type": "execute_result",
          "data": {
            "text/plain": [
              "list"
            ]
          },
          "metadata": {
            "tags": []
          },
          "execution_count": 112
        }
      ]
    },
    {
      "cell_type": "markdown",
      "metadata": {
        "id": "MqaahZRg5hed"
      },
      "source": [
        "### Using numpy array indexing for creating Horizon & Window -  faster than Python for loops"
      ]
    },
    {
      "cell_type": "code",
      "metadata": {
        "id": "T8HoEjhH5yGO"
      },
      "source": [
        "def make_windows(x, window_size=WINDOW_SIZE, horizon= HORIZON):\n",
        "\n",
        "  window_step = np.expand_dims(np.arange(window_size+horizon), axis=0)\n",
        "\n",
        "  window_indexes = window_step + np.expand_dims(np.arange(len(x) - (window_size+horizon - 1)  ), axis=0).T\n",
        "\n",
        "  # print(f\"Window index:\\n {window_indexes, window_indexes.shape}\")\n",
        "\n",
        "  x = np.array(x)\n",
        "\n",
        "  windowed_array = x[window_indexes]\n",
        "\n",
        "  windows, labels = get_labelled_window(windowed_array, horizon=HORIZON)\n",
        "\n",
        "\n",
        "  return windows, labels"
      ],
      "execution_count": 113,
      "outputs": []
    },
    {
      "cell_type": "code",
      "metadata": {
        "colab": {
          "base_uri": "https://localhost:8080/"
        },
        "id": "dFv3VnM472AM",
        "outputId": "4eeb5d16-905c-403c-b99f-34873412ac01"
      },
      "source": [
        "full_windows, full_labels = make_windows(btc_price, window_size=WINDOW_SIZE, horizon=HORIZON)\n",
        "\n",
        "len(full_windows) , len(full_labels)"
      ],
      "execution_count": 114,
      "outputs": [
        {
          "output_type": "execute_result",
          "data": {
            "text/plain": [
              "(2780, 2780)"
            ]
          },
          "metadata": {
            "tags": []
          },
          "execution_count": 114
        }
      ]
    },
    {
      "cell_type": "code",
      "metadata": {
        "colab": {
          "base_uri": "https://localhost:8080/"
        },
        "id": "KxRd3r1a783v",
        "outputId": "a1bc2e12-7c0f-4507-907e-9c96a56ec0f8"
      },
      "source": [
        "full_windows[:3], full_labels[:3]"
      ],
      "execution_count": 115,
      "outputs": [
        {
          "output_type": "execute_result",
          "data": {
            "text/plain": [
              "(array([[123.65499, 125.455  , 108.58483, 118.67466, 121.33866, 120.65533,\n",
              "         121.795  ],\n",
              "        [125.455  , 108.58483, 118.67466, 121.33866, 120.65533, 121.795  ,\n",
              "         123.033  ],\n",
              "        [108.58483, 118.67466, 121.33866, 120.65533, 121.795  , 123.033  ,\n",
              "         124.049  ]]), array([[123.033  ],\n",
              "        [124.049  ],\n",
              "        [125.96116]]))"
            ]
          },
          "metadata": {
            "tags": []
          },
          "execution_count": 115
        }
      ]
    },
    {
      "cell_type": "code",
      "metadata": {
        "id": "JB-kGA_H8VFk"
      },
      "source": [
        "# tf.keras.preprocessing.timeseries_dataset_from_array()"
      ],
      "execution_count": 116,
      "outputs": []
    },
    {
      "cell_type": "markdown",
      "metadata": {
        "id": "tyFMwRjK_bju"
      },
      "source": [
        "## Splitting window data in training & test"
      ]
    },
    {
      "cell_type": "code",
      "metadata": {
        "id": "0eMZbr8b_nnZ"
      },
      "source": [
        "def make_train_test_splits(windows, labels, test_split = 0.2):\n",
        "\n",
        "  split_size = int(len(windows) * (1-test_split) )\n",
        "\n",
        "  train_windows = windows[:split_size]\n",
        "  train_labels = labels[:split_size]\n",
        "  test_windows = windows[split_size:]\n",
        "  test_labels = labels[split_size:]\n",
        "\n",
        "  return train_windows, test_windows, train_labels, test_labels\n"
      ],
      "execution_count": 117,
      "outputs": []
    },
    {
      "cell_type": "code",
      "metadata": {
        "colab": {
          "base_uri": "https://localhost:8080/"
        },
        "id": "_2eK69L0AwCz",
        "outputId": "66146c72-b06c-4dd4-909d-953099197042"
      },
      "source": [
        "train_windows, test_windows, train_labels, test_labels = make_train_test_splits(full_windows, full_labels)\n",
        "\n",
        "len(train_windows), len(test_windows),  len(train_labels), len(test_labels)"
      ],
      "execution_count": 118,
      "outputs": [
        {
          "output_type": "execute_result",
          "data": {
            "text/plain": [
              "(2224, 556, 2224, 556)"
            ]
          },
          "metadata": {
            "tags": []
          },
          "execution_count": 118
        }
      ]
    },
    {
      "cell_type": "code",
      "metadata": {
        "colab": {
          "base_uri": "https://localhost:8080/"
        },
        "id": "tN3_1VhRBOsg",
        "outputId": "5cf0e743-0f7d-4b19-b10d-ab0a40c129be"
      },
      "source": [
        "train_labels.shape"
      ],
      "execution_count": 119,
      "outputs": [
        {
          "output_type": "execute_result",
          "data": {
            "text/plain": [
              "(2224, 1)"
            ]
          },
          "metadata": {
            "tags": []
          },
          "execution_count": 119
        }
      ]
    },
    {
      "cell_type": "code",
      "metadata": {
        "colab": {
          "base_uri": "https://localhost:8080/"
        },
        "id": "1qSLZ86xB7yj",
        "outputId": "f0b2f6d5-3a7d-46af-bbd3-e9be708267e4"
      },
      "source": [
        "np.squeeze(train_labels).shape"
      ],
      "execution_count": 120,
      "outputs": [
        {
          "output_type": "execute_result",
          "data": {
            "text/plain": [
              "(2224,)"
            ]
          },
          "metadata": {
            "tags": []
          },
          "execution_count": 120
        }
      ]
    },
    {
      "cell_type": "markdown",
      "metadata": {
        "id": "6M_9DcIwxrCe"
      },
      "source": [
        "## Make a modelling checkpoint callback"
      ]
    },
    {
      "cell_type": "code",
      "metadata": {
        "id": "syCRsDOVypN6"
      },
      "source": [
        "import os\n",
        "\n",
        "# Create a function to implement a ModelCheckpoint callback\n",
        "\n",
        "\n",
        "def create_model_checkpoint(model_name, save_path=\"model_experiment\"):\n",
        "  return tf.keras.callbacks.ModelCheckpoint(filepath=os.path.join(save_path,model_name),\n",
        "                                            monitor=\"val_loss\",\n",
        "                                            verbose=0,\n",
        "                                            save_best_only=True)"
      ],
      "execution_count": 75,
      "outputs": []
    },
    {
      "cell_type": "markdown",
      "metadata": {
        "id": "XRI1ut-tzSWT"
      },
      "source": [
        "## Model 1"
      ]
    },
    {
      "cell_type": "code",
      "metadata": {
        "colab": {
          "base_uri": "https://localhost:8080/"
        },
        "id": "DbtY9TmE0CIh",
        "outputId": "8166c46d-4d77-4476-e95d-e56cd1ca9e75"
      },
      "source": [
        "# Dense Model -  Window = 7, Horizon = 1\n",
        "from tensorflow.keras import layers\n",
        "tf.random.set_seed(42)\n",
        "\n",
        "model_1 = tf.keras.Sequential([\n",
        "   layers.Dense(128, activation=\"relu\"),\n",
        "   layers.Dense(HORIZON, activation=\"linear\")                                                          \n",
        "], name = \"model_1_dense\")\n",
        "\n",
        "\n",
        "# Compile\n",
        "model_1.compile(loss=\"mae\",\n",
        "                optimizer=tf.keras.optimizers.Adam(),\n",
        "                metrics=[\"mae\",\"mse\"])\n",
        "# Fit\n",
        "\n",
        "history_model_1 = model_1.fit(x=train_windows, \n",
        "                              y=train_labels,\n",
        "                              epochs=100,\n",
        "                              verbose=1,\n",
        "                              batch_size=128,\n",
        "                              validation_data = (test_windows, test_labels),\n",
        "                              callbacks=[create_model_checkpoint(model_name=model_1.name)])\n"
      ],
      "execution_count": 76,
      "outputs": [
        {
          "output_type": "stream",
          "text": [
            "Epoch 1/100\n",
            "18/18 [==============================] - 1s 9ms/step - loss: 780.3469 - mae: 780.3469 - mse: 2312739.0000 - val_loss: 2279.5830 - val_mae: 2279.5830 - val_mse: 12772096.0000\n",
            "INFO:tensorflow:Assets written to: model_experiment/model_1_dense/assets\n",
            "Epoch 2/100\n",
            "18/18 [==============================] - 0s 3ms/step - loss: 247.6765 - mae: 247.6765 - mse: 285480.9688 - val_loss: 1005.9865 - val_mae: 1005.9865 - val_mse: 3441759.5000\n",
            "INFO:tensorflow:Assets written to: model_experiment/model_1_dense/assets\n",
            "Epoch 3/100\n",
            "18/18 [==============================] - 0s 3ms/step - loss: 188.4107 - mae: 188.4107 - mse: 171890.0469 - val_loss: 923.2859 - val_mae: 923.2859 - val_mse: 2868195.0000\n",
            "INFO:tensorflow:Assets written to: model_experiment/model_1_dense/assets\n",
            "Epoch 4/100\n",
            "18/18 [==============================] - 0s 3ms/step - loss: 169.4334 - mae: 169.4334 - mse: 151699.4219 - val_loss: 900.5932 - val_mae: 900.5932 - val_mse: 2683713.7500\n",
            "INFO:tensorflow:Assets written to: model_experiment/model_1_dense/assets\n",
            "Epoch 5/100\n",
            "18/18 [==============================] - 0s 4ms/step - loss: 165.0900 - mae: 165.0900 - mse: 145490.8750 - val_loss: 895.2405 - val_mae: 895.2405 - val_mse: 2564605.7500\n",
            "INFO:tensorflow:Assets written to: model_experiment/model_1_dense/assets\n",
            "Epoch 6/100\n",
            "18/18 [==============================] - 0s 3ms/step - loss: 158.5206 - mae: 158.5206 - mse: 133816.7969 - val_loss: 855.1867 - val_mae: 855.1867 - val_mse: 2481815.5000\n",
            "INFO:tensorflow:Assets written to: model_experiment/model_1_dense/assets\n",
            "Epoch 7/100\n",
            "18/18 [==============================] - 0s 3ms/step - loss: 151.3568 - mae: 151.3568 - mse: 123446.8047 - val_loss: 840.9291 - val_mae: 840.9291 - val_mse: 2276477.0000\n",
            "INFO:tensorflow:Assets written to: model_experiment/model_1_dense/assets\n",
            "Epoch 8/100\n",
            "18/18 [==============================] - 0s 4ms/step - loss: 145.2560 - mae: 145.2560 - mse: 117694.1719 - val_loss: 803.6005 - val_mae: 803.6005 - val_mse: 2140566.0000\n",
            "INFO:tensorflow:Assets written to: model_experiment/model_1_dense/assets\n",
            "Epoch 9/100\n",
            "18/18 [==============================] - 0s 4ms/step - loss: 144.3546 - mae: 144.3546 - mse: 115269.0859 - val_loss: 799.5591 - val_mae: 799.5591 - val_mse: 2049233.5000\n",
            "INFO:tensorflow:Assets written to: model_experiment/model_1_dense/assets\n",
            "Epoch 10/100\n",
            "18/18 [==============================] - 0s 4ms/step - loss: 141.2944 - mae: 141.2944 - mse: 112394.2031 - val_loss: 763.5059 - val_mae: 763.5059 - val_mse: 1933136.7500\n",
            "INFO:tensorflow:Assets written to: model_experiment/model_1_dense/assets\n",
            "Epoch 11/100\n",
            "18/18 [==============================] - 0s 4ms/step - loss: 135.6591 - mae: 135.6591 - mse: 104117.6016 - val_loss: 771.3524 - val_mae: 771.3524 - val_mse: 1885888.0000\n",
            "Epoch 12/100\n",
            "18/18 [==============================] - 0s 3ms/step - loss: 134.1702 - mae: 134.1702 - mse: 101780.5469 - val_loss: 782.8325 - val_mae: 782.8325 - val_mse: 1881791.3750\n",
            "Epoch 13/100\n",
            "18/18 [==============================] - 0s 4ms/step - loss: 134.6014 - mae: 134.6014 - mse: 102344.3594 - val_loss: 784.4728 - val_mae: 784.4728 - val_mse: 1861070.7500\n",
            "Epoch 14/100\n",
            "18/18 [==============================] - 0s 3ms/step - loss: 130.6125 - mae: 130.6125 - mse: 96224.3672 - val_loss: 751.3469 - val_mae: 751.3469 - val_mse: 1749667.7500\n",
            "INFO:tensorflow:Assets written to: model_experiment/model_1_dense/assets\n",
            "Epoch 15/100\n",
            "18/18 [==============================] - 0s 3ms/step - loss: 128.8352 - mae: 128.8352 - mse: 94306.8516 - val_loss: 696.5836 - val_mae: 696.5836 - val_mse: 1606358.5000\n",
            "INFO:tensorflow:Assets written to: model_experiment/model_1_dense/assets\n",
            "Epoch 16/100\n",
            "18/18 [==============================] - 0s 3ms/step - loss: 124.8667 - mae: 124.8667 - mse: 90498.6172 - val_loss: 707.2988 - val_mae: 707.2988 - val_mse: 1602364.1250\n",
            "Epoch 17/100\n",
            "18/18 [==============================] - 0s 3ms/step - loss: 123.6096 - mae: 123.6096 - mse: 89226.7188 - val_loss: 714.2291 - val_mae: 714.2291 - val_mse: 1601816.3750\n",
            "Epoch 18/100\n",
            "18/18 [==============================] - 0s 3ms/step - loss: 122.3023 - mae: 122.3023 - mse: 87726.4766 - val_loss: 669.1412 - val_mae: 669.1412 - val_mse: 1498631.2500\n",
            "INFO:tensorflow:Assets written to: model_experiment/model_1_dense/assets\n",
            "Epoch 19/100\n",
            "18/18 [==============================] - 0s 3ms/step - loss: 121.4931 - mae: 121.4931 - mse: 86447.8672 - val_loss: 721.5452 - val_mae: 721.5452 - val_mse: 1595832.0000\n",
            "Epoch 20/100\n",
            "18/18 [==============================] - 0s 4ms/step - loss: 119.2384 - mae: 119.2384 - mse: 84250.7422 - val_loss: 658.0786 - val_mae: 658.0786 - val_mse: 1448094.8750\n",
            "INFO:tensorflow:Assets written to: model_experiment/model_1_dense/assets\n",
            "Epoch 21/100\n",
            "18/18 [==============================] - 0s 3ms/step - loss: 121.5293 - mae: 121.5293 - mse: 85926.5391 - val_loss: 638.3386 - val_mae: 638.3386 - val_mse: 1397797.1250\n",
            "INFO:tensorflow:Assets written to: model_experiment/model_1_dense/assets\n",
            "Epoch 22/100\n",
            "18/18 [==============================] - 0s 3ms/step - loss: 119.3422 - mae: 119.3422 - mse: 83495.2109 - val_loss: 678.8881 - val_mae: 678.8881 - val_mse: 1465750.7500\n",
            "Epoch 23/100\n",
            "18/18 [==============================] - 0s 3ms/step - loss: 122.8203 - mae: 122.8203 - mse: 84656.3750 - val_loss: 651.8512 - val_mae: 651.8512 - val_mse: 1401081.2500\n",
            "Epoch 24/100\n",
            "18/18 [==============================] - 0s 3ms/step - loss: 117.0774 - mae: 117.0774 - mse: 81069.2031 - val_loss: 623.5612 - val_mae: 623.5612 - val_mse: 1362704.8750\n",
            "INFO:tensorflow:Assets written to: model_experiment/model_1_dense/assets\n",
            "Epoch 25/100\n",
            "18/18 [==============================] - 0s 3ms/step - loss: 115.1816 - mae: 115.1816 - mse: 79065.0391 - val_loss: 618.5576 - val_mae: 618.5576 - val_mse: 1342634.1250\n",
            "INFO:tensorflow:Assets written to: model_experiment/model_1_dense/assets\n",
            "Epoch 26/100\n",
            "18/18 [==============================] - 0s 3ms/step - loss: 115.0673 - mae: 115.0673 - mse: 78886.6484 - val_loss: 616.4918 - val_mae: 616.4918 - val_mse: 1321327.3750\n",
            "INFO:tensorflow:Assets written to: model_experiment/model_1_dense/assets\n",
            "Epoch 27/100\n",
            "18/18 [==============================] - 0s 3ms/step - loss: 116.6431 - mae: 116.6431 - mse: 79058.1094 - val_loss: 619.0472 - val_mae: 619.0472 - val_mse: 1316206.7500\n",
            "Epoch 28/100\n",
            "18/18 [==============================] - 0s 3ms/step - loss: 114.0328 - mae: 114.0328 - mse: 77953.4609 - val_loss: 610.3879 - val_mae: 610.3879 - val_mse: 1316937.5000\n",
            "INFO:tensorflow:Assets written to: model_experiment/model_1_dense/assets\n",
            "Epoch 29/100\n",
            "18/18 [==============================] - 0s 3ms/step - loss: 113.4892 - mae: 113.4892 - mse: 78513.0938 - val_loss: 617.2403 - val_mae: 617.2403 - val_mse: 1304227.6250\n",
            "Epoch 30/100\n",
            "18/18 [==============================] - 0s 3ms/step - loss: 116.4094 - mae: 116.4094 - mse: 78943.1562 - val_loss: 603.6488 - val_mae: 603.6488 - val_mse: 1283177.6250\n",
            "INFO:tensorflow:Assets written to: model_experiment/model_1_dense/assets\n",
            "Epoch 31/100\n",
            "18/18 [==============================] - 0s 3ms/step - loss: 112.3454 - mae: 112.3454 - mse: 74879.3281 - val_loss: 623.4434 - val_mae: 623.4434 - val_mse: 1311037.0000\n",
            "Epoch 32/100\n",
            "18/18 [==============================] - 0s 3ms/step - loss: 113.2056 - mae: 113.2056 - mse: 77898.5078 - val_loss: 600.0259 - val_mae: 600.0259 - val_mse: 1271945.3750\n",
            "INFO:tensorflow:Assets written to: model_experiment/model_1_dense/assets\n",
            "Epoch 33/100\n",
            "18/18 [==============================] - 0s 3ms/step - loss: 112.9528 - mae: 112.9528 - mse: 76235.4062 - val_loss: 653.0603 - val_mae: 653.0603 - val_mse: 1369885.3750\n",
            "Epoch 34/100\n",
            "18/18 [==============================] - 0s 4ms/step - loss: 112.1156 - mae: 112.1156 - mse: 77267.7656 - val_loss: 594.7914 - val_mae: 594.7914 - val_mse: 1263628.3750\n",
            "INFO:tensorflow:Assets written to: model_experiment/model_1_dense/assets\n",
            "Epoch 35/100\n",
            "18/18 [==============================] - 0s 4ms/step - loss: 110.7447 - mae: 110.7447 - mse: 75067.1719 - val_loss: 592.7402 - val_mae: 592.7402 - val_mse: 1250752.7500\n",
            "INFO:tensorflow:Assets written to: model_experiment/model_1_dense/assets\n",
            "Epoch 36/100\n",
            "18/18 [==============================] - 0s 3ms/step - loss: 116.3300 - mae: 116.3300 - mse: 77425.8203 - val_loss: 592.4696 - val_mae: 592.4696 - val_mse: 1246067.7500\n",
            "INFO:tensorflow:Assets written to: model_experiment/model_1_dense/assets\n",
            "Epoch 37/100\n",
            "18/18 [==============================] - 0s 3ms/step - loss: 110.7676 - mae: 110.7676 - mse: 75596.7188 - val_loss: 618.5347 - val_mae: 618.5347 - val_mse: 1286740.8750\n",
            "Epoch 38/100\n",
            "18/18 [==============================] - 0s 3ms/step - loss: 112.5934 - mae: 112.5934 - mse: 75636.7344 - val_loss: 613.9558 - val_mae: 613.9558 - val_mse: 1306248.2500\n",
            "Epoch 39/100\n",
            "18/18 [==============================] - 0s 3ms/step - loss: 110.1321 - mae: 110.1321 - mse: 74271.7969 - val_loss: 586.6888 - val_mae: 586.6888 - val_mse: 1231217.5000\n",
            "INFO:tensorflow:Assets written to: model_experiment/model_1_dense/assets\n",
            "Epoch 40/100\n",
            "18/18 [==============================] - 0s 4ms/step - loss: 109.4753 - mae: 109.4753 - mse: 73257.0156 - val_loss: 593.9154 - val_mae: 593.9154 - val_mse: 1256532.2500\n",
            "Epoch 41/100\n",
            "18/18 [==============================] - 0s 3ms/step - loss: 110.1777 - mae: 110.1777 - mse: 73581.0391 - val_loss: 586.4464 - val_mae: 586.4464 - val_mse: 1229670.8750\n",
            "INFO:tensorflow:Assets written to: model_experiment/model_1_dense/assets\n",
            "Epoch 42/100\n",
            "18/18 [==============================] - 0s 3ms/step - loss: 111.5192 - mae: 111.5192 - mse: 76049.7734 - val_loss: 649.3647 - val_mae: 649.3647 - val_mse: 1345895.7500\n",
            "Epoch 43/100\n",
            "18/18 [==============================] - 0s 3ms/step - loss: 115.8939 - mae: 115.8939 - mse: 74405.6172 - val_loss: 686.8297 - val_mae: 686.8297 - val_mse: 1486394.0000\n",
            "Epoch 44/100\n",
            "18/18 [==============================] - 0s 4ms/step - loss: 123.0945 - mae: 123.0945 - mse: 83366.2969 - val_loss: 661.1307 - val_mae: 661.1307 - val_mse: 1411200.5000\n",
            "Epoch 45/100\n",
            "18/18 [==============================] - 0s 3ms/step - loss: 113.8169 - mae: 113.8169 - mse: 77100.1719 - val_loss: 626.8173 - val_mae: 626.8173 - val_mse: 1293825.3750\n",
            "Epoch 46/100\n",
            "18/18 [==============================] - 0s 3ms/step - loss: 114.0971 - mae: 114.0971 - mse: 76079.4375 - val_loss: 588.7771 - val_mae: 588.7771 - val_mse: 1238327.6250\n",
            "Epoch 47/100\n",
            "18/18 [==============================] - 0s 3ms/step - loss: 108.9936 - mae: 108.9936 - mse: 73660.3203 - val_loss: 636.0581 - val_mae: 636.0581 - val_mse: 1312959.7500\n",
            "Epoch 48/100\n",
            "18/18 [==============================] - 0s 4ms/step - loss: 109.2967 - mae: 109.2967 - mse: 73079.0703 - val_loss: 604.1584 - val_mae: 604.1584 - val_mse: 1245049.5000\n",
            "Epoch 49/100\n",
            "18/18 [==============================] - 0s 3ms/step - loss: 111.7787 - mae: 111.7787 - mse: 73888.9141 - val_loss: 591.5093 - val_mae: 591.5093 - val_mse: 1222480.5000\n",
            "Epoch 50/100\n",
            "18/18 [==============================] - 0s 3ms/step - loss: 111.7319 - mae: 111.7319 - mse: 73875.1562 - val_loss: 636.4680 - val_mae: 636.4680 - val_mse: 1341627.2500\n",
            "Epoch 51/100\n",
            "18/18 [==============================] - 0s 3ms/step - loss: 110.7498 - mae: 110.7498 - mse: 73830.9062 - val_loss: 589.2877 - val_mae: 589.2877 - val_mse: 1216413.7500\n",
            "Epoch 52/100\n",
            "18/18 [==============================] - 0s 4ms/step - loss: 111.5193 - mae: 111.5193 - mse: 75446.7031 - val_loss: 609.5290 - val_mae: 609.5290 - val_mse: 1277468.7500\n",
            "Epoch 53/100\n",
            "18/18 [==============================] - 0s 3ms/step - loss: 113.9868 - mae: 113.9868 - mse: 75752.9688 - val_loss: 584.7471 - val_mae: 584.7471 - val_mse: 1209497.1250\n",
            "INFO:tensorflow:Assets written to: model_experiment/model_1_dense/assets\n",
            "Epoch 54/100\n",
            "18/18 [==============================] - 0s 3ms/step - loss: 110.1075 - mae: 110.1075 - mse: 72728.5703 - val_loss: 578.7415 - val_mae: 578.7415 - val_mse: 1200865.1250\n",
            "INFO:tensorflow:Assets written to: model_experiment/model_1_dense/assets\n",
            "Epoch 55/100\n",
            "18/18 [==============================] - 0s 3ms/step - loss: 110.6423 - mae: 110.6423 - mse: 75084.4219 - val_loss: 581.5334 - val_mae: 581.5334 - val_mse: 1218269.0000\n",
            "Epoch 56/100\n",
            "18/18 [==============================] - 0s 4ms/step - loss: 107.6537 - mae: 107.6537 - mse: 71568.1250 - val_loss: 759.0192 - val_mae: 759.0192 - val_mse: 1698485.8750\n",
            "Epoch 57/100\n",
            "18/18 [==============================] - 0s 4ms/step - loss: 119.2012 - mae: 119.2012 - mse: 79652.9453 - val_loss: 603.5956 - val_mae: 603.5956 - val_mse: 1262627.2500\n",
            "Epoch 58/100\n",
            "18/18 [==============================] - 0s 3ms/step - loss: 116.4417 - mae: 116.4417 - mse: 75122.9062 - val_loss: 583.7296 - val_mae: 583.7296 - val_mse: 1206719.1250\n",
            "Epoch 59/100\n",
            "18/18 [==============================] - 0s 3ms/step - loss: 109.9014 - mae: 109.9014 - mse: 72680.9531 - val_loss: 592.8417 - val_mae: 592.8417 - val_mse: 1240090.5000\n",
            "Epoch 60/100\n",
            "18/18 [==============================] - 0s 3ms/step - loss: 107.7859 - mae: 107.7859 - mse: 72220.4766 - val_loss: 593.4968 - val_mae: 593.4968 - val_mse: 1220786.1250\n",
            "Epoch 61/100\n",
            "18/18 [==============================] - 0s 3ms/step - loss: 107.6960 - mae: 107.6960 - mse: 72155.8672 - val_loss: 575.5123 - val_mae: 575.5123 - val_mse: 1194018.5000\n",
            "INFO:tensorflow:Assets written to: model_experiment/model_1_dense/assets\n",
            "Epoch 62/100\n",
            "18/18 [==============================] - 0s 3ms/step - loss: 107.1258 - mae: 107.1258 - mse: 70836.3516 - val_loss: 580.2646 - val_mae: 580.2646 - val_mse: 1213138.7500\n",
            "Epoch 63/100\n",
            "18/18 [==============================] - 0s 3ms/step - loss: 111.8451 - mae: 111.8451 - mse: 73612.9609 - val_loss: 654.6141 - val_mae: 654.6141 - val_mse: 1348994.1250\n",
            "Epoch 64/100\n",
            "18/18 [==============================] - 0s 3ms/step - loss: 110.3121 - mae: 110.3121 - mse: 72546.6562 - val_loss: 610.7810 - val_mae: 610.7810 - val_mse: 1251885.1250\n",
            "Epoch 65/100\n",
            "18/18 [==============================] - 0s 3ms/step - loss: 109.7098 - mae: 109.7098 - mse: 72575.0938 - val_loss: 573.9960 - val_mae: 573.9960 - val_mse: 1190387.3750\n",
            "INFO:tensorflow:Assets written to: model_experiment/model_1_dense/assets\n",
            "Epoch 66/100\n",
            "18/18 [==============================] - 0s 3ms/step - loss: 106.8139 - mae: 106.8139 - mse: 70554.2734 - val_loss: 572.9990 - val_mae: 572.9990 - val_mse: 1187547.3750\n",
            "INFO:tensorflow:Assets written to: model_experiment/model_1_dense/assets\n",
            "Epoch 67/100\n",
            "18/18 [==============================] - 0s 4ms/step - loss: 106.1394 - mae: 106.1394 - mse: 70026.4453 - val_loss: 602.1526 - val_mae: 602.1526 - val_mse: 1255794.0000\n",
            "Epoch 68/100\n",
            "18/18 [==============================] - 0s 3ms/step - loss: 112.9245 - mae: 112.9245 - mse: 70779.4219 - val_loss: 687.6378 - val_mae: 687.6378 - val_mse: 1476286.8750\n",
            "Epoch 69/100\n",
            "18/18 [==============================] - 0s 3ms/step - loss: 126.9916 - mae: 126.9916 - mse: 82712.0234 - val_loss: 664.9476 - val_mae: 664.9476 - val_mse: 1413701.2500\n",
            "Epoch 70/100\n",
            "18/18 [==============================] - 0s 3ms/step - loss: 124.8734 - mae: 124.8734 - mse: 83039.0469 - val_loss: 619.6688 - val_mae: 619.6688 - val_mse: 1298641.2500\n",
            "Epoch 71/100\n",
            "18/18 [==============================] - 0s 3ms/step - loss: 109.8522 - mae: 109.8522 - mse: 71643.5000 - val_loss: 582.3636 - val_mae: 582.3636 - val_mse: 1201056.8750\n",
            "Epoch 72/100\n",
            "18/18 [==============================] - 0s 4ms/step - loss: 107.6717 - mae: 107.6717 - mse: 71406.7969 - val_loss: 573.4947 - val_mae: 573.4947 - val_mse: 1192645.7500\n",
            "Epoch 73/100\n",
            "18/18 [==============================] - 0s 4ms/step - loss: 109.6036 - mae: 109.6036 - mse: 71761.6406 - val_loss: 583.9047 - val_mae: 583.9047 - val_mse: 1218967.5000\n",
            "Epoch 74/100\n",
            "18/18 [==============================] - 0s 3ms/step - loss: 107.7049 - mae: 107.7049 - mse: 71542.6250 - val_loss: 572.9933 - val_mae: 572.9933 - val_mse: 1189806.1250\n",
            "INFO:tensorflow:Assets written to: model_experiment/model_1_dense/assets\n",
            "Epoch 75/100\n",
            "18/18 [==============================] - 0s 3ms/step - loss: 108.1179 - mae: 108.1179 - mse: 70535.7891 - val_loss: 583.9371 - val_mae: 583.9371 - val_mse: 1199156.1250\n",
            "Epoch 76/100\n",
            "18/18 [==============================] - 0s 3ms/step - loss: 109.5447 - mae: 109.5447 - mse: 71991.1250 - val_loss: 592.8236 - val_mae: 592.8236 - val_mse: 1234672.1250\n",
            "Epoch 77/100\n",
            "18/18 [==============================] - 0s 4ms/step - loss: 108.3639 - mae: 108.3639 - mse: 70784.8125 - val_loss: 575.4260 - val_mae: 575.4260 - val_mse: 1197659.6250\n",
            "Epoch 78/100\n",
            "18/18 [==============================] - 0s 3ms/step - loss: 108.0055 - mae: 108.0055 - mse: 70093.0234 - val_loss: 574.3941 - val_mae: 574.3941 - val_mse: 1193026.1250\n",
            "Epoch 79/100\n",
            "18/18 [==============================] - 0s 4ms/step - loss: 107.3223 - mae: 107.3223 - mse: 71654.6641 - val_loss: 597.2479 - val_mae: 597.2479 - val_mse: 1242042.0000\n",
            "Epoch 80/100\n",
            "18/18 [==============================] - 0s 3ms/step - loss: 108.1452 - mae: 108.1452 - mse: 71775.7031 - val_loss: 586.6866 - val_mae: 586.6866 - val_mse: 1199789.1250\n",
            "Epoch 81/100\n",
            "18/18 [==============================] - 0s 3ms/step - loss: 106.1153 - mae: 106.1153 - mse: 69995.2266 - val_loss: 575.1765 - val_mae: 575.1765 - val_mse: 1195805.2500\n",
            "Epoch 82/100\n",
            "18/18 [==============================] - 0s 3ms/step - loss: 116.6343 - mae: 116.6343 - mse: 77928.7109 - val_loss: 575.4341 - val_mae: 575.4341 - val_mse: 1192046.7500\n",
            "Epoch 83/100\n",
            "18/18 [==============================] - 0s 3ms/step - loss: 110.8731 - mae: 110.8731 - mse: 72825.0859 - val_loss: 654.5368 - val_mae: 654.5368 - val_mse: 1375391.2500\n",
            "Epoch 84/100\n",
            "18/18 [==============================] - 0s 3ms/step - loss: 111.9106 - mae: 111.9106 - mse: 73183.8359 - val_loss: 572.3373 - val_mae: 572.3373 - val_mse: 1176463.7500\n",
            "INFO:tensorflow:Assets written to: model_experiment/model_1_dense/assets\n",
            "Epoch 85/100\n",
            "18/18 [==============================] - 0s 3ms/step - loss: 106.6153 - mae: 106.6153 - mse: 70752.4297 - val_loss: 574.2833 - val_mae: 574.2833 - val_mse: 1178177.1250\n",
            "Epoch 86/100\n",
            "18/18 [==============================] - 0s 4ms/step - loss: 108.4299 - mae: 108.4299 - mse: 70129.7266 - val_loss: 583.3530 - val_mae: 583.3530 - val_mse: 1191900.3750\n",
            "Epoch 87/100\n",
            "18/18 [==============================] - 0s 3ms/step - loss: 105.7481 - mae: 105.7481 - mse: 68589.9531 - val_loss: 593.0121 - val_mae: 593.0121 - val_mse: 1230071.5000\n",
            "Epoch 88/100\n",
            "18/18 [==============================] - 0s 3ms/step - loss: 107.2604 - mae: 107.2604 - mse: 70897.3281 - val_loss: 571.7658 - val_mae: 571.7658 - val_mse: 1182082.7500\n",
            "INFO:tensorflow:Assets written to: model_experiment/model_1_dense/assets\n",
            "Epoch 89/100\n",
            "18/18 [==============================] - 0s 3ms/step - loss: 106.7823 - mae: 106.7823 - mse: 69118.5469 - val_loss: 568.6369 - val_mae: 568.6369 - val_mse: 1174329.6250\n",
            "INFO:tensorflow:Assets written to: model_experiment/model_1_dense/assets\n",
            "Epoch 90/100\n",
            "18/18 [==============================] - 0s 3ms/step - loss: 105.8682 - mae: 105.8682 - mse: 67370.6953 - val_loss: 602.9690 - val_mae: 602.9690 - val_mse: 1230767.2500\n",
            "Epoch 91/100\n",
            "18/18 [==============================] - 0s 3ms/step - loss: 110.6365 - mae: 110.6365 - mse: 72148.0469 - val_loss: 605.6947 - val_mae: 605.6947 - val_mse: 1257883.8750\n",
            "Epoch 92/100\n",
            "18/18 [==============================] - 0s 4ms/step - loss: 109.4668 - mae: 109.4668 - mse: 72193.7734 - val_loss: 572.4370 - val_mae: 572.4370 - val_mse: 1183753.5000\n",
            "Epoch 93/100\n",
            "18/18 [==============================] - 0s 3ms/step - loss: 113.0063 - mae: 113.0063 - mse: 73147.9766 - val_loss: 617.3000 - val_mae: 617.3000 - val_mse: 1284326.2500\n",
            "Epoch 94/100\n",
            "18/18 [==============================] - 0s 3ms/step - loss: 112.4903 - mae: 112.4903 - mse: 73928.3125 - val_loss: 599.9802 - val_mae: 599.9802 - val_mse: 1225950.3750\n",
            "Epoch 95/100\n",
            "18/18 [==============================] - 0s 3ms/step - loss: 106.0053 - mae: 106.0053 - mse: 68764.8750 - val_loss: 570.6212 - val_mae: 570.6212 - val_mse: 1175398.6250\n",
            "Epoch 96/100\n",
            "18/18 [==============================] - 0s 3ms/step - loss: 109.5910 - mae: 109.5910 - mse: 70458.2500 - val_loss: 676.3395 - val_mae: 676.3395 - val_mse: 1426408.0000\n",
            "Epoch 97/100\n",
            "18/18 [==============================] - 0s 4ms/step - loss: 110.2213 - mae: 110.2213 - mse: 72762.1250 - val_loss: 574.2989 - val_mae: 574.2989 - val_mse: 1177002.6250\n",
            "Epoch 98/100\n",
            "18/18 [==============================] - 0s 3ms/step - loss: 106.7290 - mae: 106.7290 - mse: 69964.2578 - val_loss: 576.7734 - val_mae: 576.7734 - val_mse: 1192501.2500\n",
            "Epoch 99/100\n",
            "18/18 [==============================] - 0s 4ms/step - loss: 106.9889 - mae: 106.9889 - mse: 70740.1953 - val_loss: 568.5498 - val_mae: 568.5498 - val_mse: 1172587.8750\n",
            "INFO:tensorflow:Assets written to: model_experiment/model_1_dense/assets\n",
            "Epoch 100/100\n",
            "18/18 [==============================] - 0s 4ms/step - loss: 117.7622 - mae: 117.7622 - mse: 73195.7734 - val_loss: 662.5320 - val_mae: 662.5320 - val_mse: 1358191.2500\n"
          ],
          "name": "stdout"
        }
      ]
    },
    {
      "cell_type": "code",
      "metadata": {
        "colab": {
          "base_uri": "https://localhost:8080/"
        },
        "id": "bkGAKEhp07jl",
        "outputId": "652e7197-ec9f-46df-bec9-bbdac2e9d30a"
      },
      "source": [
        "model_1.evaluate(test_windows, test_labels)"
      ],
      "execution_count": 77,
      "outputs": [
        {
          "output_type": "stream",
          "text": [
            "18/18 [==============================] - 0s 1ms/step - loss: 662.5319 - mae: 662.5319 - mse: 1358191.0000\n"
          ],
          "name": "stdout"
        },
        {
          "output_type": "execute_result",
          "data": {
            "text/plain": [
              "[662.5319213867188, 662.5319213867188, 1358191.0]"
            ]
          },
          "metadata": {
            "tags": []
          },
          "execution_count": 77
        }
      ]
    },
    {
      "cell_type": "code",
      "metadata": {
        "colab": {
          "base_uri": "https://localhost:8080/"
        },
        "id": "rsrA1o-t33tA",
        "outputId": "71bdd6cf-e790-4f7c-c5c2-d3d090f4947f"
      },
      "source": [
        "model_1 = tf.keras.models.load_model(\"/content/model_experiment/model_1_dense\")\n",
        "\n",
        "model_1.evaluate(test_windows, test_labels)\n"
      ],
      "execution_count": 78,
      "outputs": [
        {
          "output_type": "stream",
          "text": [
            "18/18 [==============================] - 0s 1ms/step - loss: 568.5498 - mae: 568.5498 - mse: 1172588.0000\n"
          ],
          "name": "stdout"
        },
        {
          "output_type": "execute_result",
          "data": {
            "text/plain": [
              "[568.5498046875, 568.5498046875, 1172588.0]"
            ]
          },
          "metadata": {
            "tags": []
          },
          "execution_count": 78
        }
      ]
    },
    {
      "cell_type": "code",
      "metadata": {
        "colab": {
          "base_uri": "https://localhost:8080/"
        },
        "id": "jxhB_2C34SFY",
        "outputId": "06e91fef-b597-4cf6-f0b6-16188e799b1b"
      },
      "source": [
        "naive_results"
      ],
      "execution_count": 79,
      "outputs": [
        {
          "output_type": "execute_result",
          "data": {
            "text/plain": [
              "{'mae': 567.9802,\n",
              " 'mape': 2.516525,\n",
              " 'mase': 0.99957,\n",
              " 'mse': 1147547.0,\n",
              " 'rmse': 1071.2362}"
            ]
          },
          "metadata": {
            "tags": []
          },
          "execution_count": 79
        }
      ]
    },
    {
      "cell_type": "markdown",
      "metadata": {
        "id": "S-AihzVQ4o-w"
      },
      "source": [
        "## Making forecast function"
      ]
    },
    {
      "cell_type": "code",
      "metadata": {
        "id": "DCfkeNgz5E3C"
      },
      "source": [
        "def make_preds(model, input_data):\n",
        "  \"\"\"\n",
        "  Uses model to make prediction on input data\n",
        "  \"\"\"\n",
        "\n",
        "  forecast = model.predict(input_data)\n",
        "  return tf.squeeze(forecast) # return 1D array of predictions"
      ],
      "execution_count": 80,
      "outputs": []
    },
    {
      "cell_type": "code",
      "metadata": {
        "colab": {
          "base_uri": "https://localhost:8080/"
        },
        "id": "0gX1MB1k5XvU",
        "outputId": "1e0dabee-42fd-424a-ae65-9665e7037c08"
      },
      "source": [
        "## Make predictions using model 1 \n",
        "model_1_preds = make_preds(model_1, test_windows)\n",
        "model_1_preds[:10]"
      ],
      "execution_count": 81,
      "outputs": [
        {
          "output_type": "execute_result",
          "data": {
            "text/plain": [
              "<tf.Tensor: shape=(10,), dtype=float32, numpy=\n",
              "array([8874.494, 8789.944, 9040.985, 8804.829, 8741.21 , 8749.836,\n",
              "       8705.866, 8513.171, 8478.416, 8536.302], dtype=float32)>"
            ]
          },
          "metadata": {
            "tags": []
          },
          "execution_count": 81
        }
      ]
    },
    {
      "cell_type": "code",
      "metadata": {
        "colab": {
          "base_uri": "https://localhost:8080/"
        },
        "id": "wQ7gmaCZ6Crd",
        "outputId": "310a84f3-e756-40f5-b2cb-a6c9676b0b05"
      },
      "source": [
        "model_1_results = evaluate_preds(tf.squeeze(test_labels), model_1_preds)\n",
        "model_1_results"
      ],
      "execution_count": 84,
      "outputs": [
        {
          "output_type": "execute_result",
          "data": {
            "text/plain": [
              "{'mae': 568.5498,\n",
              " 'mape': 2.549229,\n",
              " 'mase': 0.99878454,\n",
              " 'mse': 1172587.5,\n",
              " 'rmse': 1082.8608}"
            ]
          },
          "metadata": {
            "tags": []
          },
          "execution_count": 84
        }
      ]
    },
    {
      "cell_type": "code",
      "metadata": {
        "colab": {
          "base_uri": "https://localhost:8080/"
        },
        "id": "Py9Gh7cf6Kdd",
        "outputId": "ea83f276-62e8-4129-b53d-eb0419ae69b5"
      },
      "source": [
        "naive_results"
      ],
      "execution_count": 85,
      "outputs": [
        {
          "output_type": "execute_result",
          "data": {
            "text/plain": [
              "{'mae': 567.9802,\n",
              " 'mape': 2.516525,\n",
              " 'mase': 0.99957,\n",
              " 'mse': 1147547.0,\n",
              " 'rmse': 1071.2362}"
            ]
          },
          "metadata": {
            "tags": []
          },
          "execution_count": 85
        }
      ]
    },
    {
      "cell_type": "code",
      "metadata": {
        "colab": {
          "base_uri": "https://localhost:8080/",
          "height": 445
        },
        "id": "HrL-wJrc7P0L",
        "outputId": "ba956ee8-49cd-40cf-b1e9-66baec3f56bb"
      },
      "source": [
        "offset = 300\n",
        "plt.figure(figsize=(10,7))\n",
        "sns.scatterplot(x = X_test[-len(test_windows):], y = test_labels[:, 0],  label=\"Test Data\")\n",
        "\n",
        "sns.lineplot(x = X_test[-len(test_windows):], y = model_1_preds,  label=\"Model 1 Pred Data\")"
      ],
      "execution_count": 121,
      "outputs": [
        {
          "output_type": "execute_result",
          "data": {
            "text/plain": [
              "<matplotlib.axes._subplots.AxesSubplot at 0x7f073a1a09d0>"
            ]
          },
          "metadata": {
            "tags": []
          },
          "execution_count": 121
        },
        {
          "output_type": "display_data",
          "data": {
            "image/png": "[encoded data removed]",
            "text/plain": [
              "<Figure size 720x504 with 1 Axes>"
            ]
          },
          "metadata": {
            "tags": [],
            "needs_background": "light"
          }
        }
      ]
    },
    {
      "cell_type": "code",
      "metadata": {
        "id": "jpAVs5YkAUJX"
      },
      "source": [
        "\n",
        "# Create a function to plot time series data\n",
        "def plot_time_series(timesteps, values, format='.', start=0, end=None, label=None):\n",
        "  \"\"\"\n",
        "  Plots a timesteps (a series of points in time) against values (a series of values across timesteps).\n",
        "  \n",
        "  Parameters\n",
        "  ---------\n",
        "  timesteps : array of timesteps\n",
        "  values : array of values across time\n",
        "  format : style of plot, default \".\"\n",
        "  start : where to start the plot (setting a value will index from start of timesteps & values)\n",
        "  end : where to end the plot (setting a value will index from end of timesteps & values)\n",
        "  label : label to show on plot of values\n",
        "  \"\"\"\n",
        "  # Plot the series\n",
        "  plt.plot(timesteps[start:end], values[start:end], format, label=label)\n",
        "  plt.xlabel(\"Time\")\n",
        "  plt.ylabel(\"BTC Price\")\n",
        "  if label:\n",
        "    plt.legend(fontsize=14) # make label bigger\n",
        "  plt.grid(True)"
      ],
      "execution_count": 122,
      "outputs": []
    },
    {
      "cell_type": "code",
      "metadata": {
        "colab": {
          "base_uri": "https://localhost:8080/",
          "height": 442
        },
        "id": "sBCMDnccAVVk",
        "outputId": "4196cb2c-1a20-48ac-c231-212073c0c88c"
      },
      "source": [
        "\n",
        "offset = 300\n",
        "plt.figure(figsize=(10, 7))\n",
        "# Account for the test_window offset and index into test_labels to ensure correct plotting\n",
        "plot_time_series(timesteps=X_test[-len(test_windows):], values=test_labels[:, 0], start=offset, label=\"Test_data\")\n",
        "plot_time_series(timesteps=X_test[-len(test_windows):], values=model_1_preds, start=offset, format=\"-\", label=\"model_1_preds\")"
      ],
      "execution_count": 124,
      "outputs": [
        {
          "output_type": "display_data",
          "data": {
            "image/png": "[encoded data removed]",
            "text/plain": [
              "<Figure size 720x504 with 1 Axes>"
            ]
          },
          "metadata": {
            "tags": [],
            "needs_background": "light"
          }
        }
      ]
    },
    {
      "cell_type": "markdown",
      "metadata": {
        "id": "kkL2npuC8Jte"
      },
      "source": [
        "## Model 2"
      ]
    },
    {
      "cell_type": "code",
      "metadata": {
        "colab": {
          "base_uri": "https://localhost:8080/"
        },
        "id": "hp6kvEX-_O_a",
        "outputId": "6ad40327-7c38-44c5-fc30-9250893e415e"
      },
      "source": [
        "## Window size = 30, Horizon = 1\n",
        "\n",
        "HORIZON = 1\n",
        "WINDOW_SIZE = 30 \n",
        "\n",
        "full_windows, full_labels = make_windows(btc_price, window_size=WINDOW_SIZE, horizon=HORIZON)\n",
        "\n",
        "train_windows, test_windows, train_labels, test_labels = make_train_test_splits(full_windows, full_labels)\n",
        "\n",
        "len(train_windows), len(test_windows),  len(train_labels), len(test_labels)\n"
      ],
      "execution_count": 133,
      "outputs": [
        {
          "output_type": "execute_result",
          "data": {
            "text/plain": [
              "(2205, 552, 2205, 552)"
            ]
          },
          "metadata": {
            "tags": []
          },
          "execution_count": 133
        }
      ]
    },
    {
      "cell_type": "code",
      "metadata": {
        "colab": {
          "base_uri": "https://localhost:8080/"
        },
        "id": "AXZgGx9ZAAuY",
        "outputId": "872fa6e5-5b47-48ed-cca8-0fcd33a5ad8e"
      },
      "source": [
        "tf.random.set_seed(42)\n",
        "\n",
        "# Create Model\n",
        "model_2 = tf.keras.Sequential([\n",
        "  layers.Dense(128, activation=\"relu\"),\n",
        "  layers.Dense(HORIZON)\n",
        "], name=\"model_2_dense\")\n",
        "\n",
        "# Compile\n",
        "model_2.compile(loss=\"mae\",\n",
        "                optimizer=tf.keras.optimizers.Adam())\n",
        "\n",
        "# Fit\n",
        "model_2.fit(train_windows,\n",
        "            train_labels,\n",
        "            epochs=100,\n",
        "            batch_size=128,\n",
        "            verbose=0,\n",
        "            validation_data = (test_windows, test_labels),\n",
        "            callbacks=[create_model_checkpoint(model_name=model_2.name)])"
      ],
      "execution_count": 134,
      "outputs": [
        {
          "output_type": "stream",
          "text": [
            "INFO:tensorflow:Assets written to: model_experiment/model_2_dense/assets\n",
            "INFO:tensorflow:Assets written to: model_experiment/model_2_dense/assets\n",
            "INFO:tensorflow:Assets written to: model_experiment/model_2_dense/assets\n",
            "INFO:tensorflow:Assets written to: model_experiment/model_2_dense/assets\n",
            "INFO:tensorflow:Assets written to: model_experiment/model_2_dense/assets\n",
            "INFO:tensorflow:Assets written to: model_experiment/model_2_dense/assets\n",
            "INFO:tensorflow:Assets written to: model_experiment/model_2_dense/assets\n",
            "INFO:tensorflow:Assets written to: model_experiment/model_2_dense/assets\n",
            "INFO:tensorflow:Assets written to: model_experiment/model_2_dense/assets\n",
            "INFO:tensorflow:Assets written to: model_experiment/model_2_dense/assets\n",
            "INFO:tensorflow:Assets written to: model_experiment/model_2_dense/assets\n",
            "INFO:tensorflow:Assets written to: model_experiment/model_2_dense/assets\n",
            "INFO:tensorflow:Assets written to: model_experiment/model_2_dense/assets\n",
            "INFO:tensorflow:Assets written to: model_experiment/model_2_dense/assets\n",
            "INFO:tensorflow:Assets written to: model_experiment/model_2_dense/assets\n",
            "INFO:tensorflow:Assets written to: model_experiment/model_2_dense/assets\n",
            "INFO:tensorflow:Assets written to: model_experiment/model_2_dense/assets\n",
            "INFO:tensorflow:Assets written to: model_experiment/model_2_dense/assets\n",
            "INFO:tensorflow:Assets written to: model_experiment/model_2_dense/assets\n",
            "INFO:tensorflow:Assets written to: model_experiment/model_2_dense/assets\n",
            "INFO:tensorflow:Assets written to: model_experiment/model_2_dense/assets\n",
            "INFO:tensorflow:Assets written to: model_experiment/model_2_dense/assets\n",
            "INFO:tensorflow:Assets written to: model_experiment/model_2_dense/assets\n",
            "INFO:tensorflow:Assets written to: model_experiment/model_2_dense/assets\n",
            "INFO:tensorflow:Assets written to: model_experiment/model_2_dense/assets\n",
            "INFO:tensorflow:Assets written to: model_experiment/model_2_dense/assets\n",
            "INFO:tensorflow:Assets written to: model_experiment/model_2_dense/assets\n",
            "INFO:tensorflow:Assets written to: model_experiment/model_2_dense/assets\n",
            "INFO:tensorflow:Assets written to: model_experiment/model_2_dense/assets\n",
            "INFO:tensorflow:Assets written to: model_experiment/model_2_dense/assets\n"
          ],
          "name": "stdout"
        },
        {
          "output_type": "execute_result",
          "data": {
            "text/plain": [
              "<tensorflow.python.keras.callbacks.History at 0x7f0739904210>"
            ]
          },
          "metadata": {
            "tags": []
          },
          "execution_count": 134
        }
      ]
    },
    {
      "cell_type": "code",
      "metadata": {
        "colab": {
          "base_uri": "https://localhost:8080/"
        },
        "id": "9VeOFWT1CeFh",
        "outputId": "4cfcc6ee-80a3-475f-eaa4-8af1fb8e85ee"
      },
      "source": [
        "model_2 = tf.keras.models.load_model(\"/content/model_experiment/model_2_dense\")\n",
        "\n",
        "model_2_preds = make_preds(model_2,test_windows )\n",
        "\n",
        "model_2_results = evaluate_preds(tf.squeeze(test_labels), model_2_preds)\n",
        "\n",
        "model_2_results"
      ],
      "execution_count": 129,
      "outputs": [
        {
          "output_type": "execute_result",
          "data": {
            "text/plain": [
              "{'mae': 608.848,\n",
              " 'mape': 2.7680664,\n",
              " 'mase': 1.0642722,\n",
              " 'mse': 1284314.2,\n",
              " 'rmse': 1133.2759}"
            ]
          },
          "metadata": {
            "tags": []
          },
          "execution_count": 129
        }
      ]
    },
    {
      "cell_type": "code",
      "metadata": {
        "colab": {
          "base_uri": "https://localhost:8080/"
        },
        "id": "K4h1goRCDBFz",
        "outputId": "666e8389-48ac-4b21-a671-3de8eec71425"
      },
      "source": [
        "model_1_results"
      ],
      "execution_count": 130,
      "outputs": [
        {
          "output_type": "execute_result",
          "data": {
            "text/plain": [
              "{'mae': 568.5498,\n",
              " 'mape': 2.549229,\n",
              " 'mase': 0.99878454,\n",
              " 'mse': 1172587.5,\n",
              " 'rmse': 1082.8608}"
            ]
          },
          "metadata": {
            "tags": []
          },
          "execution_count": 130
        }
      ]
    },
    {
      "cell_type": "markdown",
      "metadata": {
        "id": "UuhCxzUgDeUR"
      },
      "source": [
        "## Model 3 "
      ]
    },
    {
      "cell_type": "code",
      "metadata": {
        "colab": {
          "base_uri": "https://localhost:8080/"
        },
        "id": "-40IMNr-Drzz",
        "outputId": "9319cc98-3ecf-438a-fa9c-d4ba2689c8e9"
      },
      "source": [
        "# windows = 30, horizon = 7\n",
        "\n",
        "HORIZON = 7\n",
        "WINDOW_SIZE = 30 \n",
        "\n",
        "full_windows, full_labels = make_windows(btc_price, window_size=WINDOW_SIZE, horizon=HORIZON)\n",
        "\n",
        "train_windows, test_windows, train_labels, test_labels = make_train_test_splits(full_windows, full_labels)\n",
        "\n",
        "len(train_windows), len(test_windows),  len(train_labels), len(test_labels)\n"
      ],
      "execution_count": 135,
      "outputs": [
        {
          "output_type": "execute_result",
          "data": {
            "text/plain": [
              "(2200, 551, 2200, 551)"
            ]
          },
          "metadata": {
            "tags": []
          },
          "execution_count": 135
        }
      ]
    },
    {
      "cell_type": "code",
      "metadata": {
        "colab": {
          "base_uri": "https://localhost:8080/"
        },
        "id": "xwtGxlsCD0mC",
        "outputId": "1514580c-58ac-49ec-f856-aa24c2f02d82"
      },
      "source": [
        "tf.random.set_seed(42)\n",
        "\n",
        "# Create Model\n",
        "model_3 = tf.keras.Sequential([\n",
        "  layers.Dense(128, activation=\"relu\"),\n",
        "  layers.Dense(HORIZON)\n",
        "], name=\"model_3_dense\")\n",
        "\n",
        "# Compile\n",
        "model_3.compile(loss=\"mae\",\n",
        "                optimizer=tf.keras.optimizers.Adam())\n",
        "\n",
        "# Fit\n",
        "model_3.fit(train_windows,\n",
        "            train_labels,\n",
        "            epochs=100,\n",
        "            batch_size=128,\n",
        "            verbose=0,\n",
        "            validation_data = (test_windows, test_labels),\n",
        "            callbacks=[create_model_checkpoint(model_name=model_3.name)])"
      ],
      "execution_count": 136,
      "outputs": [
        {
          "output_type": "stream",
          "text": [
            "INFO:tensorflow:Assets written to: model_experiment/model_3_dense/assets\n",
            "INFO:tensorflow:Assets written to: model_experiment/model_3_dense/assets\n",
            "INFO:tensorflow:Assets written to: model_experiment/model_3_dense/assets\n",
            "INFO:tensorflow:Assets written to: model_experiment/model_3_dense/assets\n",
            "INFO:tensorflow:Assets written to: model_experiment/model_3_dense/assets\n",
            "INFO:tensorflow:Assets written to: model_experiment/model_3_dense/assets\n",
            "INFO:tensorflow:Assets written to: model_experiment/model_3_dense/assets\n",
            "INFO:tensorflow:Assets written to: model_experiment/model_3_dense/assets\n",
            "INFO:tensorflow:Assets written to: model_experiment/model_3_dense/assets\n",
            "INFO:tensorflow:Assets written to: model_experiment/model_3_dense/assets\n",
            "INFO:tensorflow:Assets written to: model_experiment/model_3_dense/assets\n",
            "INFO:tensorflow:Assets written to: model_experiment/model_3_dense/assets\n",
            "INFO:tensorflow:Assets written to: model_experiment/model_3_dense/assets\n",
            "INFO:tensorflow:Assets written to: model_experiment/model_3_dense/assets\n",
            "INFO:tensorflow:Assets written to: model_experiment/model_3_dense/assets\n",
            "INFO:tensorflow:Assets written to: model_experiment/model_3_dense/assets\n",
            "INFO:tensorflow:Assets written to: model_experiment/model_3_dense/assets\n",
            "INFO:tensorflow:Assets written to: model_experiment/model_3_dense/assets\n",
            "INFO:tensorflow:Assets written to: model_experiment/model_3_dense/assets\n",
            "INFO:tensorflow:Assets written to: model_experiment/model_3_dense/assets\n",
            "INFO:tensorflow:Assets written to: model_experiment/model_3_dense/assets\n",
            "INFO:tensorflow:Assets written to: model_experiment/model_3_dense/assets\n",
            "INFO:tensorflow:Assets written to: model_experiment/model_3_dense/assets\n"
          ],
          "name": "stdout"
        },
        {
          "output_type": "execute_result",
          "data": {
            "text/plain": [
              "<tensorflow.python.keras.callbacks.History at 0x7f073f255210>"
            ]
          },
          "metadata": {
            "tags": []
          },
          "execution_count": 136
        }
      ]
    },
    {
      "cell_type": "code",
      "metadata": {
        "colab": {
          "base_uri": "https://localhost:8080/"
        },
        "id": "T_TwfubnD3CG",
        "outputId": "92364e83-7282-4c0b-f793-2c071da43b10"
      },
      "source": [
        "model_3 = tf.keras.models.load_model(\"/content/model_experiment/model_3_dense\")\n",
        "\n",
        "model_3_preds = make_preds(model_3, test_windows)\n",
        "\n",
        "model_3_results = evaluate_preds(tf.squeeze(test_labels), tf.squeeze(model_3_preds))\n",
        "\n",
        "model_3_results"
      ],
      "execution_count": 138,
      "outputs": [
        {
          "output_type": "execute_result",
          "data": {
            "text/plain": [
              "{'mae': array([  626.7155  ,   350.57574 ,   412.08246 ,   482.1812  ,\n",
              "          504.571   ,   615.0213  ,   630.43695 ,   547.73517 ,\n",
              "          574.7174  ,   732.08484 ,   898.0451  ,   823.1332  ,\n",
              "          794.2299  ,   870.7681  ,   643.8316  ,   296.31158 ,\n",
              "          196.50356 ,   186.22762 ,   209.04723 ,   250.63065 ,\n",
              "          122.10917 ,   204.3466  ,   268.94623 ,   335.85205 ,\n",
              "          227.7682  ,   189.0217  ,   159.70982 ,   162.8932  ,\n",
              "          164.54199 ,   244.55406 ,   371.04883 ,   444.51562 ,\n",
              "          343.18387 ,   352.8309  ,   317.8284  ,   317.82944 ,\n",
              "          382.62387 ,   310.62543 ,   251.96463 ,   152.32463 ,\n",
              "          330.9836  ,    72.83663 ,    89.1709  ,    95.86356 ,\n",
              "          160.27742 ,    52.79492 ,   111.26884 ,   146.96819 ,\n",
              "          171.62737 ,   155.65842 ,   163.20096 ,   192.13246 ,\n",
              "          249.00949 ,   170.37158 ,   238.36873 ,   317.6271  ,\n",
              "          478.7726  ,   481.1409  ,   451.52902 ,   462.9438  ,\n",
              "          374.87076 ,   240.47224 ,   223.23438 ,   277.40527 ,\n",
              "          411.5057  ,   442.7142  ,   442.13434 ,   461.94705 ,\n",
              "          185.89119 ,   255.65904 ,   303.6437  ,   479.23032 ,\n",
              "          593.9336  ,   451.72336 ,   353.9322  ,   388.87082 ,\n",
              "          275.6402  ,   333.1063  ,   435.5237  ,   579.8563  ,\n",
              "          743.9238  ,   578.071   ,   251.85812 ,   193.84096 ,\n",
              "          209.71764 ,   157.58273 ,   168.97629 ,   232.09305 ,\n",
              "          247.40598 ,   466.2426  ,   353.1179  ,   356.26242 ,\n",
              "          286.13266 ,   237.87068 ,   189.79199 ,   347.59906 ,\n",
              "          386.29547 ,   579.7369  ,   709.8153  ,   860.99457 ,\n",
              "          607.3368  ,   388.00922 ,   296.86398 ,   412.38644 ,\n",
              "          465.6568  ,   468.94937 ,   541.98914 ,   687.64844 ,\n",
              "         1041.9932  ,  1032.2999  ,   972.3288  ,   486.51395 ,\n",
              "          238.57994 ,   129.65318 ,    97.882256,   315.18854 ,\n",
              "          354.36545 ,   455.79764 ,   620.60754 ,  1111.3894  ,\n",
              "         1689.2592  ,  2262.4358  ,  2058.9666  ,  2210.0552  ,\n",
              "         2362.4844  ,  2735.557   ,  1370.4066  ,   685.0146  ,\n",
              "          380.47055 ,   350.0934  ,   514.7326  ,   387.5904  ,\n",
              "          488.04703 ,   301.64426 ,   274.96234 ,   277.01724 ,\n",
              "          390.54758 ,   295.75473 ,   392.08002 ,   393.78802 ,\n",
              "          385.30267 ,   359.19824 ,   244.06041 ,   521.42395 ,\n",
              "          626.5045  ,   379.14127 ,   311.61008 ,   181.18199 ,\n",
              "          290.13113 ,   226.46965 ,   257.548   ,   581.1977  ,\n",
              "          440.32156 ,   596.47516 ,   495.08154 ,   429.91245 ,\n",
              "          154.91832 ,   176.7401  ,   193.03244 ,   174.32729 ,\n",
              "          228.43924 ,   225.84807 ,   196.46463 ,   240.0037  ,\n",
              "          274.53885 ,   274.85422 ,   446.9207  ,   638.79834 ,\n",
              "          468.71713 ,   541.62976 ,   763.4045  ,   835.1205  ,\n",
              "          927.8482  ,  1023.1551  ,   451.54633 ,   204.70982 ,\n",
              "          325.69824 ,   351.28793 ,   382.52512 ,   411.23312 ,\n",
              "          542.2715  ,   540.39496 ,   690.3062  ,  1056.4801  ,\n",
              "          957.7839  ,   361.0759  ,   428.37192 ,   662.1784  ,\n",
              "          297.21136 ,   299.31488 ,   317.55887 ,   314.94852 ,\n",
              "          469.7885  ,   538.88715 ,   723.11145 ,   705.19586 ,\n",
              "          452.3768  ,   238.80106 ,   294.5363  ,   222.38322 ,\n",
              "          404.84918 ,   640.7204  ,   624.9489  ,   383.22797 ,\n",
              "          235.92592 ,   166.90067 ,   249.71164 ,   410.74734 ,\n",
              "          229.88322 ,   218.57227 ,   407.5452  ,   267.78793 ,\n",
              "          295.45172 ,   264.61285 ,   365.33328 ,   488.84933 ,\n",
              "          604.4886  ,   249.39732 ,   249.73381 ,   228.63002 ,\n",
              "          254.55775 ,   269.76297 ,   219.08426 ,   190.26646 ,\n",
              "          223.6515  ,   223.44936 ,   208.92201 ,   278.85492 ,\n",
              "          386.26465 ,   654.7575  ,   356.91574 ,   376.7814  ,\n",
              "          188.0261  ,   167.07283 ,   168.80553 ,    97.02888 ,\n",
              "          164.6543  ,   159.38728 ,   114.9714  ,   143.90067 ,\n",
              "          105.01925 ,   105.233116,   120.40639 ,   201.54436 ,\n",
              "          287.86398 ,   228.5039  ,   240.14467 ,   195.60086 ,\n",
              "          183.57742 ,   226.23576 ,   231.24303 ,   129.64133 ,\n",
              "          122.46484 ,   163.6942  ,   201.23117 ,   209.6091  ,\n",
              "          522.66296 ,   620.477   ,   754.39734 ,   838.70325 ,\n",
              "         1045.05    ,  1261.7822  ,  1233.4983  ,   461.64746 ,\n",
              "          242.70131 ,   247.9156  ,   195.24232 ,   246.5505  ,\n",
              "          454.35477 ,   154.0657  ,   104.297295,   172.71289 ,\n",
              "          232.46555 ,   359.8732  ,   374.41434 ,   366.54074 ,\n",
              "          316.06918 ,   362.83844 ,   151.98088 ,   182.81125 ,\n",
              "          195.0219  ,   294.27344 ,   239.17787 ,   383.18735 ,\n",
              "          524.2755  ,   709.4467  ,   430.14844 ,   412.59125 ,\n",
              "          277.0223  ,   350.36258 ,   474.81625 ,   391.32645 ,\n",
              "          176.43694 ,   123.18541 ,   333.75098 ,   462.27805 ,\n",
              "          654.0999  ,   893.329   ,  1189.7878  ,  1588.6095  ,\n",
              "         1484.4032  ,  1015.7702  ,   708.9145  ,   134.38338 ,\n",
              "          165.64328 ,   151.42941 ,   204.98117 ,   309.51883 ,\n",
              "          307.91727 ,   345.13434 ,   306.7394  ,   284.50656 ,\n",
              "          184.16685 ,   258.36356 ,   427.42996 ,   546.4911  ,\n",
              "          497.3298  ,   600.0445  ,   411.55496 ,   186.87375 ,\n",
              "          102.328545,   218.65681 ,   160.22043 ,   208.62947 ,\n",
              "          258.9096  ,   344.0438  ,   412.9025  ,   382.6218  ,\n",
              "          284.77637 ,   226.06082 ,   117.591515,   184.42201 ,\n",
              "          292.6946  ,   345.33496 ,   427.99734 ,   558.50305 ,\n",
              "          506.3118  ,   409.70453 ,   147.51912 ,   199.98186 ,\n",
              "          355.6045  ,   236.48674 ,   364.49945 ,   535.8083  ,\n",
              "          635.9542  ,   920.91376 ,  1094.1866  ,  1094.705   ,\n",
              "         1137.0717  ,   331.69016 ,   253.87402 ,   236.73772 ,\n",
              "          213.17912 ,   165.16057 ,   220.67033 ,   275.16043 ,\n",
              "          169.97447 ,   286.93375 ,   543.94293 ,   611.1864  ,\n",
              "          753.11316 ,  1011.49176 ,  1070.6321  ,  1074.5118  ,\n",
              "          374.48996 ,   425.43735 ,   351.22476 ,   251.0717  ,\n",
              "          391.81168 ,   687.6921  ,   682.6402  ,   722.0512  ,\n",
              "          947.3492  ,  1123.8505  ,  1687.533   ,  1405.6886  ,\n",
              "          875.5575  ,   369.37305 ,   407.04297 ,   735.0837  ,\n",
              "         1012.685   ,  1258.4177  ,  1212.3724  ,  1214.5616  ,\n",
              "         1012.4169  ,   628.87805 ,  1021.53516 ,  1192.8917  ,\n",
              "         1148.4462  ,   300.39926 ,   324.9057  ,   705.18414 ,\n",
              "          957.79266 ,   780.5212  ,   891.4526  ,   799.00085 ,\n",
              "          716.00977 ,   566.642   ,   625.046   ,  1239.0273  ,\n",
              "         2332.5808  ,  2589.3672  ,  2938.7346  ,  3192.3782  ,\n",
              "         3392.3977  ,  2225.7554  ,   823.6197  ,   554.5424  ,\n",
              "          864.7793  ,  1137.3279  ,  1252.3733  ,  1517.1365  ,\n",
              "         2338.0688  ,  2867.1443  ,  2823.8     ,  2203.1353  ,\n",
              "         2362.557   ,  2558.1248  ,  3327.5317  ,  3114.1648  ,\n",
              "         3780.2205  ,  4749.189   ,  4176.6455  ,  3661.5232  ,\n",
              "         4023.5652  ,  3096.577   ,  2603.0005  ,  2617.1636  ,\n",
              "         4773.4775  ,  6194.434   ,  5733.0083  ,  1795.8337  ,\n",
              "          794.8298  ,  1267.2572  ,  3248.034   ,  3763.5273  ,\n",
              "         3876.5269  ,  3667.072   ,  3624.094   ,  4056.5874  ,\n",
              "         4350.977   ,  1533.9037  ,  1262.6844  ,  1073.5084  ,\n",
              "         1002.1401  ,  1165.1858  ,  1928.558   ,  3510.5122  ,\n",
              "         3303.2874  ,  2213.1362  ,  2568.7612  ,  2826.7512  ,\n",
              "         4470.407   ,  5030.7554  ,  4234.5903  ,  4422.0127  ,\n",
              "         5816.518   ,  5591.8896  ,  7747.667   ,  4399.2266  ,\n",
              "         1262.7589  ,  1306.9174  ,  1309.3834  ,  2156.3455  ,\n",
              "         2413.569   ,  2865.1223  ,  2323.241   ,  3285.8855  ,\n",
              "         2634.859   ,  3497.1228  ,  6103.474   ,  7864.3784  ,\n",
              "        10686.882   ,  9894.467   ,  5791.101   ,  3598.4084  ,\n",
              "         2066.0117  ,  1055.5352  ,  1700.6044  ,  3411.0352  ,\n",
              "         2360.5178  ,  2392.3342  ,  2591.7925  ,  3577.9995  ,\n",
              "         4782.7783  ,  5882.6807  ,  5564.73    ,  5001.094   ,\n",
              "         3870.905   ,  2005.6875  ,  1304.9688  ,  1232.4225  ,\n",
              "         2139.5051  ,  3310.566   ,  2090.53    ,  2296.194   ,\n",
              "         3353.4119  ,  4612.888   ,  6137.0454  ,  5928.0767  ,\n",
              "         5727.5703  ,  1621.7667  ,  1763.3431  ,  2236.3281  ,\n",
              "         3279.112   ,  3861.7505  ,  1667.2405  ,  2015.783   ,\n",
              "         1109.9861  ,   375.61606 ,  1433.4799  ,  1556.8416  ,\n",
              "         1362.49    ,   986.87164 ,  1256.5792  ,  1097.072   ,\n",
              "         1313.1864  ,  1958.3119  ,  2736.0894  ,  3022.9363  ,\n",
              "         1965.2238  ,  2507.5295  ,  2940.3594  ,  3871.692   ,\n",
              "         6132.496   ,  7778.2876  ,  9232.976   ,  8830.678   ,\n",
              "         6897.089   ,  5355.9595  ,  5113.7925  ,  2935.2449  ,\n",
              "         1899.3639  ,  2511.2847  ,  3786.7668  ,  5915.0894  ,\n",
              "         3443.8381  ,  1321.9542  ,  1901.0955  ,  1817.3125  ,\n",
              "         1291.235   ,  2034.6786  ,  1226.308   ,  2129.8152  ,\n",
              "         1555.154   ,  1817.683   ,  2622.6658  ,  4119.409   ,\n",
              "         6259.77    ,  7599.7266  ,  8578.634   ], dtype=float32),\n",
              " 'mape': array([ 7.1491585 ,  4.0535827 ,  4.765703  ,  5.618698  ,  5.957768  ,\n",
              "         7.3589554 ,  7.6267877 ,  6.821704  ,  7.4761605 ,  9.667406  ,\n",
              "        12.104361  , 11.289455  , 10.963903  , 12.005193  ,  8.894203  ,\n",
              "         4.1126285 ,  2.7060678 ,  2.4823468 ,  2.7612004 ,  3.3264372 ,\n",
              "         1.6415592 ,  2.7643812 ,  3.6642087 ,  4.569978  ,  3.0965188 ,\n",
              "         2.576339  ,  2.1678102 ,  2.2278125 ,  2.2573595 ,  3.3669922 ,\n",
              "         5.1402383 ,  6.195451  ,  4.8497086 ,  5.1374297 ,  4.6482453 ,\n",
              "         4.6116786 ,  5.535468  ,  4.506316  ,  3.6609423 ,  2.1645    ,\n",
              "         4.5436044 ,  1.0105503 ,  1.2360195 ,  1.3242579 ,  2.2202575 ,\n",
              "         0.72858375,  1.5346282 ,  2.029187  ,  2.3755403 ,  2.1893473 ,\n",
              "         2.290206  ,  2.680636  ,  3.4630094 ,  2.3514378 ,  3.1540446 ,\n",
              "         4.0751987 ,  6.139107  ,  6.0661077 ,  5.6455398 ,  5.7785892 ,\n",
              "         4.639888  ,  2.8755524 ,  2.6111932 ,  3.2011912 ,  4.705198  ,\n",
              "         5.055597  ,  5.02297   ,  5.2390623 ,  2.1098228 ,  2.9469373 ,\n",
              "         3.52702   ,  5.6097713 ,  6.986756  ,  5.3294806 ,  4.173884  ,\n",
              "         4.570615  ,  3.2048893 ,  3.6686938 ,  4.7070374 ,  6.2349143 ,\n",
              "         7.9785643 ,  6.1812735 ,  2.6823506 ,  2.0625274 ,  2.2448897 ,\n",
              "         1.6870135 ,  1.802927  ,  2.394588  ,  2.5070584 ,  4.6862435 ,\n",
              "         3.4911506 ,  3.5163991 ,  2.8018942 ,  2.3361108 ,  1.8926485 ,\n",
              "         3.4724932 ,  3.902891  ,  5.8751135 ,  7.254769  ,  8.836763  ,\n",
              "         6.2576184 ,  3.9927998 ,  3.0230203 ,  4.29152   ,  5.026995  ,\n",
              "         5.2073503 ,  6.082602  ,  7.7322006 , 11.89072   , 11.806103  ,\n",
              "        11.12283   ,  5.5788774 ,  2.7460504 ,  1.4793185 ,  1.1027858 ,\n",
              "         3.5932128 ,  4.2463512 ,  5.5813546 ,  7.6023803 , 16.045378  ,\n",
              "        26.10233   , 36.983387  , 35.796402  , 40.60404   , 43.87722   ,\n",
              "        50.896435  , 25.456366  , 12.89483   ,  6.8880887 ,  6.0060906 ,\n",
              "         8.395479  ,  6.1276965 ,  7.594254  ,  4.583945  ,  4.383072  ,\n",
              "         4.297167  ,  5.9784703 ,  4.5691175 ,  6.1882267 ,  6.2934012 ,\n",
              "         6.21345   ,  5.766725  ,  3.7997682 ,  7.7580914 ,  9.134567  ,\n",
              "         5.438307  ,  4.4219165 ,  2.586691  ,  4.0752616 ,  3.2411997 ,\n",
              "         3.6121483 ,  8.259673  ,  6.3344874 ,  8.670633  ,  7.1924286 ,\n",
              "         6.2016854 ,  2.2133577 ,  2.538686  ,  2.7418437 ,  2.4833899 ,\n",
              "         3.18109   ,  3.145465  ,  2.726827  ,  3.3461075 ,  3.8151715 ,\n",
              "         3.6158652 ,  5.8720446 ,  7.9573884 ,  5.5663767 ,  6.254339  ,\n",
              "         8.714715  ,  9.492038  , 10.505544  , 11.524538  ,  4.9965286 ,\n",
              "         2.1264484 ,  3.3839502 ,  3.6908276 ,  4.0467567 ,  4.448554  ,\n",
              "         5.8627906 ,  5.9799814 ,  7.74851   , 11.708745  , 10.633826  ,\n",
              "         4.0031047 ,  4.488326  ,  6.89848   ,  3.076037  ,  3.170387  ,\n",
              "         3.421141  ,  3.383475  ,  5.0943637 ,  5.8905907 ,  8.008207  ,\n",
              "         7.810844  ,  5.005678  ,  2.6382608 ,  3.2244585 ,  2.4036121 ,\n",
              "         4.130826  ,  6.609453  ,  6.4215527 ,  3.8823996 ,  2.3638706 ,\n",
              "         1.6958077 ,  2.50901   ,  4.2374315 ,  2.3627982 ,  2.2437224 ,\n",
              "         4.2450557 ,  2.829096  ,  3.1002815 ,  2.8107302 ,  3.8868673 ,\n",
              "         5.1894464 ,  6.4129553 ,  2.6461377 ,  2.6611006 ,  2.4415886 ,\n",
              "         2.7221704 ,  2.8841536 ,  2.3364892 ,  2.0346482 ,  2.3832293 ,\n",
              "         2.4060075 ,  2.2519767 ,  3.0080943 ,  4.209103  ,  7.1455674 ,\n",
              "         3.9013066 ,  4.1278787 ,  2.0632782 ,  1.8290831 ,  1.8500971 ,\n",
              "         1.0671984 ,  1.8015152 ,  1.74061   ,  1.2548317 ,  1.5581435 ,\n",
              "         1.1300546 ,  1.1302704 ,  1.3004512 ,  2.170025  ,  3.1144907 ,\n",
              "         2.4801953 ,  2.6104412 ,  2.125195  ,  1.9969347 ,  2.4648955 ,\n",
              "         2.5189126 ,  1.4067014 ,  1.3110046 ,  1.7413158 ,  2.1131792 ,\n",
              "         2.1581392 ,  5.0483246 ,  5.834649  ,  6.9098005 ,  7.595744  ,\n",
              "         9.396091  , 11.208151  , 10.925553  ,  4.0564876 ,  2.1173854 ,\n",
              "         2.1791186 ,  1.718222  ,  2.161177  ,  3.9886694 ,  1.3405062 ,\n",
              "         0.9023623 ,  1.4874191 ,  2.0156453 ,  3.1115687 ,  3.2246795 ,\n",
              "         3.1557474 ,  2.722533  ,  3.0920706 ,  1.2667774 ,  1.5113512 ,\n",
              "         1.6181108 ,  2.4819608 ,  2.0276427 ,  3.2377288 ,  4.4791126 ,\n",
              "         6.0962286 ,  3.7283475 ,  3.5962682 ,  2.4202714 ,  3.0673292 ,\n",
              "         4.147522  ,  3.407287  ,  1.5294894 ,  1.0537617 ,  2.952748  ,\n",
              "         4.2078075 ,  6.1550636 ,  8.562921  , 11.396382  , 15.384867  ,\n",
              "        14.463897  ,  9.939771  ,  6.9258018 ,  1.3180718 ,  1.6137842 ,\n",
              "         1.4614931 ,  1.9382347 ,  2.8815145 ,  2.8446743 ,  3.1897292 ,\n",
              "         2.8001218 ,  2.6098366 ,  1.6936985 ,  2.4162781 ,  4.0515313 ,\n",
              "         5.17953   ,  4.7075267 ,  5.688886  ,  3.9085507 ,  1.7802093 ,\n",
              "         0.96352327,  2.0341988 ,  1.4882385 ,  1.9569056 ,  2.434789  ,\n",
              "         3.2345243 ,  3.8800318 ,  3.6004894 ,  2.6881552 ,  2.1256359 ,\n",
              "         1.0907433 ,  1.6801668 ,  2.6529546 ,  3.0529494 ,  3.7594926 ,\n",
              "         4.911092  ,  4.4264374 ,  3.5749397 ,  1.2863761 ,  1.7442005 ,\n",
              "         3.1135767 ,  2.0610194 ,  2.9802117 ,  4.259315  ,  4.9561286 ,\n",
              "         7.12514   ,  8.456056  ,  8.423769  ,  8.617954  ,  2.4982789 ,\n",
              "         1.9144638 ,  1.7784427 ,  1.5903828 ,  1.2116543 ,  1.615699  ,\n",
              "         2.0292938 ,  1.2305996 ,  1.9055108 ,  3.6059208 ,  4.0718613 ,\n",
              "         4.9482765 ,  6.6405115 ,  7.008562  ,  6.947486  ,  2.3861132 ,\n",
              "         2.7570922 ,  2.2166793 ,  1.5858792 ,  2.3923798 ,  4.1017523 ,\n",
              "         3.9618547 ,  4.178316  ,  5.3771973 ,  6.2193036 ,  9.289073  ,\n",
              "         7.6730676 ,  4.7104144 ,  1.9780042 ,  2.2581007 ,  4.2287383 ,\n",
              "         5.7951183 ,  7.145933  ,  6.8793764 ,  6.909998  ,  5.7649145 ,\n",
              "         3.3941708 ,  5.3418517 ,  6.2460856 ,  5.974425  ,  1.5708563 ,\n",
              "         1.717374  ,  3.7448633 ,  5.1193347 ,  4.2219543 ,  4.8089843 ,\n",
              "         4.302258  ,  3.8536553 ,  3.0618947 ,  3.1676927 ,  5.786247  ,\n",
              "        10.849266  , 11.521697  , 12.837505  , 13.8569565 , 14.655455  ,\n",
              "         9.532426  ,  3.5054007 ,  2.3148017 ,  3.5517638 ,  4.6191225 ,\n",
              "         4.896021  ,  5.7864356 ,  8.651004  , 10.4345255 , 10.060508  ,\n",
              "         7.35125   ,  7.587237  ,  8.154958  , 10.3219795 ,  9.17824   ,\n",
              "        10.486158  , 12.711003  , 10.813363  ,  9.467144  , 10.307708  ,\n",
              "         7.943291  ,  6.8586497 ,  7.33115   , 13.245175  , 17.252129  ,\n",
              "        15.978284  ,  4.984858  ,  2.137072  ,  3.4598145 ,  9.479339  ,\n",
              "        11.214103  , 11.778186  , 11.334659  , 11.183338  , 12.636328  ,\n",
              "        13.693065  ,  4.7917595 ,  3.943305  ,  3.2980566 ,  3.0452523 ,\n",
              "         3.5275395 ,  5.613739  ,  9.999103  ,  9.194648  ,  6.054927  ,\n",
              "         6.854283  ,  7.396608  , 11.133419  , 11.801882  ,  9.55626   ,\n",
              "         9.666871  , 12.657825  , 12.006438  , 16.474756  ,  9.233976  ,\n",
              "         2.6365418 ,  2.6054544 ,  2.6180446 ,  4.1434083 ,  4.5879555 ,\n",
              "         5.273134  ,  4.229343  ,  6.094978  ,  5.095067  ,  6.8724566 ,\n",
              "        12.651089  , 16.441702  , 22.647644  , 20.9883    , 12.355167  ,\n",
              "         7.720933  ,  4.446585  ,  2.2163916 ,  3.4570198 ,  6.8875356 ,\n",
              "         4.6969075 ,  4.6103835 ,  4.789757  ,  6.518585  ,  8.589371  ,\n",
              "        10.273816  ,  9.531992  ,  8.585997  ,  6.615539  ,  3.3805113 ,\n",
              "         2.2346077 ,  2.073369  ,  3.7122753 ,  5.7400646 ,  3.7243545 ,\n",
              "         4.107186  ,  6.142285  ,  8.567751  , 11.3843975 , 10.97406   ,\n",
              "        10.600097  ,  3.0303957 ,  3.2605853 ,  3.8988552 ,  5.6900954 ,\n",
              "         6.6445045 ,  2.861582  ,  3.4449968 ,  1.8876406 ,  0.64201254,\n",
              "         2.4819982 ,  2.7080226 ,  2.3566394 ,  1.7041545 ,  2.1740937 ,\n",
              "         1.9139796 ,  2.1945763 ,  3.1872735 ,  4.4071803 ,  4.8529925 ,\n",
              "         3.1418822 ,  4.097141  ,  4.9420447 ,  6.7491636 , 10.825447  ,\n",
              "        14.059453  , 17.13532   , 16.705484  , 13.451949  , 10.479252  ,\n",
              "         9.983432  ,  5.762023  ,  3.7432904 ,  4.6830187 ,  6.836605  ,\n",
              "        10.627757  ,  6.0940194 ,  2.3405273 ,  3.4004881 ,  3.185771  ,\n",
              "         2.3242218 ,  3.6451426 ,  2.217087  ,  3.7959807 ,  2.6802714 ,\n",
              "         3.2960734 ,  4.9812784 ,  8.001568  , 12.4140215 , 15.553512  ,\n",
              "        18.256548  ], dtype=float32),\n",
              " 'mase': 2.199565,\n",
              " 'mse': array([4.35243969e+05, 1.92665281e+05, 2.00579859e+05, 2.73581062e+05,\n",
              "        3.33964344e+05, 4.75336438e+05, 4.94118344e+05, 4.14191969e+05,\n",
              "        5.42767938e+05, 7.49753625e+05, 1.02403688e+06, 8.99901500e+05,\n",
              "        7.33015438e+05, 8.03286625e+05, 4.35796062e+05, 1.30384609e+05,\n",
              "        5.70207266e+04, 4.77101211e+04, 7.89544141e+04, 8.72424609e+04,\n",
              "        2.21463301e+04, 6.07570352e+04, 8.92894453e+04, 1.32277047e+05,\n",
              "        6.75715469e+04, 5.39167305e+04, 2.97467188e+04, 4.64056953e+04,\n",
              "        3.71425078e+04, 8.14658828e+04, 1.53620391e+05, 2.19764250e+05,\n",
              "        1.56514203e+05, 2.05787141e+05, 1.92494266e+05, 1.51544281e+05,\n",
              "        2.01174297e+05, 1.61363172e+05, 1.07731547e+05, 3.73248320e+04,\n",
              "        1.47673531e+05, 7.68358984e+03, 1.67545840e+04, 1.74586152e+04,\n",
              "        3.27443633e+04, 6.14111768e+03, 1.35089004e+04, 2.44981602e+04,\n",
              "        3.85166484e+04, 4.19873203e+04, 4.30748516e+04, 4.52392617e+04,\n",
              "        7.28529609e+04, 4.47884023e+04, 1.03282484e+05, 1.68031969e+05,\n",
              "        2.89831281e+05, 3.06282688e+05, 2.62362156e+05, 2.24397359e+05,\n",
              "        1.61364469e+05, 1.22855664e+05, 1.02474125e+05, 1.38675906e+05,\n",
              "        2.55016250e+05, 2.38464297e+05, 2.29700625e+05, 2.46736156e+05,\n",
              "        4.69996445e+04, 9.95700156e+04, 1.20072695e+05, 2.91911719e+05,\n",
              "        3.97750094e+05, 2.59587375e+05, 1.63905750e+05, 1.93338047e+05,\n",
              "        1.07850430e+05, 1.59668078e+05, 2.56315547e+05, 4.08395906e+05,\n",
              "        5.80575438e+05, 3.48519594e+05, 7.54471797e+04, 5.47045703e+04,\n",
              "        5.94848047e+04, 4.40523750e+04, 6.19495547e+04, 7.83781484e+04,\n",
              "        8.48985469e+04, 2.46461828e+05, 1.63880703e+05, 1.46454062e+05,\n",
              "        9.97174219e+04, 6.41619727e+04, 5.32813086e+04, 1.42994203e+05,\n",
              "        2.30574453e+05, 4.19334406e+05, 6.22908000e+05, 8.26858000e+05,\n",
              "        4.29435188e+05, 1.80870766e+05, 1.03823734e+05, 2.07566922e+05,\n",
              "        3.54879844e+05, 4.26993594e+05, 4.91617500e+05, 6.15842812e+05,\n",
              "        1.31336838e+06, 1.20356438e+06, 9.63868688e+05, 2.65014031e+05,\n",
              "        8.57612031e+04, 3.85208750e+04, 1.32869395e+04, 1.38842250e+05,\n",
              "        2.18443984e+05, 3.46277188e+05, 4.84032844e+05, 2.15086350e+06,\n",
              "        4.36275600e+06, 6.74876000e+06, 5.74751100e+06, 6.37223050e+06,\n",
              "        6.55461750e+06, 7.58792250e+06, 1.99484175e+06, 6.09744938e+05,\n",
              "        1.85097250e+05, 1.89767047e+05, 3.49394500e+05, 2.49511781e+05,\n",
              "        2.97502156e+05, 1.45263578e+05, 1.51086375e+05, 1.01615508e+05,\n",
              "        1.67684250e+05, 1.18184992e+05, 1.98642500e+05, 2.43839500e+05,\n",
              "        2.73012656e+05, 2.08862922e+05, 7.13050781e+04, 3.39121938e+05,\n",
              "        4.46247594e+05, 1.77432781e+05, 1.20456930e+05, 4.17130664e+04,\n",
              "        9.38877109e+04, 9.20559609e+04, 7.52906016e+04, 3.85154219e+05,\n",
              "        2.44450656e+05, 4.19530500e+05, 2.89957406e+05, 1.91297109e+05,\n",
              "        3.02714551e+04, 4.09324336e+04, 4.34040312e+04, 3.98395391e+04,\n",
              "        8.69415391e+04, 6.72862266e+04, 4.71837578e+04, 6.98675859e+04,\n",
              "        9.63549766e+04, 1.05125625e+05, 2.19315516e+05, 5.89748375e+05,\n",
              "        4.28693719e+05, 5.51635875e+05, 9.05852625e+05, 8.96830625e+05,\n",
              "        9.65613000e+05, 1.05558375e+06, 2.58847297e+05, 1.48570594e+05,\n",
              "        1.94503672e+05, 1.67814453e+05, 1.90371719e+05, 2.50145531e+05,\n",
              "        3.23147688e+05, 4.04559719e+05, 7.23871625e+05, 1.26448425e+06,\n",
              "        1.03638756e+06, 2.04106719e+05, 2.14135172e+05, 4.72506281e+05,\n",
              "        1.22467125e+05, 1.20215516e+05, 1.88229844e+05, 1.39800000e+05,\n",
              "        2.94756719e+05, 3.41487250e+05, 6.35605438e+05, 5.47661875e+05,\n",
              "        2.44912969e+05, 7.80379766e+04, 1.05946695e+05, 6.89257422e+04,\n",
              "        2.90214438e+05, 5.01056344e+05, 4.45751656e+05, 2.30656125e+05,\n",
              "        1.48670844e+05, 4.77314648e+04, 1.35932109e+05, 1.74573094e+05,\n",
              "        6.38038828e+04, 5.68402227e+04, 2.06212406e+05, 1.39713234e+05,\n",
              "        1.12618812e+05, 1.21294016e+05, 1.91494219e+05, 2.79556406e+05,\n",
              "        3.72057781e+05, 7.54761016e+04, 7.56774297e+04, 8.02829375e+04,\n",
              "        9.62667344e+04, 1.04917992e+05, 6.45295547e+04, 4.96428438e+04,\n",
              "        6.17332305e+04, 7.58896953e+04, 5.79788516e+04, 1.15685008e+05,\n",
              "        1.70085750e+05, 4.45173938e+05, 1.45514484e+05, 1.64832719e+05,\n",
              "        4.40106797e+04, 3.35294961e+04, 3.73817188e+04, 1.71875059e+04,\n",
              "        3.74894805e+04, 3.37839297e+04, 2.15295156e+04, 2.76910312e+04,\n",
              "        1.82711797e+04, 1.85955293e+04, 2.42790488e+04, 4.91985039e+04,\n",
              "        9.10339297e+04, 7.54824297e+04, 7.19521641e+04, 4.23543047e+04,\n",
              "        4.07718047e+04, 5.97294883e+04, 7.09754141e+04, 2.66709102e+04,\n",
              "        1.97140469e+04, 2.81375469e+04, 5.29612695e+04, 7.63848516e+04,\n",
              "        5.48277938e+05, 7.30059312e+05, 1.00351938e+06, 1.09486875e+06,\n",
              "        1.41800400e+06, 1.79471762e+06, 1.56462888e+06, 2.81725469e+05,\n",
              "        9.67388125e+04, 7.42384766e+04, 4.96104258e+04, 9.56863750e+04,\n",
              "        2.56387047e+05, 4.11618945e+04, 1.92781250e+04, 4.87717930e+04,\n",
              "        1.02725812e+05, 1.87299906e+05, 1.86752203e+05, 1.81533891e+05,\n",
              "        1.42005625e+05, 1.48669781e+05, 2.82515566e+04, 6.69159062e+04,\n",
              "        9.48638047e+04, 1.12545453e+05, 9.16453594e+04, 1.76688672e+05,\n",
              "        3.24734719e+05, 5.39595312e+05, 2.50557141e+05, 2.47244219e+05,\n",
              "        1.09484805e+05, 1.79951297e+05, 2.72969656e+05, 1.62582734e+05,\n",
              "        4.82372891e+04, 3.08695625e+04, 1.68554172e+05, 3.79428062e+05,\n",
              "        7.17164000e+05, 1.21945112e+06, 1.73474812e+06, 2.80755575e+06,\n",
              "        2.31914575e+06, 1.11605225e+06, 5.06521000e+05, 4.09008555e+04,\n",
              "        4.27563945e+04, 3.70381367e+04, 7.23365078e+04, 1.45233953e+05,\n",
              "        1.40763766e+05, 1.39463453e+05, 1.30904742e+05, 8.71131641e+04,\n",
              "        4.12190195e+04, 1.10476984e+05, 2.74687344e+05, 3.96199031e+05,\n",
              "        2.89637906e+05, 4.24098312e+05, 2.17981141e+05, 7.48546719e+04,\n",
              "        1.37896230e+04, 7.23900000e+04, 3.76234453e+04, 6.94596953e+04,\n",
              "        9.48101641e+04, 1.47079203e+05, 2.05646422e+05, 1.67274172e+05,\n",
              "        1.28948820e+05, 8.87824609e+04, 1.88518262e+04, 6.11858164e+04,\n",
              "        1.02982508e+05, 1.85985766e+05, 2.53071469e+05, 3.46375750e+05,\n",
              "        2.87237406e+05, 1.94464047e+05, 3.11842637e+04, 5.47633438e+04,\n",
              "        1.62490828e+05, 7.57317734e+04, 2.91337438e+05, 5.20401062e+05,\n",
              "        7.02932312e+05, 1.23921175e+06, 1.44485412e+06, 1.30405788e+06,\n",
              "        1.37925688e+06, 1.48659266e+05, 7.08633203e+04, 7.49128672e+04,\n",
              "        6.23608672e+04, 3.30353945e+04, 8.44453047e+04, 1.12336539e+05,\n",
              "        4.26968008e+04, 3.61282031e+05, 6.53722500e+05, 6.50399938e+05,\n",
              "        9.13391438e+05, 1.28258738e+06, 1.24787588e+06, 1.26238562e+06,\n",
              "        2.90209844e+05, 2.54963750e+05, 1.36204219e+05, 9.56169844e+04,\n",
              "        2.69766000e+05, 7.50388562e+05, 8.07655562e+05, 7.20864000e+05,\n",
              "        1.22566162e+06, 1.65462625e+06, 3.11935800e+06, 2.08671112e+06,\n",
              "        9.61330688e+05, 1.79341953e+05, 3.41707906e+05, 1.27770425e+06,\n",
              "        1.81921088e+06, 2.21129600e+06, 2.10105250e+06, 2.24359875e+06,\n",
              "        1.63205862e+06, 4.78068594e+05, 1.40589625e+06, 1.54309000e+06,\n",
              "        1.59185800e+06, 1.05774508e+05, 1.58390453e+05, 6.25473688e+05,\n",
              "        1.08519750e+06, 8.67219562e+05, 1.01275900e+06, 7.35356125e+05,\n",
              "        6.40033625e+05, 4.84807094e+05, 8.38630875e+05, 3.38618325e+06,\n",
              "        7.66517300e+06, 9.95592100e+06, 1.16299130e+07, 1.20231990e+07,\n",
              "        1.18766880e+07, 5.11155200e+06, 8.52851438e+05, 5.26347000e+05,\n",
              "        1.18133600e+06, 1.63540888e+06, 2.12442850e+06, 3.17977475e+06,\n",
              "        7.30053650e+06, 9.56652900e+06, 9.08538900e+06, 8.46571000e+06,\n",
              "        9.46555700e+06, 9.55005100e+06, 1.49552480e+07, 1.52532210e+07,\n",
              "        2.36442020e+07, 3.30269580e+07, 2.58605600e+07, 1.77374180e+07,\n",
              "        2.13035000e+07, 1.23899450e+07, 7.91413450e+06, 1.16720750e+07,\n",
              "        2.80575240e+07, 4.27514920e+07, 3.43621680e+07, 4.05473875e+06,\n",
              "        1.23306200e+06, 1.89955288e+06, 1.32417010e+07, 1.91355940e+07,\n",
              "        2.03951820e+07, 1.88380860e+07, 1.52795910e+07, 1.90641700e+07,\n",
              "        1.98660760e+07, 2.88611850e+06, 2.52219950e+06, 2.04889375e+06,\n",
              "        1.41515375e+06, 2.12472150e+06, 4.80250150e+06, 1.41300780e+07,\n",
              "        1.37889470e+07, 7.03144900e+06, 8.68988700e+06, 1.03552730e+07,\n",
              "        2.71748020e+07, 3.88011920e+07, 3.02218060e+07, 3.14098340e+07,\n",
              "        4.22507160e+07, 3.69053360e+07, 6.12429440e+07, 2.09834280e+07,\n",
              "        2.00719938e+06, 4.10027425e+06, 2.90782200e+06, 7.56364900e+06,\n",
              "        7.74024700e+06, 1.23016530e+07, 7.75280650e+06, 1.31257220e+07,\n",
              "        1.03069930e+07, 1.57300180e+07, 5.46354800e+07, 7.71370320e+07,\n",
              "        1.25933136e+08, 1.00845480e+08, 3.76763880e+07, 1.73794260e+07,\n",
              "        6.51112450e+06, 1.87140788e+06, 4.00208600e+06, 1.26650030e+07,\n",
              "        7.87011050e+06, 9.42697900e+06, 1.33027590e+07, 1.92820340e+07,\n",
              "        3.05089700e+07, 4.48839640e+07, 3.90340800e+07, 2.78698240e+07,\n",
              "        1.72653180e+07, 6.60341950e+06, 2.72702650e+06, 2.99988625e+06,\n",
              "        5.61555050e+06, 1.19348830e+07, 9.13576200e+06, 8.55709500e+06,\n",
              "        1.87202080e+07, 3.19722140e+07, 4.61515440e+07, 4.04932800e+07,\n",
              "        3.45847000e+07, 4.63511450e+06, 5.51938850e+06, 6.71931350e+06,\n",
              "        1.23070320e+07, 1.63665970e+07, 3.32651950e+06, 4.75368050e+06,\n",
              "        1.92906238e+06, 2.27574109e+05, 2.57122925e+06, 3.62568925e+06,\n",
              "        2.13690100e+06, 1.26690088e+06, 2.12996300e+06, 2.98772275e+06,\n",
              "        2.76451575e+06, 5.84367600e+06, 1.01845340e+07, 1.22641310e+07,\n",
              "        6.15819100e+06, 7.42524650e+06, 1.18597130e+07, 2.51913740e+07,\n",
              "        4.99032640e+07, 7.35151200e+07, 1.00148992e+08, 8.84345360e+07,\n",
              "        5.87007400e+07, 3.53546680e+07, 3.03825800e+07, 1.12785260e+07,\n",
              "        5.72353150e+06, 8.18123650e+06, 1.75844940e+07, 3.61580560e+07,\n",
              "        1.40584020e+07, 2.66316825e+06, 4.11173150e+06, 4.15555150e+06,\n",
              "        2.84058575e+06, 6.04296550e+06, 3.41904200e+06, 5.65365450e+06,\n",
              "        4.92937900e+06, 5.83122000e+06, 1.29388340e+07, 2.95976140e+07,\n",
              "        5.54618960e+07, 7.65349840e+07, 9.36084960e+07], dtype=float32),\n",
              " 'rmse': array([  659.7302  ,   438.93652 ,   447.86145 ,   523.04974 ,\n",
              "          577.8965  ,   689.4465  ,   702.9355  ,   643.57745 ,\n",
              "          736.72784 ,   865.8832  ,  1011.94714 ,   948.63135 ,\n",
              "          856.16327 ,   896.26263 ,   660.1485  ,   361.0881  ,\n",
              "          238.79013 ,   218.42647 ,   280.98828 ,   295.36835 ,\n",
              "          148.81642 ,   246.48943 ,   298.81342 ,   363.69913 ,\n",
              "          259.94528 ,   232.19977 ,   172.47237 ,   215.4198  ,\n",
              "          192.72392 ,   285.42227 ,   391.94437 ,   468.7902  ,\n",
              "          395.61874 ,   453.6377  ,   438.7417  ,   389.28687 ,\n",
              "          448.52457 ,   401.70035 ,   328.22485 ,   193.19635 ,\n",
              "          384.28314 ,    87.65609 ,   129.43948 ,   132.13106 ,\n",
              "          180.95404 ,    78.36529 ,   116.227806,   156.51888 ,\n",
              "          196.25659 ,   204.90807 ,   207.54482 ,   212.69522 ,\n",
              "          269.91287 ,   211.6327  ,   321.37595 ,   409.91702 ,\n",
              "          538.3598  ,   553.4281  ,   512.213   ,   473.70602 ,\n",
              "          401.70197 ,   350.5077  ,   320.1158  ,   372.39218 ,\n",
              "          504.99136 ,   488.32803 ,   479.27094 ,   496.72543 ,\n",
              "          216.79402 ,   315.54718 ,   346.51508 ,   540.2885  ,\n",
              "          630.6743  ,   509.49713 ,   404.85275 ,   439.70218 ,\n",
              "          328.4059  ,   399.58487 ,   506.27618 ,   639.05865 ,\n",
              "          761.9549  ,   590.35547 ,   274.6765  ,   233.89008 ,\n",
              "          243.89507 ,   209.88658 ,   248.89668 ,   279.96097 ,\n",
              "          291.37354 ,   496.44922 ,   404.8218  ,   382.69315 ,\n",
              "          315.78064 ,   253.30214 ,   230.82742 ,   378.1457  ,\n",
              "          480.1817  ,   647.5603  ,   789.24524 ,   909.3173  ,\n",
              "          655.31305 ,   425.28897 ,   322.2169  ,   455.59518 ,\n",
              "          595.71796 ,   653.44745 ,   701.1544  ,   784.75653 ,\n",
              "         1146.0228  ,  1097.0709  ,   981.7681  ,   514.7951  ,\n",
              "          292.85013 ,   196.26736 ,   115.26898 ,   372.61542 ,\n",
              "          467.37994 ,   588.45325 ,   695.7247  ,  1466.5822  ,\n",
              "         2088.721   ,  2597.8376  ,  2397.3967  ,  2524.3276  ,\n",
              "         2560.1987  ,  2754.6187  ,  1412.3887  ,   780.86163 ,\n",
              "          430.2293  ,   435.62256 ,   591.096   ,   499.5115  ,\n",
              "          545.43756 ,   381.13458 ,   388.69833 ,   318.77188 ,\n",
              "          409.49268 ,   343.78046 ,   445.69324 ,   493.80106 ,\n",
              "          522.50616 ,   457.01526 ,   267.0301  ,   582.3418  ,\n",
              "          668.01764 ,   421.22772 ,   347.06903 ,   204.23776 ,\n",
              "          306.411   ,   303.40726 ,   274.39133 ,   620.6079  ,\n",
              "          494.41946 ,   647.71173 ,   538.4769  ,   437.37527 ,\n",
              "          173.98695 ,   202.31764 ,   208.33635 ,   199.59845 ,\n",
              "          294.8585  ,   259.3959  ,   217.21823 ,   264.32477 ,\n",
              "          310.41098 ,   324.23083 ,   468.31134 ,   767.9507  ,\n",
              "          654.7471  ,   742.722   ,   951.763   ,   947.0114  ,\n",
              "          982.65607 ,  1027.416   ,   508.7704  ,   385.44858 ,\n",
              "          441.0257  ,   409.6516  ,   436.31607 ,   500.14554 ,\n",
              "          568.4608  ,   636.05005 ,   850.8065  ,  1124.4928  ,\n",
              "         1018.03125 ,   451.7817  ,   462.74738 ,   687.3909  ,\n",
              "          349.95303 ,   346.72107 ,   433.85464 ,   373.89835 ,\n",
              "          542.91504 ,   584.3691  ,   797.24866 ,   740.0418  ,\n",
              "          494.88684 ,   279.35278 ,   325.49457 ,   262.5371  ,\n",
              "          538.7156  ,   707.85333 ,   667.64636 ,   480.26672 ,\n",
              "          385.5786  ,   218.4753  ,   368.6897  ,   417.81943 ,\n",
              "          252.59428 ,   238.4119  ,   454.10617 ,   373.78232 ,\n",
              "          335.58728 ,   348.2729  ,   437.60052 ,   528.7309  ,\n",
              "          609.9654  ,   274.72916 ,   275.0953  ,   283.34247 ,\n",
              "          310.2688  ,   323.91046 ,   254.02669 ,   222.80675 ,\n",
              "          248.46172 ,   275.48083 ,   240.788   ,   340.125   ,\n",
              "          412.41452 ,   667.21356 ,   381.46362 ,   405.99594 ,\n",
              "          209.78723 ,   183.11061 ,   193.34354 ,   131.10112 ,\n",
              "          193.62201 ,   183.80403 ,   146.72939 ,   166.40622 ,\n",
              "          135.17091 ,   136.36543 ,   155.81737 ,   221.80736 ,\n",
              "          301.7183  ,   274.74066 ,   268.239   ,   205.80162 ,\n",
              "          201.9203  ,   244.39618 ,   266.41208 ,   163.3123  ,\n",
              "          140.40671 ,   167.7425  ,   230.13315 ,   276.37808 ,\n",
              "          740.45795 ,   854.43506 ,  1001.7582  ,  1046.3597  ,\n",
              "         1190.7997  ,  1339.6707  ,  1250.8513  ,   530.7782  ,\n",
              "          311.02863 ,   272.46738 ,   222.73396 ,   309.33215 ,\n",
              "          506.3467  ,   202.88393 ,   138.84569 ,   220.84335 ,\n",
              "          320.50867 ,   432.7816  ,   432.14838 ,   426.06793 ,\n",
              "          376.83633 ,   385.5772  ,   168.08199 ,   258.6811  ,\n",
              "          307.9997  ,   335.47797 ,   302.72983 ,   420.34354 ,\n",
              "          569.855   ,   734.5715  ,   500.55682 ,   497.2366  ,\n",
              "          330.88486 ,   424.20667 ,   522.46497 ,   403.21548 ,\n",
              "          219.62988 ,   175.69736 ,   410.5535  ,   615.9773  ,\n",
              "          846.8554  ,  1104.2876  ,  1317.0983  ,  1675.5763  ,\n",
              "         1522.8741  ,  1056.4337  ,   711.70294 ,   202.23958 ,\n",
              "          206.77618 ,   192.45296 ,   268.95447 ,   381.09573 ,\n",
              "          375.18497 ,   373.4481  ,   361.80762 ,   295.14938 ,\n",
              "          203.02466 ,   332.3808  ,   524.1062  ,   629.4434  ,\n",
              "          538.1802  ,   651.22833 ,   466.8845  ,   273.5958  ,\n",
              "          117.42923 ,   269.0539  ,   193.96764 ,   263.5521  ,\n",
              "          307.9126  ,   383.50906 ,   453.48254 ,   408.99167 ,\n",
              "          359.09445 ,   297.96384 ,   137.30194 ,   247.3577  ,\n",
              "          320.90884 ,   431.26062 ,   503.06207 ,   588.53687 ,\n",
              "          535.94525 ,   440.9808  ,   176.59067 ,   234.01569 ,\n",
              "          403.1015  ,   275.19406 ,   539.7568  ,   721.3883  ,\n",
              "          838.4106  ,  1113.1989  ,  1202.0208  ,  1141.9536  ,\n",
              "         1174.4176  ,   385.56357 ,   266.20163 ,   273.70212 ,\n",
              "          249.72159 ,   181.75642 ,   290.59476 ,   335.16644 ,\n",
              "          206.63203 ,   601.0674  ,   808.53107 ,   806.47375 ,\n",
              "          955.7151  ,  1132.5138  ,  1117.0836  ,  1123.5594  ,\n",
              "          538.7113  ,   504.93933 ,   369.05853 ,   309.21997 ,\n",
              "          519.39    ,   866.24976 ,   898.6966  ,   849.03705 ,\n",
              "         1107.096   ,  1286.3228  ,  1766.1705  ,  1444.5453  ,\n",
              "          980.4747  ,   423.48782 ,   584.55786 ,  1130.3558  ,\n",
              "         1348.7812  ,  1487.0426  ,  1449.5007  ,  1497.8646  ,\n",
              "         1277.5205  ,   691.42505 ,  1185.7048  ,  1242.2117  ,\n",
              "         1261.6886  ,   325.22992 ,   397.983   ,   790.86896 ,\n",
              "         1041.7281  ,   931.2462  ,  1006.35925 ,   857.5291  ,\n",
              "          800.021   ,   696.2809  ,   915.7679  ,  1840.1584  ,\n",
              "         2768.6047  ,  3155.3005  ,  3410.2659  ,  3467.4485  ,\n",
              "         3446.257   ,  2260.874   ,   923.4996  ,   725.49774 ,\n",
              "         1086.8928  ,  1278.831   ,  1457.5419  ,  1783.1923  ,\n",
              "         2701.9507  ,  3092.9805  ,  3014.1978  ,  2909.5894  ,\n",
              "         3076.6147  ,  3090.3154  ,  3867.2014  ,  3905.537   ,\n",
              "         4862.5303  ,  5746.9087  ,  5085.328   ,  4211.5815  ,\n",
              "         4615.5713  ,  3519.935   ,  2813.2073  ,  3416.4417  ,\n",
              "         5296.935   ,  6538.4624  ,  5861.925   ,  2013.6383  ,\n",
              "         1110.4332  ,  1378.2427  ,  3638.9146  ,  4374.4243  ,\n",
              "         4516.1025  ,  4340.2866  ,  3908.9116  ,  4366.2534  ,\n",
              "         4457.1377  ,  1698.8579  ,  1588.1433  ,  1431.3958  ,\n",
              "         1189.6023  ,  1457.6426  ,  2191.461   ,  3758.9995  ,\n",
              "         3713.3472  ,  2651.688   ,  2947.8616  ,  3217.9612  ,\n",
              "         5212.946   ,  6229.06    ,  5497.4365  ,  5604.4473  ,\n",
              "         6500.055   ,  6074.9766  ,  7825.7866  ,  4580.767   ,\n",
              "         1416.7566  ,  2024.9135  ,  1705.2336  ,  2750.2087  ,\n",
              "         2782.1296  ,  3507.371   ,  2784.3862  ,  3622.9438  ,\n",
              "         3210.4507  ,  3966.1084  ,  7391.5815  ,  8782.768   ,\n",
              "        11221.993   , 10042.186   ,  6138.1094  ,  4168.864   ,\n",
              "         2551.6904  ,  1367.9941  ,  2000.5215  ,  3558.7922  ,\n",
              "         2805.372   ,  3070.3386  ,  3647.2947  ,  4391.1313  ,\n",
              "         5523.492   ,  6699.55    ,  6247.726   ,  5279.1875  ,\n",
              "         4155.156   ,  2569.712   ,  1651.3711  ,  1732.018   ,\n",
              "         2369.715   ,  3454.69    ,  3022.5422  ,  2925.2512  ,\n",
              "         4326.6855  ,  5654.398   ,  6793.493   ,  6363.433   ,\n",
              "         5880.8755  ,  2152.9316  ,  2349.338   ,  2592.1638  ,\n",
              "         3508.138   ,  4045.5654  ,  1823.875   ,  2180.2937  ,\n",
              "         1388.907   ,   477.0473  ,  1603.5052  ,  1904.1244  ,\n",
              "         1461.8143  ,  1125.5668  ,  1459.4393  ,  1728.5029  ,\n",
              "         1662.6832  ,  2417.3696  ,  3191.3215  ,  3502.0178  ,\n",
              "         2481.5703  ,  2724.9307  ,  3443.7935  ,  5019.101   ,\n",
              "         7064.224   ,  8574.096   , 10007.446   ,  9403.964   ,\n",
              "         7661.641   ,  5945.979   ,  5512.0396  ,  3358.3518  ,\n",
              "         2392.3901  ,  2860.2861  ,  4193.3867  ,  6013.1567  ,\n",
              "         3749.4534  ,  1631.9216  ,  2027.7405  ,  2038.5172  ,\n",
              "         1685.4036  ,  2458.2444  ,  1849.0652  ,  2377.7415  ,\n",
              "         2220.2205  ,  2414.792   ,  3597.059   ,  5440.369   ,\n",
              "         7447.2744  ,  8748.428   ,  9675.148   ], dtype=float32)}"
            ]
          },
          "metadata": {
            "tags": []
          },
          "execution_count": 138
        }
      ]
    },
    {
      "cell_type": "code",
      "metadata": {
        "id": "kVVZKzEVEK5u"
      },
      "source": [
        "## Evaluate function for larger HORIZON\n",
        "def evaluate_preds(y_true, y_pred):\n",
        "\n",
        "  y_true = tf.cast(y_true, dtype=tf.float32)\n",
        "  y_pred = tf.cast(y_pred, dtype=tf.float32)\n",
        "\n",
        "  mae = tf.keras.metrics.mean_absolute_error(y_true, y_pred)\n",
        "\n",
        "  mse = tf.keras.metrics.mean_squared_error(y_true, y_pred)\n",
        "\n",
        "  rmse = tf.sqrt(mse)\n",
        "\n",
        "  mape = tf.keras.metrics.mean_absolute_percentage_error(y_true, y_pred)\n",
        "\n",
        "  mase = mean_absolute_scaled_error(y_true, y_pred)\n",
        "\n",
        "  ## Account for different size matrix of linger\n",
        "\n",
        "  if mae.ndim > 0:\n",
        "    mae = tf.reduce_mean(mae)\n",
        "    mse = tf.reduce_mean(mse)\n",
        "    rmse = tf.reduce_mean(rmse)\n",
        "    mape = tf.reduce_mean(mape)\n",
        "    mase = tf.reduce_mean(mase) \n",
        "\n",
        "  return {\"mae\": mae.numpy(),\n",
        "          \"mse\":mse.numpy(),\n",
        "          \"rmse\":rmse.numpy(),\n",
        "          \"mape\":mape.numpy(),\n",
        "          \"mase\":mase.numpy()}"
      ],
      "execution_count": 142,
      "outputs": []
    },
    {
      "cell_type": "code",
      "metadata": {
        "colab": {
          "base_uri": "https://localhost:8080/"
        },
        "id": "MYwhuZ8SGb7q",
        "outputId": "18b65ef7-964e-48ee-9458-70487fae5f9a"
      },
      "source": [
        "model_3 = tf.keras.models.load_model(\"/content/model_experiment/model_3_dense\")\n",
        "\n",
        "model_3_preds = make_preds(model_3, test_windows)\n",
        "\n",
        "model_3_results = evaluate_preds(tf.squeeze(test_labels), tf.squeeze(model_3_preds))\n",
        "\n",
        "model_3_results"
      ],
      "execution_count": 143,
      "outputs": [
        {
          "output_type": "execute_result",
          "data": {
            "text/plain": [
              "{'mae': 1236.0969,\n",
              " 'mape': 5.609989,\n",
              " 'mase': 2.199565,\n",
              " 'mse': 5486077.0,\n",
              " 'rmse': 1422.2489}"
            ]
          },
          "metadata": {
            "tags": []
          },
          "execution_count": 143
        }
      ]
    },
    {
      "cell_type": "code",
      "metadata": {
        "colab": {
          "base_uri": "https://localhost:8080/"
        },
        "id": "ZPqL1S0fGejd",
        "outputId": "c7eab3d7-0107-4195-cbb8-dc3013fc1d95"
      },
      "source": [
        "model_2_results"
      ],
      "execution_count": 144,
      "outputs": [
        {
          "output_type": "execute_result",
          "data": {
            "text/plain": [
              "{'mae': 608.848,\n",
              " 'mape': 2.7680664,\n",
              " 'mase': 1.0642722,\n",
              " 'mse': 1284314.2,\n",
              " 'rmse': 1133.2759}"
            ]
          },
          "metadata": {
            "tags": []
          },
          "execution_count": 144
        }
      ]
    },
    {
      "cell_type": "code",
      "metadata": {
        "colab": {
          "base_uri": "https://localhost:8080/",
          "height": 442
        },
        "id": "EMrQkrFRGjfo",
        "outputId": "c0292873-0f4b-448d-a129-0239f8962e7c"
      },
      "source": [
        "\n",
        "offset = 300\n",
        "plt.figure(figsize=(10, 7))\n",
        "# Account for the test_window offset and index into test_labels to ensure correct plotting\n",
        "plot_time_series(timesteps=X_test[-len(test_windows):], values=test_labels[:, 0], start=offset, label=\"Test_data\")\n",
        "plot_time_series(timesteps=X_test[-len(test_windows):], values=tf.reduce_mean(model_3_preds, axis=1), format=\"-\" , start=offset,  label=\"model_3_preds\")"
      ],
      "execution_count": 152,
      "outputs": [
        {
          "output_type": "display_data",
          "data": {
            "image/png": "[encoded data removed]",
            "text/plain": [
              "<Figure size 720x504 with 1 Axes>"
            ]
          },
          "metadata": {
            "tags": [],
            "needs_background": "light"
          }
        }
      ]
    },
    {
      "cell_type": "markdown",
      "metadata": {
        "id": "C00ThgcfHEXk"
      },
      "source": [
        "### Model Comparisons "
      ]
    },
    {
      "cell_type": "code",
      "metadata": {
        "colab": {
          "base_uri": "https://localhost:8080/",
          "height": 457
        },
        "id": "5WrP9kBMcPGv",
        "outputId": "b1e41693-915d-4cc3-a652-5db43480ae25"
      },
      "source": [
        "pd.DataFrame({\"naive\":naive_results[\"mae\"],\n",
        "              \"horizon_1_window_7\":model_1_results[\"mae\"],\n",
        "              \"horizon_1_window_30\":model_2_results[\"mae\"],\n",
        "              \"horizon_7_window_30\":model_3_results[\"mae\"]}, index = [\"mae\"]).plot(figsize=(10, 7) , kind = \"bar\")"
      ],
      "execution_count": 156,
      "outputs": [
        {
          "output_type": "execute_result",
          "data": {
            "text/plain": [
              "<matplotlib.axes._subplots.AxesSubplot at 0x7f073ae73c90>"
            ]
          },
          "metadata": {
            "tags": []
          },
          "execution_count": 156
        },
        {
          "output_type": "display_data",
          "data": {
            "image/png": "[encoded data removed]",
            "text/plain": [
              "<Figure size 720x504 with 1 Axes>"
            ]
          },
          "metadata": {
            "tags": [],
            "needs_background": "light"
          }
        }
      ]
    },
    {
      "cell_type": "markdown",
      "metadata": {
        "id": "IEU4eXspclPQ"
      },
      "source": [
        "## Model 4 -  Conv 1D"
      ]
    },
    {
      "cell_type": "code",
      "metadata": {
        "colab": {
          "base_uri": "https://localhost:8080/"
        },
        "id": "xejDq7YIeh9D",
        "outputId": "f08f86a3-cd5c-4802-fdb1-955ade8f1b46"
      },
      "source": [
        "HORIZON = 1\n",
        "WINDOW_SIZE = 7 \n",
        "\n",
        "full_windows, full_labels = make_windows(btc_price, window_size=WINDOW_SIZE, horizon=HORIZON)\n",
        "\n",
        "train_windows, test_windows, train_labels, test_labels = make_train_test_splits(full_windows, full_labels)\n",
        "\n",
        "len(train_windows), len(test_windows),  len(train_labels), len(test_labels)\n"
      ],
      "execution_count": 157,
      "outputs": [
        {
          "output_type": "execute_result",
          "data": {
            "text/plain": [
              "(2224, 556, 2224, 556)"
            ]
          },
          "metadata": {
            "tags": []
          },
          "execution_count": 157
        }
      ]
    },
    {
      "cell_type": "code",
      "metadata": {
        "colab": {
          "base_uri": "https://localhost:8080/"
        },
        "id": "B3jj2RAPfvms",
        "outputId": "5af2011d-39e8-44a5-9da3-685c47aa6839"
      },
      "source": [
        "train_windows[0].shape"
      ],
      "execution_count": 159,
      "outputs": [
        {
          "output_type": "execute_result",
          "data": {
            "text/plain": [
              "(7,)"
            ]
          },
          "metadata": {
            "tags": []
          },
          "execution_count": 159
        }
      ]
    },
    {
      "cell_type": "code",
      "metadata": {
        "colab": {
          "base_uri": "https://localhost:8080/"
        },
        "id": "QRi45F84gJe9",
        "outputId": "1b0a359e-50ce-424b-d8a9-c4c395100955"
      },
      "source": [
        "x = tf.constant(train_windows[0])\n",
        "\n",
        "expand_dims_layer = layers.Lambda( lambda x : tf.expand_dims(x, axis=1)) ## Add an extra dimension\n",
        "\n",
        "print(x.shape ,expand_dims_layer(x).shape )"
      ],
      "execution_count": 163,
      "outputs": [
        {
          "output_type": "stream",
          "text": [
            "(7,) (7, 1)\n"
          ],
          "name": "stdout"
        }
      ]
    },
    {
      "cell_type": "code",
      "metadata": {
        "colab": {
          "base_uri": "https://localhost:8080/"
        },
        "id": "ooAmQx8qhKqj",
        "outputId": "090e3d8d-dc88-40d3-ca36-02d29454a069"
      },
      "source": [
        "x"
      ],
      "execution_count": 165,
      "outputs": [
        {
          "output_type": "execute_result",
          "data": {
            "text/plain": [
              "<tf.Tensor: shape=(7,), dtype=float64, numpy=\n",
              "array([123.65499, 125.455  , 108.58483, 118.67466, 121.33866, 120.65533,\n",
              "       121.795  ])>"
            ]
          },
          "metadata": {
            "tags": []
          },
          "execution_count": 165
        }
      ]
    },
    {
      "cell_type": "code",
      "metadata": {
        "colab": {
          "base_uri": "https://localhost:8080/"
        },
        "id": "XKA-eWIRhIpD",
        "outputId": "de811264-dc1c-4774-ae33-0f231f51248e"
      },
      "source": [
        "expand_dims_layer(x)"
      ],
      "execution_count": 164,
      "outputs": [
        {
          "output_type": "execute_result",
          "data": {
            "text/plain": [
              "<tf.Tensor: shape=(7, 1), dtype=float32, numpy=\n",
              "array([[123.65499],\n",
              "       [125.455  ],\n",
              "       [108.58483],\n",
              "       [118.67466],\n",
              "       [121.33866],\n",
              "       [120.65533],\n",
              "       [121.795  ]], dtype=float32)>"
            ]
          },
          "metadata": {
            "tags": []
          },
          "execution_count": 164
        }
      ]
    },
    {
      "cell_type": "code",
      "metadata": {
        "colab": {
          "base_uri": "https://localhost:8080/"
        },
        "id": "oIPyPAeUe-QP",
        "outputId": "2bd343f2-4a0e-4243-a2bb-9ac898297c22"
      },
      "source": [
        "tf.random.set_seed(42)\n",
        "\n",
        "model_4 = tf.keras.Sequential([\n",
        "  layers.Lambda(lambda x: tf.expand_dims(x , axis=1)),                                                             \n",
        "  layers.Conv1D(filters=128, kernel_size=7, strides=1, padding=\"causal\", activation=\"relu\"),\n",
        "  layers.Dense(HORIZON)\n",
        "], name=\"model_4_conv1D\")\n",
        "\n",
        "\n",
        "model_4.compile(loss=\"MAE\",\n",
        "                optimizer=\"Adam\")\n",
        "\n",
        "model_4.fit(train_windows,\n",
        "            train_labels,\n",
        "            epochs=100,\n",
        "            batch_size=128,\n",
        "            verbose=0,\n",
        "            validation_data=(test_windows, test_labels),\n",
        "            callbacks=[create_model_checkpoint(model_name=model_4.name)])"
      ],
      "execution_count": 169,
      "outputs": [
        {
          "output_type": "stream",
          "text": [
            "INFO:tensorflow:Assets written to: model_experiment/model_4_conv1D/assets\n",
            "INFO:tensorflow:Assets written to: model_experiment/model_4_conv1D/assets\n",
            "INFO:tensorflow:Assets written to: model_experiment/model_4_conv1D/assets\n",
            "INFO:tensorflow:Assets written to: model_experiment/model_4_conv1D/assets\n",
            "INFO:tensorflow:Assets written to: model_experiment/model_4_conv1D/assets\n",
            "INFO:tensorflow:Assets written to: model_experiment/model_4_conv1D/assets\n",
            "INFO:tensorflow:Assets written to: model_experiment/model_4_conv1D/assets\n",
            "INFO:tensorflow:Assets written to: model_experiment/model_4_conv1D/assets\n",
            "INFO:tensorflow:Assets written to: model_experiment/model_4_conv1D/assets\n",
            "INFO:tensorflow:Assets written to: model_experiment/model_4_conv1D/assets\n",
            "INFO:tensorflow:Assets written to: model_experiment/model_4_conv1D/assets\n",
            "INFO:tensorflow:Assets written to: model_experiment/model_4_conv1D/assets\n",
            "INFO:tensorflow:Assets written to: model_experiment/model_4_conv1D/assets\n",
            "INFO:tensorflow:Assets written to: model_experiment/model_4_conv1D/assets\n",
            "INFO:tensorflow:Assets written to: model_experiment/model_4_conv1D/assets\n",
            "INFO:tensorflow:Assets written to: model_experiment/model_4_conv1D/assets\n",
            "INFO:tensorflow:Assets written to: model_experiment/model_4_conv1D/assets\n",
            "INFO:tensorflow:Assets written to: model_experiment/model_4_conv1D/assets\n",
            "INFO:tensorflow:Assets written to: model_experiment/model_4_conv1D/assets\n",
            "INFO:tensorflow:Assets written to: model_experiment/model_4_conv1D/assets\n",
            "INFO:tensorflow:Assets written to: model_experiment/model_4_conv1D/assets\n",
            "INFO:tensorflow:Assets written to: model_experiment/model_4_conv1D/assets\n",
            "INFO:tensorflow:Assets written to: model_experiment/model_4_conv1D/assets\n",
            "INFO:tensorflow:Assets written to: model_experiment/model_4_conv1D/assets\n",
            "INFO:tensorflow:Assets written to: model_experiment/model_4_conv1D/assets\n",
            "INFO:tensorflow:Assets written to: model_experiment/model_4_conv1D/assets\n",
            "INFO:tensorflow:Assets written to: model_experiment/model_4_conv1D/assets\n",
            "INFO:tensorflow:Assets written to: model_experiment/model_4_conv1D/assets\n",
            "INFO:tensorflow:Assets written to: model_experiment/model_4_conv1D/assets\n",
            "INFO:tensorflow:Assets written to: model_experiment/model_4_conv1D/assets\n",
            "INFO:tensorflow:Assets written to: model_experiment/model_4_conv1D/assets\n",
            "INFO:tensorflow:Assets written to: model_experiment/model_4_conv1D/assets\n",
            "INFO:tensorflow:Assets written to: model_experiment/model_4_conv1D/assets\n",
            "INFO:tensorflow:Assets written to: model_experiment/model_4_conv1D/assets\n",
            "INFO:tensorflow:Assets written to: model_experiment/model_4_conv1D/assets\n",
            "INFO:tensorflow:Assets written to: model_experiment/model_4_conv1D/assets\n",
            "INFO:tensorflow:Assets written to: model_experiment/model_4_conv1D/assets\n",
            "INFO:tensorflow:Assets written to: model_experiment/model_4_conv1D/assets\n",
            "INFO:tensorflow:Assets written to: model_experiment/model_4_conv1D/assets\n",
            "INFO:tensorflow:Assets written to: model_experiment/model_4_conv1D/assets\n",
            "INFO:tensorflow:Assets written to: model_experiment/model_4_conv1D/assets\n",
            "INFO:tensorflow:Assets written to: model_experiment/model_4_conv1D/assets\n",
            "INFO:tensorflow:Assets written to: model_experiment/model_4_conv1D/assets\n",
            "INFO:tensorflow:Assets written to: model_experiment/model_4_conv1D/assets\n",
            "INFO:tensorflow:Assets written to: model_experiment/model_4_conv1D/assets\n",
            "INFO:tensorflow:Assets written to: model_experiment/model_4_conv1D/assets\n",
            "INFO:tensorflow:Assets written to: model_experiment/model_4_conv1D/assets\n",
            "INFO:tensorflow:Assets written to: model_experiment/model_4_conv1D/assets\n"
          ],
          "name": "stdout"
        },
        {
          "output_type": "execute_result",
          "data": {
            "text/plain": [
              "<tensorflow.python.keras.callbacks.History at 0x7f073b150790>"
            ]
          },
          "metadata": {
            "tags": []
          },
          "execution_count": 169
        }
      ]
    },
    {
      "cell_type": "code",
      "metadata": {
        "colab": {
          "base_uri": "https://localhost:8080/"
        },
        "id": "eswkzSkjjI7K",
        "outputId": "cfa711fc-64e8-4e6d-f5ab-a6486da84ed8"
      },
      "source": [
        "model_4 = tf.keras.models.load_model(\"/content/model_experiment/model_4_conv1D\")\n",
        "\n",
        "model_4_preds = make_preds(model_4, test_windows)\n",
        "\n",
        "model_4_results = evaluate_preds(tf.squeeze(test_labels), tf.squeeze(model_4_preds))\n",
        "\n",
        "model_4_results"
      ],
      "execution_count": 170,
      "outputs": [
        {
          "output_type": "execute_result",
          "data": {
            "text/plain": [
              "{'mae': 570.3994,\n",
              " 'mape': 2.5455723,\n",
              " 'mase': 1.0020338,\n",
              " 'mse': 1182763.1,\n",
              " 'rmse': 1087.5492}"
            ]
          },
          "metadata": {
            "tags": []
          },
          "execution_count": 170
        }
      ]
    },
    {
      "cell_type": "markdown",
      "metadata": {
        "id": "Cqskri2FjjB2"
      },
      "source": [
        "## Model 5 - RNN"
      ]
    },
    {
      "cell_type": "code",
      "metadata": {
        "colab": {
          "base_uri": "https://localhost:8080/"
        },
        "id": "cLMxAWFKkOVC",
        "outputId": "a954af03-a9d9-4846-d5e2-6c2ca6b4d692"
      },
      "source": [
        "tf.random.set_seed(42)\n",
        "\n",
        "inputs = layers.Input(shape=(WINDOW_SIZE))\n",
        "\n",
        "x = layers.Lambda(lambda x: tf.expand_dims(x, axis=1))(inputs)\n",
        "# x = layers.LSTM(128, return_sequences=True)(x)\n",
        "x = layers.LSTM(128, activation=\"relu\")(x)\n",
        "# x = layers.Dense(32, activation=\"relu\")(x)\n",
        "outputs = layers.Dense(HORIZON)(x)\n",
        "\n",
        "model_5 = tf.keras.Model(inputs, outputs, name=\"model_5_LSTM\")\n",
        "\n",
        "# compile\n",
        "model_5.compile(loss=\"mae\",\n",
        "                optimizer=tf.keras.optimizers.Adam())\n",
        "\n",
        "# Fit\n",
        "model_5.fit(train_windows,\n",
        "            train_labels,\n",
        "            epochs=100,\n",
        "            verbose=1,\n",
        "            batch_size=128,\n",
        "            validation_data=(test_windows, test_labels),\n",
        "            callbacks=[create_model_checkpoint(model_name=model_5.name)])"
      ],
      "execution_count": 178,
      "outputs": [
        {
          "output_type": "stream",
          "text": [
            "Epoch 1/100\n",
            "18/18 [==============================] - 1s 18ms/step - loss: 2323.6123 - val_loss: 9224.3486\n",
            "INFO:tensorflow:Assets written to: model_experiment/model_5_LSTM/assets\n"
          ],
          "name": "stdout"
        },
        {
          "output_type": "stream",
          "text": [
            "INFO:tensorflow:Assets written to: model_experiment/model_5_LSTM/assets\n"
          ],
          "name": "stderr"
        },
        {
          "output_type": "stream",
          "text": [
            "Epoch 2/100\n",
            "18/18 [==============================] - 0s 7ms/step - loss: 695.4955 - val_loss: 1485.8894\n",
            "INFO:tensorflow:Assets written to: model_experiment/model_5_LSTM/assets\n"
          ],
          "name": "stdout"
        },
        {
          "output_type": "stream",
          "text": [
            "INFO:tensorflow:Assets written to: model_experiment/model_5_LSTM/assets\n"
          ],
          "name": "stderr"
        },
        {
          "output_type": "stream",
          "text": [
            "Epoch 3/100\n",
            "18/18 [==============================] - 0s 6ms/step - loss: 237.2946 - val_loss: 1298.9434\n",
            "INFO:tensorflow:Assets written to: model_experiment/model_5_LSTM/assets\n"
          ],
          "name": "stdout"
        },
        {
          "output_type": "stream",
          "text": [
            "INFO:tensorflow:Assets written to: model_experiment/model_5_LSTM/assets\n"
          ],
          "name": "stderr"
        },
        {
          "output_type": "stream",
          "text": [
            "Epoch 4/100\n",
            "18/18 [==============================] - 0s 6ms/step - loss: 181.9178 - val_loss: 966.6407\n",
            "INFO:tensorflow:Assets written to: model_experiment/model_5_LSTM/assets\n"
          ],
          "name": "stdout"
        },
        {
          "output_type": "stream",
          "text": [
            "INFO:tensorflow:Assets written to: model_experiment/model_5_LSTM/assets\n"
          ],
          "name": "stderr"
        },
        {
          "output_type": "stream",
          "text": [
            "Epoch 5/100\n",
            "18/18 [==============================] - 0s 6ms/step - loss: 173.4015 - val_loss: 970.9384\n",
            "Epoch 6/100\n",
            "18/18 [==============================] - 0s 6ms/step - loss: 175.2140 - val_loss: 970.0180\n",
            "Epoch 7/100\n",
            "18/18 [==============================] - 0s 6ms/step - loss: 174.1026 - val_loss: 987.8470\n",
            "Epoch 8/100\n",
            "18/18 [==============================] - 0s 6ms/step - loss: 170.8493 - val_loss: 990.6226\n",
            "Epoch 9/100\n",
            "18/18 [==============================] - 0s 6ms/step - loss: 167.5654 - val_loss: 960.4821\n",
            "INFO:tensorflow:Assets written to: model_experiment/model_5_LSTM/assets\n"
          ],
          "name": "stdout"
        },
        {
          "output_type": "stream",
          "text": [
            "INFO:tensorflow:Assets written to: model_experiment/model_5_LSTM/assets\n"
          ],
          "name": "stderr"
        },
        {
          "output_type": "stream",
          "text": [
            "Epoch 10/100\n",
            "18/18 [==============================] - 0s 6ms/step - loss: 166.3557 - val_loss: 938.6033\n",
            "INFO:tensorflow:Assets written to: model_experiment/model_5_LSTM/assets\n"
          ],
          "name": "stdout"
        },
        {
          "output_type": "stream",
          "text": [
            "INFO:tensorflow:Assets written to: model_experiment/model_5_LSTM/assets\n"
          ],
          "name": "stderr"
        },
        {
          "output_type": "stream",
          "text": [
            "Epoch 11/100\n",
            "18/18 [==============================] - 0s 6ms/step - loss: 165.4343 - val_loss: 909.0934\n",
            "INFO:tensorflow:Assets written to: model_experiment/model_5_LSTM/assets\n"
          ],
          "name": "stdout"
        },
        {
          "output_type": "stream",
          "text": [
            "INFO:tensorflow:Assets written to: model_experiment/model_5_LSTM/assets\n"
          ],
          "name": "stderr"
        },
        {
          "output_type": "stream",
          "text": [
            "Epoch 12/100\n",
            "18/18 [==============================] - 0s 6ms/step - loss: 169.9043 - val_loss: 891.2042\n",
            "INFO:tensorflow:Assets written to: model_experiment/model_5_LSTM/assets\n"
          ],
          "name": "stdout"
        },
        {
          "output_type": "stream",
          "text": [
            "INFO:tensorflow:Assets written to: model_experiment/model_5_LSTM/assets\n"
          ],
          "name": "stderr"
        },
        {
          "output_type": "stream",
          "text": [
            "Epoch 13/100\n",
            "18/18 [==============================] - 0s 6ms/step - loss: 160.3429 - val_loss: 902.9954\n",
            "Epoch 14/100\n",
            "18/18 [==============================] - 0s 6ms/step - loss: 157.8054 - val_loss: 936.6959\n",
            "Epoch 15/100\n",
            "18/18 [==============================] - 0s 6ms/step - loss: 157.2289 - val_loss: 877.4812\n",
            "INFO:tensorflow:Assets written to: model_experiment/model_5_LSTM/assets\n"
          ],
          "name": "stdout"
        },
        {
          "output_type": "stream",
          "text": [
            "INFO:tensorflow:Assets written to: model_experiment/model_5_LSTM/assets\n"
          ],
          "name": "stderr"
        },
        {
          "output_type": "stream",
          "text": [
            "Epoch 16/100\n",
            "18/18 [==============================] - 0s 7ms/step - loss: 150.6424 - val_loss: 945.9966\n",
            "Epoch 17/100\n",
            "18/18 [==============================] - 0s 7ms/step - loss: 160.4944 - val_loss: 931.6437\n",
            "Epoch 18/100\n",
            "18/18 [==============================] - 0s 6ms/step - loss: 155.1276 - val_loss: 887.6797\n",
            "Epoch 19/100\n",
            "18/18 [==============================] - 0s 6ms/step - loss: 152.2447 - val_loss: 899.8354\n",
            "Epoch 20/100\n",
            "18/18 [==============================] - 0s 6ms/step - loss: 152.9743 - val_loss: 847.8790\n",
            "INFO:tensorflow:Assets written to: model_experiment/model_5_LSTM/assets\n"
          ],
          "name": "stdout"
        },
        {
          "output_type": "stream",
          "text": [
            "INFO:tensorflow:Assets written to: model_experiment/model_5_LSTM/assets\n"
          ],
          "name": "stderr"
        },
        {
          "output_type": "stream",
          "text": [
            "Epoch 21/100\n",
            "18/18 [==============================] - 0s 6ms/step - loss: 148.9980 - val_loss: 837.7521\n",
            "INFO:tensorflow:Assets written to: model_experiment/model_5_LSTM/assets\n"
          ],
          "name": "stdout"
        },
        {
          "output_type": "stream",
          "text": [
            "INFO:tensorflow:Assets written to: model_experiment/model_5_LSTM/assets\n"
          ],
          "name": "stderr"
        },
        {
          "output_type": "stream",
          "text": [
            "Epoch 22/100\n",
            "18/18 [==============================] - 0s 6ms/step - loss: 147.1552 - val_loss: 825.2262\n",
            "INFO:tensorflow:Assets written to: model_experiment/model_5_LSTM/assets\n"
          ],
          "name": "stdout"
        },
        {
          "output_type": "stream",
          "text": [
            "INFO:tensorflow:Assets written to: model_experiment/model_5_LSTM/assets\n"
          ],
          "name": "stderr"
        },
        {
          "output_type": "stream",
          "text": [
            "Epoch 23/100\n",
            "18/18 [==============================] - 0s 6ms/step - loss: 146.3152 - val_loss: 869.3912\n",
            "Epoch 24/100\n",
            "18/18 [==============================] - 0s 6ms/step - loss: 143.7824 - val_loss: 821.0106\n",
            "INFO:tensorflow:Assets written to: model_experiment/model_5_LSTM/assets\n"
          ],
          "name": "stdout"
        },
        {
          "output_type": "stream",
          "text": [
            "INFO:tensorflow:Assets written to: model_experiment/model_5_LSTM/assets\n"
          ],
          "name": "stderr"
        },
        {
          "output_type": "stream",
          "text": [
            "Epoch 25/100\n",
            "18/18 [==============================] - 0s 7ms/step - loss: 141.6334 - val_loss: 799.4424\n",
            "INFO:tensorflow:Assets written to: model_experiment/model_5_LSTM/assets\n"
          ],
          "name": "stdout"
        },
        {
          "output_type": "stream",
          "text": [
            "INFO:tensorflow:Assets written to: model_experiment/model_5_LSTM/assets\n"
          ],
          "name": "stderr"
        },
        {
          "output_type": "stream",
          "text": [
            "Epoch 26/100\n",
            "18/18 [==============================] - 0s 6ms/step - loss: 140.8163 - val_loss: 781.7365\n",
            "INFO:tensorflow:Assets written to: model_experiment/model_5_LSTM/assets\n"
          ],
          "name": "stdout"
        },
        {
          "output_type": "stream",
          "text": [
            "INFO:tensorflow:Assets written to: model_experiment/model_5_LSTM/assets\n"
          ],
          "name": "stderr"
        },
        {
          "output_type": "stream",
          "text": [
            "Epoch 27/100\n",
            "18/18 [==============================] - 0s 6ms/step - loss: 139.5624 - val_loss: 780.1439\n",
            "INFO:tensorflow:Assets written to: model_experiment/model_5_LSTM/assets\n"
          ],
          "name": "stdout"
        },
        {
          "output_type": "stream",
          "text": [
            "INFO:tensorflow:Assets written to: model_experiment/model_5_LSTM/assets\n"
          ],
          "name": "stderr"
        },
        {
          "output_type": "stream",
          "text": [
            "Epoch 28/100\n",
            "18/18 [==============================] - 0s 7ms/step - loss: 137.2788 - val_loss: 758.0953\n",
            "INFO:tensorflow:Assets written to: model_experiment/model_5_LSTM/assets\n"
          ],
          "name": "stdout"
        },
        {
          "output_type": "stream",
          "text": [
            "INFO:tensorflow:Assets written to: model_experiment/model_5_LSTM/assets\n"
          ],
          "name": "stderr"
        },
        {
          "output_type": "stream",
          "text": [
            "Epoch 29/100\n",
            "18/18 [==============================] - 0s 7ms/step - loss: 136.6100 - val_loss: 762.9670\n",
            "Epoch 30/100\n",
            "18/18 [==============================] - 0s 6ms/step - loss: 138.6958 - val_loss: 796.5841\n",
            "Epoch 31/100\n",
            "18/18 [==============================] - 0s 6ms/step - loss: 134.5263 - val_loss: 737.2131\n",
            "INFO:tensorflow:Assets written to: model_experiment/model_5_LSTM/assets\n"
          ],
          "name": "stdout"
        },
        {
          "output_type": "stream",
          "text": [
            "INFO:tensorflow:Assets written to: model_experiment/model_5_LSTM/assets\n"
          ],
          "name": "stderr"
        },
        {
          "output_type": "stream",
          "text": [
            "Epoch 32/100\n",
            "18/18 [==============================] - 0s 6ms/step - loss: 130.9132 - val_loss: 743.4056\n",
            "Epoch 33/100\n",
            "18/18 [==============================] - 0s 6ms/step - loss: 130.8254 - val_loss: 732.7270\n",
            "INFO:tensorflow:Assets written to: model_experiment/model_5_LSTM/assets\n"
          ],
          "name": "stdout"
        },
        {
          "output_type": "stream",
          "text": [
            "INFO:tensorflow:Assets written to: model_experiment/model_5_LSTM/assets\n"
          ],
          "name": "stderr"
        },
        {
          "output_type": "stream",
          "text": [
            "Epoch 34/100\n",
            "18/18 [==============================] - 0s 6ms/step - loss: 130.0880 - val_loss: 713.3463\n",
            "INFO:tensorflow:Assets written to: model_experiment/model_5_LSTM/assets\n"
          ],
          "name": "stdout"
        },
        {
          "output_type": "stream",
          "text": [
            "INFO:tensorflow:Assets written to: model_experiment/model_5_LSTM/assets\n"
          ],
          "name": "stderr"
        },
        {
          "output_type": "stream",
          "text": [
            "Epoch 35/100\n",
            "18/18 [==============================] - 0s 6ms/step - loss: 127.6094 - val_loss: 713.7850\n",
            "Epoch 36/100\n",
            "18/18 [==============================] - 0s 6ms/step - loss: 127.7892 - val_loss: 700.3456\n",
            "INFO:tensorflow:Assets written to: model_experiment/model_5_LSTM/assets\n"
          ],
          "name": "stdout"
        },
        {
          "output_type": "stream",
          "text": [
            "INFO:tensorflow:Assets written to: model_experiment/model_5_LSTM/assets\n"
          ],
          "name": "stderr"
        },
        {
          "output_type": "stream",
          "text": [
            "Epoch 37/100\n",
            "18/18 [==============================] - 0s 6ms/step - loss: 125.0239 - val_loss: 700.5844\n",
            "Epoch 38/100\n",
            "18/18 [==============================] - 0s 6ms/step - loss: 124.1049 - val_loss: 686.8478\n",
            "INFO:tensorflow:Assets written to: model_experiment/model_5_LSTM/assets\n"
          ],
          "name": "stdout"
        },
        {
          "output_type": "stream",
          "text": [
            "INFO:tensorflow:Assets written to: model_experiment/model_5_LSTM/assets\n"
          ],
          "name": "stderr"
        },
        {
          "output_type": "stream",
          "text": [
            "Epoch 39/100\n",
            "18/18 [==============================] - 0s 6ms/step - loss: 124.6870 - val_loss: 712.5247\n",
            "Epoch 40/100\n",
            "18/18 [==============================] - 0s 6ms/step - loss: 125.8680 - val_loss: 714.6942\n",
            "Epoch 41/100\n",
            "18/18 [==============================] - 0s 6ms/step - loss: 123.1815 - val_loss: 674.7075\n",
            "INFO:tensorflow:Assets written to: model_experiment/model_5_LSTM/assets\n"
          ],
          "name": "stdout"
        },
        {
          "output_type": "stream",
          "text": [
            "INFO:tensorflow:Assets written to: model_experiment/model_5_LSTM/assets\n"
          ],
          "name": "stderr"
        },
        {
          "output_type": "stream",
          "text": [
            "Epoch 42/100\n",
            "18/18 [==============================] - 0s 6ms/step - loss: 122.1148 - val_loss: 665.7347\n",
            "INFO:tensorflow:Assets written to: model_experiment/model_5_LSTM/assets\n"
          ],
          "name": "stdout"
        },
        {
          "output_type": "stream",
          "text": [
            "INFO:tensorflow:Assets written to: model_experiment/model_5_LSTM/assets\n"
          ],
          "name": "stderr"
        },
        {
          "output_type": "stream",
          "text": [
            "Epoch 43/100\n",
            "18/18 [==============================] - 0s 6ms/step - loss: 121.7129 - val_loss: 662.7590\n",
            "INFO:tensorflow:Assets written to: model_experiment/model_5_LSTM/assets\n"
          ],
          "name": "stdout"
        },
        {
          "output_type": "stream",
          "text": [
            "INFO:tensorflow:Assets written to: model_experiment/model_5_LSTM/assets\n"
          ],
          "name": "stderr"
        },
        {
          "output_type": "stream",
          "text": [
            "Epoch 44/100\n",
            "18/18 [==============================] - 0s 6ms/step - loss: 120.7080 - val_loss: 658.6262\n",
            "INFO:tensorflow:Assets written to: model_experiment/model_5_LSTM/assets\n"
          ],
          "name": "stdout"
        },
        {
          "output_type": "stream",
          "text": [
            "INFO:tensorflow:Assets written to: model_experiment/model_5_LSTM/assets\n"
          ],
          "name": "stderr"
        },
        {
          "output_type": "stream",
          "text": [
            "Epoch 45/100\n",
            "18/18 [==============================] - 0s 7ms/step - loss: 118.9943 - val_loss: 654.4641\n",
            "INFO:tensorflow:Assets written to: model_experiment/model_5_LSTM/assets\n"
          ],
          "name": "stdout"
        },
        {
          "output_type": "stream",
          "text": [
            "INFO:tensorflow:Assets written to: model_experiment/model_5_LSTM/assets\n"
          ],
          "name": "stderr"
        },
        {
          "output_type": "stream",
          "text": [
            "Epoch 46/100\n",
            "18/18 [==============================] - 0s 6ms/step - loss: 119.3867 - val_loss: 650.7886\n",
            "INFO:tensorflow:Assets written to: model_experiment/model_5_LSTM/assets\n"
          ],
          "name": "stdout"
        },
        {
          "output_type": "stream",
          "text": [
            "INFO:tensorflow:Assets written to: model_experiment/model_5_LSTM/assets\n"
          ],
          "name": "stderr"
        },
        {
          "output_type": "stream",
          "text": [
            "Epoch 47/100\n",
            "18/18 [==============================] - 0s 6ms/step - loss: 119.0977 - val_loss: 658.1746\n",
            "Epoch 48/100\n",
            "18/18 [==============================] - 0s 6ms/step - loss: 118.2193 - val_loss: 645.2226\n",
            "INFO:tensorflow:Assets written to: model_experiment/model_5_LSTM/assets\n"
          ],
          "name": "stdout"
        },
        {
          "output_type": "stream",
          "text": [
            "INFO:tensorflow:Assets written to: model_experiment/model_5_LSTM/assets\n"
          ],
          "name": "stderr"
        },
        {
          "output_type": "stream",
          "text": [
            "Epoch 49/100\n",
            "18/18 [==============================] - 0s 6ms/step - loss: 117.3811 - val_loss: 653.1469\n",
            "Epoch 50/100\n",
            "18/18 [==============================] - 0s 6ms/step - loss: 119.3409 - val_loss: 661.0522\n",
            "Epoch 51/100\n",
            "18/18 [==============================] - 0s 6ms/step - loss: 118.4443 - val_loss: 674.8165\n",
            "Epoch 52/100\n",
            "18/18 [==============================] - 0s 6ms/step - loss: 118.1000 - val_loss: 650.5082\n",
            "Epoch 53/100\n",
            "18/18 [==============================] - 0s 6ms/step - loss: 117.9605 - val_loss: 633.2266\n",
            "INFO:tensorflow:Assets written to: model_experiment/model_5_LSTM/assets\n"
          ],
          "name": "stdout"
        },
        {
          "output_type": "stream",
          "text": [
            "INFO:tensorflow:Assets written to: model_experiment/model_5_LSTM/assets\n"
          ],
          "name": "stderr"
        },
        {
          "output_type": "stream",
          "text": [
            "Epoch 54/100\n",
            "18/18 [==============================] - 0s 6ms/step - loss: 117.8458 - val_loss: 633.0055\n",
            "INFO:tensorflow:Assets written to: model_experiment/model_5_LSTM/assets\n"
          ],
          "name": "stdout"
        },
        {
          "output_type": "stream",
          "text": [
            "INFO:tensorflow:Assets written to: model_experiment/model_5_LSTM/assets\n"
          ],
          "name": "stderr"
        },
        {
          "output_type": "stream",
          "text": [
            "Epoch 55/100\n",
            "18/18 [==============================] - 0s 6ms/step - loss: 116.0363 - val_loss: 629.0765\n",
            "INFO:tensorflow:Assets written to: model_experiment/model_5_LSTM/assets\n"
          ],
          "name": "stdout"
        },
        {
          "output_type": "stream",
          "text": [
            "INFO:tensorflow:Assets written to: model_experiment/model_5_LSTM/assets\n"
          ],
          "name": "stderr"
        },
        {
          "output_type": "stream",
          "text": [
            "Epoch 56/100\n",
            "18/18 [==============================] - 0s 6ms/step - loss: 118.1764 - val_loss: 633.3936\n",
            "Epoch 57/100\n",
            "18/18 [==============================] - 0s 7ms/step - loss: 122.4642 - val_loss: 631.5654\n",
            "Epoch 58/100\n",
            "18/18 [==============================] - 0s 7ms/step - loss: 115.6703 - val_loss: 630.2236\n",
            "Epoch 59/100\n",
            "18/18 [==============================] - 0s 6ms/step - loss: 114.5719 - val_loss: 623.6322\n",
            "INFO:tensorflow:Assets written to: model_experiment/model_5_LSTM/assets\n"
          ],
          "name": "stdout"
        },
        {
          "output_type": "stream",
          "text": [
            "INFO:tensorflow:Assets written to: model_experiment/model_5_LSTM/assets\n"
          ],
          "name": "stderr"
        },
        {
          "output_type": "stream",
          "text": [
            "Epoch 60/100\n",
            "18/18 [==============================] - 0s 7ms/step - loss: 114.4633 - val_loss: 621.0346\n",
            "INFO:tensorflow:Assets written to: model_experiment/model_5_LSTM/assets\n"
          ],
          "name": "stdout"
        },
        {
          "output_type": "stream",
          "text": [
            "INFO:tensorflow:Assets written to: model_experiment/model_5_LSTM/assets\n"
          ],
          "name": "stderr"
        },
        {
          "output_type": "stream",
          "text": [
            "Epoch 61/100\n",
            "18/18 [==============================] - 0s 6ms/step - loss: 114.4532 - val_loss: 642.8889\n",
            "Epoch 62/100\n",
            "18/18 [==============================] - 0s 6ms/step - loss: 115.3363 - val_loss: 652.0860\n",
            "Epoch 63/100\n",
            "18/18 [==============================] - 0s 6ms/step - loss: 117.6144 - val_loss: 619.9069\n",
            "INFO:tensorflow:Assets written to: model_experiment/model_5_LSTM/assets\n"
          ],
          "name": "stdout"
        },
        {
          "output_type": "stream",
          "text": [
            "INFO:tensorflow:Assets written to: model_experiment/model_5_LSTM/assets\n"
          ],
          "name": "stderr"
        },
        {
          "output_type": "stream",
          "text": [
            "Epoch 64/100\n",
            "18/18 [==============================] - 0s 7ms/step - loss: 112.9090 - val_loss: 647.3559\n",
            "Epoch 65/100\n",
            "18/18 [==============================] - 0s 6ms/step - loss: 115.1903 - val_loss: 614.2426\n",
            "INFO:tensorflow:Assets written to: model_experiment/model_5_LSTM/assets\n"
          ],
          "name": "stdout"
        },
        {
          "output_type": "stream",
          "text": [
            "INFO:tensorflow:Assets written to: model_experiment/model_5_LSTM/assets\n"
          ],
          "name": "stderr"
        },
        {
          "output_type": "stream",
          "text": [
            "Epoch 66/100\n",
            "18/18 [==============================] - 0s 6ms/step - loss: 112.9471 - val_loss: 617.1186\n",
            "Epoch 67/100\n",
            "18/18 [==============================] - 0s 7ms/step - loss: 114.6197 - val_loss: 620.5699\n",
            "Epoch 68/100\n",
            "18/18 [==============================] - 0s 6ms/step - loss: 115.9635 - val_loss: 610.1516\n",
            "INFO:tensorflow:Assets written to: model_experiment/model_5_LSTM/assets\n"
          ],
          "name": "stdout"
        },
        {
          "output_type": "stream",
          "text": [
            "INFO:tensorflow:Assets written to: model_experiment/model_5_LSTM/assets\n"
          ],
          "name": "stderr"
        },
        {
          "output_type": "stream",
          "text": [
            "Epoch 69/100\n",
            "18/18 [==============================] - 0s 6ms/step - loss: 117.9422 - val_loss: 628.6920\n",
            "Epoch 70/100\n",
            "18/18 [==============================] - 0s 7ms/step - loss: 117.6374 - val_loss: 616.0386\n",
            "Epoch 71/100\n",
            "18/18 [==============================] - 0s 6ms/step - loss: 112.6711 - val_loss: 617.9644\n",
            "Epoch 72/100\n",
            "18/18 [==============================] - 0s 6ms/step - loss: 114.8175 - val_loss: 608.3436\n",
            "INFO:tensorflow:Assets written to: model_experiment/model_5_LSTM/assets\n"
          ],
          "name": "stdout"
        },
        {
          "output_type": "stream",
          "text": [
            "INFO:tensorflow:Assets written to: model_experiment/model_5_LSTM/assets\n"
          ],
          "name": "stderr"
        },
        {
          "output_type": "stream",
          "text": [
            "Epoch 73/100\n",
            "18/18 [==============================] - 0s 6ms/step - loss: 112.0236 - val_loss: 608.1804\n",
            "INFO:tensorflow:Assets written to: model_experiment/model_5_LSTM/assets\n"
          ],
          "name": "stdout"
        },
        {
          "output_type": "stream",
          "text": [
            "INFO:tensorflow:Assets written to: model_experiment/model_5_LSTM/assets\n"
          ],
          "name": "stderr"
        },
        {
          "output_type": "stream",
          "text": [
            "Epoch 74/100\n",
            "18/18 [==============================] - 0s 7ms/step - loss: 113.5064 - val_loss: 611.5078\n",
            "Epoch 75/100\n",
            "18/18 [==============================] - 0s 6ms/step - loss: 115.4587 - val_loss: 713.5004\n",
            "Epoch 76/100\n",
            "18/18 [==============================] - 0s 6ms/step - loss: 115.4754 - val_loss: 609.2678\n",
            "Epoch 77/100\n",
            "18/18 [==============================] - 0s 6ms/step - loss: 112.7458 - val_loss: 637.3420\n",
            "Epoch 78/100\n",
            "18/18 [==============================] - 0s 5ms/step - loss: 113.6054 - val_loss: 636.9487\n",
            "Epoch 79/100\n",
            "18/18 [==============================] - 0s 6ms/step - loss: 112.7857 - val_loss: 600.8996\n",
            "INFO:tensorflow:Assets written to: model_experiment/model_5_LSTM/assets\n"
          ],
          "name": "stdout"
        },
        {
          "output_type": "stream",
          "text": [
            "INFO:tensorflow:Assets written to: model_experiment/model_5_LSTM/assets\n"
          ],
          "name": "stderr"
        },
        {
          "output_type": "stream",
          "text": [
            "Epoch 80/100\n",
            "18/18 [==============================] - 0s 6ms/step - loss: 111.3495 - val_loss: 616.2104\n",
            "Epoch 81/100\n",
            "18/18 [==============================] - 0s 6ms/step - loss: 111.7430 - val_loss: 613.8085\n",
            "Epoch 82/100\n",
            "18/18 [==============================] - 0s 7ms/step - loss: 114.3554 - val_loss: 599.2693\n",
            "INFO:tensorflow:Assets written to: model_experiment/model_5_LSTM/assets\n"
          ],
          "name": "stdout"
        },
        {
          "output_type": "stream",
          "text": [
            "INFO:tensorflow:Assets written to: model_experiment/model_5_LSTM/assets\n"
          ],
          "name": "stderr"
        },
        {
          "output_type": "stream",
          "text": [
            "Epoch 83/100\n",
            "18/18 [==============================] - 0s 6ms/step - loss: 112.9660 - val_loss: 609.3820\n",
            "Epoch 84/100\n",
            "18/18 [==============================] - 0s 7ms/step - loss: 111.6693 - val_loss: 598.1440\n",
            "INFO:tensorflow:Assets written to: model_experiment/model_5_LSTM/assets\n"
          ],
          "name": "stdout"
        },
        {
          "output_type": "stream",
          "text": [
            "INFO:tensorflow:Assets written to: model_experiment/model_5_LSTM/assets\n"
          ],
          "name": "stderr"
        },
        {
          "output_type": "stream",
          "text": [
            "Epoch 85/100\n",
            "18/18 [==============================] - 0s 6ms/step - loss: 110.9603 - val_loss: 607.7147\n",
            "Epoch 86/100\n",
            "18/18 [==============================] - 0s 6ms/step - loss: 112.9108 - val_loss: 619.0319\n",
            "Epoch 87/100\n",
            "18/18 [==============================] - 0s 6ms/step - loss: 112.8312 - val_loss: 596.4617\n",
            "INFO:tensorflow:Assets written to: model_experiment/model_5_LSTM/assets\n"
          ],
          "name": "stdout"
        },
        {
          "output_type": "stream",
          "text": [
            "INFO:tensorflow:Assets written to: model_experiment/model_5_LSTM/assets\n"
          ],
          "name": "stderr"
        },
        {
          "output_type": "stream",
          "text": [
            "Epoch 88/100\n",
            "18/18 [==============================] - 0s 7ms/step - loss: 111.1812 - val_loss: 602.2481\n",
            "Epoch 89/100\n",
            "18/18 [==============================] - 0s 6ms/step - loss: 110.8157 - val_loss: 631.3902\n",
            "Epoch 90/100\n",
            "18/18 [==============================] - 0s 7ms/step - loss: 115.9583 - val_loss: 677.7118\n",
            "Epoch 91/100\n",
            "18/18 [==============================] - 0s 6ms/step - loss: 116.1083 - val_loss: 639.6381\n",
            "Epoch 92/100\n",
            "18/18 [==============================] - 0s 6ms/step - loss: 112.0244 - val_loss: 596.6761\n",
            "Epoch 93/100\n",
            "18/18 [==============================] - 0s 6ms/step - loss: 111.8025 - val_loss: 606.0387\n",
            "Epoch 94/100\n",
            "18/18 [==============================] - 0s 6ms/step - loss: 111.1957 - val_loss: 616.1079\n",
            "Epoch 95/100\n",
            "18/18 [==============================] - 0s 6ms/step - loss: 110.5904 - val_loss: 595.5881\n",
            "INFO:tensorflow:Assets written to: model_experiment/model_5_LSTM/assets\n"
          ],
          "name": "stdout"
        },
        {
          "output_type": "stream",
          "text": [
            "INFO:tensorflow:Assets written to: model_experiment/model_5_LSTM/assets\n"
          ],
          "name": "stderr"
        },
        {
          "output_type": "stream",
          "text": [
            "Epoch 96/100\n",
            "18/18 [==============================] - 0s 6ms/step - loss: 113.2982 - val_loss: 622.9681\n",
            "Epoch 97/100\n",
            "18/18 [==============================] - 0s 6ms/step - loss: 111.8213 - val_loss: 610.4315\n",
            "Epoch 98/100\n",
            "18/18 [==============================] - 0s 6ms/step - loss: 110.1182 - val_loss: 595.4195\n",
            "INFO:tensorflow:Assets written to: model_experiment/model_5_LSTM/assets\n"
          ],
          "name": "stdout"
        },
        {
          "output_type": "stream",
          "text": [
            "INFO:tensorflow:Assets written to: model_experiment/model_5_LSTM/assets\n"
          ],
          "name": "stderr"
        },
        {
          "output_type": "stream",
          "text": [
            "Epoch 99/100\n",
            "18/18 [==============================] - 0s 6ms/step - loss: 109.6496 - val_loss: 592.2452\n",
            "INFO:tensorflow:Assets written to: model_experiment/model_5_LSTM/assets\n"
          ],
          "name": "stdout"
        },
        {
          "output_type": "stream",
          "text": [
            "INFO:tensorflow:Assets written to: model_experiment/model_5_LSTM/assets\n"
          ],
          "name": "stderr"
        },
        {
          "output_type": "stream",
          "text": [
            "Epoch 100/100\n",
            "18/18 [==============================] - 0s 6ms/step - loss: 111.6262 - val_loss: 593.2128\n"
          ],
          "name": "stdout"
        },
        {
          "output_type": "execute_result",
          "data": {
            "text/plain": [
              "<tensorflow.python.keras.callbacks.History at 0x7f0735d4da50>"
            ]
          },
          "metadata": {
            "tags": []
          },
          "execution_count": 178
        }
      ]
    },
    {
      "cell_type": "code",
      "metadata": {
        "colab": {
          "base_uri": "https://localhost:8080/"
        },
        "id": "Arc4fSkBkOdk",
        "outputId": "e7e5e013-25e7-41e9-8ae6-664c995817cb"
      },
      "source": [
        "model_5 = tf.keras.models.load_model(\"/content/model_experiment/model_5_LSTM\")\n",
        "\n",
        "model_5_preds = make_preds(model_5, test_windows)\n",
        "\n",
        "model_5_results = evaluate_preds(tf.squeeze(test_labels), tf.squeeze(model_5_preds))\n",
        "\n",
        "model_5_results"
      ],
      "execution_count": 179,
      "outputs": [
        {
          "output_type": "execute_result",
          "data": {
            "text/plain": [
              "{'mae': 592.2453,\n",
              " 'mape': 2.670568,\n",
              " 'mase': 1.040411,\n",
              " 'mse': 1252988.2,\n",
              " 'rmse': 1119.3696}"
            ]
          },
          "metadata": {
            "tags": []
          },
          "execution_count": 179
        }
      ]
    },
    {
      "cell_type": "code",
      "metadata": {
        "colab": {
          "base_uri": "https://localhost:8080/"
        },
        "id": "6F2Bot90kOiP",
        "outputId": "3ddbf415-7874-48ec-d1e4-7d01a40dc749"
      },
      "source": [
        "model_1_results"
      ],
      "execution_count": 181,
      "outputs": [
        {
          "output_type": "execute_result",
          "data": {
            "text/plain": [
              "{'mae': 568.5498,\n",
              " 'mape': 2.549229,\n",
              " 'mase': 0.99878454,\n",
              " 'mse': 1172587.5,\n",
              " 'rmse': 1082.8608}"
            ]
          },
          "metadata": {
            "tags": []
          },
          "execution_count": 181
        }
      ]
    },
    {
      "cell_type": "markdown",
      "metadata": {
        "id": "B4KRQUYSkOmx"
      },
      "source": [
        "## Make a multivariate time series model"
      ]
    },
    {
      "cell_type": "code",
      "metadata": {
        "id": "EZTBH5PBkOqw"
      },
      "source": [
        "# Block reward values\n",
        "block_reward_1 = 50 # 3 January 2009 (2009-01-03) - this block reward isn't in our dataset (it starts from 01 October 2013)\n",
        "block_reward_2 = 25 # 28 November 2012 \n",
        "block_reward_3 = 12.5 # 9 July 2016\n",
        "block_reward_4 = 6.25 # 11 May 2020\n",
        "\n",
        "# Block reward dates (datetime form of the above date stamps)\n",
        "block_reward_2_datetime = np.datetime64(\"2012-11-28\")\n",
        "block_reward_3_datetime = np.datetime64(\"2016-07-09\")\n",
        "block_reward_4_datetime = np.datetime64(\"2020-05-11\")"
      ],
      "execution_count": 182,
      "outputs": []
    },
    {
      "cell_type": "code",
      "metadata": {
        "colab": {
          "base_uri": "https://localhost:8080/"
        },
        "id": "G_1T31gFpPc6",
        "outputId": "90e2ad95-cb06-41bd-fe62-59c9cf94af22"
      },
      "source": [
        "block_reward_2_days = (block_reward_3_datetime - bitcoin_prices.index[0]).days\n",
        "block_reward_3_days = (block_reward_4_datetime - bitcoin_prices.index[0]).days\n",
        "\n",
        "block_reward_2_days, block_reward_3_days"
      ],
      "execution_count": 186,
      "outputs": [
        {
          "output_type": "execute_result",
          "data": {
            "text/plain": [
              "(1012, 2414)"
            ]
          },
          "metadata": {
            "tags": []
          },
          "execution_count": 186
        }
      ]
    },
    {
      "cell_type": "code",
      "metadata": {
        "id": "D_KcxpU9ppxF"
      },
      "source": [
        "bitcoin_prices_block = bitcoin_prices.copy()\n",
        "bitcoin_prices_block[\"block_reward\"] = None\n",
        "\n",
        "bitcoin_prices_block.iloc[:block_reward_2_days, -1] = block_reward_2 \n",
        "bitcoin_prices_block.iloc[block_reward_2_days:block_reward_3_days, -1] = block_reward_3\n",
        "bitcoin_prices_block.iloc[block_reward_3_days:, -1] = block_reward_4"
      ],
      "execution_count": 195,
      "outputs": []
    },
    {
      "cell_type": "code",
      "metadata": {
        "colab": {
          "base_uri": "https://localhost:8080/",
          "height": 235
        },
        "id": "6ooO_bHFqcfv",
        "outputId": "49c459f0-3a0e-498c-9416-30d2c24f6a2e"
      },
      "source": [
        "bitcoin_prices_block.head()"
      ],
      "execution_count": 196,
      "outputs": [
        {
          "output_type": "execute_result",
          "data": {
            "text/html": [
              "<div>\n",
              "<style scoped>\n",
              "    .dataframe tbody tr th:only-of-type {\n",
              "        vertical-align: middle;\n",
              "    }\n",
              "\n",
              "    .dataframe tbody tr th {\n",
              "        vertical-align: top;\n",
              "    }\n",
              "\n",
              "    .dataframe thead th {\n",
              "        text-align: right;\n",
              "    }\n",
              "</style>\n",
              "<table border=\"1\" class=\"dataframe\">\n",
              "  <thead>\n",
              "    <tr style=\"text-align: right;\">\n",
              "      <th></th>\n",
              "      <th>Price</th>\n",
              "      <th>block_reward</th>\n",
              "    </tr>\n",
              "    <tr>\n",
              "      <th>Date</th>\n",
              "      <th></th>\n",
              "      <th></th>\n",
              "    </tr>\n",
              "  </thead>\n",
              "  <tbody>\n",
              "    <tr>\n",
              "      <th>2013-10-01</th>\n",
              "      <td>123.65499</td>\n",
              "      <td>25</td>\n",
              "    </tr>\n",
              "    <tr>\n",
              "      <th>2013-10-02</th>\n",
              "      <td>125.45500</td>\n",
              "      <td>25</td>\n",
              "    </tr>\n",
              "    <tr>\n",
              "      <th>2013-10-03</th>\n",
              "      <td>108.58483</td>\n",
              "      <td>25</td>\n",
              "    </tr>\n",
              "    <tr>\n",
              "      <th>2013-10-04</th>\n",
              "      <td>118.67466</td>\n",
              "      <td>25</td>\n",
              "    </tr>\n",
              "    <tr>\n",
              "      <th>2013-10-05</th>\n",
              "      <td>121.33866</td>\n",
              "      <td>25</td>\n",
              "    </tr>\n",
              "  </tbody>\n",
              "</table>\n",
              "</div>"
            ],
            "text/plain": [
              "                Price block_reward\n",
              "Date                              \n",
              "2013-10-01  123.65499           25\n",
              "2013-10-02  125.45500           25\n",
              "2013-10-03  108.58483           25\n",
              "2013-10-04  118.67466           25\n",
              "2013-10-05  121.33866           25"
            ]
          },
          "metadata": {
            "tags": []
          },
          "execution_count": 196
        }
      ]
    },
    {
      "cell_type": "code",
      "metadata": {
        "colab": {
          "base_uri": "https://localhost:8080/",
          "height": 450
        },
        "id": "p9noNQ2crGA6",
        "outputId": "518aacf2-49ae-4562-92c1-6cd47e5975b2"
      },
      "source": [
        "bitcoin_prices_block.iloc[1500:2000]"
      ],
      "execution_count": 198,
      "outputs": [
        {
          "output_type": "execute_result",
          "data": {
            "text/html": [
              "<div>\n",
              "<style scoped>\n",
              "    .dataframe tbody tr th:only-of-type {\n",
              "        vertical-align: middle;\n",
              "    }\n",
              "\n",
              "    .dataframe tbody tr th {\n",
              "        vertical-align: top;\n",
              "    }\n",
              "\n",
              "    .dataframe thead th {\n",
              "        text-align: right;\n",
              "    }\n",
              "</style>\n",
              "<table border=\"1\" class=\"dataframe\">\n",
              "  <thead>\n",
              "    <tr style=\"text-align: right;\">\n",
              "      <th></th>\n",
              "      <th>Price</th>\n",
              "      <th>block_reward</th>\n",
              "    </tr>\n",
              "    <tr>\n",
              "      <th>Date</th>\n",
              "      <th></th>\n",
              "      <th></th>\n",
              "    </tr>\n",
              "  </thead>\n",
              "  <tbody>\n",
              "    <tr>\n",
              "      <th>2017-11-09</th>\n",
              "      <td>7342.823750</td>\n",
              "      <td>12.5</td>\n",
              "    </tr>\n",
              "    <tr>\n",
              "      <th>2017-11-10</th>\n",
              "      <td>7250.770000</td>\n",
              "      <td>12.5</td>\n",
              "    </tr>\n",
              "    <tr>\n",
              "      <th>2017-11-11</th>\n",
              "      <td>6773.695000</td>\n",
              "      <td>12.5</td>\n",
              "    </tr>\n",
              "    <tr>\n",
              "      <th>2017-11-12</th>\n",
              "      <td>6075.301250</td>\n",
              "      <td>12.5</td>\n",
              "    </tr>\n",
              "    <tr>\n",
              "      <th>2017-11-13</th>\n",
              "      <td>5969.130000</td>\n",
              "      <td>12.5</td>\n",
              "    </tr>\n",
              "    <tr>\n",
              "      <th>...</th>\n",
              "      <td>...</td>\n",
              "      <td>...</td>\n",
              "    </tr>\n",
              "    <tr>\n",
              "      <th>2019-03-19</th>\n",
              "      <td>3974.415764</td>\n",
              "      <td>12.5</td>\n",
              "    </tr>\n",
              "    <tr>\n",
              "      <th>2019-03-20</th>\n",
              "      <td>3996.037131</td>\n",
              "      <td>12.5</td>\n",
              "    </tr>\n",
              "    <tr>\n",
              "      <th>2019-03-21</th>\n",
              "      <td>4027.787395</td>\n",
              "      <td>12.5</td>\n",
              "    </tr>\n",
              "    <tr>\n",
              "      <th>2019-03-22</th>\n",
              "      <td>3974.811429</td>\n",
              "      <td>12.5</td>\n",
              "    </tr>\n",
              "    <tr>\n",
              "      <th>2019-03-23</th>\n",
              "      <td>3987.305225</td>\n",
              "      <td>12.5</td>\n",
              "    </tr>\n",
              "  </tbody>\n",
              "</table>\n",
              "<p>500 rows × 2 columns</p>\n",
              "</div>"
            ],
            "text/plain": [
              "                  Price block_reward\n",
              "Date                                \n",
              "2017-11-09  7342.823750         12.5\n",
              "2017-11-10  7250.770000         12.5\n",
              "2017-11-11  6773.695000         12.5\n",
              "2017-11-12  6075.301250         12.5\n",
              "2017-11-13  5969.130000         12.5\n",
              "...                 ...          ...\n",
              "2019-03-19  3974.415764         12.5\n",
              "2019-03-20  3996.037131         12.5\n",
              "2019-03-21  4027.787395         12.5\n",
              "2019-03-22  3974.811429         12.5\n",
              "2019-03-23  3987.305225         12.5\n",
              "\n",
              "[500 rows x 2 columns]"
            ]
          },
          "metadata": {
            "tags": []
          },
          "execution_count": 198
        }
      ]
    },
    {
      "cell_type": "code",
      "metadata": {
        "colab": {
          "base_uri": "https://localhost:8080/",
          "height": 235
        },
        "id": "5rbaB2Y7qd6N",
        "outputId": "5ebb201a-5c40-48fb-f262-eb18002db743"
      },
      "source": [
        "bitcoin_prices_block.tail()"
      ],
      "execution_count": 199,
      "outputs": [
        {
          "output_type": "execute_result",
          "data": {
            "text/html": [
              "<div>\n",
              "<style scoped>\n",
              "    .dataframe tbody tr th:only-of-type {\n",
              "        vertical-align: middle;\n",
              "    }\n",
              "\n",
              "    .dataframe tbody tr th {\n",
              "        vertical-align: top;\n",
              "    }\n",
              "\n",
              "    .dataframe thead th {\n",
              "        text-align: right;\n",
              "    }\n",
              "</style>\n",
              "<table border=\"1\" class=\"dataframe\">\n",
              "  <thead>\n",
              "    <tr style=\"text-align: right;\">\n",
              "      <th></th>\n",
              "      <th>Price</th>\n",
              "      <th>block_reward</th>\n",
              "    </tr>\n",
              "    <tr>\n",
              "      <th>Date</th>\n",
              "      <th></th>\n",
              "      <th></th>\n",
              "    </tr>\n",
              "  </thead>\n",
              "  <tbody>\n",
              "    <tr>\n",
              "      <th>2021-05-14</th>\n",
              "      <td>49764.132082</td>\n",
              "      <td>6.25</td>\n",
              "    </tr>\n",
              "    <tr>\n",
              "      <th>2021-05-15</th>\n",
              "      <td>50032.693137</td>\n",
              "      <td>6.25</td>\n",
              "    </tr>\n",
              "    <tr>\n",
              "      <th>2021-05-16</th>\n",
              "      <td>47885.625255</td>\n",
              "      <td>6.25</td>\n",
              "    </tr>\n",
              "    <tr>\n",
              "      <th>2021-05-17</th>\n",
              "      <td>45604.615754</td>\n",
              "      <td>6.25</td>\n",
              "    </tr>\n",
              "    <tr>\n",
              "      <th>2021-05-18</th>\n",
              "      <td>43144.471291</td>\n",
              "      <td>6.25</td>\n",
              "    </tr>\n",
              "  </tbody>\n",
              "</table>\n",
              "</div>"
            ],
            "text/plain": [
              "                   Price block_reward\n",
              "Date                                 \n",
              "2021-05-14  49764.132082         6.25\n",
              "2021-05-15  50032.693137         6.25\n",
              "2021-05-16  47885.625255         6.25\n",
              "2021-05-17  45604.615754         6.25\n",
              "2021-05-18  43144.471291         6.25"
            ]
          },
          "metadata": {
            "tags": []
          },
          "execution_count": 199
        }
      ]
    },
    {
      "cell_type": "code",
      "metadata": {
        "colab": {
          "base_uri": "https://localhost:8080/",
          "height": 296
        },
        "id": "zucqu5JDqm4k",
        "outputId": "4b8d8059-720b-4bdc-9230-d20eba213d22"
      },
      "source": [
        "bitcoin_prices_block.plot()"
      ],
      "execution_count": 201,
      "outputs": [
        {
          "output_type": "execute_result",
          "data": {
            "text/plain": [
              "<matplotlib.axes._subplots.AxesSubplot at 0x7f073d4c89d0>"
            ]
          },
          "metadata": {
            "tags": []
          },
          "execution_count": 201
        },
        {
          "output_type": "display_data",
          "data": {
            "image/png": "[encoded data removed]",
            "text/plain": [
              "<Figure size 432x288 with 1 Axes>"
            ]
          },
          "metadata": {
            "tags": [],
            "needs_background": "light"
          }
        }
      ]
    },
    {
      "cell_type": "code",
      "metadata": {
        "colab": {
          "base_uri": "https://localhost:8080/",
          "height": 459
        },
        "id": "QTRX0ssvrUuw",
        "outputId": "1356ab57-9dcf-473e-b10f-2d1c6cd53e55"
      },
      "source": [
        "from sklearn.preprocessing import minmax_scale\n",
        "scaled_price_block_df = pd.DataFrame(minmax_scale(bitcoin_prices_block[[\"Price\",\"block_reward\"]]), columns = bitcoin_prices_block.columns, index = bitcoin_prices_block.index)\n",
        "scaled_price_block_df.plot(figsize=(10,7))"
      ],
      "execution_count": 207,
      "outputs": [
        {
          "output_type": "execute_result",
          "data": {
            "text/plain": [
              "<matplotlib.axes._subplots.AxesSubplot at 0x7f07224f9150>"
            ]
          },
          "metadata": {
            "tags": []
          },
          "execution_count": 207
        },
        {
          "output_type": "display_data",
          "data": {
            "image/png": "[encoded data removed]",
            "text/plain": [
              "<Figure size 720x504 with 1 Axes>"
            ]
          },
          "metadata": {
            "tags": [],
            "needs_background": "light"
          }
        }
      ]
    },
    {
      "cell_type": "markdown",
      "metadata": {
        "id": "y0Xoilasrxx0"
      },
      "source": [
        "## Making a windows dataset with Pandas "
      ]
    },
    {
      "cell_type": "code",
      "metadata": {
        "id": "XdL4m85cs547"
      },
      "source": [
        "HORIZON = 1\n",
        "WINDOW_SIZE = 7 \n",
        "\n",
        "bitcoin_prices_windowed = bitcoin_prices_block.copy()\n",
        "\n",
        "for i in range(WINDOW_SIZE):\n",
        "  bitcoin_prices_windowed[f\"Price+{i+1}\"] = bitcoin_prices_windowed[\"Price\"].shift(periods=i+1)\n",
        "\n",
        "# bitcoin_prices_windowed.fillna(0, inplace=True)"
      ],
      "execution_count": 211,
      "outputs": []
    },
    {
      "cell_type": "code",
      "metadata": {
        "colab": {
          "base_uri": "https://localhost:8080/",
          "height": 235
        },
        "id": "jYxPboMftP1Q",
        "outputId": "97041668-38fa-4735-e4d1-8b8f13322973"
      },
      "source": [
        "bitcoin_prices_windowed.head()"
      ],
      "execution_count": 212,
      "outputs": [
        {
          "output_type": "execute_result",
          "data": {
            "text/html": [
              "<div>\n",
              "<style scoped>\n",
              "    .dataframe tbody tr th:only-of-type {\n",
              "        vertical-align: middle;\n",
              "    }\n",
              "\n",
              "    .dataframe tbody tr th {\n",
              "        vertical-align: top;\n",
              "    }\n",
              "\n",
              "    .dataframe thead th {\n",
              "        text-align: right;\n",
              "    }\n",
              "</style>\n",
              "<table border=\"1\" class=\"dataframe\">\n",
              "  <thead>\n",
              "    <tr style=\"text-align: right;\">\n",
              "      <th></th>\n",
              "      <th>Price</th>\n",
              "      <th>block_reward</th>\n",
              "      <th>Price+1</th>\n",
              "      <th>Price+2</th>\n",
              "      <th>Price+3</th>\n",
              "      <th>Price+4</th>\n",
              "      <th>Price+5</th>\n",
              "      <th>Price+6</th>\n",
              "      <th>Price+7</th>\n",
              "    </tr>\n",
              "    <tr>\n",
              "      <th>Date</th>\n",
              "      <th></th>\n",
              "      <th></th>\n",
              "      <th></th>\n",
              "      <th></th>\n",
              "      <th></th>\n",
              "      <th></th>\n",
              "      <th></th>\n",
              "      <th></th>\n",
              "      <th></th>\n",
              "    </tr>\n",
              "  </thead>\n",
              "  <tbody>\n",
              "    <tr>\n",
              "      <th>2013-10-01</th>\n",
              "      <td>123.65499</td>\n",
              "      <td>25</td>\n",
              "      <td>NaN</td>\n",
              "      <td>NaN</td>\n",
              "      <td>NaN</td>\n",
              "      <td>NaN</td>\n",
              "      <td>NaN</td>\n",
              "      <td>NaN</td>\n",
              "      <td>NaN</td>\n",
              "    </tr>\n",
              "    <tr>\n",
              "      <th>2013-10-02</th>\n",
              "      <td>125.45500</td>\n",
              "      <td>25</td>\n",
              "      <td>123.65499</td>\n",
              "      <td>NaN</td>\n",
              "      <td>NaN</td>\n",
              "      <td>NaN</td>\n",
              "      <td>NaN</td>\n",
              "      <td>NaN</td>\n",
              "      <td>NaN</td>\n",
              "    </tr>\n",
              "    <tr>\n",
              "      <th>2013-10-03</th>\n",
              "      <td>108.58483</td>\n",
              "      <td>25</td>\n",
              "      <td>125.45500</td>\n",
              "      <td>123.65499</td>\n",
              "      <td>NaN</td>\n",
              "      <td>NaN</td>\n",
              "      <td>NaN</td>\n",
              "      <td>NaN</td>\n",
              "      <td>NaN</td>\n",
              "    </tr>\n",
              "    <tr>\n",
              "      <th>2013-10-04</th>\n",
              "      <td>118.67466</td>\n",
              "      <td>25</td>\n",
              "      <td>108.58483</td>\n",
              "      <td>125.45500</td>\n",
              "      <td>123.65499</td>\n",
              "      <td>NaN</td>\n",
              "      <td>NaN</td>\n",
              "      <td>NaN</td>\n",
              "      <td>NaN</td>\n",
              "    </tr>\n",
              "    <tr>\n",
              "      <th>2013-10-05</th>\n",
              "      <td>121.33866</td>\n",
              "      <td>25</td>\n",
              "      <td>118.67466</td>\n",
              "      <td>108.58483</td>\n",
              "      <td>125.45500</td>\n",
              "      <td>123.65499</td>\n",
              "      <td>NaN</td>\n",
              "      <td>NaN</td>\n",
              "      <td>NaN</td>\n",
              "    </tr>\n",
              "  </tbody>\n",
              "</table>\n",
              "</div>"
            ],
            "text/plain": [
              "                Price block_reward    Price+1  ...  Price+5  Price+6  Price+7\n",
              "Date                                           ...                           \n",
              "2013-10-01  123.65499           25        NaN  ...      NaN      NaN      NaN\n",
              "2013-10-02  125.45500           25  123.65499  ...      NaN      NaN      NaN\n",
              "2013-10-03  108.58483           25  125.45500  ...      NaN      NaN      NaN\n",
              "2013-10-04  118.67466           25  108.58483  ...      NaN      NaN      NaN\n",
              "2013-10-05  121.33866           25  118.67466  ...      NaN      NaN      NaN\n",
              "\n",
              "[5 rows x 9 columns]"
            ]
          },
          "metadata": {
            "tags": []
          },
          "execution_count": 212
        }
      ]
    },
    {
      "cell_type": "code",
      "metadata": {
        "colab": {
          "base_uri": "https://localhost:8080/",
          "height": 235
        },
        "id": "cY7eLJjCtTGz",
        "outputId": "250bf86b-5db5-4f12-f6da-5bf923f3aeb2"
      },
      "source": [
        "X = bitcoin_prices_windowed.dropna().drop(\"Price\", axis=1).astype(np.float32)\n",
        "y = bitcoin_prices_windowed.dropna()[\"Price\"].astype(np.float32)\n",
        "X.head()"
      ],
      "execution_count": 214,
      "outputs": [
        {
          "output_type": "execute_result",
          "data": {
            "text/html": [
              "<div>\n",
              "<style scoped>\n",
              "    .dataframe tbody tr th:only-of-type {\n",
              "        vertical-align: middle;\n",
              "    }\n",
              "\n",
              "    .dataframe tbody tr th {\n",
              "        vertical-align: top;\n",
              "    }\n",
              "\n",
              "    .dataframe thead th {\n",
              "        text-align: right;\n",
              "    }\n",
              "</style>\n",
              "<table border=\"1\" class=\"dataframe\">\n",
              "  <thead>\n",
              "    <tr style=\"text-align: right;\">\n",
              "      <th></th>\n",
              "      <th>block_reward</th>\n",
              "      <th>Price+1</th>\n",
              "      <th>Price+2</th>\n",
              "      <th>Price+3</th>\n",
              "      <th>Price+4</th>\n",
              "      <th>Price+5</th>\n",
              "      <th>Price+6</th>\n",
              "      <th>Price+7</th>\n",
              "    </tr>\n",
              "    <tr>\n",
              "      <th>Date</th>\n",
              "      <th></th>\n",
              "      <th></th>\n",
              "      <th></th>\n",
              "      <th></th>\n",
              "      <th></th>\n",
              "      <th></th>\n",
              "      <th></th>\n",
              "      <th></th>\n",
              "    </tr>\n",
              "  </thead>\n",
              "  <tbody>\n",
              "    <tr>\n",
              "      <th>2013-10-08</th>\n",
              "      <td>25.0</td>\n",
              "      <td>121.794998</td>\n",
              "      <td>120.655327</td>\n",
              "      <td>121.338661</td>\n",
              "      <td>118.674660</td>\n",
              "      <td>108.584831</td>\n",
              "      <td>125.455002</td>\n",
              "      <td>123.654991</td>\n",
              "    </tr>\n",
              "    <tr>\n",
              "      <th>2013-10-09</th>\n",
              "      <td>25.0</td>\n",
              "      <td>123.032997</td>\n",
              "      <td>121.794998</td>\n",
              "      <td>120.655327</td>\n",
              "      <td>121.338661</td>\n",
              "      <td>118.674660</td>\n",
              "      <td>108.584831</td>\n",
              "      <td>125.455002</td>\n",
              "    </tr>\n",
              "    <tr>\n",
              "      <th>2013-10-10</th>\n",
              "      <td>25.0</td>\n",
              "      <td>124.049004</td>\n",
              "      <td>123.032997</td>\n",
              "      <td>121.794998</td>\n",
              "      <td>120.655327</td>\n",
              "      <td>121.338661</td>\n",
              "      <td>118.674660</td>\n",
              "      <td>108.584831</td>\n",
              "    </tr>\n",
              "    <tr>\n",
              "      <th>2013-10-11</th>\n",
              "      <td>25.0</td>\n",
              "      <td>125.961159</td>\n",
              "      <td>124.049004</td>\n",
              "      <td>123.032997</td>\n",
              "      <td>121.794998</td>\n",
              "      <td>120.655327</td>\n",
              "      <td>121.338661</td>\n",
              "      <td>118.674660</td>\n",
              "    </tr>\n",
              "    <tr>\n",
              "      <th>2013-10-12</th>\n",
              "      <td>25.0</td>\n",
              "      <td>125.279663</td>\n",
              "      <td>125.961159</td>\n",
              "      <td>124.049004</td>\n",
              "      <td>123.032997</td>\n",
              "      <td>121.794998</td>\n",
              "      <td>120.655327</td>\n",
              "      <td>121.338661</td>\n",
              "    </tr>\n",
              "  </tbody>\n",
              "</table>\n",
              "</div>"
            ],
            "text/plain": [
              "            block_reward     Price+1  ...     Price+6     Price+7\n",
              "Date                                  ...                        \n",
              "2013-10-08          25.0  121.794998  ...  125.455002  123.654991\n",
              "2013-10-09          25.0  123.032997  ...  108.584831  125.455002\n",
              "2013-10-10          25.0  124.049004  ...  118.674660  108.584831\n",
              "2013-10-11          25.0  125.961159  ...  121.338661  118.674660\n",
              "2013-10-12          25.0  125.279663  ...  120.655327  121.338661\n",
              "\n",
              "[5 rows x 8 columns]"
            ]
          },
          "metadata": {
            "tags": []
          },
          "execution_count": 214
        }
      ]
    },
    {
      "cell_type": "code",
      "metadata": {
        "colab": {
          "base_uri": "https://localhost:8080/"
        },
        "id": "-75uu4rLusQ9",
        "outputId": "b751464e-f63f-4f14-a942-d76cbf4a830b"
      },
      "source": [
        "y.head()"
      ],
      "execution_count": 215,
      "outputs": [
        {
          "output_type": "execute_result",
          "data": {
            "text/plain": [
              "Date\n",
              "2013-10-08    123.032997\n",
              "2013-10-09    124.049004\n",
              "2013-10-10    125.961159\n",
              "2013-10-11    125.279663\n",
              "2013-10-12    125.927498\n",
              "Name: Price, dtype: float32"
            ]
          },
          "metadata": {
            "tags": []
          },
          "execution_count": 215
        }
      ]
    },
    {
      "cell_type": "code",
      "metadata": {
        "colab": {
          "base_uri": "https://localhost:8080/"
        },
        "id": "MGR4g9J4uuUc",
        "outputId": "b87b93a2-200c-4b84-b353-134b296f5f40"
      },
      "source": [
        "## make train & test sets\n",
        "\n",
        "split_size = int(len(X)*0.8)\n",
        "\n",
        "X_train, y_train = X[:split_size], y[:split_size]\n",
        "X_test, y_test = X[split_size:], y[split_size:]\n",
        "\n",
        "X_train.shape, y_train.shape , X_test.shape, y_test.shape"
      ],
      "execution_count": 216,
      "outputs": [
        {
          "output_type": "execute_result",
          "data": {
            "text/plain": [
              "((2224, 8), (2224,), (556, 8), (556,))"
            ]
          },
          "metadata": {
            "tags": []
          },
          "execution_count": 216
        }
      ]
    },
    {
      "cell_type": "markdown",
      "metadata": {
        "id": "p9PlhoEPvOi9"
      },
      "source": [
        "## Model 6: Dense(multivariate time series)"
      ]
    },
    {
      "cell_type": "code",
      "metadata": {
        "colab": {
          "base_uri": "https://localhost:8080/"
        },
        "id": "ueUmvYilvmKn",
        "outputId": "cfbacfe3-def3-43c7-a2b6-83da71a7894d"
      },
      "source": [
        "tf.random.set_seed(42)\n",
        "\n",
        "model_6 = tf.keras.Sequential([\n",
        "  layers.Dense(128, activation=\"relu\"),\n",
        "  # layers.Dense(128, activation=\"relu\"),\n",
        "  layers.Dense(HORIZON)\n",
        "], name=\"model_6_dense_multivariate\")\n",
        "\n",
        "model_6.compile(loss=\"mae\",\n",
        "                optimizer=\"Adam\")\n",
        "\n",
        "model_6.fit(X_train,\n",
        "            y_train,\n",
        "            epochs=100,\n",
        "            validation_data=(X_test,y_test),\n",
        "            batch_size=128,\n",
        "            verbose=1,\n",
        "            callbacks=[create_model_checkpoint(model_name=model_6.name)])"
      ],
      "execution_count": 217,
      "outputs": [
        {
          "output_type": "stream",
          "text": [
            "Epoch 1/100\n",
            "18/18 [==============================] - 0s 9ms/step - loss: 1234.6880 - val_loss: 2061.8193\n",
            "INFO:tensorflow:Assets written to: model_experiment/model_6_dense_multivariate/assets\n"
          ],
          "name": "stdout"
        },
        {
          "output_type": "stream",
          "text": [
            "INFO:tensorflow:Assets written to: model_experiment/model_6_dense_multivariate/assets\n"
          ],
          "name": "stderr"
        },
        {
          "output_type": "stream",
          "text": [
            "Epoch 2/100\n",
            "18/18 [==============================] - 0s 4ms/step - loss: 351.5003 - val_loss: 1908.7340\n",
            "INFO:tensorflow:Assets written to: model_experiment/model_6_dense_multivariate/assets\n"
          ],
          "name": "stdout"
        },
        {
          "output_type": "stream",
          "text": [
            "INFO:tensorflow:Assets written to: model_experiment/model_6_dense_multivariate/assets\n"
          ],
          "name": "stderr"
        },
        {
          "output_type": "stream",
          "text": [
            "Epoch 3/100\n",
            "18/18 [==============================] - 0s 4ms/step - loss: 235.4110 - val_loss: 1329.5337\n",
            "INFO:tensorflow:Assets written to: model_experiment/model_6_dense_multivariate/assets\n"
          ],
          "name": "stdout"
        },
        {
          "output_type": "stream",
          "text": [
            "INFO:tensorflow:Assets written to: model_experiment/model_6_dense_multivariate/assets\n"
          ],
          "name": "stderr"
        },
        {
          "output_type": "stream",
          "text": [
            "Epoch 4/100\n",
            "18/18 [==============================] - 0s 4ms/step - loss: 208.6456 - val_loss: 1102.0098\n",
            "INFO:tensorflow:Assets written to: model_experiment/model_6_dense_multivariate/assets\n"
          ],
          "name": "stdout"
        },
        {
          "output_type": "stream",
          "text": [
            "INFO:tensorflow:Assets written to: model_experiment/model_6_dense_multivariate/assets\n"
          ],
          "name": "stderr"
        },
        {
          "output_type": "stream",
          "text": [
            "Epoch 5/100\n",
            "18/18 [==============================] - 0s 4ms/step - loss: 196.5595 - val_loss: 1108.6184\n",
            "Epoch 6/100\n",
            "18/18 [==============================] - 0s 3ms/step - loss: 187.2317 - val_loss: 1035.9946\n",
            "INFO:tensorflow:Assets written to: model_experiment/model_6_dense_multivariate/assets\n"
          ],
          "name": "stdout"
        },
        {
          "output_type": "stream",
          "text": [
            "INFO:tensorflow:Assets written to: model_experiment/model_6_dense_multivariate/assets\n"
          ],
          "name": "stderr"
        },
        {
          "output_type": "stream",
          "text": [
            "Epoch 7/100\n",
            "18/18 [==============================] - 0s 2ms/step - loss: 182.0119 - val_loss: 1019.2758\n",
            "INFO:tensorflow:Assets written to: model_experiment/model_6_dense_multivariate/assets\n"
          ],
          "name": "stdout"
        },
        {
          "output_type": "stream",
          "text": [
            "INFO:tensorflow:Assets written to: model_experiment/model_6_dense_multivariate/assets\n"
          ],
          "name": "stderr"
        },
        {
          "output_type": "stream",
          "text": [
            "Epoch 8/100\n",
            "18/18 [==============================] - 0s 2ms/step - loss: 175.6998 - val_loss: 977.7363\n",
            "INFO:tensorflow:Assets written to: model_experiment/model_6_dense_multivariate/assets\n"
          ],
          "name": "stdout"
        },
        {
          "output_type": "stream",
          "text": [
            "INFO:tensorflow:Assets written to: model_experiment/model_6_dense_multivariate/assets\n"
          ],
          "name": "stderr"
        },
        {
          "output_type": "stream",
          "text": [
            "Epoch 9/100\n",
            "18/18 [==============================] - 0s 2ms/step - loss: 170.1650 - val_loss: 953.9060\n",
            "INFO:tensorflow:Assets written to: model_experiment/model_6_dense_multivariate/assets\n"
          ],
          "name": "stdout"
        },
        {
          "output_type": "stream",
          "text": [
            "INFO:tensorflow:Assets written to: model_experiment/model_6_dense_multivariate/assets\n"
          ],
          "name": "stderr"
        },
        {
          "output_type": "stream",
          "text": [
            "Epoch 10/100\n",
            "18/18 [==============================] - 0s 3ms/step - loss: 164.3849 - val_loss: 912.1844\n",
            "INFO:tensorflow:Assets written to: model_experiment/model_6_dense_multivariate/assets\n"
          ],
          "name": "stdout"
        },
        {
          "output_type": "stream",
          "text": [
            "INFO:tensorflow:Assets written to: model_experiment/model_6_dense_multivariate/assets\n"
          ],
          "name": "stderr"
        },
        {
          "output_type": "stream",
          "text": [
            "Epoch 11/100\n",
            "18/18 [==============================] - 0s 2ms/step - loss: 158.0432 - val_loss: 871.2962\n",
            "INFO:tensorflow:Assets written to: model_experiment/model_6_dense_multivariate/assets\n"
          ],
          "name": "stdout"
        },
        {
          "output_type": "stream",
          "text": [
            "INFO:tensorflow:Assets written to: model_experiment/model_6_dense_multivariate/assets\n"
          ],
          "name": "stderr"
        },
        {
          "output_type": "stream",
          "text": [
            "Epoch 12/100\n",
            "18/18 [==============================] - 0s 3ms/step - loss: 151.8589 - val_loss: 853.0031\n",
            "INFO:tensorflow:Assets written to: model_experiment/model_6_dense_multivariate/assets\n"
          ],
          "name": "stdout"
        },
        {
          "output_type": "stream",
          "text": [
            "INFO:tensorflow:Assets written to: model_experiment/model_6_dense_multivariate/assets\n"
          ],
          "name": "stderr"
        },
        {
          "output_type": "stream",
          "text": [
            "Epoch 13/100\n",
            "18/18 [==============================] - 0s 3ms/step - loss: 150.1562 - val_loss: 899.1050\n",
            "Epoch 14/100\n",
            "18/18 [==============================] - 0s 3ms/step - loss: 147.8199 - val_loss: 845.0215\n",
            "INFO:tensorflow:Assets written to: model_experiment/model_6_dense_multivariate/assets\n"
          ],
          "name": "stdout"
        },
        {
          "output_type": "stream",
          "text": [
            "INFO:tensorflow:Assets written to: model_experiment/model_6_dense_multivariate/assets\n"
          ],
          "name": "stderr"
        },
        {
          "output_type": "stream",
          "text": [
            "Epoch 15/100\n",
            "18/18 [==============================] - 0s 3ms/step - loss: 142.5173 - val_loss: 788.1895\n",
            "INFO:tensorflow:Assets written to: model_experiment/model_6_dense_multivariate/assets\n"
          ],
          "name": "stdout"
        },
        {
          "output_type": "stream",
          "text": [
            "INFO:tensorflow:Assets written to: model_experiment/model_6_dense_multivariate/assets\n"
          ],
          "name": "stderr"
        },
        {
          "output_type": "stream",
          "text": [
            "Epoch 16/100\n",
            "18/18 [==============================] - 0s 3ms/step - loss: 137.1697 - val_loss: 770.6405\n",
            "INFO:tensorflow:Assets written to: model_experiment/model_6_dense_multivariate/assets\n"
          ],
          "name": "stdout"
        },
        {
          "output_type": "stream",
          "text": [
            "INFO:tensorflow:Assets written to: model_experiment/model_6_dense_multivariate/assets\n"
          ],
          "name": "stderr"
        },
        {
          "output_type": "stream",
          "text": [
            "Epoch 17/100\n",
            "18/18 [==============================] - 0s 3ms/step - loss: 136.0208 - val_loss: 763.1685\n",
            "INFO:tensorflow:Assets written to: model_experiment/model_6_dense_multivariate/assets\n"
          ],
          "name": "stdout"
        },
        {
          "output_type": "stream",
          "text": [
            "INFO:tensorflow:Assets written to: model_experiment/model_6_dense_multivariate/assets\n"
          ],
          "name": "stderr"
        },
        {
          "output_type": "stream",
          "text": [
            "Epoch 18/100\n",
            "18/18 [==============================] - 0s 4ms/step - loss: 135.4696 - val_loss: 753.5220\n",
            "INFO:tensorflow:Assets written to: model_experiment/model_6_dense_multivariate/assets\n"
          ],
          "name": "stdout"
        },
        {
          "output_type": "stream",
          "text": [
            "INFO:tensorflow:Assets written to: model_experiment/model_6_dense_multivariate/assets\n"
          ],
          "name": "stderr"
        },
        {
          "output_type": "stream",
          "text": [
            "Epoch 19/100\n",
            "18/18 [==============================] - 0s 3ms/step - loss: 130.7954 - val_loss: 758.8011\n",
            "Epoch 20/100\n",
            "18/18 [==============================] - 0s 3ms/step - loss: 128.6773 - val_loss: 703.7008\n",
            "INFO:tensorflow:Assets written to: model_experiment/model_6_dense_multivariate/assets\n"
          ],
          "name": "stdout"
        },
        {
          "output_type": "stream",
          "text": [
            "INFO:tensorflow:Assets written to: model_experiment/model_6_dense_multivariate/assets\n"
          ],
          "name": "stderr"
        },
        {
          "output_type": "stream",
          "text": [
            "Epoch 21/100\n",
            "18/18 [==============================] - 0s 4ms/step - loss: 129.2460 - val_loss: 693.4252\n",
            "INFO:tensorflow:Assets written to: model_experiment/model_6_dense_multivariate/assets\n"
          ],
          "name": "stdout"
        },
        {
          "output_type": "stream",
          "text": [
            "INFO:tensorflow:Assets written to: model_experiment/model_6_dense_multivariate/assets\n"
          ],
          "name": "stderr"
        },
        {
          "output_type": "stream",
          "text": [
            "Epoch 22/100\n",
            "18/18 [==============================] - 0s 3ms/step - loss: 125.8202 - val_loss: 703.4459\n",
            "Epoch 23/100\n",
            "18/18 [==============================] - 0s 3ms/step - loss: 127.8713 - val_loss: 698.5746\n",
            "Epoch 24/100\n",
            "18/18 [==============================] - 0s 4ms/step - loss: 122.4124 - val_loss: 672.5025\n",
            "INFO:tensorflow:Assets written to: model_experiment/model_6_dense_multivariate/assets\n"
          ],
          "name": "stdout"
        },
        {
          "output_type": "stream",
          "text": [
            "INFO:tensorflow:Assets written to: model_experiment/model_6_dense_multivariate/assets\n"
          ],
          "name": "stderr"
        },
        {
          "output_type": "stream",
          "text": [
            "Epoch 25/100\n",
            "18/18 [==============================] - 0s 3ms/step - loss: 121.3311 - val_loss: 666.3879\n",
            "INFO:tensorflow:Assets written to: model_experiment/model_6_dense_multivariate/assets\n"
          ],
          "name": "stdout"
        },
        {
          "output_type": "stream",
          "text": [
            "INFO:tensorflow:Assets written to: model_experiment/model_6_dense_multivariate/assets\n"
          ],
          "name": "stderr"
        },
        {
          "output_type": "stream",
          "text": [
            "Epoch 26/100\n",
            "18/18 [==============================] - 0s 3ms/step - loss: 127.9873 - val_loss: 693.5912\n",
            "Epoch 27/100\n",
            "18/18 [==============================] - 0s 3ms/step - loss: 124.8371 - val_loss: 645.3120\n",
            "INFO:tensorflow:Assets written to: model_experiment/model_6_dense_multivariate/assets\n"
          ],
          "name": "stdout"
        },
        {
          "output_type": "stream",
          "text": [
            "INFO:tensorflow:Assets written to: model_experiment/model_6_dense_multivariate/assets\n"
          ],
          "name": "stderr"
        },
        {
          "output_type": "stream",
          "text": [
            "Epoch 28/100\n",
            "18/18 [==============================] - 0s 4ms/step - loss: 119.8579 - val_loss: 641.3581\n",
            "INFO:tensorflow:Assets written to: model_experiment/model_6_dense_multivariate/assets\n"
          ],
          "name": "stdout"
        },
        {
          "output_type": "stream",
          "text": [
            "INFO:tensorflow:Assets written to: model_experiment/model_6_dense_multivariate/assets\n"
          ],
          "name": "stderr"
        },
        {
          "output_type": "stream",
          "text": [
            "Epoch 29/100\n",
            "18/18 [==============================] - 0s 3ms/step - loss: 121.2880 - val_loss: 665.6819\n",
            "Epoch 30/100\n",
            "18/18 [==============================] - 0s 3ms/step - loss: 121.1822 - val_loss: 640.8666\n",
            "INFO:tensorflow:Assets written to: model_experiment/model_6_dense_multivariate/assets\n"
          ],
          "name": "stdout"
        },
        {
          "output_type": "stream",
          "text": [
            "INFO:tensorflow:Assets written to: model_experiment/model_6_dense_multivariate/assets\n"
          ],
          "name": "stderr"
        },
        {
          "output_type": "stream",
          "text": [
            "Epoch 31/100\n",
            "18/18 [==============================] - 0s 4ms/step - loss: 120.4115 - val_loss: 667.9381\n",
            "Epoch 32/100\n",
            "18/18 [==============================] - 0s 3ms/step - loss: 118.3126 - val_loss: 618.9246\n",
            "INFO:tensorflow:Assets written to: model_experiment/model_6_dense_multivariate/assets\n"
          ],
          "name": "stdout"
        },
        {
          "output_type": "stream",
          "text": [
            "INFO:tensorflow:Assets written to: model_experiment/model_6_dense_multivariate/assets\n"
          ],
          "name": "stderr"
        },
        {
          "output_type": "stream",
          "text": [
            "Epoch 33/100\n",
            "18/18 [==============================] - 0s 3ms/step - loss: 115.8836 - val_loss: 621.7657\n",
            "Epoch 34/100\n",
            "18/18 [==============================] - 0s 3ms/step - loss: 114.9744 - val_loss: 611.1628\n",
            "INFO:tensorflow:Assets written to: model_experiment/model_6_dense_multivariate/assets\n"
          ],
          "name": "stdout"
        },
        {
          "output_type": "stream",
          "text": [
            "INFO:tensorflow:Assets written to: model_experiment/model_6_dense_multivariate/assets\n"
          ],
          "name": "stderr"
        },
        {
          "output_type": "stream",
          "text": [
            "Epoch 35/100\n",
            "18/18 [==============================] - 0s 2ms/step - loss: 112.5883 - val_loss: 615.9459\n",
            "Epoch 36/100\n",
            "18/18 [==============================] - 0s 4ms/step - loss: 115.2489 - val_loss: 616.3093\n",
            "Epoch 37/100\n",
            "18/18 [==============================] - 0s 3ms/step - loss: 114.1561 - val_loss: 612.4224\n",
            "Epoch 38/100\n",
            "18/18 [==============================] - 0s 4ms/step - loss: 111.4725 - val_loss: 602.2156\n",
            "INFO:tensorflow:Assets written to: model_experiment/model_6_dense_multivariate/assets\n"
          ],
          "name": "stdout"
        },
        {
          "output_type": "stream",
          "text": [
            "INFO:tensorflow:Assets written to: model_experiment/model_6_dense_multivariate/assets\n"
          ],
          "name": "stderr"
        },
        {
          "output_type": "stream",
          "text": [
            "Epoch 39/100\n",
            "18/18 [==============================] - 0s 4ms/step - loss: 113.2853 - val_loss: 597.4956\n",
            "INFO:tensorflow:Assets written to: model_experiment/model_6_dense_multivariate/assets\n"
          ],
          "name": "stdout"
        },
        {
          "output_type": "stream",
          "text": [
            "INFO:tensorflow:Assets written to: model_experiment/model_6_dense_multivariate/assets\n"
          ],
          "name": "stderr"
        },
        {
          "output_type": "stream",
          "text": [
            "Epoch 40/100\n",
            "18/18 [==============================] - 0s 3ms/step - loss: 109.8442 - val_loss: 594.1266\n",
            "INFO:tensorflow:Assets written to: model_experiment/model_6_dense_multivariate/assets\n"
          ],
          "name": "stdout"
        },
        {
          "output_type": "stream",
          "text": [
            "INFO:tensorflow:Assets written to: model_experiment/model_6_dense_multivariate/assets\n"
          ],
          "name": "stderr"
        },
        {
          "output_type": "stream",
          "text": [
            "Epoch 41/100\n",
            "18/18 [==============================] - 0s 3ms/step - loss: 110.6678 - val_loss: 618.8134\n",
            "Epoch 42/100\n",
            "18/18 [==============================] - 0s 2ms/step - loss: 115.6730 - val_loss: 597.8906\n",
            "Epoch 43/100\n",
            "18/18 [==============================] - 0s 3ms/step - loss: 110.8469 - val_loss: 598.7611\n",
            "Epoch 44/100\n",
            "18/18 [==============================] - 0s 3ms/step - loss: 109.6573 - val_loss: 589.3685\n",
            "INFO:tensorflow:Assets written to: model_experiment/model_6_dense_multivariate/assets\n"
          ],
          "name": "stdout"
        },
        {
          "output_type": "stream",
          "text": [
            "INFO:tensorflow:Assets written to: model_experiment/model_6_dense_multivariate/assets\n"
          ],
          "name": "stderr"
        },
        {
          "output_type": "stream",
          "text": [
            "Epoch 45/100\n",
            "18/18 [==============================] - 0s 3ms/step - loss: 108.7725 - val_loss: 611.4684\n",
            "Epoch 46/100\n",
            "18/18 [==============================] - 0s 2ms/step - loss: 109.6011 - val_loss: 587.5863\n",
            "INFO:tensorflow:Assets written to: model_experiment/model_6_dense_multivariate/assets\n"
          ],
          "name": "stdout"
        },
        {
          "output_type": "stream",
          "text": [
            "INFO:tensorflow:Assets written to: model_experiment/model_6_dense_multivariate/assets\n"
          ],
          "name": "stderr"
        },
        {
          "output_type": "stream",
          "text": [
            "Epoch 47/100\n",
            "18/18 [==============================] - 0s 2ms/step - loss: 110.3633 - val_loss: 634.5799\n",
            "Epoch 48/100\n",
            "18/18 [==============================] - 0s 2ms/step - loss: 109.3612 - val_loss: 641.6951\n",
            "Epoch 49/100\n",
            "18/18 [==============================] - 0s 2ms/step - loss: 112.7560 - val_loss: 581.5459\n",
            "INFO:tensorflow:Assets written to: model_experiment/model_6_dense_multivariate/assets\n"
          ],
          "name": "stdout"
        },
        {
          "output_type": "stream",
          "text": [
            "INFO:tensorflow:Assets written to: model_experiment/model_6_dense_multivariate/assets\n"
          ],
          "name": "stderr"
        },
        {
          "output_type": "stream",
          "text": [
            "Epoch 50/100\n",
            "18/18 [==============================] - 0s 4ms/step - loss: 108.7167 - val_loss: 645.5011\n",
            "Epoch 51/100\n",
            "18/18 [==============================] - 0s 4ms/step - loss: 110.1508 - val_loss: 601.1298\n",
            "Epoch 52/100\n",
            "18/18 [==============================] - 0s 3ms/step - loss: 111.2310 - val_loss: 604.3265\n",
            "Epoch 53/100\n",
            "18/18 [==============================] - 0s 3ms/step - loss: 111.7206 - val_loss: 637.5756\n",
            "Epoch 54/100\n",
            "18/18 [==============================] - 0s 3ms/step - loss: 113.4848 - val_loss: 598.4422\n",
            "Epoch 55/100\n",
            "18/18 [==============================] - 0s 2ms/step - loss: 109.9909 - val_loss: 575.7916\n",
            "INFO:tensorflow:Assets written to: model_experiment/model_6_dense_multivariate/assets\n"
          ],
          "name": "stdout"
        },
        {
          "output_type": "stream",
          "text": [
            "INFO:tensorflow:Assets written to: model_experiment/model_6_dense_multivariate/assets\n"
          ],
          "name": "stderr"
        },
        {
          "output_type": "stream",
          "text": [
            "Epoch 56/100\n",
            "18/18 [==============================] - 0s 2ms/step - loss: 108.7174 - val_loss: 778.8631\n",
            "Epoch 57/100\n",
            "18/18 [==============================] - 0s 3ms/step - loss: 124.3417 - val_loss: 684.9158\n",
            "Epoch 58/100\n",
            "18/18 [==============================] - 0s 3ms/step - loss: 113.7253 - val_loss: 578.1146\n",
            "Epoch 59/100\n",
            "18/18 [==============================] - 0s 2ms/step - loss: 106.6668 - val_loss: 587.5103\n",
            "Epoch 60/100\n",
            "18/18 [==============================] - 0s 3ms/step - loss: 107.3718 - val_loss: 604.5582\n",
            "Epoch 61/100\n",
            "18/18 [==============================] - 0s 3ms/step - loss: 107.3559 - val_loss: 579.5593\n",
            "Epoch 62/100\n",
            "18/18 [==============================] - 0s 3ms/step - loss: 107.2274 - val_loss: 601.7722\n",
            "Epoch 63/100\n",
            "18/18 [==============================] - 0s 3ms/step - loss: 109.3449 - val_loss: 615.0784\n",
            "Epoch 64/100\n",
            "18/18 [==============================] - 0s 2ms/step - loss: 108.3509 - val_loss: 611.9874\n",
            "Epoch 65/100\n",
            "18/18 [==============================] - 0s 3ms/step - loss: 108.3863 - val_loss: 575.5403\n",
            "INFO:tensorflow:Assets written to: model_experiment/model_6_dense_multivariate/assets\n"
          ],
          "name": "stdout"
        },
        {
          "output_type": "stream",
          "text": [
            "INFO:tensorflow:Assets written to: model_experiment/model_6_dense_multivariate/assets\n"
          ],
          "name": "stderr"
        },
        {
          "output_type": "stream",
          "text": [
            "Epoch 66/100\n",
            "18/18 [==============================] - 0s 3ms/step - loss: 106.6944 - val_loss: 573.9059\n",
            "INFO:tensorflow:Assets written to: model_experiment/model_6_dense_multivariate/assets\n"
          ],
          "name": "stdout"
        },
        {
          "output_type": "stream",
          "text": [
            "INFO:tensorflow:Assets written to: model_experiment/model_6_dense_multivariate/assets\n"
          ],
          "name": "stderr"
        },
        {
          "output_type": "stream",
          "text": [
            "Epoch 67/100\n",
            "18/18 [==============================] - 0s 4ms/step - loss: 105.8012 - val_loss: 644.8784\n",
            "Epoch 68/100\n",
            "18/18 [==============================] - 0s 3ms/step - loss: 114.2152 - val_loss: 759.9056\n",
            "Epoch 69/100\n",
            "18/18 [==============================] - 0s 4ms/step - loss: 128.8927 - val_loss: 747.0068\n",
            "Epoch 70/100\n",
            "18/18 [==============================] - 0s 3ms/step - loss: 119.2911 - val_loss: 573.7882\n",
            "INFO:tensorflow:Assets written to: model_experiment/model_6_dense_multivariate/assets\n"
          ],
          "name": "stdout"
        },
        {
          "output_type": "stream",
          "text": [
            "INFO:tensorflow:Assets written to: model_experiment/model_6_dense_multivariate/assets\n"
          ],
          "name": "stderr"
        },
        {
          "output_type": "stream",
          "text": [
            "Epoch 71/100\n",
            "18/18 [==============================] - 0s 3ms/step - loss: 108.8960 - val_loss: 594.9144\n",
            "Epoch 72/100\n",
            "18/18 [==============================] - 0s 3ms/step - loss: 106.8408 - val_loss: 573.3409\n",
            "INFO:tensorflow:Assets written to: model_experiment/model_6_dense_multivariate/assets\n"
          ],
          "name": "stdout"
        },
        {
          "output_type": "stream",
          "text": [
            "INFO:tensorflow:Assets written to: model_experiment/model_6_dense_multivariate/assets\n"
          ],
          "name": "stderr"
        },
        {
          "output_type": "stream",
          "text": [
            "Epoch 73/100\n",
            "18/18 [==============================] - 0s 3ms/step - loss: 110.0313 - val_loss: 613.5596\n",
            "Epoch 74/100\n",
            "18/18 [==============================] - 0s 2ms/step - loss: 105.6581 - val_loss: 573.4493\n",
            "Epoch 75/100\n",
            "18/18 [==============================] - 0s 3ms/step - loss: 107.3250 - val_loss: 601.0080\n",
            "Epoch 76/100\n",
            "18/18 [==============================] - 0s 3ms/step - loss: 109.1648 - val_loss: 600.6973\n",
            "Epoch 77/100\n",
            "18/18 [==============================] - 0s 3ms/step - loss: 108.1142 - val_loss: 573.5207\n",
            "Epoch 78/100\n",
            "18/18 [==============================] - 0s 4ms/step - loss: 106.1381 - val_loss: 572.3784\n",
            "INFO:tensorflow:Assets written to: model_experiment/model_6_dense_multivariate/assets\n"
          ],
          "name": "stdout"
        },
        {
          "output_type": "stream",
          "text": [
            "INFO:tensorflow:Assets written to: model_experiment/model_6_dense_multivariate/assets\n"
          ],
          "name": "stderr"
        },
        {
          "output_type": "stream",
          "text": [
            "Epoch 79/100\n",
            "18/18 [==============================] - 0s 4ms/step - loss: 105.6354 - val_loss: 584.2409\n",
            "Epoch 80/100\n",
            "18/18 [==============================] - 0s 3ms/step - loss: 106.1935 - val_loss: 619.4912\n",
            "Epoch 81/100\n",
            "18/18 [==============================] - 0s 3ms/step - loss: 107.9335 - val_loss: 583.5971\n",
            "Epoch 82/100\n",
            "18/18 [==============================] - 0s 3ms/step - loss: 113.6058 - val_loss: 579.9244\n",
            "Epoch 83/100\n",
            "18/18 [==============================] - 0s 3ms/step - loss: 109.1223 - val_loss: 681.4485\n",
            "Epoch 84/100\n",
            "18/18 [==============================] - 0s 3ms/step - loss: 110.6905 - val_loss: 577.3406\n",
            "Epoch 85/100\n",
            "18/18 [==============================] - 0s 3ms/step - loss: 106.0431 - val_loss: 575.2925\n",
            "Epoch 86/100\n",
            "18/18 [==============================] - 0s 4ms/step - loss: 105.3411 - val_loss: 572.0657\n",
            "INFO:tensorflow:Assets written to: model_experiment/model_6_dense_multivariate/assets\n"
          ],
          "name": "stdout"
        },
        {
          "output_type": "stream",
          "text": [
            "INFO:tensorflow:Assets written to: model_experiment/model_6_dense_multivariate/assets\n"
          ],
          "name": "stderr"
        },
        {
          "output_type": "stream",
          "text": [
            "Epoch 87/100\n",
            "18/18 [==============================] - 0s 3ms/step - loss: 104.5582 - val_loss: 579.4239\n",
            "Epoch 88/100\n",
            "18/18 [==============================] - 0s 3ms/step - loss: 106.3576 - val_loss: 572.0084\n",
            "INFO:tensorflow:Assets written to: model_experiment/model_6_dense_multivariate/assets\n"
          ],
          "name": "stdout"
        },
        {
          "output_type": "stream",
          "text": [
            "INFO:tensorflow:Assets written to: model_experiment/model_6_dense_multivariate/assets\n"
          ],
          "name": "stderr"
        },
        {
          "output_type": "stream",
          "text": [
            "Epoch 89/100\n",
            "18/18 [==============================] - 0s 3ms/step - loss: 106.5800 - val_loss: 569.0441\n",
            "INFO:tensorflow:Assets written to: model_experiment/model_6_dense_multivariate/assets\n"
          ],
          "name": "stdout"
        },
        {
          "output_type": "stream",
          "text": [
            "INFO:tensorflow:Assets written to: model_experiment/model_6_dense_multivariate/assets\n"
          ],
          "name": "stderr"
        },
        {
          "output_type": "stream",
          "text": [
            "Epoch 90/100\n",
            "18/18 [==============================] - 0s 3ms/step - loss: 105.4564 - val_loss: 587.3221\n",
            "Epoch 91/100\n",
            "18/18 [==============================] - 0s 2ms/step - loss: 107.9576 - val_loss: 580.5127\n",
            "Epoch 92/100\n",
            "18/18 [==============================] - 0s 2ms/step - loss: 109.1998 - val_loss: 570.5359\n",
            "Epoch 93/100\n",
            "18/18 [==============================] - 0s 3ms/step - loss: 112.9918 - val_loss: 585.0020\n",
            "Epoch 94/100\n",
            "18/18 [==============================] - 0s 3ms/step - loss: 106.8661 - val_loss: 575.0275\n",
            "Epoch 95/100\n",
            "18/18 [==============================] - 0s 4ms/step - loss: 104.2228 - val_loss: 568.6847\n",
            "INFO:tensorflow:Assets written to: model_experiment/model_6_dense_multivariate/assets\n"
          ],
          "name": "stdout"
        },
        {
          "output_type": "stream",
          "text": [
            "INFO:tensorflow:Assets written to: model_experiment/model_6_dense_multivariate/assets\n"
          ],
          "name": "stderr"
        },
        {
          "output_type": "stream",
          "text": [
            "Epoch 96/100\n",
            "18/18 [==============================] - 0s 2ms/step - loss: 105.9429 - val_loss: 580.5919\n",
            "Epoch 97/100\n",
            "18/18 [==============================] - 0s 3ms/step - loss: 105.8312 - val_loss: 590.2090\n",
            "Epoch 98/100\n",
            "18/18 [==============================] - 0s 2ms/step - loss: 106.2924 - val_loss: 571.1111\n",
            "Epoch 99/100\n",
            "18/18 [==============================] - 0s 2ms/step - loss: 105.7491 - val_loss: 568.4504\n",
            "INFO:tensorflow:Assets written to: model_experiment/model_6_dense_multivariate/assets\n"
          ],
          "name": "stdout"
        },
        {
          "output_type": "stream",
          "text": [
            "INFO:tensorflow:Assets written to: model_experiment/model_6_dense_multivariate/assets\n"
          ],
          "name": "stderr"
        },
        {
          "output_type": "stream",
          "text": [
            "Epoch 100/100\n",
            "18/18 [==============================] - 0s 3ms/step - loss: 110.5453 - val_loss: 660.5474\n"
          ],
          "name": "stdout"
        },
        {
          "output_type": "execute_result",
          "data": {
            "text/plain": [
              "<tensorflow.python.keras.callbacks.History at 0x7f073f166590>"
            ]
          },
          "metadata": {
            "tags": []
          },
          "execution_count": 217
        }
      ]
    },
    {
      "cell_type": "code",
      "metadata": {
        "colab": {
          "base_uri": "https://localhost:8080/"
        },
        "id": "7qqKiVu3wTGm",
        "outputId": "6cc2fde6-be24-496e-ec98-cfbbfe524b82"
      },
      "source": [
        "model_6 = tf.keras.models.load_model(\"/content/model_experiment/model_6_dense_multivariate\")\n",
        "\n",
        "model_6_preds = make_preds(model_6, X_test)\n",
        "\n",
        "model_6_results = evaluate_preds(tf.squeeze(y_test), tf.squeeze(model_6_preds))\n",
        "\n",
        "model_6_results"
      ],
      "execution_count": 221,
      "outputs": [
        {
          "output_type": "execute_result",
          "data": {
            "text/plain": [
              "{'mae': 568.45056,\n",
              " 'mape': 2.54978,\n",
              " 'mase': 0.9986102,\n",
              " 'mse': 1166160.8,\n",
              " 'rmse': 1079.8893}"
            ]
          },
          "metadata": {
            "tags": []
          },
          "execution_count": 221
        }
      ]
    },
    {
      "cell_type": "code",
      "metadata": {
        "colab": {
          "base_uri": "https://localhost:8080/"
        },
        "id": "G2OZYMJ6wf_Q",
        "outputId": "c74e2ea8-8898-405a-bbdb-e3c7a868a075"
      },
      "source": [
        "model_1_results"
      ],
      "execution_count": 222,
      "outputs": [
        {
          "output_type": "execute_result",
          "data": {
            "text/plain": [
              "{'mae': 568.5498,\n",
              " 'mape': 2.549229,\n",
              " 'mase': 0.99878454,\n",
              " 'mse': 1172587.5,\n",
              " 'rmse': 1082.8608}"
            ]
          },
          "metadata": {
            "tags": []
          },
          "execution_count": 222
        }
      ]
    }
  ]
}