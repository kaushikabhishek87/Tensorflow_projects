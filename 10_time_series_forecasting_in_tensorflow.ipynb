{
  "nbformat": 4,
  "nbformat_minor": 0,
  "metadata": {
    "colab": {
      "name": "10_time_series_forecasting_in_tensorflow.ipynb",
      "provenance": [],
      "collapsed_sections": [],
      "authorship_tag": "ABX9TyOu9tA5hsCcqtcLU+lEzI6R",
      "include_colab_link": true
    },
    "kernelspec": {
      "name": "python3",
      "display_name": "Python 3"
    },
    "language_info": {
      "name": "python"
    }
  },
  "cells": [
    {
      "cell_type": "markdown",
      "metadata": {
        "id": "view-in-github",
        "colab_type": "text"
      },
      "source": [
        "<a href=\"https://colab.research.google.com/github/kaushikabhishek87/Tensorflow_projects/blob/main/10_time_series_forecasting_in_tensorflow.ipynb\" target=\"_parent\"><img src=\"https://colab.research.google.com/assets/colab-badge.svg\" alt=\"Open In Colab\"/></a>"
      ]
    },
    {
      "cell_type": "markdown",
      "metadata": {
        "id": "1vxw9ZR7tCrl"
      },
      "source": [
        "## Get data"
      ]
    },
    {
      "cell_type": "code",
      "metadata": {
        "colab": {
          "base_uri": "https://localhost:8080/"
        },
        "id": "f9R65oOSEUnZ",
        "outputId": "9ed5234b-acb4-48af-f395-bfa98569cd73"
      },
      "source": [
        "!wget https://raw.githubusercontent.com/mrdbourke/tensorflow-deep-learning/main/extras/BTC_USD_2013-10-01_2021-05-18-CoinDesk.csv"
      ],
      "execution_count": 1,
      "outputs": [
        {
          "output_type": "stream",
          "text": [
            "--2021-07-26 05:32:31--  https://raw.githubusercontent.com/mrdbourke/tensorflow-deep-learning/main/extras/BTC_USD_2013-10-01_2021-05-18-CoinDesk.csv\n",
            "Resolving raw.githubusercontent.com (raw.githubusercontent.com)... 185.199.108.133, 185.199.109.133, 185.199.110.133, ...\n",
            "Connecting to raw.githubusercontent.com (raw.githubusercontent.com)|185.199.108.133|:443... connected.\n",
            "HTTP request sent, awaiting response... 200 OK\n",
            "Length: 178509 (174K) [text/plain]\n",
            "Saving to: ‘BTC_USD_2013-10-01_2021-05-18-CoinDesk.csv’\n",
            "\n",
            "BTC_USD_2013-10-01_ 100%[===================>] 174.33K  --.-KB/s    in 0.02s   \n",
            "\n",
            "2021-07-26 05:32:31 (7.09 MB/s) - ‘BTC_USD_2013-10-01_2021-05-18-CoinDesk.csv’ saved [178509/178509]\n",
            "\n"
          ],
          "name": "stdout"
        }
      ]
    },
    {
      "cell_type": "code",
      "metadata": {
        "colab": {
          "base_uri": "https://localhost:8080/",
          "height": 235
        },
        "id": "NchojBRJtv1b",
        "outputId": "94aa6f00-3f95-4775-8aa9-88f354877487"
      },
      "source": [
        "import pandas as pd\n",
        "\n",
        "df = pd.read_csv(\"BTC_USD_2013-10-01_2021-05-18-CoinDesk.csv\", parse_dates=[\"Date\"], index_col=[\"Date\"])\n",
        "df.head()"
      ],
      "execution_count": 2,
      "outputs": [
        {
          "output_type": "execute_result",
          "data": {
            "text/html": [
              "<div>\n",
              "<style scoped>\n",
              "    .dataframe tbody tr th:only-of-type {\n",
              "        vertical-align: middle;\n",
              "    }\n",
              "\n",
              "    .dataframe tbody tr th {\n",
              "        vertical-align: top;\n",
              "    }\n",
              "\n",
              "    .dataframe thead th {\n",
              "        text-align: right;\n",
              "    }\n",
              "</style>\n",
              "<table border=\"1\" class=\"dataframe\">\n",
              "  <thead>\n",
              "    <tr style=\"text-align: right;\">\n",
              "      <th></th>\n",
              "      <th>Currency</th>\n",
              "      <th>Closing Price (USD)</th>\n",
              "      <th>24h Open (USD)</th>\n",
              "      <th>24h High (USD)</th>\n",
              "      <th>24h Low (USD)</th>\n",
              "    </tr>\n",
              "    <tr>\n",
              "      <th>Date</th>\n",
              "      <th></th>\n",
              "      <th></th>\n",
              "      <th></th>\n",
              "      <th></th>\n",
              "      <th></th>\n",
              "    </tr>\n",
              "  </thead>\n",
              "  <tbody>\n",
              "    <tr>\n",
              "      <th>2013-10-01</th>\n",
              "      <td>BTC</td>\n",
              "      <td>123.65499</td>\n",
              "      <td>124.30466</td>\n",
              "      <td>124.75166</td>\n",
              "      <td>122.56349</td>\n",
              "    </tr>\n",
              "    <tr>\n",
              "      <th>2013-10-02</th>\n",
              "      <td>BTC</td>\n",
              "      <td>125.45500</td>\n",
              "      <td>123.65499</td>\n",
              "      <td>125.75850</td>\n",
              "      <td>123.63383</td>\n",
              "    </tr>\n",
              "    <tr>\n",
              "      <th>2013-10-03</th>\n",
              "      <td>BTC</td>\n",
              "      <td>108.58483</td>\n",
              "      <td>125.45500</td>\n",
              "      <td>125.66566</td>\n",
              "      <td>83.32833</td>\n",
              "    </tr>\n",
              "    <tr>\n",
              "      <th>2013-10-04</th>\n",
              "      <td>BTC</td>\n",
              "      <td>118.67466</td>\n",
              "      <td>108.58483</td>\n",
              "      <td>118.67500</td>\n",
              "      <td>107.05816</td>\n",
              "    </tr>\n",
              "    <tr>\n",
              "      <th>2013-10-05</th>\n",
              "      <td>BTC</td>\n",
              "      <td>121.33866</td>\n",
              "      <td>118.67466</td>\n",
              "      <td>121.93633</td>\n",
              "      <td>118.00566</td>\n",
              "    </tr>\n",
              "  </tbody>\n",
              "</table>\n",
              "</div>"
            ],
            "text/plain": [
              "           Currency  Closing Price (USD)  ...  24h High (USD)  24h Low (USD)\n",
              "Date                                      ...                               \n",
              "2013-10-01      BTC            123.65499  ...       124.75166      122.56349\n",
              "2013-10-02      BTC            125.45500  ...       125.75850      123.63383\n",
              "2013-10-03      BTC            108.58483  ...       125.66566       83.32833\n",
              "2013-10-04      BTC            118.67466  ...       118.67500      107.05816\n",
              "2013-10-05      BTC            121.33866  ...       121.93633      118.00566\n",
              "\n",
              "[5 rows x 5 columns]"
            ]
          },
          "metadata": {
            "tags": []
          },
          "execution_count": 2
        }
      ]
    },
    {
      "cell_type": "code",
      "metadata": {
        "colab": {
          "base_uri": "https://localhost:8080/"
        },
        "id": "6B3wqXgmuKvR",
        "outputId": "c3378c8d-a69d-41a7-d5de-166d979ac01f"
      },
      "source": [
        "df.info()"
      ],
      "execution_count": 3,
      "outputs": [
        {
          "output_type": "stream",
          "text": [
            "<class 'pandas.core.frame.DataFrame'>\n",
            "DatetimeIndex: 2787 entries, 2013-10-01 to 2021-05-18\n",
            "Data columns (total 5 columns):\n",
            " #   Column               Non-Null Count  Dtype  \n",
            "---  ------               --------------  -----  \n",
            " 0   Currency             2787 non-null   object \n",
            " 1   Closing Price (USD)  2787 non-null   float64\n",
            " 2   24h Open (USD)       2787 non-null   float64\n",
            " 3   24h High (USD)       2787 non-null   float64\n",
            " 4   24h Low (USD)        2787 non-null   float64\n",
            "dtypes: float64(4), object(1)\n",
            "memory usage: 130.6+ KB\n"
          ],
          "name": "stdout"
        }
      ]
    },
    {
      "cell_type": "code",
      "metadata": {
        "colab": {
          "base_uri": "https://localhost:8080/",
          "height": 235
        },
        "id": "zifkPwa2zx07",
        "outputId": "1462dab6-51a5-4bc9-bfdf-28903f7ef6a8"
      },
      "source": [
        "bitcoin_prices = pd.DataFrame(df[\"Closing Price (USD)\"]).rename(columns={\"Closing Price (USD)\":\"Price\"})\n",
        "bitcoin_prices.head()"
      ],
      "execution_count": 4,
      "outputs": [
        {
          "output_type": "execute_result",
          "data": {
            "text/html": [
              "<div>\n",
              "<style scoped>\n",
              "    .dataframe tbody tr th:only-of-type {\n",
              "        vertical-align: middle;\n",
              "    }\n",
              "\n",
              "    .dataframe tbody tr th {\n",
              "        vertical-align: top;\n",
              "    }\n",
              "\n",
              "    .dataframe thead th {\n",
              "        text-align: right;\n",
              "    }\n",
              "</style>\n",
              "<table border=\"1\" class=\"dataframe\">\n",
              "  <thead>\n",
              "    <tr style=\"text-align: right;\">\n",
              "      <th></th>\n",
              "      <th>Price</th>\n",
              "    </tr>\n",
              "    <tr>\n",
              "      <th>Date</th>\n",
              "      <th></th>\n",
              "    </tr>\n",
              "  </thead>\n",
              "  <tbody>\n",
              "    <tr>\n",
              "      <th>2013-10-01</th>\n",
              "      <td>123.65499</td>\n",
              "    </tr>\n",
              "    <tr>\n",
              "      <th>2013-10-02</th>\n",
              "      <td>125.45500</td>\n",
              "    </tr>\n",
              "    <tr>\n",
              "      <th>2013-10-03</th>\n",
              "      <td>108.58483</td>\n",
              "    </tr>\n",
              "    <tr>\n",
              "      <th>2013-10-04</th>\n",
              "      <td>118.67466</td>\n",
              "    </tr>\n",
              "    <tr>\n",
              "      <th>2013-10-05</th>\n",
              "      <td>121.33866</td>\n",
              "    </tr>\n",
              "  </tbody>\n",
              "</table>\n",
              "</div>"
            ],
            "text/plain": [
              "                Price\n",
              "Date                 \n",
              "2013-10-01  123.65499\n",
              "2013-10-02  125.45500\n",
              "2013-10-03  108.58483\n",
              "2013-10-04  118.67466\n",
              "2013-10-05  121.33866"
            ]
          },
          "metadata": {
            "tags": []
          },
          "execution_count": 4
        }
      ]
    },
    {
      "cell_type": "code",
      "metadata": {
        "id": "4rn9nQFauwnp"
      },
      "source": [
        "import seaborn as sns\n",
        "import matplotlib.pyplot as plt"
      ],
      "execution_count": 5,
      "outputs": []
    },
    {
      "cell_type": "code",
      "metadata": {
        "colab": {
          "base_uri": "https://localhost:8080/",
          "height": 492
        },
        "id": "ndOwcbXWzMjx",
        "outputId": "250b2046-adab-40cf-8261-ca28ec50e904"
      },
      "source": [
        "plt.figure(figsize=(10,7))\n",
        "sns.lineplot(x=bitcoin_prices.index, y=bitcoin_prices[\"Price\"], legend=True)\n",
        "plt.title(\"Price of Bitcoin\")\n",
        "plt.legend(fontsize=14)"
      ],
      "execution_count": 6,
      "outputs": [
        {
          "output_type": "stream",
          "text": [
            "No handles with labels found to put in legend.\n"
          ],
          "name": "stderr"
        },
        {
          "output_type": "execute_result",
          "data": {
            "text/plain": [
              "<matplotlib.legend.Legend at 0x7f8d76cac650>"
            ]
          },
          "metadata": {
            "tags": []
          },
          "execution_count": 6
        },
        {
          "output_type": "display_data",
          "data": {
            "image/png": "[encoded data removed]",
            "text/plain": [
              "<Figure size 720x504 with 1 Axes>"
            ]
          },
          "metadata": {
            "tags": [],
            "needs_background": "light"
          }
        }
      ]
    },
    {
      "cell_type": "markdown",
      "metadata": {
        "id": "lgww4rVhzZjA"
      },
      "source": [
        "## Reading data with CSV modules"
      ]
    },
    {
      "cell_type": "code",
      "metadata": {
        "id": "urEhUM4D0_5q"
      },
      "source": [
        "import csv\n",
        "from datetime import datetime\n",
        "\n",
        "timesteps = []\n",
        "btc_price = []\n",
        "\n",
        "with open(\"/content/BTC_USD_2013-10-01_2021-05-18-CoinDesk.csv\",\"r\") as f:\n",
        "  csv_reader = csv.reader( f, delimiter = \",\")\n",
        "  next(csv_reader) #skip first line\n",
        "  for line in csv_reader:\n",
        "    timesteps.append(datetime.strptime(line[1], \"%Y-%m-%d\")) \n",
        "    btc_price.append(float(line[2]))"
      ],
      "execution_count": 7,
      "outputs": []
    },
    {
      "cell_type": "code",
      "metadata": {
        "colab": {
          "base_uri": "https://localhost:8080/"
        },
        "id": "FWgq89mn2hzJ",
        "outputId": "ae6fc852-3898-4545-ad3c-504f291229ec"
      },
      "source": [
        "timesteps[:10], btc_price[:10]"
      ],
      "execution_count": 8,
      "outputs": [
        {
          "output_type": "execute_result",
          "data": {
            "text/plain": [
              "([datetime.datetime(2013, 10, 1, 0, 0),\n",
              "  datetime.datetime(2013, 10, 2, 0, 0),\n",
              "  datetime.datetime(2013, 10, 3, 0, 0),\n",
              "  datetime.datetime(2013, 10, 4, 0, 0),\n",
              "  datetime.datetime(2013, 10, 5, 0, 0),\n",
              "  datetime.datetime(2013, 10, 6, 0, 0),\n",
              "  datetime.datetime(2013, 10, 7, 0, 0),\n",
              "  datetime.datetime(2013, 10, 8, 0, 0),\n",
              "  datetime.datetime(2013, 10, 9, 0, 0),\n",
              "  datetime.datetime(2013, 10, 10, 0, 0)],\n",
              " [123.65499,\n",
              "  125.455,\n",
              "  108.58483,\n",
              "  118.67466,\n",
              "  121.33866,\n",
              "  120.65533,\n",
              "  121.795,\n",
              "  123.033,\n",
              "  124.049,\n",
              "  125.96116])"
            ]
          },
          "metadata": {
            "tags": []
          },
          "execution_count": 8
        }
      ]
    },
    {
      "cell_type": "code",
      "metadata": {
        "colab": {
          "base_uri": "https://localhost:8080/",
          "height": 445
        },
        "id": "bZGlrPqv2_tf",
        "outputId": "04aeddb1-1e95-48df-8e01-d5b6bd738841"
      },
      "source": [
        "plt.figure(figsize=(10,7))\n",
        "sns.lineplot(x=timesteps, y=btc_price)"
      ],
      "execution_count": 9,
      "outputs": [
        {
          "output_type": "execute_result",
          "data": {
            "text/plain": [
              "<matplotlib.axes._subplots.AxesSubplot at 0x7f8d761d3510>"
            ]
          },
          "metadata": {
            "tags": []
          },
          "execution_count": 9
        },
        {
          "output_type": "display_data",
          "data": {
            "image/png": "[encoded data removed]",
            "text/plain": [
              "<Figure size 720x504 with 1 Axes>"
            ]
          },
          "metadata": {
            "tags": [],
            "needs_background": "light"
          }
        }
      ]
    },
    {
      "cell_type": "markdown",
      "metadata": {
        "id": "AIBaVk2t3Z_Q"
      },
      "source": [
        "## Create train & test set"
      ]
    },
    {
      "cell_type": "code",
      "metadata": {
        "id": "_u4W_UQd4Bfr",
        "colab": {
          "base_uri": "https://localhost:8080/"
        },
        "outputId": "92dd4a0b-6905-4fba-a48e-46d8dab843da"
      },
      "source": [
        "split_size = int(0.8*len(btc_price)) # 80% train / 20% test\n",
        "split_size"
      ],
      "execution_count": 10,
      "outputs": [
        {
          "output_type": "execute_result",
          "data": {
            "text/plain": [
              "2229"
            ]
          },
          "metadata": {
            "tags": []
          },
          "execution_count": 10
        }
      ]
    },
    {
      "cell_type": "code",
      "metadata": {
        "colab": {
          "base_uri": "https://localhost:8080/"
        },
        "id": "NF7p_fbAYgJj",
        "outputId": "cf3a11a1-82db-40a4-856b-1bff40e8a89b"
      },
      "source": [
        "X_train, y_train = timesteps[:split_size], btc_price[:split_size]\n",
        "X_test, y_test = timesteps[split_size:], btc_price[split_size:]\n",
        "\n",
        "len(X_train), len(X_test)"
      ],
      "execution_count": 11,
      "outputs": [
        {
          "output_type": "execute_result",
          "data": {
            "text/plain": [
              "(2229, 558)"
            ]
          },
          "metadata": {
            "tags": []
          },
          "execution_count": 11
        }
      ]
    },
    {
      "cell_type": "code",
      "metadata": {
        "colab": {
          "base_uri": "https://localhost:8080/",
          "height": 459
        },
        "id": "_pLEfHZ-ZAeZ",
        "outputId": "330b0cd9-f71c-42d0-8b4e-c93e38a18f63"
      },
      "source": [
        "plt.figure(figsize=(10,7))\n",
        "sns.scatterplot(x=X_train,y=y_train, label=\"Train\")\n",
        "sns.scatterplot(x=X_test,y=y_test, label=\"Test\")\n",
        "plt.xlabel(\"Time\")\n",
        "plt.ylabel(\"BTC Prices\")"
      ],
      "execution_count": 12,
      "outputs": [
        {
          "output_type": "execute_result",
          "data": {
            "text/plain": [
              "Text(0, 0.5, 'BTC Prices')"
            ]
          },
          "metadata": {
            "tags": []
          },
          "execution_count": 12
        },
        {
          "output_type": "display_data",
          "data": {
            "image/png": "[encoded data removed]",
            "text/plain": [
              "<Figure size 720x504 with 1 Axes>"
            ]
          },
          "metadata": {
            "tags": [],
            "needs_background": "light"
          }
        }
      ]
    },
    {
      "cell_type": "markdown",
      "metadata": {
        "id": "dSatk6Lfu8BP"
      },
      "source": [
        "## Naive Model"
      ]
    },
    {
      "cell_type": "code",
      "metadata": {
        "colab": {
          "base_uri": "https://localhost:8080/"
        },
        "id": "sxTyc6Guv66l",
        "outputId": "e6f4c5ba-686b-434b-f640-b24c56e6c10a"
      },
      "source": [
        "naive_forecast =y_test[:-1]\n",
        "\n",
        "naive_forecast[:10], naive_forecast[-10:]"
      ],
      "execution_count": 13,
      "outputs": [
        {
          "output_type": "execute_result",
          "data": {
            "text/plain": [
              "([9226.4858208826,\n",
              "  8794.3586445233,\n",
              "  8798.0420546256,\n",
              "  9081.1868784913,\n",
              "  8711.5343391679,\n",
              "  8760.8927181435,\n",
              "  8749.520591019,\n",
              "  8656.970922354,\n",
              "  8500.6435581622,\n",
              "  8469.2608988992],\n",
              " [57107.1206718864,\n",
              "  58788.2096789273,\n",
              "  58102.1914262342,\n",
              "  55715.5466512869,\n",
              "  56573.5554719043,\n",
              "  52147.8211869823,\n",
              "  49764.1320815975,\n",
              "  50032.6931367648,\n",
              "  47885.6252547166,\n",
              "  45604.6157536131])"
            ]
          },
          "metadata": {
            "tags": []
          },
          "execution_count": 13
        }
      ]
    },
    {
      "cell_type": "code",
      "metadata": {
        "colab": {
          "base_uri": "https://localhost:8080/",
          "height": 459
        },
        "id": "xWN38tWSxAyd",
        "outputId": "d8b19876-7152-44e8-f2d5-936c89a18c19"
      },
      "source": [
        "plt.figure(figsize=(10,7))\n",
        "# sns.scatterplot(x=X_train,y=y_train, label=\"Train\")\n",
        "sns.scatterplot(x=X_test,y=y_test, label=\"Test\")\n",
        "sns.lineplot(x=X_test[1:], y=naive_forecast , label=\"Naive forecast\")\n",
        "plt.xlabel(\"Time\")\n",
        "plt.ylabel(\"BTC Prices\")"
      ],
      "execution_count": 14,
      "outputs": [
        {
          "output_type": "execute_result",
          "data": {
            "text/plain": [
              "Text(0, 0.5, 'BTC Prices')"
            ]
          },
          "metadata": {
            "tags": []
          },
          "execution_count": 14
        },
        {
          "output_type": "display_data",
          "data": {
            "image/png": "[encoded data removed]",
            "text/plain": [
              "<Figure size 720x504 with 1 Axes>"
            ]
          },
          "metadata": {
            "tags": [],
            "needs_background": "light"
          }
        }
      ]
    },
    {
      "cell_type": "code",
      "metadata": {
        "id": "5jJGTISoxkn1"
      },
      "source": [
        "## Evaluating a time series"
      ],
      "execution_count": 15,
      "outputs": []
    },
    {
      "cell_type": "code",
      "metadata": {
        "id": "Birk0Ffgy_Ov"
      },
      "source": [
        "import tensorflow as tf"
      ],
      "execution_count": 16,
      "outputs": []
    },
    {
      "cell_type": "code",
      "metadata": {
        "id": "92-_Z17Z39Dj"
      },
      "source": [
        "import numpy as np\n",
        "# MASE implementation\n",
        "def mean_absolute_scaled_error(y_true, y_pred):\n",
        "\n",
        "  y_true = np.array(y_true)\n",
        "  y_pred = np.array(y_pred)\n",
        "\n",
        "  mae = tf.reduce_mean(tf.abs(y_true - y_pred))\n",
        "\n",
        "  # Find the MAE of naive forecast\n",
        "  mae_naive_no_season = tf.reduce_mean(tf.abs(y_true[1:] - y_true[:-1])) # Our seasonlaity is 1 day (hence the shift of 1)\n",
        "\n",
        "  return mae / mae_naive_no_season"
      ],
      "execution_count": 17,
      "outputs": []
    },
    {
      "cell_type": "code",
      "metadata": {
        "colab": {
          "base_uri": "https://localhost:8080/"
        },
        "id": "Z25X0_o65Bda",
        "outputId": "17ba9a53-ea97-4f5e-8e86-cf1f5dd949f6"
      },
      "source": [
        "mean_absolute_scaled_error(y_true=y_test[1:], y_pred=naive_forecast).numpy()"
      ],
      "execution_count": 18,
      "outputs": [
        {
          "output_type": "execute_result",
          "data": {
            "text/plain": [
              "0.9995699939182626"
            ]
          },
          "metadata": {
            "tags": []
          },
          "execution_count": 18
        }
      ]
    },
    {
      "cell_type": "code",
      "metadata": {
        "id": "SFxS_Xd_5KAc"
      },
      "source": [
        "def evaluate_preds(y_true, y_pred):\n",
        "  y_true = tf.cast(y_true, dtype=tf.float32)\n",
        "  y_pred = tf.cast(y_pred, dtype=tf.float32)\n",
        "\n",
        "  mae = tf.keras.metrics.mean_absolute_error(y_true, y_pred)\n",
        "\n",
        "  mse = tf.keras.metrics.mean_squared_error(y_true, y_pred)\n",
        "\n",
        "  rmse = tf.sqrt(mse)\n",
        "\n",
        "  mape = tf.keras.metrics.mean_absolute_percentage_error(y_true, y_pred)\n",
        "\n",
        "  mase = mean_absolute_scaled_error(y_true, y_pred)\n",
        "\n",
        "  return {\"mae\": mae.numpy(),\n",
        "          \"mse\":mse.numpy(),\n",
        "          \"rmse\":rmse.numpy(),\n",
        "          \"mape\":mape.numpy(),\n",
        "          \"mase\":mase.numpy()}\n",
        "\n",
        "\n",
        "\n"
      ],
      "execution_count": 19,
      "outputs": []
    },
    {
      "cell_type": "code",
      "metadata": {
        "colab": {
          "base_uri": "https://localhost:8080/"
        },
        "id": "lD4ls6CkxeUr",
        "outputId": "0b49129e-1faa-4a5a-8380-5113d9ce14a5"
      },
      "source": [
        "naive_results = evaluate_preds(y_true=y_test[1:], y_pred=naive_forecast)\n",
        "naive_results"
      ],
      "execution_count": 20,
      "outputs": [
        {
          "output_type": "execute_result",
          "data": {
            "text/plain": [
              "{'mae': 567.9802,\n",
              " 'mape': 2.516525,\n",
              " 'mase': 0.99957,\n",
              " 'mse': 1147547.0,\n",
              " 'rmse': 1071.2362}"
            ]
          },
          "metadata": {
            "tags": []
          },
          "execution_count": 20
        }
      ]
    },
    {
      "cell_type": "code",
      "metadata": {
        "colab": {
          "base_uri": "https://localhost:8080/"
        },
        "id": "BYHGSe9wxkdX",
        "outputId": "079921cd-fc84-4792-ec2b-c8d9d282970b"
      },
      "source": [
        "tf.reduce_mean(y_test).numpy(), tf.reduce_max(y_test).numpy()"
      ],
      "execution_count": 21,
      "outputs": [
        {
          "output_type": "execute_result",
          "data": {
            "text/plain": [
              "(20056.633, 63346.79)"
            ]
          },
          "metadata": {
            "tags": []
          },
          "execution_count": 21
        }
      ]
    },
    {
      "cell_type": "markdown",
      "metadata": {
        "id": "l1QAbmUeyP13"
      },
      "source": [
        "## Format data - Windowing data"
      ]
    },
    {
      "cell_type": "code",
      "metadata": {
        "colab": {
          "base_uri": "https://localhost:8080/"
        },
        "id": "5u6bFKRS1Zkn",
        "outputId": "eedc31c8-9715-4c56-e191-62a63b50e409"
      },
      "source": [
        "# Window size = 7, Horizon = 1\n",
        "btc_price[:7], btc_price[7]"
      ],
      "execution_count": 22,
      "outputs": [
        {
          "output_type": "execute_result",
          "data": {
            "text/plain": [
              "([123.65499, 125.455, 108.58483, 118.67466, 121.33866, 120.65533, 121.795],\n",
              " 123.033)"
            ]
          },
          "metadata": {
            "tags": []
          },
          "execution_count": 22
        }
      ]
    },
    {
      "cell_type": "code",
      "metadata": {
        "colab": {
          "base_uri": "https://localhost:8080/"
        },
        "id": "dbjbclxm2L1G",
        "outputId": "3d011d3e-f824-41da-97d1-93894e881af0"
      },
      "source": [
        "btc_price[:8]"
      ],
      "execution_count": 23,
      "outputs": [
        {
          "output_type": "execute_result",
          "data": {
            "text/plain": [
              "[123.65499,\n",
              " 125.455,\n",
              " 108.58483,\n",
              " 118.67466,\n",
              " 121.33866,\n",
              " 120.65533,\n",
              " 121.795,\n",
              " 123.033]"
            ]
          },
          "metadata": {
            "tags": []
          },
          "execution_count": 23
        }
      ]
    },
    {
      "cell_type": "code",
      "metadata": {
        "id": "hmzLPzFd1fyl"
      },
      "source": [
        "HORIZON = 1\n",
        "WINDOW_SIZE = 7"
      ],
      "execution_count": 24,
      "outputs": []
    },
    {
      "cell_type": "code",
      "metadata": {
        "id": "JoYL3o_S1-CX"
      },
      "source": [
        "def get_labelled_window(x, horizon=HORIZON):\n",
        "\n",
        "  return x[: , :-horizon], x[:, -horizon:]\n"
      ],
      "execution_count": 25,
      "outputs": []
    },
    {
      "cell_type": "code",
      "metadata": {
        "colab": {
          "base_uri": "https://localhost:8080/"
        },
        "id": "-mL49pH02p2h",
        "outputId": "4b2c50df-802b-481e-d499-dab580cce9ed"
      },
      "source": [
        "test_window, test_label = get_labelled_window(tf.expand_dims(tf.range(8), axis=0))\n",
        "\n",
        "test_window, test_label"
      ],
      "execution_count": 26,
      "outputs": [
        {
          "output_type": "execute_result",
          "data": {
            "text/plain": [
              "(<tf.Tensor: shape=(1, 7), dtype=int32, numpy=array([[0, 1, 2, 3, 4, 5, 6]], dtype=int32)>,\n",
              " <tf.Tensor: shape=(1, 1), dtype=int32, numpy=array([[7]], dtype=int32)>)"
            ]
          },
          "metadata": {
            "tags": []
          },
          "execution_count": 26
        }
      ]
    },
    {
      "cell_type": "code",
      "metadata": {
        "colab": {
          "base_uri": "https://localhost:8080/"
        },
        "id": "MEagbUmW2ubx",
        "outputId": "36bfd808-0726-4154-f4dd-6edec6c01512"
      },
      "source": [
        "tf.expand_dims(tf.range(8), axis=0)"
      ],
      "execution_count": 27,
      "outputs": [
        {
          "output_type": "execute_result",
          "data": {
            "text/plain": [
              "<tf.Tensor: shape=(1, 8), dtype=int32, numpy=array([[0, 1, 2, 3, 4, 5, 6, 7]], dtype=int32)>"
            ]
          },
          "metadata": {
            "tags": []
          },
          "execution_count": 27
        }
      ]
    },
    {
      "cell_type": "code",
      "metadata": {
        "colab": {
          "base_uri": "https://localhost:8080/"
        },
        "id": "R-h7lSDD3ALQ",
        "outputId": "667ca413-6994-44d1-8c00-c524aa2de415"
      },
      "source": [
        "type(btc_price)"
      ],
      "execution_count": 28,
      "outputs": [
        {
          "output_type": "execute_result",
          "data": {
            "text/plain": [
              "list"
            ]
          },
          "metadata": {
            "tags": []
          },
          "execution_count": 28
        }
      ]
    },
    {
      "cell_type": "markdown",
      "metadata": {
        "id": "MqaahZRg5hed"
      },
      "source": [
        "### Using numpy array indexing for creating Horizon & Window -  faster than Python for loops"
      ]
    },
    {
      "cell_type": "code",
      "metadata": {
        "id": "T8HoEjhH5yGO"
      },
      "source": [
        "def make_windows(x, window_size=WINDOW_SIZE, horizon= HORIZON):\n",
        "\n",
        "  window_step = np.expand_dims(np.arange(window_size+horizon), axis=0)\n",
        "\n",
        "  window_indexes = window_step + np.expand_dims(np.arange(len(x) - (window_size+horizon - 1)  ), axis=0).T\n",
        "\n",
        "  # print(f\"Window index:\\n {window_indexes, window_indexes.shape}\")\n",
        "\n",
        "  x = np.array(x)\n",
        "\n",
        "  windowed_array = x[window_indexes]\n",
        "\n",
        "  windows, labels = get_labelled_window(windowed_array, horizon=HORIZON)\n",
        "\n",
        "\n",
        "  return windows, labels"
      ],
      "execution_count": 29,
      "outputs": []
    },
    {
      "cell_type": "code",
      "metadata": {
        "colab": {
          "base_uri": "https://localhost:8080/"
        },
        "id": "dFv3VnM472AM",
        "outputId": "108d404e-65aa-47c2-accb-a0a9d8d40f05"
      },
      "source": [
        "full_windows, full_labels = make_windows(btc_price, window_size=WINDOW_SIZE, horizon=HORIZON)\n",
        "\n",
        "len(full_windows) , len(full_labels)"
      ],
      "execution_count": 30,
      "outputs": [
        {
          "output_type": "execute_result",
          "data": {
            "text/plain": [
              "(2780, 2780)"
            ]
          },
          "metadata": {
            "tags": []
          },
          "execution_count": 30
        }
      ]
    },
    {
      "cell_type": "code",
      "metadata": {
        "colab": {
          "base_uri": "https://localhost:8080/"
        },
        "id": "KxRd3r1a783v",
        "outputId": "36bc19b6-3c5b-4ee1-899e-8cd9379eabb7"
      },
      "source": [
        "full_windows[:3], full_labels[:3]"
      ],
      "execution_count": 31,
      "outputs": [
        {
          "output_type": "execute_result",
          "data": {
            "text/plain": [
              "(array([[123.65499, 125.455  , 108.58483, 118.67466, 121.33866, 120.65533,\n",
              "         121.795  ],\n",
              "        [125.455  , 108.58483, 118.67466, 121.33866, 120.65533, 121.795  ,\n",
              "         123.033  ],\n",
              "        [108.58483, 118.67466, 121.33866, 120.65533, 121.795  , 123.033  ,\n",
              "         124.049  ]]), array([[123.033  ],\n",
              "        [124.049  ],\n",
              "        [125.96116]]))"
            ]
          },
          "metadata": {
            "tags": []
          },
          "execution_count": 31
        }
      ]
    },
    {
      "cell_type": "code",
      "metadata": {
        "id": "JB-kGA_H8VFk"
      },
      "source": [
        "# tf.keras.preprocessing.timeseries_dataset_from_array()"
      ],
      "execution_count": 32,
      "outputs": []
    },
    {
      "cell_type": "markdown",
      "metadata": {
        "id": "tyFMwRjK_bju"
      },
      "source": [
        "## Splitting window data in training & test"
      ]
    },
    {
      "cell_type": "code",
      "metadata": {
        "id": "0eMZbr8b_nnZ"
      },
      "source": [
        "def make_train_test_splits(windows, labels, test_split = 0.2):\n",
        "\n",
        "  split_size = int(len(windows) * (1-test_split) )\n",
        "\n",
        "  train_windows = windows[:split_size]\n",
        "  train_labels = labels[:split_size]\n",
        "  test_windows = windows[split_size:]\n",
        "  test_labels = labels[split_size:]\n",
        "\n",
        "  return train_windows, test_windows, train_labels, test_labels\n"
      ],
      "execution_count": 33,
      "outputs": []
    },
    {
      "cell_type": "code",
      "metadata": {
        "colab": {
          "base_uri": "https://localhost:8080/"
        },
        "id": "_2eK69L0AwCz",
        "outputId": "509f4e22-50c8-41c3-ecbb-ef4cf8101cc6"
      },
      "source": [
        "train_windows, test_windows, train_labels, test_labels = make_train_test_splits(full_windows, full_labels)\n",
        "\n",
        "len(train_windows), len(test_windows),  len(train_labels), len(test_labels)"
      ],
      "execution_count": 34,
      "outputs": [
        {
          "output_type": "execute_result",
          "data": {
            "text/plain": [
              "(2224, 556, 2224, 556)"
            ]
          },
          "metadata": {
            "tags": []
          },
          "execution_count": 34
        }
      ]
    },
    {
      "cell_type": "code",
      "metadata": {
        "colab": {
          "base_uri": "https://localhost:8080/"
        },
        "id": "tN3_1VhRBOsg",
        "outputId": "4d2f1b8c-b7de-434c-d572-d0bb0f04a9a8"
      },
      "source": [
        "train_labels.shape"
      ],
      "execution_count": 35,
      "outputs": [
        {
          "output_type": "execute_result",
          "data": {
            "text/plain": [
              "(2224, 1)"
            ]
          },
          "metadata": {
            "tags": []
          },
          "execution_count": 35
        }
      ]
    },
    {
      "cell_type": "code",
      "metadata": {
        "colab": {
          "base_uri": "https://localhost:8080/"
        },
        "id": "1qSLZ86xB7yj",
        "outputId": "2de41966-3349-4878-955e-93c4c6c46521"
      },
      "source": [
        "np.squeeze(train_labels).shape"
      ],
      "execution_count": 36,
      "outputs": [
        {
          "output_type": "execute_result",
          "data": {
            "text/plain": [
              "(2224,)"
            ]
          },
          "metadata": {
            "tags": []
          },
          "execution_count": 36
        }
      ]
    },
    {
      "cell_type": "markdown",
      "metadata": {
        "id": "6M_9DcIwxrCe"
      },
      "source": [
        "## Make a modelling checkpoint callback"
      ]
    },
    {
      "cell_type": "code",
      "metadata": {
        "id": "syCRsDOVypN6"
      },
      "source": [
        "import os\n",
        "\n",
        "# Create a function to implement a ModelCheckpoint callback\n",
        "\n",
        "\n",
        "def create_model_checkpoint(model_name, save_path=\"model_experiment\"):\n",
        "  return tf.keras.callbacks.ModelCheckpoint(filepath=os.path.join(save_path,model_name),\n",
        "                                            monitor=\"val_loss\",\n",
        "                                            verbose=0,\n",
        "                                            save_best_only=True)"
      ],
      "execution_count": 37,
      "outputs": []
    },
    {
      "cell_type": "markdown",
      "metadata": {
        "id": "XRI1ut-tzSWT"
      },
      "source": [
        "## Model 1"
      ]
    },
    {
      "cell_type": "code",
      "metadata": {
        "colab": {
          "base_uri": "https://localhost:8080/"
        },
        "id": "DbtY9TmE0CIh",
        "outputId": "5899497b-12f0-48fe-ca72-680dd01b38a3"
      },
      "source": [
        "# Dense Model -  Window = 7, Horizon = 1\n",
        "from tensorflow.keras import layers\n",
        "tf.random.set_seed(42)\n",
        "\n",
        "model_1 = tf.keras.Sequential([\n",
        "   layers.Dense(128, activation=\"relu\"),\n",
        "   layers.Dense(HORIZON, activation=\"linear\")                                                          \n",
        "], name = \"model_1_dense\")\n",
        "\n",
        "\n",
        "# Compile\n",
        "model_1.compile(loss=\"mae\",\n",
        "                optimizer=tf.keras.optimizers.Adam(),\n",
        "                metrics=[\"mae\",\"mse\"])\n",
        "# Fit\n",
        "\n",
        "history_model_1 = model_1.fit(x=train_windows, \n",
        "                              y=train_labels,\n",
        "                              epochs=100,\n",
        "                              verbose=1,\n",
        "                              batch_size=128,\n",
        "                              validation_data = (test_windows, test_labels),\n",
        "                              callbacks=[create_model_checkpoint(model_name=model_1.name)])\n"
      ],
      "execution_count": 38,
      "outputs": [
        {
          "output_type": "stream",
          "text": [
            "Epoch 1/100\n",
            "18/18 [==============================] - 1s 11ms/step - loss: 780.3469 - mae: 780.3469 - mse: 2312739.0000 - val_loss: 2279.5828 - val_mae: 2279.5828 - val_mse: 12772095.0000\n",
            "INFO:tensorflow:Assets written to: model_experiment/model_1_dense/assets\n",
            "Epoch 2/100\n",
            "18/18 [==============================] - 0s 4ms/step - loss: 247.6765 - mae: 247.6765 - mse: 285480.9375 - val_loss: 1005.9864 - val_mae: 1005.9864 - val_mse: 3441759.2500\n",
            "INFO:tensorflow:Assets written to: model_experiment/model_1_dense/assets\n",
            "Epoch 3/100\n",
            "18/18 [==============================] - 0s 2ms/step - loss: 188.4107 - mae: 188.4107 - mse: 171890.0312 - val_loss: 923.2859 - val_mae: 923.2859 - val_mse: 2868195.0000\n",
            "INFO:tensorflow:Assets written to: model_experiment/model_1_dense/assets\n",
            "Epoch 4/100\n",
            "18/18 [==============================] - 0s 3ms/step - loss: 169.4334 - mae: 169.4334 - mse: 151699.4375 - val_loss: 900.5932 - val_mae: 900.5932 - val_mse: 2683713.7500\n",
            "INFO:tensorflow:Assets written to: model_experiment/model_1_dense/assets\n",
            "Epoch 5/100\n",
            "18/18 [==============================] - 0s 3ms/step - loss: 165.0899 - mae: 165.0899 - mse: 145490.8594 - val_loss: 895.2405 - val_mae: 895.2405 - val_mse: 2564606.2500\n",
            "INFO:tensorflow:Assets written to: model_experiment/model_1_dense/assets\n",
            "Epoch 6/100\n",
            "18/18 [==============================] - 0s 2ms/step - loss: 158.5206 - mae: 158.5206 - mse: 133816.7969 - val_loss: 855.1868 - val_mae: 855.1868 - val_mse: 2481815.5000\n",
            "INFO:tensorflow:Assets written to: model_experiment/model_1_dense/assets\n",
            "Epoch 7/100\n",
            "18/18 [==============================] - 0s 2ms/step - loss: 151.3568 - mae: 151.3568 - mse: 123446.8047 - val_loss: 840.9290 - val_mae: 840.9290 - val_mse: 2276476.2500\n",
            "INFO:tensorflow:Assets written to: model_experiment/model_1_dense/assets\n",
            "Epoch 8/100\n",
            "18/18 [==============================] - 0s 3ms/step - loss: 145.2560 - mae: 145.2560 - mse: 117694.1797 - val_loss: 803.6005 - val_mae: 803.6005 - val_mse: 2140566.2500\n",
            "INFO:tensorflow:Assets written to: model_experiment/model_1_dense/assets\n",
            "Epoch 9/100\n",
            "18/18 [==============================] - 0s 3ms/step - loss: 144.3546 - mae: 144.3546 - mse: 115269.0859 - val_loss: 799.5592 - val_mae: 799.5592 - val_mse: 2049233.7500\n",
            "INFO:tensorflow:Assets written to: model_experiment/model_1_dense/assets\n",
            "Epoch 10/100\n",
            "18/18 [==============================] - 0s 4ms/step - loss: 141.2944 - mae: 141.2944 - mse: 112394.1953 - val_loss: 763.5060 - val_mae: 763.5060 - val_mse: 1933137.0000\n",
            "INFO:tensorflow:Assets written to: model_experiment/model_1_dense/assets\n",
            "Epoch 11/100\n",
            "18/18 [==============================] - 0s 2ms/step - loss: 135.6591 - mae: 135.6591 - mse: 104117.6016 - val_loss: 771.3525 - val_mae: 771.3525 - val_mse: 1885888.2500\n",
            "Epoch 12/100\n",
            "18/18 [==============================] - 0s 4ms/step - loss: 134.1702 - mae: 134.1702 - mse: 101780.5156 - val_loss: 782.8326 - val_mae: 782.8325 - val_mse: 1881791.6250\n",
            "Epoch 13/100\n",
            "18/18 [==============================] - 0s 4ms/step - loss: 134.6014 - mae: 134.6014 - mse: 102344.3516 - val_loss: 784.4728 - val_mae: 784.4728 - val_mse: 1861070.5000\n",
            "Epoch 14/100\n",
            "18/18 [==============================] - 0s 3ms/step - loss: 130.6125 - mae: 130.6125 - mse: 96224.3594 - val_loss: 751.3470 - val_mae: 751.3470 - val_mse: 1749667.6250\n",
            "INFO:tensorflow:Assets written to: model_experiment/model_1_dense/assets\n",
            "Epoch 15/100\n",
            "18/18 [==============================] - 0s 3ms/step - loss: 128.8352 - mae: 128.8352 - mse: 94306.8672 - val_loss: 696.5837 - val_mae: 696.5837 - val_mse: 1606358.6250\n",
            "INFO:tensorflow:Assets written to: model_experiment/model_1_dense/assets\n",
            "Epoch 16/100\n",
            "18/18 [==============================] - 0s 3ms/step - loss: 124.8667 - mae: 124.8667 - mse: 90498.6250 - val_loss: 707.2988 - val_mae: 707.2988 - val_mse: 1602364.3750\n",
            "Epoch 17/100\n",
            "18/18 [==============================] - 0s 3ms/step - loss: 123.6096 - mae: 123.6096 - mse: 89226.7422 - val_loss: 714.2291 - val_mae: 714.2291 - val_mse: 1601816.6250\n",
            "Epoch 18/100\n",
            "18/18 [==============================] - 0s 2ms/step - loss: 122.3023 - mae: 122.3023 - mse: 87726.4766 - val_loss: 669.1414 - val_mae: 669.1414 - val_mse: 1498631.3750\n",
            "INFO:tensorflow:Assets written to: model_experiment/model_1_dense/assets\n",
            "Epoch 19/100\n",
            "18/18 [==============================] - 0s 2ms/step - loss: 121.4932 - mae: 121.4932 - mse: 86447.8828 - val_loss: 721.5452 - val_mae: 721.5452 - val_mse: 1595832.0000\n",
            "Epoch 20/100\n",
            "18/18 [==============================] - 0s 2ms/step - loss: 119.2384 - mae: 119.2384 - mse: 84250.7500 - val_loss: 658.0786 - val_mae: 658.0786 - val_mse: 1448095.1250\n",
            "INFO:tensorflow:Assets written to: model_experiment/model_1_dense/assets\n",
            "Epoch 21/100\n",
            "18/18 [==============================] - 0s 3ms/step - loss: 121.5293 - mae: 121.5293 - mse: 85926.5547 - val_loss: 638.3386 - val_mae: 638.3386 - val_mse: 1397797.1250\n",
            "INFO:tensorflow:Assets written to: model_experiment/model_1_dense/assets\n",
            "Epoch 22/100\n",
            "18/18 [==============================] - 0s 3ms/step - loss: 119.3422 - mae: 119.3422 - mse: 83495.1953 - val_loss: 678.8881 - val_mae: 678.8881 - val_mse: 1465750.7500\n",
            "Epoch 23/100\n",
            "18/18 [==============================] - 0s 2ms/step - loss: 122.8203 - mae: 122.8203 - mse: 84656.3828 - val_loss: 651.8512 - val_mae: 651.8512 - val_mse: 1401081.1250\n",
            "Epoch 24/100\n",
            "18/18 [==============================] - 0s 3ms/step - loss: 117.0774 - mae: 117.0774 - mse: 81069.2031 - val_loss: 623.5611 - val_mae: 623.5611 - val_mse: 1362704.7500\n",
            "INFO:tensorflow:Assets written to: model_experiment/model_1_dense/assets\n",
            "Epoch 25/100\n",
            "18/18 [==============================] - 0s 3ms/step - loss: 115.1816 - mae: 115.1816 - mse: 79065.0469 - val_loss: 618.5576 - val_mae: 618.5576 - val_mse: 1342634.1250\n",
            "INFO:tensorflow:Assets written to: model_experiment/model_1_dense/assets\n",
            "Epoch 26/100\n",
            "18/18 [==============================] - 0s 3ms/step - loss: 115.0673 - mae: 115.0673 - mse: 78886.6484 - val_loss: 616.4918 - val_mae: 616.4918 - val_mse: 1321327.3750\n",
            "INFO:tensorflow:Assets written to: model_experiment/model_1_dense/assets\n",
            "Epoch 27/100\n",
            "18/18 [==============================] - 0s 3ms/step - loss: 116.6431 - mae: 116.6431 - mse: 79058.1172 - val_loss: 619.0472 - val_mae: 619.0472 - val_mse: 1316206.5000\n",
            "Epoch 28/100\n",
            "18/18 [==============================] - 0s 2ms/step - loss: 114.0328 - mae: 114.0328 - mse: 77953.4609 - val_loss: 610.3879 - val_mae: 610.3879 - val_mse: 1316937.5000\n",
            "INFO:tensorflow:Assets written to: model_experiment/model_1_dense/assets\n",
            "Epoch 29/100\n",
            "18/18 [==============================] - 0s 3ms/step - loss: 113.4892 - mae: 113.4892 - mse: 78513.0859 - val_loss: 617.2401 - val_mae: 617.2401 - val_mse: 1304227.6250\n",
            "Epoch 30/100\n",
            "18/18 [==============================] - 0s 2ms/step - loss: 116.4094 - mae: 116.4094 - mse: 78943.1562 - val_loss: 603.6490 - val_mae: 603.6490 - val_mse: 1283177.8750\n",
            "INFO:tensorflow:Assets written to: model_experiment/model_1_dense/assets\n",
            "Epoch 31/100\n",
            "18/18 [==============================] - 0s 3ms/step - loss: 112.3454 - mae: 112.3454 - mse: 74879.3203 - val_loss: 623.4434 - val_mae: 623.4434 - val_mse: 1311036.7500\n",
            "Epoch 32/100\n",
            "18/18 [==============================] - 0s 3ms/step - loss: 113.2056 - mae: 113.2056 - mse: 77898.5000 - val_loss: 600.0261 - val_mae: 600.0261 - val_mse: 1271945.6250\n",
            "INFO:tensorflow:Assets written to: model_experiment/model_1_dense/assets\n",
            "Epoch 33/100\n",
            "18/18 [==============================] - 0s 2ms/step - loss: 112.9528 - mae: 112.9528 - mse: 76235.3906 - val_loss: 653.0604 - val_mae: 653.0604 - val_mse: 1369885.5000\n",
            "Epoch 34/100\n",
            "18/18 [==============================] - 0s 3ms/step - loss: 112.1157 - mae: 112.1157 - mse: 77267.7500 - val_loss: 594.7913 - val_mae: 594.7913 - val_mse: 1263628.2500\n",
            "INFO:tensorflow:Assets written to: model_experiment/model_1_dense/assets\n",
            "Epoch 35/100\n",
            "18/18 [==============================] - 0s 2ms/step - loss: 110.7447 - mae: 110.7447 - mse: 75067.1562 - val_loss: 592.7401 - val_mae: 592.7401 - val_mse: 1250752.6250\n",
            "INFO:tensorflow:Assets written to: model_experiment/model_1_dense/assets\n",
            "Epoch 36/100\n",
            "18/18 [==============================] - 0s 3ms/step - loss: 116.3301 - mae: 116.3301 - mse: 77425.8047 - val_loss: 592.4697 - val_mae: 592.4697 - val_mse: 1246067.6250\n",
            "INFO:tensorflow:Assets written to: model_experiment/model_1_dense/assets\n",
            "Epoch 37/100\n",
            "18/18 [==============================] - 0s 4ms/step - loss: 110.7676 - mae: 110.7676 - mse: 75596.7188 - val_loss: 618.5350 - val_mae: 618.5350 - val_mse: 1286741.7500\n",
            "Epoch 38/100\n",
            "18/18 [==============================] - 0s 3ms/step - loss: 112.5935 - mae: 112.5935 - mse: 75636.7109 - val_loss: 613.9557 - val_mae: 613.9557 - val_mse: 1306248.2500\n",
            "Epoch 39/100\n",
            "18/18 [==============================] - 0s 3ms/step - loss: 110.1321 - mae: 110.1321 - mse: 74271.7969 - val_loss: 586.6888 - val_mae: 586.6888 - val_mse: 1231217.3750\n",
            "INFO:tensorflow:Assets written to: model_experiment/model_1_dense/assets\n",
            "Epoch 40/100\n",
            "18/18 [==============================] - 0s 2ms/step - loss: 109.4753 - mae: 109.4753 - mse: 73257.0078 - val_loss: 593.9153 - val_mae: 593.9153 - val_mse: 1256532.0000\n",
            "Epoch 41/100\n",
            "18/18 [==============================] - 0s 3ms/step - loss: 110.1777 - mae: 110.1777 - mse: 73581.0234 - val_loss: 586.4465 - val_mae: 586.4465 - val_mse: 1229670.8750\n",
            "INFO:tensorflow:Assets written to: model_experiment/model_1_dense/assets\n",
            "Epoch 42/100\n",
            "18/18 [==============================] - 0s 3ms/step - loss: 111.5192 - mae: 111.5192 - mse: 76049.7500 - val_loss: 649.3650 - val_mae: 649.3650 - val_mse: 1345896.2500\n",
            "Epoch 43/100\n",
            "18/18 [==============================] - 0s 2ms/step - loss: 115.8939 - mae: 115.8939 - mse: 74405.6172 - val_loss: 686.8293 - val_mae: 686.8293 - val_mse: 1486392.8750\n",
            "Epoch 44/100\n",
            "18/18 [==============================] - 0s 2ms/step - loss: 123.0945 - mae: 123.0945 - mse: 83366.2891 - val_loss: 661.1304 - val_mae: 661.1304 - val_mse: 1411199.7500\n",
            "Epoch 45/100\n",
            "18/18 [==============================] - 0s 2ms/step - loss: 113.8169 - mae: 113.8169 - mse: 77100.1719 - val_loss: 626.8177 - val_mae: 626.8177 - val_mse: 1293826.5000\n",
            "Epoch 46/100\n",
            "18/18 [==============================] - 0s 4ms/step - loss: 114.0971 - mae: 114.0971 - mse: 76079.4453 - val_loss: 588.7769 - val_mae: 588.7769 - val_mse: 1238327.0000\n",
            "Epoch 47/100\n",
            "18/18 [==============================] - 0s 3ms/step - loss: 108.9936 - mae: 108.9936 - mse: 73660.3125 - val_loss: 636.0583 - val_mae: 636.0583 - val_mse: 1312960.0000\n",
            "Epoch 48/100\n",
            "18/18 [==============================] - 0s 3ms/step - loss: 109.2967 - mae: 109.2967 - mse: 73079.0781 - val_loss: 604.1586 - val_mae: 604.1586 - val_mse: 1245050.2500\n",
            "Epoch 49/100\n",
            "18/18 [==============================] - 0s 4ms/step - loss: 111.7787 - mae: 111.7787 - mse: 73888.9062 - val_loss: 591.5096 - val_mae: 591.5096 - val_mse: 1222480.7500\n",
            "Epoch 50/100\n",
            "18/18 [==============================] - 0s 2ms/step - loss: 111.7319 - mae: 111.7319 - mse: 73875.1641 - val_loss: 636.4677 - val_mae: 636.4677 - val_mse: 1341626.7500\n",
            "Epoch 51/100\n",
            "18/18 [==============================] - 0s 3ms/step - loss: 110.7498 - mae: 110.7498 - mse: 73830.9141 - val_loss: 589.2878 - val_mae: 589.2878 - val_mse: 1216414.1250\n",
            "Epoch 52/100\n",
            "18/18 [==============================] - 0s 3ms/step - loss: 111.5193 - mae: 111.5193 - mse: 75446.6797 - val_loss: 609.5289 - val_mae: 609.5289 - val_mse: 1277468.7500\n",
            "Epoch 53/100\n",
            "18/18 [==============================] - 0s 3ms/step - loss: 113.9868 - mae: 113.9868 - mse: 75752.9766 - val_loss: 584.7471 - val_mae: 584.7471 - val_mse: 1209497.2500\n",
            "INFO:tensorflow:Assets written to: model_experiment/model_1_dense/assets\n",
            "Epoch 54/100\n",
            "18/18 [==============================] - 0s 3ms/step - loss: 110.1075 - mae: 110.1075 - mse: 72728.5625 - val_loss: 578.7416 - val_mae: 578.7416 - val_mse: 1200865.6250\n",
            "INFO:tensorflow:Assets written to: model_experiment/model_1_dense/assets\n",
            "Epoch 55/100\n",
            "18/18 [==============================] - 0s 3ms/step - loss: 110.6423 - mae: 110.6423 - mse: 75084.4141 - val_loss: 581.5333 - val_mae: 581.5333 - val_mse: 1218268.7500\n",
            "Epoch 56/100\n",
            "18/18 [==============================] - 0s 3ms/step - loss: 107.6537 - mae: 107.6537 - mse: 71568.1328 - val_loss: 759.0189 - val_mae: 759.0189 - val_mse: 1698484.5000\n",
            "Epoch 57/100\n",
            "18/18 [==============================] - 0s 3ms/step - loss: 119.2012 - mae: 119.2012 - mse: 79652.9531 - val_loss: 603.5953 - val_mae: 603.5953 - val_mse: 1262626.6250\n",
            "Epoch 58/100\n",
            "18/18 [==============================] - 0s 2ms/step - loss: 116.4417 - mae: 116.4417 - mse: 75122.8828 - val_loss: 583.7296 - val_mae: 583.7296 - val_mse: 1206719.0000\n",
            "Epoch 59/100\n",
            "18/18 [==============================] - 0s 3ms/step - loss: 109.9014 - mae: 109.9014 - mse: 72680.9766 - val_loss: 592.8416 - val_mae: 592.8416 - val_mse: 1240090.3750\n",
            "Epoch 60/100\n",
            "18/18 [==============================] - 0s 3ms/step - loss: 107.7859 - mae: 107.7859 - mse: 72220.4922 - val_loss: 593.4969 - val_mae: 593.4969 - val_mse: 1220786.7500\n",
            "Epoch 61/100\n",
            "18/18 [==============================] - 0s 3ms/step - loss: 107.6960 - mae: 107.6960 - mse: 72155.8516 - val_loss: 575.5123 - val_mae: 575.5123 - val_mse: 1194018.5000\n",
            "INFO:tensorflow:Assets written to: model_experiment/model_1_dense/assets\n",
            "Epoch 62/100\n",
            "18/18 [==============================] - 0s 3ms/step - loss: 107.1257 - mae: 107.1257 - mse: 70836.3516 - val_loss: 580.2645 - val_mae: 580.2645 - val_mse: 1213138.3750\n",
            "Epoch 63/100\n",
            "18/18 [==============================] - 0s 2ms/step - loss: 111.8451 - mae: 111.8451 - mse: 73612.9375 - val_loss: 654.6143 - val_mae: 654.6143 - val_mse: 1348994.2500\n",
            "Epoch 64/100\n",
            "18/18 [==============================] - 0s 2ms/step - loss: 110.3121 - mae: 110.3121 - mse: 72546.6641 - val_loss: 610.7810 - val_mae: 610.7810 - val_mse: 1251885.3750\n",
            "Epoch 65/100\n",
            "18/18 [==============================] - 0s 3ms/step - loss: 109.7098 - mae: 109.7098 - mse: 72575.1016 - val_loss: 573.9960 - val_mae: 573.9960 - val_mse: 1190387.3750\n",
            "INFO:tensorflow:Assets written to: model_experiment/model_1_dense/assets\n",
            "Epoch 66/100\n",
            "18/18 [==============================] - 0s 4ms/step - loss: 106.8139 - mae: 106.8139 - mse: 70554.2734 - val_loss: 572.9989 - val_mae: 572.9989 - val_mse: 1187547.5000\n",
            "INFO:tensorflow:Assets written to: model_experiment/model_1_dense/assets\n",
            "Epoch 67/100\n",
            "18/18 [==============================] - 0s 3ms/step - loss: 106.1394 - mae: 106.1394 - mse: 70026.4219 - val_loss: 602.1524 - val_mae: 602.1524 - val_mse: 1255793.1250\n",
            "Epoch 68/100\n",
            "18/18 [==============================] - 0s 3ms/step - loss: 112.9245 - mae: 112.9245 - mse: 70779.4219 - val_loss: 687.6375 - val_mae: 687.6375 - val_mse: 1476286.1250\n",
            "Epoch 69/100\n",
            "18/18 [==============================] - 0s 3ms/step - loss: 126.9916 - mae: 126.9916 - mse: 82712.0156 - val_loss: 664.9473 - val_mae: 664.9473 - val_mse: 1413700.8750\n",
            "Epoch 70/100\n",
            "18/18 [==============================] - 0s 3ms/step - loss: 124.8734 - mae: 124.8734 - mse: 83039.0547 - val_loss: 619.6686 - val_mae: 619.6686 - val_mse: 1298640.7500\n",
            "Epoch 71/100\n",
            "18/18 [==============================] - 0s 4ms/step - loss: 109.8522 - mae: 109.8522 - mse: 71643.5000 - val_loss: 582.3637 - val_mae: 582.3637 - val_mse: 1201057.1250\n",
            "Epoch 72/100\n",
            "18/18 [==============================] - 0s 3ms/step - loss: 107.6717 - mae: 107.6717 - mse: 71406.7734 - val_loss: 573.4947 - val_mae: 573.4947 - val_mse: 1192645.7500\n",
            "Epoch 73/100\n",
            "18/18 [==============================] - 0s 3ms/step - loss: 109.6036 - mae: 109.6036 - mse: 71761.6250 - val_loss: 583.9045 - val_mae: 583.9045 - val_mse: 1218967.3750\n",
            "Epoch 74/100\n",
            "18/18 [==============================] - 0s 3ms/step - loss: 107.7049 - mae: 107.7049 - mse: 71542.6172 - val_loss: 572.9933 - val_mae: 572.9933 - val_mse: 1189806.3750\n",
            "INFO:tensorflow:Assets written to: model_experiment/model_1_dense/assets\n",
            "Epoch 75/100\n",
            "18/18 [==============================] - 0s 4ms/step - loss: 108.1179 - mae: 108.1179 - mse: 70535.8047 - val_loss: 583.9372 - val_mae: 583.9372 - val_mse: 1199156.5000\n",
            "Epoch 76/100\n",
            "18/18 [==============================] - 0s 3ms/step - loss: 109.5447 - mae: 109.5447 - mse: 71991.1328 - val_loss: 592.8235 - val_mae: 592.8235 - val_mse: 1234671.6250\n",
            "Epoch 77/100\n",
            "18/18 [==============================] - 0s 3ms/step - loss: 108.3639 - mae: 108.3639 - mse: 70784.8203 - val_loss: 575.4260 - val_mae: 575.4260 - val_mse: 1197659.8750\n",
            "Epoch 78/100\n",
            "18/18 [==============================] - 0s 3ms/step - loss: 108.0055 - mae: 108.0055 - mse: 70093.0234 - val_loss: 574.3941 - val_mae: 574.3941 - val_mse: 1193026.1250\n",
            "Epoch 79/100\n",
            "18/18 [==============================] - 0s 3ms/step - loss: 107.3223 - mae: 107.3223 - mse: 71654.6562 - val_loss: 597.2478 - val_mae: 597.2478 - val_mse: 1242042.0000\n",
            "Epoch 80/100\n",
            "18/18 [==============================] - 0s 2ms/step - loss: 108.1452 - mae: 108.1452 - mse: 71775.7266 - val_loss: 586.6866 - val_mae: 586.6866 - val_mse: 1199789.2500\n",
            "Epoch 81/100\n",
            "18/18 [==============================] - 0s 4ms/step - loss: 106.1153 - mae: 106.1153 - mse: 69995.2422 - val_loss: 575.1765 - val_mae: 575.1765 - val_mse: 1195805.5000\n",
            "Epoch 82/100\n",
            "18/18 [==============================] - 0s 3ms/step - loss: 116.6344 - mae: 116.6344 - mse: 77928.7344 - val_loss: 575.4340 - val_mae: 575.4340 - val_mse: 1192046.3750\n",
            "Epoch 83/100\n",
            "18/18 [==============================] - 0s 2ms/step - loss: 110.8731 - mae: 110.8731 - mse: 72825.0703 - val_loss: 654.5366 - val_mae: 654.5366 - val_mse: 1375390.8750\n",
            "Epoch 84/100\n",
            "18/18 [==============================] - 0s 3ms/step - loss: 111.9106 - mae: 111.9106 - mse: 73183.8438 - val_loss: 572.3373 - val_mae: 572.3373 - val_mse: 1176463.6250\n",
            "INFO:tensorflow:Assets written to: model_experiment/model_1_dense/assets\n",
            "Epoch 85/100\n",
            "18/18 [==============================] - 0s 3ms/step - loss: 106.6154 - mae: 106.6154 - mse: 70752.4375 - val_loss: 574.2833 - val_mae: 574.2833 - val_mse: 1178176.7500\n",
            "Epoch 86/100\n",
            "18/18 [==============================] - 0s 3ms/step - loss: 108.4299 - mae: 108.4299 - mse: 70129.7266 - val_loss: 583.3530 - val_mae: 583.3530 - val_mse: 1191900.3750\n",
            "Epoch 87/100\n",
            "18/18 [==============================] - 0s 3ms/step - loss: 105.7481 - mae: 105.7481 - mse: 68589.9453 - val_loss: 593.0121 - val_mae: 593.0121 - val_mse: 1230071.7500\n",
            "Epoch 88/100\n",
            "18/18 [==============================] - 0s 3ms/step - loss: 107.2604 - mae: 107.2604 - mse: 70897.3281 - val_loss: 571.7658 - val_mae: 571.7658 - val_mse: 1182082.7500\n",
            "INFO:tensorflow:Assets written to: model_experiment/model_1_dense/assets\n",
            "Epoch 89/100\n",
            "18/18 [==============================] - 0s 2ms/step - loss: 106.7823 - mae: 106.7823 - mse: 69118.5625 - val_loss: 568.6370 - val_mae: 568.6370 - val_mse: 1174329.7500\n",
            "INFO:tensorflow:Assets written to: model_experiment/model_1_dense/assets\n",
            "Epoch 90/100\n",
            "18/18 [==============================] - 0s 3ms/step - loss: 105.8682 - mae: 105.8682 - mse: 67370.6953 - val_loss: 602.9690 - val_mae: 602.9690 - val_mse: 1230767.2500\n",
            "Epoch 91/100\n",
            "18/18 [==============================] - 0s 4ms/step - loss: 110.6365 - mae: 110.6365 - mse: 72148.0391 - val_loss: 605.6947 - val_mae: 605.6947 - val_mse: 1257883.8750\n",
            "Epoch 92/100\n",
            "18/18 [==============================] - 0s 3ms/step - loss: 109.4668 - mae: 109.4668 - mse: 72193.7734 - val_loss: 572.4370 - val_mae: 572.4370 - val_mse: 1183753.2500\n",
            "Epoch 93/100\n",
            "18/18 [==============================] - 0s 2ms/step - loss: 113.0063 - mae: 113.0063 - mse: 73147.9609 - val_loss: 617.3001 - val_mae: 617.3001 - val_mse: 1284326.5000\n",
            "Epoch 94/100\n",
            "18/18 [==============================] - 0s 3ms/step - loss: 112.4903 - mae: 112.4903 - mse: 73928.3047 - val_loss: 599.9803 - val_mae: 599.9803 - val_mse: 1225950.7500\n",
            "Epoch 95/100\n",
            "18/18 [==============================] - 0s 3ms/step - loss: 106.0053 - mae: 106.0053 - mse: 68764.8672 - val_loss: 570.6210 - val_mae: 570.6210 - val_mse: 1175398.2500\n",
            "Epoch 96/100\n",
            "18/18 [==============================] - 0s 4ms/step - loss: 109.5910 - mae: 109.5910 - mse: 70458.2500 - val_loss: 676.3395 - val_mae: 676.3395 - val_mse: 1426408.5000\n",
            "Epoch 97/100\n",
            "18/18 [==============================] - 0s 4ms/step - loss: 110.2213 - mae: 110.2213 - mse: 72762.1250 - val_loss: 574.2988 - val_mae: 574.2988 - val_mse: 1177002.1250\n",
            "Epoch 98/100\n",
            "18/18 [==============================] - 0s 4ms/step - loss: 106.7290 - mae: 106.7290 - mse: 69964.2578 - val_loss: 576.7734 - val_mae: 576.7734 - val_mse: 1192501.1250\n",
            "Epoch 99/100\n",
            "18/18 [==============================] - 0s 2ms/step - loss: 106.9889 - mae: 106.9889 - mse: 70740.1953 - val_loss: 568.5499 - val_mae: 568.5499 - val_mse: 1172587.7500\n",
            "INFO:tensorflow:Assets written to: model_experiment/model_1_dense/assets\n",
            "Epoch 100/100\n",
            "18/18 [==============================] - 0s 3ms/step - loss: 117.7622 - mae: 117.7622 - mse: 73195.7656 - val_loss: 662.5322 - val_mae: 662.5322 - val_mse: 1358191.8750\n"
          ],
          "name": "stdout"
        }
      ]
    },
    {
      "cell_type": "code",
      "metadata": {
        "colab": {
          "base_uri": "https://localhost:8080/"
        },
        "id": "bkGAKEhp07jl",
        "outputId": "b7adf42e-a5f7-4f67-90b9-b3abcb804092"
      },
      "source": [
        "model_1.evaluate(test_windows, test_labels)"
      ],
      "execution_count": 39,
      "outputs": [
        {
          "output_type": "stream",
          "text": [
            "18/18 [==============================] - 0s 1ms/step - loss: 662.5322 - mae: 662.5322 - mse: 1358192.1250\n"
          ],
          "name": "stdout"
        },
        {
          "output_type": "execute_result",
          "data": {
            "text/plain": [
              "[662.5322265625, 662.5322265625, 1358192.125]"
            ]
          },
          "metadata": {
            "tags": []
          },
          "execution_count": 39
        }
      ]
    },
    {
      "cell_type": "code",
      "metadata": {
        "colab": {
          "base_uri": "https://localhost:8080/"
        },
        "id": "rsrA1o-t33tA",
        "outputId": "93b38135-7e60-4e83-de60-b118df6a7b35"
      },
      "source": [
        "model_1 = tf.keras.models.load_model(\"/content/model_experiment/model_1_dense\")\n",
        "\n",
        "model_1.evaluate(test_windows, test_labels)\n"
      ],
      "execution_count": 40,
      "outputs": [
        {
          "output_type": "stream",
          "text": [
            "18/18 [==============================] - 0s 1ms/step - loss: 568.5499 - mae: 568.5499 - mse: 1172587.7500\n"
          ],
          "name": "stdout"
        },
        {
          "output_type": "execute_result",
          "data": {
            "text/plain": [
              "[568.5498657226562, 568.5498657226562, 1172587.75]"
            ]
          },
          "metadata": {
            "tags": []
          },
          "execution_count": 40
        }
      ]
    },
    {
      "cell_type": "code",
      "metadata": {
        "colab": {
          "base_uri": "https://localhost:8080/"
        },
        "id": "jxhB_2C34SFY",
        "outputId": "d5cb2cc5-7f90-42c4-df9b-f7e30ac858d7"
      },
      "source": [
        "naive_results"
      ],
      "execution_count": 41,
      "outputs": [
        {
          "output_type": "execute_result",
          "data": {
            "text/plain": [
              "{'mae': 567.9802,\n",
              " 'mape': 2.516525,\n",
              " 'mase': 0.99957,\n",
              " 'mse': 1147547.0,\n",
              " 'rmse': 1071.2362}"
            ]
          },
          "metadata": {
            "tags": []
          },
          "execution_count": 41
        }
      ]
    },
    {
      "cell_type": "markdown",
      "metadata": {
        "id": "S-AihzVQ4o-w"
      },
      "source": [
        "## Making forecast function"
      ]
    },
    {
      "cell_type": "code",
      "metadata": {
        "id": "DCfkeNgz5E3C"
      },
      "source": [
        "def make_preds(model, input_data):\n",
        "  \"\"\"\n",
        "  Uses model to make prediction on input data\n",
        "  \"\"\"\n",
        "\n",
        "  forecast = model.predict(input_data)\n",
        "  return tf.squeeze(forecast) # return 1D array of predictions"
      ],
      "execution_count": 42,
      "outputs": []
    },
    {
      "cell_type": "code",
      "metadata": {
        "colab": {
          "base_uri": "https://localhost:8080/"
        },
        "id": "0gX1MB1k5XvU",
        "outputId": "c9dc5cfb-0745-4791-b336-7f85eca46f6e"
      },
      "source": [
        "## Make predictions using model 1 \n",
        "model_1_preds = make_preds(model_1, test_windows)\n",
        "model_1_preds[:10]"
      ],
      "execution_count": 43,
      "outputs": [
        {
          "output_type": "execute_result",
          "data": {
            "text/plain": [
              "<tf.Tensor: shape=(10,), dtype=float32, numpy=\n",
              "array([8874.493, 8789.944, 9040.986, 8804.829, 8741.21 , 8749.835,\n",
              "       8705.865, 8513.171, 8478.415, 8536.302], dtype=float32)>"
            ]
          },
          "metadata": {
            "tags": []
          },
          "execution_count": 43
        }
      ]
    },
    {
      "cell_type": "code",
      "metadata": {
        "colab": {
          "base_uri": "https://localhost:8080/"
        },
        "id": "wQ7gmaCZ6Crd",
        "outputId": "e25d353d-17f8-45ac-ff3f-af7faea146de"
      },
      "source": [
        "model_1_results = evaluate_preds(tf.squeeze(test_labels), model_1_preds)\n",
        "model_1_results"
      ],
      "execution_count": 44,
      "outputs": [
        {
          "output_type": "execute_result",
          "data": {
            "text/plain": [
              "{'mae': 568.5498,\n",
              " 'mape': 2.549229,\n",
              " 'mase': 0.99878454,\n",
              " 'mse': 1172587.6,\n",
              " 'rmse': 1082.8608}"
            ]
          },
          "metadata": {
            "tags": []
          },
          "execution_count": 44
        }
      ]
    },
    {
      "cell_type": "code",
      "metadata": {
        "colab": {
          "base_uri": "https://localhost:8080/"
        },
        "id": "Py9Gh7cf6Kdd",
        "outputId": "51a0a55e-f371-466f-f9ff-0ac60d8d3167"
      },
      "source": [
        "naive_results"
      ],
      "execution_count": 45,
      "outputs": [
        {
          "output_type": "execute_result",
          "data": {
            "text/plain": [
              "{'mae': 567.9802,\n",
              " 'mape': 2.516525,\n",
              " 'mase': 0.99957,\n",
              " 'mse': 1147547.0,\n",
              " 'rmse': 1071.2362}"
            ]
          },
          "metadata": {
            "tags": []
          },
          "execution_count": 45
        }
      ]
    },
    {
      "cell_type": "code",
      "metadata": {
        "colab": {
          "base_uri": "https://localhost:8080/",
          "height": 445
        },
        "id": "HrL-wJrc7P0L",
        "outputId": "edc0104e-37f4-4b20-ba0f-30bbc3550e3b"
      },
      "source": [
        "offset = 300\n",
        "plt.figure(figsize=(10,7))\n",
        "sns.scatterplot(x = X_test[-len(test_windows):], y = test_labels[:, 0],  label=\"Test Data\")\n",
        "\n",
        "sns.lineplot(x = X_test[-len(test_windows):], y = model_1_preds,  label=\"Model 1 Pred Data\")"
      ],
      "execution_count": 46,
      "outputs": [
        {
          "output_type": "execute_result",
          "data": {
            "text/plain": [
              "<matplotlib.axes._subplots.AxesSubplot at 0x7f8d2d7dfc10>"
            ]
          },
          "metadata": {
            "tags": []
          },
          "execution_count": 46
        },
        {
          "output_type": "display_data",
          "data": {
            "image/png": "[encoded data removed]",
            "text/plain": [
              "<Figure size 720x504 with 1 Axes>"
            ]
          },
          "metadata": {
            "tags": [],
            "needs_background": "light"
          }
        }
      ]
    },
    {
      "cell_type": "code",
      "metadata": {
        "id": "jpAVs5YkAUJX"
      },
      "source": [
        "\n",
        "# Create a function to plot time series data\n",
        "def plot_time_series(timesteps, values, format='.', start=0, end=None, label=None):\n",
        "  \"\"\"\n",
        "  Plots a timesteps (a series of points in time) against values (a series of values across timesteps).\n",
        "  \n",
        "  Parameters\n",
        "  ---------\n",
        "  timesteps : array of timesteps\n",
        "  values : array of values across time\n",
        "  format : style of plot, default \".\"\n",
        "  start : where to start the plot (setting a value will index from start of timesteps & values)\n",
        "  end : where to end the plot (setting a value will index from end of timesteps & values)\n",
        "  label : label to show on plot of values\n",
        "  \"\"\"\n",
        "  # Plot the series\n",
        "  plt.plot(timesteps[start:end], values[start:end], format, label=label)\n",
        "  plt.xlabel(\"Time\")\n",
        "  plt.ylabel(\"BTC Price\")\n",
        "  if label:\n",
        "    plt.legend(fontsize=14) # make label bigger\n",
        "  plt.grid(True)"
      ],
      "execution_count": 47,
      "outputs": []
    },
    {
      "cell_type": "code",
      "metadata": {
        "colab": {
          "base_uri": "https://localhost:8080/",
          "height": 442
        },
        "id": "sBCMDnccAVVk",
        "outputId": "2de16743-59aa-44bd-9b10-caa2a7a0edc7"
      },
      "source": [
        "\n",
        "offset = 300\n",
        "plt.figure(figsize=(10, 7))\n",
        "# Account for the test_window offset and index into test_labels to ensure correct plotting\n",
        "plot_time_series(timesteps=X_test[-len(test_windows):], values=test_labels[:, 0], start=offset, label=\"Test_data\")\n",
        "plot_time_series(timesteps=X_test[-len(test_windows):], values=model_1_preds, start=offset, format=\"-\", label=\"model_1_preds\")"
      ],
      "execution_count": 48,
      "outputs": [
        {
          "output_type": "display_data",
          "data": {
            "image/png": "[encoded data removed]",
            "text/plain": [
              "<Figure size 720x504 with 1 Axes>"
            ]
          },
          "metadata": {
            "tags": [],
            "needs_background": "light"
          }
        }
      ]
    },
    {
      "cell_type": "markdown",
      "metadata": {
        "id": "kkL2npuC8Jte"
      },
      "source": [
        "## Model 2"
      ]
    },
    {
      "cell_type": "code",
      "metadata": {
        "colab": {
          "base_uri": "https://localhost:8080/"
        },
        "id": "hp6kvEX-_O_a",
        "outputId": "52e92ef3-e8a6-429f-8304-7a4dcbb57a14"
      },
      "source": [
        "## Window size = 30, Horizon = 1\n",
        "\n",
        "HORIZON = 1\n",
        "WINDOW_SIZE = 30 \n",
        "\n",
        "full_windows, full_labels = make_windows(btc_price, window_size=WINDOW_SIZE, horizon=HORIZON)\n",
        "\n",
        "train_windows, test_windows, train_labels, test_labels = make_train_test_splits(full_windows, full_labels)\n",
        "\n",
        "len(train_windows), len(test_windows),  len(train_labels), len(test_labels)\n"
      ],
      "execution_count": 49,
      "outputs": [
        {
          "output_type": "execute_result",
          "data": {
            "text/plain": [
              "(2205, 552, 2205, 552)"
            ]
          },
          "metadata": {
            "tags": []
          },
          "execution_count": 49
        }
      ]
    },
    {
      "cell_type": "code",
      "metadata": {
        "colab": {
          "base_uri": "https://localhost:8080/"
        },
        "id": "AXZgGx9ZAAuY",
        "outputId": "3c006243-6806-406c-8072-5f2ed789891c"
      },
      "source": [
        "tf.random.set_seed(42)\n",
        "\n",
        "# Create Model\n",
        "model_2 = tf.keras.Sequential([\n",
        "  layers.Dense(128, activation=\"relu\"),\n",
        "  layers.Dense(HORIZON)\n",
        "], name=\"model_2_dense\")\n",
        "\n",
        "# Compile\n",
        "model_2.compile(loss=\"mae\",\n",
        "                optimizer=tf.keras.optimizers.Adam())\n",
        "\n",
        "# Fit\n",
        "model_2.fit(train_windows,\n",
        "            train_labels,\n",
        "            epochs=100,\n",
        "            batch_size=128,\n",
        "            verbose=0,\n",
        "            validation_data = (test_windows, test_labels),\n",
        "            callbacks=[create_model_checkpoint(model_name=model_2.name)])"
      ],
      "execution_count": 50,
      "outputs": [
        {
          "output_type": "stream",
          "text": [
            "INFO:tensorflow:Assets written to: model_experiment/model_2_dense/assets\n",
            "INFO:tensorflow:Assets written to: model_experiment/model_2_dense/assets\n",
            "INFO:tensorflow:Assets written to: model_experiment/model_2_dense/assets\n",
            "INFO:tensorflow:Assets written to: model_experiment/model_2_dense/assets\n",
            "INFO:tensorflow:Assets written to: model_experiment/model_2_dense/assets\n",
            "INFO:tensorflow:Assets written to: model_experiment/model_2_dense/assets\n",
            "INFO:tensorflow:Assets written to: model_experiment/model_2_dense/assets\n",
            "INFO:tensorflow:Assets written to: model_experiment/model_2_dense/assets\n",
            "INFO:tensorflow:Assets written to: model_experiment/model_2_dense/assets\n",
            "INFO:tensorflow:Assets written to: model_experiment/model_2_dense/assets\n",
            "INFO:tensorflow:Assets written to: model_experiment/model_2_dense/assets\n",
            "INFO:tensorflow:Assets written to: model_experiment/model_2_dense/assets\n",
            "INFO:tensorflow:Assets written to: model_experiment/model_2_dense/assets\n",
            "INFO:tensorflow:Assets written to: model_experiment/model_2_dense/assets\n",
            "INFO:tensorflow:Assets written to: model_experiment/model_2_dense/assets\n",
            "INFO:tensorflow:Assets written to: model_experiment/model_2_dense/assets\n",
            "INFO:tensorflow:Assets written to: model_experiment/model_2_dense/assets\n",
            "INFO:tensorflow:Assets written to: model_experiment/model_2_dense/assets\n",
            "INFO:tensorflow:Assets written to: model_experiment/model_2_dense/assets\n",
            "INFO:tensorflow:Assets written to: model_experiment/model_2_dense/assets\n",
            "INFO:tensorflow:Assets written to: model_experiment/model_2_dense/assets\n",
            "INFO:tensorflow:Assets written to: model_experiment/model_2_dense/assets\n",
            "INFO:tensorflow:Assets written to: model_experiment/model_2_dense/assets\n",
            "INFO:tensorflow:Assets written to: model_experiment/model_2_dense/assets\n",
            "INFO:tensorflow:Assets written to: model_experiment/model_2_dense/assets\n",
            "INFO:tensorflow:Assets written to: model_experiment/model_2_dense/assets\n",
            "INFO:tensorflow:Assets written to: model_experiment/model_2_dense/assets\n",
            "INFO:tensorflow:Assets written to: model_experiment/model_2_dense/assets\n",
            "INFO:tensorflow:Assets written to: model_experiment/model_2_dense/assets\n",
            "INFO:tensorflow:Assets written to: model_experiment/model_2_dense/assets\n"
          ],
          "name": "stdout"
        },
        {
          "output_type": "execute_result",
          "data": {
            "text/plain": [
              "<tensorflow.python.keras.callbacks.History at 0x7f8d2e3b9610>"
            ]
          },
          "metadata": {
            "tags": []
          },
          "execution_count": 50
        }
      ]
    },
    {
      "cell_type": "code",
      "metadata": {
        "colab": {
          "base_uri": "https://localhost:8080/"
        },
        "id": "9VeOFWT1CeFh",
        "outputId": "51eba9ff-ee05-4531-f2f5-2b64eb57e48c"
      },
      "source": [
        "model_2 = tf.keras.models.load_model(\"/content/model_experiment/model_2_dense\")\n",
        "\n",
        "model_2_preds = make_preds(model_2,test_windows )\n",
        "\n",
        "model_2_results = evaluate_preds(tf.squeeze(test_labels), model_2_preds)\n",
        "\n",
        "model_2_results"
      ],
      "execution_count": 51,
      "outputs": [
        {
          "output_type": "execute_result",
          "data": {
            "text/plain": [
              "{'mae': 608.8481,\n",
              " 'mape': 2.7680666,\n",
              " 'mase': 1.0642723,\n",
              " 'mse': 1284314.4,\n",
              " 'rmse': 1133.276}"
            ]
          },
          "metadata": {
            "tags": []
          },
          "execution_count": 51
        }
      ]
    },
    {
      "cell_type": "code",
      "metadata": {
        "colab": {
          "base_uri": "https://localhost:8080/"
        },
        "id": "K4h1goRCDBFz",
        "outputId": "25688080-946b-43d0-fdd3-c1dbdc771a01"
      },
      "source": [
        "model_1_results"
      ],
      "execution_count": 52,
      "outputs": [
        {
          "output_type": "execute_result",
          "data": {
            "text/plain": [
              "{'mae': 568.5498,\n",
              " 'mape': 2.549229,\n",
              " 'mase': 0.99878454,\n",
              " 'mse': 1172587.6,\n",
              " 'rmse': 1082.8608}"
            ]
          },
          "metadata": {
            "tags": []
          },
          "execution_count": 52
        }
      ]
    },
    {
      "cell_type": "markdown",
      "metadata": {
        "id": "UuhCxzUgDeUR"
      },
      "source": [
        "## Model 3 "
      ]
    },
    {
      "cell_type": "code",
      "metadata": {
        "colab": {
          "base_uri": "https://localhost:8080/"
        },
        "id": "-40IMNr-Drzz",
        "outputId": "933cbcf4-da97-40d2-884f-6df8598820a3"
      },
      "source": [
        "# windows = 30, horizon = 7\n",
        "\n",
        "HORIZON = 7\n",
        "WINDOW_SIZE = 30 \n",
        "\n",
        "full_windows, full_labels = make_windows(btc_price, window_size=WINDOW_SIZE, horizon=HORIZON)\n",
        "\n",
        "train_windows, test_windows, train_labels, test_labels = make_train_test_splits(full_windows, full_labels)\n",
        "\n",
        "len(train_windows), len(test_windows),  len(train_labels), len(test_labels)\n"
      ],
      "execution_count": 53,
      "outputs": [
        {
          "output_type": "execute_result",
          "data": {
            "text/plain": [
              "(2200, 551, 2200, 551)"
            ]
          },
          "metadata": {
            "tags": []
          },
          "execution_count": 53
        }
      ]
    },
    {
      "cell_type": "code",
      "metadata": {
        "colab": {
          "base_uri": "https://localhost:8080/"
        },
        "id": "xwtGxlsCD0mC",
        "outputId": "5be9f023-8e61-4051-fd3c-9059eddc283b"
      },
      "source": [
        "tf.random.set_seed(42)\n",
        "\n",
        "# Create Model\n",
        "model_3 = tf.keras.Sequential([\n",
        "  layers.Dense(128, activation=\"relu\"),\n",
        "  layers.Dense(HORIZON)\n",
        "], name=\"model_3_dense\")\n",
        "\n",
        "# Compile\n",
        "model_3.compile(loss=\"mae\",\n",
        "                optimizer=tf.keras.optimizers.Adam())\n",
        "\n",
        "# Fit\n",
        "model_3.fit(train_windows,\n",
        "            train_labels,\n",
        "            epochs=100,\n",
        "            batch_size=128,\n",
        "            verbose=0,\n",
        "            validation_data = (test_windows, test_labels),\n",
        "            callbacks=[create_model_checkpoint(model_name=model_3.name)])"
      ],
      "execution_count": 54,
      "outputs": [
        {
          "output_type": "stream",
          "text": [
            "INFO:tensorflow:Assets written to: model_experiment/model_3_dense/assets\n",
            "INFO:tensorflow:Assets written to: model_experiment/model_3_dense/assets\n",
            "INFO:tensorflow:Assets written to: model_experiment/model_3_dense/assets\n",
            "INFO:tensorflow:Assets written to: model_experiment/model_3_dense/assets\n",
            "INFO:tensorflow:Assets written to: model_experiment/model_3_dense/assets\n",
            "INFO:tensorflow:Assets written to: model_experiment/model_3_dense/assets\n",
            "INFO:tensorflow:Assets written to: model_experiment/model_3_dense/assets\n",
            "INFO:tensorflow:Assets written to: model_experiment/model_3_dense/assets\n",
            "INFO:tensorflow:Assets written to: model_experiment/model_3_dense/assets\n",
            "INFO:tensorflow:Assets written to: model_experiment/model_3_dense/assets\n",
            "INFO:tensorflow:Assets written to: model_experiment/model_3_dense/assets\n",
            "INFO:tensorflow:Assets written to: model_experiment/model_3_dense/assets\n",
            "INFO:tensorflow:Assets written to: model_experiment/model_3_dense/assets\n",
            "INFO:tensorflow:Assets written to: model_experiment/model_3_dense/assets\n",
            "INFO:tensorflow:Assets written to: model_experiment/model_3_dense/assets\n",
            "INFO:tensorflow:Assets written to: model_experiment/model_3_dense/assets\n",
            "INFO:tensorflow:Assets written to: model_experiment/model_3_dense/assets\n",
            "INFO:tensorflow:Assets written to: model_experiment/model_3_dense/assets\n",
            "INFO:tensorflow:Assets written to: model_experiment/model_3_dense/assets\n",
            "INFO:tensorflow:Assets written to: model_experiment/model_3_dense/assets\n",
            "INFO:tensorflow:Assets written to: model_experiment/model_3_dense/assets\n",
            "INFO:tensorflow:Assets written to: model_experiment/model_3_dense/assets\n",
            "INFO:tensorflow:Assets written to: model_experiment/model_3_dense/assets\n"
          ],
          "name": "stdout"
        },
        {
          "output_type": "execute_result",
          "data": {
            "text/plain": [
              "<tensorflow.python.keras.callbacks.History at 0x7f8d2d4bfa50>"
            ]
          },
          "metadata": {
            "tags": []
          },
          "execution_count": 54
        }
      ]
    },
    {
      "cell_type": "code",
      "metadata": {
        "colab": {
          "base_uri": "https://localhost:8080/"
        },
        "id": "T_TwfubnD3CG",
        "outputId": "461d9813-1582-417f-f994-57ab44fef93f"
      },
      "source": [
        "model_3 = tf.keras.models.load_model(\"/content/model_experiment/model_3_dense\")\n",
        "\n",
        "model_3_preds = make_preds(model_3, test_windows)\n",
        "\n",
        "model_3_results = evaluate_preds(tf.squeeze(test_labels), tf.squeeze(model_3_preds))\n",
        "\n",
        "model_3_results"
      ],
      "execution_count": 55,
      "outputs": [
        {
          "output_type": "execute_result",
          "data": {
            "text/plain": [
              "{'mae': array([  559.42004 ,   276.0053  ,   298.20258 ,   408.06152 ,\n",
              "          431.32047 ,   526.28064 ,   542.41644 ,   459.79108 ,\n",
              "          490.63736 ,   631.6582  ,   802.51654 ,   731.79333 ,\n",
              "          684.06476 ,   789.71857 ,   563.4593  ,   271.9013  ,\n",
              "          231.86858 ,   258.64767 ,   277.65277 ,   291.5478  ,\n",
              "          105.425575,   132.63156 ,   205.97643 ,   262.20816 ,\n",
              "          169.8651  ,   165.05127 ,   110.21959 ,    83.64655 ,\n",
              "          115.86182 ,   152.87025 ,   279.98862 ,   380.96127 ,\n",
              "          280.21414 ,   271.9101  ,   264.43088 ,   261.91315 ,\n",
              "          330.29108 ,   242.21861 ,   253.72746 ,   245.38596 ,\n",
              "          412.562   ,   128.63539 ,    88.56452 ,    92.15639 ,\n",
              "          100.39704 ,   102.41455 ,    74.52804 ,    94.00349 ,\n",
              "           84.86837 ,    76.64781 ,   108.49679 ,   144.869   ,\n",
              "          187.69133 ,   162.5261  ,   265.83133 ,   391.21323 ,\n",
              "          552.2943  ,   541.77313 ,   522.20886 ,   523.98157 ,\n",
              "          430.13052 ,   276.80893 ,   263.94058 ,   346.60178 ,\n",
              "          449.3755  ,   494.68695 ,   524.3805  ,   532.446   ,\n",
              "          147.137   ,   232.74303 ,   213.22754 ,   407.64008 ,\n",
              "          528.1755  ,   381.76352 ,   288.17203 ,   365.8348  ,\n",
              "          332.32047 ,   393.45953 ,   525.2578  ,   656.50446 ,\n",
              "          811.64105 ,   640.2487  ,   293.96652 ,   163.34152 ,\n",
              "          214.56223 ,   211.33469 ,   237.02092 ,   322.86914 ,\n",
              "          365.69547 ,   561.3761  ,   439.0353  ,   436.3436  ,\n",
              "          359.31528 ,   248.87918 ,   167.8086  ,   263.49414 ,\n",
              "          310.0152  ,   507.3171  ,   621.88586 ,   777.44714 ,\n",
              "          512.9869  ,   292.40332 ,   202.28111 ,   327.75348 ,\n",
              "          356.55942 ,   364.2507  ,   453.20215 ,   574.33777 ,\n",
              "          966.9287  ,   940.8019  ,   871.2143  ,   374.3736  ,\n",
              "          174.17635 ,   241.6317  ,   192.01842 ,   354.8773  ,\n",
              "          305.95822 ,   407.91135 ,   562.78625 ,  1000.76465 ,\n",
              "         1604.6038  ,  2171.9666  ,  1956.6292  ,  2101.5525  ,\n",
              "         2263.4653  ,  2644.0884  ,  1284.6072  ,   680.17303 ,\n",
              "          450.15256 ,   391.20877 ,   514.96826 ,   414.87408 ,\n",
              "          485.30225 ,   301.8972  ,   314.97287 ,   298.2189  ,\n",
              "          351.74908 ,   286.78683 ,   316.8676  ,   322.0376  ,\n",
              "          342.37445 ,   373.64133 ,   283.48422 ,   587.4204  ,\n",
              "          666.5479  ,   415.29117 ,   351.52155 ,   228.57352 ,\n",
              "          281.31793 ,   207.98508 ,   233.22957 ,   522.5366  ,\n",
              "          344.37173 ,   535.6847  ,   403.58908 ,   351.62738 ,\n",
              "          196.2786  ,   204.0111  ,   210.801   ,   162.25252 ,\n",
              "          284.53592 ,   245.85555 ,   225.53348 ,   272.62347 ,\n",
              "          321.16434 ,   365.74408 ,   523.12604 ,   706.972   ,\n",
              "          516.4347  ,   604.03156 ,   827.5575  ,   887.2248  ,\n",
              "          991.22644 ,  1084.594   ,   499.86246 ,   265.87973 ,\n",
              "          353.98926 ,   401.75015 ,   416.3312  ,   392.2098  ,\n",
              "          466.42563 ,   458.61328 ,   622.09735 ,   973.6868  ,\n",
              "          865.1095  ,   278.56168 ,   516.1124  ,   737.87164 ,\n",
              "          363.9961  ,   231.46066 ,   265.72015 ,   234.37752 ,\n",
              "          366.99582 ,   436.41098 ,   645.9733  ,   610.24457 ,\n",
              "          342.28433 ,   262.02386 ,   323.00375 ,   306.09793 ,\n",
              "          523.2842  ,   736.6734  ,   707.1592  ,   451.09836 ,\n",
              "          301.78976 ,   144.70912 ,   199.37123 ,   336.74512 ,\n",
              "          146.3319  ,   138.04367 ,   307.15137 ,   179.54256 ,\n",
              "          165.28293 ,   204.35352 ,   271.4813  ,   372.5491  ,\n",
              "          525.0003  ,   147.24805 ,   107.68108 ,   150.50168 ,\n",
              "          137.84389 ,   209.29674 ,   181.5173  ,   185.5844  ,\n",
              "          145.70578 ,   140.22517 ,   158.3178  ,   177.3323  ,\n",
              "          274.27832 ,   572.3242  ,   270.27078 ,   279.54477 ,\n",
              "          133.47781 ,    55.439594,    81.092636,    68.80943 ,\n",
              "          103.634346,   153.1716  ,   149.0791  ,   168.81125 ,\n",
              "           74.92425 ,   162.96986 ,    56.424107,    93.80176 ,\n",
              "          210.05315 ,   146.7373  ,   143.01674 ,    74.46889 ,\n",
              "           83.6822  ,   123.72587 ,   171.18959 ,   152.87207 ,\n",
              "          176.66936 ,   192.75906 ,   269.69754 ,   310.21527 ,\n",
              "          603.6744  ,   699.2436  ,   812.1265  ,   911.0148  ,\n",
              "         1125.0621  ,  1342.5162  ,  1313.9249  ,   521.97644 ,\n",
              "          205.17201 ,   259.8019  ,   227.63268 ,   301.16617 ,\n",
              "          385.06558 ,   150.06682 ,   131.36873 ,   206.08928 ,\n",
              "          130.17215 ,   285.26996 ,   290.4891  ,   284.52246 ,\n",
              "          233.101   ,   336.17328 ,   216.41406 ,   185.488   ,\n",
              "          164.74861 ,   193.0219  ,   168.33244 ,   244.41086 ,\n",
              "          427.41226 ,   597.6722  ,   279.71664 ,   304.67145 ,\n",
              "          176.03697 ,   239.18875 ,   355.67758 ,   290.50726 ,\n",
              "          171.10756 ,   184.33385 ,   261.0728  ,   350.27106 ,\n",
              "          577.03156 ,   771.4784  ,  1050.9551  ,  1481.2781  ,\n",
              "         1378.0541  ,   883.13226 ,   572.96063 ,   130.63058 ,\n",
              "          206.059   ,   197.40959 ,   295.65317 ,   404.69308 ,\n",
              "          398.2896  ,   417.95145 ,   438.75586 ,   388.33496 ,\n",
              "          214.90555 ,   105.01005 ,   325.9368  ,   447.4184  ,\n",
              "          361.00977 ,   496.7426  ,   307.85727 ,   158.863   ,\n",
              "          169.79129 ,   313.21262 ,   134.87863 ,   118.55971 ,\n",
              "          148.13351 ,   215.45215 ,   311.0682  ,   274.3397  ,\n",
              "          205.59319 ,   154.73787 ,   170.1815  ,   233.73215 ,\n",
              "          328.0646  ,   456.9986  ,   544.226   ,   657.4069  ,\n",
              "          596.3923  ,   493.66547 ,   158.6808  ,    92.03822 ,\n",
              "          306.65457 ,   252.29018 ,   425.00195 ,   607.69196 ,\n",
              "          757.7344  ,  1028.1162  ,  1196.5586  ,  1187.6671  ,\n",
              "         1222.1669  ,   399.41867 ,   264.33035 ,   223.53445 ,\n",
              "          348.61246 ,   267.4036  ,   292.8566  ,   226.46219 ,\n",
              "          163.67912 ,   388.74594 ,   616.5091  ,   715.7144  ,\n",
              "          884.2673  ,  1118.2787  ,  1178.191   ,  1176.8744  ,\n",
              "          447.41656 ,   517.2567  ,   402.29672 ,   321.86285 ,\n",
              "          541.6454  ,   816.1635  ,   814.1642  ,   806.601   ,\n",
              "         1098.4758  ,  1303.5609  ,  1819.226   ,  1520.301   ,\n",
              "          975.065   ,   500.0745  ,   451.08258 ,   624.44836 ,\n",
              "          932.54913 ,  1119.5061  ,  1098.8876  ,  1111.4788  ,\n",
              "          981.3917  ,   774.1716  ,  1216.6174  ,  1347.8223  ,\n",
              "         1275.0948  ,   297.71875 ,   200.9509  ,   508.31027 ,\n",
              "          814.637   ,   605.5293  ,   654.36163 ,   563.6462  ,\n",
              "          596.4467  ,   581.3574  ,   830.5762  ,  1476.597   ,\n",
              "         2502.964   ,  2741.3472  ,  3085.4458  ,  3333.7878  ,\n",
              "         3539.5178  ,  2340.6372  ,   909.3376  ,   490.21567 ,\n",
              "          972.10657 ,  1305.3005  ,  1392.7361  ,  1755.094   ,\n",
              "         2546.695   ,  3059.948   ,  3003.2554  ,  2345.634   ,\n",
              "         2578.2778  ,  2814.2083  ,  3490.5386  ,  3260.6985  ,\n",
              "         4013.9187  ,  4978.504   ,  4385.956   ,  4103.263   ,\n",
              "         4391.792   ,  3081.4644  ,  2669.2148  ,  2414.4084  ,\n",
              "         4396.1475  ,  5788.4326  ,  5140.9053  ,  1273.4592  ,\n",
              "         1228.788   ,   701.4922  ,  2658.4453  ,  3027.572   ,\n",
              "         3027.8152  ,  3052.0781  ,  3045.396   ,  3537.386   ,\n",
              "         3745.5918  ,   900.0968  ,  1300.6917  ,  1302.6451  ,\n",
              "         1263.2556  ,  1302.2109  ,  2369.464   ,  3758.8523  ,\n",
              "         3492.7053  ,  2445.4978  ,  2877.3337  ,  3181.6016  ,\n",
              "         4807.9404  ,  5343.167   ,  4497.2007  ,  4869.027   ,\n",
              "         6087.3286  ,  6035.864   ,  8042.9697  ,  4592.853   ,\n",
              "         1518.462   ,  1500.4481  ,  1698.0397  ,  2548.5916  ,\n",
              "         2541.6692  ,  3393.869   ,  2871.6948  ,  3457.3716  ,\n",
              "         2717.7974  ,  3099.4827  ,  5651.3228  ,  6983.054   ,\n",
              "        10184.632   ,  8898.209   ,  4790.104   ,  2860.8967  ,\n",
              "         2013.5424  ,  1576.1022  ,  2593.8655  ,  3928.4883  ,\n",
              "         2703.8203  ,  2768.889   ,  3018.4146  ,  3906.845   ,\n",
              "         5233.6826  ,  6350.7373  ,  6068.0386  ,  5488.909   ,\n",
              "         4320.8374  ,  2024.2377  ,  1894.8945  ,  1482.7812  ,\n",
              "         1518.4553  ,  2880.513   ,  1606.4152  ,  1566.9939  ,\n",
              "         2957.5447  ,  4173.5615  ,  5676.796   ,  5417.197   ,\n",
              "         5249.5586  ,  1434.1613  ,  2133.1199  ,  2881.859   ,\n",
              "         3821.452   ,  4351.3306  ,  2311.1194  ,  2531.862   ,\n",
              "         1582.3064  ,   743.0675  ,   740.6685  ,   830.79297 ,\n",
              "          862.8683  ,   569.9665  ,  1134.5519  ,  1382.0139  ,\n",
              "         1559.6451  ,  2509.4558  ,  3264.3242  ,  3508.3386  ,\n",
              "         2416.577   ,  2335.6223  ,  2526.2778  ,  3310.1401  ,\n",
              "         5526.7583  ,  7300.811   ,  8667.999   ,  8214.251   ,\n",
              "         6219.2544  ,  4510.4214  ,  4505.271   ,  2656.5486  ,\n",
              "         1991.4564  ,  3071.716   ,  4366.595   ,  6207.0596  ,\n",
              "         3825.3962  ,  1774.5725  ,  2043.5586  ,  2223.3137  ,\n",
              "         1501.3549  ,  1830.9236  ,  1363.1423  ,  2061.2495  ,\n",
              "         2064.8828  ,  1645.9509  ,  2415.7795  ,  3431.0178  ,\n",
              "         5687.66    ,  7175.9517  ,  7918.8955  ], dtype=float32),\n",
              " 'mape': array([ 6.383133  ,  3.1873055 ,  3.4441986 ,  4.7474217 ,  5.087393  ,\n",
              "         6.2807307 ,  6.541848  ,  5.720405  ,  6.363076  ,  8.315235  ,\n",
              "        10.800634  , 10.020564  ,  9.454184  , 10.886435  ,  7.8023076 ,\n",
              "         3.7682526 ,  3.155776  ,  3.437866  ,  3.6989737 ,  3.8828704 ,\n",
              "         1.3986939 ,  1.7881403 ,  2.8099759 ,  3.586232  ,  2.3180187 ,\n",
              "         2.242667  ,  1.4899626 ,  1.1336712 ,  1.5688592 ,  2.1066084 ,\n",
              "         3.8841438 ,  5.2990785 ,  3.9507866 ,  3.9636142 ,  3.8526888 ,\n",
              "         3.8195531 ,  4.802899  ,  3.5313706 ,  3.6780703 ,  3.46592   ,\n",
              "         5.6844716 ,  1.781396  ,  1.2288109 ,  1.2746593 ,  1.3930616 ,\n",
              "         1.4077994 ,  1.0244621 ,  1.2907869 ,  1.1759014 ,  1.0764247 ,\n",
              "         1.5163736 ,  2.0254838 ,  2.6292856 ,  2.2210493 ,  3.4710693 ,\n",
              "         5.017667  ,  7.0700006 ,  6.8297133 ,  6.527853  ,  6.520673  ,\n",
              "         5.3245935 ,  3.3024843 ,  3.071215  ,  3.98927   ,  5.1149187 ,\n",
              "         5.61996   ,  5.953922  ,  6.0512958 ,  1.6630603 ,  2.6762862 ,\n",
              "         2.4792778 ,  4.7584987 ,  6.204536  ,  4.5032034 ,  3.402323  ,\n",
              "         4.296131  ,  3.8193192 ,  4.302126  ,  5.675283  ,  7.0431447 ,\n",
              "         8.695885  ,  6.8402886 ,  3.1351395 ,  1.7247756 ,  2.2906337 ,\n",
              "         2.239771  ,  2.4867249 ,  3.3104722 ,  3.7112315 ,  5.63722   ,\n",
              "         4.333159  ,  4.287891  ,  3.5142124 ,  2.4285538 ,  1.6611431 ,\n",
              "         2.6178567 ,  3.1315804 ,  5.1447906 ,  6.353043  ,  7.9626427 ,\n",
              "         5.287782  ,  3.019717  ,  2.0546832 ,  3.4092698 ,  3.8586323 ,\n",
              "         4.0400887 ,  5.076718  ,  6.4802604 , 11.007784  , 10.7414465 ,\n",
              "         9.975953  ,  4.3021564 ,  1.9976255 ,  2.7215734 ,  2.1505435 ,\n",
              "         4.012396  ,  3.618029  ,  4.9309316 ,  6.8522887 , 14.579784  ,\n",
              "        24.689518  , 35.3894    , 34.018784  , 38.566185  , 41.93856   ,\n",
              "        49.170227  , 23.934246  , 12.76731   ,  8.060933  ,  6.7705026 ,\n",
              "         8.406375  ,  6.574843  ,  7.4993    ,  4.5726724 ,  5.019635  ,\n",
              "         4.6231947 ,  5.3266654 ,  4.374331  ,  5.0321302 ,  5.182704  ,\n",
              "         5.5057526 ,  5.9565516 ,  4.374629  ,  8.735546  ,  9.690324  ,\n",
              "         5.9229927 ,  4.960857  ,  3.2358913 ,  3.916653  ,  2.960389  ,\n",
              "         3.2594497 ,  7.427887  ,  4.961269  ,  7.767851  ,  5.8759427 ,\n",
              "         5.0899153 ,  2.7828124 ,  2.8943253 ,  2.9632704 ,  2.2983522 ,\n",
              "         3.979706  ,  3.4080956 ,  3.0998034 ,  3.7605264 ,  4.432523  ,\n",
              "         4.82497   ,  6.85255   ,  8.808609  ,  6.1029444 ,  6.961776  ,\n",
              "         9.447651  , 10.045695  , 11.199372  , 12.213851  ,  5.522779  ,\n",
              "         2.7715328 ,  3.6357415 ,  4.1950994 ,  4.3852634 ,  4.1972456 ,\n",
              "         4.983673  ,  5.084654  ,  7.0168824 , 10.815913  ,  9.642549  ,\n",
              "         3.1320593 ,  5.3848643 ,  7.675372  ,  3.774346  ,  2.4561572 ,\n",
              "         2.8501215 ,  2.5092413 ,  3.9920144 ,  4.77418   ,  7.1354446 ,\n",
              "         6.7556424 ,  3.8018935 ,  2.8637733 ,  3.509565  ,  3.2845404 ,\n",
              "         5.372305  ,  7.5835423 ,  7.2673955 ,  4.5891204 ,  3.0293348 ,\n",
              "         1.4613218 ,  1.9975586 ,  3.4842055 ,  1.5093697 ,  1.4179296 ,\n",
              "         3.2048676 ,  1.8887612 ,  1.7362866 ,  2.1689427 ,  2.8873942 ,\n",
              "         3.9644148 ,  5.5802307 ,  1.5622852 ,  1.149674  ,  1.6047982 ,\n",
              "         1.4754645 ,  2.231686  ,  1.9317787 ,  1.9744525 ,  1.5439414 ,\n",
              "         1.4976854 ,  1.6820679 ,  1.897119  ,  2.9943423 ,  6.2459874 ,\n",
              "         2.953745  ,  3.064406  ,  1.4674717 ,  0.60568035,  0.8881008 ,\n",
              "         0.74896526,  1.1339073 ,  1.6680954 ,  1.608187  ,  1.8191533 ,\n",
              "         0.8100192 ,  1.7489618 ,  0.6075544 ,  1.0088054 ,  2.2717352 ,\n",
              "         1.5915908 ,  1.5513337 ,  0.80798715,  0.91097534,  1.3482684 ,\n",
              "         1.8638477 ,  1.6469681 ,  1.8685368 ,  2.02392   ,  2.8186364 ,\n",
              "         3.1947546 ,  5.8327208 ,  6.557446  ,  7.4054317 ,  8.245705  ,\n",
              "        10.09411   , 11.89811   , 11.6254015 ,  4.5898523 ,  1.7863373 ,\n",
              "         2.2723162 ,  1.9803488 ,  2.6221123 ,  3.3960602 ,  1.3109515 ,\n",
              "         1.1341455 ,  1.759563  ,  1.128492  ,  2.4649835 ,  2.5131893 ,\n",
              "         2.4598405 ,  2.0161705 ,  2.8633106 ,  1.7830117 ,  1.5193297 ,\n",
              "         1.3595337 ,  1.614378  ,  1.4105192 ,  2.059183  ,  3.6486063 ,\n",
              "         5.1331215 ,  2.424635  ,  2.6510155 ,  1.5341433 ,  2.09643   ,\n",
              "         3.1137257 ,  2.539438  ,  1.4683777 ,  1.568614  ,  2.2879937 ,\n",
              "         3.1728706 ,  5.3861685 ,  7.392792  , 10.086266  , 14.331542  ,\n",
              "        13.409384  ,  8.636568  ,  5.616763  ,  1.2732922 ,  1.9986842 ,\n",
              "         1.8976632 ,  2.7845583 ,  3.754111  ,  3.6711032 ,  3.8447108 ,\n",
              "         4.0184684 ,  3.5524209 ,  1.9625986 ,  0.98632026,  3.0846426 ,\n",
              "         4.236171  ,  3.4315605 ,  4.7224817 ,  2.9343495 ,  1.5163301 ,\n",
              "         1.5953581 ,  2.9111507 ,  1.2543285 ,  1.1071885 ,  1.3919702 ,\n",
              "         2.0292516 ,  2.9253087 ,  2.5853817 ,  1.9386241 ,  1.4526908 ,\n",
              "         1.5694046 ,  2.1026871 ,  2.9367437 ,  4.04099   ,  4.7796817 ,\n",
              "         5.770069  ,  5.2124357 ,  4.3052373 ,  1.3792781 ,  0.8005689 ,\n",
              "         2.684975  ,  2.188901  ,  3.448495  ,  4.792791  ,  5.909497  ,\n",
              "         7.955139  ,  9.233251  ,  9.119957  ,  9.261035  ,  2.9975643 ,\n",
              "         1.9903    ,  1.6718756 ,  2.58726   ,  1.9542675 ,  2.1405175 ,\n",
              "         1.6731445 ,  1.178066  ,  2.6046596 ,  4.0535207 ,  4.755552  ,\n",
              "         5.835533  ,  7.3285947 ,  7.6915874 ,  7.6137385 ,  2.8398395 ,\n",
              "         3.3314493 ,  2.5113592 ,  2.0298178 ,  3.3189912 ,  4.8585114 ,\n",
              "         4.7158113 ,  4.6272564 ,  6.2273393 ,  7.223699  ,  9.988826  ,\n",
              "         8.288783  ,  5.237044  ,  2.6687312 ,  2.4694824 ,  3.5809126 ,\n",
              "         5.3039985 ,  6.3736773 ,  6.23859   ,  6.344448  ,  5.5967784 ,\n",
              "         4.148265  ,  6.354063  ,  7.0523105 ,  6.644291  ,  1.5557402 ,\n",
              "         1.0602225 ,  2.6997712 ,  4.3472815 ,  3.2732253 ,  3.5330117 ,\n",
              "         3.0514553 ,  3.2215595 ,  3.1218312 ,  4.204726  ,  6.9420166 ,\n",
              "        11.60342   , 12.176869  , 13.453348  , 14.439218  , 15.278827  ,\n",
              "        10.020564  ,  3.8659077 ,  2.0333557 ,  3.9704196 ,  5.2561073 ,\n",
              "         5.4017196 ,  6.697758  ,  9.399555  , 11.09861   , 10.672504  ,\n",
              "         7.815193  ,  8.272939  ,  8.983307  , 10.819359  ,  9.587128  ,\n",
              "        11.14034   , 13.304127  , 11.300749  , 10.6548    , 11.274142  ,\n",
              "         7.8193297 ,  6.9860325 ,  6.769106  , 12.204499  , 16.113087  ,\n",
              "        14.353757  ,  3.5346606 ,  3.313356  ,  1.8951993 ,  7.7469826 ,\n",
              "         9.033199  ,  9.231903  ,  9.467803  ,  9.404374  , 11.023445  ,\n",
              "        11.800318  ,  2.8124304 ,  4.0199337 ,  3.950694  ,  3.7909858 ,\n",
              "         3.9367132 ,  6.9262767 , 10.6855    ,  9.707618  ,  6.670374  ,\n",
              "         7.674061  ,  8.309083  , 11.966503  , 12.519148  , 10.110762  ,\n",
              "        10.707312  , 13.19876   , 12.978641  , 17.091331  ,  9.630076  ,\n",
              "         3.1794276 ,  2.9887314 ,  3.3808594 ,  4.881789  ,  4.761776  ,\n",
              "         6.241043  ,  5.2421517 ,  6.347189  ,  5.175462  ,  6.029026  ,\n",
              "        11.695898  , 14.624441  , 21.540733  , 18.883375  , 10.238024  ,\n",
              "         6.1705375 ,  4.2898383 ,  3.2523804 ,  5.2908754 ,  7.9320273 ,\n",
              "         5.3697076 ,  5.336057  ,  5.5906935 ,  7.074054  ,  9.375492  ,\n",
              "        11.086345  , 10.371183  ,  9.408301  ,  7.407569  ,  3.3996441 ,\n",
              "         3.2378588 ,  2.5028694 ,  2.6447754 ,  5.0076265 ,  2.8739963 ,\n",
              "         2.8070548 ,  5.404184  ,  7.739886  , 10.505011  , 10.031975  ,\n",
              "         9.742052  ,  2.6674068 ,  3.8989453 ,  5.0200095 ,  6.615648  ,\n",
              "         7.476633  ,  3.9717202 ,  4.3323865 ,  2.6973286 ,  1.2728416 ,\n",
              "         1.2849373 ,  1.4467553 ,  1.4952526 ,  0.98913246,  1.9539042 ,\n",
              "         2.3853426 ,  2.5916712 ,  4.069341  ,  5.2415066 ,  5.630094  ,\n",
              "         3.8688655 ,  3.7874763 ,  4.2134275 ,  5.7756824 ,  9.770691  ,\n",
              "        13.159069  , 16.036814  , 15.505876  , 12.111253  ,  8.840368  ,\n",
              "         8.823597  ,  5.2454715 ,  3.878957  ,  5.697788  ,  7.8928275 ,\n",
              "        11.124117  ,  6.7739263 ,  3.14318   ,  3.6283498 ,  3.892282  ,\n",
              "         2.6967316 ,  3.2670074 ,  2.4376302 ,  3.6690652 ,  3.585248  ,\n",
              "         2.9584897 ,  4.53231   ,  6.682528  , 11.290611  , 14.65142   ,\n",
              "        16.85183   ], dtype=float32),\n",
              " 'mase': 2.1854093,\n",
              " 'mse': array([3.33394000e+05, 1.03724445e+05, 9.75477734e+04, 1.80555578e+05,\n",
              "        2.26793469e+05, 3.19683781e+05, 3.31785156e+05, 2.79899312e+05,\n",
              "        3.70252281e+05, 5.32036625e+05, 7.95682000e+05, 6.82951375e+05,\n",
              "        5.56032125e+05, 6.60285000e+05, 3.52380906e+05, 1.16671945e+05,\n",
              "        8.00336719e+04, 9.34664531e+04, 9.21393672e+04, 1.04041875e+05,\n",
              "        1.96615488e+04, 2.64791699e+04, 6.18707188e+04, 1.02955797e+05,\n",
              "        4.36306016e+04, 3.45583516e+04, 1.73448262e+04, 1.06492334e+04,\n",
              "        1.50544912e+04, 3.00173652e+04, 9.54852891e+04, 1.50687219e+05,\n",
              "        9.55566953e+04, 1.24640773e+05, 1.22260398e+05, 1.22192852e+05,\n",
              "        1.64926156e+05, 1.04291938e+05, 1.04716102e+05, 7.14317812e+04,\n",
              "        1.85622641e+05, 2.40555898e+04, 1.04443379e+04, 1.08766943e+04,\n",
              "        1.81710645e+04, 1.34194131e+04, 7.59755225e+03, 1.30255479e+04,\n",
              "        9.67257910e+03, 1.21373447e+04, 1.71709180e+04, 2.91904902e+04,\n",
              "        5.34009375e+04, 4.30802227e+04, 1.54338922e+05, 2.63090000e+05,\n",
              "        3.92752844e+05, 3.85401812e+05, 3.42097688e+05, 3.03134500e+05,\n",
              "        2.02138109e+05, 1.61282828e+05, 1.68757281e+05, 2.24789250e+05,\n",
              "        3.34351000e+05, 3.17256219e+05, 3.24330469e+05, 2.94770938e+05,\n",
              "        3.21403379e+04, 7.15406328e+04, 6.01047383e+04, 1.94125781e+05,\n",
              "        2.96338000e+05, 1.73771594e+05, 1.10524422e+05, 1.69625984e+05,\n",
              "        1.34109234e+05, 2.44139016e+05, 3.85172812e+05, 5.37043375e+05,\n",
              "        6.99801562e+05, 4.24303656e+05, 9.64800000e+04, 4.17386289e+04,\n",
              "        5.79252109e+04, 5.76000039e+04, 7.16003516e+04, 1.40586828e+05,\n",
              "        1.72043281e+05, 3.53915438e+05, 2.63749906e+05, 2.47050219e+05,\n",
              "        1.52179578e+05, 8.25143125e+04, 3.97282109e+04, 7.46978125e+04,\n",
              "        1.56581328e+05, 3.18724781e+05, 4.61892062e+05, 6.32013812e+05,\n",
              "        3.03695938e+05, 1.08098164e+05, 5.32101680e+04, 1.21410133e+05,\n",
              "        2.14644328e+05, 2.69117562e+05, 3.37814000e+05, 4.53375344e+05,\n",
              "        1.08349212e+06, 9.69460000e+05, 7.77834312e+05, 1.66238922e+05,\n",
              "        4.37044336e+04, 7.97520547e+04, 5.02197266e+04, 1.45318984e+05,\n",
              "        1.32896734e+05, 2.33199766e+05, 3.67667812e+05, 1.87499225e+06,\n",
              "        3.82544675e+06, 6.11114400e+06, 5.20348900e+06, 5.72459100e+06,\n",
              "        5.94761650e+06, 7.06636100e+06, 1.77607712e+06, 5.71786875e+05,\n",
              "        2.38541328e+05, 1.96971125e+05, 3.72253031e+05, 2.90039969e+05,\n",
              "        3.16406531e+05, 1.58819891e+05, 1.78927250e+05, 1.23254617e+05,\n",
              "        1.53376625e+05, 1.07515883e+05, 1.52277422e+05, 1.95200203e+05,\n",
              "        2.03025844e+05, 2.16209500e+05, 1.07583070e+05, 4.19026469e+05,\n",
              "        5.16380344e+05, 2.37964578e+05, 1.60922766e+05, 6.32510664e+04,\n",
              "        1.01699102e+05, 6.11560195e+04, 5.93905352e+04, 3.07242906e+05,\n",
              "        1.51582078e+05, 3.16971906e+05, 2.01775000e+05, 1.35609594e+05,\n",
              "        4.69756445e+04, 5.22583164e+04, 6.42655742e+04, 3.81848828e+04,\n",
              "        1.08177227e+05, 9.06808047e+04, 6.81520859e+04, 8.95860234e+04,\n",
              "        1.13006180e+05, 1.79956609e+05, 3.22909750e+05, 7.15943688e+05,\n",
              "        5.49820938e+05, 6.98467312e+05, 1.05350462e+06, 1.06671038e+06,\n",
              "        1.13801400e+06, 1.18490050e+06, 3.22156281e+05, 2.08278234e+05,\n",
              "        2.85719562e+05, 2.43085984e+05, 2.06137266e+05, 2.00610203e+05,\n",
              "        2.55878719e+05, 3.12861438e+05, 6.31455375e+05, 1.10615862e+06,\n",
              "        9.01712938e+05, 1.76444016e+05, 3.40770812e+05, 5.88025688e+05,\n",
              "        1.55192500e+05, 7.37252344e+04, 1.07882586e+05, 7.47378125e+04,\n",
              "        2.11414594e+05, 2.25098469e+05, 4.67451500e+05, 3.93355188e+05,\n",
              "        1.56228234e+05, 8.65428203e+04, 1.18756789e+05, 1.16208570e+05,\n",
              "        4.17561219e+05, 6.82756562e+05, 5.77383688e+05, 2.78386688e+05,\n",
              "        1.91040875e+05, 4.51314023e+04, 9.66046719e+04, 1.35987234e+05,\n",
              "        3.46512305e+04, 2.73080371e+04, 1.20861430e+05, 5.39484766e+04,\n",
              "        4.05714727e+04, 7.52649922e+04, 9.88261641e+04, 1.81728578e+05,\n",
              "        2.87719406e+05, 3.26745312e+04, 1.88171465e+04, 3.13027598e+04,\n",
              "        3.67352773e+04, 5.45493164e+04, 4.20905508e+04, 3.76223359e+04,\n",
              "        2.50840273e+04, 3.01902812e+04, 3.87692148e+04, 4.62195898e+04,\n",
              "        9.53595703e+04, 3.34977250e+05, 8.52137344e+04, 8.93841406e+04,\n",
              "        2.57094395e+04, 4.94461572e+03, 8.79626367e+03, 8.49029102e+03,\n",
              "        1.57091475e+04, 3.55610195e+04, 3.16384863e+04, 3.69771133e+04,\n",
              "        6.76249902e+03, 3.62076914e+04, 4.05944751e+03, 1.35008799e+04,\n",
              "        4.68076211e+04, 2.68615254e+04, 2.30234590e+04, 7.54533350e+03,\n",
              "        9.36424023e+03, 1.82010156e+04, 3.38128711e+04, 2.85906777e+04,\n",
              "        5.20125000e+04, 6.49524297e+04, 1.04471016e+05, 1.46007438e+05,\n",
              "        7.14144688e+05, 9.58125312e+05, 1.22509600e+06, 1.29478712e+06,\n",
              "        1.68467775e+06, 2.08443112e+06, 1.80137138e+06, 3.43922781e+05,\n",
              "        8.38062969e+04, 8.79114766e+04, 6.41988086e+04, 1.04314453e+05,\n",
              "        2.05045047e+05, 3.14043750e+04, 2.54131523e+04, 4.96176289e+04,\n",
              "        3.26739727e+04, 1.10487914e+05, 1.30131867e+05, 1.24735758e+05,\n",
              "        9.50999453e+04, 1.58834859e+05, 9.33186641e+04, 9.37423594e+04,\n",
              "        5.72294297e+04, 5.36821914e+04, 4.13911602e+04, 7.44215391e+04,\n",
              "        2.05739219e+05, 3.66187438e+05, 1.16855016e+05, 1.17204914e+05,\n",
              "        4.12653633e+04, 9.10168750e+04, 1.75218281e+05, 1.09306273e+05,\n",
              "        5.18959297e+04, 9.13076484e+04, 1.20695414e+05, 2.13619031e+05,\n",
              "        4.99358281e+05, 9.10010562e+05, 1.38975025e+06, 2.40428150e+06,\n",
              "        1.95363112e+06, 8.23527188e+05, 3.59575312e+05, 2.67775332e+04,\n",
              "        4.69525234e+04, 7.13935547e+04, 1.49703359e+05, 2.84783344e+05,\n",
              "        2.56093453e+05, 2.42521719e+05, 2.33469703e+05, 1.67033984e+05,\n",
              "        5.82417461e+04, 2.51238906e+04, 1.46595703e+05, 2.57371109e+05,\n",
              "        1.79850125e+05, 3.15337250e+05, 1.43075406e+05, 5.45757695e+04,\n",
              "        4.02590859e+04, 1.04498383e+05, 2.46403535e+04, 1.82447305e+04,\n",
              "        3.22257832e+04, 7.33687812e+04, 1.17344664e+05, 9.29680547e+04,\n",
              "        5.05981641e+04, 3.16992832e+04, 4.74245938e+04, 1.20601891e+05,\n",
              "        1.93126094e+05, 3.08337844e+05, 4.02318344e+05, 4.99645938e+05,\n",
              "        3.91438750e+05, 2.66566938e+05, 3.88146797e+04, 1.24275049e+04,\n",
              "        1.16664797e+05, 7.14946953e+04, 3.96406812e+05, 7.48489312e+05,\n",
              "        9.75264562e+05, 1.51613375e+06, 1.74917412e+06, 1.57698800e+06,\n",
              "        1.58133600e+06, 2.45576719e+05, 9.23140078e+04, 6.55380859e+04,\n",
              "        1.31787750e+05, 1.15113414e+05, 1.02307930e+05, 7.25379219e+04,\n",
              "        5.40419141e+04, 5.24896812e+05, 9.50770125e+05, 9.26232125e+05,\n",
              "        1.11365888e+06, 1.60103862e+06, 1.57692200e+06, 1.47775112e+06,\n",
              "        3.83324469e+05, 3.69744031e+05, 2.38819047e+05, 1.43169625e+05,\n",
              "        4.32763156e+05, 1.06803788e+06, 1.17400338e+06, 1.00694612e+06,\n",
              "        1.58363538e+06, 2.21012875e+06, 3.77491825e+06, 2.50035525e+06,\n",
              "        1.18956588e+06, 3.58880188e+05, 3.03592812e+05, 8.44406500e+05,\n",
              "        1.34112062e+06, 1.83813462e+06, 1.75363200e+06, 1.99065762e+06,\n",
              "        1.55192062e+06, 7.54376062e+05, 1.98689962e+06, 1.98100862e+06,\n",
              "        1.75947562e+06, 1.28232172e+05, 5.40807266e+04, 3.39730281e+05,\n",
              "        7.68867188e+05, 5.17358750e+05, 5.58042312e+05, 4.50932219e+05,\n",
              "        4.61642469e+05, 4.06037281e+05, 1.20640425e+06, 4.41879750e+06,\n",
              "        9.13147900e+06, 1.13353390e+07, 1.30212570e+07, 1.33741100e+07,\n",
              "        1.30366630e+07, 5.69693500e+06, 1.04668162e+06, 5.55939375e+05,\n",
              "        1.45060125e+06, 2.21110100e+06, 2.93645750e+06, 4.17465325e+06,\n",
              "        8.86809600e+06, 1.12878900e+07, 1.06687820e+07, 9.75505400e+06,\n",
              "        1.13975120e+07, 1.14823420e+07, 1.65296480e+07, 1.71318060e+07,\n",
              "        2.64630180e+07, 3.67715960e+07, 2.96931160e+07, 2.13515460e+07,\n",
              "        2.45664100e+07, 1.40850790e+07, 7.98280700e+06, 1.00049820e+07,\n",
              "        2.39863500e+07, 3.69922320e+07, 2.79343300e+07, 2.16239375e+06,\n",
              "        1.95902162e+06, 9.66099125e+05, 8.49763400e+06, 1.26890310e+07,\n",
              "        1.31594640e+07, 1.40178720e+07, 1.10246220e+07, 1.47196250e+07,\n",
              "        1.47363250e+07, 1.04302138e+06, 2.51192675e+06, 2.82747050e+06,\n",
              "        2.01651562e+06, 2.33862700e+06, 6.62512800e+06, 1.67676470e+07,\n",
              "        1.61179680e+07, 8.83295300e+06, 1.08211450e+07, 1.35291040e+07,\n",
              "        3.16443400e+07, 4.43336120e+07, 3.55703480e+07, 3.59946480e+07,\n",
              "        4.78694120e+07, 4.24167600e+07, 6.63626600e+07, 2.33264860e+07,\n",
              "        3.14468200e+06, 4.87435350e+06, 4.78159750e+06, 1.07451600e+07,\n",
              "        1.08128370e+07, 1.72822160e+07, 1.14444390e+07, 1.49543870e+07,\n",
              "        8.87318500e+06, 1.16514550e+07, 4.61954440e+07, 6.23508280e+07,\n",
              "        1.12169384e+08, 8.19101200e+07, 2.64749020e+07, 1.25423810e+07,\n",
              "        5.62378700e+06, 3.60028975e+06, 7.83456250e+06, 1.69358820e+07,\n",
              "        1.06481170e+07, 1.23299020e+07, 1.75144200e+07, 2.47907220e+07,\n",
              "        3.78497200e+07, 5.26399120e+07, 4.78895560e+07, 3.45402760e+07,\n",
              "        2.01211540e+07, 7.52182800e+06, 4.23857350e+06, 3.06185050e+06,\n",
              "        3.44073350e+06, 9.38222300e+06, 5.84576100e+06, 4.33842200e+06,\n",
              "        1.37386530e+07, 2.51135820e+07, 3.83723960e+07, 3.33786180e+07,\n",
              "        3.01767680e+07, 3.73629075e+06, 6.47484450e+06, 1.15425380e+07,\n",
              "        1.68360760e+07, 2.10577000e+07, 5.81830550e+06, 6.72836650e+06,\n",
              "        3.22983575e+06, 6.79807688e+05, 7.93674000e+05, 1.18572462e+06,\n",
              "        9.69263312e+05, 6.35788812e+05, 1.58890925e+06, 2.93819975e+06,\n",
              "        4.41733200e+06, 1.04396230e+07, 1.59341440e+07, 1.58365250e+07,\n",
              "        8.02327050e+06, 6.90858150e+06, 7.81497500e+06, 1.88693180e+07,\n",
              "        4.18421640e+07, 6.20995120e+07, 8.48631200e+07, 7.41613920e+07,\n",
              "        4.62633920e+07, 2.55688940e+07, 2.45755620e+07, 1.02823180e+07,\n",
              "        5.33402050e+06, 1.16097650e+07, 2.34686680e+07, 4.12730560e+07,\n",
              "        1.70490560e+07, 3.89742050e+06, 4.65160700e+06, 6.30977050e+06,\n",
              "        3.60876825e+06, 4.55321650e+06, 3.40397625e+06, 5.22099650e+06,\n",
              "        5.63631050e+06, 4.36895950e+06, 9.38240800e+06, 2.11363800e+07,\n",
              "        4.66035280e+07, 6.60825960e+07, 8.01464320e+07], dtype=float32),\n",
              " 'rmse': array([  577.4028  ,   322.0628  ,   312.32635 ,   424.9183  ,\n",
              "          476.2284  ,   565.4059  ,   576.00793 ,   529.05505 ,\n",
              "          608.4836  ,   729.4084  ,   892.01    ,   826.4087  ,\n",
              "          745.67566 ,   812.5792  ,   593.6168  ,   341.57275 ,\n",
              "          282.90222 ,   305.72284 ,   303.54468 ,   322.55524 ,\n",
              "          140.21965 ,   162.72421 ,   248.73827 ,   320.86728 ,\n",
              "          208.87941 ,   185.89874 ,   131.69975 ,   103.195114,\n",
              "          122.69674 ,   173.2552  ,   309.00693 ,   388.18454 ,\n",
              "          309.12244 ,   353.045   ,   349.65756 ,   349.56097 ,\n",
              "          406.11105 ,   322.94263 ,   323.59863 ,   267.26724 ,\n",
              "          430.83945 ,   155.09865 ,   102.19755 ,   104.29139 ,\n",
              "          134.8001  ,   115.84219 ,    87.16393 ,   114.129524,\n",
              "           98.349266,   110.16961 ,   131.03784 ,   170.85223 ,\n",
              "          231.08643 ,   207.55775 ,   392.8599  ,   512.92303 ,\n",
              "          626.7     ,   620.80743 ,   584.8912  ,   550.5765  ,\n",
              "          449.59775 ,   401.60034 ,   410.80078 ,   474.11948 ,\n",
              "          578.23083 ,   563.255   ,   569.5002  ,   542.92816 ,\n",
              "          179.27727 ,   267.4708  ,   245.16267 ,   440.59705 ,\n",
              "          544.3694  ,   416.85922 ,   332.45215 ,   411.85672 ,\n",
              "          366.20926 ,   494.10425 ,   620.623   ,   732.83234 ,\n",
              "          836.54144 ,   651.3859  ,   310.6123  ,   204.30034 ,\n",
              "          240.67656 ,   239.99997 ,   267.58243 ,   374.9491  ,\n",
              "          414.78098 ,   594.9079  ,   513.56586 ,   497.04144 ,\n",
              "          390.102   ,   287.25305 ,   199.31937 ,   273.309   ,\n",
              "          395.70358 ,   564.5571  ,   679.62646 ,   794.9929  ,\n",
              "          551.0861  ,   328.78287 ,   230.6733  ,   348.43958 ,\n",
              "          463.29724 ,   518.76544 ,   581.2177  ,   673.3315  ,\n",
              "         1040.9092  ,   984.61163 ,   881.9492  ,   407.7241  ,\n",
              "          209.05605 ,   282.40405 ,   224.09758 ,   381.20724 ,\n",
              "          364.55005 ,   482.90762 ,   606.3562  ,  1369.3035  ,\n",
              "         1955.875   ,  2472.0725  ,  2281.1157  ,  2392.6116  ,\n",
              "         2438.7737  ,  2658.263   ,  1332.6954  ,   756.1659  ,\n",
              "          488.4069  ,   443.81427 ,   610.1254  ,   538.5535  ,\n",
              "          562.5002  ,   398.52213 ,   422.99796 ,   351.07635 ,\n",
              "          391.63327 ,   327.89615 ,   390.2274  ,   441.81464 ,\n",
              "          450.58386 ,   464.98334 ,   327.99857 ,   647.3225  ,\n",
              "          718.596   ,   487.81613 ,   401.15176 ,   251.49767 ,\n",
              "          318.90295 ,   247.29744 ,   243.70172 ,   554.295   ,\n",
              "          389.33542 ,   563.00256 ,   449.1937  ,   368.2521  ,\n",
              "          216.73863 ,   228.60077 ,   253.50656 ,   195.40953 ,\n",
              "          328.90305 ,   301.13254 ,   261.05954 ,   299.30923 ,\n",
              "          336.1639  ,   424.21292 ,   568.2515  ,   846.1345  ,\n",
              "          741.4991  ,   835.74347 ,  1026.4037  ,  1032.8168  ,\n",
              "         1066.7773  ,  1088.5314  ,   567.58813 ,   456.37512 ,\n",
              "          534.5274  ,   493.03748 ,   454.0234  ,   447.89532 ,\n",
              "          505.8445  ,   559.34015 ,   794.6417  ,  1051.7407  ,\n",
              "          949.5857  ,   420.0524  ,   583.75574 ,   766.8283  ,\n",
              "          393.9448  ,   271.5239  ,   328.45486 ,   273.38217 ,\n",
              "          459.79843 ,   474.44547 ,   683.7042  ,   627.1803  ,\n",
              "          395.25717 ,   294.1816  ,   344.61108 ,   340.8938  ,\n",
              "          646.18976 ,   826.29083 ,   759.8577  ,   527.62366 ,\n",
              "          437.08224 ,   212.44153 ,   310.81293 ,   368.76447 ,\n",
              "          186.14839 ,   165.25143 ,   347.65128 ,   232.26811 ,\n",
              "          201.4236  ,   274.34467 ,   314.36627 ,   426.29636 ,\n",
              "          536.3948  ,   180.76097 ,   137.17561 ,   176.92586 ,\n",
              "          191.66447 ,   233.55795 ,   205.15982 ,   193.96477 ,\n",
              "          158.37938 ,   173.75351 ,   196.899   ,   214.98743 ,\n",
              "          308.80344 ,   578.7722  ,   291.9139  ,   298.9718  ,\n",
              "          160.34163 ,    70.31796 ,    93.7884  ,    92.14277 ,\n",
              "          125.336136,   188.57628 ,   177.87212 ,   192.29436 ,\n",
              "           82.23441 ,   190.28319 ,    63.71379 ,   116.19328 ,\n",
              "          216.35071 ,   163.89487 ,   151.73482 ,    86.863884,\n",
              "           96.769005,   134.91113 ,   183.88277 ,   169.08778 ,\n",
              "          228.06248 ,   254.85767 ,   323.2198  ,   382.1092  ,\n",
              "          845.0708  ,   978.83875 ,  1106.8406  ,  1137.8871  ,\n",
              "         1297.9513  ,  1443.756   ,  1342.1517  ,   586.4493  ,\n",
              "          289.49316 ,   296.49872 ,   253.37482 ,   322.97748 ,\n",
              "          452.819   ,   177.2128  ,   159.41504 ,   222.75017 ,\n",
              "          180.75943 ,   332.39722 ,   360.73795 ,   353.17947 ,\n",
              "          308.38278 ,   398.5409  ,   305.48105 ,   306.17374 ,\n",
              "          239.22673 ,   231.69418 ,   203.4482  ,   272.8031  ,\n",
              "          453.58484 ,   605.1342  ,   341.84064 ,   342.35202 ,\n",
              "          203.13878 ,   301.69    ,   418.59082 ,   330.615   ,\n",
              "          227.8068  ,   302.17157 ,   347.41245 ,   462.18936 ,\n",
              "          706.6529  ,   953.94476 ,  1178.8766  ,  1550.5745  ,\n",
              "         1397.7235  ,   907.484   ,   599.64594 ,   163.63843 ,\n",
              "          216.6853  ,   267.19574 ,   386.9152  ,   533.65094 ,\n",
              "          506.05673 ,   492.46497 ,   483.18704 ,   408.6979  ,\n",
              "          241.33325 ,   158.50517 ,   382.8782  ,   507.31757 ,\n",
              "          424.08734 ,   561.549   ,   378.2531  ,   233.61456 ,\n",
              "          200.64667 ,   323.2621  ,   156.97244 ,   135.07304 ,\n",
              "          179.51541 ,   270.8667  ,   342.5561  ,   304.90665 ,\n",
              "          224.94034 ,   178.04294 ,   217.77187 ,   347.27786 ,\n",
              "          439.46112 ,   555.2818  ,   634.2857  ,   706.8563  ,\n",
              "          625.65063 ,   516.3012  ,   197.0144  ,   111.47874 ,\n",
              "          341.5623  ,   267.38492 ,   629.60846 ,   865.1527  ,\n",
              "          987.55475 ,  1231.3138  ,  1322.5634  ,  1255.7819  ,\n",
              "         1257.5118  ,   495.557   ,   303.8322  ,   256.00403 ,\n",
              "          363.02582 ,   339.28366 ,   319.8561  ,   269.32864 ,\n",
              "          232.46918 ,   724.49756 ,   975.0744  ,   962.40955 ,\n",
              "         1055.3004  ,  1265.3215  ,  1255.7555  ,  1215.6279  ,\n",
              "          619.132   ,   608.0658  ,   488.69116 ,   378.37762 ,\n",
              "          657.84735 ,  1033.4591  ,  1083.5144  ,  1003.4671  ,\n",
              "         1258.4258  ,  1486.6501  ,  1942.9149  ,  1581.2511  ,\n",
              "         1090.6722  ,   599.0661  ,   550.99255 ,   918.9159  ,\n",
              "         1158.0676  ,  1355.7782  ,  1324.2477  ,  1410.9067  ,\n",
              "         1245.7611  ,   868.5482  ,  1409.5743  ,  1407.4832  ,\n",
              "         1326.4523  ,   358.0952  ,   232.55263 ,   582.8639  ,\n",
              "          876.85065 ,   719.2765  ,   747.0222  ,   671.51483 ,\n",
              "          679.44275 ,   637.2106  ,  1098.3644  ,  2102.0935  ,\n",
              "         3021.8337  ,  3366.7996  ,  3608.4978  ,  3657.063   ,\n",
              "         3610.6318  ,  2386.8252  ,  1023.07465 ,   745.6134  ,\n",
              "         1204.409   ,  1486.9772  ,  1713.6095  ,  2043.1968  ,\n",
              "         2977.9348  ,  3359.7454  ,  3266.3103  ,  3123.308   ,\n",
              "         3376.0203  ,  3388.5605  ,  4065.6672  ,  4139.0586  ,\n",
              "         5144.2217  ,  6063.9585  ,  5449.139   ,  4620.7734  ,\n",
              "         4956.4517  ,  3753.0093  ,  2825.3862  ,  3163.0654  ,\n",
              "         4897.586   ,  6082.1235  ,  5285.2935  ,  1470.5078  ,\n",
              "         1399.6504  ,   982.9033  ,  2915.0703  ,  3562.1665  ,\n",
              "         3627.598   ,  3744.0452  ,  3320.3347  ,  3836.6165  ,\n",
              "         3838.7922  ,  1021.2842  ,  1584.906   ,  1681.5083  ,\n",
              "         1420.0408  ,  1529.257   ,  2573.9324  ,  4094.8315  ,\n",
              "         4014.719   ,  2972.0286  ,  3289.5508  ,  3678.1934  ,\n",
              "         5625.3306  ,  6658.349   ,  5964.0884  ,  5999.554   ,\n",
              "         6918.7725  ,  6512.815   ,  8146.3286  ,  4829.75    ,\n",
              "         1773.3251  ,  2207.7937  ,  2186.6865  ,  3277.9807  ,\n",
              "         3288.2878  ,  4157.1885  ,  3382.9626  ,  3867.0903  ,\n",
              "         2978.789   ,  3413.4229  ,  6796.723   ,  7896.2534  ,\n",
              "        10591.005   ,  9050.421   ,  5145.3765  ,  3541.5222  ,\n",
              "         2371.4524  ,  1897.4427  ,  2799.0288  ,  4115.3228  ,\n",
              "         3263.1453  ,  3511.3958  ,  4185.023   ,  4979.0283  ,\n",
              "         6152.212   ,  7255.3374  ,  6920.228   ,  5877.097   ,\n",
              "         4485.6606  ,  2742.5952  ,  2058.7795  ,  1749.8142  ,\n",
              "         1854.9214  ,  3063.0415  ,  2417.8008  ,  2082.8877  ,\n",
              "         3706.5693  ,  5011.345   ,  6194.545   ,  5777.4233  ,\n",
              "         5493.339   ,  1932.9486  ,  2544.5715  ,  3397.431   ,\n",
              "         4103.1787  ,  4588.8667  ,  2412.1162  ,  2593.9094  ,\n",
              "         1797.1744  ,   824.5045  ,   890.88385 ,  1088.9098  ,\n",
              "          984.5117  ,   797.36365 ,  1260.5194  ,  1714.1178  ,\n",
              "         2101.745   ,  3231.0405  ,  3991.7598  ,  3979.513   ,\n",
              "         2832.5378  ,  2628.4182  ,  2795.5276  ,  4343.883   ,\n",
              "         6468.552   ,  7880.3247  ,  9212.118   ,  8611.701   ,\n",
              "         6801.7197  ,  5056.5693  ,  4957.374   ,  3206.6055  ,\n",
              "         2309.5498  ,  3407.3103  ,  4844.4473  ,  6424.411   ,\n",
              "         4129.0503  ,  1974.1885  ,  2156.7583  ,  2511.9255  ,\n",
              "         1899.6758  ,  2133.827   ,  1844.9868  ,  2284.95    ,\n",
              "         2374.0916  ,  2090.2056  ,  3063.0718  ,  4597.432   ,\n",
              "         6826.6777  ,  8129.12    ,  8952.454   ], dtype=float32)}"
            ]
          },
          "metadata": {
            "tags": []
          },
          "execution_count": 55
        }
      ]
    },
    {
      "cell_type": "code",
      "metadata": {
        "id": "kVVZKzEVEK5u"
      },
      "source": [
        "## Evaluate function for larger HORIZON\n",
        "def evaluate_preds(y_true, y_pred):\n",
        "\n",
        "  y_true = tf.cast(y_true, dtype=tf.float32)\n",
        "  y_pred = tf.cast(y_pred, dtype=tf.float32)\n",
        "\n",
        "  mae = tf.keras.metrics.mean_absolute_error(y_true, y_pred)\n",
        "\n",
        "  mse = tf.keras.metrics.mean_squared_error(y_true, y_pred)\n",
        "\n",
        "  rmse = tf.sqrt(mse)\n",
        "\n",
        "  mape = tf.keras.metrics.mean_absolute_percentage_error(y_true, y_pred)\n",
        "\n",
        "  mase = mean_absolute_scaled_error(y_true, y_pred)\n",
        "\n",
        "  ## Account for different size matrix of linger\n",
        "\n",
        "  if mae.ndim > 0:\n",
        "    mae = tf.reduce_mean(mae)\n",
        "    mse = tf.reduce_mean(mse)\n",
        "    rmse = tf.reduce_mean(rmse)\n",
        "    mape = tf.reduce_mean(mape)\n",
        "    mase = tf.reduce_mean(mase) \n",
        "\n",
        "  return {\"mae\": mae.numpy(),\n",
        "          \"mse\":mse.numpy(),\n",
        "          \"rmse\":rmse.numpy(),\n",
        "          \"mape\":mape.numpy(),\n",
        "          \"mase\":mase.numpy()}"
      ],
      "execution_count": 56,
      "outputs": []
    },
    {
      "cell_type": "code",
      "metadata": {
        "colab": {
          "base_uri": "https://localhost:8080/"
        },
        "id": "MYwhuZ8SGb7q",
        "outputId": "1c290029-2f3b-49b9-d72f-4450d9bb2efe"
      },
      "source": [
        "model_3 = tf.keras.models.load_model(\"/content/model_experiment/model_3_dense\")\n",
        "\n",
        "model_3_preds = make_preds(model_3, test_windows)\n",
        "\n",
        "model_3_results = evaluate_preds(tf.squeeze(test_labels), tf.squeeze(model_3_preds))\n",
        "\n",
        "model_3_results"
      ],
      "execution_count": 57,
      "outputs": [
        {
          "output_type": "execute_result",
          "data": {
            "text/plain": [
              "{'mae': 1228.1416,\n",
              " 'mape': 5.4698334,\n",
              " 'mase': 2.1854093,\n",
              " 'mse': 5323686.5,\n",
              " 'rmse': 1412.9114}"
            ]
          },
          "metadata": {
            "tags": []
          },
          "execution_count": 57
        }
      ]
    },
    {
      "cell_type": "code",
      "metadata": {
        "colab": {
          "base_uri": "https://localhost:8080/"
        },
        "id": "ZPqL1S0fGejd",
        "outputId": "1247cf1c-74b5-4f03-f95c-fae31bfbcebb"
      },
      "source": [
        "model_2_results"
      ],
      "execution_count": 58,
      "outputs": [
        {
          "output_type": "execute_result",
          "data": {
            "text/plain": [
              "{'mae': 608.8481,\n",
              " 'mape': 2.7680666,\n",
              " 'mase': 1.0642723,\n",
              " 'mse': 1284314.4,\n",
              " 'rmse': 1133.276}"
            ]
          },
          "metadata": {
            "tags": []
          },
          "execution_count": 58
        }
      ]
    },
    {
      "cell_type": "code",
      "metadata": {
        "colab": {
          "base_uri": "https://localhost:8080/",
          "height": 442
        },
        "id": "EMrQkrFRGjfo",
        "outputId": "027a40c6-12c7-4101-cdb3-c42d86a47fad"
      },
      "source": [
        "\n",
        "offset = 300\n",
        "plt.figure(figsize=(10, 7))\n",
        "# Account for the test_window offset and index into test_labels to ensure correct plotting\n",
        "plot_time_series(timesteps=X_test[-len(test_windows):], values=test_labels[:, 0], start=offset, label=\"Test_data\")\n",
        "plot_time_series(timesteps=X_test[-len(test_windows):], values=tf.reduce_mean(model_3_preds, axis=1), format=\"-\" , start=offset,  label=\"model_3_preds\")"
      ],
      "execution_count": 59,
      "outputs": [
        {
          "output_type": "display_data",
          "data": {
            "image/png": "[encoded data removed]",
            "text/plain": [
              "<Figure size 720x504 with 1 Axes>"
            ]
          },
          "metadata": {
            "tags": [],
            "needs_background": "light"
          }
        }
      ]
    },
    {
      "cell_type": "markdown",
      "metadata": {
        "id": "C00ThgcfHEXk"
      },
      "source": [
        "### Model Comparisons "
      ]
    },
    {
      "cell_type": "code",
      "metadata": {
        "colab": {
          "base_uri": "https://localhost:8080/",
          "height": 457
        },
        "id": "5WrP9kBMcPGv",
        "outputId": "5aa1be47-cdb8-48d3-ea45-abe32fdd28fc"
      },
      "source": [
        "pd.DataFrame({\"naive\":naive_results[\"mae\"],\n",
        "              \"horizon_1_window_7\":model_1_results[\"mae\"],\n",
        "              \"horizon_1_window_30\":model_2_results[\"mae\"],\n",
        "              \"horizon_7_window_30\":model_3_results[\"mae\"]}, index = [\"mae\"]).plot(figsize=(10, 7) , kind = \"bar\")"
      ],
      "execution_count": 60,
      "outputs": [
        {
          "output_type": "execute_result",
          "data": {
            "text/plain": [
              "<matplotlib.axes._subplots.AxesSubplot at 0x7f8d2df0ccd0>"
            ]
          },
          "metadata": {
            "tags": []
          },
          "execution_count": 60
        },
        {
          "output_type": "display_data",
          "data": {
            "image/png": "[encoded data removed]",
            "text/plain": [
              "<Figure size 720x504 with 1 Axes>"
            ]
          },
          "metadata": {
            "tags": [],
            "needs_background": "light"
          }
        }
      ]
    },
    {
      "cell_type": "markdown",
      "metadata": {
        "id": "IEU4eXspclPQ"
      },
      "source": [
        "## Model 4 -  Conv 1D"
      ]
    },
    {
      "cell_type": "code",
      "metadata": {
        "colab": {
          "base_uri": "https://localhost:8080/"
        },
        "id": "xejDq7YIeh9D",
        "outputId": "e4e2bd6d-8b07-4b86-9142-5af6fc93cf6b"
      },
      "source": [
        "HORIZON = 1\n",
        "WINDOW_SIZE = 7 \n",
        "\n",
        "full_windows, full_labels = make_windows(btc_price, window_size=WINDOW_SIZE, horizon=HORIZON)\n",
        "\n",
        "train_windows, test_windows, train_labels, test_labels = make_train_test_splits(full_windows, full_labels)\n",
        "\n",
        "len(train_windows), len(test_windows),  len(train_labels), len(test_labels)\n"
      ],
      "execution_count": 61,
      "outputs": [
        {
          "output_type": "execute_result",
          "data": {
            "text/plain": [
              "(2224, 556, 2224, 556)"
            ]
          },
          "metadata": {
            "tags": []
          },
          "execution_count": 61
        }
      ]
    },
    {
      "cell_type": "code",
      "metadata": {
        "colab": {
          "base_uri": "https://localhost:8080/"
        },
        "id": "B3jj2RAPfvms",
        "outputId": "a1fa755f-714d-48da-e2d7-e72d56f9e774"
      },
      "source": [
        "train_windows[0].shape"
      ],
      "execution_count": 62,
      "outputs": [
        {
          "output_type": "execute_result",
          "data": {
            "text/plain": [
              "(7,)"
            ]
          },
          "metadata": {
            "tags": []
          },
          "execution_count": 62
        }
      ]
    },
    {
      "cell_type": "code",
      "metadata": {
        "colab": {
          "base_uri": "https://localhost:8080/"
        },
        "id": "QRi45F84gJe9",
        "outputId": "8d04c3a1-f7fa-4ab1-f7fd-ffbfea67b95a"
      },
      "source": [
        "x = tf.constant(train_windows[0])\n",
        "\n",
        "expand_dims_layer = layers.Lambda( lambda x : tf.expand_dims(x, axis=1)) ## Add an extra dimension\n",
        "\n",
        "print(x.shape ,expand_dims_layer(x).shape )"
      ],
      "execution_count": 63,
      "outputs": [
        {
          "output_type": "stream",
          "text": [
            "(7,) (7, 1)\n"
          ],
          "name": "stdout"
        }
      ]
    },
    {
      "cell_type": "code",
      "metadata": {
        "colab": {
          "base_uri": "https://localhost:8080/"
        },
        "id": "ooAmQx8qhKqj",
        "outputId": "c4911f7b-5f89-4257-ebd5-1a4864c58524"
      },
      "source": [
        "x"
      ],
      "execution_count": 64,
      "outputs": [
        {
          "output_type": "execute_result",
          "data": {
            "text/plain": [
              "<tf.Tensor: shape=(7,), dtype=float64, numpy=\n",
              "array([123.65499, 125.455  , 108.58483, 118.67466, 121.33866, 120.65533,\n",
              "       121.795  ])>"
            ]
          },
          "metadata": {
            "tags": []
          },
          "execution_count": 64
        }
      ]
    },
    {
      "cell_type": "code",
      "metadata": {
        "colab": {
          "base_uri": "https://localhost:8080/"
        },
        "id": "XKA-eWIRhIpD",
        "outputId": "e733ed0f-7acb-4ace-b9e1-393d9de03ed2"
      },
      "source": [
        "expand_dims_layer(x)"
      ],
      "execution_count": 65,
      "outputs": [
        {
          "output_type": "execute_result",
          "data": {
            "text/plain": [
              "<tf.Tensor: shape=(7, 1), dtype=float32, numpy=\n",
              "array([[123.65499],\n",
              "       [125.455  ],\n",
              "       [108.58483],\n",
              "       [118.67466],\n",
              "       [121.33866],\n",
              "       [120.65533],\n",
              "       [121.795  ]], dtype=float32)>"
            ]
          },
          "metadata": {
            "tags": []
          },
          "execution_count": 65
        }
      ]
    },
    {
      "cell_type": "code",
      "metadata": {
        "colab": {
          "base_uri": "https://localhost:8080/"
        },
        "id": "oIPyPAeUe-QP",
        "outputId": "fde1839b-4102-4430-f2ae-18d0331ae0e4"
      },
      "source": [
        "tf.random.set_seed(42)\n",
        "\n",
        "model_4 = tf.keras.Sequential([\n",
        "  layers.Lambda(lambda x: tf.expand_dims(x , axis=1)),                                                             \n",
        "  layers.Conv1D(filters=128, kernel_size=7, strides=1, padding=\"causal\", activation=\"relu\"),\n",
        "  layers.Dense(HORIZON)\n",
        "], name=\"model_4_conv1D\")\n",
        "\n",
        "\n",
        "model_4.compile(loss=\"MAE\",\n",
        "                optimizer=\"Adam\")\n",
        "\n",
        "model_4.fit(train_windows,\n",
        "            train_labels,\n",
        "            epochs=100,\n",
        "            batch_size=128,\n",
        "            verbose=0,\n",
        "            validation_data=(test_windows, test_labels),\n",
        "            callbacks=[create_model_checkpoint(model_name=model_4.name)])"
      ],
      "execution_count": 66,
      "outputs": [
        {
          "output_type": "stream",
          "text": [
            "INFO:tensorflow:Assets written to: model_experiment/model_4_conv1D/assets\n",
            "INFO:tensorflow:Assets written to: model_experiment/model_4_conv1D/assets\n",
            "INFO:tensorflow:Assets written to: model_experiment/model_4_conv1D/assets\n",
            "INFO:tensorflow:Assets written to: model_experiment/model_4_conv1D/assets\n",
            "INFO:tensorflow:Assets written to: model_experiment/model_4_conv1D/assets\n",
            "INFO:tensorflow:Assets written to: model_experiment/model_4_conv1D/assets\n",
            "INFO:tensorflow:Assets written to: model_experiment/model_4_conv1D/assets\n",
            "INFO:tensorflow:Assets written to: model_experiment/model_4_conv1D/assets\n",
            "INFO:tensorflow:Assets written to: model_experiment/model_4_conv1D/assets\n",
            "INFO:tensorflow:Assets written to: model_experiment/model_4_conv1D/assets\n",
            "INFO:tensorflow:Assets written to: model_experiment/model_4_conv1D/assets\n",
            "INFO:tensorflow:Assets written to: model_experiment/model_4_conv1D/assets\n",
            "INFO:tensorflow:Assets written to: model_experiment/model_4_conv1D/assets\n",
            "INFO:tensorflow:Assets written to: model_experiment/model_4_conv1D/assets\n",
            "INFO:tensorflow:Assets written to: model_experiment/model_4_conv1D/assets\n",
            "INFO:tensorflow:Assets written to: model_experiment/model_4_conv1D/assets\n",
            "INFO:tensorflow:Assets written to: model_experiment/model_4_conv1D/assets\n",
            "INFO:tensorflow:Assets written to: model_experiment/model_4_conv1D/assets\n",
            "INFO:tensorflow:Assets written to: model_experiment/model_4_conv1D/assets\n",
            "INFO:tensorflow:Assets written to: model_experiment/model_4_conv1D/assets\n",
            "INFO:tensorflow:Assets written to: model_experiment/model_4_conv1D/assets\n",
            "INFO:tensorflow:Assets written to: model_experiment/model_4_conv1D/assets\n",
            "INFO:tensorflow:Assets written to: model_experiment/model_4_conv1D/assets\n",
            "INFO:tensorflow:Assets written to: model_experiment/model_4_conv1D/assets\n",
            "INFO:tensorflow:Assets written to: model_experiment/model_4_conv1D/assets\n",
            "INFO:tensorflow:Assets written to: model_experiment/model_4_conv1D/assets\n",
            "INFO:tensorflow:Assets written to: model_experiment/model_4_conv1D/assets\n",
            "INFO:tensorflow:Assets written to: model_experiment/model_4_conv1D/assets\n",
            "INFO:tensorflow:Assets written to: model_experiment/model_4_conv1D/assets\n",
            "INFO:tensorflow:Assets written to: model_experiment/model_4_conv1D/assets\n",
            "INFO:tensorflow:Assets written to: model_experiment/model_4_conv1D/assets\n",
            "INFO:tensorflow:Assets written to: model_experiment/model_4_conv1D/assets\n",
            "INFO:tensorflow:Assets written to: model_experiment/model_4_conv1D/assets\n",
            "INFO:tensorflow:Assets written to: model_experiment/model_4_conv1D/assets\n",
            "INFO:tensorflow:Assets written to: model_experiment/model_4_conv1D/assets\n",
            "INFO:tensorflow:Assets written to: model_experiment/model_4_conv1D/assets\n",
            "INFO:tensorflow:Assets written to: model_experiment/model_4_conv1D/assets\n",
            "INFO:tensorflow:Assets written to: model_experiment/model_4_conv1D/assets\n",
            "INFO:tensorflow:Assets written to: model_experiment/model_4_conv1D/assets\n",
            "INFO:tensorflow:Assets written to: model_experiment/model_4_conv1D/assets\n",
            "INFO:tensorflow:Assets written to: model_experiment/model_4_conv1D/assets\n",
            "INFO:tensorflow:Assets written to: model_experiment/model_4_conv1D/assets\n",
            "INFO:tensorflow:Assets written to: model_experiment/model_4_conv1D/assets\n",
            "INFO:tensorflow:Assets written to: model_experiment/model_4_conv1D/assets\n",
            "INFO:tensorflow:Assets written to: model_experiment/model_4_conv1D/assets\n",
            "INFO:tensorflow:Assets written to: model_experiment/model_4_conv1D/assets\n",
            "INFO:tensorflow:Assets written to: model_experiment/model_4_conv1D/assets\n",
            "INFO:tensorflow:Assets written to: model_experiment/model_4_conv1D/assets\n"
          ],
          "name": "stdout"
        },
        {
          "output_type": "execute_result",
          "data": {
            "text/plain": [
              "<tensorflow.python.keras.callbacks.History at 0x7f8d2de6dfd0>"
            ]
          },
          "metadata": {
            "tags": []
          },
          "execution_count": 66
        }
      ]
    },
    {
      "cell_type": "code",
      "metadata": {
        "colab": {
          "base_uri": "https://localhost:8080/"
        },
        "id": "eswkzSkjjI7K",
        "outputId": "9f3132af-af62-44f6-d47c-33b123f4edd0"
      },
      "source": [
        "model_4 = tf.keras.models.load_model(\"/content/model_experiment/model_4_conv1D\")\n",
        "\n",
        "model_4_preds = make_preds(model_4, test_windows)\n",
        "\n",
        "model_4_results = evaluate_preds(tf.squeeze(test_labels), tf.squeeze(model_4_preds))\n",
        "\n",
        "model_4_results"
      ],
      "execution_count": 67,
      "outputs": [
        {
          "output_type": "execute_result",
          "data": {
            "text/plain": [
              "{'mae': 570.39935,\n",
              " 'mape': 2.5455723,\n",
              " 'mase': 1.0020337,\n",
              " 'mse': 1182763.1,\n",
              " 'rmse': 1087.5492}"
            ]
          },
          "metadata": {
            "tags": []
          },
          "execution_count": 67
        }
      ]
    },
    {
      "cell_type": "markdown",
      "metadata": {
        "id": "Cqskri2FjjB2"
      },
      "source": [
        "## Model 5 - RNN"
      ]
    },
    {
      "cell_type": "code",
      "metadata": {
        "colab": {
          "base_uri": "https://localhost:8080/"
        },
        "id": "cLMxAWFKkOVC",
        "outputId": "29aa26a8-bead-4402-8e0f-830fa8331c01"
      },
      "source": [
        "tf.random.set_seed(42)\n",
        "\n",
        "inputs = layers.Input(shape=(WINDOW_SIZE))\n",
        "\n",
        "x = layers.Lambda(lambda x: tf.expand_dims(x, axis=1))(inputs)\n",
        "# x = layers.LSTM(128, return_sequences=True)(x)\n",
        "x = layers.LSTM(128, activation=\"relu\")(x)\n",
        "# x = layers.Dense(32, activation=\"relu\")(x)\n",
        "outputs = layers.Dense(HORIZON)(x)\n",
        "\n",
        "model_5 = tf.keras.Model(inputs, outputs, name=\"model_5_LSTM\")\n",
        "\n",
        "# compile\n",
        "model_5.compile(loss=\"mae\",\n",
        "                optimizer=tf.keras.optimizers.Adam())\n",
        "\n",
        "# Fit\n",
        "model_5.fit(train_windows,\n",
        "            train_labels,\n",
        "            epochs=100,\n",
        "            verbose=1,\n",
        "            batch_size=128,\n",
        "            validation_data=(test_windows, test_labels),\n",
        "            callbacks=[create_model_checkpoint(model_name=model_5.name)])"
      ],
      "execution_count": 68,
      "outputs": [
        {
          "output_type": "stream",
          "text": [
            "Epoch 1/100\n",
            "18/18 [==============================] - 1s 18ms/step - loss: 2323.6123 - val_loss: 9224.3506\n",
            "INFO:tensorflow:Assets written to: model_experiment/model_5_LSTM/assets\n",
            "Epoch 2/100\n",
            "18/18 [==============================] - 0s 6ms/step - loss: 695.4956 - val_loss: 1485.8942\n",
            "INFO:tensorflow:Assets written to: model_experiment/model_5_LSTM/assets\n",
            "Epoch 3/100\n",
            "18/18 [==============================] - 0s 6ms/step - loss: 237.3010 - val_loss: 1298.9435\n",
            "INFO:tensorflow:Assets written to: model_experiment/model_5_LSTM/assets\n",
            "Epoch 4/100\n",
            "18/18 [==============================] - 0s 5ms/step - loss: 181.9182 - val_loss: 966.6407\n",
            "INFO:tensorflow:Assets written to: model_experiment/model_5_LSTM/assets\n",
            "Epoch 5/100\n",
            "18/18 [==============================] - 0s 6ms/step - loss: 173.4021 - val_loss: 970.9384\n",
            "Epoch 6/100\n",
            "18/18 [==============================] - 0s 5ms/step - loss: 172.3319 - val_loss: 891.5209\n",
            "INFO:tensorflow:Assets written to: model_experiment/model_5_LSTM/assets\n",
            "Epoch 7/100\n",
            "18/18 [==============================] - 0s 6ms/step - loss: 168.9708 - val_loss: 968.6377\n",
            "Epoch 8/100\n",
            "18/18 [==============================] - 0s 5ms/step - loss: 169.5317 - val_loss: 963.4456\n",
            "Epoch 9/100\n",
            "18/18 [==============================] - 0s 7ms/step - loss: 167.5760 - val_loss: 956.5829\n",
            "Epoch 10/100\n",
            "18/18 [==============================] - 0s 6ms/step - loss: 166.3443 - val_loss: 936.8956\n",
            "Epoch 11/100\n",
            "18/18 [==============================] - 0s 5ms/step - loss: 165.4762 - val_loss: 909.1110\n",
            "Epoch 12/100\n",
            "18/18 [==============================] - 0s 5ms/step - loss: 169.9951 - val_loss: 891.2327\n",
            "INFO:tensorflow:Assets written to: model_experiment/model_5_LSTM/assets\n",
            "Epoch 13/100\n",
            "18/18 [==============================] - 0s 6ms/step - loss: 160.3806 - val_loss: 898.5595\n",
            "Epoch 14/100\n",
            "18/18 [==============================] - 0s 6ms/step - loss: 157.6484 - val_loss: 927.9266\n",
            "Epoch 15/100\n",
            "18/18 [==============================] - 0s 6ms/step - loss: 167.6508 - val_loss: 982.9256\n",
            "Epoch 16/100\n",
            "18/18 [==============================] - 0s 6ms/step - loss: 160.4521 - val_loss: 916.0458\n",
            "Epoch 17/100\n",
            "18/18 [==============================] - 0s 6ms/step - loss: 153.8805 - val_loss: 928.6927\n",
            "Epoch 18/100\n",
            "18/18 [==============================] - 0s 6ms/step - loss: 152.1556 - val_loss: 865.6219\n",
            "INFO:tensorflow:Assets written to: model_experiment/model_5_LSTM/assets\n",
            "Epoch 19/100\n",
            "18/18 [==============================] - 0s 6ms/step - loss: 148.8319 - val_loss: 876.9328\n",
            "Epoch 20/100\n",
            "18/18 [==============================] - 0s 6ms/step - loss: 149.6801 - val_loss: 831.2376\n",
            "INFO:tensorflow:Assets written to: model_experiment/model_5_LSTM/assets\n",
            "Epoch 21/100\n",
            "18/18 [==============================] - 0s 6ms/step - loss: 145.7330 - val_loss: 821.0629\n",
            "INFO:tensorflow:Assets written to: model_experiment/model_5_LSTM/assets\n",
            "Epoch 22/100\n",
            "18/18 [==============================] - 0s 6ms/step - loss: 143.9433 - val_loss: 821.2911\n",
            "Epoch 23/100\n",
            "18/18 [==============================] - 0s 6ms/step - loss: 143.1268 - val_loss: 837.1895\n",
            "Epoch 24/100\n",
            "18/18 [==============================] - 0s 6ms/step - loss: 141.0378 - val_loss: 808.0547\n",
            "INFO:tensorflow:Assets written to: model_experiment/model_5_LSTM/assets\n",
            "Epoch 25/100\n",
            "18/18 [==============================] - 0s 6ms/step - loss: 139.0068 - val_loss: 787.0112\n",
            "INFO:tensorflow:Assets written to: model_experiment/model_5_LSTM/assets\n",
            "Epoch 26/100\n",
            "18/18 [==============================] - 0s 6ms/step - loss: 137.9395 - val_loss: 769.2203\n",
            "INFO:tensorflow:Assets written to: model_experiment/model_5_LSTM/assets\n",
            "Epoch 27/100\n",
            "18/18 [==============================] - 0s 6ms/step - loss: 136.4498 - val_loss: 772.5977\n",
            "Epoch 28/100\n",
            "18/18 [==============================] - 0s 6ms/step - loss: 135.2745 - val_loss: 751.0115\n",
            "INFO:tensorflow:Assets written to: model_experiment/model_5_LSTM/assets\n",
            "Epoch 29/100\n",
            "18/18 [==============================] - 0s 6ms/step - loss: 135.5958 - val_loss: 759.8718\n",
            "Epoch 30/100\n",
            "18/18 [==============================] - 0s 6ms/step - loss: 138.2377 - val_loss: 789.2983\n",
            "Epoch 31/100\n",
            "18/18 [==============================] - 0s 6ms/step - loss: 133.4514 - val_loss: 730.3293\n",
            "INFO:tensorflow:Assets written to: model_experiment/model_5_LSTM/assets\n",
            "Epoch 32/100\n",
            "18/18 [==============================] - 0s 6ms/step - loss: 129.2459 - val_loss: 730.9674\n",
            "Epoch 33/100\n",
            "18/18 [==============================] - 0s 5ms/step - loss: 128.6682 - val_loss: 726.6902\n",
            "INFO:tensorflow:Assets written to: model_experiment/model_5_LSTM/assets\n",
            "Epoch 34/100\n",
            "18/18 [==============================] - 0s 6ms/step - loss: 128.9641 - val_loss: 708.2340\n",
            "INFO:tensorflow:Assets written to: model_experiment/model_5_LSTM/assets\n",
            "Epoch 35/100\n",
            "18/18 [==============================] - 0s 6ms/step - loss: 126.4375 - val_loss: 702.6016\n",
            "INFO:tensorflow:Assets written to: model_experiment/model_5_LSTM/assets\n",
            "Epoch 36/100\n",
            "18/18 [==============================] - 0s 6ms/step - loss: 125.8648 - val_loss: 696.0234\n",
            "INFO:tensorflow:Assets written to: model_experiment/model_5_LSTM/assets\n",
            "Epoch 37/100\n",
            "18/18 [==============================] - 0s 6ms/step - loss: 124.2744 - val_loss: 692.3998\n",
            "INFO:tensorflow:Assets written to: model_experiment/model_5_LSTM/assets\n",
            "Epoch 38/100\n",
            "18/18 [==============================] - 0s 6ms/step - loss: 123.4617 - val_loss: 682.3129\n",
            "INFO:tensorflow:Assets written to: model_experiment/model_5_LSTM/assets\n",
            "Epoch 39/100\n",
            "18/18 [==============================] - 0s 6ms/step - loss: 124.4908 - val_loss: 689.1117\n",
            "Epoch 40/100\n",
            "18/18 [==============================] - 0s 7ms/step - loss: 123.6601 - val_loss: 688.7414\n",
            "Epoch 41/100\n",
            "18/18 [==============================] - 0s 7ms/step - loss: 121.6996 - val_loss: 673.3080\n",
            "INFO:tensorflow:Assets written to: model_experiment/model_5_LSTM/assets\n",
            "Epoch 42/100\n",
            "18/18 [==============================] - 0s 6ms/step - loss: 121.2662 - val_loss: 665.5682\n",
            "INFO:tensorflow:Assets written to: model_experiment/model_5_LSTM/assets\n",
            "Epoch 43/100\n",
            "18/18 [==============================] - 0s 7ms/step - loss: 121.1914 - val_loss: 663.4371\n",
            "INFO:tensorflow:Assets written to: model_experiment/model_5_LSTM/assets\n",
            "Epoch 44/100\n",
            "18/18 [==============================] - 0s 7ms/step - loss: 121.3492 - val_loss: 666.4625\n",
            "Epoch 45/100\n",
            "18/18 [==============================] - 0s 6ms/step - loss: 119.4222 - val_loss: 653.1441\n",
            "INFO:tensorflow:Assets written to: model_experiment/model_5_LSTM/assets\n",
            "Epoch 46/100\n",
            "18/18 [==============================] - 0s 7ms/step - loss: 119.1475 - val_loss: 649.3669\n",
            "INFO:tensorflow:Assets written to: model_experiment/model_5_LSTM/assets\n",
            "Epoch 47/100\n",
            "18/18 [==============================] - 0s 8ms/step - loss: 119.5113 - val_loss: 650.3450\n",
            "Epoch 48/100\n",
            "18/18 [==============================] - 0s 7ms/step - loss: 117.9849 - val_loss: 643.7015\n",
            "INFO:tensorflow:Assets written to: model_experiment/model_5_LSTM/assets\n",
            "Epoch 49/100\n",
            "18/18 [==============================] - 0s 7ms/step - loss: 117.3458 - val_loss: 649.1431\n",
            "Epoch 50/100\n",
            "18/18 [==============================] - 0s 7ms/step - loss: 119.0112 - val_loss: 658.5665\n",
            "Epoch 51/100\n",
            "18/18 [==============================] - 0s 7ms/step - loss: 118.3833 - val_loss: 673.2418\n",
            "Epoch 52/100\n",
            "18/18 [==============================] - 0s 6ms/step - loss: 118.0016 - val_loss: 644.5724\n",
            "Epoch 53/100\n",
            "18/18 [==============================] - 0s 7ms/step - loss: 117.5012 - val_loss: 632.1457\n",
            "INFO:tensorflow:Assets written to: model_experiment/model_5_LSTM/assets\n",
            "Epoch 54/100\n",
            "18/18 [==============================] - 0s 7ms/step - loss: 117.3330 - val_loss: 637.2055\n",
            "Epoch 55/100\n",
            "18/18 [==============================] - 0s 7ms/step - loss: 115.8615 - val_loss: 627.7058\n",
            "INFO:tensorflow:Assets written to: model_experiment/model_5_LSTM/assets\n",
            "Epoch 56/100\n",
            "18/18 [==============================] - 0s 6ms/step - loss: 117.1814 - val_loss: 648.4813\n",
            "Epoch 57/100\n",
            "18/18 [==============================] - 0s 6ms/step - loss: 125.8361 - val_loss: 648.9831\n",
            "Epoch 58/100\n",
            "18/18 [==============================] - 0s 6ms/step - loss: 115.4787 - val_loss: 630.3375\n",
            "Epoch 59/100\n",
            "18/18 [==============================] - 0s 7ms/step - loss: 114.6559 - val_loss: 628.4244\n",
            "Epoch 60/100\n",
            "18/18 [==============================] - 0s 8ms/step - loss: 114.8021 - val_loss: 620.0607\n",
            "INFO:tensorflow:Assets written to: model_experiment/model_5_LSTM/assets\n",
            "Epoch 61/100\n",
            "18/18 [==============================] - 0s 8ms/step - loss: 114.3845 - val_loss: 633.4195\n",
            "Epoch 62/100\n",
            "18/18 [==============================] - 0s 6ms/step - loss: 114.7735 - val_loss: 653.0529\n",
            "Epoch 63/100\n",
            "18/18 [==============================] - 0s 8ms/step - loss: 118.5447 - val_loss: 622.3017\n",
            "Epoch 64/100\n",
            "18/18 [==============================] - 0s 7ms/step - loss: 113.3439 - val_loss: 646.4648\n",
            "Epoch 65/100\n",
            "18/18 [==============================] - 0s 8ms/step - loss: 115.5774 - val_loss: 621.8207\n",
            "Epoch 66/100\n",
            "18/18 [==============================] - 0s 7ms/step - loss: 113.5758 - val_loss: 625.8535\n",
            "Epoch 67/100\n",
            "18/18 [==============================] - 0s 7ms/step - loss: 114.3274 - val_loss: 618.1777\n",
            "INFO:tensorflow:Assets written to: model_experiment/model_5_LSTM/assets\n",
            "Epoch 68/100\n",
            "18/18 [==============================] - 0s 6ms/step - loss: 115.8874 - val_loss: 610.0667\n",
            "INFO:tensorflow:Assets written to: model_experiment/model_5_LSTM/assets\n",
            "Epoch 69/100\n",
            "18/18 [==============================] - 0s 7ms/step - loss: 118.1946 - val_loss: 630.6259\n",
            "Epoch 70/100\n",
            "18/18 [==============================] - 0s 7ms/step - loss: 117.6780 - val_loss: 613.6976\n",
            "Epoch 71/100\n",
            "18/18 [==============================] - 0s 7ms/step - loss: 112.6891 - val_loss: 628.7469\n",
            "Epoch 72/100\n",
            "18/18 [==============================] - 0s 6ms/step - loss: 115.3159 - val_loss: 613.3113\n",
            "Epoch 73/100\n",
            "18/18 [==============================] - 0s 6ms/step - loss: 112.2513 - val_loss: 607.5436\n",
            "INFO:tensorflow:Assets written to: model_experiment/model_5_LSTM/assets\n",
            "Epoch 74/100\n",
            "18/18 [==============================] - 0s 6ms/step - loss: 113.5405 - val_loss: 612.9193\n",
            "Epoch 75/100\n",
            "18/18 [==============================] - 0s 6ms/step - loss: 114.6243 - val_loss: 680.9974\n",
            "Epoch 76/100\n",
            "18/18 [==============================] - 0s 7ms/step - loss: 114.3978 - val_loss: 627.7791\n",
            "Epoch 77/100\n",
            "18/18 [==============================] - 0s 7ms/step - loss: 115.0701 - val_loss: 677.3135\n",
            "Epoch 78/100\n",
            "18/18 [==============================] - 0s 6ms/step - loss: 115.6408 - val_loss: 638.9863\n",
            "Epoch 79/100\n",
            "18/18 [==============================] - 0s 6ms/step - loss: 113.8102 - val_loss: 603.6312\n",
            "INFO:tensorflow:Assets written to: model_experiment/model_5_LSTM/assets\n",
            "Epoch 80/100\n",
            "18/18 [==============================] - 0s 6ms/step - loss: 111.6164 - val_loss: 621.9382\n",
            "Epoch 81/100\n",
            "18/18 [==============================] - 0s 6ms/step - loss: 111.7110 - val_loss: 620.0795\n",
            "Epoch 82/100\n",
            "18/18 [==============================] - 0s 7ms/step - loss: 114.4341 - val_loss: 598.3356\n",
            "INFO:tensorflow:Assets written to: model_experiment/model_5_LSTM/assets\n",
            "Epoch 83/100\n",
            "18/18 [==============================] - 0s 6ms/step - loss: 112.8585 - val_loss: 607.5803\n",
            "Epoch 84/100\n",
            "18/18 [==============================] - 0s 7ms/step - loss: 111.8406 - val_loss: 602.6411\n",
            "Epoch 85/100\n",
            "18/18 [==============================] - 0s 7ms/step - loss: 111.2613 - val_loss: 627.6544\n",
            "Epoch 86/100\n",
            "18/18 [==============================] - 0s 6ms/step - loss: 113.9645 - val_loss: 619.5224\n",
            "Epoch 87/100\n",
            "18/18 [==============================] - 0s 6ms/step - loss: 113.8286 - val_loss: 598.2933\n",
            "INFO:tensorflow:Assets written to: model_experiment/model_5_LSTM/assets\n",
            "Epoch 88/100\n",
            "18/18 [==============================] - 0s 6ms/step - loss: 110.8448 - val_loss: 596.0640\n",
            "INFO:tensorflow:Assets written to: model_experiment/model_5_LSTM/assets\n",
            "Epoch 89/100\n",
            "18/18 [==============================] - 0s 6ms/step - loss: 111.0922 - val_loss: 630.6047\n",
            "Epoch 90/100\n",
            "18/18 [==============================] - 0s 6ms/step - loss: 115.8214 - val_loss: 680.3810\n",
            "Epoch 91/100\n",
            "18/18 [==============================] - 0s 6ms/step - loss: 116.0425 - val_loss: 632.1270\n",
            "Epoch 92/100\n",
            "18/18 [==============================] - 0s 6ms/step - loss: 111.9858 - val_loss: 596.0399\n",
            "INFO:tensorflow:Assets written to: model_experiment/model_5_LSTM/assets\n",
            "Epoch 93/100\n",
            "18/18 [==============================] - 0s 7ms/step - loss: 111.9554 - val_loss: 601.6699\n",
            "Epoch 94/100\n",
            "18/18 [==============================] - 0s 6ms/step - loss: 110.7805 - val_loss: 605.7480\n",
            "Epoch 95/100\n",
            "18/18 [==============================] - 0s 6ms/step - loss: 110.1889 - val_loss: 594.1672\n",
            "INFO:tensorflow:Assets written to: model_experiment/model_5_LSTM/assets\n",
            "Epoch 96/100\n",
            "18/18 [==============================] - 0s 6ms/step - loss: 112.3372 - val_loss: 601.4485\n",
            "Epoch 97/100\n",
            "18/18 [==============================] - 0s 6ms/step - loss: 110.8521 - val_loss: 625.3636\n",
            "Epoch 98/100\n",
            "18/18 [==============================] - 0s 6ms/step - loss: 110.8161 - val_loss: 594.1018\n",
            "INFO:tensorflow:Assets written to: model_experiment/model_5_LSTM/assets\n",
            "Epoch 99/100\n",
            "18/18 [==============================] - 0s 7ms/step - loss: 109.7159 - val_loss: 591.6655\n",
            "INFO:tensorflow:Assets written to: model_experiment/model_5_LSTM/assets\n",
            "Epoch 100/100\n",
            "18/18 [==============================] - 0s 6ms/step - loss: 112.6171 - val_loss: 594.9865\n"
          ],
          "name": "stdout"
        },
        {
          "output_type": "execute_result",
          "data": {
            "text/plain": [
              "<tensorflow.python.keras.callbacks.History at 0x7f8d30dff690>"
            ]
          },
          "metadata": {
            "tags": []
          },
          "execution_count": 68
        }
      ]
    },
    {
      "cell_type": "code",
      "metadata": {
        "colab": {
          "base_uri": "https://localhost:8080/"
        },
        "id": "Arc4fSkBkOdk",
        "outputId": "132e690a-0417-4ab1-9b47-01546355bc4f"
      },
      "source": [
        "model_5 = tf.keras.models.load_model(\"/content/model_experiment/model_5_LSTM\")\n",
        "\n",
        "model_5_preds = make_preds(model_5, test_windows)\n",
        "\n",
        "model_5_results = evaluate_preds(tf.squeeze(test_labels), tf.squeeze(model_5_preds))\n",
        "\n",
        "model_5_results"
      ],
      "execution_count": 69,
      "outputs": [
        {
          "output_type": "execute_result",
          "data": {
            "text/plain": [
              "{'mae': 591.6655,\n",
              " 'mape': 2.66558,\n",
              " 'mase': 1.0393925,\n",
              " 'mse': 1250831.6,\n",
              " 'rmse': 1118.4059}"
            ]
          },
          "metadata": {
            "tags": []
          },
          "execution_count": 69
        }
      ]
    },
    {
      "cell_type": "code",
      "metadata": {
        "colab": {
          "base_uri": "https://localhost:8080/"
        },
        "id": "6F2Bot90kOiP",
        "outputId": "2c04aadb-7105-4f8b-e355-2380f7f0cc45"
      },
      "source": [
        "model_1_results"
      ],
      "execution_count": 70,
      "outputs": [
        {
          "output_type": "execute_result",
          "data": {
            "text/plain": [
              "{'mae': 568.5498,\n",
              " 'mape': 2.549229,\n",
              " 'mase': 0.99878454,\n",
              " 'mse': 1172587.6,\n",
              " 'rmse': 1082.8608}"
            ]
          },
          "metadata": {
            "tags": []
          },
          "execution_count": 70
        }
      ]
    },
    {
      "cell_type": "markdown",
      "metadata": {
        "id": "B4KRQUYSkOmx"
      },
      "source": [
        "## Make a multivariate time series model"
      ]
    },
    {
      "cell_type": "code",
      "metadata": {
        "id": "EZTBH5PBkOqw"
      },
      "source": [
        "# Block reward values\n",
        "block_reward_1 = 50 # 3 January 2009 (2009-01-03) - this block reward isn't in our dataset (it starts from 01 October 2013)\n",
        "block_reward_2 = 25 # 28 November 2012 \n",
        "block_reward_3 = 12.5 # 9 July 2016\n",
        "block_reward_4 = 6.25 # 11 May 2020\n",
        "\n",
        "# Block reward dates (datetime form of the above date stamps)\n",
        "block_reward_2_datetime = np.datetime64(\"2012-11-28\")\n",
        "block_reward_3_datetime = np.datetime64(\"2016-07-09\")\n",
        "block_reward_4_datetime = np.datetime64(\"2020-05-11\")"
      ],
      "execution_count": 71,
      "outputs": []
    },
    {
      "cell_type": "code",
      "metadata": {
        "colab": {
          "base_uri": "https://localhost:8080/"
        },
        "id": "G_1T31gFpPc6",
        "outputId": "41235310-8cdf-464b-b827-817a252a4c90"
      },
      "source": [
        "block_reward_2_days = (block_reward_3_datetime - bitcoin_prices.index[0]).days\n",
        "block_reward_3_days = (block_reward_4_datetime - bitcoin_prices.index[0]).days\n",
        "\n",
        "block_reward_2_days, block_reward_3_days"
      ],
      "execution_count": 72,
      "outputs": [
        {
          "output_type": "execute_result",
          "data": {
            "text/plain": [
              "(1012, 2414)"
            ]
          },
          "metadata": {
            "tags": []
          },
          "execution_count": 72
        }
      ]
    },
    {
      "cell_type": "code",
      "metadata": {
        "id": "D_KcxpU9ppxF"
      },
      "source": [
        "bitcoin_prices_block = bitcoin_prices.copy()\n",
        "bitcoin_prices_block[\"block_reward\"] = None\n",
        "\n",
        "bitcoin_prices_block.iloc[:block_reward_2_days, -1] = block_reward_2 \n",
        "bitcoin_prices_block.iloc[block_reward_2_days:block_reward_3_days, -1] = block_reward_3\n",
        "bitcoin_prices_block.iloc[block_reward_3_days:, -1] = block_reward_4"
      ],
      "execution_count": 73,
      "outputs": []
    },
    {
      "cell_type": "code",
      "metadata": {
        "colab": {
          "base_uri": "https://localhost:8080/",
          "height": 235
        },
        "id": "6ooO_bHFqcfv",
        "outputId": "4aaf8310-90bb-49a1-e4be-a7a0df870599"
      },
      "source": [
        "bitcoin_prices_block.head()"
      ],
      "execution_count": 74,
      "outputs": [
        {
          "output_type": "execute_result",
          "data": {
            "text/html": [
              "<div>\n",
              "<style scoped>\n",
              "    .dataframe tbody tr th:only-of-type {\n",
              "        vertical-align: middle;\n",
              "    }\n",
              "\n",
              "    .dataframe tbody tr th {\n",
              "        vertical-align: top;\n",
              "    }\n",
              "\n",
              "    .dataframe thead th {\n",
              "        text-align: right;\n",
              "    }\n",
              "</style>\n",
              "<table border=\"1\" class=\"dataframe\">\n",
              "  <thead>\n",
              "    <tr style=\"text-align: right;\">\n",
              "      <th></th>\n",
              "      <th>Price</th>\n",
              "      <th>block_reward</th>\n",
              "    </tr>\n",
              "    <tr>\n",
              "      <th>Date</th>\n",
              "      <th></th>\n",
              "      <th></th>\n",
              "    </tr>\n",
              "  </thead>\n",
              "  <tbody>\n",
              "    <tr>\n",
              "      <th>2013-10-01</th>\n",
              "      <td>123.65499</td>\n",
              "      <td>25</td>\n",
              "    </tr>\n",
              "    <tr>\n",
              "      <th>2013-10-02</th>\n",
              "      <td>125.45500</td>\n",
              "      <td>25</td>\n",
              "    </tr>\n",
              "    <tr>\n",
              "      <th>2013-10-03</th>\n",
              "      <td>108.58483</td>\n",
              "      <td>25</td>\n",
              "    </tr>\n",
              "    <tr>\n",
              "      <th>2013-10-04</th>\n",
              "      <td>118.67466</td>\n",
              "      <td>25</td>\n",
              "    </tr>\n",
              "    <tr>\n",
              "      <th>2013-10-05</th>\n",
              "      <td>121.33866</td>\n",
              "      <td>25</td>\n",
              "    </tr>\n",
              "  </tbody>\n",
              "</table>\n",
              "</div>"
            ],
            "text/plain": [
              "                Price block_reward\n",
              "Date                              \n",
              "2013-10-01  123.65499           25\n",
              "2013-10-02  125.45500           25\n",
              "2013-10-03  108.58483           25\n",
              "2013-10-04  118.67466           25\n",
              "2013-10-05  121.33866           25"
            ]
          },
          "metadata": {
            "tags": []
          },
          "execution_count": 74
        }
      ]
    },
    {
      "cell_type": "code",
      "metadata": {
        "colab": {
          "base_uri": "https://localhost:8080/",
          "height": 450
        },
        "id": "p9noNQ2crGA6",
        "outputId": "6f083587-a816-49cb-bc98-85c6f1fa3f0b"
      },
      "source": [
        "bitcoin_prices_block.iloc[1500:2000]"
      ],
      "execution_count": 75,
      "outputs": [
        {
          "output_type": "execute_result",
          "data": {
            "text/html": [
              "<div>\n",
              "<style scoped>\n",
              "    .dataframe tbody tr th:only-of-type {\n",
              "        vertical-align: middle;\n",
              "    }\n",
              "\n",
              "    .dataframe tbody tr th {\n",
              "        vertical-align: top;\n",
              "    }\n",
              "\n",
              "    .dataframe thead th {\n",
              "        text-align: right;\n",
              "    }\n",
              "</style>\n",
              "<table border=\"1\" class=\"dataframe\">\n",
              "  <thead>\n",
              "    <tr style=\"text-align: right;\">\n",
              "      <th></th>\n",
              "      <th>Price</th>\n",
              "      <th>block_reward</th>\n",
              "    </tr>\n",
              "    <tr>\n",
              "      <th>Date</th>\n",
              "      <th></th>\n",
              "      <th></th>\n",
              "    </tr>\n",
              "  </thead>\n",
              "  <tbody>\n",
              "    <tr>\n",
              "      <th>2017-11-09</th>\n",
              "      <td>7342.823750</td>\n",
              "      <td>12.5</td>\n",
              "    </tr>\n",
              "    <tr>\n",
              "      <th>2017-11-10</th>\n",
              "      <td>7250.770000</td>\n",
              "      <td>12.5</td>\n",
              "    </tr>\n",
              "    <tr>\n",
              "      <th>2017-11-11</th>\n",
              "      <td>6773.695000</td>\n",
              "      <td>12.5</td>\n",
              "    </tr>\n",
              "    <tr>\n",
              "      <th>2017-11-12</th>\n",
              "      <td>6075.301250</td>\n",
              "      <td>12.5</td>\n",
              "    </tr>\n",
              "    <tr>\n",
              "      <th>2017-11-13</th>\n",
              "      <td>5969.130000</td>\n",
              "      <td>12.5</td>\n",
              "    </tr>\n",
              "    <tr>\n",
              "      <th>...</th>\n",
              "      <td>...</td>\n",
              "      <td>...</td>\n",
              "    </tr>\n",
              "    <tr>\n",
              "      <th>2019-03-19</th>\n",
              "      <td>3974.415764</td>\n",
              "      <td>12.5</td>\n",
              "    </tr>\n",
              "    <tr>\n",
              "      <th>2019-03-20</th>\n",
              "      <td>3996.037131</td>\n",
              "      <td>12.5</td>\n",
              "    </tr>\n",
              "    <tr>\n",
              "      <th>2019-03-21</th>\n",
              "      <td>4027.787395</td>\n",
              "      <td>12.5</td>\n",
              "    </tr>\n",
              "    <tr>\n",
              "      <th>2019-03-22</th>\n",
              "      <td>3974.811429</td>\n",
              "      <td>12.5</td>\n",
              "    </tr>\n",
              "    <tr>\n",
              "      <th>2019-03-23</th>\n",
              "      <td>3987.305225</td>\n",
              "      <td>12.5</td>\n",
              "    </tr>\n",
              "  </tbody>\n",
              "</table>\n",
              "<p>500 rows × 2 columns</p>\n",
              "</div>"
            ],
            "text/plain": [
              "                  Price block_reward\n",
              "Date                                \n",
              "2017-11-09  7342.823750         12.5\n",
              "2017-11-10  7250.770000         12.5\n",
              "2017-11-11  6773.695000         12.5\n",
              "2017-11-12  6075.301250         12.5\n",
              "2017-11-13  5969.130000         12.5\n",
              "...                 ...          ...\n",
              "2019-03-19  3974.415764         12.5\n",
              "2019-03-20  3996.037131         12.5\n",
              "2019-03-21  4027.787395         12.5\n",
              "2019-03-22  3974.811429         12.5\n",
              "2019-03-23  3987.305225         12.5\n",
              "\n",
              "[500 rows x 2 columns]"
            ]
          },
          "metadata": {
            "tags": []
          },
          "execution_count": 75
        }
      ]
    },
    {
      "cell_type": "code",
      "metadata": {
        "colab": {
          "base_uri": "https://localhost:8080/",
          "height": 235
        },
        "id": "5rbaB2Y7qd6N",
        "outputId": "9ed9c0b0-909b-4bbf-d884-7c797854ab82"
      },
      "source": [
        "bitcoin_prices_block.tail()"
      ],
      "execution_count": 76,
      "outputs": [
        {
          "output_type": "execute_result",
          "data": {
            "text/html": [
              "<div>\n",
              "<style scoped>\n",
              "    .dataframe tbody tr th:only-of-type {\n",
              "        vertical-align: middle;\n",
              "    }\n",
              "\n",
              "    .dataframe tbody tr th {\n",
              "        vertical-align: top;\n",
              "    }\n",
              "\n",
              "    .dataframe thead th {\n",
              "        text-align: right;\n",
              "    }\n",
              "</style>\n",
              "<table border=\"1\" class=\"dataframe\">\n",
              "  <thead>\n",
              "    <tr style=\"text-align: right;\">\n",
              "      <th></th>\n",
              "      <th>Price</th>\n",
              "      <th>block_reward</th>\n",
              "    </tr>\n",
              "    <tr>\n",
              "      <th>Date</th>\n",
              "      <th></th>\n",
              "      <th></th>\n",
              "    </tr>\n",
              "  </thead>\n",
              "  <tbody>\n",
              "    <tr>\n",
              "      <th>2021-05-14</th>\n",
              "      <td>49764.132082</td>\n",
              "      <td>6.25</td>\n",
              "    </tr>\n",
              "    <tr>\n",
              "      <th>2021-05-15</th>\n",
              "      <td>50032.693137</td>\n",
              "      <td>6.25</td>\n",
              "    </tr>\n",
              "    <tr>\n",
              "      <th>2021-05-16</th>\n",
              "      <td>47885.625255</td>\n",
              "      <td>6.25</td>\n",
              "    </tr>\n",
              "    <tr>\n",
              "      <th>2021-05-17</th>\n",
              "      <td>45604.615754</td>\n",
              "      <td>6.25</td>\n",
              "    </tr>\n",
              "    <tr>\n",
              "      <th>2021-05-18</th>\n",
              "      <td>43144.471291</td>\n",
              "      <td>6.25</td>\n",
              "    </tr>\n",
              "  </tbody>\n",
              "</table>\n",
              "</div>"
            ],
            "text/plain": [
              "                   Price block_reward\n",
              "Date                                 \n",
              "2021-05-14  49764.132082         6.25\n",
              "2021-05-15  50032.693137         6.25\n",
              "2021-05-16  47885.625255         6.25\n",
              "2021-05-17  45604.615754         6.25\n",
              "2021-05-18  43144.471291         6.25"
            ]
          },
          "metadata": {
            "tags": []
          },
          "execution_count": 76
        }
      ]
    },
    {
      "cell_type": "code",
      "metadata": {
        "colab": {
          "base_uri": "https://localhost:8080/",
          "height": 296
        },
        "id": "zucqu5JDqm4k",
        "outputId": "1d874a86-7b4f-4009-f70b-3bade2064a8e"
      },
      "source": [
        "bitcoin_prices_block.plot()"
      ],
      "execution_count": 77,
      "outputs": [
        {
          "output_type": "execute_result",
          "data": {
            "text/plain": [
              "<matplotlib.axes._subplots.AxesSubplot at 0x7f8d30ce4690>"
            ]
          },
          "metadata": {
            "tags": []
          },
          "execution_count": 77
        },
        {
          "output_type": "display_data",
          "data": {
            "image/png": "[encoded data removed]",
            "text/plain": [
              "<Figure size 432x288 with 1 Axes>"
            ]
          },
          "metadata": {
            "tags": [],
            "needs_background": "light"
          }
        }
      ]
    },
    {
      "cell_type": "code",
      "metadata": {
        "colab": {
          "base_uri": "https://localhost:8080/",
          "height": 459
        },
        "id": "QTRX0ssvrUuw",
        "outputId": "2ba83ed6-6b70-4749-f902-44c214de9df4"
      },
      "source": [
        "from sklearn.preprocessing import minmax_scale\n",
        "scaled_price_block_df = pd.DataFrame(minmax_scale(bitcoin_prices_block[[\"Price\",\"block_reward\"]]), columns = bitcoin_prices_block.columns, index = bitcoin_prices_block.index)\n",
        "scaled_price_block_df.plot(figsize=(10,7))"
      ],
      "execution_count": 78,
      "outputs": [
        {
          "output_type": "execute_result",
          "data": {
            "text/plain": [
              "<matplotlib.axes._subplots.AxesSubplot at 0x7f8d32283b10>"
            ]
          },
          "metadata": {
            "tags": []
          },
          "execution_count": 78
        },
        {
          "output_type": "display_data",
          "data": {
            "image/png": "[encoded data removed]",
            "text/plain": [
              "<Figure size 720x504 with 1 Axes>"
            ]
          },
          "metadata": {
            "tags": [],
            "needs_background": "light"
          }
        }
      ]
    },
    {
      "cell_type": "markdown",
      "metadata": {
        "id": "y0Xoilasrxx0"
      },
      "source": [
        "## Making a windows dataset with Pandas "
      ]
    },
    {
      "cell_type": "code",
      "metadata": {
        "id": "XdL4m85cs547"
      },
      "source": [
        "HORIZON = 1\n",
        "WINDOW_SIZE = 7 \n",
        "\n",
        "bitcoin_prices_windowed = bitcoin_prices_block.copy()\n",
        "\n",
        "for i in range(WINDOW_SIZE):\n",
        "  bitcoin_prices_windowed[f\"Price+{i+1}\"] = bitcoin_prices_windowed[\"Price\"].shift(periods=i+1)\n",
        "\n",
        "# bitcoin_prices_windowed.fillna(0, inplace=True)"
      ],
      "execution_count": 79,
      "outputs": []
    },
    {
      "cell_type": "code",
      "metadata": {
        "colab": {
          "base_uri": "https://localhost:8080/",
          "height": 235
        },
        "id": "jYxPboMftP1Q",
        "outputId": "d2b6a184-da77-46bc-a86d-a7def0e82bff"
      },
      "source": [
        "bitcoin_prices_windowed.head()"
      ],
      "execution_count": 80,
      "outputs": [
        {
          "output_type": "execute_result",
          "data": {
            "text/html": [
              "<div>\n",
              "<style scoped>\n",
              "    .dataframe tbody tr th:only-of-type {\n",
              "        vertical-align: middle;\n",
              "    }\n",
              "\n",
              "    .dataframe tbody tr th {\n",
              "        vertical-align: top;\n",
              "    }\n",
              "\n",
              "    .dataframe thead th {\n",
              "        text-align: right;\n",
              "    }\n",
              "</style>\n",
              "<table border=\"1\" class=\"dataframe\">\n",
              "  <thead>\n",
              "    <tr style=\"text-align: right;\">\n",
              "      <th></th>\n",
              "      <th>Price</th>\n",
              "      <th>block_reward</th>\n",
              "      <th>Price+1</th>\n",
              "      <th>Price+2</th>\n",
              "      <th>Price+3</th>\n",
              "      <th>Price+4</th>\n",
              "      <th>Price+5</th>\n",
              "      <th>Price+6</th>\n",
              "      <th>Price+7</th>\n",
              "    </tr>\n",
              "    <tr>\n",
              "      <th>Date</th>\n",
              "      <th></th>\n",
              "      <th></th>\n",
              "      <th></th>\n",
              "      <th></th>\n",
              "      <th></th>\n",
              "      <th></th>\n",
              "      <th></th>\n",
              "      <th></th>\n",
              "      <th></th>\n",
              "    </tr>\n",
              "  </thead>\n",
              "  <tbody>\n",
              "    <tr>\n",
              "      <th>2013-10-01</th>\n",
              "      <td>123.65499</td>\n",
              "      <td>25</td>\n",
              "      <td>NaN</td>\n",
              "      <td>NaN</td>\n",
              "      <td>NaN</td>\n",
              "      <td>NaN</td>\n",
              "      <td>NaN</td>\n",
              "      <td>NaN</td>\n",
              "      <td>NaN</td>\n",
              "    </tr>\n",
              "    <tr>\n",
              "      <th>2013-10-02</th>\n",
              "      <td>125.45500</td>\n",
              "      <td>25</td>\n",
              "      <td>123.65499</td>\n",
              "      <td>NaN</td>\n",
              "      <td>NaN</td>\n",
              "      <td>NaN</td>\n",
              "      <td>NaN</td>\n",
              "      <td>NaN</td>\n",
              "      <td>NaN</td>\n",
              "    </tr>\n",
              "    <tr>\n",
              "      <th>2013-10-03</th>\n",
              "      <td>108.58483</td>\n",
              "      <td>25</td>\n",
              "      <td>125.45500</td>\n",
              "      <td>123.65499</td>\n",
              "      <td>NaN</td>\n",
              "      <td>NaN</td>\n",
              "      <td>NaN</td>\n",
              "      <td>NaN</td>\n",
              "      <td>NaN</td>\n",
              "    </tr>\n",
              "    <tr>\n",
              "      <th>2013-10-04</th>\n",
              "      <td>118.67466</td>\n",
              "      <td>25</td>\n",
              "      <td>108.58483</td>\n",
              "      <td>125.45500</td>\n",
              "      <td>123.65499</td>\n",
              "      <td>NaN</td>\n",
              "      <td>NaN</td>\n",
              "      <td>NaN</td>\n",
              "      <td>NaN</td>\n",
              "    </tr>\n",
              "    <tr>\n",
              "      <th>2013-10-05</th>\n",
              "      <td>121.33866</td>\n",
              "      <td>25</td>\n",
              "      <td>118.67466</td>\n",
              "      <td>108.58483</td>\n",
              "      <td>125.45500</td>\n",
              "      <td>123.65499</td>\n",
              "      <td>NaN</td>\n",
              "      <td>NaN</td>\n",
              "      <td>NaN</td>\n",
              "    </tr>\n",
              "  </tbody>\n",
              "</table>\n",
              "</div>"
            ],
            "text/plain": [
              "                Price block_reward    Price+1  ...  Price+5  Price+6  Price+7\n",
              "Date                                           ...                           \n",
              "2013-10-01  123.65499           25        NaN  ...      NaN      NaN      NaN\n",
              "2013-10-02  125.45500           25  123.65499  ...      NaN      NaN      NaN\n",
              "2013-10-03  108.58483           25  125.45500  ...      NaN      NaN      NaN\n",
              "2013-10-04  118.67466           25  108.58483  ...      NaN      NaN      NaN\n",
              "2013-10-05  121.33866           25  118.67466  ...      NaN      NaN      NaN\n",
              "\n",
              "[5 rows x 9 columns]"
            ]
          },
          "metadata": {
            "tags": []
          },
          "execution_count": 80
        }
      ]
    },
    {
      "cell_type": "code",
      "metadata": {
        "colab": {
          "base_uri": "https://localhost:8080/",
          "height": 235
        },
        "id": "cY7eLJjCtTGz",
        "outputId": "05be4056-38c1-4489-aafc-4aac8b80e625"
      },
      "source": [
        "X = bitcoin_prices_windowed.dropna().drop(\"Price\", axis=1).astype(np.float32)\n",
        "y = bitcoin_prices_windowed.dropna()[\"Price\"].astype(np.float32)\n",
        "X.head()"
      ],
      "execution_count": 81,
      "outputs": [
        {
          "output_type": "execute_result",
          "data": {
            "text/html": [
              "<div>\n",
              "<style scoped>\n",
              "    .dataframe tbody tr th:only-of-type {\n",
              "        vertical-align: middle;\n",
              "    }\n",
              "\n",
              "    .dataframe tbody tr th {\n",
              "        vertical-align: top;\n",
              "    }\n",
              "\n",
              "    .dataframe thead th {\n",
              "        text-align: right;\n",
              "    }\n",
              "</style>\n",
              "<table border=\"1\" class=\"dataframe\">\n",
              "  <thead>\n",
              "    <tr style=\"text-align: right;\">\n",
              "      <th></th>\n",
              "      <th>block_reward</th>\n",
              "      <th>Price+1</th>\n",
              "      <th>Price+2</th>\n",
              "      <th>Price+3</th>\n",
              "      <th>Price+4</th>\n",
              "      <th>Price+5</th>\n",
              "      <th>Price+6</th>\n",
              "      <th>Price+7</th>\n",
              "    </tr>\n",
              "    <tr>\n",
              "      <th>Date</th>\n",
              "      <th></th>\n",
              "      <th></th>\n",
              "      <th></th>\n",
              "      <th></th>\n",
              "      <th></th>\n",
              "      <th></th>\n",
              "      <th></th>\n",
              "      <th></th>\n",
              "    </tr>\n",
              "  </thead>\n",
              "  <tbody>\n",
              "    <tr>\n",
              "      <th>2013-10-08</th>\n",
              "      <td>25.0</td>\n",
              "      <td>121.794998</td>\n",
              "      <td>120.655327</td>\n",
              "      <td>121.338661</td>\n",
              "      <td>118.674660</td>\n",
              "      <td>108.584831</td>\n",
              "      <td>125.455002</td>\n",
              "      <td>123.654991</td>\n",
              "    </tr>\n",
              "    <tr>\n",
              "      <th>2013-10-09</th>\n",
              "      <td>25.0</td>\n",
              "      <td>123.032997</td>\n",
              "      <td>121.794998</td>\n",
              "      <td>120.655327</td>\n",
              "      <td>121.338661</td>\n",
              "      <td>118.674660</td>\n",
              "      <td>108.584831</td>\n",
              "      <td>125.455002</td>\n",
              "    </tr>\n",
              "    <tr>\n",
              "      <th>2013-10-10</th>\n",
              "      <td>25.0</td>\n",
              "      <td>124.049004</td>\n",
              "      <td>123.032997</td>\n",
              "      <td>121.794998</td>\n",
              "      <td>120.655327</td>\n",
              "      <td>121.338661</td>\n",
              "      <td>118.674660</td>\n",
              "      <td>108.584831</td>\n",
              "    </tr>\n",
              "    <tr>\n",
              "      <th>2013-10-11</th>\n",
              "      <td>25.0</td>\n",
              "      <td>125.961159</td>\n",
              "      <td>124.049004</td>\n",
              "      <td>123.032997</td>\n",
              "      <td>121.794998</td>\n",
              "      <td>120.655327</td>\n",
              "      <td>121.338661</td>\n",
              "      <td>118.674660</td>\n",
              "    </tr>\n",
              "    <tr>\n",
              "      <th>2013-10-12</th>\n",
              "      <td>25.0</td>\n",
              "      <td>125.279663</td>\n",
              "      <td>125.961159</td>\n",
              "      <td>124.049004</td>\n",
              "      <td>123.032997</td>\n",
              "      <td>121.794998</td>\n",
              "      <td>120.655327</td>\n",
              "      <td>121.338661</td>\n",
              "    </tr>\n",
              "  </tbody>\n",
              "</table>\n",
              "</div>"
            ],
            "text/plain": [
              "            block_reward     Price+1  ...     Price+6     Price+7\n",
              "Date                                  ...                        \n",
              "2013-10-08          25.0  121.794998  ...  125.455002  123.654991\n",
              "2013-10-09          25.0  123.032997  ...  108.584831  125.455002\n",
              "2013-10-10          25.0  124.049004  ...  118.674660  108.584831\n",
              "2013-10-11          25.0  125.961159  ...  121.338661  118.674660\n",
              "2013-10-12          25.0  125.279663  ...  120.655327  121.338661\n",
              "\n",
              "[5 rows x 8 columns]"
            ]
          },
          "metadata": {
            "tags": []
          },
          "execution_count": 81
        }
      ]
    },
    {
      "cell_type": "code",
      "metadata": {
        "colab": {
          "base_uri": "https://localhost:8080/"
        },
        "id": "-75uu4rLusQ9",
        "outputId": "f11a9c2a-d4b0-423c-cf8e-8728a18edf48"
      },
      "source": [
        "y.head()"
      ],
      "execution_count": 82,
      "outputs": [
        {
          "output_type": "execute_result",
          "data": {
            "text/plain": [
              "Date\n",
              "2013-10-08    123.032997\n",
              "2013-10-09    124.049004\n",
              "2013-10-10    125.961159\n",
              "2013-10-11    125.279663\n",
              "2013-10-12    125.927498\n",
              "Name: Price, dtype: float32"
            ]
          },
          "metadata": {
            "tags": []
          },
          "execution_count": 82
        }
      ]
    },
    {
      "cell_type": "code",
      "metadata": {
        "colab": {
          "base_uri": "https://localhost:8080/"
        },
        "id": "MGR4g9J4uuUc",
        "outputId": "6ce3a85b-64a5-4d89-f2a9-267d55d01cdc"
      },
      "source": [
        "## make train & test sets\n",
        "\n",
        "split_size = int(len(X)*0.8)\n",
        "\n",
        "X_train, y_train = X[:split_size], y[:split_size]\n",
        "X_test, y_test = X[split_size:], y[split_size:]\n",
        "\n",
        "X_train.shape, y_train.shape , X_test.shape, y_test.shape"
      ],
      "execution_count": 83,
      "outputs": [
        {
          "output_type": "execute_result",
          "data": {
            "text/plain": [
              "((2224, 8), (2224,), (556, 8), (556,))"
            ]
          },
          "metadata": {
            "tags": []
          },
          "execution_count": 83
        }
      ]
    },
    {
      "cell_type": "markdown",
      "metadata": {
        "id": "p9PlhoEPvOi9"
      },
      "source": [
        "## Model 6: Dense(multivariate time series)"
      ]
    },
    {
      "cell_type": "code",
      "metadata": {
        "colab": {
          "base_uri": "https://localhost:8080/"
        },
        "id": "ueUmvYilvmKn",
        "outputId": "562adf32-e978-449a-d5f4-258f35b47bfe"
      },
      "source": [
        "tf.random.set_seed(42)\n",
        "\n",
        "model_6 = tf.keras.Sequential([\n",
        "  layers.Dense(128, activation=\"relu\"),\n",
        "  # layers.Dense(128, activation=\"relu\"),\n",
        "  layers.Dense(HORIZON)\n",
        "], name=\"model_6_dense_multivariate\")\n",
        "\n",
        "model_6.compile(loss=\"mae\",\n",
        "                optimizer=\"Adam\")\n",
        "\n",
        "model_6.fit(X_train,\n",
        "            y_train,\n",
        "            epochs=100,\n",
        "            validation_data=(X_test,y_test),\n",
        "            batch_size=128,\n",
        "            verbose=1,\n",
        "            callbacks=[create_model_checkpoint(model_name=model_6.name)])"
      ],
      "execution_count": 84,
      "outputs": [
        {
          "output_type": "stream",
          "text": [
            "Epoch 1/100\n",
            "18/18 [==============================] - 0s 9ms/step - loss: 1234.6880 - val_loss: 2061.8193\n",
            "INFO:tensorflow:Assets written to: model_experiment/model_6_dense_multivariate/assets\n",
            "Epoch 2/100\n",
            "18/18 [==============================] - 0s 2ms/step - loss: 351.5003 - val_loss: 1908.7338\n",
            "INFO:tensorflow:Assets written to: model_experiment/model_6_dense_multivariate/assets\n",
            "Epoch 3/100\n",
            "18/18 [==============================] - 0s 2ms/step - loss: 235.4110 - val_loss: 1329.5337\n",
            "INFO:tensorflow:Assets written to: model_experiment/model_6_dense_multivariate/assets\n",
            "Epoch 4/100\n",
            "18/18 [==============================] - 0s 3ms/step - loss: 208.6456 - val_loss: 1102.0098\n",
            "INFO:tensorflow:Assets written to: model_experiment/model_6_dense_multivariate/assets\n",
            "Epoch 5/100\n",
            "18/18 [==============================] - 0s 3ms/step - loss: 196.5595 - val_loss: 1108.6184\n",
            "Epoch 6/100\n",
            "18/18 [==============================] - 0s 2ms/step - loss: 187.2317 - val_loss: 1035.9945\n",
            "INFO:tensorflow:Assets written to: model_experiment/model_6_dense_multivariate/assets\n",
            "Epoch 7/100\n",
            "18/18 [==============================] - 0s 3ms/step - loss: 182.0119 - val_loss: 1019.2759\n",
            "INFO:tensorflow:Assets written to: model_experiment/model_6_dense_multivariate/assets\n",
            "Epoch 8/100\n",
            "18/18 [==============================] - 0s 2ms/step - loss: 175.6998 - val_loss: 977.7363\n",
            "INFO:tensorflow:Assets written to: model_experiment/model_6_dense_multivariate/assets\n",
            "Epoch 9/100\n",
            "18/18 [==============================] - 0s 2ms/step - loss: 170.1650 - val_loss: 953.9060\n",
            "INFO:tensorflow:Assets written to: model_experiment/model_6_dense_multivariate/assets\n",
            "Epoch 10/100\n",
            "18/18 [==============================] - 0s 2ms/step - loss: 164.3849 - val_loss: 912.1844\n",
            "INFO:tensorflow:Assets written to: model_experiment/model_6_dense_multivariate/assets\n",
            "Epoch 11/100\n",
            "18/18 [==============================] - 0s 3ms/step - loss: 158.0432 - val_loss: 871.2962\n",
            "INFO:tensorflow:Assets written to: model_experiment/model_6_dense_multivariate/assets\n",
            "Epoch 12/100\n",
            "18/18 [==============================] - 0s 4ms/step - loss: 151.8589 - val_loss: 853.0031\n",
            "INFO:tensorflow:Assets written to: model_experiment/model_6_dense_multivariate/assets\n",
            "Epoch 13/100\n",
            "18/18 [==============================] - 0s 2ms/step - loss: 150.1562 - val_loss: 899.1051\n",
            "Epoch 14/100\n",
            "18/18 [==============================] - 0s 3ms/step - loss: 147.8199 - val_loss: 845.0215\n",
            "INFO:tensorflow:Assets written to: model_experiment/model_6_dense_multivariate/assets\n",
            "Epoch 15/100\n",
            "18/18 [==============================] - 0s 2ms/step - loss: 142.5173 - val_loss: 788.1895\n",
            "INFO:tensorflow:Assets written to: model_experiment/model_6_dense_multivariate/assets\n",
            "Epoch 16/100\n",
            "18/18 [==============================] - 0s 2ms/step - loss: 137.1697 - val_loss: 770.6407\n",
            "INFO:tensorflow:Assets written to: model_experiment/model_6_dense_multivariate/assets\n",
            "Epoch 17/100\n",
            "18/18 [==============================] - 0s 2ms/step - loss: 136.0208 - val_loss: 763.1685\n",
            "INFO:tensorflow:Assets written to: model_experiment/model_6_dense_multivariate/assets\n",
            "Epoch 18/100\n",
            "18/18 [==============================] - 0s 3ms/step - loss: 135.4696 - val_loss: 753.5220\n",
            "INFO:tensorflow:Assets written to: model_experiment/model_6_dense_multivariate/assets\n",
            "Epoch 19/100\n",
            "18/18 [==============================] - 0s 2ms/step - loss: 130.7954 - val_loss: 758.8011\n",
            "Epoch 20/100\n",
            "18/18 [==============================] - 0s 2ms/step - loss: 128.6773 - val_loss: 703.7007\n",
            "INFO:tensorflow:Assets written to: model_experiment/model_6_dense_multivariate/assets\n",
            "Epoch 21/100\n",
            "18/18 [==============================] - 0s 3ms/step - loss: 129.2461 - val_loss: 693.4253\n",
            "INFO:tensorflow:Assets written to: model_experiment/model_6_dense_multivariate/assets\n",
            "Epoch 22/100\n",
            "18/18 [==============================] - 0s 2ms/step - loss: 125.8202 - val_loss: 703.4459\n",
            "Epoch 23/100\n",
            "18/18 [==============================] - 0s 2ms/step - loss: 127.8713 - val_loss: 698.5746\n",
            "Epoch 24/100\n",
            "18/18 [==============================] - 0s 3ms/step - loss: 122.4124 - val_loss: 672.5025\n",
            "INFO:tensorflow:Assets written to: model_experiment/model_6_dense_multivariate/assets\n",
            "Epoch 25/100\n",
            "18/18 [==============================] - 0s 3ms/step - loss: 121.3311 - val_loss: 666.3878\n",
            "INFO:tensorflow:Assets written to: model_experiment/model_6_dense_multivariate/assets\n",
            "Epoch 26/100\n",
            "18/18 [==============================] - 0s 2ms/step - loss: 127.9873 - val_loss: 693.5912\n",
            "Epoch 27/100\n",
            "18/18 [==============================] - 0s 3ms/step - loss: 124.8371 - val_loss: 645.3120\n",
            "INFO:tensorflow:Assets written to: model_experiment/model_6_dense_multivariate/assets\n",
            "Epoch 28/100\n",
            "18/18 [==============================] - 0s 3ms/step - loss: 119.8579 - val_loss: 641.3580\n",
            "INFO:tensorflow:Assets written to: model_experiment/model_6_dense_multivariate/assets\n",
            "Epoch 29/100\n",
            "18/18 [==============================] - 0s 2ms/step - loss: 121.2880 - val_loss: 665.6819\n",
            "Epoch 30/100\n",
            "18/18 [==============================] - 0s 2ms/step - loss: 121.1822 - val_loss: 640.8665\n",
            "INFO:tensorflow:Assets written to: model_experiment/model_6_dense_multivariate/assets\n",
            "Epoch 31/100\n",
            "18/18 [==============================] - 0s 3ms/step - loss: 120.4115 - val_loss: 667.9382\n",
            "Epoch 32/100\n",
            "18/18 [==============================] - 0s 2ms/step - loss: 118.3126 - val_loss: 618.9246\n",
            "INFO:tensorflow:Assets written to: model_experiment/model_6_dense_multivariate/assets\n",
            "Epoch 33/100\n",
            "18/18 [==============================] - 0s 3ms/step - loss: 115.8836 - val_loss: 621.7656\n",
            "Epoch 34/100\n",
            "18/18 [==============================] - 0s 3ms/step - loss: 114.9744 - val_loss: 611.1629\n",
            "INFO:tensorflow:Assets written to: model_experiment/model_6_dense_multivariate/assets\n",
            "Epoch 35/100\n",
            "18/18 [==============================] - 0s 3ms/step - loss: 112.5883 - val_loss: 615.9460\n",
            "Epoch 36/100\n",
            "18/18 [==============================] - 0s 3ms/step - loss: 115.2489 - val_loss: 616.3090\n",
            "Epoch 37/100\n",
            "18/18 [==============================] - 0s 3ms/step - loss: 114.1561 - val_loss: 612.4226\n",
            "Epoch 38/100\n",
            "18/18 [==============================] - 0s 2ms/step - loss: 111.4725 - val_loss: 602.2158\n",
            "INFO:tensorflow:Assets written to: model_experiment/model_6_dense_multivariate/assets\n",
            "Epoch 39/100\n",
            "18/18 [==============================] - 0s 2ms/step - loss: 113.2853 - val_loss: 597.4957\n",
            "INFO:tensorflow:Assets written to: model_experiment/model_6_dense_multivariate/assets\n",
            "Epoch 40/100\n",
            "18/18 [==============================] - 0s 3ms/step - loss: 109.8442 - val_loss: 594.1268\n",
            "INFO:tensorflow:Assets written to: model_experiment/model_6_dense_multivariate/assets\n",
            "Epoch 41/100\n",
            "18/18 [==============================] - 0s 2ms/step - loss: 110.6678 - val_loss: 618.8137\n",
            "Epoch 42/100\n",
            "18/18 [==============================] - 0s 2ms/step - loss: 115.6730 - val_loss: 597.8903\n",
            "Epoch 43/100\n",
            "18/18 [==============================] - 0s 2ms/step - loss: 110.8469 - val_loss: 598.7615\n",
            "Epoch 44/100\n",
            "18/18 [==============================] - 0s 2ms/step - loss: 109.6574 - val_loss: 589.3683\n",
            "INFO:tensorflow:Assets written to: model_experiment/model_6_dense_multivariate/assets\n",
            "Epoch 45/100\n",
            "18/18 [==============================] - 0s 3ms/step - loss: 108.7725 - val_loss: 611.4686\n",
            "Epoch 46/100\n",
            "18/18 [==============================] - 0s 3ms/step - loss: 109.6011 - val_loss: 587.5862\n",
            "INFO:tensorflow:Assets written to: model_experiment/model_6_dense_multivariate/assets\n",
            "Epoch 47/100\n",
            "18/18 [==============================] - 0s 2ms/step - loss: 110.3633 - val_loss: 634.5792\n",
            "Epoch 48/100\n",
            "18/18 [==============================] - 0s 2ms/step - loss: 109.3613 - val_loss: 641.6946\n",
            "Epoch 49/100\n",
            "18/18 [==============================] - 0s 3ms/step - loss: 112.7560 - val_loss: 581.5458\n",
            "INFO:tensorflow:Assets written to: model_experiment/model_6_dense_multivariate/assets\n",
            "Epoch 50/100\n",
            "18/18 [==============================] - 0s 3ms/step - loss: 108.7167 - val_loss: 645.5017\n",
            "Epoch 51/100\n",
            "18/18 [==============================] - 0s 2ms/step - loss: 110.1508 - val_loss: 601.1295\n",
            "Epoch 52/100\n",
            "18/18 [==============================] - 0s 3ms/step - loss: 111.2310 - val_loss: 604.3268\n",
            "Epoch 53/100\n",
            "18/18 [==============================] - 0s 2ms/step - loss: 111.7207 - val_loss: 637.5751\n",
            "Epoch 54/100\n",
            "18/18 [==============================] - 0s 2ms/step - loss: 113.4848 - val_loss: 598.4417\n",
            "Epoch 55/100\n",
            "18/18 [==============================] - 0s 2ms/step - loss: 109.9909 - val_loss: 575.7916\n",
            "INFO:tensorflow:Assets written to: model_experiment/model_6_dense_multivariate/assets\n",
            "Epoch 56/100\n",
            "18/18 [==============================] - 0s 4ms/step - loss: 108.7174 - val_loss: 778.8638\n",
            "Epoch 57/100\n",
            "18/18 [==============================] - 0s 2ms/step - loss: 124.3417 - val_loss: 684.9166\n",
            "Epoch 58/100\n",
            "18/18 [==============================] - 0s 3ms/step - loss: 113.7253 - val_loss: 578.1144\n",
            "Epoch 59/100\n",
            "18/18 [==============================] - 0s 2ms/step - loss: 106.6669 - val_loss: 587.5107\n",
            "Epoch 60/100\n",
            "18/18 [==============================] - 0s 3ms/step - loss: 107.3718 - val_loss: 604.5578\n",
            "Epoch 61/100\n",
            "18/18 [==============================] - 0s 3ms/step - loss: 107.3551 - val_loss: 579.4937\n",
            "Epoch 62/100\n",
            "18/18 [==============================] - 0s 4ms/step - loss: 107.1465 - val_loss: 590.5042\n",
            "Epoch 63/100\n",
            "18/18 [==============================] - 0s 3ms/step - loss: 110.3243 - val_loss: 656.7155\n",
            "Epoch 64/100\n",
            "18/18 [==============================] - 0s 2ms/step - loss: 111.4401 - val_loss: 695.9151\n",
            "Epoch 65/100\n",
            "18/18 [==============================] - 0s 2ms/step - loss: 112.8277 - val_loss: 571.7220\n",
            "INFO:tensorflow:Assets written to: model_experiment/model_6_dense_multivariate/assets\n",
            "Epoch 66/100\n",
            "18/18 [==============================] - 0s 4ms/step - loss: 111.0755 - val_loss: 586.5446\n",
            "Epoch 67/100\n",
            "18/18 [==============================] - 0s 3ms/step - loss: 106.8978 - val_loss: 605.0892\n",
            "Epoch 68/100\n",
            "18/18 [==============================] - 0s 4ms/step - loss: 112.7144 - val_loss: 721.4490\n",
            "Epoch 69/100\n",
            "18/18 [==============================] - 0s 2ms/step - loss: 125.0427 - val_loss: 675.2729\n",
            "Epoch 70/100\n",
            "18/18 [==============================] - 0s 3ms/step - loss: 120.6351 - val_loss: 583.3210\n",
            "Epoch 71/100\n",
            "18/18 [==============================] - 0s 3ms/step - loss: 110.7660 - val_loss: 617.2184\n",
            "Epoch 72/100\n",
            "18/18 [==============================] - 0s 3ms/step - loss: 107.5005 - val_loss: 573.3959\n",
            "Epoch 73/100\n",
            "18/18 [==============================] - 0s 2ms/step - loss: 109.0864 - val_loss: 598.6373\n",
            "Epoch 74/100\n",
            "18/18 [==============================] - 0s 4ms/step - loss: 106.1097 - val_loss: 585.1663\n",
            "Epoch 75/100\n",
            "18/18 [==============================] - 0s 3ms/step - loss: 108.0799 - val_loss: 595.4976\n",
            "Epoch 76/100\n",
            "18/18 [==============================] - 0s 2ms/step - loss: 106.6665 - val_loss: 572.6205\n",
            "Epoch 77/100\n",
            "18/18 [==============================] - 0s 3ms/step - loss: 106.8613 - val_loss: 569.7409\n",
            "INFO:tensorflow:Assets written to: model_experiment/model_6_dense_multivariate/assets\n",
            "Epoch 78/100\n",
            "18/18 [==============================] - 0s 2ms/step - loss: 106.2962 - val_loss: 569.5549\n",
            "INFO:tensorflow:Assets written to: model_experiment/model_6_dense_multivariate/assets\n",
            "Epoch 79/100\n",
            "18/18 [==============================] - 0s 3ms/step - loss: 105.4122 - val_loss: 587.1082\n",
            "Epoch 80/100\n",
            "18/18 [==============================] - 0s 4ms/step - loss: 106.3550 - val_loss: 575.5302\n",
            "Epoch 81/100\n",
            "18/18 [==============================] - 0s 4ms/step - loss: 105.4703 - val_loss: 573.0568\n",
            "Epoch 82/100\n",
            "18/18 [==============================] - 0s 3ms/step - loss: 111.8128 - val_loss: 569.2524\n",
            "INFO:tensorflow:Assets written to: model_experiment/model_6_dense_multivariate/assets\n",
            "Epoch 83/100\n",
            "18/18 [==============================] - 0s 3ms/step - loss: 110.6720 - val_loss: 643.0097\n",
            "Epoch 84/100\n",
            "18/18 [==============================] - 0s 3ms/step - loss: 110.1933 - val_loss: 578.6867\n",
            "Epoch 85/100\n",
            "18/18 [==============================] - 0s 3ms/step - loss: 105.9973 - val_loss: 580.7704\n",
            "Epoch 86/100\n",
            "18/18 [==============================] - 0s 3ms/step - loss: 106.2998 - val_loss: 574.9788\n",
            "Epoch 87/100\n",
            "18/18 [==============================] - 0s 3ms/step - loss: 104.6251 - val_loss: 579.1246\n",
            "Epoch 88/100\n",
            "18/18 [==============================] - 0s 3ms/step - loss: 105.5786 - val_loss: 578.4384\n",
            "Epoch 89/100\n",
            "18/18 [==============================] - 0s 2ms/step - loss: 106.2337 - val_loss: 568.6239\n",
            "INFO:tensorflow:Assets written to: model_experiment/model_6_dense_multivariate/assets\n",
            "Epoch 90/100\n",
            "18/18 [==============================] - 0s 3ms/step - loss: 104.4805 - val_loss: 603.5804\n",
            "Epoch 91/100\n",
            "18/18 [==============================] - 0s 3ms/step - loss: 107.7674 - val_loss: 609.6353\n",
            "Epoch 92/100\n",
            "18/18 [==============================] - 0s 3ms/step - loss: 107.0758 - val_loss: 578.5643\n",
            "Epoch 93/100\n",
            "18/18 [==============================] - 0s 2ms/step - loss: 113.8534 - val_loss: 660.6248\n",
            "Epoch 94/100\n",
            "18/18 [==============================] - 0s 3ms/step - loss: 110.9860 - val_loss: 569.0593\n",
            "Epoch 95/100\n",
            "18/18 [==============================] - 0s 3ms/step - loss: 106.0804 - val_loss: 591.7425\n",
            "Epoch 96/100\n",
            "18/18 [==============================] - 0s 2ms/step - loss: 114.2290 - val_loss: 611.8524\n",
            "Epoch 97/100\n",
            "18/18 [==============================] - 0s 2ms/step - loss: 107.7527 - val_loss: 584.7697\n",
            "Epoch 98/100\n",
            "18/18 [==============================] - 0s 3ms/step - loss: 107.8530 - val_loss: 583.5028\n",
            "Epoch 99/100\n",
            "18/18 [==============================] - 0s 3ms/step - loss: 108.0866 - val_loss: 568.3356\n",
            "INFO:tensorflow:Assets written to: model_experiment/model_6_dense_multivariate/assets\n",
            "Epoch 100/100\n",
            "18/18 [==============================] - 0s 4ms/step - loss: 108.8599 - val_loss: 645.7151\n"
          ],
          "name": "stdout"
        },
        {
          "output_type": "execute_result",
          "data": {
            "text/plain": [
              "<tensorflow.python.keras.callbacks.History at 0x7f8d30a8a6d0>"
            ]
          },
          "metadata": {
            "tags": []
          },
          "execution_count": 84
        }
      ]
    },
    {
      "cell_type": "code",
      "metadata": {
        "colab": {
          "base_uri": "https://localhost:8080/"
        },
        "id": "7qqKiVu3wTGm",
        "outputId": "aa16aa8e-42d1-467a-eb6d-e80514fb0d1f"
      },
      "source": [
        "model_6 = tf.keras.models.load_model(\"/content/model_experiment/model_6_dense_multivariate\")\n",
        "\n",
        "model_6_preds = make_preds(model_6, X_test)\n",
        "\n",
        "model_6_results = evaluate_preds(tf.squeeze(y_test), tf.squeeze(model_6_preds))\n",
        "\n",
        "model_6_results"
      ],
      "execution_count": 85,
      "outputs": [
        {
          "output_type": "execute_result",
          "data": {
            "text/plain": [
              "{'mae': 568.33545,\n",
              " 'mape': 2.5493133,\n",
              " 'mase': 0.99840796,\n",
              " 'mse': 1164860.0,\n",
              " 'rmse': 1079.2867}"
            ]
          },
          "metadata": {
            "tags": []
          },
          "execution_count": 85
        }
      ]
    },
    {
      "cell_type": "code",
      "metadata": {
        "colab": {
          "base_uri": "https://localhost:8080/"
        },
        "id": "G2OZYMJ6wf_Q",
        "outputId": "12b329dd-d55a-4ec0-e369-7fe6d954df93"
      },
      "source": [
        "model_1_results"
      ],
      "execution_count": 86,
      "outputs": [
        {
          "output_type": "execute_result",
          "data": {
            "text/plain": [
              "{'mae': 568.5498,\n",
              " 'mape': 2.549229,\n",
              " 'mase': 0.99878454,\n",
              " 'mse': 1172587.6,\n",
              " 'rmse': 1082.8608}"
            ]
          },
          "metadata": {
            "tags": []
          },
          "execution_count": 86
        }
      ]
    },
    {
      "cell_type": "markdown",
      "metadata": {
        "id": "r49pqDYRUY9R"
      },
      "source": [
        "## Building & testing the N-BEATS block layer"
      ]
    },
    {
      "cell_type": "code",
      "metadata": {
        "id": "kVZqBaXBadUV"
      },
      "source": [
        "class NBeatsBlock(tf.keras.layers.Layer):\n",
        "  def __init__(self,\n",
        "               input_size:int,\n",
        "               theta_size: int,\n",
        "               horizon: in,\n",
        "               n_neurons: int,\n",
        "               n_layers: int,\n",
        "               **kwargs):\n",
        "    super().__init__(**kwargs)\n",
        "    self.input_size = input_size\n",
        "    self.theta_size = theta_size\n",
        "    self.horizon = horizon\n",
        "    self.n_neurons = n_neurons\n",
        "    slef.n_layers = n_layers\n",
        "\n",
        "    self.hidden = [tf.keras.layers.Dense(n_neurons, activation=\"relu\") for _ in range ]\n",
        "\n",
        "    self.theta_layer = tf.keras.layers.Dense(theta_size, activation=\"linear\", name=\"theta\")"
      ],
      "execution_count": null,
      "outputs": []
    }
  ]
}