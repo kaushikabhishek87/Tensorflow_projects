{
  "nbformat": 4,
  "nbformat_minor": 0,
  "metadata": {
    "colab": {
      "name": "10_time_series_forecasting_in_tensorflow.ipynb",
      "provenance": [],
      "collapsed_sections": [],
      "authorship_tag": "ABX9TyMiewPuuBDdZouKkHTZtjDB",
      "include_colab_link": true
    },
    "kernelspec": {
      "name": "python3",
      "display_name": "Python 3"
    },
    "language_info": {
      "name": "python"
    }
  },
  "cells": [
    {
      "cell_type": "markdown",
      "metadata": {
        "id": "view-in-github",
        "colab_type": "text"
      },
      "source": [
        "<a href=\"https://colab.research.google.com/github/kaushikabhishek87/Tensorflow_projects/blob/main/10_time_series_forecasting_in_tensorflow.ipynb\" target=\"_parent\"><img src=\"https://colab.research.google.com/assets/colab-badge.svg\" alt=\"Open In Colab\"/></a>"
      ]
    },
    {
      "cell_type": "markdown",
      "metadata": {
        "id": "1vxw9ZR7tCrl"
      },
      "source": [
        "## Get data"
      ]
    },
    {
      "cell_type": "code",
      "metadata": {
        "colab": {
          "base_uri": "https://localhost:8080/"
        },
        "id": "f9R65oOSEUnZ",
        "outputId": "2f0a668b-7431-4dbb-9bf7-c8e3b482db48"
      },
      "source": [
        "!wget https://raw.githubusercontent.com/mrdbourke/tensorflow-deep-learning/main/extras/BTC_USD_2013-10-01_2021-05-18-CoinDesk.csv"
      ],
      "execution_count": 1,
      "outputs": [
        {
          "output_type": "stream",
          "text": [
            "--2021-07-25 08:22:49--  https://raw.githubusercontent.com/mrdbourke/tensorflow-deep-learning/main/extras/BTC_USD_2013-10-01_2021-05-18-CoinDesk.csv\n",
            "Resolving raw.githubusercontent.com (raw.githubusercontent.com)... 185.199.110.133, 185.199.109.133, 185.199.111.133, ...\n",
            "Connecting to raw.githubusercontent.com (raw.githubusercontent.com)|185.199.110.133|:443... connected.\n",
            "HTTP request sent, awaiting response... 200 OK\n",
            "Length: 178509 (174K) [text/plain]\n",
            "Saving to: ‘BTC_USD_2013-10-01_2021-05-18-CoinDesk.csv’\n",
            "\n",
            "BTC_USD_2013-10-01_ 100%[===================>] 174.33K  --.-KB/s    in 0.02s   \n",
            "\n",
            "2021-07-25 08:22:50 (10.9 MB/s) - ‘BTC_USD_2013-10-01_2021-05-18-CoinDesk.csv’ saved [178509/178509]\n",
            "\n"
          ],
          "name": "stdout"
        }
      ]
    },
    {
      "cell_type": "code",
      "metadata": {
        "colab": {
          "base_uri": "https://localhost:8080/",
          "height": 235
        },
        "id": "NchojBRJtv1b",
        "outputId": "d9dd87c8-b5e1-4c0a-d3ba-87cbd41b6b52"
      },
      "source": [
        "import pandas as pd\n",
        "\n",
        "df = pd.read_csv(\"BTC_USD_2013-10-01_2021-05-18-CoinDesk.csv\", parse_dates=[\"Date\"], index_col=[\"Date\"])\n",
        "df.head()"
      ],
      "execution_count": 2,
      "outputs": [
        {
          "output_type": "execute_result",
          "data": {
            "text/html": [
              "<div>\n",
              "<style scoped>\n",
              "    .dataframe tbody tr th:only-of-type {\n",
              "        vertical-align: middle;\n",
              "    }\n",
              "\n",
              "    .dataframe tbody tr th {\n",
              "        vertical-align: top;\n",
              "    }\n",
              "\n",
              "    .dataframe thead th {\n",
              "        text-align: right;\n",
              "    }\n",
              "</style>\n",
              "<table border=\"1\" class=\"dataframe\">\n",
              "  <thead>\n",
              "    <tr style=\"text-align: right;\">\n",
              "      <th></th>\n",
              "      <th>Currency</th>\n",
              "      <th>Closing Price (USD)</th>\n",
              "      <th>24h Open (USD)</th>\n",
              "      <th>24h High (USD)</th>\n",
              "      <th>24h Low (USD)</th>\n",
              "    </tr>\n",
              "    <tr>\n",
              "      <th>Date</th>\n",
              "      <th></th>\n",
              "      <th></th>\n",
              "      <th></th>\n",
              "      <th></th>\n",
              "      <th></th>\n",
              "    </tr>\n",
              "  </thead>\n",
              "  <tbody>\n",
              "    <tr>\n",
              "      <th>2013-10-01</th>\n",
              "      <td>BTC</td>\n",
              "      <td>123.65499</td>\n",
              "      <td>124.30466</td>\n",
              "      <td>124.75166</td>\n",
              "      <td>122.56349</td>\n",
              "    </tr>\n",
              "    <tr>\n",
              "      <th>2013-10-02</th>\n",
              "      <td>BTC</td>\n",
              "      <td>125.45500</td>\n",
              "      <td>123.65499</td>\n",
              "      <td>125.75850</td>\n",
              "      <td>123.63383</td>\n",
              "    </tr>\n",
              "    <tr>\n",
              "      <th>2013-10-03</th>\n",
              "      <td>BTC</td>\n",
              "      <td>108.58483</td>\n",
              "      <td>125.45500</td>\n",
              "      <td>125.66566</td>\n",
              "      <td>83.32833</td>\n",
              "    </tr>\n",
              "    <tr>\n",
              "      <th>2013-10-04</th>\n",
              "      <td>BTC</td>\n",
              "      <td>118.67466</td>\n",
              "      <td>108.58483</td>\n",
              "      <td>118.67500</td>\n",
              "      <td>107.05816</td>\n",
              "    </tr>\n",
              "    <tr>\n",
              "      <th>2013-10-05</th>\n",
              "      <td>BTC</td>\n",
              "      <td>121.33866</td>\n",
              "      <td>118.67466</td>\n",
              "      <td>121.93633</td>\n",
              "      <td>118.00566</td>\n",
              "    </tr>\n",
              "  </tbody>\n",
              "</table>\n",
              "</div>"
            ],
            "text/plain": [
              "           Currency  Closing Price (USD)  ...  24h High (USD)  24h Low (USD)\n",
              "Date                                      ...                               \n",
              "2013-10-01      BTC            123.65499  ...       124.75166      122.56349\n",
              "2013-10-02      BTC            125.45500  ...       125.75850      123.63383\n",
              "2013-10-03      BTC            108.58483  ...       125.66566       83.32833\n",
              "2013-10-04      BTC            118.67466  ...       118.67500      107.05816\n",
              "2013-10-05      BTC            121.33866  ...       121.93633      118.00566\n",
              "\n",
              "[5 rows x 5 columns]"
            ]
          },
          "metadata": {
            "tags": []
          },
          "execution_count": 2
        }
      ]
    },
    {
      "cell_type": "code",
      "metadata": {
        "colab": {
          "base_uri": "https://localhost:8080/"
        },
        "id": "6B3wqXgmuKvR",
        "outputId": "a9d330cb-d7c8-41d0-a1a9-a5132930ba09"
      },
      "source": [
        "df.info()"
      ],
      "execution_count": 3,
      "outputs": [
        {
          "output_type": "stream",
          "text": [
            "<class 'pandas.core.frame.DataFrame'>\n",
            "DatetimeIndex: 2787 entries, 2013-10-01 to 2021-05-18\n",
            "Data columns (total 5 columns):\n",
            " #   Column               Non-Null Count  Dtype  \n",
            "---  ------               --------------  -----  \n",
            " 0   Currency             2787 non-null   object \n",
            " 1   Closing Price (USD)  2787 non-null   float64\n",
            " 2   24h Open (USD)       2787 non-null   float64\n",
            " 3   24h High (USD)       2787 non-null   float64\n",
            " 4   24h Low (USD)        2787 non-null   float64\n",
            "dtypes: float64(4), object(1)\n",
            "memory usage: 130.6+ KB\n"
          ],
          "name": "stdout"
        }
      ]
    },
    {
      "cell_type": "code",
      "metadata": {
        "colab": {
          "base_uri": "https://localhost:8080/",
          "height": 235
        },
        "id": "zifkPwa2zx07",
        "outputId": "f777487a-165f-4d91-df47-8098dea7e499"
      },
      "source": [
        "bitcoin_prices = pd.DataFrame(df[\"Closing Price (USD)\"]).rename(columns={\"Closing Price (USD)\":\"Price\"})\n",
        "bitcoin_prices.head()"
      ],
      "execution_count": 4,
      "outputs": [
        {
          "output_type": "execute_result",
          "data": {
            "text/html": [
              "<div>\n",
              "<style scoped>\n",
              "    .dataframe tbody tr th:only-of-type {\n",
              "        vertical-align: middle;\n",
              "    }\n",
              "\n",
              "    .dataframe tbody tr th {\n",
              "        vertical-align: top;\n",
              "    }\n",
              "\n",
              "    .dataframe thead th {\n",
              "        text-align: right;\n",
              "    }\n",
              "</style>\n",
              "<table border=\"1\" class=\"dataframe\">\n",
              "  <thead>\n",
              "    <tr style=\"text-align: right;\">\n",
              "      <th></th>\n",
              "      <th>Price</th>\n",
              "    </tr>\n",
              "    <tr>\n",
              "      <th>Date</th>\n",
              "      <th></th>\n",
              "    </tr>\n",
              "  </thead>\n",
              "  <tbody>\n",
              "    <tr>\n",
              "      <th>2013-10-01</th>\n",
              "      <td>123.65499</td>\n",
              "    </tr>\n",
              "    <tr>\n",
              "      <th>2013-10-02</th>\n",
              "      <td>125.45500</td>\n",
              "    </tr>\n",
              "    <tr>\n",
              "      <th>2013-10-03</th>\n",
              "      <td>108.58483</td>\n",
              "    </tr>\n",
              "    <tr>\n",
              "      <th>2013-10-04</th>\n",
              "      <td>118.67466</td>\n",
              "    </tr>\n",
              "    <tr>\n",
              "      <th>2013-10-05</th>\n",
              "      <td>121.33866</td>\n",
              "    </tr>\n",
              "  </tbody>\n",
              "</table>\n",
              "</div>"
            ],
            "text/plain": [
              "                Price\n",
              "Date                 \n",
              "2013-10-01  123.65499\n",
              "2013-10-02  125.45500\n",
              "2013-10-03  108.58483\n",
              "2013-10-04  118.67466\n",
              "2013-10-05  121.33866"
            ]
          },
          "metadata": {
            "tags": []
          },
          "execution_count": 4
        }
      ]
    },
    {
      "cell_type": "code",
      "metadata": {
        "id": "4rn9nQFauwnp"
      },
      "source": [
        "import seaborn as sns\n",
        "import matplotlib.pyplot as plt"
      ],
      "execution_count": 5,
      "outputs": []
    },
    {
      "cell_type": "code",
      "metadata": {
        "colab": {
          "base_uri": "https://localhost:8080/",
          "height": 492
        },
        "id": "ndOwcbXWzMjx",
        "outputId": "598e82f5-a6de-4041-c7f5-19b0b5ef93e9"
      },
      "source": [
        "plt.figure(figsize=(10,7))\n",
        "sns.lineplot(x=bitcoin_prices.index, y=bitcoin_prices[\"Price\"], legend=True)\n",
        "plt.title(\"Price of Bitcoin\")\n",
        "plt.legend(fontsize=14)"
      ],
      "execution_count": 6,
      "outputs": [
        {
          "output_type": "stream",
          "text": [
            "No handles with labels found to put in legend.\n"
          ],
          "name": "stderr"
        },
        {
          "output_type": "execute_result",
          "data": {
            "text/plain": [
              "<matplotlib.legend.Legend at 0x7f07885f72d0>"
            ]
          },
          "metadata": {
            "tags": []
          },
          "execution_count": 6
        },
        {
          "output_type": "display_data",
          "data": {
            "image/png": "[encoded data removed]",
            "text/plain": [
              "<Figure size 720x504 with 1 Axes>"
            ]
          },
          "metadata": {
            "tags": [],
            "needs_background": "light"
          }
        }
      ]
    },
    {
      "cell_type": "markdown",
      "metadata": {
        "id": "lgww4rVhzZjA"
      },
      "source": [
        "## Reading data with CSV modules"
      ]
    },
    {
      "cell_type": "code",
      "metadata": {
        "id": "urEhUM4D0_5q"
      },
      "source": [
        "import csv\n",
        "from datetime import datetime\n",
        "\n",
        "timesteps = []\n",
        "btc_price = []\n",
        "\n",
        "with open(\"/content/BTC_USD_2013-10-01_2021-05-18-CoinDesk.csv\",\"r\") as f:\n",
        "  csv_reader = csv.reader( f, delimiter = \",\")\n",
        "  next(csv_reader) #skip first line\n",
        "  for line in csv_reader:\n",
        "    timesteps.append(datetime.strptime(line[1], \"%Y-%m-%d\")) \n",
        "    btc_price.append(float(line[2]))"
      ],
      "execution_count": 7,
      "outputs": []
    },
    {
      "cell_type": "code",
      "metadata": {
        "colab": {
          "base_uri": "https://localhost:8080/"
        },
        "id": "FWgq89mn2hzJ",
        "outputId": "5ad89df4-ccf1-4a09-858e-39955acaa34c"
      },
      "source": [
        "timesteps[:10], btc_price[:10]"
      ],
      "execution_count": 8,
      "outputs": [
        {
          "output_type": "execute_result",
          "data": {
            "text/plain": [
              "([datetime.datetime(2013, 10, 1, 0, 0),\n",
              "  datetime.datetime(2013, 10, 2, 0, 0),\n",
              "  datetime.datetime(2013, 10, 3, 0, 0),\n",
              "  datetime.datetime(2013, 10, 4, 0, 0),\n",
              "  datetime.datetime(2013, 10, 5, 0, 0),\n",
              "  datetime.datetime(2013, 10, 6, 0, 0),\n",
              "  datetime.datetime(2013, 10, 7, 0, 0),\n",
              "  datetime.datetime(2013, 10, 8, 0, 0),\n",
              "  datetime.datetime(2013, 10, 9, 0, 0),\n",
              "  datetime.datetime(2013, 10, 10, 0, 0)],\n",
              " [123.65499,\n",
              "  125.455,\n",
              "  108.58483,\n",
              "  118.67466,\n",
              "  121.33866,\n",
              "  120.65533,\n",
              "  121.795,\n",
              "  123.033,\n",
              "  124.049,\n",
              "  125.96116])"
            ]
          },
          "metadata": {
            "tags": []
          },
          "execution_count": 8
        }
      ]
    },
    {
      "cell_type": "code",
      "metadata": {
        "colab": {
          "base_uri": "https://localhost:8080/",
          "height": 445
        },
        "id": "bZGlrPqv2_tf",
        "outputId": "e3feadb6-7393-41d6-ac1f-688884654528"
      },
      "source": [
        "plt.figure(figsize=(10,7))\n",
        "sns.lineplot(x=timesteps, y=btc_price)"
      ],
      "execution_count": 9,
      "outputs": [
        {
          "output_type": "execute_result",
          "data": {
            "text/plain": [
              "<matplotlib.axes._subplots.AxesSubplot at 0x7f0787af04d0>"
            ]
          },
          "metadata": {
            "tags": []
          },
          "execution_count": 9
        },
        {
          "output_type": "display_data",
          "data": {
            "image/png": "[encoded data removed]",
            "text/plain": [
              "<Figure size 720x504 with 1 Axes>"
            ]
          },
          "metadata": {
            "tags": [],
            "needs_background": "light"
          }
        }
      ]
    },
    {
      "cell_type": "markdown",
      "metadata": {
        "id": "AIBaVk2t3Z_Q"
      },
      "source": [
        "## Create train & test set"
      ]
    },
    {
      "cell_type": "code",
      "metadata": {
        "id": "_u4W_UQd4Bfr",
        "colab": {
          "base_uri": "https://localhost:8080/"
        },
        "outputId": "c17cd2f7-0e90-4838-9b0e-5cdfcb32cbe1"
      },
      "source": [
        "split_size = int(0.8*len(btc_price)) # 80% train / 20% test\n",
        "split_size"
      ],
      "execution_count": 10,
      "outputs": [
        {
          "output_type": "execute_result",
          "data": {
            "text/plain": [
              "2229"
            ]
          },
          "metadata": {
            "tags": []
          },
          "execution_count": 10
        }
      ]
    },
    {
      "cell_type": "code",
      "metadata": {
        "colab": {
          "base_uri": "https://localhost:8080/"
        },
        "id": "NF7p_fbAYgJj",
        "outputId": "39f98008-2648-4516-d2de-17d76d23c794"
      },
      "source": [
        "X_train, y_train = timesteps[:split_size], btc_price[:split_size]\n",
        "X_test, y_test = timesteps[split_size:], btc_price[split_size:]\n",
        "\n",
        "len(X_train), len(X_test)"
      ],
      "execution_count": 11,
      "outputs": [
        {
          "output_type": "execute_result",
          "data": {
            "text/plain": [
              "(2229, 558)"
            ]
          },
          "metadata": {
            "tags": []
          },
          "execution_count": 11
        }
      ]
    },
    {
      "cell_type": "code",
      "metadata": {
        "colab": {
          "base_uri": "https://localhost:8080/",
          "height": 459
        },
        "id": "_pLEfHZ-ZAeZ",
        "outputId": "174c7ad4-063e-47aa-8958-200aa572c729"
      },
      "source": [
        "plt.figure(figsize=(10,7))\n",
        "sns.scatterplot(x=X_train,y=y_train, label=\"Train\")\n",
        "sns.scatterplot(x=X_test,y=y_test, label=\"Test\")\n",
        "plt.xlabel(\"Time\")\n",
        "plt.ylabel(\"BTC Prices\")"
      ],
      "execution_count": 12,
      "outputs": [
        {
          "output_type": "execute_result",
          "data": {
            "text/plain": [
              "Text(0, 0.5, 'BTC Prices')"
            ]
          },
          "metadata": {
            "tags": []
          },
          "execution_count": 12
        },
        {
          "output_type": "display_data",
          "data": {
            "image/png": "[encoded data removed]",
            "text/plain": [
              "<Figure size 720x504 with 1 Axes>"
            ]
          },
          "metadata": {
            "tags": [],
            "needs_background": "light"
          }
        }
      ]
    },
    {
      "cell_type": "markdown",
      "metadata": {
        "id": "dSatk6Lfu8BP"
      },
      "source": [
        "## Naive Model"
      ]
    },
    {
      "cell_type": "code",
      "metadata": {
        "colab": {
          "base_uri": "https://localhost:8080/"
        },
        "id": "sxTyc6Guv66l",
        "outputId": "dfa5cf54-a1fa-4c5f-865a-03ddd517f80b"
      },
      "source": [
        "naive_forecast =y_test[:-1]\n",
        "\n",
        "naive_forecast[:10], naive_forecast[-10:]"
      ],
      "execution_count": 13,
      "outputs": [
        {
          "output_type": "execute_result",
          "data": {
            "text/plain": [
              "([9226.4858208826,\n",
              "  8794.3586445233,\n",
              "  8798.0420546256,\n",
              "  9081.1868784913,\n",
              "  8711.5343391679,\n",
              "  8760.8927181435,\n",
              "  8749.520591019,\n",
              "  8656.970922354,\n",
              "  8500.6435581622,\n",
              "  8469.2608988992],\n",
              " [57107.1206718864,\n",
              "  58788.2096789273,\n",
              "  58102.1914262342,\n",
              "  55715.5466512869,\n",
              "  56573.5554719043,\n",
              "  52147.8211869823,\n",
              "  49764.1320815975,\n",
              "  50032.6931367648,\n",
              "  47885.6252547166,\n",
              "  45604.6157536131])"
            ]
          },
          "metadata": {
            "tags": []
          },
          "execution_count": 13
        }
      ]
    },
    {
      "cell_type": "code",
      "metadata": {
        "colab": {
          "base_uri": "https://localhost:8080/",
          "height": 459
        },
        "id": "xWN38tWSxAyd",
        "outputId": "13f68c97-63b9-497e-ba4a-b81925dd2ab5"
      },
      "source": [
        "plt.figure(figsize=(10,7))\n",
        "# sns.scatterplot(x=X_train,y=y_train, label=\"Train\")\n",
        "sns.scatterplot(x=X_test,y=y_test, label=\"Test\")\n",
        "sns.lineplot(x=X_test[1:], y=naive_forecast , label=\"Naive forecast\")\n",
        "plt.xlabel(\"Time\")\n",
        "plt.ylabel(\"BTC Prices\")"
      ],
      "execution_count": 14,
      "outputs": [
        {
          "output_type": "execute_result",
          "data": {
            "text/plain": [
              "Text(0, 0.5, 'BTC Prices')"
            ]
          },
          "metadata": {
            "tags": []
          },
          "execution_count": 14
        },
        {
          "output_type": "display_data",
          "data": {
            "image/png": "[encoded data removed]",
            "text/plain": [
              "<Figure size 720x504 with 1 Axes>"
            ]
          },
          "metadata": {
            "tags": [],
            "needs_background": "light"
          }
        }
      ]
    },
    {
      "cell_type": "code",
      "metadata": {
        "id": "5jJGTISoxkn1"
      },
      "source": [
        "## Evaluating a time series"
      ],
      "execution_count": 15,
      "outputs": []
    },
    {
      "cell_type": "code",
      "metadata": {
        "id": "Birk0Ffgy_Ov"
      },
      "source": [
        "import tensorflow as tf"
      ],
      "execution_count": 16,
      "outputs": []
    },
    {
      "cell_type": "code",
      "metadata": {
        "id": "92-_Z17Z39Dj"
      },
      "source": [
        "import numpy as np\n",
        "# MASE implementation\n",
        "def mean_absolute_scaled_error(y_true, y_pred):\n",
        "\n",
        "  y_true = np.array(y_true)\n",
        "  y_pred = np.array(y_pred)\n",
        "\n",
        "  mae = tf.reduce_mean(tf.abs(y_true - y_pred))\n",
        "\n",
        "  # Find the MAE of naive forecast\n",
        "  mae_naive_no_season = tf.reduce_mean(tf.abs(y_true[1:] - y_true[:-1])) # Our seasonlaity is 1 day (hence the shift of 1)\n",
        "\n",
        "  return mae / mae_naive_no_season"
      ],
      "execution_count": 17,
      "outputs": []
    },
    {
      "cell_type": "code",
      "metadata": {
        "colab": {
          "base_uri": "https://localhost:8080/"
        },
        "id": "Z25X0_o65Bda",
        "outputId": "193c9873-7703-408c-b18a-b5f4fc81048e"
      },
      "source": [
        "mean_absolute_scaled_error(y_true=y_test[1:], y_pred=naive_forecast).numpy()"
      ],
      "execution_count": 18,
      "outputs": [
        {
          "output_type": "execute_result",
          "data": {
            "text/plain": [
              "0.9995699939182626"
            ]
          },
          "metadata": {
            "tags": []
          },
          "execution_count": 18
        }
      ]
    },
    {
      "cell_type": "code",
      "metadata": {
        "id": "SFxS_Xd_5KAc"
      },
      "source": [
        "def evaluate_preds(y_true, y_pred):\n",
        "  y_true = tf.cast(y_true, dtype=tf.float32)\n",
        "  y_pred = tf.cast(y_pred, dtype=tf.float32)\n",
        "\n",
        "  mae = tf.keras.metrics.mean_absolute_error(y_true, y_pred)\n",
        "\n",
        "  mse = tf.keras.metrics.mean_squared_error(y_true, y_pred)\n",
        "\n",
        "  rmse = tf.sqrt(mse)\n",
        "\n",
        "  mape = tf.keras.metrics.mean_absolute_percentage_error(y_true, y_pred)\n",
        "\n",
        "  mase = mean_absolute_scaled_error(y_true, y_pred)\n",
        "\n",
        "  return {\"mae\": mae.numpy(),\n",
        "          \"mse\":mse.numpy(),\n",
        "          \"rmse\":rmse.numpy(),\n",
        "          \"mape\":mape.numpy(),\n",
        "          \"mase\":mase.numpy()}\n",
        "\n",
        "\n",
        "\n"
      ],
      "execution_count": 19,
      "outputs": []
    },
    {
      "cell_type": "code",
      "metadata": {
        "colab": {
          "base_uri": "https://localhost:8080/"
        },
        "id": "lD4ls6CkxeUr",
        "outputId": "c50e2669-0081-498e-bf57-800d6966e4af"
      },
      "source": [
        "naive_results = evaluate_preds(y_true=y_test[1:], y_pred=naive_forecast)\n",
        "naive_results"
      ],
      "execution_count": 64,
      "outputs": [
        {
          "output_type": "execute_result",
          "data": {
            "text/plain": [
              "{'mae': 567.9802,\n",
              " 'mape': 2.516525,\n",
              " 'mase': 0.99957,\n",
              " 'mse': 1147547.0,\n",
              " 'rmse': 1071.2362}"
            ]
          },
          "metadata": {
            "tags": []
          },
          "execution_count": 64
        }
      ]
    },
    {
      "cell_type": "code",
      "metadata": {
        "colab": {
          "base_uri": "https://localhost:8080/"
        },
        "id": "BYHGSe9wxkdX",
        "outputId": "2facd53d-7d07-4b23-961c-aa9939db3940"
      },
      "source": [
        "tf.reduce_mean(y_test).numpy(), tf.reduce_max(y_test).numpy()"
      ],
      "execution_count": 21,
      "outputs": [
        {
          "output_type": "execute_result",
          "data": {
            "text/plain": [
              "(20056.633, 63346.79)"
            ]
          },
          "metadata": {
            "tags": []
          },
          "execution_count": 21
        }
      ]
    },
    {
      "cell_type": "markdown",
      "metadata": {
        "id": "l1QAbmUeyP13"
      },
      "source": [
        "## Format data - Windowing data"
      ]
    },
    {
      "cell_type": "code",
      "metadata": {
        "colab": {
          "base_uri": "https://localhost:8080/"
        },
        "id": "5u6bFKRS1Zkn",
        "outputId": "f1dc3790-6995-4e3b-9e79-3317327808e5"
      },
      "source": [
        "# Window size = 7, Horizon = 1\n",
        "btc_price[:7], btc_price[7]"
      ],
      "execution_count": 22,
      "outputs": [
        {
          "output_type": "execute_result",
          "data": {
            "text/plain": [
              "([123.65499, 125.455, 108.58483, 118.67466, 121.33866, 120.65533, 121.795],\n",
              " 123.033)"
            ]
          },
          "metadata": {
            "tags": []
          },
          "execution_count": 22
        }
      ]
    },
    {
      "cell_type": "code",
      "metadata": {
        "colab": {
          "base_uri": "https://localhost:8080/"
        },
        "id": "dbjbclxm2L1G",
        "outputId": "e4fac03e-b1f4-4b60-929b-c529b1681513"
      },
      "source": [
        "btc_price[:8]"
      ],
      "execution_count": 23,
      "outputs": [
        {
          "output_type": "execute_result",
          "data": {
            "text/plain": [
              "[123.65499,\n",
              " 125.455,\n",
              " 108.58483,\n",
              " 118.67466,\n",
              " 121.33866,\n",
              " 120.65533,\n",
              " 121.795,\n",
              " 123.033]"
            ]
          },
          "metadata": {
            "tags": []
          },
          "execution_count": 23
        }
      ]
    },
    {
      "cell_type": "code",
      "metadata": {
        "id": "hmzLPzFd1fyl"
      },
      "source": [
        "HORIZON = 1\n",
        "WINDOW_SIZE = 7"
      ],
      "execution_count": 108,
      "outputs": []
    },
    {
      "cell_type": "code",
      "metadata": {
        "id": "JoYL3o_S1-CX"
      },
      "source": [
        "def get_labelled_window(x, horizon=HORIZON):\n",
        "\n",
        "  return x[: , :-horizon], x[:, -horizon:]\n"
      ],
      "execution_count": 109,
      "outputs": []
    },
    {
      "cell_type": "code",
      "metadata": {
        "colab": {
          "base_uri": "https://localhost:8080/"
        },
        "id": "-mL49pH02p2h",
        "outputId": "df017f67-5848-401e-c4f8-205f129b4ebc"
      },
      "source": [
        "test_window, test_label = get_labelled_window(tf.expand_dims(tf.range(8), axis=0))\n",
        "\n",
        "test_window, test_label"
      ],
      "execution_count": 110,
      "outputs": [
        {
          "output_type": "execute_result",
          "data": {
            "text/plain": [
              "(<tf.Tensor: shape=(1, 7), dtype=int32, numpy=array([[0, 1, 2, 3, 4, 5, 6]], dtype=int32)>,\n",
              " <tf.Tensor: shape=(1, 1), dtype=int32, numpy=array([[7]], dtype=int32)>)"
            ]
          },
          "metadata": {
            "tags": []
          },
          "execution_count": 110
        }
      ]
    },
    {
      "cell_type": "code",
      "metadata": {
        "colab": {
          "base_uri": "https://localhost:8080/"
        },
        "id": "MEagbUmW2ubx",
        "outputId": "73eebb5d-7bb3-4dd0-c9e5-f8c291db20e4"
      },
      "source": [
        "tf.expand_dims(tf.range(8), axis=0)"
      ],
      "execution_count": 111,
      "outputs": [
        {
          "output_type": "execute_result",
          "data": {
            "text/plain": [
              "<tf.Tensor: shape=(1, 8), dtype=int32, numpy=array([[0, 1, 2, 3, 4, 5, 6, 7]], dtype=int32)>"
            ]
          },
          "metadata": {
            "tags": []
          },
          "execution_count": 111
        }
      ]
    },
    {
      "cell_type": "code",
      "metadata": {
        "colab": {
          "base_uri": "https://localhost:8080/"
        },
        "id": "R-h7lSDD3ALQ",
        "outputId": "e1cda55e-6846-4998-9095-dbe7ec11b4c4"
      },
      "source": [
        "type(btc_price)"
      ],
      "execution_count": 112,
      "outputs": [
        {
          "output_type": "execute_result",
          "data": {
            "text/plain": [
              "list"
            ]
          },
          "metadata": {
            "tags": []
          },
          "execution_count": 112
        }
      ]
    },
    {
      "cell_type": "markdown",
      "metadata": {
        "id": "MqaahZRg5hed"
      },
      "source": [
        "### Using numpy array indexing for creating Horizon & Window -  faster than Python for loops"
      ]
    },
    {
      "cell_type": "code",
      "metadata": {
        "id": "T8HoEjhH5yGO"
      },
      "source": [
        "def make_windows(x, window_size=WINDOW_SIZE, horizon= HORIZON):\n",
        "\n",
        "  window_step = np.expand_dims(np.arange(window_size+horizon), axis=0)\n",
        "\n",
        "  window_indexes = window_step + np.expand_dims(np.arange(len(x) - (window_size+horizon - 1)  ), axis=0).T\n",
        "\n",
        "  # print(f\"Window index:\\n {window_indexes, window_indexes.shape}\")\n",
        "\n",
        "  x = np.array(x)\n",
        "\n",
        "  windowed_array = x[window_indexes]\n",
        "\n",
        "  windows, labels = get_labelled_window(windowed_array, horizon=HORIZON)\n",
        "\n",
        "\n",
        "  return windows, labels"
      ],
      "execution_count": 113,
      "outputs": []
    },
    {
      "cell_type": "code",
      "metadata": {
        "colab": {
          "base_uri": "https://localhost:8080/"
        },
        "id": "dFv3VnM472AM",
        "outputId": "4eeb5d16-905c-403c-b99f-34873412ac01"
      },
      "source": [
        "full_windows, full_labels = make_windows(btc_price, window_size=WINDOW_SIZE, horizon=HORIZON)\n",
        "\n",
        "len(full_windows) , len(full_labels)"
      ],
      "execution_count": 114,
      "outputs": [
        {
          "output_type": "execute_result",
          "data": {
            "text/plain": [
              "(2780, 2780)"
            ]
          },
          "metadata": {
            "tags": []
          },
          "execution_count": 114
        }
      ]
    },
    {
      "cell_type": "code",
      "metadata": {
        "colab": {
          "base_uri": "https://localhost:8080/"
        },
        "id": "KxRd3r1a783v",
        "outputId": "a1bc2e12-7c0f-4507-907e-9c96a56ec0f8"
      },
      "source": [
        "full_windows[:3], full_labels[:3]"
      ],
      "execution_count": 115,
      "outputs": [
        {
          "output_type": "execute_result",
          "data": {
            "text/plain": [
              "(array([[123.65499, 125.455  , 108.58483, 118.67466, 121.33866, 120.65533,\n",
              "         121.795  ],\n",
              "        [125.455  , 108.58483, 118.67466, 121.33866, 120.65533, 121.795  ,\n",
              "         123.033  ],\n",
              "        [108.58483, 118.67466, 121.33866, 120.65533, 121.795  , 123.033  ,\n",
              "         124.049  ]]), array([[123.033  ],\n",
              "        [124.049  ],\n",
              "        [125.96116]]))"
            ]
          },
          "metadata": {
            "tags": []
          },
          "execution_count": 115
        }
      ]
    },
    {
      "cell_type": "code",
      "metadata": {
        "id": "JB-kGA_H8VFk"
      },
      "source": [
        "# tf.keras.preprocessing.timeseries_dataset_from_array()"
      ],
      "execution_count": 116,
      "outputs": []
    },
    {
      "cell_type": "markdown",
      "metadata": {
        "id": "tyFMwRjK_bju"
      },
      "source": [
        "## Splitting window data in training & test"
      ]
    },
    {
      "cell_type": "code",
      "metadata": {
        "id": "0eMZbr8b_nnZ"
      },
      "source": [
        "def make_train_test_splits(windows, labels, test_split = 0.2):\n",
        "\n",
        "  split_size = int(len(windows) * (1-test_split) )\n",
        "\n",
        "  train_windows = windows[:split_size]\n",
        "  train_labels = labels[:split_size]\n",
        "  test_windows = windows[split_size:]\n",
        "  test_labels = labels[split_size:]\n",
        "\n",
        "  return train_windows, test_windows, train_labels, test_labels\n"
      ],
      "execution_count": 117,
      "outputs": []
    },
    {
      "cell_type": "code",
      "metadata": {
        "colab": {
          "base_uri": "https://localhost:8080/"
        },
        "id": "_2eK69L0AwCz",
        "outputId": "66146c72-b06c-4dd4-909d-953099197042"
      },
      "source": [
        "train_windows, test_windows, train_labels, test_labels = make_train_test_splits(full_windows, full_labels)\n",
        "\n",
        "len(train_windows), len(test_windows),  len(train_labels), len(test_labels)"
      ],
      "execution_count": 118,
      "outputs": [
        {
          "output_type": "execute_result",
          "data": {
            "text/plain": [
              "(2224, 556, 2224, 556)"
            ]
          },
          "metadata": {
            "tags": []
          },
          "execution_count": 118
        }
      ]
    },
    {
      "cell_type": "code",
      "metadata": {
        "colab": {
          "base_uri": "https://localhost:8080/"
        },
        "id": "tN3_1VhRBOsg",
        "outputId": "5cf0e743-0f7d-4b19-b10d-ab0a40c129be"
      },
      "source": [
        "train_labels.shape"
      ],
      "execution_count": 119,
      "outputs": [
        {
          "output_type": "execute_result",
          "data": {
            "text/plain": [
              "(2224, 1)"
            ]
          },
          "metadata": {
            "tags": []
          },
          "execution_count": 119
        }
      ]
    },
    {
      "cell_type": "code",
      "metadata": {
        "colab": {
          "base_uri": "https://localhost:8080/"
        },
        "id": "1qSLZ86xB7yj",
        "outputId": "f0b2f6d5-3a7d-46af-bbd3-e9be708267e4"
      },
      "source": [
        "np.squeeze(train_labels).shape"
      ],
      "execution_count": 120,
      "outputs": [
        {
          "output_type": "execute_result",
          "data": {
            "text/plain": [
              "(2224,)"
            ]
          },
          "metadata": {
            "tags": []
          },
          "execution_count": 120
        }
      ]
    },
    {
      "cell_type": "markdown",
      "metadata": {
        "id": "6M_9DcIwxrCe"
      },
      "source": [
        "## Make a modelling checkpoint callback"
      ]
    },
    {
      "cell_type": "code",
      "metadata": {
        "id": "syCRsDOVypN6"
      },
      "source": [
        "import os\n",
        "\n",
        "# Create a function to implement a ModelCheckpoint callback\n",
        "\n",
        "\n",
        "def create_model_checkpoint(model_name, save_path=\"model_experiment\"):\n",
        "  return tf.keras.callbacks.ModelCheckpoint(filepath=os.path.join(save_path,model_name),\n",
        "                                            monitor=\"val_loss\",\n",
        "                                            verbose=0,\n",
        "                                            save_best_only=True)"
      ],
      "execution_count": 75,
      "outputs": []
    },
    {
      "cell_type": "markdown",
      "metadata": {
        "id": "XRI1ut-tzSWT"
      },
      "source": [
        "## Model 1"
      ]
    },
    {
      "cell_type": "code",
      "metadata": {
        "colab": {
          "base_uri": "https://localhost:8080/"
        },
        "id": "DbtY9TmE0CIh",
        "outputId": "8166c46d-4d77-4476-e95d-e56cd1ca9e75"
      },
      "source": [
        "# Dense Model -  Window = 7, Horizon = 1\n",
        "from tensorflow.keras import layers\n",
        "tf.random.set_seed(42)\n",
        "\n",
        "model_1 = tf.keras.Sequential([\n",
        "   layers.Dense(128, activation=\"relu\"),\n",
        "   layers.Dense(HORIZON, activation=\"linear\")                                                          \n",
        "], name = \"model_1_dense\")\n",
        "\n",
        "\n",
        "# Compile\n",
        "model_1.compile(loss=\"mae\",\n",
        "                optimizer=tf.keras.optimizers.Adam(),\n",
        "                metrics=[\"mae\",\"mse\"])\n",
        "# Fit\n",
        "\n",
        "history_model_1 = model_1.fit(x=train_windows, \n",
        "                              y=train_labels,\n",
        "                              epochs=100,\n",
        "                              verbose=1,\n",
        "                              batch_size=128,\n",
        "                              validation_data = (test_windows, test_labels),\n",
        "                              callbacks=[create_model_checkpoint(model_name=model_1.name)])\n"
      ],
      "execution_count": 76,
      "outputs": [
        {
          "output_type": "stream",
          "text": [
            "Epoch 1/100\n",
            "18/18 [==============================] - 1s 9ms/step - loss: 780.3469 - mae: 780.3469 - mse: 2312739.0000 - val_loss: 2279.5830 - val_mae: 2279.5830 - val_mse: 12772096.0000\n",
            "INFO:tensorflow:Assets written to: model_experiment/model_1_dense/assets\n",
            "Epoch 2/100\n",
            "18/18 [==============================] - 0s 3ms/step - loss: 247.6765 - mae: 247.6765 - mse: 285480.9688 - val_loss: 1005.9865 - val_mae: 1005.9865 - val_mse: 3441759.5000\n",
            "INFO:tensorflow:Assets written to: model_experiment/model_1_dense/assets\n",
            "Epoch 3/100\n",
            "18/18 [==============================] - 0s 3ms/step - loss: 188.4107 - mae: 188.4107 - mse: 171890.0469 - val_loss: 923.2859 - val_mae: 923.2859 - val_mse: 2868195.0000\n",
            "INFO:tensorflow:Assets written to: model_experiment/model_1_dense/assets\n",
            "Epoch 4/100\n",
            "18/18 [==============================] - 0s 3ms/step - loss: 169.4334 - mae: 169.4334 - mse: 151699.4219 - val_loss: 900.5932 - val_mae: 900.5932 - val_mse: 2683713.7500\n",
            "INFO:tensorflow:Assets written to: model_experiment/model_1_dense/assets\n",
            "Epoch 5/100\n",
            "18/18 [==============================] - 0s 4ms/step - loss: 165.0900 - mae: 165.0900 - mse: 145490.8750 - val_loss: 895.2405 - val_mae: 895.2405 - val_mse: 2564605.7500\n",
            "INFO:tensorflow:Assets written to: model_experiment/model_1_dense/assets\n",
            "Epoch 6/100\n",
            "18/18 [==============================] - 0s 3ms/step - loss: 158.5206 - mae: 158.5206 - mse: 133816.7969 - val_loss: 855.1867 - val_mae: 855.1867 - val_mse: 2481815.5000\n",
            "INFO:tensorflow:Assets written to: model_experiment/model_1_dense/assets\n",
            "Epoch 7/100\n",
            "18/18 [==============================] - 0s 3ms/step - loss: 151.3568 - mae: 151.3568 - mse: 123446.8047 - val_loss: 840.9291 - val_mae: 840.9291 - val_mse: 2276477.0000\n",
            "INFO:tensorflow:Assets written to: model_experiment/model_1_dense/assets\n",
            "Epoch 8/100\n",
            "18/18 [==============================] - 0s 4ms/step - loss: 145.2560 - mae: 145.2560 - mse: 117694.1719 - val_loss: 803.6005 - val_mae: 803.6005 - val_mse: 2140566.0000\n",
            "INFO:tensorflow:Assets written to: model_experiment/model_1_dense/assets\n",
            "Epoch 9/100\n",
            "18/18 [==============================] - 0s 4ms/step - loss: 144.3546 - mae: 144.3546 - mse: 115269.0859 - val_loss: 799.5591 - val_mae: 799.5591 - val_mse: 2049233.5000\n",
            "INFO:tensorflow:Assets written to: model_experiment/model_1_dense/assets\n",
            "Epoch 10/100\n",
            "18/18 [==============================] - 0s 4ms/step - loss: 141.2944 - mae: 141.2944 - mse: 112394.2031 - val_loss: 763.5059 - val_mae: 763.5059 - val_mse: 1933136.7500\n",
            "INFO:tensorflow:Assets written to: model_experiment/model_1_dense/assets\n",
            "Epoch 11/100\n",
            "18/18 [==============================] - 0s 4ms/step - loss: 135.6591 - mae: 135.6591 - mse: 104117.6016 - val_loss: 771.3524 - val_mae: 771.3524 - val_mse: 1885888.0000\n",
            "Epoch 12/100\n",
            "18/18 [==============================] - 0s 3ms/step - loss: 134.1702 - mae: 134.1702 - mse: 101780.5469 - val_loss: 782.8325 - val_mae: 782.8325 - val_mse: 1881791.3750\n",
            "Epoch 13/100\n",
            "18/18 [==============================] - 0s 4ms/step - loss: 134.6014 - mae: 134.6014 - mse: 102344.3594 - val_loss: 784.4728 - val_mae: 784.4728 - val_mse: 1861070.7500\n",
            "Epoch 14/100\n",
            "18/18 [==============================] - 0s 3ms/step - loss: 130.6125 - mae: 130.6125 - mse: 96224.3672 - val_loss: 751.3469 - val_mae: 751.3469 - val_mse: 1749667.7500\n",
            "INFO:tensorflow:Assets written to: model_experiment/model_1_dense/assets\n",
            "Epoch 15/100\n",
            "18/18 [==============================] - 0s 3ms/step - loss: 128.8352 - mae: 128.8352 - mse: 94306.8516 - val_loss: 696.5836 - val_mae: 696.5836 - val_mse: 1606358.5000\n",
            "INFO:tensorflow:Assets written to: model_experiment/model_1_dense/assets\n",
            "Epoch 16/100\n",
            "18/18 [==============================] - 0s 3ms/step - loss: 124.8667 - mae: 124.8667 - mse: 90498.6172 - val_loss: 707.2988 - val_mae: 707.2988 - val_mse: 1602364.1250\n",
            "Epoch 17/100\n",
            "18/18 [==============================] - 0s 3ms/step - loss: 123.6096 - mae: 123.6096 - mse: 89226.7188 - val_loss: 714.2291 - val_mae: 714.2291 - val_mse: 1601816.3750\n",
            "Epoch 18/100\n",
            "18/18 [==============================] - 0s 3ms/step - loss: 122.3023 - mae: 122.3023 - mse: 87726.4766 - val_loss: 669.1412 - val_mae: 669.1412 - val_mse: 1498631.2500\n",
            "INFO:tensorflow:Assets written to: model_experiment/model_1_dense/assets\n",
            "Epoch 19/100\n",
            "18/18 [==============================] - 0s 3ms/step - loss: 121.4931 - mae: 121.4931 - mse: 86447.8672 - val_loss: 721.5452 - val_mae: 721.5452 - val_mse: 1595832.0000\n",
            "Epoch 20/100\n",
            "18/18 [==============================] - 0s 4ms/step - loss: 119.2384 - mae: 119.2384 - mse: 84250.7422 - val_loss: 658.0786 - val_mae: 658.0786 - val_mse: 1448094.8750\n",
            "INFO:tensorflow:Assets written to: model_experiment/model_1_dense/assets\n",
            "Epoch 21/100\n",
            "18/18 [==============================] - 0s 3ms/step - loss: 121.5293 - mae: 121.5293 - mse: 85926.5391 - val_loss: 638.3386 - val_mae: 638.3386 - val_mse: 1397797.1250\n",
            "INFO:tensorflow:Assets written to: model_experiment/model_1_dense/assets\n",
            "Epoch 22/100\n",
            "18/18 [==============================] - 0s 3ms/step - loss: 119.3422 - mae: 119.3422 - mse: 83495.2109 - val_loss: 678.8881 - val_mae: 678.8881 - val_mse: 1465750.7500\n",
            "Epoch 23/100\n",
            "18/18 [==============================] - 0s 3ms/step - loss: 122.8203 - mae: 122.8203 - mse: 84656.3750 - val_loss: 651.8512 - val_mae: 651.8512 - val_mse: 1401081.2500\n",
            "Epoch 24/100\n",
            "18/18 [==============================] - 0s 3ms/step - loss: 117.0774 - mae: 117.0774 - mse: 81069.2031 - val_loss: 623.5612 - val_mae: 623.5612 - val_mse: 1362704.8750\n",
            "INFO:tensorflow:Assets written to: model_experiment/model_1_dense/assets\n",
            "Epoch 25/100\n",
            "18/18 [==============================] - 0s 3ms/step - loss: 115.1816 - mae: 115.1816 - mse: 79065.0391 - val_loss: 618.5576 - val_mae: 618.5576 - val_mse: 1342634.1250\n",
            "INFO:tensorflow:Assets written to: model_experiment/model_1_dense/assets\n",
            "Epoch 26/100\n",
            "18/18 [==============================] - 0s 3ms/step - loss: 115.0673 - mae: 115.0673 - mse: 78886.6484 - val_loss: 616.4918 - val_mae: 616.4918 - val_mse: 1321327.3750\n",
            "INFO:tensorflow:Assets written to: model_experiment/model_1_dense/assets\n",
            "Epoch 27/100\n",
            "18/18 [==============================] - 0s 3ms/step - loss: 116.6431 - mae: 116.6431 - mse: 79058.1094 - val_loss: 619.0472 - val_mae: 619.0472 - val_mse: 1316206.7500\n",
            "Epoch 28/100\n",
            "18/18 [==============================] - 0s 3ms/step - loss: 114.0328 - mae: 114.0328 - mse: 77953.4609 - val_loss: 610.3879 - val_mae: 610.3879 - val_mse: 1316937.5000\n",
            "INFO:tensorflow:Assets written to: model_experiment/model_1_dense/assets\n",
            "Epoch 29/100\n",
            "18/18 [==============================] - 0s 3ms/step - loss: 113.4892 - mae: 113.4892 - mse: 78513.0938 - val_loss: 617.2403 - val_mae: 617.2403 - val_mse: 1304227.6250\n",
            "Epoch 30/100\n",
            "18/18 [==============================] - 0s 3ms/step - loss: 116.4094 - mae: 116.4094 - mse: 78943.1562 - val_loss: 603.6488 - val_mae: 603.6488 - val_mse: 1283177.6250\n",
            "INFO:tensorflow:Assets written to: model_experiment/model_1_dense/assets\n",
            "Epoch 31/100\n",
            "18/18 [==============================] - 0s 3ms/step - loss: 112.3454 - mae: 112.3454 - mse: 74879.3281 - val_loss: 623.4434 - val_mae: 623.4434 - val_mse: 1311037.0000\n",
            "Epoch 32/100\n",
            "18/18 [==============================] - 0s 3ms/step - loss: 113.2056 - mae: 113.2056 - mse: 77898.5078 - val_loss: 600.0259 - val_mae: 600.0259 - val_mse: 1271945.3750\n",
            "INFO:tensorflow:Assets written to: model_experiment/model_1_dense/assets\n",
            "Epoch 33/100\n",
            "18/18 [==============================] - 0s 3ms/step - loss: 112.9528 - mae: 112.9528 - mse: 76235.4062 - val_loss: 653.0603 - val_mae: 653.0603 - val_mse: 1369885.3750\n",
            "Epoch 34/100\n",
            "18/18 [==============================] - 0s 4ms/step - loss: 112.1156 - mae: 112.1156 - mse: 77267.7656 - val_loss: 594.7914 - val_mae: 594.7914 - val_mse: 1263628.3750\n",
            "INFO:tensorflow:Assets written to: model_experiment/model_1_dense/assets\n",
            "Epoch 35/100\n",
            "18/18 [==============================] - 0s 4ms/step - loss: 110.7447 - mae: 110.7447 - mse: 75067.1719 - val_loss: 592.7402 - val_mae: 592.7402 - val_mse: 1250752.7500\n",
            "INFO:tensorflow:Assets written to: model_experiment/model_1_dense/assets\n",
            "Epoch 36/100\n",
            "18/18 [==============================] - 0s 3ms/step - loss: 116.3300 - mae: 116.3300 - mse: 77425.8203 - val_loss: 592.4696 - val_mae: 592.4696 - val_mse: 1246067.7500\n",
            "INFO:tensorflow:Assets written to: model_experiment/model_1_dense/assets\n",
            "Epoch 37/100\n",
            "18/18 [==============================] - 0s 3ms/step - loss: 110.7676 - mae: 110.7676 - mse: 75596.7188 - val_loss: 618.5347 - val_mae: 618.5347 - val_mse: 1286740.8750\n",
            "Epoch 38/100\n",
            "18/18 [==============================] - 0s 3ms/step - loss: 112.5934 - mae: 112.5934 - mse: 75636.7344 - val_loss: 613.9558 - val_mae: 613.9558 - val_mse: 1306248.2500\n",
            "Epoch 39/100\n",
            "18/18 [==============================] - 0s 3ms/step - loss: 110.1321 - mae: 110.1321 - mse: 74271.7969 - val_loss: 586.6888 - val_mae: 586.6888 - val_mse: 1231217.5000\n",
            "INFO:tensorflow:Assets written to: model_experiment/model_1_dense/assets\n",
            "Epoch 40/100\n",
            "18/18 [==============================] - 0s 4ms/step - loss: 109.4753 - mae: 109.4753 - mse: 73257.0156 - val_loss: 593.9154 - val_mae: 593.9154 - val_mse: 1256532.2500\n",
            "Epoch 41/100\n",
            "18/18 [==============================] - 0s 3ms/step - loss: 110.1777 - mae: 110.1777 - mse: 73581.0391 - val_loss: 586.4464 - val_mae: 586.4464 - val_mse: 1229670.8750\n",
            "INFO:tensorflow:Assets written to: model_experiment/model_1_dense/assets\n",
            "Epoch 42/100\n",
            "18/18 [==============================] - 0s 3ms/step - loss: 111.5192 - mae: 111.5192 - mse: 76049.7734 - val_loss: 649.3647 - val_mae: 649.3647 - val_mse: 1345895.7500\n",
            "Epoch 43/100\n",
            "18/18 [==============================] - 0s 3ms/step - loss: 115.8939 - mae: 115.8939 - mse: 74405.6172 - val_loss: 686.8297 - val_mae: 686.8297 - val_mse: 1486394.0000\n",
            "Epoch 44/100\n",
            "18/18 [==============================] - 0s 4ms/step - loss: 123.0945 - mae: 123.0945 - mse: 83366.2969 - val_loss: 661.1307 - val_mae: 661.1307 - val_mse: 1411200.5000\n",
            "Epoch 45/100\n",
            "18/18 [==============================] - 0s 3ms/step - loss: 113.8169 - mae: 113.8169 - mse: 77100.1719 - val_loss: 626.8173 - val_mae: 626.8173 - val_mse: 1293825.3750\n",
            "Epoch 46/100\n",
            "18/18 [==============================] - 0s 3ms/step - loss: 114.0971 - mae: 114.0971 - mse: 76079.4375 - val_loss: 588.7771 - val_mae: 588.7771 - val_mse: 1238327.6250\n",
            "Epoch 47/100\n",
            "18/18 [==============================] - 0s 3ms/step - loss: 108.9936 - mae: 108.9936 - mse: 73660.3203 - val_loss: 636.0581 - val_mae: 636.0581 - val_mse: 1312959.7500\n",
            "Epoch 48/100\n",
            "18/18 [==============================] - 0s 4ms/step - loss: 109.2967 - mae: 109.2967 - mse: 73079.0703 - val_loss: 604.1584 - val_mae: 604.1584 - val_mse: 1245049.5000\n",
            "Epoch 49/100\n",
            "18/18 [==============================] - 0s 3ms/step - loss: 111.7787 - mae: 111.7787 - mse: 73888.9141 - val_loss: 591.5093 - val_mae: 591.5093 - val_mse: 1222480.5000\n",
            "Epoch 50/100\n",
            "18/18 [==============================] - 0s 3ms/step - loss: 111.7319 - mae: 111.7319 - mse: 73875.1562 - val_loss: 636.4680 - val_mae: 636.4680 - val_mse: 1341627.2500\n",
            "Epoch 51/100\n",
            "18/18 [==============================] - 0s 3ms/step - loss: 110.7498 - mae: 110.7498 - mse: 73830.9062 - val_loss: 589.2877 - val_mae: 589.2877 - val_mse: 1216413.7500\n",
            "Epoch 52/100\n",
            "18/18 [==============================] - 0s 4ms/step - loss: 111.5193 - mae: 111.5193 - mse: 75446.7031 - val_loss: 609.5290 - val_mae: 609.5290 - val_mse: 1277468.7500\n",
            "Epoch 53/100\n",
            "18/18 [==============================] - 0s 3ms/step - loss: 113.9868 - mae: 113.9868 - mse: 75752.9688 - val_loss: 584.7471 - val_mae: 584.7471 - val_mse: 1209497.1250\n",
            "INFO:tensorflow:Assets written to: model_experiment/model_1_dense/assets\n",
            "Epoch 54/100\n",
            "18/18 [==============================] - 0s 3ms/step - loss: 110.1075 - mae: 110.1075 - mse: 72728.5703 - val_loss: 578.7415 - val_mae: 578.7415 - val_mse: 1200865.1250\n",
            "INFO:tensorflow:Assets written to: model_experiment/model_1_dense/assets\n",
            "Epoch 55/100\n",
            "18/18 [==============================] - 0s 3ms/step - loss: 110.6423 - mae: 110.6423 - mse: 75084.4219 - val_loss: 581.5334 - val_mae: 581.5334 - val_mse: 1218269.0000\n",
            "Epoch 56/100\n",
            "18/18 [==============================] - 0s 4ms/step - loss: 107.6537 - mae: 107.6537 - mse: 71568.1250 - val_loss: 759.0192 - val_mae: 759.0192 - val_mse: 1698485.8750\n",
            "Epoch 57/100\n",
            "18/18 [==============================] - 0s 4ms/step - loss: 119.2012 - mae: 119.2012 - mse: 79652.9453 - val_loss: 603.5956 - val_mae: 603.5956 - val_mse: 1262627.2500\n",
            "Epoch 58/100\n",
            "18/18 [==============================] - 0s 3ms/step - loss: 116.4417 - mae: 116.4417 - mse: 75122.9062 - val_loss: 583.7296 - val_mae: 583.7296 - val_mse: 1206719.1250\n",
            "Epoch 59/100\n",
            "18/18 [==============================] - 0s 3ms/step - loss: 109.9014 - mae: 109.9014 - mse: 72680.9531 - val_loss: 592.8417 - val_mae: 592.8417 - val_mse: 1240090.5000\n",
            "Epoch 60/100\n",
            "18/18 [==============================] - 0s 3ms/step - loss: 107.7859 - mae: 107.7859 - mse: 72220.4766 - val_loss: 593.4968 - val_mae: 593.4968 - val_mse: 1220786.1250\n",
            "Epoch 61/100\n",
            "18/18 [==============================] - 0s 3ms/step - loss: 107.6960 - mae: 107.6960 - mse: 72155.8672 - val_loss: 575.5123 - val_mae: 575.5123 - val_mse: 1194018.5000\n",
            "INFO:tensorflow:Assets written to: model_experiment/model_1_dense/assets\n",
            "Epoch 62/100\n",
            "18/18 [==============================] - 0s 3ms/step - loss: 107.1258 - mae: 107.1258 - mse: 70836.3516 - val_loss: 580.2646 - val_mae: 580.2646 - val_mse: 1213138.7500\n",
            "Epoch 63/100\n",
            "18/18 [==============================] - 0s 3ms/step - loss: 111.8451 - mae: 111.8451 - mse: 73612.9609 - val_loss: 654.6141 - val_mae: 654.6141 - val_mse: 1348994.1250\n",
            "Epoch 64/100\n",
            "18/18 [==============================] - 0s 3ms/step - loss: 110.3121 - mae: 110.3121 - mse: 72546.6562 - val_loss: 610.7810 - val_mae: 610.7810 - val_mse: 1251885.1250\n",
            "Epoch 65/100\n",
            "18/18 [==============================] - 0s 3ms/step - loss: 109.7098 - mae: 109.7098 - mse: 72575.0938 - val_loss: 573.9960 - val_mae: 573.9960 - val_mse: 1190387.3750\n",
            "INFO:tensorflow:Assets written to: model_experiment/model_1_dense/assets\n",
            "Epoch 66/100\n",
            "18/18 [==============================] - 0s 3ms/step - loss: 106.8139 - mae: 106.8139 - mse: 70554.2734 - val_loss: 572.9990 - val_mae: 572.9990 - val_mse: 1187547.3750\n",
            "INFO:tensorflow:Assets written to: model_experiment/model_1_dense/assets\n",
            "Epoch 67/100\n",
            "18/18 [==============================] - 0s 4ms/step - loss: 106.1394 - mae: 106.1394 - mse: 70026.4453 - val_loss: 602.1526 - val_mae: 602.1526 - val_mse: 1255794.0000\n",
            "Epoch 68/100\n",
            "18/18 [==============================] - 0s 3ms/step - loss: 112.9245 - mae: 112.9245 - mse: 70779.4219 - val_loss: 687.6378 - val_mae: 687.6378 - val_mse: 1476286.8750\n",
            "Epoch 69/100\n",
            "18/18 [==============================] - 0s 3ms/step - loss: 126.9916 - mae: 126.9916 - mse: 82712.0234 - val_loss: 664.9476 - val_mae: 664.9476 - val_mse: 1413701.2500\n",
            "Epoch 70/100\n",
            "18/18 [==============================] - 0s 3ms/step - loss: 124.8734 - mae: 124.8734 - mse: 83039.0469 - val_loss: 619.6688 - val_mae: 619.6688 - val_mse: 1298641.2500\n",
            "Epoch 71/100\n",
            "18/18 [==============================] - 0s 3ms/step - loss: 109.8522 - mae: 109.8522 - mse: 71643.5000 - val_loss: 582.3636 - val_mae: 582.3636 - val_mse: 1201056.8750\n",
            "Epoch 72/100\n",
            "18/18 [==============================] - 0s 4ms/step - loss: 107.6717 - mae: 107.6717 - mse: 71406.7969 - val_loss: 573.4947 - val_mae: 573.4947 - val_mse: 1192645.7500\n",
            "Epoch 73/100\n",
            "18/18 [==============================] - 0s 4ms/step - loss: 109.6036 - mae: 109.6036 - mse: 71761.6406 - val_loss: 583.9047 - val_mae: 583.9047 - val_mse: 1218967.5000\n",
            "Epoch 74/100\n",
            "18/18 [==============================] - 0s 3ms/step - loss: 107.7049 - mae: 107.7049 - mse: 71542.6250 - val_loss: 572.9933 - val_mae: 572.9933 - val_mse: 1189806.1250\n",
            "INFO:tensorflow:Assets written to: model_experiment/model_1_dense/assets\n",
            "Epoch 75/100\n",
            "18/18 [==============================] - 0s 3ms/step - loss: 108.1179 - mae: 108.1179 - mse: 70535.7891 - val_loss: 583.9371 - val_mae: 583.9371 - val_mse: 1199156.1250\n",
            "Epoch 76/100\n",
            "18/18 [==============================] - 0s 3ms/step - loss: 109.5447 - mae: 109.5447 - mse: 71991.1250 - val_loss: 592.8236 - val_mae: 592.8236 - val_mse: 1234672.1250\n",
            "Epoch 77/100\n",
            "18/18 [==============================] - 0s 4ms/step - loss: 108.3639 - mae: 108.3639 - mse: 70784.8125 - val_loss: 575.4260 - val_mae: 575.4260 - val_mse: 1197659.6250\n",
            "Epoch 78/100\n",
            "18/18 [==============================] - 0s 3ms/step - loss: 108.0055 - mae: 108.0055 - mse: 70093.0234 - val_loss: 574.3941 - val_mae: 574.3941 - val_mse: 1193026.1250\n",
            "Epoch 79/100\n",
            "18/18 [==============================] - 0s 4ms/step - loss: 107.3223 - mae: 107.3223 - mse: 71654.6641 - val_loss: 597.2479 - val_mae: 597.2479 - val_mse: 1242042.0000\n",
            "Epoch 80/100\n",
            "18/18 [==============================] - 0s 3ms/step - loss: 108.1452 - mae: 108.1452 - mse: 71775.7031 - val_loss: 586.6866 - val_mae: 586.6866 - val_mse: 1199789.1250\n",
            "Epoch 81/100\n",
            "18/18 [==============================] - 0s 3ms/step - loss: 106.1153 - mae: 106.1153 - mse: 69995.2266 - val_loss: 575.1765 - val_mae: 575.1765 - val_mse: 1195805.2500\n",
            "Epoch 82/100\n",
            "18/18 [==============================] - 0s 3ms/step - loss: 116.6343 - mae: 116.6343 - mse: 77928.7109 - val_loss: 575.4341 - val_mae: 575.4341 - val_mse: 1192046.7500\n",
            "Epoch 83/100\n",
            "18/18 [==============================] - 0s 3ms/step - loss: 110.8731 - mae: 110.8731 - mse: 72825.0859 - val_loss: 654.5368 - val_mae: 654.5368 - val_mse: 1375391.2500\n",
            "Epoch 84/100\n",
            "18/18 [==============================] - 0s 3ms/step - loss: 111.9106 - mae: 111.9106 - mse: 73183.8359 - val_loss: 572.3373 - val_mae: 572.3373 - val_mse: 1176463.7500\n",
            "INFO:tensorflow:Assets written to: model_experiment/model_1_dense/assets\n",
            "Epoch 85/100\n",
            "18/18 [==============================] - 0s 3ms/step - loss: 106.6153 - mae: 106.6153 - mse: 70752.4297 - val_loss: 574.2833 - val_mae: 574.2833 - val_mse: 1178177.1250\n",
            "Epoch 86/100\n",
            "18/18 [==============================] - 0s 4ms/step - loss: 108.4299 - mae: 108.4299 - mse: 70129.7266 - val_loss: 583.3530 - val_mae: 583.3530 - val_mse: 1191900.3750\n",
            "Epoch 87/100\n",
            "18/18 [==============================] - 0s 3ms/step - loss: 105.7481 - mae: 105.7481 - mse: 68589.9531 - val_loss: 593.0121 - val_mae: 593.0121 - val_mse: 1230071.5000\n",
            "Epoch 88/100\n",
            "18/18 [==============================] - 0s 3ms/step - loss: 107.2604 - mae: 107.2604 - mse: 70897.3281 - val_loss: 571.7658 - val_mae: 571.7658 - val_mse: 1182082.7500\n",
            "INFO:tensorflow:Assets written to: model_experiment/model_1_dense/assets\n",
            "Epoch 89/100\n",
            "18/18 [==============================] - 0s 3ms/step - loss: 106.7823 - mae: 106.7823 - mse: 69118.5469 - val_loss: 568.6369 - val_mae: 568.6369 - val_mse: 1174329.6250\n",
            "INFO:tensorflow:Assets written to: model_experiment/model_1_dense/assets\n",
            "Epoch 90/100\n",
            "18/18 [==============================] - 0s 3ms/step - loss: 105.8682 - mae: 105.8682 - mse: 67370.6953 - val_loss: 602.9690 - val_mae: 602.9690 - val_mse: 1230767.2500\n",
            "Epoch 91/100\n",
            "18/18 [==============================] - 0s 3ms/step - loss: 110.6365 - mae: 110.6365 - mse: 72148.0469 - val_loss: 605.6947 - val_mae: 605.6947 - val_mse: 1257883.8750\n",
            "Epoch 92/100\n",
            "18/18 [==============================] - 0s 4ms/step - loss: 109.4668 - mae: 109.4668 - mse: 72193.7734 - val_loss: 572.4370 - val_mae: 572.4370 - val_mse: 1183753.5000\n",
            "Epoch 93/100\n",
            "18/18 [==============================] - 0s 3ms/step - loss: 113.0063 - mae: 113.0063 - mse: 73147.9766 - val_loss: 617.3000 - val_mae: 617.3000 - val_mse: 1284326.2500\n",
            "Epoch 94/100\n",
            "18/18 [==============================] - 0s 3ms/step - loss: 112.4903 - mae: 112.4903 - mse: 73928.3125 - val_loss: 599.9802 - val_mae: 599.9802 - val_mse: 1225950.3750\n",
            "Epoch 95/100\n",
            "18/18 [==============================] - 0s 3ms/step - loss: 106.0053 - mae: 106.0053 - mse: 68764.8750 - val_loss: 570.6212 - val_mae: 570.6212 - val_mse: 1175398.6250\n",
            "Epoch 96/100\n",
            "18/18 [==============================] - 0s 3ms/step - loss: 109.5910 - mae: 109.5910 - mse: 70458.2500 - val_loss: 676.3395 - val_mae: 676.3395 - val_mse: 1426408.0000\n",
            "Epoch 97/100\n",
            "18/18 [==============================] - 0s 4ms/step - loss: 110.2213 - mae: 110.2213 - mse: 72762.1250 - val_loss: 574.2989 - val_mae: 574.2989 - val_mse: 1177002.6250\n",
            "Epoch 98/100\n",
            "18/18 [==============================] - 0s 3ms/step - loss: 106.7290 - mae: 106.7290 - mse: 69964.2578 - val_loss: 576.7734 - val_mae: 576.7734 - val_mse: 1192501.2500\n",
            "Epoch 99/100\n",
            "18/18 [==============================] - 0s 4ms/step - loss: 106.9889 - mae: 106.9889 - mse: 70740.1953 - val_loss: 568.5498 - val_mae: 568.5498 - val_mse: 1172587.8750\n",
            "INFO:tensorflow:Assets written to: model_experiment/model_1_dense/assets\n",
            "Epoch 100/100\n",
            "18/18 [==============================] - 0s 4ms/step - loss: 117.7622 - mae: 117.7622 - mse: 73195.7734 - val_loss: 662.5320 - val_mae: 662.5320 - val_mse: 1358191.2500\n"
          ],
          "name": "stdout"
        }
      ]
    },
    {
      "cell_type": "code",
      "metadata": {
        "colab": {
          "base_uri": "https://localhost:8080/"
        },
        "id": "bkGAKEhp07jl",
        "outputId": "652e7197-ec9f-46df-bec9-bbdac2e9d30a"
      },
      "source": [
        "model_1.evaluate(test_windows, test_labels)"
      ],
      "execution_count": 77,
      "outputs": [
        {
          "output_type": "stream",
          "text": [
            "18/18 [==============================] - 0s 1ms/step - loss: 662.5319 - mae: 662.5319 - mse: 1358191.0000\n"
          ],
          "name": "stdout"
        },
        {
          "output_type": "execute_result",
          "data": {
            "text/plain": [
              "[662.5319213867188, 662.5319213867188, 1358191.0]"
            ]
          },
          "metadata": {
            "tags": []
          },
          "execution_count": 77
        }
      ]
    },
    {
      "cell_type": "code",
      "metadata": {
        "colab": {
          "base_uri": "https://localhost:8080/"
        },
        "id": "rsrA1o-t33tA",
        "outputId": "71bdd6cf-e790-4f7c-c5c2-d3d090f4947f"
      },
      "source": [
        "model_1 = tf.keras.models.load_model(\"/content/model_experiment/model_1_dense\")\n",
        "\n",
        "model_1.evaluate(test_windows, test_labels)\n"
      ],
      "execution_count": 78,
      "outputs": [
        {
          "output_type": "stream",
          "text": [
            "18/18 [==============================] - 0s 1ms/step - loss: 568.5498 - mae: 568.5498 - mse: 1172588.0000\n"
          ],
          "name": "stdout"
        },
        {
          "output_type": "execute_result",
          "data": {
            "text/plain": [
              "[568.5498046875, 568.5498046875, 1172588.0]"
            ]
          },
          "metadata": {
            "tags": []
          },
          "execution_count": 78
        }
      ]
    },
    {
      "cell_type": "code",
      "metadata": {
        "colab": {
          "base_uri": "https://localhost:8080/"
        },
        "id": "jxhB_2C34SFY",
        "outputId": "06e91fef-b597-4cf6-f0b6-16188e799b1b"
      },
      "source": [
        "naive_results"
      ],
      "execution_count": 79,
      "outputs": [
        {
          "output_type": "execute_result",
          "data": {
            "text/plain": [
              "{'mae': 567.9802,\n",
              " 'mape': 2.516525,\n",
              " 'mase': 0.99957,\n",
              " 'mse': 1147547.0,\n",
              " 'rmse': 1071.2362}"
            ]
          },
          "metadata": {
            "tags": []
          },
          "execution_count": 79
        }
      ]
    },
    {
      "cell_type": "markdown",
      "metadata": {
        "id": "S-AihzVQ4o-w"
      },
      "source": [
        "## Making forecast function"
      ]
    },
    {
      "cell_type": "code",
      "metadata": {
        "id": "DCfkeNgz5E3C"
      },
      "source": [
        "def make_preds(model, input_data):\n",
        "  \"\"\"\n",
        "  Uses model to make prediction on input data\n",
        "  \"\"\"\n",
        "\n",
        "  forecast = model.predict(input_data)\n",
        "  return tf.squeeze(forecast) # return 1D array of predictions"
      ],
      "execution_count": 80,
      "outputs": []
    },
    {
      "cell_type": "code",
      "metadata": {
        "colab": {
          "base_uri": "https://localhost:8080/"
        },
        "id": "0gX1MB1k5XvU",
        "outputId": "1e0dabee-42fd-424a-ae65-9665e7037c08"
      },
      "source": [
        "## Make predictions using model 1 \n",
        "model_1_preds = make_preds(model_1, test_windows)\n",
        "model_1_preds[:10]"
      ],
      "execution_count": 81,
      "outputs": [
        {
          "output_type": "execute_result",
          "data": {
            "text/plain": [
              "<tf.Tensor: shape=(10,), dtype=float32, numpy=\n",
              "array([8874.494, 8789.944, 9040.985, 8804.829, 8741.21 , 8749.836,\n",
              "       8705.866, 8513.171, 8478.416, 8536.302], dtype=float32)>"
            ]
          },
          "metadata": {
            "tags": []
          },
          "execution_count": 81
        }
      ]
    },
    {
      "cell_type": "code",
      "metadata": {
        "colab": {
          "base_uri": "https://localhost:8080/"
        },
        "id": "wQ7gmaCZ6Crd",
        "outputId": "310a84f3-e756-40f5-b2cb-a6c9676b0b05"
      },
      "source": [
        "model_1_results = evaluate_preds(tf.squeeze(test_labels), model_1_preds)\n",
        "model_1_results"
      ],
      "execution_count": 84,
      "outputs": [
        {
          "output_type": "execute_result",
          "data": {
            "text/plain": [
              "{'mae': 568.5498,\n",
              " 'mape': 2.549229,\n",
              " 'mase': 0.99878454,\n",
              " 'mse': 1172587.5,\n",
              " 'rmse': 1082.8608}"
            ]
          },
          "metadata": {
            "tags": []
          },
          "execution_count": 84
        }
      ]
    },
    {
      "cell_type": "code",
      "metadata": {
        "colab": {
          "base_uri": "https://localhost:8080/"
        },
        "id": "Py9Gh7cf6Kdd",
        "outputId": "ea83f276-62e8-4129-b53d-eb0419ae69b5"
      },
      "source": [
        "naive_results"
      ],
      "execution_count": 85,
      "outputs": [
        {
          "output_type": "execute_result",
          "data": {
            "text/plain": [
              "{'mae': 567.9802,\n",
              " 'mape': 2.516525,\n",
              " 'mase': 0.99957,\n",
              " 'mse': 1147547.0,\n",
              " 'rmse': 1071.2362}"
            ]
          },
          "metadata": {
            "tags": []
          },
          "execution_count": 85
        }
      ]
    },
    {
      "cell_type": "code",
      "metadata": {
        "colab": {
          "base_uri": "https://localhost:8080/",
          "height": 445
        },
        "id": "HrL-wJrc7P0L",
        "outputId": "ba956ee8-49cd-40cf-b1e9-66baec3f56bb"
      },
      "source": [
        "offset = 300\n",
        "plt.figure(figsize=(10,7))\n",
        "sns.scatterplot(x = X_test[-len(test_windows):], y = test_labels[:, 0],  label=\"Test Data\")\n",
        "\n",
        "sns.lineplot(x = X_test[-len(test_windows):], y = model_1_preds,  label=\"Model 1 Pred Data\")"
      ],
      "execution_count": 121,
      "outputs": [
        {
          "output_type": "execute_result",
          "data": {
            "text/plain": [
              "<matplotlib.axes._subplots.AxesSubplot at 0x7f073a1a09d0>"
            ]
          },
          "metadata": {
            "tags": []
          },
          "execution_count": 121
        },
        {
          "output_type": "display_data",
          "data": {
            "image/png": "[encoded data removed]",
            "text/plain": [
              "<Figure size 720x504 with 1 Axes>"
            ]
          },
          "metadata": {
            "tags": [],
            "needs_background": "light"
          }
        }
      ]
    },
    {
      "cell_type": "code",
      "metadata": {
        "id": "jpAVs5YkAUJX"
      },
      "source": [
        "\n",
        "# Create a function to plot time series data\n",
        "def plot_time_series(timesteps, values, format='.', start=0, end=None, label=None):\n",
        "  \"\"\"\n",
        "  Plots a timesteps (a series of points in time) against values (a series of values across timesteps).\n",
        "  \n",
        "  Parameters\n",
        "  ---------\n",
        "  timesteps : array of timesteps\n",
        "  values : array of values across time\n",
        "  format : style of plot, default \".\"\n",
        "  start : where to start the plot (setting a value will index from start of timesteps & values)\n",
        "  end : where to end the plot (setting a value will index from end of timesteps & values)\n",
        "  label : label to show on plot of values\n",
        "  \"\"\"\n",
        "  # Plot the series\n",
        "  plt.plot(timesteps[start:end], values[start:end], format, label=label)\n",
        "  plt.xlabel(\"Time\")\n",
        "  plt.ylabel(\"BTC Price\")\n",
        "  if label:\n",
        "    plt.legend(fontsize=14) # make label bigger\n",
        "  plt.grid(True)"
      ],
      "execution_count": 122,
      "outputs": []
    },
    {
      "cell_type": "code",
      "metadata": {
        "colab": {
          "base_uri": "https://localhost:8080/",
          "height": 442
        },
        "id": "sBCMDnccAVVk",
        "outputId": "4196cb2c-1a20-48ac-c231-212073c0c88c"
      },
      "source": [
        "\n",
        "offset = 300\n",
        "plt.figure(figsize=(10, 7))\n",
        "# Account for the test_window offset and index into test_labels to ensure correct plotting\n",
        "plot_time_series(timesteps=X_test[-len(test_windows):], values=test_labels[:, 0], start=offset, label=\"Test_data\")\n",
        "plot_time_series(timesteps=X_test[-len(test_windows):], values=model_1_preds, start=offset, format=\"-\", label=\"model_1_preds\")"
      ],
      "execution_count": 124,
      "outputs": [
        {
          "output_type": "display_data",
          "data": {
            "image/png": "[encoded data removed]",
            "text/plain": [
              "<Figure size 720x504 with 1 Axes>"
            ]
          },
          "metadata": {
            "tags": [],
            "needs_background": "light"
          }
        }
      ]
    },
    {
      "cell_type": "markdown",
      "metadata": {
        "id": "kkL2npuC8Jte"
      },
      "source": [
        "## Model 2"
      ]
    },
    {
      "cell_type": "code",
      "metadata": {
        "colab": {
          "base_uri": "https://localhost:8080/"
        },
        "id": "hp6kvEX-_O_a",
        "outputId": "e14bb280-b633-4794-f25f-d0e69f775d05"
      },
      "source": [
        "## Window size = 30, Horizon = 1\n",
        "\n",
        "HORIZON = 1\n",
        "WINDOW_SIZE = 30 \n",
        "\n",
        "full_windows, full_labels = make_windows(btc_price, window_size=WINDOW_SIZE, horizon=HORIZON)\n",
        "\n",
        "train_windows, test_windows, train_labels, test_labels = make_train_test_splits(full_windows, full_labels)\n",
        "\n",
        "len(train_windows), len(test_windows),  len(train_labels), len(test_labels)\n"
      ],
      "execution_count": 125,
      "outputs": [
        {
          "output_type": "execute_result",
          "data": {
            "text/plain": [
              "(2205, 552, 2205, 552)"
            ]
          },
          "metadata": {
            "tags": []
          },
          "execution_count": 125
        }
      ]
    },
    {
      "cell_type": "code",
      "metadata": {
        "colab": {
          "base_uri": "https://localhost:8080/"
        },
        "id": "AXZgGx9ZAAuY",
        "outputId": "a7085f82-4e86-4459-d1e8-20c9ebbc3939"
      },
      "source": [
        "tf.random.set_seed(42)\n",
        "\n",
        "# Create Model\n",
        "model_2 = tf.keras.Sequential([\n",
        "  layers.Dense(128, activation=\"relu\"),\n",
        "  layers.Dense(HORIZON)\n",
        "], name=\"model_2_dense\")\n",
        "\n",
        "# Compile\n",
        "model_2.compile(loss=\"mae\",\n",
        "                optimizer=tf.keras.optimizers.Adam())\n",
        "\n",
        "# Fit\n",
        "model_2.fit(train_windows,\n",
        "            train_labels,\n",
        "            epochs=100,\n",
        "            batch_size=128,\n",
        "            verbose=0,\n",
        "            validation_data = (test_windows, test_labels),\n",
        "            callbacks=[create_model_checkpoint(model_name=model_2.name)])"
      ],
      "execution_count": 127,
      "outputs": [
        {
          "output_type": "stream",
          "text": [
            "INFO:tensorflow:Assets written to: model_experiment/model_2_dense/assets\n",
            "INFO:tensorflow:Assets written to: model_experiment/model_2_dense/assets\n",
            "INFO:tensorflow:Assets written to: model_experiment/model_2_dense/assets\n",
            "INFO:tensorflow:Assets written to: model_experiment/model_2_dense/assets\n",
            "INFO:tensorflow:Assets written to: model_experiment/model_2_dense/assets\n",
            "INFO:tensorflow:Assets written to: model_experiment/model_2_dense/assets\n",
            "INFO:tensorflow:Assets written to: model_experiment/model_2_dense/assets\n",
            "INFO:tensorflow:Assets written to: model_experiment/model_2_dense/assets\n",
            "INFO:tensorflow:Assets written to: model_experiment/model_2_dense/assets\n",
            "INFO:tensorflow:Assets written to: model_experiment/model_2_dense/assets\n",
            "INFO:tensorflow:Assets written to: model_experiment/model_2_dense/assets\n",
            "INFO:tensorflow:Assets written to: model_experiment/model_2_dense/assets\n",
            "INFO:tensorflow:Assets written to: model_experiment/model_2_dense/assets\n",
            "INFO:tensorflow:Assets written to: model_experiment/model_2_dense/assets\n",
            "INFO:tensorflow:Assets written to: model_experiment/model_2_dense/assets\n",
            "INFO:tensorflow:Assets written to: model_experiment/model_2_dense/assets\n",
            "INFO:tensorflow:Assets written to: model_experiment/model_2_dense/assets\n",
            "INFO:tensorflow:Assets written to: model_experiment/model_2_dense/assets\n",
            "INFO:tensorflow:Assets written to: model_experiment/model_2_dense/assets\n",
            "INFO:tensorflow:Assets written to: model_experiment/model_2_dense/assets\n",
            "INFO:tensorflow:Assets written to: model_experiment/model_2_dense/assets\n",
            "INFO:tensorflow:Assets written to: model_experiment/model_2_dense/assets\n",
            "INFO:tensorflow:Assets written to: model_experiment/model_2_dense/assets\n",
            "INFO:tensorflow:Assets written to: model_experiment/model_2_dense/assets\n",
            "INFO:tensorflow:Assets written to: model_experiment/model_2_dense/assets\n",
            "INFO:tensorflow:Assets written to: model_experiment/model_2_dense/assets\n",
            "INFO:tensorflow:Assets written to: model_experiment/model_2_dense/assets\n",
            "INFO:tensorflow:Assets written to: model_experiment/model_2_dense/assets\n",
            "INFO:tensorflow:Assets written to: model_experiment/model_2_dense/assets\n",
            "INFO:tensorflow:Assets written to: model_experiment/model_2_dense/assets\n"
          ],
          "name": "stdout"
        },
        {
          "output_type": "execute_result",
          "data": {
            "text/plain": [
              "<tensorflow.python.keras.callbacks.History at 0x7f073ac62890>"
            ]
          },
          "metadata": {
            "tags": []
          },
          "execution_count": 127
        }
      ]
    },
    {
      "cell_type": "code",
      "metadata": {
        "colab": {
          "base_uri": "https://localhost:8080/"
        },
        "id": "9VeOFWT1CeFh",
        "outputId": "4cfcc6ee-80a3-475f-eaa4-8af1fb8e85ee"
      },
      "source": [
        "model_2 = tf.keras.models.load_model(\"/content/model_experiment/model_2_dense\")\n",
        "\n",
        "model_2_preds = make_preds(model_2,test_windows )\n",
        "\n",
        "model_2_results = evaluate_preds(tf.squeeze(test_labels), model_2_preds)\n",
        "\n",
        "model_2_results"
      ],
      "execution_count": 129,
      "outputs": [
        {
          "output_type": "execute_result",
          "data": {
            "text/plain": [
              "{'mae': 608.848,\n",
              " 'mape': 2.7680664,\n",
              " 'mase': 1.0642722,\n",
              " 'mse': 1284314.2,\n",
              " 'rmse': 1133.2759}"
            ]
          },
          "metadata": {
            "tags": []
          },
          "execution_count": 129
        }
      ]
    },
    {
      "cell_type": "code",
      "metadata": {
        "id": "K4h1goRCDBFz"
      },
      "source": [
        ""
      ],
      "execution_count": null,
      "outputs": []
    }
  ]
}